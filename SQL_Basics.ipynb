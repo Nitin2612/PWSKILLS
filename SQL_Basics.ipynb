{
  "nbformat": 4,
  "nbformat_minor": 0,
  "metadata": {
    "colab": {
      "provenance": []
    },
    "kernelspec": {
      "name": "python3",
      "display_name": "Python 3"
    },
    "language_info": {
      "name": "python"
    }
  },
  "cells": [
    {
      "cell_type": "markdown",
      "source": [
        "# Q1. Create a table called employees with the following structure?\n",
        "- emp_id (integer, should not be NULL and should be a primary key)Q\n",
        "- emp_name (text, should not be NULL)Q\n",
        "- age (integer, should have a check constraint to ensure the age is at least 18)Q\n",
        "- email (text, should be unique for each employee)Q\n",
        "- salary (decimal, with a default value of 30,000).\n",
        "\n",
        "# Write the SQL query to create the above table with all constraints."
      ],
      "metadata": {
        "id": "bTU95pZGz60O"
      }
    },
    {
      "cell_type": "code",
      "source": [
        "import sqlite3\n",
        "\n",
        "conn = sqlite3.connect(':memory:')\n",
        "cursor = conn.cursor()\n",
        "\n",
        "cursor.execute(\"\"\"\n",
        "CREATE TABLE employees (\n",
        "    emp_id INTEGER PRIMARY KEY NOT NULL,\n",
        "    emp_name TEXT NOT NULL,\n",
        "    age INTEGER NOT NULL CHECK (age >= 18),\n",
        "    email TEXT UNIQUE,\n",
        "    salary DECIMAL DEFAULT 30000\n",
        ");\n",
        "\"\"\")\n",
        "\n",
        "print(\"Table 'employees' created successfully.\")\n",
        "\n",
        "cursor.execute(\"PRAGMA table_info(employees);\")\n",
        "for column in cursor.fetchall():\n",
        "    print(column)\n"
      ],
      "metadata": {
        "colab": {
          "base_uri": "https://localhost:8080/"
        },
        "id": "qbMh1o8b0iFv",
        "outputId": "b4648a81-3263-42c6-f0bb-ce2b53cff9f7"
      },
      "execution_count": null,
      "outputs": [
        {
          "output_type": "stream",
          "name": "stdout",
          "text": [
            "Table 'employees' created successfully.\n",
            "(0, 'emp_id', 'INTEGER', 1, None, 1)\n",
            "(1, 'emp_name', 'TEXT', 1, None, 0)\n",
            "(2, 'age', 'INTEGER', 1, None, 0)\n",
            "(3, 'email', 'TEXT', 0, None, 0)\n",
            "(4, 'salary', 'DECIMAL', 0, '30000', 0)\n"
          ]
        }
      ]
    },
    {
      "cell_type": "markdown",
      "source": [
        "# Q2. Explain the purpose of constraints and how they help maintain data integrity in a database. Provide examples of common types of constraints."
      ],
      "metadata": {
        "id": "3BOcA3Ov06-d"
      }
    },
    {
      "cell_type": "markdown",
      "source": [
        "### Purpose of Constraints in a Database\n",
        "\n",
        "**Constraints** are rules enforced on data in database tables. Their main purpose is to **maintain data integrity**, **ensure accuracy**, and **enforce business logic** by restricting the type of data that can be inserted, updated, or deleted.\n",
        "\n",
        "They help:\n",
        "- Prevent invalid data entry.\n",
        "- Maintain consistency across rows and tables.\n",
        "- Enforce unique identification.\n",
        "- Enforce valid relationships between tables.\n",
        "\n",
        "---\n",
        "\n",
        "###  Common Types of Constraints (with Examples)\n",
        "\n",
        "| Constraint Type | Purpose                                           | Example                                 |\n",
        "|------------------|---------------------------------------------------|------------------------------------------|\n",
        "| **PRIMARY KEY**   | Uniquely identifies each record; not NULL         | `emp_id INTEGER PRIMARY KEY`             |\n",
        "| **NOT NULL**      | Ensures a column cannot have `NULL` values        | `emp_name TEXT NOT NULL`                 |\n",
        "| **UNIQUE**        | Ensures all values in a column are different      | `email TEXT UNIQUE`                      |\n",
        "| **CHECK**         | Ensures values meet a specific condition          | `age INTEGER CHECK(age >= 18)`           |\n",
        "| **DEFAULT**       | Assigns a default value if none is specified      | `salary DECIMAL DEFAULT 30000`           |\n",
        "| **FOREIGN KEY**   | Links to a primary key in another table           | `dept_id INTEGER REFERENCES departments(dept_id)` |\n",
        "\n",
        "---\n",
        "\n",
        "###  Benefits for Data Integrity\n",
        "\n",
        "- Prevents duplicate or orphan records.\n",
        "- Ensures required fields are filled.\n",
        "- Enforces valid data ranges and formats.\n",
        "- Supports reliable relationships between tables."
      ],
      "metadata": {
        "id": "5HohnxW-1gHA"
      }
    },
    {
      "cell_type": "markdown",
      "source": [
        "# Q3. Why would you apply the NOT NULL constraint to a column? Can a primary key contain NULL values? Justify your answer."
      ],
      "metadata": {
        "id": "qHwA6S6l1ltF"
      }
    },
    {
      "cell_type": "markdown",
      "source": [
        "The `NOT NULL` constraint is used to ensure that a column cannot have missing (NULL) values. This is important when the data in that column is essential for the validity or operation of the database.\n",
        "\n",
        "#### Reasons to Use `NOT NULL`:\n",
        "- Ensures important fields are always filled in (e.g., names, dates, IDs).\n",
        "- Prevents errors in queries and calculations due to missing values.\n",
        "- Maintains consistency and reliability of the data.\n",
        "\n",
        "**Example**:\n",
        "```sql\n",
        "emp_name TEXT NOT NULL\n"
      ],
      "metadata": {
        "id": "6-9Ol3mf2IpF"
      }
    },
    {
      "cell_type": "markdown",
      "source": [
        "### Can a Primary Key Contain `NULL` Values?\n",
        "\n",
        "No, a primary key cannot contain `NULL` values.\n",
        "\n",
        "#### Justification:\n",
        "- A primary key uniquely identifies each record in a table.\n",
        "- `NULL` represents an unknown or missing value and is not considered equal to any other value, including another `NULL`.\n",
        "- If `NULL` were allowed in a primary key, it would break the rule of uniqueness required by primary keys.\n",
        "- In SQL, defining a column as a `PRIMARY KEY` automatically applies both `NOT NULL` and `UNIQUE` constraints.\n",
        "\n",
        "#### Example:\n",
        "```sql\n",
        "emp_id INTEGER PRIMARY KEY\n"
      ],
      "metadata": {
        "id": "f1L6o88_2OCN"
      }
    },
    {
      "cell_type": "markdown",
      "source": [
        "# Q4.  Explain the steps and SQL commands used to add or remove constraints on an existing table. Provide an example for both adding and removing a constraint."
      ],
      "metadata": {
        "id": "sSw9sLSS2ZNn"
      }
    },
    {
      "cell_type": "markdown",
      "source": [
        "### Modifying Constraints on an Existing Table in SQL\n",
        "\n",
        "In SQL, you can modify constraints on an existing table using the `ALTER TABLE` statement. However, the exact syntax and support for modifying constraints vary slightly across different database systems (e.g., MySQL, PostgreSQL, SQLite). Below are general steps and examples for **adding** and **removing** constraints.\n",
        "\n",
        "---\n",
        "\n",
        "### 1. Adding a Constraint\n",
        "\n",
        "Use the `ALTER TABLE` command along with `ADD CONSTRAINT` to add a new constraint.\n",
        "\n",
        "#### Syntax:\n",
        "```sql\n",
        "ALTER TABLE table_name\n",
        "ADD CONSTRAINT constraint_name constraint_type (column_name);\n"
      ],
      "metadata": {
        "id": "-G9hC6RV2reF"
      }
    },
    {
      "cell_type": "markdown",
      "source": [
        "### 2. Removing a Constraint\n",
        "Use the ALTER TABLE command along with DROP CONSTRAINT to remove an existing constraint.\n",
        "\n",
        "#### Syntax:\n",
        "```sql\n",
        "\n",
        "ALTER TABLE table_name\n",
        "DROP CONSTRAINT constraint_name;\n"
      ],
      "metadata": {
        "id": "UBTVj6jj3Cfk"
      }
    },
    {
      "cell_type": "code",
      "source": [
        "import sqlite3\n",
        "\n",
        "# Step 1: Connect to SQLite in-memory database\n",
        "conn = sqlite3.connect(':memory:')\n",
        "cursor = conn.cursor()\n",
        "\n",
        "# Step 2: Create the original table without constraints on 'email'\n",
        "cursor.execute(\"\"\"\n",
        "CREATE TABLE employees (\n",
        "    emp_id INTEGER PRIMARY KEY,\n",
        "    emp_name TEXT NOT NULL,\n",
        "    age INTEGER NOT NULL CHECK(age >= 18),\n",
        "    email TEXT,\n",
        "    salary DECIMAL DEFAULT 30000\n",
        ");\n",
        "\"\"\")\n",
        "print(\"Original table created.\")\n",
        "\n",
        "# Step 3: Recreate the table with a UNIQUE constraint on 'email'\n",
        "cursor.execute(\"\"\"\n",
        "CREATE TABLE employees_new (\n",
        "    emp_id INTEGER PRIMARY KEY,\n",
        "    emp_name TEXT NOT NULL,\n",
        "    age INTEGER NOT NULL CHECK(age >= 18),\n",
        "    email TEXT UNIQUE,\n",
        "    salary DECIMAL DEFAULT 30000\n",
        ");\n",
        "\"\"\")\n",
        "\n",
        "# Step 4: Copy data (none in this case, but shown for completeness)\n",
        "cursor.execute(\"INSERT INTO employees_new SELECT * FROM employees;\")\n",
        "\n",
        "# Step 5: Drop old table and rename new one\n",
        "cursor.execute(\"DROP TABLE employees;\")\n",
        "cursor.execute(\"ALTER TABLE employees_new RENAME TO employees;\")\n",
        "print(\"UNIQUE constraint added to 'email' column.\")\n",
        "\n",
        "# Step 6: Drop UNIQUE constraint by recreating table without it\n",
        "cursor.execute(\"\"\"\n",
        "CREATE TABLE employees_temp (\n",
        "    emp_id INTEGER PRIMARY KEY,\n",
        "    emp_name TEXT NOT NULL,\n",
        "    age INTEGER NOT NULL CHECK(age >= 18),\n",
        "    email TEXT,\n",
        "    salary DECIMAL DEFAULT 30000\n",
        ");\n",
        "\"\"\")\n",
        "\n",
        "cursor.execute(\"INSERT INTO employees_temp SELECT * FROM employees;\")\n",
        "cursor.execute(\"DROP TABLE employees;\")\n",
        "cursor.execute(\"ALTER TABLE employees_temp RENAME TO employees;\")\n",
        "print(\"UNIQUE constraint removed from 'email' column.\")\n"
      ],
      "metadata": {
        "colab": {
          "base_uri": "https://localhost:8080/"
        },
        "id": "at27aXGe3bYf",
        "outputId": "98fe59f3-50c7-4bd4-b56b-28d29e47c1c7"
      },
      "execution_count": null,
      "outputs": [
        {
          "output_type": "stream",
          "name": "stdout",
          "text": [
            "Original table created.\n",
            "UNIQUE constraint added to 'email' column.\n",
            "UNIQUE constraint removed from 'email' column.\n"
          ]
        }
      ]
    },
    {
      "cell_type": "markdown",
      "source": [
        "# Q5. Explain the consequences of attempting to insert, update, or delete data in a way that violates constraints. Provide an example of an error message that might occur when violating a constraint."
      ],
      "metadata": {
        "id": "LIJxhGGA3rsh"
      }
    },
    {
      "cell_type": "markdown",
      "source": [
        "### Consequences of Violating Constraints in SQL\n",
        "\n",
        "When you attempt to **insert**, **update**, or **delete** data in a way that violates a constraint, the database system will **reject the operation** and return an **error message**. Constraints are designed to enforce data integrity and prevent invalid data from being stored in the database.\n",
        "\n",
        "---\n",
        "\n",
        "### Types of Violations and Their Consequences\n",
        "\n",
        "#### 1. `NOT NULL` Violation\n",
        "- **Action**: Inserting or updating a column with a `NULL` value where `NOT NULL` is enforced.\n",
        "- **Consequence**: Operation fails.\n",
        "- **Example Error**: NOT NULL constraint failed: employees.emp_name\n",
        "\n",
        "#### 2. `UNIQUE` Violation\n",
        "- **Action**: Inserting or updating a value that duplicates an existing value in a column with a `UNIQUE` constraint.\n",
        "- **Consequence**: Operation fails to prevent duplicate entries.\n",
        "- **Example Error**: UNIQUE constraint failed: employees.email\n",
        "\n",
        "#### 3. `CHECK` Constraint Violation\n",
        "- **Action**: Inserting or updating data that violates the condition defined in a `CHECK` constraint.\n",
        "- **Consequence**: Operation is blocked.\n",
        "- **Example Error**: CHECK constraint failed: employees\n",
        "\n",
        "#### 4. `PRIMARY KEY` Violation\n",
        "- **Action**: Inserting a duplicate or `NULL` value into a `PRIMARY KEY` column.\n",
        "- **Consequence**: Operation fails since primary keys must be unique and not null.\n",
        "- **Example Error**: UNIQUE constraint failed: employees.emp_id\n",
        "\n",
        "#### 5. `FOREIGN KEY` Violation\n",
        "- **Action**: Inserting a value that does not exist in the referenced table or deleting a referenced record.\n",
        "- **Consequence**: Prevents orphan records and maintains referential integrity.\n",
        "- **Example Error**: FOREIGN KEY constraint failed\n"
      ],
      "metadata": {
        "id": "0jW-qoW03xNZ"
      }
    },
    {
      "cell_type": "markdown",
      "source": [
        "# Q6. You created a products table without constraints as follows:\n",
        "\n",
        "CREATE TABLE products (\n",
        "\n",
        "    product_id INT,\n",
        "\n",
        "    product_name VARCHAR(50),\n",
        "\n",
        "    price DECIMAL(10, 2));\n",
        "# Now, you realise that?\n",
        "# - The product_id should be a primary keyQ\n",
        "# - The price should have a default value of 50.00"
      ],
      "metadata": {
        "id": "QQz9iL9BFLKz"
      }
    },
    {
      "cell_type": "code",
      "source": [
        "import sqlite3\n",
        "\n",
        "conn = sqlite3.connect(':memory:')\n",
        "cursor = conn.cursor()\n",
        "\n",
        "cursor.execute(\"\"\"\n",
        "CREATE TABLE products (\n",
        "    product_id INT,\n",
        "    product_name VARCHAR(50),\n",
        "    price DECIMAL(10, 2)\n",
        ");\n",
        "\"\"\")\n",
        "\n",
        "cursor.execute(\"INSERT INTO products (product_id, product_name, price) VALUES (1, 'Notebook', 80.00);\")\n",
        "cursor.execute(\"INSERT INTO products (product_id, product_name) VALUES (2, 'Pen');\")\n",
        "\n",
        "cursor.execute(\"\"\"\n",
        "CREATE TABLE products_new (\n",
        "    product_id INT PRIMARY KEY,\n",
        "    product_name VARCHAR(50),\n",
        "    price DECIMAL(10, 2) DEFAULT 50.00\n",
        ");\n",
        "\"\"\")\n",
        "\n",
        "cursor.execute(\"\"\"\n",
        "INSERT INTO products_new (product_id, product_name, price)\n",
        "SELECT product_id, product_name,\n",
        "       COALESCE(price, 50.00)\n",
        "FROM products;\n",
        "\"\"\")\n",
        "\n",
        "cursor.execute(\"DROP TABLE products;\")\n",
        "cursor.execute(\"ALTER TABLE products_new RENAME TO products;\")\n",
        "\n",
        "cursor.execute(\"PRAGMA table_info(products);\")\n",
        "for row in cursor.fetchall():\n",
        "    print(row)\n",
        "\n",
        "cursor.execute(\"SELECT * FROM products;\")\n",
        "for row in cursor.fetchall():\n",
        "    print(row)\n"
      ],
      "metadata": {
        "colab": {
          "base_uri": "https://localhost:8080/"
        },
        "id": "bOkxoAwJFqMe",
        "outputId": "23ff95d8-ae20-4538-f90e-1ab9e4506b5f"
      },
      "execution_count": null,
      "outputs": [
        {
          "output_type": "stream",
          "name": "stdout",
          "text": [
            "(0, 'product_id', 'INT', 0, None, 1)\n",
            "(1, 'product_name', 'VARCHAR(50)', 0, None, 0)\n",
            "(2, 'price', 'DECIMAL(10, 2)', 0, '50.00', 0)\n",
            "(1, 'Notebook', 80)\n",
            "(2, 'Pen', 50)\n"
          ]
        }
      ]
    },
    {
      "cell_type": "markdown",
      "source": [
        "# Q7. You have two tables:\n",
        "Write a query to fetch the student_name and class_name for each student using an INNER JOIN."
      ],
      "metadata": {
        "id": "pbq7ige4GJGn"
      }
    },
    {
      "cell_type": "code",
      "source": [
        "import sqlite3\n",
        "\n",
        "conn = sqlite3.connect(':memory:')\n",
        "cursor = conn.cursor()\n",
        "\n",
        "cursor.execute(\"\"\"\n",
        "CREATE TABLE Students (\n",
        "    student_id INTEGER,\n",
        "    student_name TEXT,\n",
        "    class_id INTEGER\n",
        ");\n",
        "\"\"\")\n",
        "\n",
        "cursor.execute(\"\"\"\n",
        "CREATE TABLE Classes (\n",
        "    class_id INTEGER,\n",
        "    class_name TEXT\n",
        ");\n",
        "\"\"\")\n",
        "\n",
        "cursor.executemany(\"\"\"\n",
        "INSERT INTO Students (student_id, student_name, class_id)\n",
        "VALUES (?, ?, ?);\n",
        "\"\"\", [\n",
        "    (1, 'Alice', 101),\n",
        "    (2, 'Bob', 102),\n",
        "    (3, 'Charlie', 101)\n",
        "])\n",
        "\n",
        "cursor.executemany(\"\"\"\n",
        "INSERT INTO Classes (class_id, class_name)\n",
        "VALUES (?, ?);\n",
        "\"\"\", [\n",
        "    (101, 'Math'),\n",
        "    (102, 'Science'),\n",
        "    (103, 'History')\n",
        "])\n",
        "\n",
        "cursor.execute(\"\"\"\n",
        "SELECT s.student_name, c.class_name\n",
        "FROM Students s\n",
        "INNER JOIN Classes c\n",
        "ON s.class_id = c.class_id;\n",
        "\"\"\")\n",
        "\n",
        "results = cursor.fetchall()\n",
        "for row in results:\n",
        "    print(row)\n"
      ],
      "metadata": {
        "colab": {
          "base_uri": "https://localhost:8080/"
        },
        "id": "-mB-NnkeHW-X",
        "outputId": "c62610be-9b3b-4a1e-d5e3-83ad2f9a313b"
      },
      "execution_count": null,
      "outputs": [
        {
          "output_type": "stream",
          "name": "stdout",
          "text": [
            "('Alice', 'Math')\n",
            "('Bob', 'Science')\n",
            "('Charlie', 'Math')\n"
          ]
        }
      ]
    },
    {
      "cell_type": "markdown",
      "source": [
        "# Q8. Consider the following three tables:\n",
        "Write a query that shows all order_id, customer_name, and product_name, ensuring that all products are listed even if they are not associated with an order\n",
        "\n",
        "Hint: (use INNER JOIN and LEFT JOIN)5"
      ],
      "metadata": {
        "id": "tQWIyeL2H1wN"
      }
    },
    {
      "cell_type": "code",
      "source": [
        "import sqlite3\n",
        "\n",
        "conn = sqlite3.connect(':memory:')\n",
        "cursor = conn.cursor()\n",
        "\n",
        "cursor.execute(\"\"\"\n",
        "CREATE TABLE Orders (\n",
        "    order_id INTEGER,\n",
        "    order_date TEXT,\n",
        "    customer_id INTEGER\n",
        ");\n",
        "\"\"\")\n",
        "\n",
        "cursor.execute(\"\"\"\n",
        "CREATE TABLE Customers (\n",
        "    customer_id INTEGER,\n",
        "    customer_name TEXT\n",
        ");\n",
        "\"\"\")\n",
        "\n",
        "cursor.execute(\"\"\"\n",
        "CREATE TABLE Products (\n",
        "    product_id INTEGER,\n",
        "    product_name TEXT,\n",
        "    order_id INTEGER\n",
        ");\n",
        "\"\"\")\n",
        "\n",
        "cursor.executemany(\"INSERT INTO Orders VALUES (?, ?, ?);\", [\n",
        "    (1, '2024-01-01', 101),\n",
        "    (2, '2024-01-03', 102)\n",
        "])\n",
        "\n",
        "cursor.executemany(\"INSERT INTO Customers VALUES (?, ?);\", [\n",
        "    (101, 'Alice'),\n",
        "    (102, 'Bob')\n",
        "])\n",
        "\n",
        "cursor.executemany(\"INSERT INTO Products VALUES (?, ?, ?);\", [\n",
        "    (1, 'Laptop', 1),\n",
        "    (2, 'Phone', None)\n",
        "])\n",
        "\n",
        "cursor.execute(\"\"\"\n",
        "SELECT\n",
        "    o.order_id,\n",
        "    c.customer_name,\n",
        "    p.product_name\n",
        "FROM Products p\n",
        "LEFT JOIN Orders o ON p.order_id = o.order_id\n",
        "LEFT JOIN Customers c ON o.customer_id = c.customer_id;\n",
        "\"\"\")\n",
        "\n",
        "for row in cursor.fetchall():\n",
        "    print(row)\n"
      ],
      "metadata": {
        "colab": {
          "base_uri": "https://localhost:8080/"
        },
        "id": "hScB0CKlH9gp",
        "outputId": "74e23e43-9f1e-45a3-e784-e994e2525b60"
      },
      "execution_count": null,
      "outputs": [
        {
          "output_type": "stream",
          "name": "stdout",
          "text": [
            "(1, 'Alice', 'Laptop')\n",
            "(None, None, 'Phone')\n"
          ]
        }
      ]
    },
    {
      "cell_type": "markdown",
      "source": [
        "# Q9. Given the following tables:\n",
        "Write a query to find the total sales amount for each product using an INNER JOIN and the SUM() function."
      ],
      "metadata": {
        "id": "ecSh9CiMJgrM"
      }
    },
    {
      "cell_type": "code",
      "source": [
        "import sqlite3\n",
        "\n",
        "conn = sqlite3.connect(':memory:')\n",
        "cursor = conn.cursor()\n",
        "\n",
        "cursor.execute(\"CREATE TABLE Sales (sale_id INTEGER, product_id INTEGER, amount INTEGER);\")\n",
        "cursor.execute(\"CREATE TABLE Products (product_id INTEGER, product_name TEXT);\")\n",
        "\n",
        "cursor.executemany(\"INSERT INTO Sales VALUES (?, ?, ?);\", [\n",
        "    (1, 101, 500),\n",
        "    (2, 102, 300),\n",
        "    (3, 101, 700)\n",
        "])\n",
        "\n",
        "cursor.executemany(\"INSERT INTO Products VALUES (?, ?);\", [\n",
        "    (101, 'Laptop'),\n",
        "    (102, 'Phone')\n",
        "])\n",
        "\n",
        "cursor.execute(\"\"\"\n",
        "SELECT\n",
        "    p.product_name,\n",
        "    SUM(s.amount) AS total_sales\n",
        "FROM Sales s\n",
        "INNER JOIN Products p ON s.product_id = p.product_id\n",
        "GROUP BY p.product_name;\n",
        "\"\"\")\n",
        "\n",
        "for row in cursor.fetchall():\n",
        "    print(row)\n"
      ],
      "metadata": {
        "colab": {
          "base_uri": "https://localhost:8080/"
        },
        "id": "uu8a6kaUJt_H",
        "outputId": "945e65f1-ec9e-4a43-837e-bbabacd3b60c"
      },
      "execution_count": null,
      "outputs": [
        {
          "output_type": "stream",
          "name": "stdout",
          "text": [
            "('Laptop', 1200)\n",
            "('Phone', 300)\n"
          ]
        }
      ]
    },
    {
      "cell_type": "markdown",
      "source": [
        "# Q10. You are given three tables:\n",
        "Write a query to display the order_id, customer_name, and the quantity of products ordered by each customer using an INNER JOIN between all three tables"
      ],
      "metadata": {
        "id": "O8_5duE8J204"
      }
    },
    {
      "cell_type": "code",
      "source": [
        "import sqlite3\n",
        "\n",
        "conn = sqlite3.connect(':memory:')\n",
        "cursor = conn.cursor()\n",
        "\n",
        "cursor.execute(\"CREATE TABLE Orders (order_id INTEGER, order_date TEXT, customer_id INTEGER);\")\n",
        "cursor.execute(\"CREATE TABLE Customers (customer_id INTEGER, customer_name TEXT);\")\n",
        "cursor.execute(\"CREATE TABLE Order_Details (order_id INTEGER, product_id INTEGER, quantity INTEGER);\")\n",
        "\n",
        "cursor.executemany(\"INSERT INTO Orders VALUES (?, ?, ?);\", [\n",
        "    (1, '2024-01-02', 1),\n",
        "    (2, '2024-01-05', 2)\n",
        "])\n",
        "\n",
        "cursor.executemany(\"INSERT INTO Customers VALUES (?, ?);\", [\n",
        "    (1, 'Alice'),\n",
        "    (2, 'Bob')\n",
        "])\n",
        "\n",
        "cursor.executemany(\"INSERT INTO Order_Details VALUES (?, ?, ?);\", [\n",
        "    (1, 101, 2),\n",
        "    (1, 102, 1),\n",
        "    (2, 101, 3)\n",
        "])\n",
        "\n",
        "cursor.execute(\"\"\"\n",
        "SELECT\n",
        "    o.order_id,\n",
        "    c.customer_name,\n",
        "    od.quantity\n",
        "FROM Orders o\n",
        "INNER JOIN Customers c ON o.customer_id = c.customer_id\n",
        "INNER JOIN Order_Details od ON o.order_id = od.order_id;\n",
        "\"\"\")\n",
        "\n",
        "for row in cursor.fetchall():\n",
        "    print(row)\n"
      ],
      "metadata": {
        "colab": {
          "base_uri": "https://localhost:8080/"
        },
        "id": "b-SWS8O4KPyk",
        "outputId": "cb2f55e9-8db5-4012-c5b8-c8e871552a98"
      },
      "execution_count": null,
      "outputs": [
        {
          "output_type": "stream",
          "name": "stdout",
          "text": [
            "(1, 'Alice', 1)\n",
            "(1, 'Alice', 2)\n",
            "(2, 'Bob', 3)\n"
          ]
        }
      ]
    }
  ]
}