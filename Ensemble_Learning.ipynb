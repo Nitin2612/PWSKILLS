{
  "cells": [
    {
      "cell_type": "markdown",
      "metadata": {
        "id": "Naw_Ep1NLe4H"
      },
      "source": [
        "# Theoretical\n",
        "\n",
        "---\n",
        "\n"
      ]
    },
    {
      "cell_type": "markdown",
      "metadata": {
        "id": "Pt1MyymgLmmD"
      },
      "source": [
        "# Q1. Can we use Bagging for regression problems?"
      ]
    },
    {
      "cell_type": "markdown",
      "metadata": {
        "id": "m1dGIDm9LtRI"
      },
      "source": [
        "Yes, **Bagging (Bootstrap Aggregating)** can be effectively used for **regression problems**.\n",
        "\n",
        "## ✅ Why Bagging Works for Regression:\n",
        "- Bagging involves training multiple models (like Decision Trees) on different random subsets (with replacement) of the dataset.\n",
        "- For **regression**, the predictions of all models are **averaged** to get the final output.\n",
        "- This helps in **reducing variance** without increasing bias, improving the overall model stability.\n",
        "\n",
        "## 🧠 Common Bagging Algorithm for Regression:\n",
        "- `BaggingRegressor` from **scikit-learn**:\n",
        "```python\n",
        "from sklearn.ensemble import BaggingRegressor\n",
        "from sklearn.tree import DecisionTreeRegressor\n",
        "from sklearn.datasets import make_regression\n",
        "from sklearn.model_selection import train_test_split\n",
        "from sklearn.metrics import mean_squared_error\n",
        "\n",
        "# Sample dataset\n",
        "X, y = make_regression(n_samples=1000, n_features=10, noise=0.3, random_state=42)\n",
        "X_train, X_test, y_train, y_test = train_test_split(X, y, test_size=0.2, random_state=42)\n",
        "\n",
        "# Bagging Regressor with Decision Trees\n",
        "model = BaggingRegressor(base_estimator=DecisionTreeRegressor(), n_estimators=10, random_state=42)\n",
        "model.fit(X_train, y_train)\n",
        "\n",
        "# Predictions and Evaluation\n",
        "y_pred = model.predict(X_test)\n",
        "print(\"Mean Squared Error:\", mean_squared_error(y_test, y_pred))\n"
      ]
    },
    {
      "cell_type": "markdown",
      "metadata": {
        "id": "hXbcKelCL7_d"
      },
      "source": [
        "# Q2. What is the difference between multiple model training and single model training?"
      ]
    },
    {
      "cell_type": "markdown",
      "metadata": {
        "id": "CBzTzpEMMBLV"
      },
      "source": [
        "# 🧠 Difference Between Single Model Training and Multiple Model Training\n",
        "\n",
        "Understanding the distinction between training a single model vs. an ensemble of models is crucial in machine learning.\n",
        "\n",
        "---\n",
        "\n",
        "## ✅ Single Model Training\n",
        "- **Definition**: Training one model (e.g., Decision Tree, SVM, Linear Regression) on the entire dataset.\n",
        "- **Workflow**:\n",
        "  - One model → Trained on the full training set.\n",
        "  - One prediction path for any input.\n",
        "- **Pros**:\n",
        "  - Simpler, faster to train.\n",
        "  - Easier to interpret and debug.\n",
        "- **Cons**:\n",
        "  - Prone to **overfitting** or **underfitting**.\n",
        "  - Performance is limited by the capacity of that single model.\n",
        "\n",
        "---\n",
        "\n",
        "## ✅ Multiple Model Training (Ensemble Learning)\n",
        "- **Definition**: Training several models (e.g., Bagging, Boosting, Stacking) and combining their predictions.\n",
        "- **Workflow**:\n",
        "  - Multiple models → Each trained on different parts or aspects of data.\n",
        "  - Predictions are **aggregated** (average, vote, or meta-model).\n",
        "- **Pros**:\n",
        "  - Improves **accuracy**, **generalization**, and **robustness**.\n",
        "  - Reduces variance (Bagging), bias (Boosting), or both (Stacking).\n",
        "- **Cons**:\n",
        "  - More complex, slower to train.\n",
        "  - Harder to interpret (especially black-box ensembles).\n",
        "\n",
        "---\n",
        "\n",
        "## 🔁 Summary Table\n",
        "\n",
        "| Feature                  | Single Model              | Multiple Models (Ensemble)          |\n",
        "|--------------------------|---------------------------|--------------------------------------|\n",
        "| 🔍 Simplicity            | Simple to implement       | More complex setup                  |\n",
        "| 🚀 Speed                 | Fast training/prediction  | Slower due to multiple models       |\n",
        "| 🎯 Accuracy              | May underperform          | Usually more accurate               |\n",
        "| 📉 Overfitting Risk      | Higher (esp. complex models) | Lower (especially with bagging)    |\n",
        "| 🧠 Interpretability      | High                      | Often low                           |\n",
        "\n",
        "---\n",
        "\n",
        "> ✅ **Conclusion**: Use single models for simplicity and quick solutions. Choose multiple models (ensembles) for better accuracy and reliability in complex tasks.\n"
      ]
    },
    {
      "cell_type": "markdown",
      "metadata": {
        "id": "JHnpvsJzMLJY"
      },
      "source": [
        "# Q3. Explain the concept of feature randomness in Random Forest?"
      ]
    },
    {
      "cell_type": "markdown",
      "metadata": {
        "id": "RevrncXCNHGF"
      },
      "source": [
        "# 🌲 Feature Randomness in Random Forest\n",
        "\n",
        "## 🔍 What is Random Forest?\n",
        "Random Forest is an ensemble learning method that builds multiple decision trees and merges their results to improve accuracy and control overfitting.\n",
        "\n",
        "---\n",
        "\n",
        "## 🎲 What is Feature Randomness?\n",
        "\n",
        "**Feature randomness** refers to the **random selection of a subset of features** at each split when building individual decision trees in a Random Forest.\n",
        "\n",
        "---\n",
        "\n",
        "### ✅ Key Concepts:\n",
        "\n",
        "- At each node in a tree, only a **random subset of features** (not all features) is considered for the best split.\n",
        "- This is in contrast to a standard decision tree where **all features** are considered at each split.\n",
        "\n",
        "---\n",
        "\n",
        "## 🔍 Why Use Feature Randomness?\n",
        "\n",
        "| Purpose | Explanation |\n",
        "|--------|-------------|\n",
        "| 🌳 **Tree Diversity** | Different trees look at different features, reducing correlation between them. |\n",
        "| 📉 **Lower Overfitting** | Less reliance on strong predictors helps generalize better. |\n",
        "| 🚀 **Faster Computation** | Only a subset of features is evaluated at each split, reducing training time. |\n",
        "\n",
        "---\n",
        "\n",
        "## 📐 Parameters Controlling Feature Randomness:\n",
        "\n",
        "- **For classification**: `max_features = sqrt(n_features)`\n",
        "- **For regression**: `max_features = n_features / 3`\n",
        "\n",
        "You can set this using `max_features` in `RandomForestClassifier` or `RandomForestRegressor` in `scikit-learn`.\n",
        "\n",
        "```python\n",
        "from sklearn.ensemble import RandomForestClassifier\n",
        "\n",
        "model = RandomForestClassifier(n_estimators=100, max_features='sqrt', random_state=42)\n"
      ]
    },
    {
      "cell_type": "markdown",
      "metadata": {
        "id": "HAmQcTzkNVqH"
      },
      "source": [
        "# Q4. What is OOB (Out-of-Bag) Score?"
      ]
    },
    {
      "cell_type": "markdown",
      "metadata": {
        "id": "Fb2awqmXNcgp"
      },
      "source": [
        "## 🌲 Background:\n",
        "Random Forest uses **Bagging** (Bootstrap Aggregation), where each decision tree is trained on a **random sample with replacement** from the original dataset.\n",
        "\n",
        "---\n",
        "\n",
        "## 🎯 What is OOB (Out-of-Bag) Score?\n",
        "\n",
        "- When sampling with replacement, about **63%** of the training data is used for training each tree.\n",
        "- The **remaining 37%**, called **Out-of-Bag (OOB) samples**, are **not seen** by that tree during training.\n",
        "- These **OOB samples** are used to **validate** the model internally **without needing a separate validation set**.\n",
        "\n",
        "---\n",
        "\n",
        "## ✅ How OOB Score Works:\n",
        "\n",
        "1. For each training instance, find the trees where it was **not included** during sampling.\n",
        "2. Predict the output using only those trees.\n",
        "3. Compare the aggregated prediction to the actual label.\n",
        "4. Compute the overall accuracy (classification) or R² score (regression) → this is the **OOB Score**.\n",
        "\n",
        "---\n",
        "\n",
        "## 🔍 Advantages of OOB Score:\n",
        "- 🧪 **No need for a separate validation set**.\n",
        "- 🧠 Gives a **reliable estimate** of model performance.\n",
        "- 📈 Helps detect **overfitting** early during training.\n",
        "\n",
        "---\n",
        "\n",
        "## 🔧 How to Use OOB Score in Scikit-learn:\n",
        "\n",
        "```python\n",
        "from sklearn.ensemble import RandomForestClassifier\n",
        "\n",
        "model = RandomForestClassifier(n_estimators=100, oob_score=True, random_state=42)\n",
        "model.fit(X_train, y_train)\n",
        "\n",
        "print(\"OOB Score:\", model.oob_score_)\n"
      ]
    },
    {
      "cell_type": "markdown",
      "metadata": {
        "id": "rlrucUchNmM1"
      },
      "source": [
        "# Q5. How can you measure the importance of features in a Random Forest model?"
      ]
    },
    {
      "cell_type": "markdown",
      "metadata": {
        "id": "Qete3Ld3Nt6t"
      },
      "source": [
        "# 🌟 Measuring Feature Importance in a Random Forest Model\n",
        "\n",
        "Random Forests not only make predictions but also help us understand **which features are most important** for those predictions.\n",
        "\n",
        "---\n",
        "\n",
        "## ✅ What is Feature Importance?\n",
        "\n",
        "Feature importance refers to **how useful or valuable each feature** is in building the model. In Random Forests, this is computed using:\n",
        "\n",
        "### 1. **Gini Importance** (a.k.a. Mean Decrease in Impurity - MDI):\n",
        "- Measures the **total decrease in node impurity** (e.g., Gini or MSE) from splitting on a feature, averaged across all trees.\n",
        "- The more a feature is used to split data, the higher its importance.\n",
        "\n",
        "### 2. **Permutation Importance** (Model-Agnostic):\n",
        "- Randomly shuffle each feature and observe the **drop in model performance**.\n",
        "- A **larger drop** means the feature was more important.\n",
        "\n",
        "---\n",
        "\n",
        "## 🔧 How to Get Feature Importances in Scikit-learn:\n",
        "\n",
        "### ▶️ Using `feature_importances_` (Gini-based):\n",
        "\n",
        "```python\n",
        "from sklearn.ensemble import RandomForestClassifier\n",
        "import pandas as pd\n",
        "import matplotlib.pyplot as plt\n",
        "\n",
        "# Train model\n",
        "model = RandomForestClassifier(n_estimators=100, random_state=42)\n",
        "model.fit(X_train, y_train)\n",
        "\n",
        "# Get importances\n",
        "importances = model.feature_importances_\n",
        "features = X_train.columns  # or use range if X is a NumPy array\n",
        "\n",
        "# Plot\n",
        "feature_imp = pd.Series(importances, index=features).sort_values(ascending=False)\n",
        "feature_imp.plot(kind='bar', title='Feature Importance')\n",
        "plt.ylabel('Gini Importance')\n",
        "plt.show()\n"
      ]
    },
    {
      "cell_type": "markdown",
      "metadata": {
        "id": "AFuKI80AOLae"
      },
      "source": [
        "# Q6. Explain the working principle of a Bagging Classifier?"
      ]
    },
    {
      "cell_type": "markdown",
      "metadata": {
        "id": "CXUJk6AQOT80"
      },
      "source": [
        "# 🤖 Working Principle of a Bagging Classifier\n",
        "\n",
        "**Bagging** stands for **Bootstrap Aggregating**. It is an ensemble learning method that aims to improve the stability and accuracy of machine learning algorithms.\n",
        "\n",
        "---\n",
        "\n",
        "## 🔧 How a Bagging Classifier Works\n",
        "\n",
        "### ✅ Step-by-Step Process:\n",
        "\n",
        "1. **Bootstrap Sampling**:\n",
        "   - Create multiple random subsets of the training data **with replacement**.\n",
        "   - Each subset is of the same size as the original dataset (or slightly smaller).\n",
        "\n",
        "2. **Train Base Learners**:\n",
        "   - Train a **separate model** (e.g., Decision Tree) on each bootstrap sample independently.\n",
        "   - These are called **base learners** or **weak learners**.\n",
        "\n",
        "3. **Make Predictions**:\n",
        "   - For **classification** tasks:\n",
        "     - Each model votes for a class.\n",
        "     - Final prediction is made using **majority voting** (most voted class).\n",
        "\n",
        "4. **Aggregate Results**:\n",
        "   - Combine the predictions from all base learners to produce a **more accurate and stable result**.\n",
        "\n",
        "---\n",
        "\n",
        "## 📈 Visual Workflow:\n",
        "\n",
        "\n",
        "---\n",
        "\n",
        "## 🧠 Why Bagging Helps:\n",
        "- 🎯 **Reduces Variance**: By averaging multiple models, it stabilizes predictions.\n",
        "- 🔁 **Less Overfitting**: Especially effective for high-variance models like decision trees.\n",
        "- 📊 **Better Generalization**: Improves accuracy on unseen data.\n",
        "\n",
        "---\n",
        "\n",
        "## 🔍 Example with Scikit-learn:\n",
        "\n",
        "```python\n",
        "from sklearn.ensemble import BaggingClassifier\n",
        "from sklearn.tree import DecisionTreeClassifier\n",
        "from sklearn.datasets import load_iris\n",
        "from sklearn.model_selection import train_test_split\n",
        "from sklearn.metrics import accuracy_score\n",
        "\n",
        "# Load data\n",
        "X, y = load_iris(return_X_y=True)\n",
        "X_train, X_test, y_train, y_test = train_test_split(X, y, test_size=0.3, random_state=42)\n",
        "\n",
        "# Create Bagging Classifier\n",
        "model = BaggingClassifier(base_estimator=DecisionTreeClassifier(), n_estimators=10, random_state=42)\n",
        "model.fit(X_train, y_train)\n",
        "\n",
        "# Evaluate\n",
        "y_pred = model.predict(X_test)\n",
        "print(\"Accuracy:\", accuracy_score(y_test, y_pred))\n"
      ]
    },
    {
      "cell_type": "markdown",
      "metadata": {
        "id": "8YGzczPBOgEW"
      },
      "source": [
        "# Q7. How do you evaluate a Bagging Classifier’s performance?"
      ]
    },
    {
      "cell_type": "markdown",
      "metadata": {
        "id": "c485plxvOnGo"
      },
      "source": [
        "# 📊 Evaluating a Bagging Classifier’s Performance\n",
        "\n",
        "Once you've trained a Bagging Classifier, it's essential to evaluate how well it performs on unseen data. Here's how you can do it:\n",
        "\n",
        "---\n",
        "\n",
        "## ✅ 1. Accuracy Score\n",
        "- Measures the ratio of correct predictions to total predictions.\n",
        "- Best used when classes are balanced.\n",
        "\n",
        "```python\n",
        "from sklearn.metrics import accuracy_score\n",
        "accuracy = accuracy_score(y_test, y_pred)\n",
        "print(\"Accuracy:\", accuracy)\n",
        "\n"
      ]
    },
    {
      "cell_type": "markdown",
      "metadata": {
        "id": "cR5VJXzSPgYi"
      },
      "source": [
        "\n",
        "##2. Confusion Matrix\n",
        "from sklearn.metrics import confusion_matrix\n",
        "\n",
        "cm = confusion_matrix(y_test, y_pred)\n",
        "\n",
        "print(\"Confusion Matrix:\\n\", cm)\n",
        "\n",
        "##3. Classification Report\n",
        "from sklearn.metrics import classification_report\n",
        "\n",
        "print(classification_report(y_test, y_pred))\n",
        "\n",
        "##4. ROC-AUC Score (for Binary Classification)\n",
        "from sklearn.metrics import roc_auc_score\n",
        "\n",
        "roc_score = roc_auc_score(y_test, model.predict_proba(y_test)[:, 1])\n",
        "\n",
        "print(\"ROC-AUC Score:\", roc_score)\n",
        "\n",
        "##5. Cross-Validation\n",
        "from sklearn.model_selection import cross_val_score\n",
        "\n",
        "scores = cross_val_score(model, X, y, cv=5)\n",
        "\n",
        "print(\"Cross-Validation Scores:\", scores)\n",
        "\n",
        "print(\"Mean Accuracy:\", scores.mean())\n"
      ]
    },
    {
      "cell_type": "markdown",
      "metadata": {
        "id": "6E0ceJf5PZaI"
      },
      "source": [
        "# Q8. How does a Bagging Regressor work?"
      ]
    },
    {
      "cell_type": "markdown",
      "metadata": {
        "id": "sS8wwh2HPuvO"
      },
      "source": [
        "\n",
        "**Bagging Regressor** is an ensemble technique that improves the prediction accuracy and stability of regression models by combining the outputs of multiple base regressors.\n",
        "\n",
        "---\n",
        "\n",
        "## ✅ Working Principle of a Bagging Regressor\n",
        "\n",
        "### 1. **Bootstrap Sampling**:\n",
        "- Multiple subsets of the training data are created using **sampling with replacement**.\n",
        "- Each subset may contain duplicate samples and omit some data points.\n",
        "\n",
        "### 2. **Train Base Regressors**:\n",
        "- A **separate regression model** (like Decision Tree Regressor) is trained on each bootstrap sample.\n",
        "- These models are called **base estimators**.\n",
        "\n",
        "### 3. **Make Predictions**:\n",
        "- For regression, each model predicts a **numeric value**.\n",
        "- The final prediction is the **average** of all base model predictions.\n",
        "\n"
      ]
    },
    {
      "cell_type": "markdown",
      "metadata": {
        "id": "ZhBF4aQDQB1G"
      },
      "source": [
        "# Q9. What is the main advantage of ensemble techniques?"
      ]
    },
    {
      "cell_type": "markdown",
      "metadata": {
        "id": "X0nCvT_4QJgg"
      },
      "source": [
        "# 🤖 What is the Main Advantage of Ensemble Techniques?\n",
        "\n",
        "## ✅ Definition:\n",
        "**Ensemble techniques** combine predictions from **multiple models** (called base learners) to produce a **stronger and more accurate final model**.\n",
        "\n",
        "---\n",
        "\n",
        "## 🌟 Main Advantage: **Improved Performance & Generalization**\n",
        "\n",
        "> Ensemble methods **reduce errors** by combining the strengths of multiple models, leading to **higher accuracy, robustness, and stability**.\n",
        "\n",
        "---\n",
        "\n",
        "## 🧠 How Ensemble Improves Performance:\n",
        "\n",
        "| Error Type       | How Ensembles Help                          |\n",
        "|------------------|---------------------------------------------|\n",
        "| 🔄 **Variance**    | Reduced by averaging predictions (e.g., Bagging) |\n",
        "| 🎯 **Bias**        | Reduced by combining weak learners (e.g., Boosting) |\n",
        "| ❌ **Overfitting** | Reduced by using multiple diverse models   |\n",
        "| ❓ **Uncertainty** | Reduced by consensus voting/averaging      |\n",
        "\n",
        "---\n",
        "\n",
        "## 🎯 Other Advantages:\n",
        "\n",
        "- 💪 **Better predictive power** than individual models\n",
        "- 🔍 **More reliable** for complex and noisy datasets\n",
        "- 🔁 **Versatile** – works with classification, regression, and more\n",
        "- 🔒 **Robust to overfitting**, especially when using techniques like Bagging\n",
        "\n",
        "---\n",
        "\n",
        "## 📌 Summary:\n",
        "> The **main advantage** of ensemble techniques is their ability to deliver **more accurate, stable, and generalizable models** by combining the outputs of multiple base learners.\n",
        "\n"
      ]
    },
    {
      "cell_type": "markdown",
      "metadata": {
        "id": "gTUFAr7UQPHY"
      },
      "source": [
        "# Q10.  What is the main challenge of ensemble methods?"
      ]
    },
    {
      "cell_type": "markdown",
      "metadata": {
        "id": "x5-K03fVQh7g"
      },
      "source": [
        "## 📘 Definition:\n",
        "**Ensemble methods** combine multiple models to improve prediction performance. While powerful, they come with several challenges.\n",
        "\n",
        "---\n",
        "\n",
        "## ❗ Main Challenge: **Increased Complexity & Reduced Interpretability**\n",
        "\n",
        "> The biggest drawback of ensemble methods is that they often become **complex and difficult to interpret**, especially when combining many models (e.g., hundreds of trees in a Random Forest).\n",
        "\n",
        "---\n",
        "\n",
        "## 🔍 Explanation:\n",
        "\n",
        "| Challenge                     | Description |\n",
        "|------------------------------|-------------|\n",
        "| 🧠 **Interpretability**       | Hard to understand how the final prediction was made, especially in models like Random Forests or Gradient Boosting. |\n",
        "| ⚙️ **Computational Cost**     | Requires more time and resources to train and predict, especially with large ensembles. |\n",
        "| 🧪 **Debugging Difficulty**   | Hard to diagnose errors or biases due to multiple interacting models. |\n",
        "| 🧩 **Model Management**       | Harder to deploy and maintain in production due to model size and dependencies. |\n",
        "| 🔁 **Overfitting (Boosting)** | While Bagging reduces overfitting, Boosting can **overfit** if not properly tuned. |\n",
        "\n",
        "---\n",
        "\n",
        "## 📌 Summary:\n",
        "\n",
        "> **Main Challenge**: Ensemble methods offer great accuracy, but at the cost of **increased complexity, lower transparency**, and **greater computational demands**.\n",
        "\n",
        "---\n",
        "\n",
        "## 💡 When to Use:\n",
        "- When **accuracy is more important** than interpretability (e.g., competitions, complex problems).\n",
        "- Use simpler models or techniques like **feature importance plots** or **SHAP** to improve understanding.\n",
        "\n"
      ]
    },
    {
      "cell_type": "markdown",
      "metadata": {
        "id": "K9S2AOoOQmp4"
      },
      "source": [
        "# Q11. Explain the key idea behind ensemble techniques?"
      ]
    },
    {
      "cell_type": "markdown",
      "metadata": {
        "id": "Jo2bZdlqQuGb"
      },
      "source": [
        "# 🧠 Key Idea Behind Ensemble Techniques\n",
        "\n",
        "## 🌟 Core Concept:\n",
        "\n",
        "> **Ensemble techniques** combine the predictions of multiple **base models** to create a more **accurate, robust, and stable** overall model.\n",
        "\n",
        "---\n",
        "\n",
        "## ✅ Why It Works:\n",
        "\n",
        "Just like a team outperforms an individual in solving complex problems, a group of weak or diverse models can:\n",
        "- **Correct each other’s errors**\n",
        "- **Reduce overfitting**\n",
        "- **Generalize better** to unseen data\n",
        "\n",
        "---\n",
        "\n",
        "## 🧩 Types of Ensembles:\n",
        "\n",
        "| Technique  | Key Idea                          | Example Algorithms            |\n",
        "|------------|-----------------------------------|-------------------------------|\n",
        "| **Bagging**  | Combine models trained on different random samples | Random Forest                |\n",
        "| **Boosting** | Combine models sequentially to correct previous errors | AdaBoost, Gradient Boosting |\n",
        "| **Stacking** | Combine outputs of multiple models using a meta-model | StackingClassifier           |\n",
        "\n",
        "---\n",
        "\n",
        "## 🔁 Process Overview:\n",
        "\n",
        "1. **Train multiple base models** (can be the same or different algorithms).\n",
        "2. **Aggregate their predictions**:\n",
        "   - Classification → **Majority voting**\n",
        "   - Regression → **Averaging**\n",
        "3. **Output** a final, stronger prediction.\n",
        "\n",
        "---\n",
        "\n",
        "## 🎯 Benefits of Ensemble Techniques:\n",
        "- ✔️ Higher accuracy\n",
        "- ✔️ Reduced variance and bias\n",
        "- ✔️ Improved generalization\n",
        "- ✔️ More stable results\n",
        "\n",
        "---\n",
        "\n",
        "## 📌 Summary:\n",
        "\n",
        "> The **key idea** behind ensemble techniques is to **leverage the power of many models** working together to produce **superior performance** compared to any individual model.\n",
        "\n"
      ]
    },
    {
      "cell_type": "markdown",
      "metadata": {
        "id": "ZR4E4G9eQyAL"
      },
      "source": [
        "# Q12. What is a Random Forest Classifier?"
      ]
    },
    {
      "cell_type": "markdown",
      "metadata": {
        "id": "fdooyLy6Q6CS"
      },
      "source": [
        "# 🌲 What is a Random Forest Classifier?\n",
        "\n",
        "## 🧠 Definition:\n",
        "A **Random Forest Classifier** is an **ensemble learning algorithm** used for **classification tasks**. It builds multiple **decision trees** during training and outputs the **majority vote** of their predictions.\n",
        "\n",
        "---\n",
        "\n",
        "## 🔧 How It Works:\n",
        "\n",
        "1. **Bootstrap Sampling**:\n",
        "   - Random subsets of the data are drawn **with replacement** to train each tree (Bagging).\n",
        "\n",
        "2. **Feature Randomness**:\n",
        "   - At each node split, only a **random subset of features** is considered to build a diverse set of trees.\n",
        "\n",
        "3. **Build Multiple Decision Trees**:\n",
        "   - Each tree is trained independently.\n",
        "\n",
        "4. **Majority Voting**:\n",
        "   - For classification, the final prediction is made by **majority vote** across all trees.\n",
        "\n",
        "---\n",
        "\n",
        "## 🔁 Workflow Diagram:\n",
        "\n",
        "\n",
        "---\n",
        "\n",
        "## ✅ Advantages:\n",
        "\n",
        "- 🌳 Reduces **overfitting** compared to single decision trees\n",
        "- 🧪 Works well even with **missing or noisy data**\n",
        "- 📈 Delivers **high accuracy** and generalization\n",
        "- 🔁 Handles **large datasets** with higher dimensionality\n",
        "\n",
        "---\n",
        "\n",
        "## 🔬 Example Using Scikit-learn:\n",
        "\n",
        "```python\n",
        "from sklearn.ensemble import RandomForestClassifier\n",
        "from sklearn.datasets import load_iris\n",
        "from sklearn.model_selection import train_test_split\n",
        "from sklearn.metrics import accuracy_score\n",
        "\n",
        "# Load dataset\n",
        "X, y = load_iris(return_X_y=True)\n",
        "X_train, X_test, y_train, y_test = train_test_split(X, y, test_size=0.3, random_state=42)\n",
        "\n",
        "# Create Random Forest Classifier\n",
        "model = RandomForestClassifier(n_estimators=100, random_state=42)\n",
        "model.fit(X_train, y_train)\n",
        "\n",
        "# Evaluate\n",
        "y_pred = model.predict(X_test)\n",
        "print(\"Accuracy:\", accuracy_score(y_test, y_pred))\n"
      ]
    },
    {
      "cell_type": "markdown",
      "metadata": {
        "id": "IWqfJe2rRNdB"
      },
      "source": [
        "# Q13. What are the main types of ensemble techniques?"
      ]
    },
    {
      "cell_type": "markdown",
      "metadata": {
        "id": "GtSpj3j8RUYN"
      },
      "source": [
        "# 🧠 Main Types of Ensemble Techniques\n",
        "\n",
        "Ensemble techniques combine multiple models to produce better predictive performance than any individual model alone.\n",
        "\n",
        "---\n",
        "\n",
        "## 🌟 1. **Bagging (Bootstrap Aggregating)**\n",
        "\n",
        "### 🔹 Key Idea:\n",
        "- Train multiple models on **random subsets of data** (with replacement).\n",
        "- Combine their predictions using **majority vote** (classification) or **average** (regression).\n",
        "\n",
        "### 🔹 Goal:\n",
        "- Reduce **variance** and avoid **overfitting**.\n",
        "\n",
        "### 🔹 Examples:\n",
        "- ✅ Random Forest\n",
        "- ✅ BaggingClassifier\n",
        "- ✅ BaggingRegressor\n",
        "\n",
        "---\n",
        "\n",
        "## 🌟 2. **Boosting**\n",
        "\n",
        "### 🔹 Key Idea:\n",
        "- Models are trained **sequentially**.\n",
        "- Each model tries to **correct the errors** made by the previous one.\n",
        "\n",
        "### 🔹 Goal:\n",
        "- Reduce **bias** and improve accuracy.\n",
        "\n",
        "### 🔹 Examples:\n",
        "- ✅ AdaBoost\n",
        "- ✅ Gradient Boosting Machines (GBM)\n",
        "- ✅ XGBoost\n",
        "- ✅ LightGBM\n",
        "- ✅ CatBoost\n",
        "\n",
        "---\n",
        "\n",
        "## 🌟 3. **Stacking (Stacked Generalization)**\n",
        "\n",
        "### 🔹 Key Idea:\n",
        "- Combine **different models** (heterogeneous).\n",
        "- A **meta-model** is trained to learn from the predictions of base models.\n",
        "\n",
        "### 🔹 Goal:\n",
        "- Leverage the strengths of multiple model types.\n",
        "\n",
        "### 🔹 Examples:\n",
        "- ✅ StackingClassifier\n",
        "- ✅ StackingRegressor\n",
        "\n",
        "---\n",
        "\n",
        "## 🌟 4. **Voting**\n",
        "\n",
        "### 🔹 Key Idea:\n",
        "- Combine predictions from **different classifiers**.\n",
        "- Use:\n",
        "  - **Hard Voting**: Majority class wins.\n",
        "  - **Soft Voting**: Average probabilities.\n",
        "\n",
        "### 🔹 Goal:\n",
        "- Simple and effective way to improve accuracy.\n",
        "\n",
        "### 🔹 Examples:\n",
        "- ✅ VotingClassifier (scikit-learn)\n",
        "\n",
        "---\n",
        "\n",
        "## 📌 Summary Table:\n",
        "\n",
        "| Ensemble Type | Base Models        | Combination Method | Key Benefit           |\n",
        "|---------------|--------------------|--------------------|------------------------|\n",
        "| Bagging       | Same (e.g., Trees) | Voting / Averaging | Reduces variance       |\n",
        "| Boosting      | Same               | Sequential updates | Reduces bias           |\n",
        "| Stacking      | Different          | Meta-model         | Combines strengths     |\n",
        "| Voting        | Different / Same   | Voting             | Simple and effective   |\n",
        "\n",
        "---\n",
        "\n",
        "> 📝 **Conclusion**: Different ensemble techniques tackle different problems (bias, variance, model diversity). Choosing the right one depends on your dataset and modeling goals.\n"
      ]
    },
    {
      "cell_type": "markdown",
      "metadata": {
        "id": "NE3DW9IQRawB"
      },
      "source": [
        "# Q14. What is ensemble learning in machine learning?"
      ]
    },
    {
      "cell_type": "markdown",
      "metadata": {
        "id": "QzbZUtA8RiOX"
      },
      "source": [
        "# 🧠 What is Ensemble Learning in Machine Learning?\n",
        "\n",
        "## 📘 Definition:\n",
        "\n",
        "**Ensemble Learning** is a technique in machine learning where **multiple models** (called base learners or weak learners) are **combined** to solve the same problem and improve performance.\n",
        "\n",
        "---\n",
        "\n",
        "## 🌟 Key Idea:\n",
        "\n",
        "> \"The wisdom of the crowd\" — Instead of relying on a single model, ensemble learning uses the **collective intelligence** of many models to make more **accurate, robust, and stable** predictions.\n",
        "\n",
        "---\n",
        "\n",
        "## 🔧 How It Works:\n",
        "\n",
        "1. **Train multiple models** on the same dataset (can be same or different algorithms).\n",
        "2. **Combine their predictions** using a strategy like:\n",
        "   - 🗳️ **Voting** (for classification)\n",
        "   - ➗ **Averaging** (for regression)\n",
        "   - 🤖 **Meta-modeling** (e.g., stacking)\n",
        "\n",
        "---\n",
        "\n",
        "## 🧩 Main Types of Ensemble Learning:\n",
        "\n",
        "| Method      | Description                                | Example Algorithm        |\n",
        "|-------------|--------------------------------------------|--------------------------|\n",
        "| **Bagging** | Models trained on random data subsets      | Random Forest            |\n",
        "| **Boosting**| Models trained sequentially to fix errors  | AdaBoost, XGBoost        |\n",
        "| **Stacking**| Combine models using a meta-model          | StackingClassifier       |\n",
        "| **Voting**  | Use majority vote or average of models     | VotingClassifier         |\n",
        "\n",
        "---\n",
        "\n",
        "## 🎯 Benefits of Ensemble Learning:\n",
        "\n",
        "- ✔️ Improves **accuracy**\n",
        "- ✔️ Reduces **overfitting** (variance)\n",
        "- ✔️ Handles **complex problems** better\n",
        "- ✔️ Works well with **imbalanced data**\n",
        "\n",
        "---\n",
        "\n",
        "## ⚠️ Limitations:\n",
        "\n",
        "- ❌ Increased **computational cost**\n",
        "- ❌ More **complex to interpret and debug**\n",
        "- ❌ May require careful tuning to avoid overfitting (especially Boosting)\n",
        "\n",
        "---\n",
        "\n",
        "## 📌 Summary:\n",
        "\n",
        "> **Ensemble Learning** = Many models → Combined → One strong predictor  \n",
        "It’s like turning a group of average students into a **top-ranking team** by leveraging each one’s strengths.\n",
        "\n"
      ]
    },
    {
      "cell_type": "markdown",
      "metadata": {
        "id": "pSqSNgvARm_-"
      },
      "source": [
        "# Q15. When should we avoid using ensemble methods?"
      ]
    },
    {
      "cell_type": "markdown",
      "metadata": {
        "id": "FqVO69daRvwT"
      },
      "source": [
        "Ensemble methods can be powerful, but they’re **not always the best choice**. There are situations where simpler models may be more appropriate.\n",
        "\n",
        "---\n",
        "\n",
        "## 🚫 Situations to Avoid Ensemble Methods:\n",
        "\n",
        "### 1. **When Interpretability is Crucial**\n",
        "- Ensemble models (e.g., Random Forest, Boosting) are often **black-box**.\n",
        "- ❗ Avoid if the goal is to **explain how decisions are made**, like in healthcare, finance, or legal domains.\n",
        "\n",
        "---\n",
        "\n",
        "### 2. **When You Have Very Little Data**\n",
        "- Ensembles rely on splitting data into multiple subsets.\n",
        "- ❗ With **small datasets**, they can **overfit** or fail to generalize.\n",
        "\n",
        "---\n",
        "\n",
        "### 3. **When Computational Resources Are Limited**\n",
        "- Training multiple models increases:\n",
        "  - 💾 Memory usage\n",
        "  - ⏱️ Training time\n",
        "  - ⚙️ Complexity in deployment\n",
        "- ❗ Not ideal for real-time systems or low-resource environments.\n",
        "\n",
        "---\n",
        "\n",
        "### 4. **When a Simple Model Performs Well**\n",
        "- If a **single model already gives high accuracy**, adding complexity might not help.\n",
        "- ❗ Ensembles may just add overhead with **minimal gain**.\n",
        "\n",
        "---\n",
        "\n",
        "### 5. **When Rapid Prototyping is Needed**\n",
        "- Ensemble models take longer to train and tune.\n",
        "- ❗ Use simpler models (e.g., logistic regression) when you need **quick insights or MVPs**.\n",
        "\n",
        "---\n",
        "\n",
        "### 6. **When You Need High Transparency for Compliance**\n",
        "- Some sectors demand **model traceability** for regulations.\n",
        "- ❗ Use interpretable models (e.g., Decision Trees, Linear Models) instead.\n",
        "\n",
        "---\n",
        "\n",
        "## 📌 Summary Table\n",
        "\n",
        "| Scenario                           | Better Alternative          |\n",
        "|------------------------------------|-----------------------------|\n",
        "| Need for transparency              | Decision Tree, Logistic Regression |\n",
        "| Small dataset                      | Simpler models + regularization  |\n",
        "| Low compute resources              | Lightweight algorithms      |\n",
        "| Already good performance           | Stick with current model    |\n",
        "| Fast results needed                | Single, fast-to-train models |\n",
        "\n",
        "---\n",
        "\n",
        "> ✅ **Conclusion**: Use ensemble methods **wisely**. They're powerful but come with trade-offs in interpretability, speed, and complexity.\n"
      ]
    },
    {
      "cell_type": "markdown",
      "metadata": {
        "id": "P5cnWQIVR2nm"
      },
      "source": [
        "# Q16. How does Bagging help in reducing overfitting?"
      ]
    },
    {
      "cell_type": "markdown",
      "metadata": {
        "id": "o8z5StmgR-L1"
      },
      "source": [
        "# 🎯 How Does Bagging Help in Reducing Overfitting?\n",
        "\n",
        "## 🌱 What is Overfitting?\n",
        "\n",
        "Overfitting occurs when a model learns the **noise and details** in the training data, leading to **poor performance on new, unseen data**.\n",
        "\n",
        "---\n",
        "\n",
        "## 🧠 How Bagging Works:\n",
        "\n",
        "**Bagging (Bootstrap Aggregating)** trains multiple models on **different random subsets** (with replacement) of the original dataset and **averages their predictions** (for regression) or uses **majority voting** (for classification).\n",
        "\n",
        "---\n",
        "\n",
        "## 🔍 How Bagging Reduces Overfitting:\n",
        "\n",
        "### ✅ 1. **Reduces Variance**\n",
        "- High-variance models like decision trees overfit easily.\n",
        "- Bagging averages multiple such models, **smoothing out noise** and reducing variance.\n",
        "\n",
        "### ✅ 2. **Breaks Data Dependency**\n",
        "- Each base model sees a different version of the data.\n",
        "- This prevents the model from **memorizing the full dataset**, thus improving generalization.\n",
        "\n",
        "### ✅ 3. **Prevents Dominance of Noisy Features**\n",
        "- Since not all features/samples are used in every model, **noisy data points** have less overall influence.\n",
        "\n",
        "### ✅ 4. **Leverages Diversity**\n",
        "- Each base model may overfit differently.\n",
        "- Combining their predictions **cancels out individual overfitting behaviors**.\n",
        "\n",
        "---\n"
      ]
    },
    {
      "cell_type": "markdown",
      "metadata": {
        "id": "N2q5Xxf7SJ--"
      },
      "source": [
        "# Q17. Why is Random Forest better than a single Decision Tree?"
      ]
    },
    {
      "cell_type": "markdown",
      "metadata": {
        "id": "NYZzwC9XSRCW"
      },
      "source": [
        "## 🧠 Core Idea:\n",
        "\n",
        "A **Decision Tree** is a powerful but **prone-to-overfitting** model.  \n",
        "A **Random Forest** is an ensemble of many Decision Trees that **work together** to improve performance and reduce weaknesses.\n",
        "\n",
        "---\n",
        "\n",
        "## 🔍 Key Differences & Advantages of Random Forest:\n",
        "\n",
        "| Feature                  | Single Decision Tree              | Random Forest                          |\n",
        "|--------------------------|-----------------------------------|----------------------------------------|\n",
        "| 🎯 **Accuracy**           | Moderate                          | Generally higher due to ensemble effect |\n",
        "| 🔁 **Overfitting**        | High risk                         | Reduced due to averaging                |\n",
        "| 🧠 **Variance**           | High (very sensitive to data)     | Lower (aggregates predictions)         |\n",
        "| 🧪 **Robustness**         | Affected by noise or outliers     | Robust due to multiple trees            |\n",
        "| 🔄 **Stability**          | Unstable with data changes        | More stable predictions                 |\n",
        "| 📊 **Generalization**     | Weaker on unseen data             | Better generalization                   |\n",
        "| 🔍 **Interpretability**   | Easy to visualize and explain     | Harder to interpret                     |\n",
        "\n",
        "---\n",
        "\n",
        "## ✅ Why Random Forest Performs Better:\n",
        "\n",
        "### 1. **Reduces Overfitting**\n",
        "- A single tree may learn noise; Random Forest **averages multiple trees**, reducing this risk.\n",
        "\n",
        "### 2. **Increases Accuracy**\n",
        "- Combining predictions leads to **better accuracy** and **more consistent results**.\n",
        "\n",
        "### 3. **Handles Feature Importance**\n",
        "- Random Forest can **rank features by importance**, aiding in feature selection.\n",
        "\n",
        "### 4. **Performs Internal Validation**\n",
        "- With **Out-of-Bag (OOB)** scoring, Random Forest validates without needing a separate test set.\n",
        "\n",
        "---\n",
        "\n",
        "## 🧪 Example in Code:\n",
        "\n",
        "```python\n",
        "from sklearn.tree import DecisionTreeClassifier\n",
        "from sklearn.ensemble import RandomForestClassifier\n",
        "from sklearn.datasets import load_iris\n",
        "from sklearn.model_selection import train_test_split\n",
        "from sklearn.metrics import accuracy_score\n",
        "\n",
        "# Load data\n",
        "X, y = load_iris(return_X_y=True)\n",
        "X_train, X_test, y_train, y_test = train_test_split(X, y, test_size=0.3, random_state=42)\n",
        "\n",
        "# Decision Tree\n",
        "dt = DecisionTreeClassifier(random_state=42)\n",
        "dt.fit(X_train, y_train)\n",
        "print(\"Decision Tree Accuracy:\", accuracy_score(y_test, dt.predict(X_test)))\n",
        "\n",
        "# Random Forest\n",
        "rf = RandomForestClassifier(n_estimators=100, random_state=42)\n",
        "rf.fit(X_train, y_train)\n",
        "print(\"Random Forest Accuracy:\", accuracy_score(y_test, rf.predict(X_test)))\n"
      ]
    },
    {
      "cell_type": "markdown",
      "metadata": {
        "id": "brthaVjGSaAP"
      },
      "source": [
        "# Q18. What is the role of bootstrap sampling in Bagging?"
      ]
    },
    {
      "cell_type": "markdown",
      "metadata": {
        "id": "GQIk6w_vSliM"
      },
      "source": [
        "## 🧠 Definition:\n",
        "**Bootstrap Sampling** is the technique of generating multiple datasets by randomly sampling **with replacement** from the original dataset.\n",
        "\n",
        "---\n",
        "\n",
        "## 🌟 Role of Bootstrap Sampling in Bagging (Bootstrap Aggregating):\n",
        "\n",
        "### ✅ 1. **Creates Diversity Among Models**\n",
        "- Each model in Bagging is trained on a **different random subset** of the data.\n",
        "- Because sampling is **with replacement**, some data points repeat, and some are left out.\n",
        "- This introduces **variation** in the training sets, leading to **diverse models**.\n",
        "\n",
        "---\n",
        "\n",
        "### ✅ 2. **Reduces Overfitting**\n",
        "- Individual models (e.g., decision trees) may overfit the original data.\n",
        "- Bootstrap sampling reduces this by **training each model on slightly different data**, leading to **less correlated models**.\n",
        "- Aggregating their predictions **smooths out noise**, improving generalization.\n",
        "\n",
        "---\n",
        "\n",
        "### ✅ 3. **Enables Out-of-Bag (OOB) Error Estimation**\n",
        "- On average, each bootstrap sample includes **~63%** of the original data.\n",
        "- The **remaining ~37% (OOB samples)** can be used as a **validation set** to estimate the model’s accuracy without needing a separate test set.\n",
        "\n",
        "---"
      ]
    },
    {
      "cell_type": "markdown",
      "metadata": {
        "id": "2JxSVsxCSwxQ"
      },
      "source": [
        "# Q19. What are some real-world applications of ensemble techniques?"
      ]
    },
    {
      "cell_type": "markdown",
      "metadata": {
        "id": "heBq6StOS3ZK"
      },
      "source": [
        "## 🧠 Definition:\n",
        "**Bootstrap Sampling** is the technique of generating multiple datasets by randomly sampling **with replacement** from the original dataset.\n",
        "\n",
        "---\n",
        "\n",
        "## 🌟 Role of Bootstrap Sampling in Bagging (Bootstrap Aggregating):\n",
        "\n",
        "### ✅ 1. **Creates Diversity Among Models**\n",
        "- Each model in Bagging is trained on a **different random subset** of the data.\n",
        "- Because sampling is **with replacement**, some data points repeat, and some are left out.\n",
        "- This introduces **variation** in the training sets, leading to **diverse models**.\n",
        "\n",
        "---\n",
        "\n",
        "### ✅ 2. **Reduces Overfitting**\n",
        "- Individual models (e.g., decision trees) may overfit the original data.\n",
        "- Bootstrap sampling reduces this by **training each model on slightly different data**, leading to **less correlated models**.\n",
        "- Aggregating their predictions **smooths out noise**, improving generalization.\n",
        "\n",
        "---\n",
        "\n",
        "### ✅ 3. **Enables Out-of-Bag (OOB) Error Estimation**\n",
        "- On average, each bootstrap sample includes **~63%** of the original data.\n",
        "- The **remaining ~37% (OOB samples)** can be used as a **validation set** to estimate the model’s accuracy without needing a separate test set.\n",
        "\n",
        "---\n"
      ]
    },
    {
      "cell_type": "markdown",
      "metadata": {
        "id": "0IJ9N5aZS-Tt"
      },
      "source": [
        "# Q20. What is the difference between Bagging and Boosting?"
      ]
    },
    {
      "cell_type": "markdown",
      "metadata": {
        "id": "HZpzkgM8TDK8"
      },
      "source": [
        "# 🔁 Difference Between Bagging and Boosting\n",
        "\n",
        "**Bagging** and **Boosting** are both ensemble learning techniques, but they differ in how they build and combine models.\n",
        "\n",
        "---\n",
        "\n",
        "## 📊 Comparison Table:\n",
        "\n",
        "| Aspect              | 🧺 Bagging                          | 🚀 Boosting                          |\n",
        "|---------------------|------------------------------------|--------------------------------------|\n",
        "| 🔁 Model Training    | Models trained **in parallel**     | Models trained **sequentially**      |\n",
        "| 🎯 Focus             | Reduces **variance**               | Reduces **bias** and variance        |\n",
        "| 🧪 Sample Strategy   | Uses **bootstrap sampling**        | Reuses full data with re-weighting   |\n",
        "| 🧠 Data Weights      | Equal for all samples              | Adjusted based on previous errors    |\n",
        "| 📈 Combination Rule  | **Averaging (regression)** / **Majority vote (classification)** | **Weighted sum of predictions**      |\n",
        "| 🎲 Model Diversity   | Promotes diversity with different data subsets | Builds on each other’s mistakes      |\n",
        "| 🚫 Overfitting Risk  | Less prone to overfitting          | Can overfit if not regularized       |\n",
        "| ⚡ Speed             | Faster (parallel)                  | Slower (sequential)                  |\n",
        "| 🔍 Example Models    | Random Forest, BaggingClassifier   | AdaBoost, Gradient Boosting, XGBoost |\n",
        "\n",
        "---\n",
        "\n",
        "## 🧺 Bagging (Bootstrap Aggregating)\n",
        "\n",
        "- Creates multiple models using **random subsets of the data (with replacement)**.\n",
        "- Trains them **independently**.\n",
        "- Combines results by **voting** (classification) or **averaging** (regression).\n",
        "\n",
        "```python\n",
        "from sklearn.ensemble import BaggingClassifier\n",
        "model = BaggingClassifier()\n"
      ]
    },
    {
      "cell_type": "markdown",
      "metadata": {
        "id": "Z4Nj0dDlTGX4"
      },
      "source": [
        "# Practical\n",
        "\n",
        "---\n",
        "\n"
      ]
    },
    {
      "cell_type": "markdown",
      "metadata": {
        "id": "ktfFexP9T5OP"
      },
      "source": [
        "# Q21. Train a Bagging Classifier using Decision Trees on a sample dataset and print model accuracy?"
      ]
    },
    {
      "cell_type": "code",
      "execution_count": null,
      "metadata": {
        "colab": {
          "base_uri": "https://localhost:8080/"
        },
        "id": "VygvA6MpWbd1",
        "outputId": "277af112-5188-4779-9bee-94a3178996f3"
      },
      "outputs": [
        {
          "name": "stdout",
          "output_type": "stream",
          "text": [
            "Model Accuracy: 100.00%\n"
          ]
        }
      ],
      "source": [
        "import numpy as np\n",
        "from sklearn import datasets\n",
        "from sklearn.tree import DecisionTreeClassifier\n",
        "from sklearn.ensemble import BaggingClassifier\n",
        "from sklearn.model_selection import train_test_split\n",
        "from sklearn.metrics import accuracy_score\n",
        "\n",
        "iris = datasets.load_iris()\n",
        "X, y = iris.data, iris.target\n",
        "\n",
        "X_train, X_test, y_train, y_test = train_test_split(X, y, test_size=0.3, random_state=42)\n",
        "\n",
        "base_estimator = DecisionTreeClassifier(random_state=42)\n",
        "\n",
        "bagging_clf = BaggingClassifier(estimator=base_estimator, n_estimators=50, random_state=42)\n",
        "\n",
        "bagging_clf.fit(X_train, y_train)\n",
        "\n",
        "y_pred = bagging_clf.predict(X_test)\n",
        "\n",
        "accuracy = accuracy_score(y_test, y_pred)\n",
        "print(\"Model Accuracy: {:.2f}%\".format(accuracy * 100))\n"
      ]
    },
    {
      "cell_type": "markdown",
      "metadata": {
        "id": "yaTmhHZnW3VJ"
      },
      "source": [
        "# Q22. Train a Bagging Regressor using Decision Trees and evaluate using Mean Squared Error (MSE)?"
      ]
    },
    {
      "cell_type": "code",
      "execution_count": null,
      "metadata": {
        "colab": {
          "base_uri": "https://localhost:8080/"
        },
        "id": "Y6QkwRreW96E",
        "outputId": "f897125a-0678-44a7-fe91-ce1535ae326e"
      },
      "outputs": [
        {
          "name": "stdout",
          "output_type": "stream",
          "text": [
            "Mean Squared Error: 2987.0073593984966\n"
          ]
        }
      ],
      "source": [
        "import numpy as np\n",
        "from sklearn.datasets import load_diabetes\n",
        "from sklearn.tree import DecisionTreeRegressor\n",
        "from sklearn.ensemble import BaggingRegressor\n",
        "from sklearn.model_selection import train_test_split\n",
        "from sklearn.metrics import mean_squared_error\n",
        "\n",
        "data = load_diabetes()\n",
        "X, y = data.data, data.target\n",
        "\n",
        "X_train, X_test, y_train, y_test = train_test_split(X, y, test_size=0.3, random_state=42)\n",
        "\n",
        "base_estimator = DecisionTreeRegressor(random_state=42)\n",
        "\n",
        "bagging_reg = BaggingRegressor(estimator=base_estimator, n_estimators=50, random_state=42)\n",
        "\n",
        "bagging_reg.fit(X_train, y_train)\n",
        "\n",
        "y_pred = bagging_reg.predict(X_test)\n",
        "\n",
        "mse = mean_squared_error(y_test, y_pred)\n",
        "print(\"Mean Squared Error:\", mse)\n"
      ]
    },
    {
      "cell_type": "markdown",
      "metadata": {
        "id": "eL_rNrI2XFMI"
      },
      "source": [
        "# Q23. Train a Random Forest Classifier on the Breast Cancer dataset and print feature importance scores?"
      ]
    },
    {
      "cell_type": "code",
      "execution_count": null,
      "metadata": {
        "colab": {
          "base_uri": "https://localhost:8080/"
        },
        "id": "Ugr1YH_lXK0z",
        "outputId": "aef71edd-9115-4918-e472-9511bf479afd"
      },
      "outputs": [
        {
          "name": "stdout",
          "output_type": "stream",
          "text": [
            "                    Feature  Importance\n",
            "7       mean concave points    0.141934\n",
            "27     worst concave points    0.127136\n",
            "23               worst area    0.118217\n",
            "6            mean concavity    0.080557\n",
            "20             worst radius    0.077975\n",
            "22          worst perimeter    0.074292\n",
            "2            mean perimeter    0.060092\n",
            "3                 mean area    0.053810\n",
            "26          worst concavity    0.041080\n",
            "0               mean radius    0.032312\n",
            "13               area error    0.029538\n",
            "21            worst texture    0.018786\n",
            "25        worst compactness    0.017539\n",
            "10             radius error    0.016435\n",
            "28           worst symmetry    0.012929\n",
            "12          perimeter error    0.011770\n",
            "24         worst smoothness    0.011769\n",
            "1              mean texture    0.011064\n",
            "5          mean compactness    0.009216\n",
            "19  fractal dimension error    0.007135\n",
            "29  worst fractal dimension    0.006924\n",
            "4           mean smoothness    0.006223\n",
            "14         smoothness error    0.005881\n",
            "16          concavity error    0.005816\n",
            "15        compactness error    0.004596\n",
            "18           symmetry error    0.004001\n",
            "17     concave points error    0.003382\n",
            "8             mean symmetry    0.003278\n",
            "11            texture error    0.003172\n",
            "9    mean fractal dimension    0.003140\n"
          ]
        }
      ],
      "source": [
        "import numpy as np\n",
        "import pandas as pd\n",
        "from sklearn.datasets import load_breast_cancer\n",
        "from sklearn.model_selection import train_test_split\n",
        "from sklearn.ensemble import RandomForestClassifier\n",
        "\n",
        "data = load_breast_cancer()\n",
        "X, y = data.data, data.target\n",
        "\n",
        "X_train, X_test, y_train, y_test = train_test_split(X, y, test_size=0.3, random_state=42)\n",
        "\n",
        "clf = RandomForestClassifier(random_state=42)\n",
        "clf.fit(X_train, y_train)\n",
        "\n",
        "importances = clf.feature_importances_\n",
        "importance_df = pd.DataFrame({'Feature': data.feature_names, 'Importance': importances})\n",
        "print(importance_df.sort_values(by='Importance', ascending=False))\n"
      ]
    },
    {
      "cell_type": "markdown",
      "metadata": {
        "id": "ArsX-ph4XW94"
      },
      "source": [
        "# Q24. Train a Random Forest Regressor and compare its performance with a single Decision Tree?"
      ]
    },
    {
      "cell_type": "code",
      "execution_count": null,
      "metadata": {
        "colab": {
          "base_uri": "https://localhost:8080/"
        },
        "id": "qWc6i41yXsZT",
        "outputId": "44855269-235d-4fb1-c1cf-5f8d7a9c35a0"
      },
      "outputs": [
        {
          "name": "stdout",
          "output_type": "stream",
          "text": [
            "Decision Tree Regressor Performance:\n",
            "  Mean Squared Error: 5697.79\n",
            "  R2 Score: -0.06\n",
            "\n",
            "Random Forest Regressor Performance:\n",
            "  Mean Squared Error: 2859.64\n",
            "  R2 Score: 0.47\n"
          ]
        }
      ],
      "source": [
        "import numpy as np\n",
        "from sklearn.datasets import load_diabetes\n",
        "from sklearn.model_selection import train_test_split\n",
        "from sklearn.tree import DecisionTreeRegressor\n",
        "from sklearn.ensemble import RandomForestRegressor\n",
        "from sklearn.metrics import mean_squared_error, r2_score\n",
        "\n",
        "# Load the diabetes dataset\n",
        "data = load_diabetes()\n",
        "X, y = data.data, data.target\n",
        "\n",
        "# Split the data into training (70%) and testing (30%) sets\n",
        "X_train, X_test, y_train, y_test = train_test_split(X, y, test_size=0.3, random_state=42)\n",
        "\n",
        "# Train a Decision Tree Regressor\n",
        "dt_reg = DecisionTreeRegressor(random_state=42)\n",
        "dt_reg.fit(X_train, y_train)\n",
        "y_pred_dt = dt_reg.predict(X_test)\n",
        "\n",
        "# Train a Random Forest Regressor (using 100 trees)\n",
        "rf_reg = RandomForestRegressor(n_estimators=100, random_state=42)\n",
        "rf_reg.fit(X_train, y_train)\n",
        "y_pred_rf = rf_reg.predict(X_test)\n",
        "\n",
        "# Evaluate performance using Mean Squared Error and R2 Score\n",
        "dt_mse = mean_squared_error(y_test, y_pred_dt)\n",
        "dt_r2 = r2_score(y_test, y_pred_dt)\n",
        "rf_mse = mean_squared_error(y_test, y_pred_rf)\n",
        "rf_r2 = r2_score(y_test, y_pred_rf)\n",
        "\n",
        "print(\"Decision Tree Regressor Performance:\")\n",
        "print(\"  Mean Squared Error: {:.2f}\".format(dt_mse))\n",
        "print(\"  R2 Score: {:.2f}\".format(dt_r2))\n",
        "\n",
        "print(\"\\nRandom Forest Regressor Performance:\")\n",
        "print(\"  Mean Squared Error: {:.2f}\".format(rf_mse))\n",
        "print(\"  R2 Score: {:.2f}\".format(rf_r2))\n"
      ]
    },
    {
      "cell_type": "markdown",
      "metadata": {
        "id": "OhJFlqwVXlqy"
      },
      "source": [
        "# Q25. Compute the Out-of-Bag (OOB) Score for a Random Forest Classifier?"
      ]
    },
    {
      "cell_type": "code",
      "execution_count": null,
      "metadata": {
        "colab": {
          "base_uri": "https://localhost:8080/"
        },
        "id": "u7s_YNE4X1J7",
        "outputId": "c5641ea2-ad8f-48a0-8d5d-fd72ca72b49a"
      },
      "outputs": [
        {
          "name": "stdout",
          "output_type": "stream",
          "text": [
            "Out-of-Bag Score: 0.9533333333333334\n"
          ]
        }
      ],
      "source": [
        "import numpy as np\n",
        "from sklearn.datasets import load_iris\n",
        "from sklearn.ensemble import RandomForestClassifier\n",
        "\n",
        "data = load_iris()\n",
        "X, y = data.data, data.target\n",
        "\n",
        "clf = RandomForestClassifier(oob_score=True, random_state=42, n_estimators=100)\n",
        "clf.fit(X, y)\n",
        "\n",
        "print(\"Out-of-Bag Score:\", clf.oob_score_)\n"
      ]
    },
    {
      "cell_type": "markdown",
      "metadata": {
        "id": "ks6yCkUGX5Xc"
      },
      "source": [
        "# Q26. Train a Bagging Classifier using SVM as a base estimator and print accuracy?"
      ]
    },
    {
      "cell_type": "code",
      "execution_count": null,
      "metadata": {
        "colab": {
          "base_uri": "https://localhost:8080/"
        },
        "id": "vJDzfkfUX9_R",
        "outputId": "e0a3fa8b-afa0-4f60-b069-42c3af9206ac"
      },
      "outputs": [
        {
          "name": "stdout",
          "output_type": "stream",
          "text": [
            "Accuracy: 1.0\n"
          ]
        }
      ],
      "source": [
        "import numpy as np\n",
        "from sklearn.datasets import load_iris\n",
        "from sklearn.svm import SVC\n",
        "from sklearn.ensemble import BaggingClassifier\n",
        "from sklearn.model_selection import train_test_split\n",
        "from sklearn.metrics import accuracy_score\n",
        "\n",
        "data = load_iris()\n",
        "X, y = data.data, data.target\n",
        "\n",
        "X_train, X_test, y_train, y_test = train_test_split(X, y, test_size=0.3, random_state=42)\n",
        "\n",
        "base_estimator = SVC()\n",
        "clf = BaggingClassifier(estimator=base_estimator, n_estimators=10, random_state=42)\n",
        "clf.fit(X_train, y_train)\n",
        "\n",
        "y_pred = clf.predict(X_test)\n",
        "accuracy = accuracy_score(y_test, y_pred)\n",
        "print(\"Accuracy:\", accuracy)\n"
      ]
    },
    {
      "cell_type": "markdown",
      "metadata": {
        "id": "skS9wt-DYGWb"
      },
      "source": [
        "# Q27. Train a Random Forest Classifier with different numbers of trees and compare accuracy?"
      ]
    },
    {
      "cell_type": "code",
      "execution_count": null,
      "metadata": {
        "colab": {
          "base_uri": "https://localhost:8080/"
        },
        "id": "ilhaygH-YN5p",
        "outputId": "2386d0f1-baaf-43b7-bbeb-c79e17491a99"
      },
      "outputs": [
        {
          "name": "stdout",
          "output_type": "stream",
          "text": [
            "Number of trees: 10 -> Accuracy: 1.0000\n",
            "Number of trees: 50 -> Accuracy: 1.0000\n",
            "Number of trees: 100 -> Accuracy: 1.0000\n",
            "Number of trees: 200 -> Accuracy: 1.0000\n",
            "\n",
            "Comparison of model accuracies for different numbers of trees:\n",
            "10 trees: 1.0000\n",
            "50 trees: 1.0000\n",
            "100 trees: 1.0000\n",
            "200 trees: 1.0000\n"
          ]
        }
      ],
      "source": [
        "import numpy as np\n",
        "from sklearn.datasets import load_iris\n",
        "from sklearn.ensemble import RandomForestClassifier\n",
        "from sklearn.model_selection import train_test_split\n",
        "from sklearn.metrics import accuracy_score\n",
        "\n",
        "data = load_iris()\n",
        "X, y = data.data, data.target\n",
        "\n",
        "X_train, X_test, y_train, y_test = train_test_split(X, y, test_size=0.3, random_state=42)\n",
        "\n",
        "n_estimators_list = [10, 50, 100, 200]\n",
        "accuracy_results = {}\n",
        "\n",
        "for n in n_estimators_list:\n",
        "    clf = RandomForestClassifier(n_estimators=n, random_state=42)\n",
        "    clf.fit(X_train, y_train)\n",
        "    y_pred = clf.predict(X_test)\n",
        "    accuracy = accuracy_score(y_test, y_pred)\n",
        "    accuracy_results[n] = accuracy\n",
        "    print(f\"Number of trees: {n} -> Accuracy: {accuracy:.4f}\")\n",
        "\n",
        "print(\"\\nComparison of model accuracies for different numbers of trees:\")\n",
        "for n, acc in sorted(accuracy_results.items()):\n",
        "    print(f\"{n} trees: {acc:.4f}\")\n"
      ]
    },
    {
      "cell_type": "markdown",
      "metadata": {
        "id": "j54Hnp59YRj5"
      },
      "source": [
        "# Q28. Train a Bagging Classifier using Logistic Regression as a base estimator and print AUC score?"
      ]
    },
    {
      "cell_type": "code",
      "execution_count": null,
      "metadata": {
        "colab": {
          "base_uri": "https://localhost:8080/"
        },
        "id": "wPiWgaezYXT2",
        "outputId": "bfff8c29-27ee-4a32-a7c2-19bff76c491f"
      },
      "outputs": [
        {
          "name": "stdout",
          "output_type": "stream",
          "text": [
            "AUC Score: 0.9975014697236919\n"
          ]
        }
      ],
      "source": [
        "import numpy as np\n",
        "from sklearn.datasets import load_breast_cancer\n",
        "from sklearn.linear_model import LogisticRegression\n",
        "from sklearn.ensemble import BaggingClassifier\n",
        "from sklearn.model_selection import train_test_split\n",
        "from sklearn.metrics import roc_auc_score\n",
        "from sklearn.pipeline import make_pipeline\n",
        "from sklearn.preprocessing import StandardScaler\n",
        "\n",
        "data = load_breast_cancer()\n",
        "X, y = data.data, data.target\n",
        "\n",
        "X_train, X_test, y_train, y_test = train_test_split(X, y, test_size=0.3, random_state=42)\n",
        "\n",
        "base_estimator = make_pipeline(StandardScaler(),\n",
        "                               LogisticRegression(max_iter=1000, solver='lbfgs', random_state=42))\n",
        "\n",
        "clf = BaggingClassifier(estimator=base_estimator, n_estimators=10, random_state=42)\n",
        "clf.fit(X_train, y_train)\n",
        "\n",
        "y_proba = clf.predict_proba(X_test)[:, 1]\n",
        "auc_score = roc_auc_score(y_test, y_proba)\n",
        "print(\"AUC Score:\", auc_score)\n"
      ]
    },
    {
      "cell_type": "markdown",
      "metadata": {
        "id": "WCnzRfdxY2o9"
      },
      "source": [
        "# Q29. Train a Random Forest Regressor and analyze feature importance scores?"
      ]
    },
    {
      "cell_type": "code",
      "execution_count": null,
      "metadata": {
        "colab": {
          "base_uri": "https://localhost:8080/"
        },
        "id": "eVl4HI_sY8aE",
        "outputId": "d9d72b62-a454-43f9-b548-0dcb64f6a8ed"
      },
      "outputs": [
        {
          "name": "stdout",
          "output_type": "stream",
          "text": [
            "Mean Squared Error: 2859.641982706767\n",
            "\n",
            "Feature Importance Scores:\n",
            "  Feature  Importance\n",
            "2     bmi    0.400000\n",
            "8      s5    0.166602\n",
            "3      bp    0.104839\n",
            "9      s6    0.071358\n",
            "6      s3    0.061730\n",
            "0     age    0.058633\n",
            "4      s1    0.049191\n",
            "5      s2    0.047138\n",
            "7      s4    0.029427\n",
            "1     sex    0.011082\n"
          ]
        }
      ],
      "source": [
        "import numpy as np\n",
        "import pandas as pd\n",
        "from sklearn.datasets import load_diabetes\n",
        "from sklearn.ensemble import RandomForestRegressor\n",
        "from sklearn.model_selection import train_test_split\n",
        "from sklearn.metrics import mean_squared_error\n",
        "\n",
        "# Load the diabetes dataset\n",
        "data = load_diabetes()\n",
        "X, y = data.data, data.target\n",
        "feature_names = data.feature_names\n",
        "\n",
        "# Split the dataset into training and testing sets\n",
        "X_train, X_test, y_train, y_test = train_test_split(X, y, test_size=0.3, random_state=42)\n",
        "\n",
        "# Train the Random Forest Regressor\n",
        "rf_reg = RandomForestRegressor(n_estimators=100, random_state=42)\n",
        "rf_reg.fit(X_train, y_train)\n",
        "\n",
        "# Predict and compute Mean Squared Error for additional context\n",
        "y_pred = rf_reg.predict(X_test)\n",
        "mse = mean_squared_error(y_test, y_pred)\n",
        "print(\"Mean Squared Error:\", mse)\n",
        "\n",
        "# Analyze feature importance scores\n",
        "importances = rf_reg.feature_importances_\n",
        "importance_df = pd.DataFrame({'Feature': feature_names, 'Importance': importances})\n",
        "importance_df = importance_df.sort_values(by='Importance', ascending=False)\n",
        "\n",
        "print(\"\\nFeature Importance Scores:\")\n",
        "print(importance_df)\n"
      ]
    },
    {
      "cell_type": "markdown",
      "metadata": {
        "id": "9ot9P0sdZJ3C"
      },
      "source": [
        "# Q30. Train an ensemble model using both Bagging and Random Forest and compare accuracy?"
      ]
    },
    {
      "cell_type": "code",
      "execution_count": null,
      "metadata": {
        "colab": {
          "base_uri": "https://localhost:8080/"
        },
        "id": "kl0_GKH8ZURd",
        "outputId": "65c8f56e-5d07-4d18-efc1-197f8ed8f107"
      },
      "outputs": [
        {
          "name": "stdout",
          "output_type": "stream",
          "text": [
            "Bagging Classifier Accuracy: 1.0000\n",
            "Random Forest Classifier Accuracy: 1.0000\n"
          ]
        }
      ],
      "source": [
        "import numpy as np\n",
        "from sklearn.datasets import load_iris\n",
        "from sklearn.tree import DecisionTreeClassifier\n",
        "from sklearn.ensemble import BaggingClassifier, RandomForestClassifier\n",
        "from sklearn.model_selection import train_test_split\n",
        "from sklearn.metrics import accuracy_score\n",
        "\n",
        "data = load_iris()\n",
        "X, y = data.data, data.target\n",
        "\n",
        "X_train, X_test, y_train, y_test = train_test_split(X, y, test_size=0.3, random_state=42)\n",
        "\n",
        "# Bagging Classifier using Decision Tree as the base estimator\n",
        "bagging_clf = BaggingClassifier(estimator=DecisionTreeClassifier(random_state=42), n_estimators=50, random_state=42)\n",
        "bagging_clf.fit(X_train, y_train)\n",
        "bagging_accuracy = accuracy_score(y_test, bagging_clf.predict(X_test))\n",
        "\n",
        "# Random Forest Classifier with 50 trees\n",
        "rf_clf = RandomForestClassifier(n_estimators=50, random_state=42)\n",
        "rf_clf.fit(X_train, y_train)\n",
        "rf_accuracy = accuracy_score(y_test, rf_clf.predict(X_test))\n",
        "\n",
        "print(\"Bagging Classifier Accuracy: {:.4f}\".format(bagging_accuracy))\n",
        "print(\"Random Forest Classifier Accuracy: {:.4f}\".format(rf_accuracy))\n"
      ]
    },
    {
      "cell_type": "markdown",
      "metadata": {
        "id": "pKCUPgI5ZmDf"
      },
      "source": [
        "# Q31. Train a Random Forest Classifier and tune hyperparameters using GridSearchCV?"
      ]
    },
    {
      "cell_type": "code",
      "execution_count": null,
      "metadata": {
        "colab": {
          "background_save": true
        },
        "id": "-34DOZMOZs6Y",
        "outputId": "1ab7d76a-ee9a-4629-e85a-392e6f490b10"
      },
      "outputs": [
        {
          "name": "stdout",
          "output_type": "stream",
          "text": [
            "Best Hyperparameters: {'max_depth': None, 'min_samples_leaf': 1, 'min_samples_split': 2, 'n_estimators': 100}\n",
            "Best Cross-Validation Accuracy: 0.9429\n",
            "Test Accuracy: 1.0000\n"
          ]
        }
      ],
      "source": [
        "import numpy as np\n",
        "from sklearn.datasets import load_iris\n",
        "from sklearn.ensemble import RandomForestClassifier\n",
        "from sklearn.model_selection import train_test_split, GridSearchCV\n",
        "from sklearn.metrics import accuracy_score\n",
        "\n",
        "data = load_iris()\n",
        "X, y = data.data, data.target\n",
        "\n",
        "X_train, X_test, y_train, y_test = train_test_split(X, y, test_size=0.3, random_state=42)\n",
        "\n",
        "param_grid = {\n",
        "    'n_estimators': [50, 100, 150],\n",
        "    'max_depth': [None, 10, 20, 30],\n",
        "    'min_samples_split': [2, 5, 10],\n",
        "    'min_samples_leaf': [1, 2, 4]\n",
        "}\n",
        "\n",
        "rf_clf = RandomForestClassifier(random_state=42)\n",
        "grid_search = GridSearchCV(estimator=rf_clf, param_grid=param_grid, cv=5, n_jobs=-1, scoring='accuracy')\n",
        "grid_search.fit(X_train, y_train)\n",
        "\n",
        "print(\"Best Hyperparameters:\", grid_search.best_params_)\n",
        "print(\"Best Cross-Validation Accuracy: {:.4f}\".format(grid_search.best_score_))\n",
        "\n",
        "best_model = grid_search.best_estimator_\n",
        "y_pred = best_model.predict(X_test)\n",
        "test_accuracy = accuracy_score(y_test, y_pred)\n",
        "print(\"Test Accuracy: {:.4f}\".format(test_accuracy))\n"
      ]
    },
    {
      "cell_type": "markdown",
      "source": [
        "# Q32. Train a Bagging Regressor with different numbers of base estimators and compare performance?"
      ],
      "metadata": {
        "id": "DRrx9d-YdmHs"
      }
    },
    {
      "cell_type": "code",
      "source": [
        "import numpy as np\n",
        "from sklearn.datasets import load_diabetes\n",
        "from sklearn.ensemble import BaggingRegressor\n",
        "from sklearn.tree import DecisionTreeRegressor\n",
        "from sklearn.model_selection import train_test_split\n",
        "from sklearn.metrics import mean_squared_error\n",
        "\n",
        "# Load the diabetes dataset\n",
        "data = load_diabetes()\n",
        "X, y = data.data, data.target\n",
        "\n",
        "# Split the data into training and testing sets (70% train, 30% test)\n",
        "X_train, X_test, y_train, y_test = train_test_split(X, y, test_size=0.3, random_state=42)\n",
        "\n",
        "# List of different numbers of base estimators to test\n",
        "n_estimators_list = [10, 50, 100, 200]\n",
        "results = {}\n",
        "\n",
        "# Train a Bagging Regressor for each value of n_estimators and compute the MSE\n",
        "for n in n_estimators_list:\n",
        "    bagging_reg = BaggingRegressor(\n",
        "        estimator=DecisionTreeRegressor(random_state=42),\n",
        "        n_estimators=n,\n",
        "        random_state=42\n",
        "    )\n",
        "    bagging_reg.fit(X_train, y_train)\n",
        "    y_pred = bagging_reg.predict(X_test)\n",
        "    mse = mean_squared_error(y_test, y_pred)\n",
        "    results[n] = mse\n",
        "    print(f\"n_estimators = {n}  -->  MSE: {mse:.4f}\")\n",
        "\n",
        "print(\"\\nPerformance Comparison:\")\n",
        "for n, mse in results.items():\n",
        "    print(f\"Base Estimators: {n}, Mean Squared Error: {mse:.4f}\")\n"
      ],
      "metadata": {
        "colab": {
          "base_uri": "https://localhost:8080/"
        },
        "id": "tEFKfRQ3dqrZ",
        "outputId": "507f949f-b5d3-44b9-d296-518c46f5ca95"
      },
      "execution_count": 20,
      "outputs": [
        {
          "output_type": "stream",
          "name": "stdout",
          "text": [
            "n_estimators = 10  -->  MSE: 3237.5265\n",
            "n_estimators = 50  -->  MSE: 2987.0074\n",
            "n_estimators = 100  -->  MSE: 2908.8062\n",
            "n_estimators = 200  -->  MSE: 2854.8817\n",
            "\n",
            "Performance Comparison:\n",
            "Base Estimators: 10, Mean Squared Error: 3237.5265\n",
            "Base Estimators: 50, Mean Squared Error: 2987.0074\n",
            "Base Estimators: 100, Mean Squared Error: 2908.8062\n",
            "Base Estimators: 200, Mean Squared Error: 2854.8817\n"
          ]
        }
      ]
    },
    {
      "cell_type": "markdown",
      "source": [
        "# Q33. Train a Random Forest Classifier and analyze misclassified samples?"
      ],
      "metadata": {
        "id": "NKncXpfBdyTV"
      }
    },
    {
      "cell_type": "code",
      "source": [
        "import numpy as np\n",
        "import pandas as pd\n",
        "from sklearn.datasets import load_iris\n",
        "from sklearn.ensemble import RandomForestClassifier\n",
        "from sklearn.model_selection import train_test_split\n",
        "from sklearn.metrics import accuracy_score, confusion_matrix, classification_report\n",
        "\n",
        "# Load the Iris dataset\n",
        "data = load_iris()\n",
        "X, y = data.data, data.target\n",
        "\n",
        "# Split the dataset into training and testing sets\n",
        "X_train, X_test, y_train, y_test = train_test_split(X, y, test_size=0.3, random_state=42)\n",
        "\n",
        "# Train a Random Forest Classifier\n",
        "rf_clf = RandomForestClassifier(n_estimators=100, random_state=42)\n",
        "rf_clf.fit(X_train, y_train)\n",
        "\n",
        "# Predict labels for the test set\n",
        "y_pred = rf_clf.predict(X_test)\n",
        "\n",
        "# Evaluate model accuracy and print confusion matrix and classification report\n",
        "accuracy = accuracy_score(y_test, y_pred)\n",
        "print(\"Accuracy:\", accuracy)\n",
        "print(\"\\nConfusion Matrix:\\n\", confusion_matrix(y_test, y_pred))\n",
        "print(\"\\nClassification Report:\\n\", classification_report(y_test, y_pred))\n",
        "\n",
        "# Identify misclassified samples\n",
        "misclassified_mask = (y_test != y_pred)\n",
        "misclassified_indices = np.where(misclassified_mask)[0]\n",
        "print(\"\\nTotal Misclassified Samples:\", misclassified_mask.sum())\n",
        "\n",
        "# If there are any misclassified samples, display their details\n",
        "if misclassified_indices.size > 0:\n",
        "    X_test_df = pd.DataFrame(X_test, columns=data.feature_names)\n",
        "    misclassified_samples = X_test_df.iloc[misclassified_indices].copy()\n",
        "    misclassified_samples[\"Actual\"] = y_test[misclassified_indices]\n",
        "    misclassified_samples[\"Predicted\"] = y_pred[misclassified_indices]\n",
        "    print(\"\\nMisclassified Samples:\")\n",
        "    print(misclassified_samples)\n"
      ],
      "metadata": {
        "colab": {
          "base_uri": "https://localhost:8080/"
        },
        "id": "2psWarZsd0br",
        "outputId": "4bec7c35-8a69-4a35-94dd-b591ba6573ac"
      },
      "execution_count": 21,
      "outputs": [
        {
          "output_type": "stream",
          "name": "stdout",
          "text": [
            "Accuracy: 1.0\n",
            "\n",
            "Confusion Matrix:\n",
            " [[19  0  0]\n",
            " [ 0 13  0]\n",
            " [ 0  0 13]]\n",
            "\n",
            "Classification Report:\n",
            "               precision    recall  f1-score   support\n",
            "\n",
            "           0       1.00      1.00      1.00        19\n",
            "           1       1.00      1.00      1.00        13\n",
            "           2       1.00      1.00      1.00        13\n",
            "\n",
            "    accuracy                           1.00        45\n",
            "   macro avg       1.00      1.00      1.00        45\n",
            "weighted avg       1.00      1.00      1.00        45\n",
            "\n",
            "\n",
            "Total Misclassified Samples: 0\n"
          ]
        }
      ]
    },
    {
      "cell_type": "markdown",
      "source": [
        "# Q34. Train a Bagging Classifier and compare its performance with a single Decision Tree Classifier?"
      ],
      "metadata": {
        "id": "ypGTj7a3d8NE"
      }
    },
    {
      "cell_type": "code",
      "source": [
        "import numpy as np\n",
        "from sklearn.datasets import load_iris\n",
        "from sklearn.tree import DecisionTreeClassifier\n",
        "from sklearn.ensemble import BaggingClassifier\n",
        "from sklearn.model_selection import train_test_split\n",
        "from sklearn.metrics import accuracy_score\n",
        "\n",
        "# Load the Iris dataset\n",
        "data = load_iris()\n",
        "X, y = data.data, data.target\n",
        "\n",
        "# Split the dataset into training (70%) and testing (30%) sets\n",
        "X_train, X_test, y_train, y_test = train_test_split(X, y, test_size=0.3, random_state=42)\n",
        "\n",
        "# Train a single Decision Tree Classifier\n",
        "dt_clf = DecisionTreeClassifier(random_state=42)\n",
        "dt_clf.fit(X_train, y_train)\n",
        "y_pred_dt = dt_clf.predict(X_test)\n",
        "accuracy_dt = accuracy_score(y_test, y_pred_dt)\n",
        "\n",
        "# Train a Bagging Classifier using Decision Tree as the base estimator\n",
        "bagging_clf = BaggingClassifier(estimator=DecisionTreeClassifier(random_state=42), n_estimators=50, random_state=42)\n",
        "bagging_clf.fit(X_train, y_train)\n",
        "y_pred_bag = bagging_clf.predict(X_test)\n",
        "accuracy_bag = accuracy_score(y_test, y_pred_bag)\n",
        "\n",
        "print(\"Decision Tree Classifier Accuracy: {:.4f}\".format(accuracy_dt))\n",
        "print(\"Bagging Classifier Accuracy: {:.4f}\".format(accuracy_bag))\n"
      ],
      "metadata": {
        "colab": {
          "base_uri": "https://localhost:8080/"
        },
        "id": "2XZE2yDfeCVh",
        "outputId": "b0df7977-38a6-4501-e322-a42df6c0bd8a"
      },
      "execution_count": 22,
      "outputs": [
        {
          "output_type": "stream",
          "name": "stdout",
          "text": [
            "Decision Tree Classifier Accuracy: 1.0000\n",
            "Bagging Classifier Accuracy: 1.0000\n"
          ]
        }
      ]
    },
    {
      "cell_type": "markdown",
      "source": [
        "# Q35. Train a Random Forest Classifier and visualize the confusion matrix?"
      ],
      "metadata": {
        "id": "e6_GuivbeJFC"
      }
    },
    {
      "cell_type": "code",
      "source": [
        "import numpy as np\n",
        "import matplotlib.pyplot as plt\n",
        "import seaborn as sns\n",
        "from sklearn.datasets import load_iris\n",
        "from sklearn.ensemble import RandomForestClassifier\n",
        "from sklearn.metrics import confusion_matrix\n",
        "from sklearn.model_selection import train_test_split\n",
        "\n",
        "data = load_iris()\n",
        "X, y = data.data, data.target\n",
        "\n",
        "X_train, X_test, y_train, y_test = train_test_split(X, y, test_size=0.3, random_state=42)\n",
        "\n",
        "clf = RandomForestClassifier(n_estimators=100, random_state=42)\n",
        "clf.fit(X_train, y_train)\n",
        "y_pred = clf.predict(X_test)\n",
        "\n",
        "cm = confusion_matrix(y_test, y_pred)\n",
        "\n",
        "plt.figure(figsize=(6, 4))\n",
        "sns.heatmap(cm, annot=True, fmt=\"d\", cmap=\"Blues\",\n",
        "            xticklabels=data.target_names, yticklabels=data.target_names)\n",
        "plt.xlabel(\"Predicted\")\n",
        "plt.ylabel(\"Actual\")\n",
        "plt.title(\"Confusion Matrix\")\n",
        "plt.show()\n"
      ],
      "metadata": {
        "colab": {
          "base_uri": "https://localhost:8080/",
          "height": 410
        },
        "id": "2VWg_MWYeNNP",
        "outputId": "62df10ae-5195-4e17-8d19-f4c60a8a9433"
      },
      "execution_count": 23,
      "outputs": [
        {
          "output_type": "display_data",
          "data": {
            "text/plain": [
              "<Figure size 600x400 with 2 Axes>"
            ],
            "image/png": "[encoded data removed]"
          },
          "metadata": {}
        }
      ]
    },
    {
      "cell_type": "markdown",
      "source": [
        "# Q36. Train a Stacking Classifier using Decision Trees, SVM, and Logistic Regression, and compare accuracy?"
      ],
      "metadata": {
        "id": "Rycg07XPeVqc"
      }
    },
    {
      "cell_type": "code",
      "source": [
        "import numpy as np\n",
        "from sklearn.datasets import load_iris\n",
        "from sklearn.model_selection import train_test_split\n",
        "from sklearn.metrics import accuracy_score\n",
        "from sklearn.tree import DecisionTreeClassifier\n",
        "from sklearn.svm import SVC\n",
        "from sklearn.linear_model import LogisticRegression\n",
        "from sklearn.ensemble import StackingClassifier\n",
        "\n",
        "# Load the Iris dataset\n",
        "data = load_iris()\n",
        "X, y = data.data, data.target\n",
        "\n",
        "# Split the data (70% train, 30% test)\n",
        "X_train, X_test, y_train, y_test = train_test_split(X, y, test_size=0.3, random_state=42)\n",
        "\n",
        "# Define base estimators\n",
        "estimators = [\n",
        "    ('dt', DecisionTreeClassifier(random_state=42)),\n",
        "    ('svm', SVC(probability=True, random_state=42)),\n",
        "    ('lr', LogisticRegression(max_iter=1000, random_state=42))\n",
        "]\n",
        "\n",
        "# Create the Stacking Classifier with Logistic Regression as the final estimator\n",
        "stack_clf = StackingClassifier(estimators=estimators, final_estimator=LogisticRegression(max_iter=1000, random_state=42))\n",
        "stack_clf.fit(X_train, y_train)\n",
        "y_pred_stack = stack_clf.predict(X_test)\n",
        "accuracy_stack = accuracy_score(y_test, y_pred_stack)\n",
        "\n",
        "# Train individual base classifiers for comparison\n",
        "dt_clf = DecisionTreeClassifier(random_state=42)\n",
        "dt_clf.fit(X_train, y_train)\n",
        "accuracy_dt = accuracy_score(y_test, dt_clf.predict(X_test))\n",
        "\n",
        "svm_clf = SVC(probability=True, random_state=42)\n",
        "svm_clf.fit(X_train, y_train)\n",
        "accuracy_svm = accuracy_score(y_test, svm_clf.predict(X_test))\n",
        "\n",
        "lr_clf = LogisticRegression(max_iter=1000, random_state=42)\n",
        "lr_clf.fit(X_train, y_train)\n",
        "accuracy_lr = accuracy_score(y_test, lr_clf.predict(X_test))\n",
        "\n",
        "print(\"Stacking Classifier Accuracy: {:.4f}\".format(accuracy_stack))\n",
        "print(\"Decision Tree Classifier Accuracy: {:.4f}\".format(accuracy_dt))\n",
        "print(\"SVM Classifier Accuracy: {:.4f}\".format(accuracy_svm))\n",
        "print(\"Logistic Regression Accuracy: {:.4f}\".format(accuracy_lr))\n"
      ],
      "metadata": {
        "colab": {
          "base_uri": "https://localhost:8080/"
        },
        "id": "maiX3hZOeZU_",
        "outputId": "e1a3572b-7b4a-4281-cc14-9e124fa855c0"
      },
      "execution_count": 24,
      "outputs": [
        {
          "output_type": "stream",
          "name": "stdout",
          "text": [
            "Stacking Classifier Accuracy: 1.0000\n",
            "Decision Tree Classifier Accuracy: 1.0000\n",
            "SVM Classifier Accuracy: 1.0000\n",
            "Logistic Regression Accuracy: 1.0000\n"
          ]
        }
      ]
    },
    {
      "cell_type": "markdown",
      "source": [
        "# Q37. Train a Random Forest Classifier and print the top 5 most important features?"
      ],
      "metadata": {
        "id": "x0vVBEd0egxT"
      }
    },
    {
      "cell_type": "code",
      "source": [
        "import numpy as np\n",
        "import pandas as pd\n",
        "from sklearn.datasets import load_breast_cancer\n",
        "from sklearn.ensemble import RandomForestClassifier\n",
        "from sklearn.model_selection import train_test_split\n",
        "\n",
        "# Load the breast cancer dataset\n",
        "data = load_breast_cancer()\n",
        "X, y = data.data, data.target\n",
        "feature_names = data.feature_names\n",
        "\n",
        "# Split the dataset into training and testing sets\n",
        "X_train, X_test, y_train, y_test = train_test_split(X, y, test_size=0.3, random_state=42)\n",
        "\n",
        "# Train the Random Forest Classifier\n",
        "clf = RandomForestClassifier(n_estimators=100, random_state=42)\n",
        "clf.fit(X_train, y_train)\n",
        "\n",
        "# Get feature importances and sort them in descending order\n",
        "importances = clf.feature_importances_\n",
        "indices = np.argsort(importances)[::-1]  # sorted indices (highest first)\n",
        "\n",
        "# Create a DataFrame with feature names and their importance scores\n",
        "importance_df = pd.DataFrame({\n",
        "    'Feature': feature_names[indices],\n",
        "    'Importance': importances[indices]\n",
        "})\n",
        "\n",
        "# Print the top 5 most important features\n",
        "print(\"Top 5 Most Important Features:\")\n",
        "print(importance_df.head(5))\n"
      ],
      "metadata": {
        "colab": {
          "base_uri": "https://localhost:8080/"
        },
        "id": "LeveN9iAejZA",
        "outputId": "5da146ea-33da-41f8-892b-7222592de1fb"
      },
      "execution_count": 25,
      "outputs": [
        {
          "output_type": "stream",
          "name": "stdout",
          "text": [
            "Top 5 Most Important Features:\n",
            "                Feature  Importance\n",
            "0   mean concave points    0.141934\n",
            "1  worst concave points    0.127136\n",
            "2            worst area    0.118217\n",
            "3        mean concavity    0.080557\n",
            "4          worst radius    0.077975\n"
          ]
        }
      ]
    },
    {
      "cell_type": "markdown",
      "source": [
        "# Q38. Train a Bagging Classifier and evaluate performance using Precision, Recall, and F1-score?"
      ],
      "metadata": {
        "id": "WsXLpc5Een0r"
      }
    },
    {
      "cell_type": "code",
      "source": [
        "import numpy as np\n",
        "from sklearn.datasets import load_breast_cancer\n",
        "from sklearn.ensemble import BaggingClassifier\n",
        "from sklearn.tree import DecisionTreeClassifier\n",
        "from sklearn.model_selection import train_test_split\n",
        "from sklearn.metrics import precision_score, recall_score, f1_score\n",
        "\n",
        "data = load_breast_cancer()\n",
        "X, y = data.data, data.target\n",
        "\n",
        "X_train, X_test, y_train, y_test = train_test_split(X, y, test_size=0.3, random_state=42)\n",
        "\n",
        "base_estimator = DecisionTreeClassifier(random_state=42)\n",
        "bagging_clf = BaggingClassifier(estimator=base_estimator, n_estimators=50, random_state=42)\n",
        "bagging_clf.fit(X_train, y_train)\n",
        "\n",
        "y_pred = bagging_clf.predict(X_test)\n",
        "\n",
        "precision = precision_score(y_test, y_pred)\n",
        "recall = recall_score(y_test, y_pred)\n",
        "f1 = f1_score(y_test, y_pred)\n",
        "\n",
        "print(\"Precision: {:.4f}\".format(precision))\n",
        "print(\"Recall: {:.4f}\".format(recall))\n",
        "print(\"F1-score: {:.4f}\".format(f1))\n"
      ],
      "metadata": {
        "colab": {
          "base_uri": "https://localhost:8080/"
        },
        "id": "0-yQPCeNeuQB",
        "outputId": "5885d2e3-f9da-4edc-e789-14e0880e354d"
      },
      "execution_count": 26,
      "outputs": [
        {
          "output_type": "stream",
          "name": "stdout",
          "text": [
            "Precision: 0.9633\n",
            "Recall: 0.9722\n",
            "F1-score: 0.9677\n"
          ]
        }
      ]
    },
    {
      "cell_type": "markdown",
      "source": [
        "# Q39. Train a Random Forest Classifier and analyze the effect of max_depth on accuracy?"
      ],
      "metadata": {
        "id": "TUGbmcmSe2ya"
      }
    },
    {
      "cell_type": "code",
      "source": [
        "import numpy as np\n",
        "import matplotlib.pyplot as plt\n",
        "from sklearn.datasets import load_iris\n",
        "from sklearn.ensemble import RandomForestClassifier\n",
        "from sklearn.model_selection import train_test_split\n",
        "from sklearn.metrics import accuracy_score\n",
        "\n",
        "# Load the Iris dataset\n",
        "data = load_iris()\n",
        "X, y = data.data, data.target\n",
        "\n",
        "# Split the dataset into training (70%) and testing (30%) sets\n",
        "X_train, X_test, y_train, y_test = train_test_split(X, y, test_size=0.3, random_state=42)\n",
        "\n",
        "# Define a list of max_depth values to test (including None which means no limit)\n",
        "max_depth_values = [None, 1, 2, 3, 4, 5, 6, 7, 8, 9, 10]\n",
        "accuracies = []\n",
        "\n",
        "for depth in max_depth_values:\n",
        "    clf = RandomForestClassifier(max_depth=depth, n_estimators=100, random_state=42)\n",
        "    clf.fit(X_train, y_train)\n",
        "    y_pred = clf.predict(X_test)\n",
        "    acc = accuracy_score(y_test, y_pred)\n",
        "    accuracies.append(acc)\n",
        "    print(\"max_depth: {:<4}  Accuracy: {:.4f}\".format(str(depth), acc))\n",
        "\n",
        "# Plot the effect of max_depth on test accuracy\n",
        "plt.figure(figsize=(8, 6))\n",
        "plt.plot([str(md) for md in max_depth_values], accuracies, marker='o')\n",
        "plt.xlabel(\"max_depth\")\n",
        "plt.ylabel(\"Accuracy\")\n",
        "plt.title(\"Effect of max_depth on Random Forest Accuracy\")\n",
        "plt.grid(True)\n",
        "plt.show()\n"
      ],
      "metadata": {
        "colab": {
          "base_uri": "https://localhost:8080/",
          "height": 760
        },
        "id": "PHkPWhZke71e",
        "outputId": "2c912f46-0789-439d-bb76-8dee6703b91e"
      },
      "execution_count": 27,
      "outputs": [
        {
          "output_type": "stream",
          "name": "stdout",
          "text": [
            "max_depth: None  Accuracy: 1.0000\n",
            "max_depth: 1     Accuracy: 1.0000\n",
            "max_depth: 2     Accuracy: 1.0000\n",
            "max_depth: 3     Accuracy: 1.0000\n",
            "max_depth: 4     Accuracy: 1.0000\n",
            "max_depth: 5     Accuracy: 1.0000\n",
            "max_depth: 6     Accuracy: 1.0000\n",
            "max_depth: 7     Accuracy: 1.0000\n",
            "max_depth: 8     Accuracy: 1.0000\n",
            "max_depth: 9     Accuracy: 1.0000\n",
            "max_depth: 10    Accuracy: 1.0000\n"
          ]
        },
        {
          "output_type": "display_data",
          "data": {
            "text/plain": [
              "<Figure size 800x600 with 1 Axes>"
            ],
            "image/png": "[encoded data removed]"
          },
          "metadata": {}
        }
      ]
    },
    {
      "cell_type": "markdown",
      "source": [
        "# Q40. Train a Bagging Regressor using different base estimators (DecisionTree and KNeighbors) and compare performance?"
      ],
      "metadata": {
        "id": "5Z4D7KdofEyw"
      }
    },
    {
      "cell_type": "code",
      "source": [
        "import numpy as np\n",
        "from sklearn.datasets import load_diabetes\n",
        "from sklearn.tree import DecisionTreeRegressor\n",
        "from sklearn.neighbors import KNeighborsRegressor\n",
        "from sklearn.ensemble import BaggingRegressor\n",
        "from sklearn.model_selection import train_test_split\n",
        "from sklearn.metrics import mean_squared_error, r2_score\n",
        "\n",
        "# Load the diabetes dataset\n",
        "data = load_diabetes()\n",
        "X, y = data.data, data.target\n",
        "\n",
        "# Split the dataset (70% training, 30% testing)\n",
        "X_train, X_test, y_train, y_test = train_test_split(X, y, test_size=0.3, random_state=42)\n",
        "\n",
        "# Bagging Regressor with Decision Tree as the base estimator\n",
        "bag_dt = BaggingRegressor(\n",
        "    estimator=DecisionTreeRegressor(random_state=42),\n",
        "    n_estimators=50,\n",
        "    random_state=42\n",
        ")\n",
        "bag_dt.fit(X_train, y_train)\n",
        "y_pred_dt = bag_dt.predict(X_test)\n",
        "mse_dt = mean_squared_error(y_test, y_pred_dt)\n",
        "r2_dt = r2_score(y_test, y_pred_dt)\n",
        "\n",
        "# Bagging Regressor with KNeighbors as the base estimator\n",
        "bag_knn = BaggingRegressor(\n",
        "    estimator=KNeighborsRegressor(),\n",
        "    n_estimators=50,\n",
        "    random_state=42\n",
        ")\n",
        "bag_knn.fit(X_train, y_train)\n",
        "y_pred_knn = bag_knn.predict(X_test)\n",
        "mse_knn = mean_squared_error(y_test, y_pred_knn)\n",
        "r2_knn = r2_score(y_test, y_pred_knn)\n",
        "\n",
        "# Compare performance\n",
        "print(\"Bagging Regressor with Decision Tree as base estimator:\")\n",
        "print(\"  Mean Squared Error: {:.4f}\".format(mse_dt))\n",
        "print(\"  R² Score: {:.4f}\".format(r2_dt))\n",
        "\n",
        "print(\"\\nBagging Regressor with KNeighbors as base estimator:\")\n",
        "print(\"  Mean Squared Error: {:.4f}\".format(mse_knn))\n",
        "print(\"  R² Score: {:.4f}\".format(r2_knn))\n"
      ],
      "metadata": {
        "colab": {
          "base_uri": "https://localhost:8080/"
        },
        "id": "emX2R32gfRwt",
        "outputId": "ff3af392-2a0a-41a2-f0af-a0d29c7f0d3d"
      },
      "execution_count": 28,
      "outputs": [
        {
          "output_type": "stream",
          "name": "stdout",
          "text": [
            "Bagging Regressor with Decision Tree as base estimator:\n",
            "  Mean Squared Error: 2987.0074\n",
            "  R² Score: 0.4467\n",
            "\n",
            "Bagging Regressor with KNeighbors as base estimator:\n",
            "  Mean Squared Error: 3140.1861\n",
            "  R² Score: 0.4183\n"
          ]
        }
      ]
    },
    {
      "cell_type": "markdown",
      "source": [
        "# Q41. Train a Random Forest Classifier and evaluate its performance using ROC-AUC Score?"
      ],
      "metadata": {
        "id": "x5DrgHFjfWLQ"
      }
    },
    {
      "cell_type": "code",
      "source": [
        "import numpy as np\n",
        "from sklearn.datasets import load_breast_cancer\n",
        "from sklearn.ensemble import RandomForestClassifier\n",
        "from sklearn.model_selection import train_test_split\n",
        "from sklearn.metrics import roc_auc_score\n",
        "\n",
        "# Load the breast cancer dataset (binary classification)\n",
        "data = load_breast_cancer()\n",
        "X, y = data.data, data.target\n",
        "\n",
        "# Split the dataset into training (70%) and testing (30%) sets\n",
        "X_train, X_test, y_train, y_test = train_test_split(X, y, test_size=0.3, random_state=42)\n",
        "\n",
        "# Train the Random Forest Classifier\n",
        "clf = RandomForestClassifier(n_estimators=100, random_state=42)\n",
        "clf.fit(X_train, y_train)\n",
        "\n",
        "# Predict class probabilities for the test set and extract the probability for the positive class\n",
        "y_proba = clf.predict_proba(X_test)[:, 1]\n",
        "\n",
        "# Evaluate model performance using ROC-AUC score\n",
        "roc_auc = roc_auc_score(y_test, y_proba)\n",
        "print(\"ROC-AUC Score: {:.4f}\".format(roc_auc))\n"
      ],
      "metadata": {
        "colab": {
          "base_uri": "https://localhost:8080/"
        },
        "id": "Ki-X9Ym5fckI",
        "outputId": "0c64ed04-cd67-4faa-b1d4-f6624045a6b2"
      },
      "execution_count": 29,
      "outputs": [
        {
          "output_type": "stream",
          "name": "stdout",
          "text": [
            "ROC-AUC Score: 0.9968\n"
          ]
        }
      ]
    },
    {
      "cell_type": "markdown",
      "source": [
        "# Q42. Train a Bagging Classifier and evaluate its performance using cross-validatio?"
      ],
      "metadata": {
        "id": "--xP5KUMfntt"
      }
    },
    {
      "cell_type": "code",
      "source": [
        "import numpy as np\n",
        "from sklearn.datasets import load_iris\n",
        "from sklearn.tree import DecisionTreeClassifier\n",
        "from sklearn.ensemble import BaggingClassifier\n",
        "from sklearn.model_selection import cross_val_score\n",
        "\n",
        "# Load the Iris dataset\n",
        "data = load_iris()\n",
        "X, y = data.data, data.target\n",
        "\n",
        "# Create a Bagging Classifier with a Decision Tree as the base estimator\n",
        "clf = BaggingClassifier(estimator=DecisionTreeClassifier(random_state=42),\n",
        "                        n_estimators=50,\n",
        "                        random_state=42)\n",
        "\n",
        "# Evaluate performance using 5-fold cross-validation (accuracy as the metric)\n",
        "scores = cross_val_score(clf, X, y, cv=5, scoring='accuracy')\n",
        "\n",
        "print(\"Cross-validation Accuracy Scores:\", scores)\n",
        "print(\"Mean Accuracy: {:.4f}\".format(scores.mean()))\n",
        "print(\"Standard Deviation: {:.4f}\".format(scores.std()))\n"
      ],
      "metadata": {
        "colab": {
          "base_uri": "https://localhost:8080/"
        },
        "id": "_EvIQC0pfv9A",
        "outputId": "6938c765-829a-466f-81fd-151f8e8fb504"
      },
      "execution_count": 30,
      "outputs": [
        {
          "output_type": "stream",
          "name": "stdout",
          "text": [
            "Cross-validation Accuracy Scores: [0.96666667 0.96666667 0.93333333 0.96666667 1.        ]\n",
            "Mean Accuracy: 0.9667\n",
            "Standard Deviation: 0.0211\n"
          ]
        }
      ]
    },
    {
      "cell_type": "markdown",
      "source": [
        "# Q43. Train a Random Forest Classifier and plot the Precision-Recall curve?"
      ],
      "metadata": {
        "id": "TVj7Vcwef7JJ"
      }
    },
    {
      "cell_type": "code",
      "source": [
        "from sklearn.datasets import load_breast_cancer\n",
        "from sklearn.model_selection import train_test_split\n",
        "from sklearn.ensemble import RandomForestClassifier\n",
        "from sklearn.metrics import precision_recall_curve, PrecisionRecallDisplay\n",
        "import matplotlib.pyplot as plt\n",
        "\n",
        "data = load_breast_cancer()\n",
        "X = data.data\n",
        "y = data.target\n",
        "\n",
        "X_train, X_test, y_train, y_test = train_test_split(X, y, test_size=0.2, random_state=42)\n",
        "\n",
        "rf_clf = RandomForestClassifier(n_estimators=100, random_state=42)\n",
        "rf_clf.fit(X_train, y_train)\n",
        "\n",
        "y_scores = rf_clf.predict_proba(X_test)[:, 1]\n",
        "\n",
        "precision, recall, _ = precision_recall_curve(y_test, y_scores)\n",
        "\n",
        "disp = PrecisionRecallDisplay(precision=precision, recall=recall)\n",
        "disp.plot()\n",
        "plt.title(\"Precision-Recall Curve - Random Forest Classifier\")\n",
        "plt.show()\n"
      ],
      "metadata": {
        "colab": {
          "base_uri": "https://localhost:8080/",
          "height": 472
        },
        "id": "3NyKlVEQgC7V",
        "outputId": "e7530aa8-b724-45a9-8ec1-11b3aaebc953"
      },
      "execution_count": 31,
      "outputs": [
        {
          "output_type": "display_data",
          "data": {
            "text/plain": [
              "<Figure size 640x480 with 1 Axes>"
            ],
            "image/png": "[encoded data removed]"
          },
          "metadata": {}
        }
      ]
    },
    {
      "cell_type": "markdown",
      "source": [
        "# Q44. Train a Stacking Classifier with Random Forest and Logistic Regression and compare accuracy?"
      ],
      "metadata": {
        "id": "REmJcbcCgKeD"
      }
    },
    {
      "cell_type": "code",
      "source": [
        "import numpy as np\n",
        "from sklearn.datasets import load_iris\n",
        "from sklearn.model_selection import train_test_split\n",
        "from sklearn.ensemble import RandomForestClassifier, StackingClassifier\n",
        "from sklearn.linear_model import LogisticRegression\n",
        "from sklearn.metrics import accuracy_score\n",
        "\n",
        "# Load the Iris dataset\n",
        "data = load_iris()\n",
        "X, y = data.data, data.target\n",
        "\n",
        "# Split the dataset into training (70%) and testing (30%) sets\n",
        "X_train, X_test, y_train, y_test = train_test_split(X, y, test_size=0.3, random_state=42)\n",
        "\n",
        "# Define base estimators for stacking\n",
        "estimators = [\n",
        "    ('rf', RandomForestClassifier(n_estimators=100, random_state=42)),\n",
        "    ('lr', LogisticRegression(max_iter=1000, random_state=42))\n",
        "]\n",
        "\n",
        "# Define the Stacking Classifier with Logistic Regression as the meta-estimator\n",
        "stack_clf = StackingClassifier(estimators=estimators,\n",
        "                               final_estimator=LogisticRegression(max_iter=1000, random_state=42))\n",
        "stack_clf.fit(X_train, y_train)\n",
        "y_pred_stack = stack_clf.predict(X_test)\n",
        "accuracy_stack = accuracy_score(y_test, y_pred_stack)\n",
        "\n",
        "# Train individual models for comparison\n",
        "rf_clf = RandomForestClassifier(n_estimators=100, random_state=42)\n",
        "rf_clf.fit(X_train, y_train)\n",
        "accuracy_rf = accuracy_score(y_test, rf_clf.predict(X_test))\n",
        "\n",
        "lr_clf = LogisticRegression(max_iter=1000, random_state=42)\n",
        "lr_clf.fit(X_train, y_train)\n",
        "accuracy_lr = accuracy_score(y_test, lr_clf.predict(X_test))\n",
        "\n",
        "print(\"Stacking Classifier Accuracy: {:.4f}\".format(accuracy_stack))\n",
        "print(\"Random Forest Classifier Accuracy: {:.4f}\".format(accuracy_rf))\n",
        "print(\"Logistic Regression Accuracy: {:.4f}\".format(accuracy_lr))\n"
      ],
      "metadata": {
        "colab": {
          "base_uri": "https://localhost:8080/"
        },
        "id": "oz6mS-iRgRIt",
        "outputId": "59427911-c1eb-47f0-962e-56f5ca97d5d5"
      },
      "execution_count": 32,
      "outputs": [
        {
          "output_type": "stream",
          "name": "stdout",
          "text": [
            "Stacking Classifier Accuracy: 1.0000\n",
            "Random Forest Classifier Accuracy: 1.0000\n",
            "Logistic Regression Accuracy: 1.0000\n"
          ]
        }
      ]
    },
    {
      "cell_type": "markdown",
      "source": [
        "# Q45. Train a Bagging Regressor with different levels of bootstrap samples and compare performance."
      ],
      "metadata": {
        "id": "bVYHKlQ4gW6w"
      }
    },
    {
      "cell_type": "code",
      "source": [
        "import numpy as np\n",
        "import matplotlib.pyplot as plt\n",
        "from sklearn.datasets import load_diabetes\n",
        "from sklearn.tree import DecisionTreeRegressor\n",
        "from sklearn.ensemble import BaggingRegressor\n",
        "from sklearn.model_selection import train_test_split\n",
        "from sklearn.metrics import mean_squared_error, r2_score\n",
        "\n",
        "data = load_diabetes()\n",
        "X, y = data.data, data.target\n",
        "X_train, X_test, y_train, y_test = train_test_split(X, y, test_size=0.3, random_state=42)\n",
        "max_samples_values = [0.5, 0.7, 1.0]\n",
        "mse_scores = []\n",
        "r2_scores = []\n",
        "for max_samples in max_samples_values:\n",
        "    bag_reg = BaggingRegressor(estimator=DecisionTreeRegressor(random_state=42),\n",
        "                               n_estimators=50,\n",
        "                               max_samples=max_samples,\n",
        "                               bootstrap=True,\n",
        "                               random_state=42)\n",
        "    bag_reg.fit(X_train, y_train)\n",
        "    y_pred = bag_reg.predict(X_test)\n",
        "    mse = mean_squared_error(y_test, y_pred)\n",
        "    r2 = r2_score(y_test, y_pred)\n",
        "    mse_scores.append(mse)\n",
        "    r2_scores.append(r2)\n",
        "    print(\"max_samples = {} --> MSE: {:.4f}, R²: {:.4f}\".format(max_samples, mse, r2))\n",
        "plt.figure(figsize=(8, 5))\n",
        "plt.plot(max_samples_values, mse_scores, marker=\"o\", label=\"MSE\")\n",
        "plt.plot(max_samples_values, r2_scores, marker=\"s\", label=\"R² Score\")\n",
        "plt.xlabel(\"max_samples (Fraction of Training Samples)\")\n",
        "plt.ylabel(\"Score\")\n",
        "plt.title(\"Effect of max_samples on Bagging Regressor Performance\")\n",
        "plt.legend()\n",
        "plt.grid(True)\n",
        "plt.show()\n"
      ],
      "metadata": {
        "colab": {
          "base_uri": "https://localhost:8080/",
          "height": 541
        },
        "id": "LR2dfufZgdmW",
        "outputId": "115fbbef-bbf6-4375-807d-841c4ab9904a"
      },
      "execution_count": 33,
      "outputs": [
        {
          "output_type": "stream",
          "name": "stdout",
          "text": [
            "max_samples = 0.5 --> MSE: 2826.9423, R²: 0.4763\n",
            "max_samples = 0.7 --> MSE: 2797.2247, R²: 0.4818\n",
            "max_samples = 1.0 --> MSE: 2987.0074, R²: 0.4467\n"
          ]
        },
        {
          "output_type": "display_data",
          "data": {
            "text/plain": [
              "<Figure size 800x500 with 1 Axes>"
            ],
            "image/png": "[encoded data removed]"
          },
          "metadata": {}
        }
      ]
    }
  ],
  "metadata": {
    "colab": {
      "provenance": []
    },
    "kernelspec": {
      "display_name": "Python 3",
      "name": "python3"
    },
    "language_info": {
      "name": "python"
    }
  },
  "nbformat": 4,
  "nbformat_minor": 0
}