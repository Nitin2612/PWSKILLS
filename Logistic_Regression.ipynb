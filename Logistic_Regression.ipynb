{
  "nbformat": 4,
  "nbformat_minor": 0,
  "metadata": {
    "colab": {
      "provenance": []
    },
    "kernelspec": {
      "name": "python3",
      "display_name": "Python 3"
    },
    "language_info": {
      "name": "python"
    }
  },
  "cells": [
    {
      "cell_type": "markdown",
      "source": [
        "# Theoretical\n",
        "\n",
        "---\n",
        "\n"
      ],
      "metadata": {
        "id": "QxnLB-RvBmzn"
      }
    },
    {
      "cell_type": "markdown",
      "source": [
        "# Q1. What is Logistic Regression, and how does it differ from Linear Regression?"
      ],
      "metadata": {
        "id": "i7iVRSRoBsiM"
      }
    },
    {
      "cell_type": "markdown",
      "source": [
        "# Logistic Regression vs. Linear Regression\n",
        "\n",
        "**Logistic Regression** is a statistical model used primarily for **binary classification** tasks (though it can be extended to multiclass problems). Instead of predicting a continuous output, logistic regression predicts the **probability** that a given input belongs to a particular class. It uses the **sigmoid (logistic) function** to map any real-valued number into the range [0, 1], which can then be interpreted as a probability. The model is typically optimized using **maximum likelihood estimation**.\n",
        "\n",
        "**Linear Regression**, in contrast, is used for predicting **continuous outcomes**. It models the relationship between one or more independent variables and a continuous dependent variable by fitting a **linear equation**. The goal is to minimize the difference between the predicted values and the actual values, often using the **least squares method**.\n",
        "\n",
        "### Key Differences\n",
        "\n",
        "- **Purpose:**\n",
        "  - *Logistic Regression:* Designed for classification problems where the outcome is categorical (e.g., 0/1, yes/no).\n",
        "  - *Linear Regression:* Designed for regression problems where the outcome is a continuous value.\n",
        "\n",
        "- **Output:**\n",
        "  - *Logistic Regression:* Outputs a probability (between 0 and 1) which is usually thresholded (e.g., at 0.5) to decide the class label.\n",
        "  - *Linear Regression:* Directly outputs a continuous numeric value.\n",
        "\n",
        "- **Transformation:**\n",
        "  - *Logistic Regression:* Uses the sigmoid function to squash the output of a linear equation into a [0, 1] range.\n",
        "  - *Linear Regression:* Directly uses the linear combination of the input features.\n",
        "\n",
        "- **Cost Function:**\n",
        "  - *Logistic Regression:* Uses a cost function based on **log loss (cross-entropy loss)** to measure the error.\n",
        "  - *Linear Regression:* Typically uses the **mean squared error (MSE)** as the cost function.\n",
        "\n",
        "### Summary\n",
        "\n",
        "In summary, while both logistic and linear regression involve forming a linear combination of input features, **logistic regression applies a non-linear sigmoid transformation to make predictions suitable for classification**, whereas **linear regression directly predicts a continuous outcome**. This fundamental difference shapes their usage, optimization strategies, and evaluation metrics.\n",
        "\n"
      ],
      "metadata": {
        "id": "6V-cSetrB83h"
      }
    },
    {
      "cell_type": "markdown",
      "source": [
        "# Q2. What is the mathematical equation of Logistic Regression?"
      ],
      "metadata": {
        "id": "ouhL6b5iCIzS"
      }
    },
    {
      "cell_type": "markdown",
      "source": [
        "## Logistic Regression Equation\n",
        "\n",
        "In logistic regression, we model the probability that a given input \\( \\mathbf{x} \\) belongs to a particular class (usually denoted as class 1) using the sigmoid function. The equation is:\n",
        "\n",
        "$$\n",
        "P(y=1 \\mid \\mathbf{x}) = \\sigma(z) = \\frac{1}{1 + e^{-z}} \\quad \\text{where} \\quad z = \\mathbf{w}^T \\mathbf{x} + b\n",
        "$$\n",
        "\n",
        "- \\( \\mathbf{w} \\) is the vector of weights,\n",
        "- \\( \\mathbf{x} \\) is the vector of input features,\n",
        "- \\( b \\) is the bias term,\n",
        "- \\( \\sigma(z) \\) is the sigmoid function, which squashes the linear combination \\( z \\) into the range (0, 1).\n",
        "\n",
        "This formulation allows the model to output probabilities that can be thresholded (commonly at 0.5) to decide the predicted class.\n"
      ],
      "metadata": {
        "id": "Avhj8GrJCaAW"
      }
    },
    {
      "cell_type": "markdown",
      "source": [
        "# Q3. Why do we use the Sigmoid function in Logistic Regression?"
      ],
      "metadata": {
        "id": "g-a6BXOoCpCE"
      }
    },
    {
      "cell_type": "markdown",
      "source": [
        "The **sigmoid function** is a crucial component of logistic regression for several key reasons:\n",
        "\n",
        "1. **Probability Mapping:**  \n",
        "   The sigmoid function converts any real-valued input into a value between 0 and 1. This property allows the output to be interpreted as a probability, which is essential for binary classification tasks where we want to estimate the likelihood that an instance belongs to a specific class.\n",
        "\n",
        "2. **Smooth and Differentiable:**  \n",
        "   The function is smooth and continuously differentiable. This makes it well-suited for optimization techniques like gradient descent, as the derivative of the sigmoid function is easy to compute and facilitates the training process.\n",
        "\n",
        "3. **Non-linear Transformation:**  \n",
        "   Although logistic regression forms a linear combination of inputs (i.e., \\( z = \\mathbf{w}^T \\mathbf{x} + b \\)), applying the sigmoid function introduces a non-linearity. This allows the model to handle more complex relationships in the data when estimating probabilities.\n",
        "\n",
        "4. **Interpretability:**  \n",
        "   Since the output of the sigmoid function represents a probability, it can be easily thresholded (commonly at 0.5) to make a clear decision regarding the class assignment. This adds to the interpretability of the model’s predictions.\n",
        "\n",
        "In summary, the sigmoid function is used in logistic regression to transform linear outputs into probability estimates that are both interpretable and optimized efficiently during training.\n"
      ],
      "metadata": {
        "id": "Gz9Rb2ZaC83H"
      }
    },
    {
      "cell_type": "markdown",
      "source": [
        "# Q4. What is the cost function of Logistic Regression?"
      ],
      "metadata": {
        "id": "Fq_yyK3sDD3n"
      }
    },
    {
      "cell_type": "markdown",
      "source": [
        "## Logistic Regression Cost Function\n",
        "\n",
        "In logistic regression, the cost function is known as the **log loss** or **binary cross-entropy loss**. It measures the performance of the model by comparing the predicted probabilities with the actual labels. The cost function for \\( m \\) training examples is given by:\n",
        "\n",
        "$$\n",
        "J(w, b) = -\\frac{1}{m} \\sum_{i=1}^{m} \\left[ y^{(i)} \\log\\left(\\hat{y}^{(i)}\\right) + \\left(1 - y^{(i)}\\right) \\log\\left(1 - \\hat{y}^{(i)}\\right) \\right]\n",
        "$$\n",
        "\n",
        "where:\n",
        "- \\( y^{(i)} \\) is the true label for the \\( i \\)-th example (either 0 or 1),\n",
        "- \\( \\hat{y}^{(i)} \\) is the predicted probability that the \\( i \\)-th example belongs to class 1, calculated using the sigmoid function:\n",
        "  \n",
        "  $$\n",
        "  \\hat{y}^{(i)} = \\sigma(z^{(i)}) = \\frac{1}{1 + e^{-z^{(i)}}} \\quad \\text{with} \\quad z^{(i)} = \\mathbf{w}^T \\mathbf{x}^{(i)} + b.\n",
        "  $$\n",
        "\n",
        "This cost function penalizes predictions that are far from the actual labels, and the training process involves finding the parameters \\( \\mathbf{w} \\) and \\( b \\) that minimize this cost.\n"
      ],
      "metadata": {
        "id": "ZhPgNmVtDLQK"
      }
    },
    {
      "cell_type": "markdown",
      "source": [
        "# Q5. What is Regularization in Logistic Regression? Why is it needed?"
      ],
      "metadata": {
        "id": "_5_po2SIDPE-"
      }
    },
    {
      "cell_type": "markdown",
      "source": [
        "## Regularization in Logistic Regression\n",
        "\n",
        "Regularization is a technique used to prevent overfitting by adding a penalty term to the cost function in logistic regression. This penalty discourages the model from fitting the noise in the training data by keeping the magnitude of the weights small.\n",
        "\n",
        "### Why is Regularization Needed?\n",
        "\n",
        "1. **Preventing Overfitting:**  \n",
        "   Without regularization, a model might learn not only the underlying patterns but also the noise in the training data. Regularization helps improve generalization to unseen data by penalizing overly complex models.\n",
        "\n",
        "2. **Controlling Model Complexity:**  \n",
        "   By adding a penalty for large weights, regularization encourages the model to be simpler. This is important because simpler models are usually more robust and less likely to overfit.\n",
        "\n",
        "3. **Improved Generalization:**  \n",
        "   A model that avoids overfitting is more likely to perform well on new, unseen data. Regularization thus directly contributes to the overall performance of the model.\n",
        "\n",
        "### Types of Regularization\n",
        "\n",
        "- **L2 Regularization (Ridge):**  \n",
        "  Adds a penalty equal to the square of the magnitude of the weights. The cost function becomes:\n",
        "\n",
        "  $$\n",
        "  J(w, b) = -\\frac{1}{m} \\sum_{i=1}^{m} \\Big[ y^{(i)} \\log\\left(\\hat{y}^{(i)}\\right) + \\big(1 - y^{(i)}\\big) \\log\\left(1 - \\hat{y}^{(i)}\\right) \\Big] + \\frac{\\lambda}{2m} \\sum_{j=1}^{n} w_j^2\n",
        "  $$\n",
        "\n",
        "  Here, \\( \\lambda \\) is the regularization parameter that controls the strength of the penalty.\n",
        "\n",
        "- **L1 Regularization (Lasso):**  \n",
        "  Adds a penalty equal to the absolute value of the weights. This form of regularization can drive some coefficients to zero, effectively performing feature selection.\n",
        "\n",
        "### Summary\n",
        "\n",
        "Regularization is critical in logistic regression to keep the model simple and prevent overfitting by penalizing large weights. This results in improved performance on new data and a more interpretable model.\n",
        "\n"
      ],
      "metadata": {
        "id": "vZPiGsUoDWVB"
      }
    },
    {
      "cell_type": "markdown",
      "source": [
        "# Q6. Explain the difference between Lasso, Ridge, and Elastic Net regression?"
      ],
      "metadata": {
        "id": "Ox90CpnRDgg3"
      }
    },
    {
      "cell_type": "markdown",
      "source": [
        "## Differences between Lasso, Ridge, and Elastic Net Regression\n",
        "\n",
        "### Ridge Regression (L2 Regularization)\n",
        "- **Penalty Term:**  \n",
        "  Adds a penalty equal to the sum of the squared coefficients:\n",
        "  $$\n",
        "  \\text{Ridge Penalty} = \\frac{\\lambda}{2} \\sum_{j=1}^{n} w_j^2\n",
        "  $$\n",
        "- **Effect:**  \n",
        "  - Shrinks coefficients toward zero.\n",
        "  - Helps handle multicollinearity (i.e., when predictors are highly correlated).\n",
        "  - Typically, coefficients are reduced but rarely become exactly zero.\n",
        "\n",
        "### Lasso Regression (L1 Regularization)\n",
        "- **Penalty Term:**  \n",
        "  Adds a penalty equal to the sum of the absolute values of the coefficients:\n",
        "  $$\n",
        "  \\text{Lasso Penalty} = \\lambda \\sum_{j=1}^{n} |w_j|\n",
        "  $$\n",
        "- **Effect:**  \n",
        "  - Encourages sparsity in the model.\n",
        "  - Can drive some coefficients to exactly zero, effectively performing feature selection.\n",
        "  - Useful when you suspect that only a subset of the features is important.\n",
        "\n",
        "### Elastic Net Regression\n",
        "- **Penalty Term:**  \n",
        "  Combines both L1 and L2 penalties, often expressed with a mixing parameter \\( \\alpha \\) (with \\( 0 \\leq \\alpha \\leq 1 \\)):\n",
        "  $$\n",
        "  \\text{Elastic Net Penalty} = \\lambda \\left[ \\alpha \\sum_{j=1}^{n} |w_j| + \\frac{1-\\alpha}{2} \\sum_{j=1}^{n} w_j^2 \\right]\n",
        "  $$\n",
        "- **Effect:**  \n",
        "  - Balances the benefits of both Ridge and Lasso.\n",
        "  - Useful when there are many correlated features.\n",
        "  - Can both select important features (like Lasso) and stabilize the model (like Ridge).\n",
        "\n",
        "### Summary\n",
        "- **Ridge Regression:**  \n",
        "  Uses L2 regularization to shrink coefficients, which is helpful for multicollinearity but does not eliminate features.\n",
        "- **Lasso Regression:**  \n",
        "  Uses L1 regularization to enforce sparsity, effectively performing feature selection by zeroing out some coefficients.\n",
        "- **Elastic Net Regression:**  \n",
        "  Combines L1 and L2 penalties to benefit from both approaches, making it particularly useful when dealing with correlated predictors.\n"
      ],
      "metadata": {
        "id": "J5s_dXMODpub"
      }
    },
    {
      "cell_type": "markdown",
      "source": [
        "# Q7. When should we use Elastic Net instead of Lasso or Ridge?"
      ],
      "metadata": {
        "id": "tj-ZX_O8EY-Z"
      }
    },
    {
      "cell_type": "markdown",
      "source": [
        "## When to Use Elastic Net Instead of Lasso or Ridge\n",
        "\n",
        "Elastic Net regression combines the strengths of both Lasso (L1) and Ridge (L2) regularization. You might choose Elastic Net when:\n",
        "\n",
        "- **High Multicollinearity Among Predictors:**  \n",
        "  When predictors are highly correlated, Lasso tends to arbitrarily select one feature and discard others, while Ridge shrinks all coefficients but does not perform feature selection. Elastic Net, by combining both penalties, can select groups of correlated features together.\n",
        "\n",
        "- **Large Number of Predictors (p >> n):**  \n",
        "  In situations where the number of predictors exceeds the number of observations, Elastic Net's combination of L1 and L2 regularization helps control overfitting and improves prediction performance.\n",
        "\n",
        "- **Need for Feature Selection with Stability:**  \n",
        "  If you require feature selection (a benefit of Lasso) but want more stability in the selected features and coefficient estimates, Elastic Net provides a more balanced approach.\n",
        "\n",
        "- **Flexibility in Tuning the Bias-Variance Trade-off:**  \n",
        "  Elastic Net introduces a mixing parameter \\( \\alpha \\) (ranging between 0 and 1) that lets you control the balance between the L1 and L2 penalties. This flexibility can be crucial when you need to fine-tune the model to achieve optimal performance.\n",
        "\n",
        "In summary, Elastic Net is particularly useful when dealing with datasets that have many, possibly correlated, predictors, and when you want to combine the feature selection capability of Lasso with the coefficient shrinkage and grouping effect of Ridge.\n"
      ],
      "metadata": {
        "id": "RAxuqbA1EgrU"
      }
    },
    {
      "cell_type": "markdown",
      "source": [
        "# Q8. What is the impact of the regularization parameter (λ) in Logistic Regression?"
      ],
      "metadata": {
        "id": "pa9LRQEZEmpn"
      }
    },
    {
      "cell_type": "markdown",
      "source": [
        "# Impact of the Regularization Parameter (\\(\\lambda\\)) in Logistic Regression\n",
        "\n",
        "The regularization parameter \\(\\lambda\\) is crucial in logistic regression as it controls the strength of the penalty applied to the model's weights. Here's how it impacts the model:\n",
        "\n",
        "1. **Weight Shrinkage:**  \n",
        "   - A **larger \\(\\lambda\\)** increases the penalty, causing the weights to shrink more towards zero.  \n",
        "   - A **smaller \\(\\lambda\\)** allows the weights to remain larger, enabling the model to capture more complex patterns but with a higher risk of overfitting.\n",
        "\n",
        "2. **Bias-Variance Trade-off:**  \n",
        "   - **High \\(\\lambda\\):** Results in a simpler model (higher bias) with reduced variance, which may generalize better on unseen data.  \n",
        "   - **Low \\(\\lambda\\):** Leads to a more complex model (lower bias) but may have higher variance, potentially overfitting the training data.\n",
        "\n",
        "3. **Generalization:**  \n",
        "   The correct tuning of \\(\\lambda\\) helps balance between fitting the training data well and maintaining good performance on new data.\n",
        "\n",
        "4. **Tuning:**  \n",
        "   \\(\\lambda\\) is typically tuned using cross-validation to find the optimal balance between bias and variance.\n",
        "\n",
        "For example, with L2 regularization, the logistic regression cost function becomes:\n",
        "\n",
        "$$\n",
        "J(w, b) = -\\frac{1}{m} \\sum_{i=1}^{m} \\Big[ y^{(i)} \\log(\\hat{y}^{(i)}) + (1 - y^{(i)}) \\log(1 - \\hat{y}^{(i)}) \\Big] + \\frac{\\lambda}{2m} \\sum_{j=1}^{n} w_j^2\n",
        "$$\n",
        "\n",
        "\n"
      ],
      "metadata": {
        "id": "ti7jlokDEr8u"
      }
    },
    {
      "cell_type": "markdown",
      "source": [
        "# Q9. What are the key assumptions of Logistic Regression?"
      ],
      "metadata": {
        "id": "301TqFN5FXXT"
      }
    },
    {
      "cell_type": "markdown",
      "source": [
        "# Key Assumptions of Logistic Regression\n",
        "\n",
        "Logistic Regression is widely used for binary classification, but it comes with several key assumptions:\n",
        "\n",
        "1. **Binary Outcome:**  \n",
        "   The dependent variable should be binary (e.g., 0/1, yes/no), since logistic regression models the probability of one of the two outcomes.\n",
        "\n",
        "2. **Linearity in the Logit:**  \n",
        "   There should be a linear relationship between the independent variables and the log odds (logit) of the dependent variable.  \n",
        "   Mathematically, if \\( p \\) is the probability of the positive class, then:\n",
        "\n",
        "   $$\n",
        "   \\log\\left(\\frac{p}{1-p}\\right) = \\beta_0 + \\beta_1 x_1 + \\beta_2 x_2 + \\cdots + \\beta_n x_n\n",
        "   $$\n",
        "\n",
        "3. **Independence of Observations:**  \n",
        "   Each observation is assumed to be independent. Violations of this assumption (e.g., in time series or clustered data) can lead to biased estimates.\n",
        "\n",
        "4. **No (or Little) Multicollinearity:**  \n",
        "   The independent variables should not be highly correlated. High multicollinearity makes it difficult to distinguish individual effects and can destabilize coefficient estimates.\n",
        "\n",
        "5. **Large Sample Size:**  \n",
        "   Logistic regression typically uses maximum likelihood estimation, which generally requires a sufficiently large sample size to yield reliable estimates.\n",
        "\n",
        "6. **Correct Model Specification:**  \n",
        "   The model should include all relevant predictors and be properly specified in terms of the relationship between predictors and the outcome. Omitting important variables or including irrelevant ones can lead to misspecification.\n"
      ],
      "metadata": {
        "id": "iTuVL2mcFpcE"
      }
    },
    {
      "cell_type": "markdown",
      "source": [
        "# Q10. What are some alternatives to Logistic Regression for classification tasks?"
      ],
      "metadata": {
        "id": "KmCS_K8FGL4R"
      }
    },
    {
      "cell_type": "markdown",
      "source": [
        "# Alternatives to Logistic Regression for Classification Tasks\n",
        "\n",
        "While Logistic Regression is popular for binary classification, several other methods may be more suitable depending on the problem characteristics and dataset. Here are some key alternatives:\n",
        "\n",
        "### 1. Decision Trees\n",
        "- **How It Works:**  \n",
        "  Splits data into subsets based on feature values, forming a tree structure where each leaf node represents a class.\n",
        "- **Pros:**  \n",
        "  Easy to interpret, handles both numerical and categorical features.\n",
        "- **Cons:**  \n",
        "  Prone to overfitting if not properly pruned.\n",
        "\n",
        "### 2. Random Forests\n",
        "- **How It Works:**  \n",
        "  An ensemble of decision trees where each tree votes on the class prediction.\n",
        "- **Pros:**  \n",
        "  Reduces overfitting compared to a single tree, robust to noise.\n",
        "- **Cons:**  \n",
        "  Less interpretable than individual decision trees.\n",
        "\n",
        "### 3. Support Vector Machines (SVM)\n",
        "- **How It Works:**  \n",
        "  Finds the hyperplane that best separates the classes in the feature space. With kernel functions, it can model non-linear boundaries.\n",
        "- **Pros:**  \n",
        "  Effective in high-dimensional spaces, versatile with different kernel choices.\n",
        "- **Cons:**  \n",
        "  Can be computationally intensive for large datasets.\n",
        "\n",
        "### 4. k-Nearest Neighbors (k-NN)\n",
        "- **How It Works:**  \n",
        "  Classifies a data point based on the majority class among its k closest neighbors in the feature space.\n",
        "- **Pros:**  \n",
        "  Simple and intuitive, no training phase required.\n",
        "- **Cons:**  \n",
        "  Prediction can be slow on large datasets, sensitive to the choice of k and feature scaling.\n",
        "\n",
        "### 5. Naive Bayes\n",
        "- **How It Works:**  \n",
        "  Uses Bayes' Theorem with the assumption of independence between predictors to compute class probabilities.\n",
        "- **Pros:**  \n",
        "  Fast, works well with high-dimensional data.\n",
        "- **Cons:**  \n",
        "  The independence assumption is often too simplistic.\n",
        "\n",
        "### 6. Neural Networks (Deep Learning)\n",
        "- **How It Works:**  \n",
        "  Comprises layers of interconnected neurons that learn complex, non-linear relationships through backpropagation.\n",
        "- **Pros:**  \n",
        "  Highly flexible, capable of modeling very complex patterns.\n",
        "- **Cons:**  \n",
        "  Requires large amounts of data and computational resources, less interpretable.\n",
        "\n",
        "### 7. Ensemble Methods (e.g., Gradient Boosting, AdaBoost)\n",
        "- **How It Works:**  \n",
        "  Combine multiple weak learners (e.g., decision trees) to create a strong predictive model. Boosting methods iteratively focus on misclassified examples.\n",
        "- **Pros:**  \n",
        "  Often provide superior predictive performance.\n",
        "- **Cons:**  \n",
        "  Increased model complexity and reduced interpretability.\n",
        "\n",
        "Each method has its own strengths and weaknesses. The best choice depends on factors such as the size and nature of the dataset, the need for model interpretability, and computational constraints.\n"
      ],
      "metadata": {
        "id": "e50WuBN5GV3B"
      }
    },
    {
      "cell_type": "markdown",
      "source": [
        "# Q11. What are Classification Evaluation Metrics?"
      ],
      "metadata": {
        "id": "_orHy8l8Gcr5"
      }
    },
    {
      "cell_type": "markdown",
      "source": [
        "# Classification Evaluation Metrics\n",
        "\n",
        "Classification metrics are used to evaluate the performance of a classification model. Here are some key metrics:\n",
        "\n",
        "### 1. Confusion Matrix\n",
        "A confusion matrix is a table that summarizes the performance of a classifier by comparing actual and predicted labels:\n",
        "- **True Positives (TP)**\n",
        "- **True Negatives (TN)**\n",
        "- **False Positives (FP)**\n",
        "- **False Negatives (FN)**\n",
        "\n",
        "### 2. Accuracy\n",
        "Accuracy is the proportion of correct predictions (both true positives and true negatives) out of all predictions:\n",
        "$$\n",
        "\\text{Accuracy} = \\frac{TP + TN}{TP + TN + FP + FN}\n",
        "$$\n",
        "\n",
        "### 3. Precision\n",
        "Precision (also called Positive Predictive Value) measures the proportion of positive predictions that are actually correct:\n",
        "$$\n",
        "\\text{Precision} = \\frac{TP}{TP + FP}\n",
        "$$\n",
        "\n",
        "### 4. Recall (Sensitivity)\n",
        "Recall measures the proportion of actual positive cases that were correctly identified:\n",
        "$$\n",
        "\\text{Recall} = \\frac{TP}{TP + FN}\n",
        "$$\n",
        "\n",
        "### 5. F1 Score\n",
        "The F1 score is the harmonic mean of precision and recall, providing a balance between the two:\n",
        "$$\n",
        "F1 = 2 \\times \\frac{\\text{Precision} \\times \\text{Recall}}{\\text{Precision} + \\text{Recall}}\n",
        "$$\n",
        "\n",
        "### 6. ROC Curve and AUC\n",
        "- **ROC Curve:** Plots the True Positive Rate (Recall) against the False Positive Rate for different threshold settings.\n",
        "- **AUC (Area Under the ROC Curve):** Quantifies the overall ability of the model to discriminate between positive and negative classes. A higher AUC indicates better performance.\n",
        "\n",
        "### 7. Log Loss (Cross-Entropy Loss)\n",
        "Log loss measures the performance of a classifier where the prediction is a probability between 0 and 1. Lower log loss values indicate better performance.\n",
        "\n",
        "\n",
        "Each metric provides unique insights into your model's performance. The best metric to use depends on your specific application and the balance between false positives and false negatives.\n"
      ],
      "metadata": {
        "id": "fQxCKO2wGjBj"
      }
    },
    {
      "cell_type": "markdown",
      "source": [
        "# Q12. How does class imbalance affect Logistic Regression?"
      ],
      "metadata": {
        "id": "8W-nQOH3G1-S"
      }
    },
    {
      "cell_type": "markdown",
      "source": [
        "Class imbalance occurs when one class significantly outnumbers another. This can have several effects on a Logistic Regression model:\n",
        "\n",
        "1. **Bias Toward the Majority Class:**  \n",
        "   Logistic Regression minimizes a cost function that treats all misclassifications equally. When the dataset is imbalanced, the model may lean toward predicting the majority class to reduce overall error, often at the expense of correctly classifying the minority class.\n",
        "\n",
        "2. **Poor Minority Class Detection:**  \n",
        "   Even if the overall accuracy seems high, the model might perform poorly in identifying the minority class. This is critical in applications like fraud detection or medical diagnosis, where detecting the minority class is essential.\n",
        "\n",
        "3. **Skewed Probability Estimates:**  \n",
        "   The predicted probabilities may be biased toward the majority class, making it challenging to set a proper decision threshold. The standard threshold of 0.5 might not be appropriate when the classes are imbalanced.\n",
        "\n",
        "4. **Misleading Evaluation Metrics:**  \n",
        "   Accuracy can be misleading when one class dominates. Metrics such as precision, recall, F1 score, and ROC-AUC become more informative in assessing model performance under class imbalance.\n",
        "\n",
        "### Mitigation Strategies\n",
        "\n",
        "- **Resampling Techniques:**  \n",
        "  - **Over-sampling:** Increase the number of minority class examples (e.g., using SMOTE).  \n",
        "  - **Under-sampling:** Decrease the number of majority class examples.\n",
        "  \n",
        "- **Cost-Sensitive Learning:**  \n",
        "  Incorporate class weights in the loss function so that errors on the minority class incur a higher penalty.\n",
        "\n",
        "- **Threshold Adjustment:**  \n",
        "  Adjust the decision threshold from the default value (0.5) to optimize for better performance on the minority class based on evaluation metrics.\n",
        "\n",
        "Addressing class imbalance is crucial to ensure that Logistic Regression models provide reliable predictions for all classes.\n"
      ],
      "metadata": {
        "id": "VmdVSkJbG9r_"
      }
    },
    {
      "cell_type": "markdown",
      "source": [
        "# Q13. What is Hyperparameter Tuning in Logistic Regression?"
      ],
      "metadata": {
        "id": "M7QZhSjxHLj2"
      }
    },
    {
      "cell_type": "markdown",
      "source": [
        "# Hyperparameter Tuning in Logistic Regression\n",
        "\n",
        "Hyperparameter tuning refers to the process of selecting the optimal configuration for the parameters that are not learned directly from the data but set before the training process. In logistic regression, hyperparameter tuning primarily involves adjusting regularization parameters to improve model performance.\n",
        "\n",
        "## Key Hyperparameters\n",
        "\n",
        "1. **Regularization Strength (\\(\\lambda\\) or \\(C\\)):**  \n",
        "   - **\\(\\lambda\\):** In many formulations, \\(\\lambda\\) controls the amount of regularization. A larger \\(\\lambda\\) means stronger regularization, which penalizes large weights more heavily.  \n",
        "   - **\\(C\\):** In some libraries like Scikit-learn, the parameter \\(C\\) is used, where a smaller \\(C\\) corresponds to stronger regularization.\n",
        "\n",
        "2. **Type of Regularization:**  \n",
        "   - **L1 Regularization (Lasso):** Encourages sparsity by driving some coefficients to exactly zero, effectively performing feature selection.  \n",
        "   - **L2 Regularization (Ridge):** Penalizes the squared magnitude of coefficients, leading to smaller but non-zero values.  \n",
        "   - **Elastic Net:** A combination of both L1 and L2 penalties, controlled by a mixing parameter.\n",
        "\n",
        "## Methods for Hyperparameter Tuning\n",
        "\n",
        "- **Grid Search:**  \n",
        "  An exhaustive search over a specified parameter grid. Each combination is evaluated (often via cross-validation) to find the optimal settings.\n",
        "\n",
        "- **Random Search:**  \n",
        "  Randomly samples a subset of the hyperparameter space. It can be more efficient than grid search when dealing with many parameters or wide ranges.\n",
        "\n",
        "- **Automated Methods:**  \n",
        "  Techniques like Bayesian optimization, Hyperopt, or using tools such as Scikit-learn's `RandomizedSearchCV` and `GridSearchCV` can automate the tuning process.\n",
        "\n",
        "## Importance of Hyperparameter Tuning\n",
        "\n",
        "- **Improved Model Performance:**  \n",
        "  Properly tuned hyperparameters can enhance the model’s ability to generalize, leading to better performance on unseen data.\n",
        "\n",
        "- **Bias-Variance Trade-off:**  \n",
        "  Adjusting the regularization strength helps manage the trade-off between underfitting (high bias) and overfitting (high variance).\n",
        "\n",
        "- **Efficient Resource Use:**  \n",
        "  Tuning helps in finding a model that is neither too complex (which might overfit and be computationally expensive) nor too simple (which might underfit).\n",
        "\n",
        "In summary, hyperparameter tuning in logistic regression is essential for optimizing model performance and ensuring that the model is well-suited to the specific dataset and problem at hand.\n"
      ],
      "metadata": {
        "id": "_if7mwPpHS4C"
      }
    },
    {
      "cell_type": "markdown",
      "source": [
        "# Q14.  What are different solvers in Logistic Regression? Which one should be used?"
      ],
      "metadata": {
        "id": "ftj6xtOoHd7S"
      }
    },
    {
      "cell_type": "markdown",
      "source": [
        "# Solvers in Logistic Regression\n",
        "\n",
        "Logistic Regression involves optimizing a cost function, and different **solvers** are available to perform this optimization. Each solver uses a different algorithm, and the best choice depends on your dataset size, the type of regularization, and whether you’re dealing with binary or multiclass classification. Here are the common solvers:\n",
        "\n",
        "### 1. **liblinear**\n",
        "- **Method:**  \n",
        "  Uses a coordinate descent algorithm.\n",
        "- **Pros:**  \n",
        "  - Well-suited for **small datasets**.\n",
        "  - Supports both **L1 and L2 regularization**.\n",
        "  - Works well for **binary classification**.\n",
        "- **Cons:**  \n",
        "  - Can be slower for large datasets.\n",
        "  - Not ideal for multiclass problems (it implements one-vs-rest for multiclass classification).\n",
        "\n",
        "### 2. **lbfgs**\n",
        "- **Method:**  \n",
        "  A quasi-Newton method that approximates the Hessian matrix.\n",
        "- **Pros:**  \n",
        "  - Efficient for **multiclass classification**.\n",
        "  - Works well with **large datasets**.\n",
        "  - Generally the **default solver** in many implementations (like Scikit-learn).\n",
        "- **Cons:**  \n",
        "  - Supports only **L2 regularization**.\n",
        "\n",
        "### 3. **newton-cg**\n",
        "- **Method:**  \n",
        "  Uses Newton’s method with a conjugate gradient approach to approximate the Hessian.\n",
        "- **Pros:**  \n",
        "  - Suitable for **large datasets**.\n",
        "  - Works well for **multiclass classification**.\n",
        "- **Cons:**  \n",
        "  - Typically supports only **L2 regularization**.\n",
        "\n",
        "### 4. **sag (Stochastic Average Gradient)**\n",
        "- **Method:**  \n",
        "  A variant of stochastic gradient descent optimized for large datasets.\n",
        "- **Pros:**  \n",
        "  - Scales well with **very large datasets**.\n",
        "  - Often faster than lbfgs for huge datasets.\n",
        "- **Cons:**  \n",
        "  - Generally limited to **L2 regularization**.\n",
        "  - May not perform as well on smaller datasets due to overhead.\n",
        "\n",
        "### 5. **saga**\n",
        "- **Method:**  \n",
        "  An extension of sag that can handle both L1 and L2 penalties.\n",
        "- **Pros:**  \n",
        "  - Suitable for **large datasets**.\n",
        "  - Supports **L1 regularization**, making it useful when you want feature selection.\n",
        "  - Works well with **sparse data**.\n",
        "- **Cons:**  \n",
        "  - Can be slightly more complex to tune.\n",
        "\n",
        "### Which One Should You Use?\n",
        "\n",
        "- **Small Datasets / Binary Classification:**  \n",
        "  Consider **liblinear** for its simplicity and support for both L1 and L2 regularization.\n",
        "\n",
        "- **Large Datasets / Multiclass Problems:**  \n",
        "  **lbfgs** or **newton-cg** are often the best choice, especially if you only need L2 regularization.  \n",
        "  For very large datasets, **sag** and **saga** may offer faster convergence.\n",
        "\n",
        "- **Need for L1 Regularization (Feature Selection):**  \n",
        "  Use **liblinear** (if the dataset is small) or **saga** (for larger datasets) to take advantage of L1's sparsity-inducing properties.\n",
        "\n",
        "In practice, the default choice in many libraries (like Scikit-learn) is **lbfgs** because of its robust performance on multiclass problems and larger datasets. However, it’s often a good idea to experiment with different solvers and tune hyperparameters via cross-validation to determine the best option for your specific application.\n"
      ],
      "metadata": {
        "id": "0QnNqC0gHp32"
      }
    },
    {
      "cell_type": "markdown",
      "source": [
        "# Q15.  How is Logistic Regression extended for multiclass classification?"
      ],
      "metadata": {
        "id": "Br7QzZqxH8fD"
      }
    },
    {
      "cell_type": "markdown",
      "source": [
        "# Extending Logistic Regression for Multiclass Classification\n",
        "\n",
        "Logistic Regression was originally designed for binary classification. To extend it for multiclass problems (where there are more than two classes), there are two common approaches:\n",
        "\n",
        "### 1. One-vs-Rest (OvR) / One-vs-All\n",
        "- **Approach:**  \n",
        "  Train a separate binary logistic regression classifier for each class. For each classifier, the class in question is treated as the positive class, and all other classes are combined into a single negative class.\n",
        "- **Prediction:**  \n",
        "  Each classifier outputs a probability score. The final predicted class is the one with the highest probability.\n",
        "- **Advantages:**  \n",
        "  - Simple to implement.\n",
        "  - Can use binary logistic regression methods and solvers.\n",
        "- **Disadvantages:**  \n",
        "  - The classifiers are trained independently, which may lead to inconsistent probability estimates across classes.\n",
        "\n",
        "### 2. Multinomial Logistic Regression (Softmax Regression)\n",
        "- **Approach:**  \n",
        "  This method generalizes logistic regression by using the **softmax function** to directly model the probabilities of all classes in a single optimization problem.\n",
        "- **Mathematical Formulation:**  \n",
        "  For \\(K\\) classes and an input feature vector \\(\\mathbf{x}\\), the probability that the observation belongs to class \\(i\\) is given by:\n",
        "  $$\n",
        "  P(y = i \\mid \\mathbf{x}) = \\frac{e^{\\mathbf{w}_i^T \\mathbf{x} + b_i}}{\\sum_{j=1}^{K} e^{\\mathbf{w}_j^T \\mathbf{x} + b_j}}\n",
        "  $$\n",
        "  where:\n",
        "  - \\(\\mathbf{w}_i\\) and \\(b_i\\) are the weight vector and bias for class \\(i\\).\n",
        "- **Prediction:**  \n",
        "  The model predicts the class with the highest probability.\n",
        "- **Advantages:**  \n",
        "  - Provides a unified framework with consistent probability estimates across classes.\n",
        "  - Often yields better performance when class relationships are interdependent.\n",
        "- **Disadvantages:**  \n",
        "  - The optimization problem is generally more complex than in the binary case.\n",
        "\n",
        "### Which Approach to Choose?\n",
        "- **One-vs-Rest (OvR):**  \n",
        "  May be preferred when simplicity is key or when using solvers that are more efficient for binary problems.\n",
        "- **Multinomial Logistic Regression (Softmax):**  \n",
        "  Tends to be more robust and provides better-calibrated probabilities, especially when classes are not clearly separable.\n",
        "\n",
        "Both methods are widely used in practice, and the best choice often depends on the specifics of your dataset and computational resources.\n"
      ],
      "metadata": {
        "id": "9S4P5EewIDWz"
      }
    },
    {
      "cell_type": "markdown",
      "source": [
        "# Q16. What are the advantages and disadvantages of Logistic Regression?"
      ],
      "metadata": {
        "id": "LaPHgXQ3IQ5o"
      }
    },
    {
      "cell_type": "markdown",
      "source": [
        "# Advantages and Disadvantages of Logistic Regression\n",
        "\n",
        "## Advantages\n",
        "\n",
        "1. **Simplicity and Interpretability:**  \n",
        "   - **Easy to implement:** Logistic regression is straightforward to code and understand.  \n",
        "   - **Interpretable coefficients:** The model coefficients represent the change in the log odds of the outcome for a unit change in the predictor.\n",
        "\n",
        "2. **Computational Efficiency:**  \n",
        "   - Suitable for large datasets, as it converges relatively quickly with efficient optimization methods (e.g., lbfgs).\n",
        "\n",
        "3. **Probability Estimates:**  \n",
        "   - Provides calibrated probabilities that can be useful for decision-making beyond mere class predictions.\n",
        "\n",
        "4. **Regularization Capabilities:**  \n",
        "   - Incorporates regularization (L1, L2, or Elastic Net) to prevent overfitting, especially in high-dimensional settings.\n",
        "\n",
        "5. **Flexibility for Binary and Multiclass Problems:**  \n",
        "   - Easily extended to multiclass classification using techniques like one-vs-rest (OvR) or multinomial logistic regression (softmax).\n",
        "\n",
        "## Disadvantages\n",
        "\n",
        "1. **Assumption of Linearity in the Logit:**  \n",
        "   - Assumes a linear relationship between predictors and the log odds, which may not hold for complex datasets with non-linear relationships.\n",
        "\n",
        "2. **Sensitivity to Outliers:**  \n",
        "   - Outliers can have a significant impact on the decision boundary, potentially skewing results.\n",
        "\n",
        "3. **Difficulty with Highly Correlated Features:**  \n",
        "   - Multicollinearity among predictors can lead to unstable coefficient estimates unless addressed through regularization or feature selection.\n",
        "\n",
        "4. **Class Imbalance Challenges:**  \n",
        "   - In datasets with imbalanced classes, the model may be biased toward the majority class unless techniques like class weighting or resampling are applied.\n",
        "\n",
        "5. **Limited to Linearly Separable Problems:**  \n",
        "   - Logistic regression may underperform if the true decision boundary between classes is highly non-linear, requiring more complex models.\n"
      ],
      "metadata": {
        "id": "ucIYmZrHIdHb"
      }
    },
    {
      "cell_type": "markdown",
      "source": [
        "# Q17. What are some use cases of Logistic Regression?"
      ],
      "metadata": {
        "id": "ZekJn2vRIk-y"
      }
    },
    {
      "cell_type": "markdown",
      "source": [
        "# Use Cases of Logistic Regression\n",
        "\n",
        "Logistic Regression is a versatile and widely used classification technique, particularly for binary outcomes. Here are some common applications:\n",
        "\n",
        "### 1. Medical Diagnosis\n",
        "- **Application:**  \n",
        "  Predicting whether a patient has a particular disease (e.g., diabetes, heart disease).\n",
        "- **Why Logistic Regression?**  \n",
        "  Its probabilistic outputs assist healthcare professionals in assessing risk and making informed decisions.\n",
        "\n",
        "### 2. Credit Scoring\n",
        "- **Application:**  \n",
        "  Evaluating the likelihood of a borrower defaulting on a loan.\n",
        "- **Why Logistic Regression?**  \n",
        "  The interpretability of the model allows lenders to understand the impact of various financial indicators on credit risk.\n",
        "\n",
        "### 3. Customer Churn Prediction\n",
        "- **Application:**  \n",
        "  Identifying customers who are likely to cancel a subscription or stop using a service.\n",
        "- **Why Logistic Regression?**  \n",
        "  By providing probability estimates, companies can target at-risk customers with retention strategies.\n",
        "\n",
        "### 4. Marketing Response Analysis\n",
        "- **Application:**  \n",
        "  Predicting whether a customer will respond to a marketing campaign.\n",
        "- **Why Logistic Regression?**  \n",
        "  It helps in segmenting customers based on their likelihood to engage or make a purchase, facilitating targeted marketing efforts.\n",
        "\n",
        "### 5. Fraud Detection\n",
        "- **Application:**  \n",
        "  Classifying transactions as fraudulent or legitimate.\n",
        "- **Why Logistic Regression?**  \n",
        "  Its efficiency and ease of interpretation make it suitable for real-time monitoring and quick decision-making.\n",
        "\n",
        "### 6. Spam Detection\n",
        "- **Application:**  \n",
        "  Determining whether an email is spam or not.\n",
        "- **Why Logistic Regression?**  \n",
        "  It can effectively handle high-dimensional data (e.g., text features) and deliver robust binary classifications.\n",
        "\n",
        "### 7. Social and Behavioral Research\n",
        "- **Application:**  \n",
        "  Analyzing survey data to predict binary outcomes (e.g., voter turnout, adoption of technology).\n",
        "- **Why Logistic Regression?**  \n",
        "  Its statistical foundations provide clear insights into the relationship between predictor variables and outcomes.\n",
        "\n",
        "Each of these use cases leverages the strengths of Logistic Regression—its simplicity, interpretability, and ability to generate probabilistic predictions—making it a valuable tool across various industries and research fields.\n"
      ],
      "metadata": {
        "id": "1HpWUHdDIvBX"
      }
    },
    {
      "cell_type": "markdown",
      "source": [
        "# Q18. What is the difference between Softmax Regression and Logistic Regression?"
      ],
      "metadata": {
        "id": "57_lRIzjJAI0"
      }
    },
    {
      "cell_type": "markdown",
      "source": [
        "# Difference between Softmax Regression and Logistic Regression\n",
        "\n",
        "Both Logistic Regression and Softmax Regression are used for classification, but they differ primarily in the number of classes they handle and the functions they use to model probabilities.\n",
        "\n",
        "## Logistic Regression\n",
        "- **Purpose:**  \n",
        "  Designed for **binary classification** (two classes).\n",
        "  \n",
        "- **Probability Function:**  \n",
        "  Uses the **sigmoid function** to map a linear combination of inputs to a probability between 0 and 1:\n",
        "  $$\n",
        "  P(y=1 \\mid \\mathbf{x}) = \\frac{1}{1 + e^{-(\\mathbf{w}^T \\mathbf{x} + b)}}\n",
        "  $$\n",
        "  The probability of the other class is simply \\(P(y=0 \\mid \\mathbf{x}) = 1 - P(y=1 \\mid \\mathbf{x})\\).\n",
        "\n",
        "- **Output:**  \n",
        "  Provides a single probability value that can be thresholded (commonly at 0.5) to classify the input.\n",
        "\n",
        "## Softmax Regression\n",
        "- **Purpose:**  \n",
        "  An extension of Logistic Regression for **multiclass classification** (three or more classes).\n",
        "  \n",
        "- **Probability Function:**  \n",
        "  Uses the **softmax function** to convert a vector of scores (one for each class) into a probability distribution that sums to 1:\n",
        "  $$\n",
        "  P(y = i \\mid \\mathbf{x}) = \\frac{e^{\\mathbf{w}_i^T \\mathbf{x} + b_i}}{\\sum_{j=1}^{K} e^{\\mathbf{w}_j^T \\mathbf{x} + b_j}}, \\quad \\text{for } i = 1, \\dots, K\n",
        "  $$\n",
        "  where \\(K\\) is the number of classes.\n",
        "\n",
        "- **Output:**  \n",
        "  Produces a vector of probabilities for each class, with the predicted class being the one with the highest probability.\n",
        "\n",
        "## Key Differences\n",
        "- **Number of Classes:**\n",
        "  - **Logistic Regression:** Suitable for binary outcomes.\n",
        "  - **Softmax Regression:** Handles multiple classes simultaneously.\n",
        "  \n",
        "- **Function Used:**\n",
        "  - **Logistic Regression:** Sigmoid function.\n",
        "  - **Softmax Regression:** Softmax function, which normalizes outputs into a probability distribution.\n",
        "  \n",
        "- **Model Structure:**\n",
        "  - **Logistic Regression:** Single decision boundary separating two classes.\n",
        "  - **Softmax Regression:** Multiple decision boundaries to separate each class from the others.\n",
        "\n",
        "In summary, while Logistic Regression is ideal for problems with two possible outcomes, Softmax Regression generalizes the approach to work with multiclass classification by providing a full probability distribution over all classes.\n"
      ],
      "metadata": {
        "id": "TOXAmd41JUMS"
      }
    },
    {
      "cell_type": "markdown",
      "source": [
        "# Q19. How do we choose between One-vs-Rest (OvR) and Softmax for multiclass classification?"
      ],
      "metadata": {
        "id": "EFpGMUgOJg4C"
      }
    },
    {
      "cell_type": "markdown",
      "source": [
        "# Choosing Between One-vs-Rest (OvR) and Softmax for Multiclass Classification\n",
        "\n",
        "When extending logistic regression for multiclass problems, you have two popular approaches:\n",
        "\n",
        "## One-vs-Rest (OvR)\n",
        "- **Approach:**  \n",
        "  Train a separate binary logistic regression classifier for each class. Each classifier distinguishes one class from all others.\n",
        "- **Advantages:**  \n",
        "  - **Simplicity:** Uses standard binary logistic regression for each class.\n",
        "  - **Independent Training:** Each classifier can be tuned independently.\n",
        "  - **Flexibility:** Can perform well when classes are imbalanced.\n",
        "- **Disadvantages:**  \n",
        "  - **Inconsistent Probabilities:** The individual classifiers provide probabilities that are not naturally normalized (i.e., they may not sum to 1).\n",
        "  - **Suboptimal Boundaries:** Decision boundaries may not be optimal if classes overlap.\n",
        "- **When to Use:**  \n",
        "  - When you prefer simplicity and interpretability.\n",
        "  - When classes are relatively well-separated or when computational resources are limited.\n",
        "\n",
        "## Softmax Regression (Multinomial Logistic Regression)\n",
        "- **Approach:**  \n",
        "  Use a single model that computes scores for all classes and then applies the softmax function to convert these scores into a probability distribution.\n",
        "- **Advantages:**  \n",
        "  - **Unified Model:** Outputs a normalized probability distribution over all classes (the probabilities sum to 1).\n",
        "  - **Better Calibration:** Tends to provide more consistent probability estimates across classes.\n",
        "  - **Optimal for Interdependent Classes:** Can capture interactions between classes more effectively.\n",
        "- **Disadvantages:**  \n",
        "  - **Computational Complexity:** Optimizing a single multinomial objective can be more computationally intensive.\n",
        "  - **Interpretability:** The influence of individual predictors may be less straightforward compared to independent binary classifiers.\n",
        "- **When to Use:**  \n",
        "  - When classes are mutually exclusive and you require calibrated probability estimates.\n",
        "  - When you have sufficient computational resources to handle the more complex optimization.\n",
        "  - When the relationships between classes are interdependent.\n",
        "\n",
        "## How to Choose\n",
        "- **Dataset Characteristics:**  \n",
        "  - If your classes are simple and well-separated, OvR might be sufficient.\n",
        "  - For more complex or overlapping classes, Softmax can often provide better overall performance.\n",
        "- **Probability Calibration:**  \n",
        "  - If having a coherent probability distribution (i.e., probabilities summing to 1) is important, Softmax is preferable.\n",
        "- **Computational Considerations:**  \n",
        "  - OvR may be faster to train for small datasets or when leveraging highly optimized binary classifiers.\n",
        "  - Softmax is ideal for applications where a unified model is desired and computational resources allow for it.\n",
        "- **Empirical Evaluation:**  \n",
        "  - Often the best approach is to try both methods and compare their performance using cross-validation on your specific dataset.\n",
        "\n",
        "By weighing these factors, you can select the multiclass strategy that best fits your problem's requirements and data characteristics.\n"
      ],
      "metadata": {
        "id": "gTHmu61mJmbD"
      }
    },
    {
      "cell_type": "markdown",
      "source": [
        "# Q20. How do we interpret coefficients in Logistic Regression?"
      ],
      "metadata": {
        "id": "-niIWB-SKHnN"
      }
    },
    {
      "cell_type": "markdown",
      "source": [
        "# Interpreting Coefficients in Logistic Regression\n",
        "\n",
        "In logistic regression, we model the log odds of the probability of an event occurring as a linear combination of the predictors:\n",
        "\n",
        "$$\n",
        "\\log\\left(\\frac{p}{1-p}\\right) = \\beta_0 + \\beta_1 x_1 + \\beta_2 x_2 + \\dots + \\beta_k x_k\n",
        "$$\n",
        "\n",
        "where:\n",
        "- \\( p \\) is the probability of the event (e.g., \\( y = 1 \\)).\n",
        "- \\( \\beta_0 \\) is the intercept.\n",
        "- \\( \\beta_i \\) (for \\( i = 1, 2, \\dots, k \\)) are the coefficients corresponding to each predictor \\( x_i \\).\n",
        "\n",
        "## How to Interpret the Coefficients\n",
        "\n",
        "### 1. Change in Log Odds\n",
        "- **Coefficient \\(\\beta_i\\):**  \n",
        "  Represents the change in the log odds of the outcome for a one-unit increase in \\( x_i \\), holding all other variables constant.\n",
        "- **Example:**  \n",
        "  If \\( \\beta_1 = 0.5 \\), a one-unit increase in \\( x_1 \\) increases the log odds of the event by 0.5.\n",
        "\n",
        "### 2. Odds Ratio\n",
        "- To convert the change in log odds to a more intuitive measure, we **exponentiate** the coefficient:\n",
        "  \n",
        "  $$\n",
        "  \\text{Odds Ratio} = e^{\\beta_i}\n",
        "  $$\n",
        "- **Interpretation:**\n",
        "  - If \\( e^{\\beta_i} > 1 \\): A one-unit increase in \\( x_i \\) increases the odds of the event.\n",
        "  - If \\( e^{\\beta_i} < 1 \\): A one-unit increase in \\( x_i \\) decreases the odds of the event.\n",
        "  - If \\( e^{\\beta_i} = 1 \\): There is no effect from \\( x_i \\).\n",
        "\n",
        "- **Example:**  \n",
        "  For \\( \\beta_1 = 0.7 \\):\n",
        "  - The odds ratio is \\( e^{0.7} \\approx 2.01 \\).\n",
        "  - This implies that a one-unit increase in \\( x_1 \\) approximately **doubles** the odds of the event occurring.\n",
        "\n",
        "### 3. Probability Interpretation\n",
        "- Although coefficients are interpreted in terms of log odds or odds ratios, the actual probability \\( p \\) is derived from the logistic (sigmoid) function:\n",
        "\n",
        "  $$\n",
        "  p = \\frac{1}{1 + e^{-(\\beta_0 + \\beta_1 x_1 + \\dots + \\beta_k x_k)}}\n",
        "  $$\n",
        "\n",
        "- The relationship between predictors and the probability is **non-linear** due to the sigmoid transformation.\n",
        "\n",
        "### Considerations\n",
        "- **Scale and Units:**  \n",
        "  Ensure that the predictors are on a meaningful scale. For categorical predictors, coefficients represent differences relative to a reference category.\n",
        "- **Interaction and Nonlinear Effects:**  \n",
        "  When interaction terms or nonlinear transformations are included, the interpretation of individual coefficients becomes more complex.\n",
        "- **Context Matters:**  \n",
        "  Interpret the coefficients in the context of the domain, considering what a \"one-unit increase\" means for each variable.\n",
        "\n",
        "In summary, logistic regression coefficients inform us about the change in the log odds of an event per unit change in a predictor, and exponentiating these coefficients gives the odds ratios, which are often easier to interpret in practical terms.\n"
      ],
      "metadata": {
        "id": "qamHYMB_KMdT"
      }
    },
    {
      "cell_type": "markdown",
      "source": [
        "# Practical\n",
        "\n",
        "---\n",
        "\n"
      ],
      "metadata": {
        "id": "SoRpuK0HLQwJ"
      }
    },
    {
      "cell_type": "markdown",
      "source": [
        "# Q1. Write a Python program that loads a dataset, splits it into training and testing sets, applies Logistic Regression, and prints the model accuracy?"
      ],
      "metadata": {
        "id": "QgoWginPLWFN"
      }
    },
    {
      "cell_type": "code",
      "source": [
        "from sklearn.datasets import load_breast_cancer\n",
        "from sklearn.model_selection import train_test_split\n",
        "from sklearn.linear_model import LogisticRegression\n",
        "from sklearn.metrics import accuracy_score\n",
        "\n",
        "data = load_breast_cancer()\n",
        "X = data.data\n",
        "y = data.target\n",
        "\n",
        "X_train, X_test, y_train, y_test = train_test_split(X, y, test_size=0.2, random_state=42)\n",
        "model = LogisticRegression(max_iter=10000)\n",
        "model.fit(X_train, y_train)\n",
        "y_pred = model.predict(X_test)\n",
        "accuracy = accuracy_score(y_test, y_pred)\n",
        "print(\"Model Accuracy:\", accuracy)\n"
      ],
      "metadata": {
        "colab": {
          "base_uri": "https://localhost:8080/"
        },
        "id": "ouqHX6UdLd-M",
        "outputId": "11efe18f-9a60-410b-88ab-77f9292c2d6c"
      },
      "execution_count": null,
      "outputs": [
        {
          "output_type": "stream",
          "name": "stdout",
          "text": [
            "Model Accuracy: 0.956140350877193\n"
          ]
        }
      ]
    },
    {
      "cell_type": "markdown",
      "source": [
        "# Q2. Write a Python program to apply L1 regularization (Lasso) on a dataset using LogisticRegression(penalty='l1') and print the model accuracy?"
      ],
      "metadata": {
        "id": "ROrhJbzBMQmq"
      }
    },
    {
      "cell_type": "code",
      "source": [
        "from sklearn.datasets import load_breast_cancer\n",
        "from sklearn.model_selection import train_test_split\n",
        "from sklearn.linear_model import LogisticRegression\n",
        "from sklearn.metrics import accuracy_score\n",
        "\n",
        "data = load_breast_cancer()\n",
        "X = data.data\n",
        "y = data.target\n",
        "X_train, X_test, y_train, y_test = train_test_split(X, y, test_size=0.2, random_state=42)\n",
        "model = LogisticRegression(penalty='l1', solver='liblinear', max_iter=10000)\n",
        "model.fit(X_train, y_train)\n",
        "y_pred = model.predict(X_test)\n",
        "accuracy = accuracy_score(y_test, y_pred)\n",
        "print(\"Model Accuracy:\", accuracy)\n"
      ],
      "metadata": {
        "colab": {
          "base_uri": "https://localhost:8080/"
        },
        "id": "_OAAO_S8McsV",
        "outputId": "f8fc9896-e165-42cd-cbca-d8296b3df4d2"
      },
      "execution_count": null,
      "outputs": [
        {
          "output_type": "stream",
          "name": "stdout",
          "text": [
            "Model Accuracy: 0.956140350877193\n"
          ]
        }
      ]
    },
    {
      "cell_type": "markdown",
      "source": [
        "# Q3. Write a Python program to train Logistic Regression with L2 regularization (Ridge) using LogisticRegression(penalty='l2'). Print model accuracy and coefficients?"
      ],
      "metadata": {
        "id": "d1X_gSyYMjDD"
      }
    },
    {
      "cell_type": "code",
      "source": [
        "from sklearn.datasets import load_breast_cancer\n",
        "from sklearn.model_selection import train_test_split\n",
        "from sklearn.linear_model import LogisticRegression\n",
        "from sklearn.metrics import accuracy_score\n",
        "\n",
        "data = load_breast_cancer()\n",
        "X = data.data\n",
        "y = data.target\n",
        "\n",
        "X_train, X_test, y_train, y_test = train_test_split(X, y, test_size=0.2, random_state=42)\n",
        "model = LogisticRegression(penalty='l2', solver='lbfgs', max_iter=10000)\n",
        "model.fit(X_train, y_train)\n",
        "y_pred = model.predict(X_test)\n",
        "accuracy = accuracy_score(y_test, y_pred)\n",
        "print(\"Model Accuracy:\", accuracy)\n",
        "print(\"Coefficients:\", model.coef_)\n",
        "print(\"Intercept:\", model.intercept_)\n"
      ],
      "metadata": {
        "colab": {
          "base_uri": "https://localhost:8080/"
        },
        "id": "D1uZbfp5MqPO",
        "outputId": "01a0f7f4-aee3-485e-90b2-c2bb2ac6300c"
      },
      "execution_count": null,
      "outputs": [
        {
          "output_type": "stream",
          "name": "stdout",
          "text": [
            "Model Accuracy: 0.956140350877193\n",
            "Coefficients: [[ 0.99123985  0.22585978 -0.36791774  0.02618353 -0.15473343 -0.23191094\n",
            "  -0.52309562 -0.27862312 -0.22387539 -0.0362507  -0.09516474  1.38669621\n",
            "  -0.1613307  -0.08921111 -0.02219822  0.04746336 -0.04182317 -0.03173778\n",
            "  -0.03381422  0.011614    0.09411541 -0.51440111 -0.0169633  -0.0165277\n",
            "  -0.3057193  -0.76483474 -1.41463479 -0.50351529 -0.73794024 -0.10032049]]\n",
            "Intercept: [29.4533058]\n"
          ]
        }
      ]
    },
    {
      "cell_type": "markdown",
      "source": [
        "# Q4. Write a Python program to train Logistic Regression with Elastic Net Regularization (penalty='elasticnet')?"
      ],
      "metadata": {
        "id": "pzi-1hA-M0Ci"
      }
    },
    {
      "cell_type": "code",
      "source": [
        "from sklearn.datasets import load_breast_cancer\n",
        "from sklearn.model_selection import train_test_split\n",
        "from sklearn.linear_model import LogisticRegression\n",
        "from sklearn.metrics import accuracy_score\n",
        "\n",
        "data = load_breast_cancer()\n",
        "X = data.data\n",
        "y = data.target\n",
        "X_train, X_test, y_train, y_test = train_test_split(X, y, test_size=0.2, random_state=42)\n",
        "model = LogisticRegression(penalty='elasticnet', solver='saga', l1_ratio=0.5, max_iter=10000)\n",
        "model.fit(X_train, y_train)\n",
        "y_pred = model.predict(X_test)\n",
        "accuracy = accuracy_score(y_test, y_pred)\n",
        "print(\"Model Accuracy:\", accuracy)\n",
        "print(\"Coefficients:\", model.coef_)\n",
        "print(\"Intercept:\", model.intercept_)\n"
      ],
      "metadata": {
        "colab": {
          "base_uri": "https://localhost:8080/"
        },
        "id": "QNdLMxu_M7B2",
        "outputId": "5ab34c84-9be6-4ff4-acaf-2b5b11a91831"
      },
      "execution_count": null,
      "outputs": [
        {
          "output_type": "stream",
          "name": "stdout",
          "text": [
            "Model Accuracy: 0.9736842105263158\n",
            "Coefficients: [[ 1.54887058e-02 -1.06195446e-03  7.70026171e-02  1.43956794e-02\n",
            "   0.00000000e+00 -3.22108805e-04 -6.58148061e-04 -1.74431074e-04\n",
            "   0.00000000e+00  0.00000000e+00  1.22588860e-05  4.47560881e-04\n",
            "  -1.37290833e-03 -2.29281756e-02  0.00000000e+00  0.00000000e+00\n",
            "  -2.30690439e-05  0.00000000e+00  0.00000000e+00  0.00000000e+00\n",
            "   1.61473248e-02 -9.35733495e-03  6.31904961e-02 -2.72545199e-02\n",
            "   0.00000000e+00 -1.57262194e-03 -2.14254409e-03 -4.37649416e-04\n",
            "  -9.42097078e-05  0.00000000e+00]]\n",
            "Intercept: [0.00224565]\n"
          ]
        }
      ]
    },
    {
      "cell_type": "markdown",
      "source": [
        "# Q5. Write a Python program to train a Logistic Regression model for multiclass classification using multi_class='ovr'?"
      ],
      "metadata": {
        "id": "NxwM2414NI1M"
      }
    },
    {
      "cell_type": "code",
      "source": [
        "from sklearn.datasets import load_iris\n",
        "from sklearn.linear_model import LogisticRegression\n",
        "from sklearn.model_selection import train_test_split\n",
        "from sklearn.metrics import accuracy_score\n",
        "\n",
        "data = load_iris()\n",
        "X = data.data\n",
        "y = data.target\n",
        "\n",
        "X_train, X_test, y_train, y_test = train_test_split(X, y, test_size=0.2, random_state=42)\n",
        "model = LogisticRegression(multi_class='ovr', solver='liblinear', max_iter=10000)\n",
        "model.fit(X_train, y_train)\n",
        "y_pred = model.predict(X_test)\n",
        "accuracy = accuracy_score(y_test, y_pred)\n",
        "print(\"Model Accuracy:\", accuracy)\n",
        "print(\"Coefficients:\", model.coef_)\n",
        "print(\"Intercept:\", model.intercept_)\n"
      ],
      "metadata": {
        "colab": {
          "base_uri": "https://localhost:8080/"
        },
        "id": "noQ04DCWNTf3",
        "outputId": "e1067202-d0a9-4e01-871f-212d7c1fd2f1"
      },
      "execution_count": null,
      "outputs": [
        {
          "output_type": "stream",
          "name": "stdout",
          "text": [
            "Model Accuracy: 1.0\n",
            "Coefficients: [[ 0.3711229   1.409712   -2.15210117 -0.95474179]\n",
            " [ 0.49400451 -1.58897112  0.43717015 -1.11187838]\n",
            " [-1.55895271 -1.58893375  2.39874554  2.15556209]]\n",
            "Intercept: [ 0.2478905   0.86408083 -1.00411267]\n"
          ]
        },
        {
          "output_type": "stream",
          "name": "stderr",
          "text": [
            "/usr/local/lib/python3.11/dist-packages/sklearn/linear_model/_logistic.py:1256: FutureWarning: 'multi_class' was deprecated in version 1.5 and will be removed in 1.7. Use OneVsRestClassifier(LogisticRegression(..)) instead. Leave it to its default value to avoid this warning.\n",
            "  warnings.warn(\n"
          ]
        }
      ]
    },
    {
      "cell_type": "markdown",
      "source": [
        "# Q6. Write a Python program to apply GridSearchCV to tune the hyperparameters (C and penalty) of Logistic Regression. Print the best parameters and accuracy?"
      ],
      "metadata": {
        "id": "difWIBC0NaLF"
      }
    },
    {
      "cell_type": "code",
      "source": [
        "from sklearn.datasets import load_breast_cancer\n",
        "from sklearn.linear_model import LogisticRegression\n",
        "from sklearn.model_selection import GridSearchCV, train_test_split\n",
        "from sklearn.metrics import accuracy_score\n",
        "\n",
        "data = load_breast_cancer()\n",
        "X = data.data\n",
        "y = data.target\n",
        "\n",
        "X_train, X_test, y_train, y_test = train_test_split(X, y, test_size=0.2, random_state=42)\n",
        "log_reg = LogisticRegression(solver='liblinear', max_iter=10000)\n",
        "param_grid = {'C': [0.001, 0.01, 0.1, 1, 10, 100], 'penalty': ['l1', 'l2']}\n",
        "grid_search = GridSearchCV(log_reg, param_grid, cv=5, scoring='accuracy', n_jobs=-1)\n",
        "grid_search.fit(X_train, y_train)\n",
        "best_params = grid_search.best_params_\n",
        "best_estimator = grid_search.best_estimator_\n",
        "y_pred = best_estimator.predict(X_test)\n",
        "accuracy = accuracy_score(y_test, y_pred)\n",
        "print(\"Best Parameters:\", best_params)\n",
        "print(\"Test Accuracy:\", accuracy)\n"
      ],
      "metadata": {
        "id": "rT97lXkuNifI",
        "colab": {
          "base_uri": "https://localhost:8080/"
        },
        "outputId": "491ed798-88fd-4eff-e324-29fdcc47ca96"
      },
      "execution_count": 8,
      "outputs": [
        {
          "output_type": "stream",
          "name": "stdout",
          "text": [
            "Best Parameters: {'C': 100, 'penalty': 'l1'}\n",
            "Test Accuracy: 0.9824561403508771\n"
          ]
        }
      ]
    },
    {
      "cell_type": "markdown",
      "source": [
        "# Q7. Write a Python program to evaluate Logistic Regression using Stratified K-Fold Cross-Validation. Print the average accuracy?"
      ],
      "metadata": {
        "id": "kaBBKHwsPmXI"
      }
    },
    {
      "cell_type": "code",
      "source": [
        "from sklearn.datasets import load_breast_cancer\n",
        "from sklearn.linear_model import LogisticRegression\n",
        "from sklearn.model_selection import StratifiedKFold, cross_val_score\n",
        "\n",
        "data = load_breast_cancer()\n",
        "X = data.data\n",
        "y = data.target\n",
        "\n",
        "model = LogisticRegression(max_iter=10000, solver='liblinear')\n",
        "skf = StratifiedKFold(n_splits=5, shuffle=True, random_state=42)\n",
        "scores = cross_val_score(model, X, y, cv=skf, scoring='accuracy')\n",
        "print(\"Average Accuracy:\", scores.mean())\n"
      ],
      "metadata": {
        "id": "sy_aZGzwPrRR",
        "colab": {
          "base_uri": "https://localhost:8080/"
        },
        "outputId": "0b61f1c3-3430-483d-9aec-9dfc7ac64fb5"
      },
      "execution_count": 9,
      "outputs": [
        {
          "output_type": "stream",
          "name": "stdout",
          "text": [
            "Average Accuracy: 0.9508150908244062\n"
          ]
        }
      ]
    },
    {
      "cell_type": "markdown",
      "source": [
        "# Q8. Write a Python program to load a dataset from a CSV file, apply Logistic Regression, and evaluate its accuracy?"
      ],
      "metadata": {
        "id": "sGWUiUKjQDW6"
      }
    },
    {
      "cell_type": "code",
      "source": [
        "import pandas as pd\n",
        "from sklearn.model_selection import train_test_split\n",
        "from sklearn.linear_model import LogisticRegression\n",
        "from sklearn.metrics import accuracy_score\n",
        "\n",
        "df = pd.read_csv(\"/diabetes.csv\")\n",
        "# Print column names to verify the correct target column name\n",
        "print(\"Columns in CSV:\", df.columns)\n",
        "\n",
        "# Adjust the target column name if it's different (e.g., \"Outcome\")\n",
        "X = df.drop(\"Outcome\", axis=1)\n",
        "y = df[\"Outcome\"]\n",
        "\n",
        "X_train, X_test, y_train, y_test = train_test_split(X, y, test_size=0.2, random_state=42)\n",
        "model = LogisticRegression(max_iter=10000)\n",
        "model.fit(X_train, y_train)\n",
        "y_pred = model.predict(X_test)\n",
        "accuracy = accuracy_score(y_test, y_pred)\n",
        "print(\"Model Accuracy:\", accuracy)\n"
      ],
      "metadata": {
        "colab": {
          "base_uri": "https://localhost:8080/"
        },
        "id": "8l-YOXwFQLIb",
        "outputId": "ea343ede-777f-48d2-b475-bf95fabe7047"
      },
      "execution_count": 16,
      "outputs": [
        {
          "output_type": "stream",
          "name": "stdout",
          "text": [
            "Columns in CSV: Index(['Pregnancies', 'Glucose', 'BloodPressure', 'SkinThickness', 'Insulin',\n",
            "       'BMI', 'DiabetesPedigreeFunction', 'Age', 'Outcome'],\n",
            "      dtype='object')\n",
            "Model Accuracy: 0.7467532467532467\n"
          ]
        }
      ]
    },
    {
      "cell_type": "markdown",
      "source": [
        "# Q9. Write a Python program to apply RandomizedSearchCV for tuning hyperparameters (C, penalty, solver) in Logistic Regression. Print the best parameters and accuracy?"
      ],
      "metadata": {
        "id": "a-nXAHNxS3LU"
      }
    },
    {
      "cell_type": "code",
      "source": [
        "import numpy as np\n",
        "from sklearn.datasets import load_breast_cancer\n",
        "from sklearn.linear_model import LogisticRegression\n",
        "from sklearn.model_selection import train_test_split, RandomizedSearchCV\n",
        "from sklearn.metrics import accuracy_score\n",
        "\n",
        "data = load_breast_cancer()\n",
        "X = data.data\n",
        "y = data.target\n",
        "\n",
        "X_train, X_test, y_train, y_test = train_test_split(X, y, test_size=0.2, random_state=42)\n",
        "log_reg = LogisticRegression(max_iter=10000)\n",
        "\n",
        "param_distributions = {\n",
        "    'C': [0.001, 0.01, 0.1, 1, 10, 100],\n",
        "    'penalty': ['l1', 'l2'],\n",
        "    'solver': ['liblinear', 'saga']\n",
        "}\n",
        "\n",
        "random_search = RandomizedSearchCV(log_reg, param_distributions, n_iter=10, cv=5, scoring='accuracy', random_state=42, n_jobs=-1)\n",
        "random_search.fit(X_train, y_train)\n",
        "\n",
        "print(\"Best Parameters:\", random_search.best_params_)\n",
        "best_model = random_search.best_estimator_\n",
        "y_pred = best_model.predict(X_test)\n",
        "accuracy = accuracy_score(y_test, y_pred)\n",
        "print(\"Test Accuracy:\", accuracy)\n"
      ],
      "metadata": {
        "colab": {
          "base_uri": "https://localhost:8080/"
        },
        "id": "kCppiksLWjBO",
        "outputId": "5fcfc6a8-6604-4807-f6d4-358434240187"
      },
      "execution_count": 17,
      "outputs": [
        {
          "output_type": "stream",
          "name": "stdout",
          "text": [
            "Best Parameters: {'solver': 'liblinear', 'penalty': 'l2', 'C': 10}\n",
            "Test Accuracy: 0.956140350877193\n"
          ]
        }
      ]
    },
    {
      "cell_type": "markdown",
      "source": [
        "# Q10. Write a Python program to implement One-vs-One (OvO) Multiclass Logistic Regression and print accuracy?"
      ],
      "metadata": {
        "id": "lBlgWduxW5M-"
      }
    },
    {
      "cell_type": "code",
      "source": [
        "from sklearn.datasets import load_iris\n",
        "from sklearn.multiclass import OneVsOneClassifier\n",
        "from sklearn.linear_model import LogisticRegression\n",
        "from sklearn.model_selection import train_test_split\n",
        "from sklearn.metrics import accuracy_score\n",
        "\n",
        "data = load_iris()\n",
        "X = data.data\n",
        "y = data.target\n",
        "\n",
        "X_train, X_test, y_train, y_test = train_test_split(X, y, test_size=0.2, random_state=42)\n",
        "log_reg = LogisticRegression(max_iter=10000)\n",
        "ovo_model = OneVsOneClassifier(log_reg)\n",
        "ovo_model.fit(X_train, y_train)\n",
        "y_pred = ovo_model.predict(X_test)\n",
        "accuracy = accuracy_score(y_test, y_pred)\n",
        "print(\"OvO Model Accuracy:\", accuracy)\n"
      ],
      "metadata": {
        "colab": {
          "base_uri": "https://localhost:8080/"
        },
        "id": "BGIu6mysW-IX",
        "outputId": "016114fb-e455-4a4e-8ed8-d43a9d215a6c"
      },
      "execution_count": 18,
      "outputs": [
        {
          "output_type": "stream",
          "name": "stdout",
          "text": [
            "OvO Model Accuracy: 1.0\n"
          ]
        }
      ]
    },
    {
      "cell_type": "markdown",
      "source": [
        "# Q11. Write a Python program to train a Logistic Regression model and visualize the confusion matrix for binary classification?"
      ],
      "metadata": {
        "id": "YhAiZUC9XA8T"
      }
    },
    {
      "cell_type": "code",
      "source": [
        "import matplotlib.pyplot as plt\n",
        "import seaborn as sns\n",
        "from sklearn.datasets import load_breast_cancer\n",
        "from sklearn.model_selection import train_test_split\n",
        "from sklearn.linear_model import LogisticRegression\n",
        "from sklearn.metrics import confusion_matrix\n",
        "\n",
        "data = load_breast_cancer()\n",
        "X = data.data\n",
        "y = data.target\n",
        "\n",
        "X_train, X_test, y_train, y_test = train_test_split(X, y, test_size=0.2, random_state=42)\n",
        "model = LogisticRegression(max_iter=10000)\n",
        "model.fit(X_train, y_train)\n",
        "y_pred = model.predict(X_test)\n",
        "cm = confusion_matrix(y_test, y_pred)\n",
        "\n",
        "plt.figure(figsize=(6, 4))\n",
        "sns.heatmap(cm, annot=True, fmt=\"d\", cmap=\"Blues\", xticklabels=[\"Negative\", \"Positive\"], yticklabels=[\"Negative\", \"Positive\"])\n",
        "plt.xlabel(\"Predicted\")\n",
        "plt.ylabel(\"Actual\")\n",
        "plt.title(\"Confusion Matrix\")\n",
        "plt.show()\n"
      ],
      "metadata": {
        "colab": {
          "base_uri": "https://localhost:8080/",
          "height": 410
        },
        "id": "1UpHQzW_XI4q",
        "outputId": "ca9584ff-484a-4077-fc92-1d57300ddf28"
      },
      "execution_count": 19,
      "outputs": [
        {
          "output_type": "display_data",
          "data": {
            "text/plain": [
              "<Figure size 600x400 with 2 Axes>"
            ],
            "image/png": "[encoded data removed]"
          },
          "metadata": {}
        }
      ]
    },
    {
      "cell_type": "markdown",
      "source": [
        "Q12. Write a Python program to train a Logistic Regression model and evaluate its performance using Precision, Recall, and F1-Score?"
      ],
      "metadata": {
        "id": "zKpY0D_fXULS"
      }
    },
    {
      "cell_type": "code",
      "source": [
        "from sklearn.datasets import load_breast_cancer\n",
        "from sklearn.model_selection import train_test_split\n",
        "from sklearn.linear_model import LogisticRegression\n",
        "from sklearn.metrics import precision_score, recall_score, f1_score, classification_report\n",
        "\n",
        "data = load_breast_cancer()\n",
        "X = data.data\n",
        "y = data.target\n",
        "\n",
        "X_train, X_test, y_train, y_test = train_test_split(X, y, test_size=0.2, random_state=42)\n",
        "model = LogisticRegression(max_iter=10000)\n",
        "model.fit(X_train, y_train)\n",
        "y_pred = model.predict(X_test)\n",
        "\n",
        "print(\"Precision:\", precision_score(y_test, y_pred))\n",
        "print(\"Recall:\", recall_score(y_test, y_pred))\n",
        "print(\"F1 Score:\", f1_score(y_test, y_pred))\n",
        "print(\"\\nClassification Report:\\n\", classification_report(y_test, y_pred))\n"
      ],
      "metadata": {
        "colab": {
          "base_uri": "https://localhost:8080/"
        },
        "id": "T6BAeXNtXk8Y",
        "outputId": "ae07730d-5c13-4837-df81-46de96e9b4ba"
      },
      "execution_count": 20,
      "outputs": [
        {
          "output_type": "stream",
          "name": "stdout",
          "text": [
            "Precision: 0.9459459459459459\n",
            "Recall: 0.9859154929577465\n",
            "F1 Score: 0.9655172413793104\n",
            "\n",
            "Classification Report:\n",
            "               precision    recall  f1-score   support\n",
            "\n",
            "           0       0.97      0.91      0.94        43\n",
            "           1       0.95      0.99      0.97        71\n",
            "\n",
            "    accuracy                           0.96       114\n",
            "   macro avg       0.96      0.95      0.95       114\n",
            "weighted avg       0.96      0.96      0.96       114\n",
            "\n"
          ]
        }
      ]
    },
    {
      "cell_type": "markdown",
      "source": [
        "# Q13. Write a Python program to train a Logistic Regression model on imbalanced data and apply class weights to improve model performance?"
      ],
      "metadata": {
        "id": "1BEpr2_yXpvU"
      }
    },
    {
      "cell_type": "code",
      "source": [
        "from sklearn.datasets import make_classification\n",
        "from sklearn.model_selection import train_test_split\n",
        "from sklearn.linear_model import LogisticRegression\n",
        "from sklearn.metrics import classification_report\n",
        "\n",
        "X, y = make_classification(n_samples=1000, n_features=20, n_informative=2, n_redundant=10, n_clusters_per_class=1, weights=[0.9, 0.1], flip_y=0, random_state=42)\n",
        "X_train, X_test, y_train, y_test = train_test_split(X, y, test_size=0.2, random_state=42)\n",
        "model = LogisticRegression(class_weight='balanced', max_iter=10000, solver='liblinear')\n",
        "model.fit(X_train, y_train)\n",
        "y_pred = model.predict(X_test)\n",
        "print(classification_report(y_test, y_pred))\n"
      ],
      "metadata": {
        "colab": {
          "base_uri": "https://localhost:8080/"
        },
        "id": "Xa3XEB7tX1Nm",
        "outputId": "425971f4-9e65-4a67-84fc-73b11c7bc902"
      },
      "execution_count": 21,
      "outputs": [
        {
          "output_type": "stream",
          "name": "stdout",
          "text": [
            "              precision    recall  f1-score   support\n",
            "\n",
            "           0       1.00      0.96      0.98       186\n",
            "           1       0.67      1.00      0.80        14\n",
            "\n",
            "    accuracy                           0.96       200\n",
            "   macro avg       0.83      0.98      0.89       200\n",
            "weighted avg       0.98      0.96      0.97       200\n",
            "\n"
          ]
        }
      ]
    },
    {
      "cell_type": "markdown",
      "source": [
        "# Q14. Write a Python program to train Logistic Regression on the Titanic dataset, handle missing values, and evaluate performance?"
      ],
      "metadata": {
        "id": "qb379jORX5jT"
      }
    },
    {
      "cell_type": "code",
      "source": [
        "import pandas as pd\n",
        "import numpy as np\n",
        "from sklearn.model_selection import train_test_split\n",
        "from sklearn.linear_model import LogisticRegression\n",
        "from sklearn.metrics import accuracy_score, classification_report, confusion_matrix\n",
        "import matplotlib.pyplot as plt\n",
        "import seaborn as sns\n",
        "\n",
        "df = pd.read_csv(\"/content/titanic.csv\")\n",
        "df['Age'] = df['Age'].fillna(df['Age'].median())\n",
        "df['Embarked'] = df['Embarked'].fillna(df['Embarked'].mode()[0])\n",
        "df['Fare'] = df['Fare'].fillna(df['Fare'].median())\n",
        "df.drop(['PassengerId', 'Name', 'Ticket', 'Cabin'], axis=1, inplace=True)\n",
        "df['Sex'] = df['Sex'].map({'male': 0, 'female': 1})\n",
        "df = pd.get_dummies(df, columns=['Embarked'], drop_first=True)\n",
        "X = df.drop('Survived', axis=1)\n",
        "y = df['Survived']\n",
        "X_train, X_test, y_train, y_test = train_test_split(X, y, test_size=0.2, random_state=42)\n",
        "model = LogisticRegression(max_iter=10000, solver='liblinear')\n",
        "model.fit(X_train, y_train)\n",
        "y_pred = model.predict(X_test)\n",
        "accuracy = accuracy_score(y_test, y_pred)\n",
        "print(\"Accuracy:\", accuracy)\n",
        "print(\"\\nClassification Report:\\n\", classification_report(y_test, y_pred))\n",
        "cm = confusion_matrix(y_test, y_pred)\n",
        "plt.figure(figsize=(6, 4))\n",
        "sns.heatmap(cm, annot=True, fmt=\"d\", cmap=\"Blues\", xticklabels=[\"Did Not Survive\", \"Survived\"], yticklabels=[\"Did Not Survive\", \"Survived\"])\n",
        "plt.xlabel(\"Predicted\")\n",
        "plt.ylabel(\"Actual\")\n",
        "plt.title(\"Confusion Matrix\")\n",
        "plt.show()\n"
      ],
      "metadata": {
        "colab": {
          "base_uri": "https://localhost:8080/",
          "height": 624
        },
        "id": "AhZUDJRuX_j-",
        "outputId": "e4fc2e1f-0160-4a7a-f146-b4554f50aa78"
      },
      "execution_count": 22,
      "outputs": [
        {
          "output_type": "stream",
          "name": "stdout",
          "text": [
            "Accuracy: 0.7877094972067039\n",
            "\n",
            "Classification Report:\n",
            "               precision    recall  f1-score   support\n",
            "\n",
            "           0       0.81      0.84      0.82       105\n",
            "           1       0.76      0.72      0.74        74\n",
            "\n",
            "    accuracy                           0.79       179\n",
            "   macro avg       0.78      0.78      0.78       179\n",
            "weighted avg       0.79      0.79      0.79       179\n",
            "\n"
          ]
        },
        {
          "output_type": "display_data",
          "data": {
            "text/plain": [
              "<Figure size 600x400 with 2 Axes>"
            ],
            "image/png": "[encoded data removed]"
          },
          "metadata": {}
        }
      ]
    },
    {
      "cell_type": "markdown",
      "source": [
        "# Q15. Write a Python program to apply feature scaling (Standardization) before training a Logistic Regression model. Evaluate its accuracy and compare results with and without scaling?"
      ],
      "metadata": {
        "id": "ajb4e0Y9YnAd"
      }
    },
    {
      "cell_type": "code",
      "source": [
        "from sklearn.datasets import load_breast_cancer\n",
        "from sklearn.model_selection import train_test_split\n",
        "from sklearn.linear_model import LogisticRegression\n",
        "from sklearn.metrics import accuracy_score\n",
        "from sklearn.preprocessing import StandardScaler\n",
        "\n",
        "data = load_breast_cancer()\n",
        "X = data.data\n",
        "y = data.target\n",
        "\n",
        "X_train, X_test, y_train, y_test = train_test_split(X, y, test_size=0.2, random_state=42)\n",
        "\n",
        "model_without_scaling = LogisticRegression(max_iter=10000, solver='liblinear')\n",
        "model_without_scaling.fit(X_train, y_train)\n",
        "y_pred_without_scaling = model_without_scaling.predict(X_test)\n",
        "accuracy_without_scaling = accuracy_score(y_test, y_pred_without_scaling)\n",
        "\n",
        "scaler = StandardScaler()\n",
        "X_train_scaled = scaler.fit_transform(X_train)\n",
        "X_test_scaled = scaler.transform(X_test)\n",
        "\n",
        "model_with_scaling = LogisticRegression(max_iter=10000, solver='liblinear')\n",
        "model_with_scaling.fit(X_train_scaled, y_train)\n",
        "y_pred_with_scaling = model_with_scaling.predict(X_test_scaled)\n",
        "accuracy_with_scaling = accuracy_score(y_test, y_pred_with_scaling)\n",
        "\n",
        "print(\"Accuracy without scaling:\", accuracy_without_scaling)\n",
        "print(\"Accuracy with scaling:\", accuracy_with_scaling)\n"
      ],
      "metadata": {
        "colab": {
          "base_uri": "https://localhost:8080/"
        },
        "id": "qrOfkGm1YsJw",
        "outputId": "ba65e19d-35da-4ed0-8c0d-33cb7c3bd4cf"
      },
      "execution_count": 23,
      "outputs": [
        {
          "output_type": "stream",
          "name": "stdout",
          "text": [
            "Accuracy without scaling: 0.956140350877193\n",
            "Accuracy with scaling: 0.9736842105263158\n"
          ]
        }
      ]
    },
    {
      "cell_type": "markdown",
      "source": [
        "# Q16. Write a Python program to train Logistic Regression and evaluate its performance using ROC-AUC score?"
      ],
      "metadata": {
        "id": "0vwfPdRAY05P"
      }
    },
    {
      "cell_type": "code",
      "source": [
        "from sklearn.datasets import load_breast_cancer\n",
        "from sklearn.model_selection import train_test_split\n",
        "from sklearn.linear_model import LogisticRegression\n",
        "from sklearn.metrics import roc_auc_score\n",
        "\n",
        "data = load_breast_cancer()\n",
        "X = data.data\n",
        "y = data.target\n",
        "\n",
        "X_train, X_test, y_train, y_test = train_test_split(X, y, test_size=0.2, random_state=42)\n",
        "model = LogisticRegression(max_iter=10000, solver='liblinear')\n",
        "model.fit(X_train, y_train)\n",
        "y_prob = model.predict_proba(X_test)[:, 1]\n",
        "roc_auc = roc_auc_score(y_test, y_prob)\n",
        "print(\"ROC-AUC Score:\", roc_auc)\n"
      ],
      "metadata": {
        "colab": {
          "base_uri": "https://localhost:8080/"
        },
        "id": "LjcNu2XWY606",
        "outputId": "e6a7027f-f52b-4219-d910-3b320fc0271f"
      },
      "execution_count": 24,
      "outputs": [
        {
          "output_type": "stream",
          "name": "stdout",
          "text": [
            "ROC-AUC Score: 0.9977071732721914\n"
          ]
        }
      ]
    },
    {
      "cell_type": "markdown",
      "source": [
        "# Q17. Write a Python program to train Logistic Regression using a custom learning rate (C=0.5) and evaluate accuracy?"
      ],
      "metadata": {
        "id": "SIow5q9HZCrs"
      }
    },
    {
      "cell_type": "code",
      "source": [
        "from sklearn.datasets import load_breast_cancer\n",
        "from sklearn.model_selection import train_test_split\n",
        "from sklearn.linear_model import LogisticRegression\n",
        "from sklearn.metrics import accuracy_score\n",
        "\n",
        "data = load_breast_cancer()\n",
        "X, y = data.data, data.target\n",
        "\n",
        "X_train, X_test, y_train, y_test = train_test_split(X, y, test_size=0.2, random_state=42)\n",
        "\n",
        "model = LogisticRegression(C=0.5, max_iter=10000, solver='liblinear')\n",
        "model.fit(X_train, y_train)\n",
        "y_pred = model.predict(X_test)\n",
        "accuracy = accuracy_score(y_test, y_pred)\n",
        "print(\"Model Accuracy:\", accuracy)\n"
      ],
      "metadata": {
        "colab": {
          "base_uri": "https://localhost:8080/"
        },
        "id": "28tZ3qp8ZMAs",
        "outputId": "119ddcdf-083c-49fa-f1da-b55f332a21fc"
      },
      "execution_count": 25,
      "outputs": [
        {
          "output_type": "stream",
          "name": "stdout",
          "text": [
            "Model Accuracy: 0.956140350877193\n"
          ]
        }
      ]
    },
    {
      "cell_type": "markdown",
      "source": [
        "# Q18. Write a Python program to train Logistic Regression and identify important features based on model coefficients?"
      ],
      "metadata": {
        "id": "KXh3SHG9ZPJ9"
      }
    },
    {
      "cell_type": "code",
      "source": [
        "import pandas as pd\n",
        "from sklearn.datasets import load_breast_cancer\n",
        "from sklearn.model_selection import train_test_split\n",
        "from sklearn.linear_model import LogisticRegression\n",
        "\n",
        "data = load_breast_cancer()\n",
        "X = data.data\n",
        "y = data.target\n",
        "feature_names = data.feature_names\n",
        "\n",
        "X_train, X_test, y_train, y_test = train_test_split(X, y, test_size=0.2, random_state=42)\n",
        "model = LogisticRegression(max_iter=10000, solver='liblinear')\n",
        "model.fit(X_train, y_train)\n",
        "\n",
        "coefs = model.coef_[0]\n",
        "df = pd.DataFrame({'Feature': feature_names, 'Coefficient': coefs})\n",
        "df['Absolute Coefficient'] = df['Coefficient'].abs()\n",
        "df_sorted = df.sort_values(by='Absolute Coefficient', ascending=False)\n",
        "\n",
        "print(\"Important Features Based on Model Coefficients:\")\n",
        "print(df_sorted)\n"
      ],
      "metadata": {
        "colab": {
          "base_uri": "https://localhost:8080/"
        },
        "id": "LHmGuoClZXW_",
        "outputId": "b8a6a3bd-070c-4df0-be1b-1e2bfe8d133b"
      },
      "execution_count": 26,
      "outputs": [
        {
          "output_type": "stream",
          "name": "stdout",
          "text": [
            "Important Features Based on Model Coefficients:\n",
            "                    Feature  Coefficient  Absolute Coefficient\n",
            "0               mean radius     2.132484              2.132484\n",
            "26          worst concavity    -1.617969              1.617969\n",
            "11            texture error     1.442984              1.442984\n",
            "20             worst radius     1.232150              1.232150\n",
            "25        worst compactness    -1.208985              1.208985\n",
            "28           worst symmetry    -0.742764              0.742764\n",
            "6            mean concavity    -0.651940              0.651940\n",
            "27     worst concave points    -0.615251              0.615251\n",
            "5          mean compactness    -0.415569              0.415569\n",
            "21            worst texture    -0.404581              0.404581\n",
            "7       mean concave points    -0.344456              0.344456\n",
            "12          perimeter error    -0.303857              0.303857\n",
            "24         worst smoothness    -0.262631              0.262631\n",
            "8             mean symmetry    -0.207613              0.207613\n",
            "1              mean texture     0.152772              0.152772\n",
            "2            mean perimeter    -0.145091              0.145091\n",
            "4           mean smoothness    -0.142636              0.142636\n",
            "29  worst fractal dimension    -0.116960              0.116960\n",
            "13               area error    -0.072569              0.072569\n",
            "10             radius error    -0.050034              0.050034\n",
            "16          concavity error    -0.044886              0.044886\n",
            "18           symmetry error    -0.041752              0.041752\n",
            "17     concave points error    -0.037719              0.037719\n",
            "22          worst perimeter    -0.036209              0.036209\n",
            "9    mean fractal dimension    -0.029774              0.029774\n",
            "23               worst area    -0.027087              0.027087\n",
            "14         smoothness error    -0.016159              0.016159\n",
            "19  fractal dimension error     0.005613              0.005613\n",
            "15        compactness error    -0.001907              0.001907\n",
            "3                 mean area    -0.000829              0.000829\n"
          ]
        }
      ]
    },
    {
      "cell_type": "markdown",
      "source": [
        "# Q19. Write a Python program to train Logistic Regression and evaluate its performance using Cohen’s Kappa Score?"
      ],
      "metadata": {
        "id": "KisjXSDGZcdL"
      }
    },
    {
      "cell_type": "code",
      "source": [
        "from sklearn.datasets import load_breast_cancer\n",
        "from sklearn.linear_model import LogisticRegression\n",
        "from sklearn.model_selection import train_test_split\n",
        "from sklearn.metrics import cohen_kappa_score\n",
        "\n",
        "data = load_breast_cancer()\n",
        "X = data.data\n",
        "y = data.target\n",
        "\n",
        "X_train, X_test, y_train, y_test = train_test_split(X, y, test_size=0.2, random_state=42)\n",
        "model = LogisticRegression(max_iter=10000, solver='liblinear')\n",
        "model.fit(X_train, y_train)\n",
        "y_pred = model.predict(X_test)\n",
        "kappa = cohen_kappa_score(y_test, y_pred)\n",
        "print(\"Cohen's Kappa Score:\", kappa)\n"
      ],
      "metadata": {
        "colab": {
          "base_uri": "https://localhost:8080/"
        },
        "id": "6baoamOAZkOk",
        "outputId": "b41e937b-da22-40ea-9589-194b6449c976"
      },
      "execution_count": 27,
      "outputs": [
        {
          "output_type": "stream",
          "name": "stdout",
          "text": [
            "Cohen's Kappa Score: 0.9053470607771504\n"
          ]
        }
      ]
    },
    {
      "cell_type": "markdown",
      "source": [
        "# Q20. Write a Python program to train Logistic Regression and visualize the Precision-Recall Curve for binary classification?"
      ],
      "metadata": {
        "id": "Bd3AyLRIZor-"
      }
    },
    {
      "cell_type": "code",
      "source": [
        "import numpy as np\n",
        "import matplotlib.pyplot as plt\n",
        "from sklearn.datasets import load_breast_cancer\n",
        "from sklearn.model_selection import train_test_split\n",
        "from sklearn.linear_model import LogisticRegression\n",
        "from sklearn.metrics import precision_recall_curve, average_precision_score\n",
        "\n",
        "data = load_breast_cancer()\n",
        "X, y = data.data, data.target\n",
        "X_train, X_test, y_train, y_test = train_test_split(X, y, test_size=0.2, random_state=42)\n",
        "model = LogisticRegression(max_iter=10000, solver='liblinear')\n",
        "model.fit(X_train, y_train)\n",
        "y_scores = model.decision_function(X_test)\n",
        "precision, recall, thresholds = precision_recall_curve(y_test, y_scores)\n",
        "ap_score = average_precision_score(y_test, y_scores)\n",
        "print(\"Average Precision Score:\", ap_score)\n",
        "plt.plot(recall, precision, marker='.', label='Logistic Regression')\n",
        "plt.xlabel('Recall')\n",
        "plt.ylabel('Precision')\n",
        "plt.title('Precision-Recall Curve')\n",
        "plt.legend()\n",
        "plt.show()\n"
      ],
      "metadata": {
        "colab": {
          "base_uri": "https://localhost:8080/",
          "height": 490
        },
        "id": "GNH553O_ZyZE",
        "outputId": "51906a11-2e7e-436a-96a8-677b7b06e5e1"
      },
      "execution_count": 28,
      "outputs": [
        {
          "output_type": "stream",
          "name": "stdout",
          "text": [
            "Average Precision Score: 0.9986451224185282\n"
          ]
        },
        {
          "output_type": "display_data",
          "data": {
            "text/plain": [
              "<Figure size 640x480 with 1 Axes>"
            ],
            "image/png": "[encoded data removed]"
          },
          "metadata": {}
        }
      ]
    },
    {
      "cell_type": "markdown",
      "source": [
        "# Q21. Write a Python program to train Logistic Regression with different solvers (liblinear, saga, lbfgs) and compare their accuracy?"
      ],
      "metadata": {
        "id": "IPi7QfrpZ2hr"
      }
    },
    {
      "cell_type": "code",
      "source": [
        "from sklearn.datasets import load_breast_cancer\n",
        "from sklearn.model_selection import train_test_split\n",
        "from sklearn.linear_model import LogisticRegression\n",
        "from sklearn.metrics import accuracy_score\n",
        "\n",
        "data = load_breast_cancer()\n",
        "X, y = data.data, data.target\n",
        "\n",
        "X_train, X_test, y_train, y_test = train_test_split(X, y, test_size=0.2, random_state=42)\n",
        "\n",
        "solvers = ['liblinear', 'saga', 'lbfgs']\n",
        "results = {}\n",
        "\n",
        "for solver in solvers:\n",
        "    model = LogisticRegression(solver=solver, max_iter=10000, random_state=42)\n",
        "    model.fit(X_train, y_train)\n",
        "    y_pred = model.predict(X_test)\n",
        "    acc = accuracy_score(y_test, y_pred)\n",
        "    results[solver] = acc\n",
        "\n",
        "print(\"Accuracy for different solvers:\")\n",
        "for solver, acc in results.items():\n",
        "    print(f\"{solver}: {acc:.4f}\")\n"
      ],
      "metadata": {
        "colab": {
          "base_uri": "https://localhost:8080/"
        },
        "id": "_2KME04AZ-q0",
        "outputId": "7c4d548f-4c04-49e4-f770-ecb69f230512"
      },
      "execution_count": 29,
      "outputs": [
        {
          "output_type": "stream",
          "name": "stdout",
          "text": [
            "Accuracy for different solvers:\n",
            "liblinear: 0.9561\n",
            "saga: 0.9737\n",
            "lbfgs: 0.9561\n"
          ]
        }
      ]
    },
    {
      "cell_type": "markdown",
      "source": [
        "# Q22. Write a Python program to train Logistic Regression and evaluate its performance using Matthews Correlation Coefficient (MCC)?"
      ],
      "metadata": {
        "id": "NCEI1VZ9aP1R"
      }
    },
    {
      "cell_type": "code",
      "source": [
        "from sklearn.datasets import load_breast_cancer\n",
        "from sklearn.model_selection import train_test_split\n",
        "from sklearn.linear_model import LogisticRegression\n",
        "from sklearn.metrics import matthews_corrcoef\n",
        "\n",
        "data = load_breast_cancer()\n",
        "X, y = data.data, data.target\n",
        "\n",
        "X_train, X_test, y_train, y_test = train_test_split(X, y, test_size=0.2, random_state=42)\n",
        "\n",
        "model = LogisticRegression(max_iter=10000, solver='liblinear')\n",
        "model.fit(X_train, y_train)\n",
        "y_pred = model.predict(X_test)\n",
        "mcc = matthews_corrcoef(y_test, y_pred)\n",
        "print(\"Matthews Correlation Coefficient:\", mcc)\n"
      ],
      "metadata": {
        "colab": {
          "base_uri": "https://localhost:8080/"
        },
        "id": "cX3RVG5OaWy-",
        "outputId": "63cdcf8d-1c81-4678-c0e1-aa4d355ec9ac"
      },
      "execution_count": 30,
      "outputs": [
        {
          "output_type": "stream",
          "name": "stdout",
          "text": [
            "Matthews Correlation Coefficient: 0.9068106119605033\n"
          ]
        }
      ]
    },
    {
      "cell_type": "markdown",
      "source": [
        "# Q23. Write a Python program to train Logistic Regression on both raw and standardized data. Compare their accuracy to see the impact of feature scaling?"
      ],
      "metadata": {
        "id": "1uONuI1kagNM"
      }
    },
    {
      "cell_type": "code",
      "source": [
        "from sklearn.datasets import load_breast_cancer\n",
        "from sklearn.model_selection import train_test_split\n",
        "from sklearn.linear_model import LogisticRegression\n",
        "from sklearn.metrics import accuracy_score\n",
        "from sklearn.preprocessing import StandardScaler\n",
        "\n",
        "data = load_breast_cancer()\n",
        "X, y = data.data, data.target\n",
        "X_train, X_test, y_train, y_test = train_test_split(X, y, test_size=0.2, random_state=42)\n",
        "\n",
        "model_raw = LogisticRegression(max_iter=10000, solver='liblinear')\n",
        "model_raw.fit(X_train, y_train)\n",
        "y_pred_raw = model_raw.predict(X_test)\n",
        "accuracy_raw = accuracy_score(y_test, y_pred_raw)\n",
        "\n",
        "scaler = StandardScaler()\n",
        "X_train_scaled = scaler.fit_transform(X_train)\n",
        "X_test_scaled = scaler.transform(X_test)\n",
        "model_scaled = LogisticRegression(max_iter=10000, solver='liblinear')\n",
        "model_scaled.fit(X_train_scaled, y_train)\n",
        "y_pred_scaled = model_scaled.predict(X_test_scaled)\n",
        "accuracy_scaled = accuracy_score(y_test, y_pred_scaled)\n",
        "\n",
        "print(\"Accuracy on raw data:\", accuracy_raw)\n",
        "print(\"Accuracy on standardized data:\", accuracy_scaled)\n"
      ],
      "metadata": {
        "colab": {
          "base_uri": "https://localhost:8080/"
        },
        "id": "HvLQdE3famZj",
        "outputId": "bd6b72a9-6e5c-4149-fbbc-cce223e40c28"
      },
      "execution_count": 31,
      "outputs": [
        {
          "output_type": "stream",
          "name": "stdout",
          "text": [
            "Accuracy on raw data: 0.956140350877193\n",
            "Accuracy on standardized data: 0.9736842105263158\n"
          ]
        }
      ]
    },
    {
      "cell_type": "markdown",
      "source": [
        "# Q24. Write a Python program to train Logistic Regression and find the optimal C (regularization strength) using cross-validation?"
      ],
      "metadata": {
        "id": "dv_vuIv4auyh"
      }
    },
    {
      "cell_type": "code",
      "source": [
        "from sklearn.datasets import load_breast_cancer\n",
        "from sklearn.linear_model import LogisticRegression\n",
        "from sklearn.model_selection import train_test_split, GridSearchCV\n",
        "from sklearn.metrics import accuracy_score\n",
        "\n",
        "data = load_breast_cancer()\n",
        "X, y = data.data, data.target\n",
        "X_train, X_test, y_train, y_test = train_test_split(X, y, test_size=0.2, random_state=42)\n",
        "\n",
        "param_grid = {'C': [0.001, 0.01, 0.1, 1, 10, 100]}\n",
        "grid_search = GridSearchCV(LogisticRegression(max_iter=10000, solver='liblinear'),\n",
        "                           param_grid, cv=5, scoring='accuracy', n_jobs=-1)\n",
        "grid_search.fit(X_train, y_train)\n",
        "\n",
        "print(\"Best C:\", grid_search.best_params_['C'])\n",
        "best_model = grid_search.best_estimator_\n",
        "y_pred = best_model.predict(X_test)\n",
        "accuracy = accuracy_score(y_test, y_pred)\n",
        "print(\"Test Accuracy:\", accuracy)\n"
      ],
      "metadata": {
        "colab": {
          "base_uri": "https://localhost:8080/"
        },
        "id": "xpaTFLhWa1k5",
        "outputId": "6fc08fee-2d3a-4bee-afd2-44174b6316fd"
      },
      "execution_count": 32,
      "outputs": [
        {
          "output_type": "stream",
          "name": "stdout",
          "text": [
            "Best C: 10\n",
            "Test Accuracy: 0.956140350877193\n"
          ]
        }
      ]
    },
    {
      "cell_type": "markdown",
      "source": [
        "# Q25. Write a Python program to train Logistic Regression, save the trained model using joblib, and load it again to make predictions?"
      ],
      "metadata": {
        "id": "TBzIA-eMbDRd"
      }
    },
    {
      "cell_type": "code",
      "source": [
        "from sklearn.datasets import load_breast_cancer\n",
        "from sklearn.linear_model import LogisticRegression\n",
        "from sklearn.model_selection import train_test_split\n",
        "from sklearn.metrics import accuracy_score\n",
        "import joblib\n",
        "\n",
        "data = load_breast_cancer()\n",
        "X, y = data.data, data.target\n",
        "\n",
        "X_train, X_test, y_train, y_test = train_test_split(X, y, test_size=0.2, random_state=42)\n",
        "model = LogisticRegression(max_iter=10000, solver='liblinear')\n",
        "model.fit(X_train, y_train)\n",
        "\n",
        "joblib.dump(model, 'logistic_regression_model.joblib')\n",
        "loaded_model = joblib.load('logistic_regression_model.joblib')\n",
        "y_pred = loaded_model.predict(X_test)\n",
        "accuracy = accuracy_score(y_test, y_pred)\n",
        "print(\"Model Accuracy:\", accuracy)\n"
      ],
      "metadata": {
        "colab": {
          "base_uri": "https://localhost:8080/"
        },
        "id": "J2bK_pRGbH1Z",
        "outputId": "f238ac7c-d590-43e8-9a16-e8c6023c50bb"
      },
      "execution_count": 33,
      "outputs": [
        {
          "output_type": "stream",
          "name": "stdout",
          "text": [
            "Model Accuracy: 0.956140350877193\n"
          ]
        }
      ]
    }
  ]
}