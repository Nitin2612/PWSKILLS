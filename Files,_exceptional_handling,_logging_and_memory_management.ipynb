{
  "nbformat": 4,
  "nbformat_minor": 0,
  "metadata": {
    "colab": {
      "provenance": []
    },
    "kernelspec": {
      "name": "python3",
      "display_name": "Python 3"
    },
    "language_info": {
      "name": "python"
    }
  },
  "cells": [
    {
      "cell_type": "markdown",
      "source": [
        "# **Files, exceptional handling, logging and memory management Questions**\n",
        "\n",
        "---\n",
        "\n"
      ],
      "metadata": {
        "id": "PRMxi0NF2mlJ"
      }
    },
    {
      "cell_type": "markdown",
      "source": [
        "#Q1. What is the difference between interpreted and compiled languages?\n",
        "##1. Execution Process\n",
        "###Interpreted Languages:\n",
        "- Code is executed line by line or statement by statement by an interpreter.\n",
        "No intermediate machine code is generated.\n",
        "- Example: Python, JavaScript, Ruby.\n",
        "\n",
        "###Compiled Languages:\n",
        "- The entire code is translated into machine code (binary) by a compiler before execution.\n",
        "- The compiled machine code is then executed directly by the system.\n",
        "- Example: C, C++, Rust.\n",
        "\n",
        "##2. Speed\n",
        "### Interpreted Languages:\n",
        "- Slower, as the interpreter translates and executes code simultaneously during runtime.\n",
        "\n",
        "###Compiled Languages:\n",
        "- Faster, as the code is already translated into machine-readable form before execution.\n",
        "\n",
        "##3. Portability\n",
        "###Interpreted Languages:\n",
        "- Highly portable because the same source code can run on different platforms if an appropriate interpreter exists.\n",
        "\n",
        "###Compiled Languages:\n",
        "- Less portable since the compiled binary is specific to the target machine's architecture and operating system.\n",
        "\n",
        "##4. Debugging\n",
        "\n",
        "###Interpreted Languages:\n",
        "- Easier to debug because errors are displayed immediately as the code is interpreted.\n",
        "##Compiled Languages:\n",
        "- Errors need to be fixed before the program can be compiled successfully, which may take longer to debug.\n",
        "\n",
        "##5. Development Cycle\n",
        "\n",
        "###Interpreted Languages:\n",
        "- Shorter cycle as there's no need for a separate compilation step.\n",
        "\n",
        "###Compiled Languages:\n",
        "- Longer cycle due to the need for compilation before execution.\n",
        "\n",
        "##6. Example Workflow\n",
        "###Interpreted Languages:\n",
        "- Write code.\n",
        "- Run using an interpreter (e.g., python my_program.py).\n",
        "\n",
        "###Compiled Languages:\n",
        "- Write code.\n",
        "- Compile using a compiler (e.g., gcc my_program.c).\n",
        "- Run the generated binary (e.g., ./a.out).\n",
        "\n",
        "##Hybrid Languages\n",
        "Some languages combine both approaches:\n",
        "- Java: Source code is compiled into bytecode, which is then interpreted (or just-in-time compiled) by the JVM.\n",
        "- C#: Compiled into intermediate code (MSIL) and executed by the .NET runtime."
      ],
      "metadata": {
        "id": "9CzvM3n123HP"
      }
    },
    {
      "cell_type": "markdown",
      "source": [
        "#Q2.What is exception handling in Python?\n",
        "## Exception handling in Python is a mechanism to handle errors or exceptions that occur during the execution of a program. It ensures that the program can continue running or terminate gracefully instead of crashing abruptly.\n",
        "\n",
        "###Key Concepts\n",
        "- Exception: An error that disrupts the normal flow of a program (e.g., ZeroDivisionError, FileNotFoundError).\n",
        "- Handling: Using specific constructs to catch and respond to exceptions without crashing the program."
      ],
      "metadata": {
        "id": "Qr7m0VAz48JC"
      }
    },
    {
      "cell_type": "code",
      "source": [
        "#Example:\n",
        "try:\n",
        "    number = int(input(\"Enter a number: \"))\n",
        "    print(f\"The number is {number}\")\n",
        "except ValueError:\n",
        "    print(\"Invalid input! Please enter a valid number.\")"
      ],
      "metadata": {
        "colab": {
          "base_uri": "https://localhost:8080/"
        },
        "id": "ckE1MLu05gbr",
        "outputId": "98abf8f7-3c37-4d49-ef8b-069c617d1a95"
      },
      "execution_count": null,
      "outputs": [
        {
          "output_type": "stream",
          "name": "stdout",
          "text": [
            "Enter a number: a\n",
            "Invalid input! Please enter a valid number.\n"
          ]
        }
      ]
    },
    {
      "cell_type": "markdown",
      "source": [
        "#Q3. What is the purpose of the finally block in exception handling?\n",
        "##The finally block in exception handling is used to define code that will execute no matter what happens—whether an exception occurs or not. Its primary purpose is to ensure that certain cleanup or finalization tasks are performed, such as releasing resources, closing files, or cleaning up memory, regardless of whether an exception was raised during the program execution.\n",
        "\n",
        "##Key Characteristics of finally Block\n",
        "###Guaranteed Execution:\n",
        "- The finally block always executes, even if an exception is raised or if the try block executes successfully.\n",
        "- It also runs if the program encounters a return, break, or continue statement in the try or except blocks.\n",
        "\n",
        "###Use Case:\n",
        "- Used for cleanup operations like closing files, releasing locks, disconnecting from a database, etc.\n",
        "\n",
        "###Optional:\n",
        "- The finally block is optional in Python's exception handling structure."
      ],
      "metadata": {
        "id": "q4Muvxwo5o_u"
      }
    },
    {
      "cell_type": "code",
      "source": [
        "#Example:\n",
        "try:\n",
        "    print(\"Performing division...\")\n",
        "    result = 10 / 0\n",
        "except ZeroDivisionError:\n",
        "    print(\"Cannot divide by zero!\")\n",
        "finally:\n",
        "    print(\"Releasing resources...\")"
      ],
      "metadata": {
        "colab": {
          "base_uri": "https://localhost:8080/"
        },
        "id": "6AsIsI2P6Onx",
        "outputId": "43686f1e-58ff-44e1-94fa-03a8536894e3"
      },
      "execution_count": null,
      "outputs": [
        {
          "output_type": "stream",
          "name": "stdout",
          "text": [
            "Performing division...\n",
            "Cannot divide by zero!\n",
            "Releasing resources...\n"
          ]
        }
      ]
    },
    {
      "cell_type": "markdown",
      "source": [
        "#Q4. What is logging in Python?\n",
        "##Logging in Python is the process of recording messages or events that occur during the execution of a program. It is primarily used to provide visibility into the flow of a program, identify errors, or debug issues in a systematic and non-intrusive manner.\n",
        "- Python provides a built-in logging module to handle logging, offering flexibility in defining the format, level, and destination of log messages.\n",
        "\n",
        "###Why Use Logging?\n",
        "- Debugging and Monitoring: Helps identify issues and track program execution.\n",
        "- Error Reporting: Records errors for later analysis without halting the program.\n",
        "- Code Maintenance: Simplifies debugging and understanding of program behavior over time.\n",
        "- Controlled Output: Allows toggling between verbose debugging output and concise runtime messages.\n"
      ],
      "metadata": {
        "id": "GuaEoYDg6fOi"
      }
    },
    {
      "cell_type": "code",
      "source": [
        "import logging\n",
        "logging.basicConfig(level=logging.INFO)\n",
        "\n",
        "logging.debug(\"This is a debug message.\")\n",
        "logging.info(\"This is an info message.\")\n",
        "logging.warning(\"This is a warning message.\")\n",
        "logging.error(\"This is an error message.\")\n",
        "logging.critical(\"This is a critical message.\")"
      ],
      "metadata": {
        "colab": {
          "base_uri": "https://localhost:8080/"
        },
        "id": "WQalicXv7fqM",
        "outputId": "621a1f0d-9721-44a8-ad88-9423d42bb327"
      },
      "execution_count": null,
      "outputs": [
        {
          "output_type": "stream",
          "name": "stderr",
          "text": [
            "WARNING:root:This is a warning message.\n",
            "ERROR:root:This is an error message.\n",
            "CRITICAL:root:This is a critical message.\n"
          ]
        }
      ]
    },
    {
      "cell_type": "markdown",
      "source": [
        "#Q5. What is the significance of the __del__ method in Python?\n",
        "###The __del__ method, also known as the destructor, is a special method in Python that is called when an object is about to be destroyed (i.e., when it is garbage collected). It allows you to define cleanup tasks such as releasing resources, closing files, or disconnecting from a network.\n",
        "\n",
        "##Key Characteristics\n",
        "- Automatic Invocation: The __del__ method is invoked automatically by Python's garbage collector when an object’s reference count drops to zero.\n",
        "- Purpose: Typically used for resource management, like releasing file handles, sockets, or database connections.\n",
        "- Not Guaranteed Timing: The exact time when __del__ is called is not guaranteed; it depends on the garbage collector."
      ],
      "metadata": {
        "id": "rp0KK2Ne7tcQ"
      }
    },
    {
      "cell_type": "code",
      "source": [
        "class MyClass:\n",
        "    def __init__(self, name):\n",
        "        self.name = name\n",
        "        print(f\"Object {self.name} created.\")\n",
        "\n",
        "    def __del__(self):\n",
        "        print(f\"Object {self.name} destroyed.\")\n",
        "\n",
        "obj = MyClass(\"Sample\")\n",
        "del obj"
      ],
      "metadata": {
        "colab": {
          "base_uri": "https://localhost:8080/"
        },
        "id": "jpYGL11V9suV",
        "outputId": "1d7f709f-dc0d-4d37-f9b5-96548abc442f"
      },
      "execution_count": null,
      "outputs": [
        {
          "output_type": "stream",
          "name": "stdout",
          "text": [
            "Object Sample created.\n",
            "Object Sample destroyed.\n"
          ]
        }
      ]
    },
    {
      "cell_type": "markdown",
      "source": [
        "#Q6. What is the difference between import and from ... import in Python?\n",
        "In Python, both import and from ... import are used to include modules and access their functions, classes, or variables.\n",
        "##1. import Statement\n",
        "- The import statement imports the entire module into the current namespace.\n",
        "- To access functions, classes, or variables within the module, you must use the module name as a prefix.\n",
        "###Key Points\n",
        "- Imports the entire module.\n",
        "- Module functions or attributes are accessed using the module_name. prefix.\n",
        "- Keeps the namespace clean as it avoids importing all names directly.\n",
        "\n",
        "##2. from ... import Statement\n",
        "- The from ... import statement imports specific functions, classes, or variables from a module into the current namespace.\n",
        "- Allows direct access to the imported items without the need for a module prefix.\n",
        "###Key Points\n",
        "- Imports only specific items (e.g., functions, classes, variables) from a module.\n",
        "- No need to use the module name as a prefix to access the imported items.\n",
        "- Potential for namespace collisions if the imported names conflict with existing names in the program.\n",
        "\n"
      ],
      "metadata": {
        "id": "1fkhNNCk98IE"
      }
    },
    {
      "cell_type": "code",
      "source": [
        "# Using `import`\n",
        "import math\n",
        "print(math.sqrt(25))  # Requires `math.` prefix\n",
        "\n",
        "# Using `from ... import`\n",
        "from math import sqrt\n",
        "print(sqrt(25))       # Direct access, no `math.` prefix"
      ],
      "metadata": {
        "colab": {
          "base_uri": "https://localhost:8080/"
        },
        "id": "VX7IBeb-Aiu2",
        "outputId": "b7adbcd7-f489-4f54-ef11-a5c24430e402"
      },
      "execution_count": null,
      "outputs": [
        {
          "output_type": "stream",
          "name": "stdout",
          "text": [
            "5.0\n",
            "5.0\n"
          ]
        }
      ]
    },
    {
      "cell_type": "markdown",
      "source": [
        "#Q7. How can you handle multiple exceptions in Python?\n",
        "##Handling multiple exceptions in Python is a critical part of building robust and error-resistant programs. Python's exception-handling framework allows developers to anticipate errors and define strategies to deal with them without crashing the program.\n",
        "###1. Why Handle Multiple Exceptions?\n",
        "- Robust Applications: A program should gracefully handle unexpected user inputs or runtime errors, ensuring reliability.\n",
        "- Improved User Experience: Instead of cryptic error messages, programs can provide clear, user-friendly responses.\n",
        "- Debugging and Maintenance: Handling specific exceptions makes debugging easier by clearly identifying the source of the error.\n",
        "\n",
        "###2. Common Scenarios Requiring Multiple Exception Handling\n",
        "####Input Validation:\n",
        "- ValueError when a user provides invalid data type.\n",
        "- TypeError when a function is called with inappropriate arguments.\n",
        "\n",
        "####File Operations:\n",
        "- FileNotFoundError when a file doesn’t exist.\n",
        "- PermissionError if access to a file is denied.\n",
        "\n",
        "####Arithmetic Operations:\n",
        "- ZeroDivisionError when dividing by zero.\n",
        "- OverflowError when a calculation exceeds memory limits.\n",
        "\n",
        "####Network Operations:\n",
        "- TimeoutError for network delays.\n",
        "- ConnectionError when failing to connect to a server.\n"
      ],
      "metadata": {
        "id": "QtmwYQfGAv4z"
      }
    },
    {
      "cell_type": "code",
      "source": [
        "try:\n",
        "    value = int(input(\"Enter a number: \"))\n",
        "    result = 10 / value\n",
        "except ValueError:\n",
        "    print(\"Invalid input!\")\n",
        "except ZeroDivisionError:\n",
        "    print(\"Cannot divide by zero!\")\n",
        "except:\n",
        "    print(\"An unexpected error occurred.\")"
      ],
      "metadata": {
        "colab": {
          "base_uri": "https://localhost:8080/"
        },
        "id": "rED0w1THCJVg",
        "outputId": "09b71825-19fb-4ef4-940e-23b65daf145e"
      },
      "execution_count": null,
      "outputs": [
        {
          "output_type": "stream",
          "name": "stdout",
          "text": [
            "Enter a number: 0\n",
            "Cannot divide by zero!\n"
          ]
        }
      ]
    },
    {
      "cell_type": "markdown",
      "source": [
        "#Q8. What is the purpose of the with statement when handling files in Python?\n",
        "##The with statement in Python is used to handle resources like files, ensuring proper acquisition and release of resources. When working with files, the with statement simplifies file handling by automatically managing the file's lifecycle, including opening, closing, and cleanup, even in the event of an exception.\n",
        "\n",
        "###Purpose of the with Statement\n",
        "- Automatic Resource Management: It ensures the file is automatically closed once the block of code within the with statement is executed, even if an exception occurs.\n",
        "- Improved Readability: It simplifies code by eliminating the need to explicitly close the file using file.close().\n",
        "- Exception Safety: Prevents resource leaks by guaranteeing the release of resources (e.g., closing the file) in case of errors.\n",
        "- Cleaner Syntax: Provides a concise and Pythonic way to handle files and other context-managed resources."
      ],
      "metadata": {
        "id": "K_gQBcshCrvv"
      }
    },
    {
      "cell_type": "code",
      "source": [
        "try:\n",
        "    with open(\"non_existent_file.txt\", \"r\") as file:\n",
        "        content = file.read()\n",
        "        print(content)\n",
        "except FileNotFoundError:\n",
        "    print(\"The file does not exist.\")"
      ],
      "metadata": {
        "colab": {
          "base_uri": "https://localhost:8080/"
        },
        "id": "E4QPQDTxPX4F",
        "outputId": "497e93da-1e2c-44d8-a433-35844cb795be"
      },
      "execution_count": null,
      "outputs": [
        {
          "output_type": "stream",
          "name": "stdout",
          "text": [
            "The file does not exist.\n"
          ]
        }
      ]
    },
    {
      "cell_type": "markdown",
      "source": [
        "#Q9. What is the difference between multithreading and multiprocessing?\n",
        "###Multithreading and multiprocessing are techniques used to achieve concurrency and parallelism in programming. They differ significantly in their approach, resource usage, and ideal use cases.\n",
        "##1. Multithreading\n",
        "- Definition: Multithreading uses multiple threads within a single process. These threads share the same memory space and resources.\n",
        "##Key Characteristics:\n",
        "- Threads are lightweight and execute concurrently within a process.\n",
        "- In Python (with CPython), multithreading is limited by the Global - Interpreter Lock (GIL), which allows only one thread to execute Python bytecode at a time.\n",
        "- Best suited for I/O-bound tasks, such as reading from files, network operations, or user input handling.\n",
        "\n",
        "##Advantages:\n",
        "- Low resource consumption since threads share memory.\n",
        "- Faster context switching between threads compared to processes.\n",
        "- Easier to share data between threads.\n",
        "\n",
        "##Disadvantages:\n",
        "- Limited parallelism due to GIL in Python.\n",
        "- Risk of race conditions if shared data is not handled properly.\n",
        "- A crash in one thread can affect the entire process.\n"
      ],
      "metadata": {
        "id": "Oy6SfDtJQ7pI"
      }
    },
    {
      "cell_type": "code",
      "source": [
        "import threading\n",
        "\n",
        "def print_numbers():\n",
        "    for i in range(5):\n",
        "        print(f\"Thread {threading.current_thread().name}: {i}\")\n",
        "\n",
        "thread1 = threading.Thread(target=print_numbers, name=\"A\")\n",
        "thread2 = threading.Thread(target=print_numbers, name=\"B\")\n",
        "\n",
        "thread1.start()\n",
        "thread2.start()\n",
        "\n",
        "thread1.join()\n",
        "thread2.join()\n"
      ],
      "metadata": {
        "colab": {
          "base_uri": "https://localhost:8080/"
        },
        "id": "Ezk9dhOUR7T3",
        "outputId": "806ca6e8-8b55-46b2-aec2-7f2a7081e4de"
      },
      "execution_count": null,
      "outputs": [
        {
          "output_type": "stream",
          "name": "stdout",
          "text": [
            "Thread A: 0\n",
            "Thread A: 1\n",
            "Thread A: 2\n",
            "Thread A: 3\n",
            "Thread A: 4\n",
            "Thread B: 0\n",
            "Thread B: 1\n",
            "Thread B: 2\n",
            "Thread B: 3\n",
            "Thread B: 4\n"
          ]
        }
      ]
    },
    {
      "cell_type": "markdown",
      "source": [
        "##2. Multiprocessing\n",
        "###Definition: Multiprocessing creates multiple processes, each with its own memory space and Python interpreter. This allows for true parallelism, as separate processes run on different CPU cores.\n",
        "\n",
        "##Key Characteristics:\n",
        "- Processes do not share memory; they communicate via inter-process communication (IPC) mechanisms such as pipes or queues.\n",
        "- Not restricted by the GIL, making it ideal for CPU-bound tasks like numerical computations or data processing.\n",
        "\n",
        "#Advantages:\n",
        "- Achieves true parallelism by utilizing multiple CPU cores.\n",
        "- Safer, as processes are independent; a crash in one does not affect others.\n",
        "- GIL-free execution ensures better performance for computationally intensive tasks.\n",
        "\n",
        "#Disadvantages:\n",
        "- Higher overhead compared to threads due to separate memory and process creation.\n",
        "- Data sharing between processes requires serialization, which can slow down performance.\n"
      ],
      "metadata": {
        "id": "tOPZqUSASutu"
      }
    },
    {
      "cell_type": "code",
      "source": [
        "from multiprocessing import Process\n",
        "\n",
        "def print_numbers():\n",
        "    for i in range(5):\n",
        "        print(f\"Process: {i}\")\n",
        "\n",
        "process1 = Process(target=print_numbers)\n",
        "process2 = Process(target=print_numbers)\n",
        "\n",
        "process1.start()\n",
        "process2.start()\n",
        "\n",
        "process1.join()\n",
        "process2.join()"
      ],
      "metadata": {
        "colab": {
          "base_uri": "https://localhost:8080/"
        },
        "id": "xLlutM6ZTQze",
        "outputId": "f5b9db48-90b7-44a6-f7ac-0e0ad54fc698"
      },
      "execution_count": null,
      "outputs": [
        {
          "output_type": "stream",
          "name": "stdout",
          "text": [
            "Process: 0\n",
            "Process: 1Process: 0\n",
            "Process: 2\n",
            "\n",
            "Process: 3Process: 1\n",
            "\n",
            "Process: 4\n",
            "Process: 2\n",
            "Process: 3\n",
            "Process: 4\n"
          ]
        }
      ]
    },
    {
      "cell_type": "markdown",
      "source": [
        "#Q10.What are the advantages of using logging in a program?\n",
        "###Logging is a crucial feature for monitoring, debugging, and maintaining a program. It provides developers with insights into the program's execution, making it easier to track issues and understand program behavior.\n",
        "##Key Advantages\n",
        "###1. Debugging and Troubleshooting\n",
        "- Logs capture real-time information about program execution, including errors, warnings, and general messages.\n",
        "- Developers can pinpoint the exact point of failure or understand unexpected behavior without halting the program.\n",
        "\n",
        "###2. Improved Program Monitoring\n",
        "- Logs provide continuous feedback about the system's status.\n",
        "- Useful in identifying bottlenecks, inefficiencies, or anomalies in the application’s workflow.\n",
        "\n",
        "###3. Error Tracking\n",
        "- Logging records exceptions and errors in detail, including stack traces and context.\n",
        "- This is particularly helpful for diagnosing issues in production environments.\n",
        "\n",
        "###4. Audit and Compliance\n",
        "- Logs maintain a record of events, which can be crucial for auditing purposes.\n",
        "- Ensures compliance with legal or organizational requirements for monitoring and security.\n",
        "\n",
        "###5. Performance Analysis\n",
        "- By logging time-stamped events, developers can analyze the performance of specific operations.\n",
        "- Helps in optimizing code by identifying slow-running processes."
      ],
      "metadata": {
        "id": "QkZ0ZfVVThin"
      }
    },
    {
      "cell_type": "code",
      "source": [
        "import logging\n",
        "\n",
        "logging.basicConfig(\n",
        "    filename='app.log',\n",
        "    level=logging.DEBUG,\n",
        "    format='%(asctime)s - %(levelname)s - %(message)s'\n",
        ")\n",
        "\n",
        "logging.debug(\"This is a debug message\")\n",
        "logging.info(\"This is an info message\")\n",
        "logging.warning(\"This is a warning\")\n",
        "logging.error(\"This is an error\")\n",
        "logging.critical(\"This is a critical issue\")\n"
      ],
      "metadata": {
        "colab": {
          "base_uri": "https://localhost:8080/"
        },
        "id": "LDLYmnueUZSB",
        "outputId": "92bb8f34-e826-4f79-bd45-ad2cf8a5dee2"
      },
      "execution_count": null,
      "outputs": [
        {
          "output_type": "stream",
          "name": "stderr",
          "text": [
            "WARNING:root:This is a warning\n",
            "ERROR:root:This is an error\n",
            "CRITICAL:root:This is a critical issue\n"
          ]
        }
      ]
    },
    {
      "cell_type": "markdown",
      "source": [
        "#Q11. What is memory management in Python?\n",
        "###Memory management in Python refers to how the Python interpreter handles the allocation and deallocation of memory during program execution. Python uses a combination of techniques, including automatic memory allocation, garbage collection, and efficient memory management systems, to ensure that programs run smoothly and efficiently.\n",
        "\n",
        "##Key Features of Memory Management in Python\n",
        "**1. Automatic Memory Allocation**\n",
        "- Python handles memory allocation for objects automatically, so developers do not need to manually allocate or free memory.\n",
        "- Memory is allocated for variables and objects when they are created.\n",
        "\n",
        "**2. Private Heap Space**\n",
        "- Python maintains all objects and data structures in a private heap space.\n",
        "- This space is inaccessible to developers, and Python’s memory manager handles it internally.\n",
        "\n",
        "**3. Memory Pooling**\n",
        "- Python uses memory pooling to optimize memory allocation for frequently used objects like integers and strings.\n",
        "- Objects of the same size may be reused from a memory pool, reducing the overhead of repeatedly allocating and deallocating memory.\n",
        "\n",
        "**4. Garbage Collection**\n",
        "- Python has a built-in garbage collector that automatically reclaims memory that is no longer in use.\n",
        "- Unreachable or unused objects are identified and cleaned up, freeing up space.\n",
        "\n",
        "**5. Reference Counting**\n",
        "- Python uses reference counting to track how many references point to an object.\n",
        "- When an object's reference count drops to zero (i.e., no variable or object points to it), the memory occupied by the object is eligible for garbage collection."
      ],
      "metadata": {
        "id": "LCy9XytWUqlS"
      }
    },
    {
      "cell_type": "code",
      "source": [
        "#Example:\n",
        "import sys\n",
        "\n",
        "my_list = [1, 2, 3, 4]\n",
        "print(\"Memory size of the list:\", sys.getsizeof(my_list), \"bytes\")\n",
        "\n",
        "my_list.append(5)\n",
        "print(\"Memory size of the updated list:\", sys.getsizeof(my_list), \"bytes\")\n",
        "\n",
        "del my_list\n"
      ],
      "metadata": {
        "colab": {
          "base_uri": "https://localhost:8080/"
        },
        "id": "4dusx7PsVpQO",
        "outputId": "81e394e3-787d-424d-ce35-dd8ea191908f"
      },
      "execution_count": null,
      "outputs": [
        {
          "output_type": "stream",
          "name": "stdout",
          "text": [
            "Memory size of the list: 88 bytes\n",
            "Memory size of the updated list: 120 bytes\n"
          ]
        }
      ]
    },
    {
      "cell_type": "markdown",
      "source": [
        "#Q12. What are the basic steps involved in exception handling in Python?\n",
        "###Exception handling in Python allows developers to manage runtime errors in a controlled way. By using specific constructs, Python programs can gracefully handle exceptions and continue execution without crashing.\n",
        "##1. Using try Block\n",
        "- Purpose: The try block is used to wrap the code that might raise an exception. This block contains the code that could potentially cause an error, and any exceptions that occur within this block are caught by the corresponding except block.\n"
      ],
      "metadata": {
        "id": "Vz0z9CMTWkGX"
      }
    },
    {
      "cell_type": "code",
      "source": [
        "#Syntax:\n",
        "try:\n",
        "    # Code that may raise an exception"
      ],
      "metadata": {
        "id": "RYRmpvPKYDXf"
      },
      "execution_count": null,
      "outputs": []
    },
    {
      "cell_type": "markdown",
      "source": [
        "##2. Using except Block\n",
        "- Purpose: The except block defines what to do if an exception occurs in the try block. You can specify particular exceptions or handle any general exception."
      ],
      "metadata": {
        "id": "T1InqmS8YHTB"
      }
    },
    {
      "cell_type": "code",
      "source": [
        "#Syntax:\n",
        "except <ExceptionType>:\n",
        "    # Code to handle the exception"
      ],
      "metadata": {
        "id": "CNEqrQHeyWLl"
      },
      "execution_count": null,
      "outputs": []
    },
    {
      "cell_type": "markdown",
      "source": [
        "##3. Using else Block\n",
        "- Purpose: The else block is optional and runs only if no exceptions were raised in the try block. It is useful for code that should only run when the try block completes without errors."
      ],
      "metadata": {
        "id": "TuOOVtFyyZvG"
      }
    },
    {
      "cell_type": "code",
      "source": [
        "#Syntax:\n",
        "else:\n",
        "    # Code to execute if no exception occurs"
      ],
      "metadata": {
        "id": "DJatV__aykzP"
      },
      "execution_count": null,
      "outputs": []
    },
    {
      "cell_type": "markdown",
      "source": [
        "##4. Using finally Block\n",
        "- Purpose: The finally block is also optional and is executed no matter what—whether an exception is raised or not. This is ideal for cleanup actions (like closing files or releasing resources)."
      ],
      "metadata": {
        "id": "EBXtGgP-yp__"
      }
    },
    {
      "cell_type": "code",
      "source": [
        "#Syntax:\n",
        "finally:\n",
        "    # Code to execute regardless of exception occurrence"
      ],
      "metadata": {
        "id": "ihRrGJJ0yxqW"
      },
      "execution_count": null,
      "outputs": []
    },
    {
      "cell_type": "markdown",
      "source": [
        "##5. Catching Specific Exceptions\n",
        "- It is good practice to catch specific exceptions, rather than a generic except block, to ensure that the right actions are taken for different types of errors"
      ],
      "metadata": {
        "id": "d_63GKd387yO"
      }
    },
    {
      "cell_type": "code",
      "source": [
        "#Example:\n",
        "try:\n",
        "    num = int(input(\"Enter a number: \"))\n",
        "except ValueError:\n",
        "    print(\"Invalid input, please enter a valid number.\")"
      ],
      "metadata": {
        "colab": {
          "base_uri": "https://localhost:8080/"
        },
        "id": "M3RsiO1H8-Ta",
        "outputId": "293801e3-7cc0-40b5-9cf5-cbbf9c06cb13"
      },
      "execution_count": null,
      "outputs": [
        {
          "output_type": "stream",
          "name": "stdout",
          "text": [
            "Enter a number: A\n",
            "Invalid input, please enter a valid number.\n"
          ]
        }
      ]
    },
    {
      "cell_type": "markdown",
      "source": [
        "##6. Raising Exceptions\n",
        "- Purpose: Sometimes, you may need to manually raise an exception if certain conditions are met. This is done using the raise keyword."
      ],
      "metadata": {
        "id": "N9jKgj3k9Ldx"
      }
    },
    {
      "cell_type": "code",
      "source": [
        "#Syntax:\n",
        "raise ExceptionType(\"Error message\")"
      ],
      "metadata": {
        "id": "fgFwdPsO9Scb"
      },
      "execution_count": null,
      "outputs": []
    },
    {
      "cell_type": "markdown",
      "source": [
        "#Q13. Why is memory management important in Python?\n",
        "##Memory management is critical in Python (or any programming language) because it ensures that system resources are used efficiently, program performance is optimized, and issues such as memory leaks and crashes are avoided. Python's automatic memory management simplifies this process for developers, but its importance extends to several core aspects of programming.\n",
        "###Key Reasons Why Memory Management is Important\n",
        "1. Efficient Resource Utilization\n",
        "- Memory is a finite resource. Efficient management ensures that programs do not consume more memory than necessary, allowing multiple applications to run simultaneously without overloading the system.\n",
        "- By freeing unused memory through garbage collection, Python ensures that resources are available for other processes.\n",
        "2. Preventing Memory Leaks\n",
        "- Memory leaks occur when memory that is no longer needed is not released. Over time, this can lead to increased memory usage and eventually crash the system.\n",
        "- Python's garbage collector identifies and cleans up unreachable objects, minimizing the risk of memory leaks.\n",
        "3. Ensuring Program Stability\n",
        "- Poor memory management can lead to instability, including crashes or undefined behavior.\n",
        "- Python's memory management mechanisms (like automatic memory allocation and deallocation) ensure consistent and predictable program behavior.\n",
        "4. Improving Performance\n",
        "- Programs with effective memory management run faster because they allocate and deallocate memory efficiently.\n",
        "- Memory pooling in Python helps reduce the overhead of repeatedly allocating memory for common objects like integers and strings.\n",
        "5. Ease of Development\n",
        "- Python abstracts complex memory management tasks, allowing developers to focus on writing logic without worrying about low-level memory allocation or deallocation.\n",
        "- Features like reference counting and garbage collection simplify development while still maintaining efficiency."
      ],
      "metadata": {
        "id": "Ar2wCYEF9YM4"
      }
    },
    {
      "cell_type": "markdown",
      "source": [
        "#Q14. What is the role of try and except in exception handling?\n",
        "##In Python, exception handling is implemented using the try and except blocks. Together, these blocks allow developers to gracefully handle errors that occur during program execution, preventing the program from crashing and enabling alternative actions to be taken when something goes wrong.\n",
        "###Role of try Block\n",
        "The try block is used to wrap the code that might raise an exception. Its purpose is to monitor the code for potential errors and transfer control to the except block if an exception occurs.\n",
        "####Key Points:\n",
        "- Monitor for Errors: The code inside the try block is executed normally until an exception is raised.\n",
        "- Error Detection: If no exception occurs, the except block is skipped, and the program continues as usual.\n",
        "- Error Handling Trigger: If an exception is raised, the try block stops executing, and control is passed to the matching except block.\n"
      ],
      "metadata": {
        "id": "jcIutrqc-Gog"
      }
    },
    {
      "cell_type": "code",
      "source": [
        "#Syntax:\n",
        "try:\n",
        "    # Code that might raise an exception"
      ],
      "metadata": {
        "id": "_hQe1lKa_Brf"
      },
      "execution_count": null,
      "outputs": []
    },
    {
      "cell_type": "markdown",
      "source": [
        "##Role of except Block\n",
        "The except block is used to handle exceptions raised in the try block. It defines the actions to take when a specific type of exception occurs.\n",
        "###Key Points:\n",
        "- Error Handling: It provides alternative code to execute when an error is detected.\n",
        "- Specific Exception Handling: You can specify the type of exception to handle, making the program respond differently to various errors.\n",
        "- Generic Exception Handling: It can also handle any exception generically, though this practice is generally discouraged unless necessary.\n",
        "- Prevents Program Crash: The except block allows the program to recover from the error and continue execution."
      ],
      "metadata": {
        "id": "5VGLZsjb_GFQ"
      }
    },
    {
      "cell_type": "code",
      "source": [
        "#Syntax:\n",
        "except <ExceptionType>:\n",
        "    # Code to handle the specific exception"
      ],
      "metadata": {
        "id": "h2MqWEN9_WEr"
      },
      "execution_count": null,
      "outputs": []
    },
    {
      "cell_type": "code",
      "source": [
        "#Example:\n",
        "try:\n",
        "    num = int(input(\"Enter a number: \"))\n",
        "    result = 100 / num\n",
        "    print(f\"The result is {result}\")\n",
        "except ValueError:\n",
        "    print(\"Invalid input! Please enter a valid number.\")\n",
        "except ZeroDivisionError:\n",
        "    print(\"Division by zero is not allowed.\")\n"
      ],
      "metadata": {
        "colab": {
          "base_uri": "https://localhost:8080/"
        },
        "id": "b2ojsF6e_fwP",
        "outputId": "8d349270-a23f-48f6-cc8e-5057e93ae566"
      },
      "execution_count": null,
      "outputs": [
        {
          "output_type": "stream",
          "name": "stdout",
          "text": [
            "Enter a number: 1\n",
            "The result is 100.0\n"
          ]
        }
      ]
    },
    {
      "cell_type": "markdown",
      "source": [
        "#Q15. How does Python's garbage collection system work?\n",
        "##Python uses an automatic garbage collection (GC) system to manage memory by reclaiming unused or inaccessible memory objects. This system is part of Python's built-in memory management and ensures that programs run efficiently without memory leaks.\n",
        "\n",
        "###How Python's Garbage Collection Works\n",
        "Python's garbage collection system relies on two mechanisms:\n",
        "- Reference Counting\n",
        "- Generational Garbage Collection (based on the gc module)\n",
        "\n",
        "##1. Reference Counting\n",
        "Python keeps track of the number of references to each object in memory. When the reference count of an object drops to zero, the object is no longer accessible and is immediately deallocated.\n",
        "###Key Process:\n",
        "- Each object in Python has an associated reference count.\n",
        "\n",
        "The reference count increases when:\n",
        "- A new reference is created (e.g., assigning it to a variable).\n",
        "\n",
        "The reference count decreases when:\n",
        "- A reference is deleted (e.g., using del).\n",
        "- The object goes out of scope.\n",
        "\n"
      ],
      "metadata": {
        "id": "KXN7BVPF_oAJ"
      }
    },
    {
      "cell_type": "code",
      "source": [
        "#Example:\n",
        "a = [1, 2, 3]\n",
        "b = a\n",
        "del a\n",
        "del b\n",
        "#Limitations: Reference counting cannot handle cyclic references, where objects refer to each other."
      ],
      "metadata": {
        "id": "Ce6ND_0FAqSy"
      },
      "execution_count": null,
      "outputs": []
    },
    {
      "cell_type": "markdown",
      "source": [
        "###2. Generational Garbage Collection\n",
        "To address cyclic references, Python uses a generational garbage collector implemented in the gc module. This system organizes objects into three generations based on their lifespan:\n",
        "- Generation 0 (Youngest): Newly created objects.\n",
        "- Generation 1: Objects that survive a collection in Generation 0.\n",
        "- Generation 2 (Oldest): Objects that survive multiple collections in Generation 1.\n",
        "\n",
        "####Key Concepts:\n",
        "- Objects are promoted to older generations if they survive garbage collection in their current generation.\n",
        "- Older generations are collected less frequently than younger ones, as long-lived objects are less likely to become unreachable.\n",
        "- The GC collects objects in a specific generation when the number of objects exceeds a threshold."
      ],
      "metadata": {
        "id": "qlaGN90OA3A5"
      }
    },
    {
      "cell_type": "code",
      "source": [
        "#Example:\n",
        "import sys\n",
        "\n",
        "a = [1, 2, 3]\n",
        "print(f\"Reference count of 'a': {sys.getrefcount(a)}\")\n",
        "b = a\n",
        "print(f\"Reference count after assigning 'b': {sys.getrefcount(a)}\")\n",
        "del b\n",
        "print(f\"Reference count after deleting 'b': {sys.getrefcount(a)}\")\n",
        "del a\n"
      ],
      "metadata": {
        "colab": {
          "base_uri": "https://localhost:8080/"
        },
        "id": "osP7NTTDCcG7",
        "outputId": "72006529-afda-4115-fa11-f9ee951c8c7a"
      },
      "execution_count": null,
      "outputs": [
        {
          "output_type": "stream",
          "name": "stdout",
          "text": [
            "Reference count of 'a': 2\n",
            "Reference count after assigning 'b': 3\n",
            "Reference count after deleting 'b': 2\n"
          ]
        }
      ]
    },
    {
      "cell_type": "markdown",
      "source": [
        "#Q16.  What is the purpose of the else block in exception handling?\n",
        "###The else block in Python's exception handling is used to specify a block of code that should run only if no exceptions are raised in the corresponding try block. It provides a way to separate the logic for handling exceptions from the logic that should execute when everything runs smoothly.\n",
        "###When to Use the else Block?\n",
        "The else block is useful when you want to:\n",
        "- Keep exception handling logic separate from normal execution logic.\n",
        "- Ensure that certain code runs only when no exception occurs, making the program flow more readable."
      ],
      "metadata": {
        "id": "S2Yl0DRgDHiW"
      }
    },
    {
      "cell_type": "code",
      "source": [
        "#Example:\n",
        "try:\n",
        "    num = int(input(\"Enter a number: \"))\n",
        "    result = 10 / num\n",
        "except ValueError:\n",
        "    print(\"Invalid input! Please enter a valid number.\")\n",
        "except ZeroDivisionError:\n",
        "    print(\"Division by zero is not allowed.\")\n",
        "else:\n",
        "    print(f\"The result is {result}.\")"
      ],
      "metadata": {
        "colab": {
          "base_uri": "https://localhost:8080/"
        },
        "id": "QEy_F-NuFELc",
        "outputId": "05b845e6-2907-4892-918c-75ed6b897618"
      },
      "execution_count": null,
      "outputs": [
        {
          "output_type": "stream",
          "name": "stdout",
          "text": [
            "Enter a number: a\n",
            "Invalid input! Please enter a valid number.\n"
          ]
        }
      ]
    },
    {
      "cell_type": "markdown",
      "source": [
        "###Benefits of Using the else Block\n",
        "- Improved Code Clarity: Separates the normal execution logic from exception handling logic.\n",
        "- Efficient Debugging: Clearly distinguishes between code that deals with errors and code that executes upon successful completion.\n",
        "- Readable Workflow: Helps in creating a well-structured flow of execution.\n"
      ],
      "metadata": {
        "id": "ukzp3oT6FN3v"
      }
    },
    {
      "cell_type": "markdown",
      "source": [
        "#Q17. What are the common logging levels in Python?\n",
        "###Python’s logging module provides predefined logging levels to categorize the severity of messages. These levels help developers control the amount and type of log information displayed or recorded during program execution.\n",
        "##DEBUG:\n",
        "- Description: Provides detailed diagnostic information, typically used for debugging.\n",
        "- Use Case: When you want to log information useful for diagnosing problems during development.\n",
        "\n",
        "##INFO:\n",
        "- Description: Provides general information about program execution (e.g., progress or key events).\n",
        "- Use Case: To log normal operational messages, like starting or stopping services.\n",
        "\n",
        "##WARNING:\n",
        "- Description: Indicates a potential issue that doesn’t prevent the program from running.\n",
        "- Use Case: To log situations that may require attention but are not errors.\n",
        "\n",
        "##ERROR:\n",
        "- Description: Indicates a serious problem that has occurred, typically an exception or failed operation.\n",
        "- Use Case: To log errors that need immediate investigation but do not crash the application.\n",
        "\n",
        "##CRITICAL:\n",
        "- Description: Indicates a severe issue that might cause the program to terminate.\n",
        "- Use Case: To log fatal errors, like system crashes or unhandled exceptions.\n"
      ],
      "metadata": {
        "id": "5MM9ky1wGW_Q"
      }
    },
    {
      "cell_type": "code",
      "source": [
        "#Example:\n",
        "import logging\n",
        "\n",
        "logging.basicConfig(level=logging.WARNING)\n",
        "\n",
        "logging.debug(\"This is a debug message.\")\n",
        "logging.info(\"This is an info message.\")\n",
        "logging.warning(\"This is a warning message.\")\n",
        "logging.error(\"This is an error message.\")\n",
        "logging.critical(\"This is a critical message.\")"
      ],
      "metadata": {
        "colab": {
          "base_uri": "https://localhost:8080/"
        },
        "id": "tfnwciKgHkpn",
        "outputId": "27dec4f5-3aa7-4eea-9c23-9ccf3ee21ccb"
      },
      "execution_count": null,
      "outputs": [
        {
          "output_type": "stream",
          "name": "stderr",
          "text": [
            "WARNING:root:This is a warning message.\n",
            "ERROR:root:This is an error message.\n",
            "CRITICAL:root:This is a critical message.\n"
          ]
        }
      ]
    },
    {
      "cell_type": "markdown",
      "source": [
        "#Q18. What is the difference between os.fork() and multiprocessing in Python?\n",
        "##Python provides two primary ways to create new processes: the low-level os.fork() and the high-level multiprocessing module.\n",
        "###os.fork():\n",
        "- A low-level function available in Unix-based systems (Linux, macOS).\n",
        "- Directly forks the process, creating a new child process that is an exact copy of the parent process.\n",
        "- Requires manual management of inter-process communication and synchronization.\n",
        "\n",
        "###multiprocessing Module:\n",
        "- A high-level Python library for spawning processes in a platform-independent way.\n",
        "- Simplifies process creation, management, and communication using abstractions like Process, Queue, and Pipe.\n",
        "\n",
        "##Key Differences\n",
        "a. Platform Support\n",
        "- os.fork(): Works only on Unix-like operating systems. Not available on Windows.\n",
        "- multiprocessing: Cross-platform (works on both Unix and Windows).\n",
        "\n",
        "b. Ease of Use\n",
        "- os.fork(): Requires the programmer to handle everything manually, including process communication and resource sharing.\n",
        "- multiprocessing: Provides a high-level API to manage processes, making it easier to use.\n",
        "\n",
        "c. Communication Between Processes\n",
        "- os.fork(): No built-in support for inter-process communication (IPC). You need to use low-level mechanisms like pipes or shared memory.\n",
        "- multiprocessing: Offers built-in tools like Queue, Pipe, and shared memory for IPC.\n",
        "\n",
        "d. Process Management\n",
        "- os.fork(): Manual handling of process IDs (pid) and exit status. You must use os.wait() to ensure proper cleanup.\n",
        "- multiprocessing: Automatically manages process lifecycle and cleanup through its Process class.\n",
        "\n",
        "e. Memory Management\n",
        "- os.fork(): The child process inherits the parent’s memory space (copy-on-write), which can lead to complications if memory sharing is not handled correctly.\n",
        "- multiprocessing: Creates separate memory space for each process, avoiding direct memory inheritance.\n",
        "\n",
        "f. Safety in Python\n",
        "- os.fork(): Can cause issues with Python’s Global Interpreter Lock (GIL) and may result in deadlocks if not used carefully.\n",
        "- multiprocessing: Designed to work around the GIL, making it safer and more reliable in Python programs.\n"
      ],
      "metadata": {
        "id": "_dn5WHF7HysO"
      }
    },
    {
      "cell_type": "code",
      "source": [
        "#Example: os.fork()\n",
        "import os\n",
        "\n",
        "def child_process():\n",
        "    print(\"Child process running. PID:\", os.getpid())\n",
        "\n",
        "def parent_process():\n",
        "    print(\"Parent process running. PID:\", os.getpid())\n",
        "\n",
        "pid = os.fork()\n",
        "\n",
        "if pid == 0:\n",
        "    child_process()\n",
        "else:\n",
        "    parent_process()\n",
        "    os.wait()"
      ],
      "metadata": {
        "colab": {
          "base_uri": "https://localhost:8080/"
        },
        "id": "AbORtL28Jgtx",
        "outputId": "0be58927-15a0-4186-ea57-66d826404029"
      },
      "execution_count": null,
      "outputs": [
        {
          "output_type": "stream",
          "name": "stdout",
          "text": [
            "Child process running. PID: 84705\n"
          ]
        }
      ]
    },
    {
      "cell_type": "code",
      "source": [
        "#Example :multiprocessing:\n",
        "from multiprocessing import Process\n",
        "\n",
        "def child_process():\n",
        "    print(\"Child process running. PID:\", os.getpid())\n",
        "\n",
        "if __name__ == \"__main__\":\n",
        "    process = Process(target=child_process)\n",
        "    process.start()  # Start the process\n",
        "    process.join()"
      ],
      "metadata": {
        "id": "7p8ApMrGKgyf"
      },
      "execution_count": null,
      "outputs": []
    },
    {
      "cell_type": "markdown",
      "source": [
        "#Q19. What is the importance of closing a file in Python?\n",
        "###In Python, when a file is opened using the open() function, it allocates system resources to handle the file. Closing the file using the close() method is critical for efficient resource management and ensuring the integrity of the data.\n",
        "\n",
        "##Why Is It Important to Close a File?\n",
        "###Releases System Resources:\n",
        "- Every open file consumes system resources such as file descriptors.\n",
        "- Closing the file ensures that these resources are released back to the operating system, allowing them to be used elsewhere.\n",
        "\n",
        "###Ensures Data Integrity:\n",
        "- When writing to a file, data is often buffered before being written to the disk.\n",
        "- Closing the file flushes the buffer, ensuring all data is written to the file and nothing is lost.\n",
        "\n",
        "###Prevents Data Corruption:\n",
        "- An open file might remain in an unstable state, especially if the program crashes or is interrupted.\n",
        "- Closing the file ensures it is properly finalized and reduces the risk of corruption.\n",
        "\n",
        "###Avoids File Locks:\n",
        "- In some systems, an open file might remain locked, preventing other programs or processes from accessing it.\n",
        "- Closing the file removes the lock, allowing shared usage.\n",
        "\n",
        "###Improves Code Robustness:\n",
        "- Not closing files can lead to resource leaks, potentially causing the program to crash or behave unpredictably.\n",
        "- Properly closing files ensures better control over program resources.\n"
      ],
      "metadata": {
        "id": "lVpIzUKfKwoF"
      }
    },
    {
      "cell_type": "code",
      "source": [
        "#Using close() Method:\n",
        "file = open(\"example.txt\", \"w\")\n",
        "file.write(\"Hello, World!\")\n",
        "file.close()"
      ],
      "metadata": {
        "id": "S8RroPxrL2iM"
      },
      "execution_count": null,
      "outputs": []
    },
    {
      "cell_type": "code",
      "source": [
        "#Using the with Statement:\n",
        "with open(\"example.txt\", \"w\") as file:\n",
        "    file.write(\"Hello, World!\")"
      ],
      "metadata": {
        "id": "bXFf28w7Suc8"
      },
      "execution_count": null,
      "outputs": []
    },
    {
      "cell_type": "markdown",
      "source": [
        "#Q20. What is the difference between file.read() and file.readline() in Python?\n",
        "###In Python, both file.read() and file.readline() are used to read data from a file, but they operate in different ways and are suited for different use cases.\n",
        "##Purpose and Behavior\n",
        "###file.read():\n",
        "- Reads the entire contents of a file as a single string.\n",
        "- Useful when you want to read the entire file into memory at once.\n",
        "- Can take an optional argument size to read a specified number of bytes.\n",
        "- After calling read(), the file pointer moves to the end of the file.\n",
        "\n",
        "##file.readline():\n",
        "- Reads one line at a time from the file.\n",
        "- Useful when you want to process the file line by line (e.g., for large files).\n",
        "- The file pointer moves to the next line after each call.\n",
        "- It returns the line as a string, including the newline character (\\n) at the end.\n",
        "\n",
        "##Memory Usage\n",
        "###file.read():\n",
        "- Reads the entire file into memory at once, which could be problematic for large files, potentially leading to memory issues if the file size is too large.\n",
        "\n",
        "###file.readline():\n",
        "- Reads only one line at a time, making it more memory-efficient when processing large files line by line. The entire file is not loaded into memory.\n",
        "\n",
        "##Usage Context\n",
        "###file.read():\n",
        "- Best suited for smaller files where reading the whole content into memory at once is acceptable.\n",
        "- Often used when you need to process or manipulate the entire content of the file at once.\n",
        "\n",
        "###file.readline():\n",
        "- Ideal for reading large files or when the file is too large to fit into memory.\n",
        "- Suitable when you need to perform line-by-line processing, such as reading logs or processing CSV files.\n",
        "\n",
        "##Return Value\n",
        "###file.read():\n",
        "- Returns the entire file as a single string.\n",
        "\n",
        "###file.readline():\n",
        "- Returns the next line as a string, including the newline character (\\n). If you reach the end of the file, it returns an empty string (\"\")."
      ],
      "metadata": {
        "id": "fHVS0YePS7qi"
      }
    },
    {
      "cell_type": "code",
      "source": [
        "#Example file.read():\n",
        "\n",
        "with open(\"example.txt\", \"r\") as file:\n",
        "    content = file.read()\n",
        "    print(content)"
      ],
      "metadata": {
        "id": "zFG5s2HMUZbE"
      },
      "execution_count": null,
      "outputs": []
    },
    {
      "cell_type": "code",
      "source": [
        "#Example file.readline():\n",
        "\n",
        "with open(\"example.txt\", \"r\") as file:\n",
        "    line = file.readline()\n",
        "    print(line)\n",
        "    line = file.readline()\n",
        "    print(line)"
      ],
      "metadata": {
        "id": "XGQTxxBTUiVy"
      },
      "execution_count": null,
      "outputs": []
    },
    {
      "cell_type": "markdown",
      "source": [
        "#Q21. What is the logging module in Python used for?\n",
        "###The logging module in Python provides a flexible framework for logging messages from your application. It allows developers to record events, errors, or other useful information, which can be helpful for debugging, monitoring, and auditing applications. Logging is an essential aspect of software development, especially for maintaining and debugging complex applications.\n",
        "\n",
        "##Key Uses of the Logging Module\n",
        "- Tracking Application Behavior: Logs help track the execution flow of the program, making it easier to understand how the program behaves during different stages.\n",
        "- Debugging: Logging helps identify issues by recording error messages, exceptions, or unusual behavior that can provide insights into the root cause of the problem.\n",
        "- Error Reporting: The logging module can be used to capture and record exceptions or error messages that are vital for identifying problems and fixing them in production environments.\n",
        "- Monitoring and Auditing: Logs can track system activities, user actions, and other significant events. This is especially important for security and performance monitoring.\n",
        "- Traceability: Logs provide a traceable history of program execution that can help reproduce bugs and understand their causes by reviewing the log history.\n"
      ],
      "metadata": {
        "id": "KGdW3z8tUput"
      }
    },
    {
      "cell_type": "code",
      "source": [
        "#Example\n",
        "import logging\n",
        "logging.basicConfig(level=logging.DEBUG, format='%(asctime)s - %(levelname)s - %(message)s')\n",
        "\n",
        "logging.debug('This is a debug message')\n",
        "logging.info('This is an info message')\n",
        "logging.warning('This is a warning message')\n",
        "logging.error('This is an error message')\n",
        "logging.critical('This is a critical message')\n",
        "\n"
      ],
      "metadata": {
        "id": "8dHhwmJHVbPA"
      },
      "execution_count": null,
      "outputs": []
    },
    {
      "cell_type": "markdown",
      "source": [
        "#Q22. What is the os module in Python used for in file handling?\n",
        "##The os module in Python provides a way to interact with the operating system, and it offers a variety of functions that are useful for file handling tasks such as creating, deleting, moving, or checking files and directories. It allows Python programs to interface with the underlying operating system in a platform-independent manner.\n"
      ],
      "metadata": {
        "id": "UyOmBCb3V4x1"
      }
    },
    {
      "cell_type": "code",
      "source": [
        "#Example: File Handling Using os Module\n",
        "import os\n",
        "\n",
        "# Check if file exists\n",
        "if os.path.exists(\"test_file.txt\"):\n",
        "    print(\"File exists\")\n",
        "else:\n",
        "    print(\"File does not exist\")\n",
        "\n",
        "# Create a new directory\n",
        "os.mkdir(\"new_directory\")\n",
        "\n",
        "# Write a file\n",
        "with open(\"test_file.txt\", \"w\") as file:\n",
        "    file.write(\"This is a test file.\")\n",
        "\n",
        "# Rename the file\n",
        "os.rename(\"test_file.txt\", \"renamed_file.txt\")\n",
        "\n",
        "# Check file path\n",
        "if os.path.isfile(\"renamed_file.txt\"):\n",
        "    print(\"File renamed successfully\")\n",
        "\n",
        "# Delete the file\n",
        "os.remove(\"renamed_file.txt\")\n",
        "\n",
        "# Remove the directory\n",
        "os.rmdir(\"new_directory\")\n"
      ],
      "metadata": {
        "id": "ZLYzAMDJWkLm"
      },
      "execution_count": null,
      "outputs": []
    },
    {
      "cell_type": "markdown",
      "source": [
        "#Q23. What are the challenges associated with memory management in Python?\n",
        "Python is a high-level, interpreted language with automatic memory management, but it still faces certain challenges.\n",
        "##1. Memory Consumption in Large Applications\n",
        "- Problem: Python’s dynamic typing and automatic memory management can lead to higher memory consumption, especially in large applications or programs that require handling large datasets.\n",
        "- Details: Objects in Python, such as lists and dictionaries, are stored in a more complex internal structure than in lower-level languages. This can lead to higher memory usage compared to other languages with more efficient memory management models.\n",
        "\n",
        "##2. Garbage Collection Overhead\n",
        "- Problem: While Python uses a garbage collector (GC) to manage memory, the collection process introduces overhead that can affect performance, particularly in long-running applications.\n",
        "- Details: Python uses reference counting for memory management, but circular references (where two or more objects reference each other) can lead to memory leaks. The garbage collector in Python can detect and clean up circular references, but its process can impact performance, especially in memory-intensive applications.\n",
        "\n",
        "##3. Circular References\n",
        "- Problem: Circular references occur when two or more objects reference each other in such a way that their reference count never reaches zero, preventing them from being deallocated.\n",
        "- Details: Python’s garbage collector handles circular references, but it may not be as fast as manual memory management in other languages, which can result in memory not being freed promptly.\n",
        "- Example: If object A references object B, and object B references object A, the reference count for both objects will never drop to zero.\n",
        "\n",
        "##4. Memory Fragmentation\n",
        "- Problem: Memory fragmentation occurs when there are many small, unused memory blocks scattered across memory, making it difficult to allocate large blocks of memory.\n",
        "- Details: Python’s memory allocator can sometimes cause fragmentation, especially when objects are created and deleted frequently. This results in inefficient use of memory and can cause performance degradation over time.\n",
        "\n",
        "##5. Lack of Fine-Grained Control\n",
        "- Problem: Python abstracts away memory management tasks, which means developers have limited control over how memory is allocated or deallocated.\n",
        "- Details: While this abstraction is convenient for general use cases, it can be a disadvantage when a developer needs to optimize memory usage, especially in performance-critical applications.\n"
      ],
      "metadata": {
        "id": "JesFcJ-BWog0"
      }
    },
    {
      "cell_type": "markdown",
      "source": [
        "#Q24.  How do you raise an exception manually in Python?\n",
        "##In Python, you can raise an exception manually using the raise keyword. This allows you to trigger exceptions in your code based on specific conditions, helping with error handling and debugging.\n",
        "###Why Use raise?\n",
        "- Error Handling: Raise exceptions to handle unexpected conditions, ensuring that the program terminates or executes error handling logic when necessary.\n",
        "- Custom Exceptions: It allows you to create custom exceptions specific to your application’s needs.\n",
        "- Control Flow: You can use raise to control program flow, ensuring that certain conditions trigger exceptions as needed."
      ],
      "metadata": {
        "id": "Y-KkLfgdlhSd"
      }
    },
    {
      "cell_type": "code",
      "source": [
        "#Example:\n",
        "def divide(a, b):\n",
        "    if b == 0:\n",
        "        raise ValueError(\"Cannot divide by zero!\")\n",
        "    return a / b\n",
        "\n",
        "try:\n",
        "    result = divide(10, 0)\n",
        "except ValueError as e:\n",
        "    print(f\"Error: {e}\")\n"
      ],
      "metadata": {
        "id": "m8wU32gFnJST"
      },
      "execution_count": null,
      "outputs": []
    },
    {
      "cell_type": "markdown",
      "source": [
        "#Q25. Why is it important to use multithreading in certain applications?\n",
        "##Improved Performance and Responsiveness\n",
        "- Parallel Execution: Multithreading allows multiple threads to run concurrently, which can lead to faster execution of tasks that can be parallelized. This is particularly beneficial in applications where tasks are independent and can run simultaneously (e.g., processing large datasets or handling multiple user requests).\n",
        "- Responsive UI: In graphical user interface (GUI) applications, multithreading ensures that the user interface remains responsive while background tasks (such as file downloads or heavy computations) are running. This prevents the application from freezing or becoming unresponsive.\n",
        "\n",
        "##Efficient Resource Utilization\n",
        "- Better CPU Utilization: Multithreading can better utilize multi-core processors by distributing tasks across multiple cores. This is essential for applications that need to perform many tasks concurrently and efficiently leverage the available processing power.\n",
        "- Non-blocking Operations: For tasks that involve I/O operations (e.g., reading from a file, making network requests), multithreading allows one thread to perform the I/O operation while others continue working, reducing idle CPU time.\n",
        "\n",
        "##Asynchronous Processing\n",
        "- Handling I/O-bound Tasks: Applications that perform I/O-bound operations (such as web servers, databases, or network communication) benefit from multithreading. While one thread waits for I/O operations to complete, other threads can continue executing other tasks, improving overall application efficiency and throughput.\n",
        "- Concurrency: Multithreading enables concurrency, where multiple tasks can make progress independently, even though they may not be executed simultaneously. This is useful for scenarios like managing multiple user sessions in a web application.\n",
        "\n",
        "##Scalability\n",
        "- Handling Multiple Tasks Simultaneously: Multithreading is crucial for applications that need to scale efficiently, such as web servers or cloud-based applications. By processing many concurrent requests or tasks simultaneously, the application can handle a large volume of work and scale effectively across multiple threads or cores.\n",
        "- Task Distribution: For large-scale systems, multithreading can help distribute tasks more effectively, allowing the system to handle more complex workloads and scale across multiple machines or systems.\n",
        "\n",
        "##Time-sensitive Applications\n",
        "- Real-Time Systems: In real-time applications, such as gaming, simulations, or video processing, multithreading helps meet strict timing requirements. Threads can be prioritized and managed in such a way that critical tasks are executed within the necessary time frame, improving system reliability and performance."
      ],
      "metadata": {
        "id": "Mz0-WkGfnSDh"
      }
    },
    {
      "cell_type": "markdown",
      "source": [
        "# **Practical Questions**\n",
        "\n",
        "---\n",
        "\n"
      ],
      "metadata": {
        "id": "eTssN29MnwR3"
      }
    },
    {
      "cell_type": "markdown",
      "source": [
        "#Q1.  How can you open a file for writing in Python and write a string to it?\n"
      ],
      "metadata": {
        "id": "TxVf-vien9Vk"
      }
    },
    {
      "cell_type": "code",
      "source": [
        "file_path = \"example.txt\"\n",
        "with open(file_path, \"w\") as file:\n",
        "    file.write(\"Hello, this is a string written to the file.\")\n",
        "\n",
        "print(f\"Data has been written to {file_path}.\")\n"
      ],
      "metadata": {
        "id": "c0360NY4oXon"
      },
      "execution_count": null,
      "outputs": []
    },
    {
      "cell_type": "markdown",
      "source": [
        "#Q2. Write a Python program to read the contents of a file and print each line?\n"
      ],
      "metadata": {
        "id": "PuxJwrcQoys5"
      }
    },
    {
      "cell_type": "code",
      "source": [
        " file_path = \"example.txt\"\n",
        "with open(file_path, \"r\") as file:\n",
        "    for line in file:\n",
        "        print(line, end=\"\")\n"
      ],
      "metadata": {
        "id": "3vSFYZVpo8S7"
      },
      "execution_count": null,
      "outputs": []
    },
    {
      "cell_type": "markdown",
      "source": [
        "#Q3.  How would you handle a case where the file doesn't exist while trying to open it for reading?\n"
      ],
      "metadata": {
        "id": "FYe0SXUApK52"
      }
    },
    {
      "cell_type": "code",
      "source": [
        "file_path = \"non_existent_file.txt\"\n",
        "\n",
        "try:\n",
        "    with open(file_path, \"r\") as file:\n",
        "        for line in file:\n",
        "            print(line, end=\"\")\n",
        "except FileNotFoundError:\n",
        "    print(f\"Error: The file '{file_path}' does not exist.\")\n"
      ],
      "metadata": {
        "id": "-M192o-ypQN7"
      },
      "execution_count": null,
      "outputs": []
    },
    {
      "cell_type": "markdown",
      "source": [
        "#Q4. Write a Python script that reads from one file and writes its content to another file?"
      ],
      "metadata": {
        "id": "P2tDIAZopU6f"
      }
    },
    {
      "cell_type": "code",
      "source": [
        "source_file = \"source.txt\"\n",
        "destination_file = \"destination.txt\"\n",
        "\n",
        "try:\n",
        "    with open(source_file, \"r\") as src_file:\n",
        "        content = src_file.read()\n",
        "\n",
        "    with open(destination_file, \"w\") as dest_file:\n",
        "        dest_file.write(content)\n",
        "\n",
        "    print(f\"Content from '{source_file}' has been copied to '{destination_file}'.\")\n",
        "\n",
        "except FileNotFoundError:\n",
        "    print(f\"Error: The file '{source_file}' does not exist.\")\n"
      ],
      "metadata": {
        "id": "eoSBqyfrpac4"
      },
      "execution_count": null,
      "outputs": []
    },
    {
      "cell_type": "markdown",
      "source": [
        "#Q5. How would you catch and handle division by zero error in Python?\n"
      ],
      "metadata": {
        "id": "OpJySwUJpgk1"
      }
    },
    {
      "cell_type": "code",
      "source": [
        "try:\n",
        "    numerator = int(input(\"Enter the numerator: \"))\n",
        "    denominator = int(input(\"Enter the denominator: \"))\n",
        "    result = numerator / denominator\n",
        "    print(f\"The result is: {result}\")\n",
        "except ZeroDivisionError:\n",
        "    print(\"Error: Division by zero is not allowed.\")\n"
      ],
      "metadata": {
        "id": "E99v7uBjpnkY"
      },
      "execution_count": null,
      "outputs": []
    },
    {
      "cell_type": "markdown",
      "source": [
        "#Q6. Write a Python program that logs an error message to a log file when a division by zero exception occurs?\n"
      ],
      "metadata": {
        "id": "zplrFZsHrfWP"
      }
    },
    {
      "cell_type": "code",
      "source": [
        "import logging\n",
        "\n",
        "logging.basicConfig(filename=\"error_log.txt\", level=logging.ERROR,\n",
        "                    format=\"%(asctime)s - %(levelname)s - %(message)s\")\n",
        "\n",
        "try:\n",
        "    numerator = int(input(\"Enter the numerator: \"))\n",
        "    denominator = int(input(\"Enter the denominator: \"))\n",
        "    result = numerator / denominator\n",
        "    print(f\"The result is: {result}\")\n",
        "except ZeroDivisionError:\n",
        "    error_message = \"Division by zero attempted.\"\n",
        "    logging.error(error_message)\n",
        "    print(\"Error: Division by zero is not allowed. Check the log file for details.\")\n"
      ],
      "metadata": {
        "colab": {
          "base_uri": "https://localhost:8080/"
        },
        "id": "UDpwSp1hrpq1",
        "outputId": "edc1c91e-9d5c-48e1-d077-03289f30be85"
      },
      "execution_count": null,
      "outputs": [
        {
          "name": "stdout",
          "output_type": "stream",
          "text": [
            "Enter the numerator: 0\n",
            "Enter the denominator: 0\n"
          ]
        },
        {
          "output_type": "stream",
          "name": "stderr",
          "text": [
            "ERROR:root:Division by zero attempted.\n"
          ]
        },
        {
          "output_type": "stream",
          "name": "stdout",
          "text": [
            "Error: Division by zero is not allowed. Check the log file for details.\n"
          ]
        }
      ]
    },
    {
      "cell_type": "markdown",
      "source": [
        "#Q7.  How do you log information at different levels (INFO, ERROR, WARNING) in Python using the logging module?\n"
      ],
      "metadata": {
        "id": "xJ-YNg6XsEwE"
      }
    },
    {
      "cell_type": "code",
      "source": [
        "import logging\n",
        "\n",
        "logging.basicConfig(filename=\"app.log\", level=logging.DEBUG,\n",
        "                    format=\"%(asctime)s - %(levelname)s - %(message)s\")\n",
        "\n",
        "# Logging at different levels\n",
        "logging.debug(\"This is a DEBUG message.\")\n",
        "logging.info(\"This is an INFO message.\")\n",
        "logging.warning(\"This is a WARNING message.\")\n",
        "logging.error(\"This is an ERROR message.\")\n",
        "logging.critical(\"This is a CRITICAL message.\")\n",
        "\n",
        "print(\"Messages have been logged to 'app.log'.\")\n"
      ],
      "metadata": {
        "id": "AvNjyvMosPhy"
      },
      "execution_count": null,
      "outputs": []
    },
    {
      "cell_type": "markdown",
      "source": [
        "#Q8. Write a program to handle a file opening error using exception handling?"
      ],
      "metadata": {
        "id": "fJJLzH6ytCu2"
      }
    },
    {
      "cell_type": "code",
      "source": [
        "file_path = \"non_existent_file.txt\"\n",
        "\n",
        "try:\n",
        "    with open(file_path, \"r\") as file:\n",
        "        content = file.read()\n",
        "        print(content)\n",
        "except FileNotFoundError:\n",
        "    print(f\"Error: The file '{file_path}' does not exist.\")\n",
        "except PermissionError:\n",
        "    print(f\"Error: You do not have the required permissions to open '{file_path}'.\")\n",
        "except Exception as e:\n",
        "    print(f\"An unexpected error occurred: {e}\")\n"
      ],
      "metadata": {
        "id": "BjA_Xr7vtMHq"
      },
      "execution_count": null,
      "outputs": []
    },
    {
      "cell_type": "markdown",
      "source": [
        "#Q9. How can you read a file line by line and store its content in a list in Python?\n"
      ],
      "metadata": {
        "id": "_zOZtZxbtTzC"
      }
    },
    {
      "cell_type": "code",
      "source": [
        "file_path = \"example.txt\"\n",
        "\n",
        "try:\n",
        "    with open(file_path, \"r\") as file:\n",
        "        lines = file.readlines()\n",
        "        print(\"File content stored in the list:\")\n",
        "        print(lines)\n",
        "except FileNotFoundError:\n",
        "    print(f\"Error: The file '{file_path}' does not exist.\")\n"
      ],
      "metadata": {
        "id": "Srn2OOirtcP5"
      },
      "execution_count": null,
      "outputs": []
    },
    {
      "cell_type": "markdown",
      "source": [
        "#Q10. How can you append data to an existing file in Python?\n"
      ],
      "metadata": {
        "id": "bMeKhQ0jtnYd"
      }
    },
    {
      "cell_type": "code",
      "source": [
        "file_path = \"example.txt\"\n",
        "data_to_append = \"\\nThis is the new line being appended.\"\n",
        "\n",
        "try:\n",
        "    with open(file_path, \"a\") as file:\n",
        "        file.write(data_to_append)\n",
        "    print(f\"Data successfully appended to '{file_path}'.\")\n",
        "except FileNotFoundError:\n",
        "    print(f\"Error: The file '{file_path}' does not exist.\")\n",
        "except Exception as e:\n",
        "    print(f\"An unexpected error occurred: {e}\")\n"
      ],
      "metadata": {
        "id": "cd4cbnkstvBN"
      },
      "execution_count": null,
      "outputs": []
    },
    {
      "cell_type": "markdown",
      "source": [
        "#Q11. Write a Python program that uses a try-except block to handle an error when attempting to access a dictionary key that doesn't exist?"
      ],
      "metadata": {
        "id": "D1VwhdnHt1Vl"
      }
    },
    {
      "cell_type": "code",
      "source": [
        "my_dict = {\n",
        "    \"name\": \"Alice\",\n",
        "    \"age\": 30,\n",
        "    \"city\": \"New York\"\n",
        "}\n",
        "\n",
        "key_to_access = \"country\"\n",
        "\n",
        "try:\n",
        "    value = my_dict[key_to_access]\n",
        "    print(f\"The value for the key '{key_to_access}' is: {value}\")\n",
        "except KeyError:\n",
        "    print(f\"Error: The key '{key_to_access}' does not exist in the dictionary.\")\n"
      ],
      "metadata": {
        "colab": {
          "base_uri": "https://localhost:8080/"
        },
        "id": "rw6C6NQrt-Pp",
        "outputId": "dcb52b11-c54f-439e-c07b-8b90640c52ed"
      },
      "execution_count": null,
      "outputs": [
        {
          "output_type": "stream",
          "name": "stdout",
          "text": [
            "Error: The key 'country' does not exist in the dictionary.\n"
          ]
        }
      ]
    },
    {
      "cell_type": "markdown",
      "source": [
        "#Q12.  Write a program that demonstrates using multiple except blocks to handle different types of exceptions?"
      ],
      "metadata": {
        "id": "1FzuS60FuKZj"
      }
    },
    {
      "cell_type": "code",
      "source": [
        "try:\n",
        "    num1 = int(input(\"Enter the first number: \"))\n",
        "    num2 = int(input(\"Enter the second number: \"))\n",
        "    result = num1 / num2\n",
        "    print(f\"The result of division is: {result}\")\n",
        "\n",
        "except ValueError:\n",
        "    print(\"Error: Please enter valid integers.\")\n",
        "\n",
        "except ZeroDivisionError:\n",
        "    print(\"Error: Cannot divide by zero.\")\n",
        "\n",
        "except Exception as e:\n",
        "    print(f\"An unexpected error occurred: {e}\")\n"
      ],
      "metadata": {
        "id": "ArQCkBsPuYk1"
      },
      "execution_count": null,
      "outputs": []
    },
    {
      "cell_type": "markdown",
      "source": [
        "#Q13. How would you check if a file exists before attempting to read it in Python?\n"
      ],
      "metadata": {
        "id": "GcTIHdiLuplI"
      }
    },
    {
      "cell_type": "code",
      "source": [
        "import os\n",
        "\n",
        "file_path = \"example.txt\"\n",
        "\n",
        "if os.path.exists(file_path):\n",
        "    try:\n",
        "        with open(file_path, \"r\") as file:\n",
        "            content = file.read()\n",
        "            print(content)\n",
        "    except Exception as e:\n",
        "        print(f\"Error reading the file: {e}\")\n",
        "else:\n",
        "    print(f\"The file '{file_path}' does not exist.\")\n"
      ],
      "metadata": {
        "id": "g-uFNRXouxr1"
      },
      "execution_count": null,
      "outputs": []
    },
    {
      "cell_type": "markdown",
      "source": [
        "#Q14. Write a program that uses the logging module to log both informational and error messages?\n"
      ],
      "metadata": {
        "id": "B97IVJwKu7nk"
      }
    },
    {
      "cell_type": "code",
      "source": [
        "import logging\n",
        "\n",
        "logging.basicConfig(level=logging.DEBUG, format='%(asctime)s - %(levelname)s - %(message)s')\n",
        "\n",
        "logging.info(\"This is an informational message.\")\n",
        "\n",
        "try:\n",
        "    result = 10 / 0\n",
        "except ZeroDivisionError as e:\n",
        "    logging.error(f\"Error occurred: {e}\")\n"
      ],
      "metadata": {
        "colab": {
          "base_uri": "https://localhost:8080/"
        },
        "id": "nUKPeBQHvCkR",
        "outputId": "c5bb4589-dca5-474b-ea4d-543cc09e9726"
      },
      "execution_count": null,
      "outputs": [
        {
          "output_type": "stream",
          "name": "stderr",
          "text": [
            "ERROR:root:Error occurred: division by zero\n"
          ]
        }
      ]
    },
    {
      "cell_type": "markdown",
      "source": [
        "#Q15. Write a Python program that prints the content of a file and handles the case when the file is empty?"
      ],
      "metadata": {
        "id": "adDR2FllvThu"
      }
    },
    {
      "cell_type": "code",
      "source": [
        "file_path = \"example.txt\"\n",
        "\n",
        "try:\n",
        "    with open(file_path, \"r\") as file:\n",
        "        content = file.read()\n",
        "        if not content:\n",
        "            print(\"The file is empty.\")\n",
        "        else:\n",
        "            print(content)\n",
        "except FileNotFoundError:\n",
        "    print(f\"The file '{file_path}' does not exist.\")\n",
        "except Exception as e:\n",
        "    print(f\"An error occurred: {e}\")\n"
      ],
      "metadata": {
        "id": "-ZDLV2vXvcm_"
      },
      "execution_count": null,
      "outputs": []
    },
    {
      "cell_type": "markdown",
      "source": [
        "#Q16. Demonstrate how to use memory profiling to check the memory usage of a small program?"
      ],
      "metadata": {
        "id": "EfHEH6Rqvkso"
      }
    },
    {
      "cell_type": "code",
      "source": [
        "from memory_profiler import profile\n",
        "\n",
        "@profile\n",
        "def my_function():\n",
        "    a = [i for i in range(10000)]\n",
        "    b = [i * 2 for i in a]\n",
        "    return b\n",
        "\n",
        "if __name__ == '__main__':\n",
        "    my_function()\n"
      ],
      "metadata": {
        "id": "f_tobjuhvryQ"
      },
      "execution_count": null,
      "outputs": []
    },
    {
      "cell_type": "markdown",
      "source": [
        "#Q17. Write a Python program to create and write a list of numbers to a file, one number per line?"
      ],
      "metadata": {
        "id": "7QOpiQzgv6qY"
      }
    },
    {
      "cell_type": "code",
      "source": [
        "numbers = [1, 2, 3, 4, 5, 6, 7, 8, 9, 10]\n",
        "file_path = \"numbers.txt\"\n",
        "\n",
        "with open(file_path, \"w\") as file:\n",
        "    for number in numbers:\n",
        "        file.write(f\"{number}\\n\")"
      ],
      "metadata": {
        "id": "AL4MuaHawGpH"
      },
      "execution_count": null,
      "outputs": []
    },
    {
      "cell_type": "markdown",
      "source": [
        "#Q18. How would you implement a basic logging setup that logs to a file with rotation after 1MB?\n"
      ],
      "metadata": {
        "id": "Iipb7o3wwPdR"
      }
    },
    {
      "cell_type": "code",
      "source": [
        "import logging\n",
        "from logging.handlers import RotatingFileHandler\n",
        "\n",
        "log_file = \"app.log\"\n",
        "max_log_size = 1 * 1024 * 1024\n",
        "backup_count = 3\n",
        "\n",
        "handler = RotatingFileHandler(log_file, maxBytes=max_log_size, backupCount=backup_count)\n",
        "handler.setLevel(logging.INFO)\n",
        "\n",
        "formatter = logging.Formatter('%(asctime)s - %(levelname)s - %(message)s')\n",
        "handler.setFormatter(formatter)\n",
        "\n",
        "logging.getLogger().addHandler(handler)\n",
        "\n",
        "logging.info(\"This is an info message.\")\n",
        "logging.error(\"This is an error message.\")\n"
      ],
      "metadata": {
        "id": "E-_-trXkwXl6"
      },
      "execution_count": null,
      "outputs": []
    },
    {
      "cell_type": "markdown",
      "source": [
        "#Q19. Write a program that handles both IndexError and KeyError using a try-except block?"
      ],
      "metadata": {
        "id": "q2XsfXqrwgZb"
      }
    },
    {
      "cell_type": "code",
      "source": [
        "my_list = [1, 2, 3]\n",
        "my_dict = {\"a\": 1, \"b\": 2}\n",
        "\n",
        "try:\n",
        "    print(my_list[5])\n",
        "    print(my_dict[\"c\"])\n",
        "except IndexError:\n",
        "    print(\"IndexError: The list index is out of range.\")\n",
        "except KeyError:\n",
        "    print(\"KeyError: The key is not found in the dictionary.\")\n"
      ],
      "metadata": {
        "id": "KAj3Rpz0wn7I"
      },
      "execution_count": null,
      "outputs": []
    },
    {
      "cell_type": "markdown",
      "source": [
        "#Q20. How would you open a file and read its contents using a context manager in Python?"
      ],
      "metadata": {
        "id": "1t7vnV04w3ca"
      }
    },
    {
      "cell_type": "code",
      "source": [
        "file_path = \"example.txt\"\n",
        "\n",
        "with open(file_path, \"r\") as file:\n",
        "    content = file.read()\n",
        "    print(content)\n"
      ],
      "metadata": {
        "id": "MmGMjUWmxEu4"
      },
      "execution_count": null,
      "outputs": []
    },
    {
      "cell_type": "markdown",
      "source": [
        "#Q21. Write a Python program that reads a file and prints the number of occurrences of a specific word?"
      ],
      "metadata": {
        "id": "hc8CzHyxxF31"
      }
    },
    {
      "cell_type": "code",
      "source": [
        "file_path = \"example.txt\"\n",
        "word_to_count = \"python\"\n",
        "\n",
        "with open(file_path, \"r\") as file:\n",
        "    content = file.read()\n",
        "    word_count = content.lower().split().count(word_to_count.lower())\n",
        "\n",
        "print(f\"The word '{word_to_count}' appears {word_count} times in the file.\")\n"
      ],
      "metadata": {
        "id": "0Rt2CJysxM1b"
      },
      "execution_count": null,
      "outputs": []
    },
    {
      "cell_type": "markdown",
      "source": [
        "#Q22. How can you check if a file is empty before attempting to read its contents?\n"
      ],
      "metadata": {
        "id": "dT1tImJ_xTGG"
      }
    },
    {
      "cell_type": "code",
      "source": [
        "file_path = \"example.txt\"\n",
        "\n",
        "try:\n",
        "    with open(file_path, \"r\") as file:\n",
        "        if file.read(1):\n",
        "            file.seek(0)\n",
        "            content = file.read()\n",
        "            print(content)\n",
        "        else:\n",
        "            print(\"The file is empty.\")\n",
        "except FileNotFoundError:\n",
        "    print(\"The file does not exist.\")\n"
      ],
      "metadata": {
        "colab": {
          "base_uri": "https://localhost:8080/"
        },
        "id": "OAQyobroxgS6",
        "outputId": "cdf1104b-7144-4251-b185-398d356a4f00"
      },
      "execution_count": null,
      "outputs": [
        {
          "output_type": "stream",
          "name": "stdout",
          "text": [
            "The file does not exist.\n"
          ]
        }
      ]
    },
    {
      "cell_type": "markdown",
      "source": [
        "#Q23. Write a Python program that writes to a log file when an error occurs during file handling?"
      ],
      "metadata": {
        "id": "XuXyjBzhxnni"
      }
    },
    {
      "cell_type": "code",
      "source": [
        "import logging\n",
        "\n",
        "logging.basicConfig(filename='error_log.txt', level=logging.ERROR, format='%(asctime)s - %(levelname)s - %(message)s')\n",
        "\n",
        "file_path = \"example.txt\"\n",
        "\n",
        "try:\n",
        "    with open(file_path, \"r\") as file:\n",
        "        content = file.read()\n",
        "        print(content)\n",
        "except Exception as e:\n",
        "    logging.error(f\"Error occurred while handling the file: {e}\")\n"
      ],
      "metadata": {
        "id": "qQJl8Knoxtzy",
        "outputId": "c47c59f8-00ca-4230-9638-d804785fe3d9",
        "colab": {
          "base_uri": "https://localhost:8080/"
        }
      },
      "execution_count": null,
      "outputs": [
        {
          "output_type": "stream",
          "name": "stderr",
          "text": [
            "ERROR:root:Error occurred while handling the file: [Errno 2] No such file or directory: 'example.txt'\n"
          ]
        }
      ]
    }
  ]
}