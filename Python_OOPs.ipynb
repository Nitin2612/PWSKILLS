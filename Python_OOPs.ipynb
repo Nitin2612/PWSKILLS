{
  "nbformat": 4,
  "nbformat_minor": 0,
  "metadata": {
    "colab": {
      "provenance": []
    },
    "kernelspec": {
      "name": "python3",
      "display_name": "Python 3"
    },
    "language_info": {
      "name": "python"
    }
  },
  "cells": [
    {
      "cell_type": "markdown",
      "source": [
        "# **Python OOPs Questions**"
      ],
      "metadata": {
        "id": "0myP6OUKo9KA"
      }
    },
    {
      "cell_type": "markdown",
      "source": [
        "#Q1. What is Object-Oriented Programming (OOP)?\n",
        "###__Object-Oriented Programming (OOP)__ is a programming paradigm based on the concept of \"objects,\" which can encapsulate data and the methods (functions) that operate on that data. OOP focuses on designing software by modeling real-world entities as objects, enabling modularity, reusability, and easier maintenance of code.\n",
        "\n",
        "##Key Principles of OOP:\n",
        "####Class:\n",
        "- A blueprint or template for creating objects.\n",
        "- Defines the properties (attributes) and behaviors (methods) that the objects will have.\n",
        "\n",
        "####Object:\n",
        "\n",
        "- An instance of a class.\n",
        "- Represents a specific entity with its own data and methods.\n",
        "\n",
        "####Encapsulation:\n",
        "\n",
        "- Bundling data and methods within a class and restricting access to some components.\n",
        "- Ensures controlled interaction through public methods.\n",
        "\n",
        "####Inheritance:\n",
        "- Mechanism to derive a new class (child) from an existing class (parent).\n",
        "- Promotes code reusability and establishes a relationship between parent and child classes.\n",
        "\n",
        "####Polymorphism:\n",
        "- The ability of objects to take on multiple forms.\n",
        "- Enables methods to perform differently based on the object or context.\n",
        "\n",
        "####Abstraction:\n",
        "- Hiding implementation details and exposing only the necessary features.\n",
        "- Simplifies the user’s interaction with the object."
      ],
      "metadata": {
        "id": "-xcCiCI0ZsAO"
      }
    },
    {
      "cell_type": "code",
      "source": [
        "#Example:\n",
        "class Car:\n",
        "    def __init__(self, brand, model):\n",
        "        self.brand = brand\n",
        "        self.model = model\n",
        "\n",
        "    def start_engine(self):\n",
        "        return f\"The {self.brand} {self.model}'s engine has started.\"\n",
        "\n",
        "# Creating objects\n",
        "car1 = Car(\"Toyota\", \"Corolla\")\n",
        "car2 = Car(\"Tesla\", \"Model 3\")\n",
        "\n",
        "print(car1.start_engine())\n",
        "print(car2.start_engine())"
      ],
      "metadata": {
        "colab": {
          "base_uri": "https://localhost:8080/"
        },
        "id": "YdxPBJBAboXd",
        "outputId": "31b8a470-c377-41b5-f10e-f86768055a97"
      },
      "execution_count": 1,
      "outputs": [
        {
          "output_type": "stream",
          "name": "stdout",
          "text": [
            "The Toyota Corolla's engine has started.\n",
            "The Tesla Model 3's engine has started.\n"
          ]
        }
      ]
    },
    {
      "cell_type": "markdown",
      "source": [
        "#Q2. What is a class in OOP?\n",
        "##In Object-Oriented Programming (OOP), a __class__ is a blueprint or template used to create objects. It defines the structure and behavior that objects of the class will have. The class specifies what data (attributes) and functionality (methods) the objects created from it will contain.\n",
        "\n",
        "###Key Components of a Class:\n",
        "\n",
        "####Attributes:\n",
        "- Variables that hold the data or state of the objects.\n",
        "- Defined inside the class, typically initialized within a special method like __init__ in Python.\n",
        "\n",
        "####Methods:\n",
        "- Functions that define the behavior of the objects.\n",
        "- Operate on the attributes and provide functionality for the objects.\n",
        "\n",
        "####Constructors:\n",
        "- A special method used to initialize objects when they are created.\n",
        "- In Python, the constructor is typically the __init__ method.\n",
        "\n",
        "####Access Specifiers (in some languages):\n",
        "\n",
        "- Control how the attributes and methods can be accessed.\n",
        "- Examples include public, private, and protected."
      ],
      "metadata": {
        "id": "s3mY4yiXb60A"
      }
    },
    {
      "cell_type": "markdown",
      "source": [
        "#Q3. What is an object in OOP?\n",
        "##In Object-Oriented Programming (OOP), an __object__ is an instance of a class. It is a real-world entity or a logical entity that represents the data (attributes) and behaviors (methods) defined by its class.\n",
        "###Key Points:\n",
        "- Creation: Objects are created using a class.\n",
        "- Independence: Each object has its own state and can operate independently.\n",
        "- Relationship to Class: A class defines the blueprint, while an object is the actual entity created using that blueprint."
      ],
      "metadata": {
        "id": "hXiZgDouehOx"
      }
    },
    {
      "cell_type": "code",
      "source": [
        "#Example:\n",
        "class Dog:\n",
        "    def __init__(self, name, breed):\n",
        "        self.name = name  # Attribute\n",
        "        self.breed = breed\n",
        "\n",
        "    def bark(self):\n",
        "        return f\"{self.name} says Woof!\"\n",
        "\n",
        "# Creating objects (instances of the Dog class)\n",
        "dog1 = Dog(\"Buddy\", \"Golden Retriever\")\n",
        "dog2 = Dog(\"Max\", \"Beagle\")\n",
        "\n",
        "# Accessing attributes and methods of the objects\n",
        "print(dog1.name)\n",
        "print(dog2.bark())"
      ],
      "metadata": {
        "colab": {
          "base_uri": "https://localhost:8080/"
        },
        "id": "QDiIi2X0fMgE",
        "outputId": "dc273992-cc10-45c1-caba-31dc6002d1bd"
      },
      "execution_count": 2,
      "outputs": [
        {
          "output_type": "stream",
          "name": "stdout",
          "text": [
            "Buddy\n",
            "Max says Woof!\n"
          ]
        }
      ]
    },
    {
      "cell_type": "markdown",
      "source": [
        "#Q4. What is the difference between abstraction and encapsulation?\n",
        "##Abstraction:\n",
        "__Abstraction__ is the process of hiding the complexity and details of a system and exposing only the essential features to the user. The goal of abstraction is to reduce complexity and allow the user to focus on high-level concepts instead of low-level details.\n",
        "\n",
        "- What it hides: Implementation details and complexities.\n",
        "- What it shows: Only the necessary and relevant information (the \"what\" something does).\n",
        "\n"
      ],
      "metadata": {
        "id": "PkYSw8cNfafm"
      }
    },
    {
      "cell_type": "code",
      "source": [
        "#Example Abstraction\n",
        "from abc import ABC, abstractmethod\n",
        "\n",
        "class Animal(ABC):\n",
        "    @abstractmethod\n",
        "    def sound(self):\n",
        "        pass\n",
        "\n",
        "class Dog(Animal):\n",
        "    def sound(self):\n",
        "        return \"Bark\"\n",
        "\n",
        "class Cat(Animal):\n",
        "    def sound(self):\n",
        "        return \"Meow\"\n",
        "\n",
        "# The user only interacts with the 'sound' method, not the implementation details.\n",
        "dog = Dog()\n",
        "print(dog.sound())"
      ],
      "metadata": {
        "colab": {
          "base_uri": "https://localhost:8080/"
        },
        "id": "vTk-F7tjoCpX",
        "outputId": "acc9fc1c-5d72-4c12-d72e-9c6b54299698"
      },
      "execution_count": 3,
      "outputs": [
        {
          "output_type": "stream",
          "name": "stdout",
          "text": [
            "Bark\n"
          ]
        }
      ]
    },
    {
      "cell_type": "markdown",
      "source": [
        "#Encapsulation:\n",
        "##**Encapsulation** is the process of bundling the data (attributes) and the methods (functions) that operate on the data into a single unit or class. It also involves restricting direct access to some of an object's components, which is done by controlling access via public and private access modifiers.\n",
        "\n",
        "- What it hides: The internal state of an object (data) from outside access.\n",
        "- What it shows: A controlled interface for interacting with the data (through getter and setter methods)."
      ],
      "metadata": {
        "id": "lL5ZXtwOqWmX"
      }
    },
    {
      "cell_type": "code",
      "source": [
        "#Example Encapsulation:\n",
        "class BankAccount:\n",
        "    def __init__(self, balance):\n",
        "        self.__balance = balance  # private variable\n",
        "\n",
        "    def deposit(self, amount):\n",
        "        if amount > 0:\n",
        "            self.__balance += amount\n",
        "\n",
        "    def withdraw(self, amount):\n",
        "        if 0 < amount <= self.__balance:\n",
        "            self.__balance -= amount\n",
        "\n",
        "    def get_balance(self):\n",
        "        return self.__balance\n",
        "\n",
        "account = BankAccount(1000)\n",
        "account.deposit(500)\n",
        "account.withdraw(200)\n",
        "print(account.get_balance())"
      ],
      "metadata": {
        "colab": {
          "base_uri": "https://localhost:8080/"
        },
        "id": "F7xB0T7Nqrz5",
        "outputId": "66895d77-04f2-4cf3-f5e5-5bb6c457a1f9"
      },
      "execution_count": 4,
      "outputs": [
        {
          "output_type": "stream",
          "name": "stdout",
          "text": [
            "1300\n"
          ]
        }
      ]
    },
    {
      "cell_type": "markdown",
      "source": [
        "#Q5. What are dunder methods in Python?\n",
        "##**Dunder methods** in Python (short for \"double underscore methods\") are special methods with names that start and end with double underscores (__). They are also known as magic methods or special methods. These methods allow you to define the behavior of Python objects and enable functionality like operator overloading, object representation, iteration, and more."
      ],
      "metadata": {
        "id": "LvjzykeOrXjG"
      }
    },
    {
      "cell_type": "code",
      "source": [
        "#Example\n",
        "#Initialization and Representation:\n",
        "class Person:\n",
        "    def __init__(self, name, age):\n",
        "        self.name = name\n",
        "        self.age = age\n",
        "\n",
        "    def __repr__(self):\n",
        "        return f\"Person(name='{self.name}', age={self.age})\"\n",
        "\n",
        "person = Person(\"Bob\", 25)\n",
        "print(repr(person))\n"
      ],
      "metadata": {
        "colab": {
          "base_uri": "https://localhost:8080/"
        },
        "id": "7AdsQtUUyAMS",
        "outputId": "8e67df6c-6a45-4b43-dad2-fa78eab72d60"
      },
      "execution_count": 14,
      "outputs": [
        {
          "output_type": "stream",
          "name": "stdout",
          "text": [
            "Person(name='Bob', age=25)\n"
          ]
        }
      ]
    },
    {
      "cell_type": "markdown",
      "source": [
        "#Q6. Explain the concept of inheritance in OOP?\n",
        "##**Inheritance** is one of the fundamental principles of OOP, allowing a class (child class or derived class) to inherit properties and behaviors (attributes and methods) from another class (parent class or base class). It promotes code reuse and hierarchical relationships among classes.\n",
        "###**Key Concepts**\n",
        "##Parent Class (Base Class):\n",
        "- The class whose properties and methods are inherited by another class.\n",
        "Represents a generic entity.\n",
        "\n",
        "##Child Class (Derived Class):\n",
        "\n",
        "- The class that inherits from the parent class.\n",
        "- Can extend or override the properties and methods of the parent class.\n",
        "\n",
        "##Access to Parent Class:\n",
        "- A child class can use the attributes and methods of the parent class directly unless they are private.\n",
        "#Types of Inheritance:\n",
        "- Single Inheritance: A child class inherits from one parent class.\n",
        "- Multiple Inheritance: A child class inherits from multiple parent classes.\n",
        "- Multilevel Inheritance: A child class inherits from a parent class, which in turn inherits from another class.\n",
        "- Hierarchical Inheritance: Multiple child classes inherit from a single parent class.\n",
        "- Hybrid Inheritance: A combination of multiple types of inheritance.\n"
      ],
      "metadata": {
        "id": "spLkpjVC67t6"
      }
    },
    {
      "cell_type": "code",
      "source": [
        "#Example: Multilevel Inheritance\n",
        "\n",
        "class Vehicle:  # Base class\n",
        "    def start(self):\n",
        "        return \"Starting vehicle\"\n",
        "\n",
        "class Car(Vehicle):  # Intermediate class\n",
        "    def drive(self):\n",
        "        return \"Driving car\"\n",
        "\n",
        "class SportsCar(Car):  # Derived class\n",
        "    def speed(self):\n",
        "        return \"Speeding sports car\"\n",
        "\n",
        "sports_car = SportsCar()\n",
        "print(sports_car.start())\n",
        "print(sports_car.drive())\n",
        "print(sports_car.speed())"
      ],
      "metadata": {
        "colab": {
          "base_uri": "https://localhost:8080/"
        },
        "id": "IDMYAWuf8Gz5",
        "outputId": "8ee74247-5c31-4309-e3a1-e84061ba4e17"
      },
      "execution_count": 16,
      "outputs": [
        {
          "output_type": "stream",
          "name": "stdout",
          "text": [
            "Starting vehicle\n",
            "Driving car\n",
            "Speeding sports car\n"
          ]
        }
      ]
    },
    {
      "cell_type": "markdown",
      "source": [
        "#Q7. What is polymorphism in OOP?\n",
        "##Polymorphism, derived from the Greek words \"poly\" (many) and \"morph\" (forms), is an OOP concept that allows objects to be treated as instances of their parent class while behaving differently based on their specific class. It enables a single interface to represent different underlying forms (data types or classes).\n",
        "##**Key Features of Polymorphism**\n",
        "\n",
        "###Method Overriding:\n",
        "- Allows a child class to provide a specific implementation of a method defined in its parent class.\n",
        "- Example: A parent class may define a generic speak() method, but child classes like Dog or Cat override it with their specific implementations (e.g., \"bark\" or \"meow\").\n",
        "\n",
        "###Method Overloading (Python uses Default Arguments instead):\n",
        "- The ability to define multiple methods with the same name but different parameters.\n",
        "- Python doesn't support traditional method overloading but achieves similar behavior using default arguments or variable arguments.\n",
        "\n",
        "###Operator Overloading:\n",
        "- Allows operators (like +, -, *) to perform different operations based on the operands. For instance, + can be used to add numbers or concatenate strings.\n",
        "\n",
        "###Duck Typing:\n",
        "- Python’s dynamic typing system allows objects of different types to be treated similarly if they implement the required methods or attributes (e.g., the ability to quack() and walk() is sufficient to treat an object as a \"duck\")."
      ],
      "metadata": {
        "id": "MEei3l738dCT"
      }
    },
    {
      "cell_type": "code",
      "source": [
        "#Example\n",
        "class Animal:\n",
        "    def speak(self):\n",
        "        return \"Some generic sound\"\n",
        "\n",
        "class Dog(Animal):\n",
        "    def speak(self):\n",
        "        return \"Bark\"\n",
        "\n",
        "class Cat(Animal):\n",
        "    def speak(self):\n",
        "        return \"Meow\"\n",
        "\n",
        "animals = [Dog(), Cat(), Animal()]\n",
        "\n",
        "for animal in animals:\n",
        "    print(animal.speak())"
      ],
      "metadata": {
        "colab": {
          "base_uri": "https://localhost:8080/"
        },
        "id": "LOoZtlR-LDGf",
        "outputId": "304a314f-96df-4816-889c-8997c54ab531"
      },
      "execution_count": 17,
      "outputs": [
        {
          "output_type": "stream",
          "name": "stdout",
          "text": [
            "Bark\n",
            "Meow\n",
            "Some generic sound\n"
          ]
        }
      ]
    },
    {
      "cell_type": "markdown",
      "source": [
        "#Q8. How is encapsulation achieved in Python?\n",
        "##**Encapsulation** in Python is the practice of bundling data (attributes) and methods (functions) that operate on the data into a single unit, typically a class. It restricts direct access to some of the object's components to protect the integrity of the data and ensure proper usage.\n",
        "###**Key Components of Encapsulation**\n",
        "##Public Members:\n",
        "- Accessible from anywhere in the program.\n",
        "- Defined without any leading underscores.\n",
        "- Example: self.name\n",
        "\n",
        "##Protected Members:\n",
        "- Accessible within the class and its subclasses.\n",
        "- Defined with a single leading underscore (_).\n",
        "- Example: _age\n",
        "\n",
        "##Private Members:\n",
        "- Accessible only within the class where they are defined.\n",
        "- Defined with a double leading underscore (__).\n",
        "- Example: __salary"
      ],
      "metadata": {
        "id": "aosbySbfLQo3"
      }
    },
    {
      "cell_type": "code",
      "source": [
        "#Example:\n",
        "class Employee:\n",
        "    def __init__(self, name, age, salary):\n",
        "        self.name = name          # Public\n",
        "        self._age = age           # Protected\n",
        "        self.__salary = salary    # Private\n",
        "\n",
        "    def display(self):\n",
        "        return f\"Name: {self.name}, Age: {self._age}, Salary: {self.__salary}\"\n",
        "\n",
        "emp = Employee(\"Alice\", 30, 50000)\n",
        "\n",
        "# Accessing public, protected, and private members\n",
        "print(emp.name)      # Output: Alice (public)\n",
        "print(emp._age)      # Output: 30 (protected, but accessible)\n",
        "print(emp.__salary)  # AttributeError: 'Employee' object has no attribute '__salary'"
      ],
      "metadata": {
        "colab": {
          "base_uri": "https://localhost:8080/",
          "height": 216
        },
        "id": "ksIhhhTaikYj",
        "outputId": "df7a6659-6596-4c60-b4e9-4f1a78067077"
      },
      "execution_count": 18,
      "outputs": [
        {
          "output_type": "stream",
          "name": "stdout",
          "text": [
            "Alice\n",
            "30\n"
          ]
        },
        {
          "output_type": "error",
          "ename": "AttributeError",
          "evalue": "'Employee' object has no attribute '__salary'",
          "traceback": [
            "\u001b[0;31m---------------------------------------------------------------------------\u001b[0m",
            "\u001b[0;31mAttributeError\u001b[0m                            Traceback (most recent call last)",
            "\u001b[0;32m<ipython-input-18-26b65ef5b5fd>\u001b[0m in \u001b[0;36m<cell line: 16>\u001b[0;34m()\u001b[0m\n\u001b[1;32m     14\u001b[0m \u001b[0mprint\u001b[0m\u001b[0;34m(\u001b[0m\u001b[0memp\u001b[0m\u001b[0;34m.\u001b[0m\u001b[0mname\u001b[0m\u001b[0;34m)\u001b[0m      \u001b[0;31m# Output: Alice (public)\u001b[0m\u001b[0;34m\u001b[0m\u001b[0;34m\u001b[0m\u001b[0m\n\u001b[1;32m     15\u001b[0m \u001b[0mprint\u001b[0m\u001b[0;34m(\u001b[0m\u001b[0memp\u001b[0m\u001b[0;34m.\u001b[0m\u001b[0m_age\u001b[0m\u001b[0;34m)\u001b[0m      \u001b[0;31m# Output: 30 (protected, but accessible)\u001b[0m\u001b[0;34m\u001b[0m\u001b[0;34m\u001b[0m\u001b[0m\n\u001b[0;32m---> 16\u001b[0;31m \u001b[0mprint\u001b[0m\u001b[0;34m(\u001b[0m\u001b[0memp\u001b[0m\u001b[0;34m.\u001b[0m\u001b[0m__salary\u001b[0m\u001b[0;34m)\u001b[0m  \u001b[0;31m# AttributeError: 'Employee' object has no attribute '__salary'\u001b[0m\u001b[0;34m\u001b[0m\u001b[0;34m\u001b[0m\u001b[0m\n\u001b[0m",
            "\u001b[0;31mAttributeError\u001b[0m: 'Employee' object has no attribute '__salary'"
          ]
        }
      ]
    },
    {
      "cell_type": "markdown",
      "source": [
        "#Q9.What is a constructor in Python?\n",
        "##A constructor in Python is a special method used to initialize an object when it is created. It is defined using the ___init_ __ method. The constructor is automatically invoked when a new instance of a class is created and is used to assign values to the object's attributes or perform any other necessary setup.\n",
        "###**Key Features of Constructors in Python**\n",
        "##Automatic Invocation:\n",
        "- Called automatically when an object is instantiated.\n",
        "\n",
        "##Special Method:\n",
        "- Defined using the __ _init___ method in Python.\n",
        "- The __ _init___ method is a dunder (double underscore) method.\n",
        "\n",
        "##Object Initialization:\n",
        "- Used to initialize instance attributes and allocate resources.\n",
        "\n",
        "##Flexible Parameters:\n",
        "- Can accept arguments to set up object properties dynamically.\n"
      ],
      "metadata": {
        "id": "W-lVYlbHivua"
      }
    },
    {
      "cell_type": "code",
      "source": [
        "#Example:\n",
        "class Car:\n",
        "    def __init__(self, brand, model, year):\n",
        "        self.brand = brand\n",
        "        self.model = model\n",
        "        self.year = year\n",
        "\n",
        "    def display_info(self):\n",
        "        return f\"{self.brand} {self.model}, {self.year}\"\n",
        "\n",
        "car1 = Car(\"Toyota\", \"Camry\", 2020)\n",
        "car2 = Car(\"Honda\", \"Civic\", 2018)\n",
        "\n",
        "print(car1.display_info())\n",
        "print(car2.display_info())"
      ],
      "metadata": {
        "colab": {
          "base_uri": "https://localhost:8080/"
        },
        "id": "9kuK3uLsqMoX",
        "outputId": "9d82bd89-c4d8-449f-e9d0-1673a18fcfef"
      },
      "execution_count": 19,
      "outputs": [
        {
          "output_type": "stream",
          "name": "stdout",
          "text": [
            "Toyota Camry, 2020\n",
            "Honda Civic, 2018\n"
          ]
        }
      ]
    },
    {
      "cell_type": "markdown",
      "source": [
        "#Q10. What are class and static methods in Python?\n",
        "##**Class Methods**\n",
        "###A class method is a method bound to the class, not the instance of the class. It can be called on the class itself or its instances. Class methods are used when you need to access or modify class-level attributes or behavior.\n",
        "\n",
        "####**Key Characteristics:**\n",
        "- Defined using the @classmethod decorator.\n",
        "- Takes cls as its first parameter, which refers to the class itself.\n",
        "- Can access and modify class variables but cannot directly access instance variables.\n",
        "\n",
        "##**Static Methods**\n",
        "###A static method is a method that does not depend on the class or instance for its functionality. It behaves like a regular function but is included in the class for organizational purposes. Static methods are ideal for utility functions that are logically related to the class but don’t need to operate on class or instance variables.\n",
        "\n",
        "####**Key Characteristics:**\n",
        "- Defined using the @staticmethod decorator.\n",
        "- Does not take self or cls as its first parameter.\n",
        "- Cannot modify or access class-level or instance-level data directly.\n"
      ],
      "metadata": {
        "id": "ivmHfszqrFjU"
      }
    },
    {
      "cell_type": "code",
      "source": [
        "#Example:\n",
        "class Temperature:\n",
        "    scale = \"Celsius\"\n",
        "\n",
        "    @classmethod\n",
        "    def set_scale(cls, scale):\n",
        "        cls.scale = scale\n",
        "\n",
        "    @staticmethod\n",
        "    def convert_to_fahrenheit(celsius):\n",
        "        return (celsius * 9/5) + 32\n",
        "\n",
        "# Using class method\n",
        "Temperature.set_scale(\"Fahrenheit\")\n",
        "print(Temperature.scale)\n",
        "\n",
        "# Using static method\n",
        "print(Temperature.convert_to_fahrenheit(25))"
      ],
      "metadata": {
        "colab": {
          "base_uri": "https://localhost:8080/"
        },
        "id": "8p2UDXA4t9tM",
        "outputId": "2a2dd4b9-3edc-40c0-ec4a-d0d92a84aa16"
      },
      "execution_count": 20,
      "outputs": [
        {
          "output_type": "stream",
          "name": "stdout",
          "text": [
            "Fahrenheit\n",
            "77.0\n"
          ]
        }
      ]
    },
    {
      "cell_type": "markdown",
      "source": [
        "#Q11. What is method overloading in Python?\n",
        "##**Method overloading** refers to the ability to define multiple methods in a class with the same name but different parameters (number or type). In many programming languages, such as Java or C++, method overloading is a common feature. However, Python does not support method overloading natively.\n",
        "\n",
        "In Python, if you define multiple methods with the same name in a class, the most recently defined method will override the previous ones.\n",
        "####**How Python Handles Overloading**\n",
        "In Python, method overloading can be simulated using:\n",
        "- Default Arguments\n",
        "- Variable-length Arguments (*args and **kwargs)\n",
        "- Function Dispatching\n"
      ],
      "metadata": {
        "id": "1tYewvxDucyq"
      }
    },
    {
      "cell_type": "code",
      "source": [
        "#Example:\n",
        "class Calculator:\n",
        "    def add(self, a, b=0, c=0):\n",
        "        return a + b + c\n",
        "\n",
        "calc = Calculator()\n",
        "print(calc.add(5))\n",
        "print(calc.add(5, 10))\n",
        "print(calc.add(5, 10, 15))"
      ],
      "metadata": {
        "colab": {
          "base_uri": "https://localhost:8080/"
        },
        "id": "wWKKETpwvqQM",
        "outputId": "f32c8339-87f1-49be-aa72-c6205895ce47"
      },
      "execution_count": 21,
      "outputs": [
        {
          "output_type": "stream",
          "name": "stdout",
          "text": [
            "5\n",
            "15\n",
            "30\n"
          ]
        }
      ]
    },
    {
      "cell_type": "markdown",
      "source": [
        "#Q12. What is method overriding in OOP?\n",
        "##**Method overriding** is an OOP feature that allows a subclass to provide a specific implementation of a method that is already defined in its superclass. When a method in a subclass has the same name, return type, and parameters as a method in the parent class, the subclass's method overrides the method in the parent class.\n",
        "###**Key Characteristics of Method Overriding**\n",
        "- Same Name and Signature: The method in the child class must have the same name and parameter list as the method in the parent class.\n",
        "- Runtime Behavior: Method overriding is resolved at runtime, making it a key feature of polymorphism.\n",
        "- Parent Class Reference: The overridden method in the parent class can still be called using the super() keyword.\n"
      ],
      "metadata": {
        "id": "nZLbTIXVvwas"
      }
    },
    {
      "cell_type": "code",
      "source": [
        "#Example:\n",
        "class Animal:\n",
        "    def sound(self):\n",
        "        return \"Some generic sound\"\n",
        "\n",
        "class Dog(Animal):\n",
        "    def sound(self):\n",
        "        return \"Bark\"\n",
        "\n",
        "class Cat(Animal):\n",
        "    def sound(self):\n",
        "        return \"Meow\"\n",
        "\n",
        "dog = Dog()\n",
        "cat = Cat()\n",
        "print(dog.sound())\n",
        "print(cat.sound())\n",
        "#Sound method in Dog and Cat overrides the sound method in Animal."
      ],
      "metadata": {
        "colab": {
          "base_uri": "https://localhost:8080/"
        },
        "id": "ttTzgyzU1OFI",
        "outputId": "4c119cfa-d86e-4715-f102-7980be16683c"
      },
      "execution_count": 22,
      "outputs": [
        {
          "output_type": "stream",
          "name": "stdout",
          "text": [
            "Bark\n",
            "Meow\n"
          ]
        }
      ]
    },
    {
      "cell_type": "markdown",
      "source": [
        "#Q13. What is a property decorator in Python?\n",
        "###The **@property** decorator in Python is used to define a method in a class as a property. This allows you to access it like an attribute, without explicitly calling it as a method. It provides a way to implement getter, setter, and deleter methods for class attributes while maintaining a simple, clean, and intuitive interface.\n",
        "\n",
        "####**Purpose of @property**\n",
        "\n",
        "- Encapsulation: Control access to class attributes by adding logic when getting, setting, or deleting values.\n",
        "- Abstraction: Hide the implementation details of an attribute while exposing a simple interface.\n",
        "- Code Readability: Makes accessing and modifying attributes more intuitive."
      ],
      "metadata": {
        "id": "hzmj5W_d1cR2"
      }
    },
    {
      "cell_type": "code",
      "source": [
        "#Example:\n",
        "class Circle:\n",
        "    def __init__(self, radius):\n",
        "        self._radius = radius\n",
        "\n",
        "    @property\n",
        "    def radius(self):\n",
        "        return self._radius\n",
        "\n",
        "    @radius.setter\n",
        "    def radius(self, value):\n",
        "        if value < 0:\n",
        "            raise ValueError(\"Radius cannot be negative!\")\n",
        "        self._radius = value\n",
        "\n",
        "c = Circle(5)\n",
        "print(c.radius)\n",
        "c.radius = 10    # Set a new value\n",
        "print(c.radius)\n",
        "c.radius = -5  # Raises ValueError: Radius cannot be negative!"
      ],
      "metadata": {
        "colab": {
          "base_uri": "https://localhost:8080/",
          "height": 341
        },
        "id": "bCa-ygrg2drm",
        "outputId": "8a8c9127-1b8e-4e36-8d66-a46958d50098"
      },
      "execution_count": 23,
      "outputs": [
        {
          "output_type": "stream",
          "name": "stdout",
          "text": [
            "5\n",
            "10\n"
          ]
        },
        {
          "output_type": "error",
          "ename": "ValueError",
          "evalue": "Radius cannot be negative!",
          "traceback": [
            "\u001b[0;31m---------------------------------------------------------------------------\u001b[0m",
            "\u001b[0;31mValueError\u001b[0m                                Traceback (most recent call last)",
            "\u001b[0;32m<ipython-input-23-83af862388e9>\u001b[0m in \u001b[0;36m<cell line: 20>\u001b[0;34m()\u001b[0m\n\u001b[1;32m     18\u001b[0m \u001b[0mc\u001b[0m\u001b[0;34m.\u001b[0m\u001b[0mradius\u001b[0m \u001b[0;34m=\u001b[0m \u001b[0;36m10\u001b[0m    \u001b[0;31m# Set a new value\u001b[0m\u001b[0;34m\u001b[0m\u001b[0;34m\u001b[0m\u001b[0m\n\u001b[1;32m     19\u001b[0m \u001b[0mprint\u001b[0m\u001b[0;34m(\u001b[0m\u001b[0mc\u001b[0m\u001b[0;34m.\u001b[0m\u001b[0mradius\u001b[0m\u001b[0;34m)\u001b[0m\u001b[0;34m\u001b[0m\u001b[0;34m\u001b[0m\u001b[0m\n\u001b[0;32m---> 20\u001b[0;31m \u001b[0mc\u001b[0m\u001b[0;34m.\u001b[0m\u001b[0mradius\u001b[0m \u001b[0;34m=\u001b[0m \u001b[0;34m-\u001b[0m\u001b[0;36m5\u001b[0m  \u001b[0;31m# Raises ValueError: Radius cannot be negative!\u001b[0m\u001b[0;34m\u001b[0m\u001b[0;34m\u001b[0m\u001b[0m\n\u001b[0m",
            "\u001b[0;32m<ipython-input-23-83af862388e9>\u001b[0m in \u001b[0;36mradius\u001b[0;34m(self, value)\u001b[0m\n\u001b[1;32m     11\u001b[0m     \u001b[0;32mdef\u001b[0m \u001b[0mradius\u001b[0m\u001b[0;34m(\u001b[0m\u001b[0mself\u001b[0m\u001b[0;34m,\u001b[0m \u001b[0mvalue\u001b[0m\u001b[0;34m)\u001b[0m\u001b[0;34m:\u001b[0m\u001b[0;34m\u001b[0m\u001b[0;34m\u001b[0m\u001b[0m\n\u001b[1;32m     12\u001b[0m         \u001b[0;32mif\u001b[0m \u001b[0mvalue\u001b[0m \u001b[0;34m<\u001b[0m \u001b[0;36m0\u001b[0m\u001b[0;34m:\u001b[0m\u001b[0;34m\u001b[0m\u001b[0;34m\u001b[0m\u001b[0m\n\u001b[0;32m---> 13\u001b[0;31m             \u001b[0;32mraise\u001b[0m \u001b[0mValueError\u001b[0m\u001b[0;34m(\u001b[0m\u001b[0;34m\"Radius cannot be negative!\"\u001b[0m\u001b[0;34m)\u001b[0m\u001b[0;34m\u001b[0m\u001b[0;34m\u001b[0m\u001b[0m\n\u001b[0m\u001b[1;32m     14\u001b[0m         \u001b[0mself\u001b[0m\u001b[0;34m.\u001b[0m\u001b[0m_radius\u001b[0m \u001b[0;34m=\u001b[0m \u001b[0mvalue\u001b[0m\u001b[0;34m\u001b[0m\u001b[0;34m\u001b[0m\u001b[0m\n\u001b[1;32m     15\u001b[0m \u001b[0;34m\u001b[0m\u001b[0m\n",
            "\u001b[0;31mValueError\u001b[0m: Radius cannot be negative!"
          ]
        }
      ]
    },
    {
      "cell_type": "markdown",
      "source": [
        "#Q14. Why is polymorphism important in OOP?\n",
        "###**Polymorphism** is a core concept in Object-Oriented Programming (OOP) that allows objects of different classes to be treated as objects of a common superclass. This ability enhances flexibility, extensibility, and maintainability of the code.\n",
        "####**Polymorphism is important because it**:\n",
        "- Promotes cleaner, more modular, and maintainable code.\n",
        "- Reduces redundancy and enhances flexibility.\n",
        "- Supports scalability by allowing new object types to integrate seamlessly.\n",
        "- Simplifies handling of diverse object types through a unified interface."
      ],
      "metadata": {
        "id": "PYc64Cha2onx"
      }
    },
    {
      "cell_type": "code",
      "source": [
        "#Example:\n",
        "class Animal:\n",
        "    def speak(self):\n",
        "        pass\n",
        "\n",
        "class Dog(Animal):\n",
        "    def speak(self):\n",
        "        return \"Woof!\"\n",
        "\n",
        "class Cat(Animal):\n",
        "    def speak(self):\n",
        "        return \"Meow!\"\n",
        "\n",
        "def make_sound(animal: Animal):\n",
        "    print(animal.speak())\n",
        "\n",
        "make_sound(Dog())\n",
        "make_sound(Cat())"
      ],
      "metadata": {
        "colab": {
          "base_uri": "https://localhost:8080/"
        },
        "id": "SqZPHEkX3Hud",
        "outputId": "b79096bb-e981-46ac-fe5c-10b5b01d71ac"
      },
      "execution_count": 24,
      "outputs": [
        {
          "output_type": "stream",
          "name": "stdout",
          "text": [
            "Woof!\n",
            "Meow!\n"
          ]
        }
      ]
    },
    {
      "cell_type": "markdown",
      "source": [
        "#Q15. What is an abstract class in Python?\n",
        "###An **abstract** class in Python is a class that serves as a blueprint for other classes. It is defined using the abc (Abstract Base Class) module. Abstract classes cannot be instantiated directly; instead, they are meant to be subclassed by other classes that implement their abstract methods.\n",
        "\n",
        "###**Key Features of Abstract Classes**\n",
        "##Cannot be Instantiated:\n",
        "- Abstract classes cannot create objects directly.\n",
        "- They serve as a base for concrete subclasses.\n",
        "\n",
        "##Contain Abstract Methods:\n",
        "- Abstract methods are defined but do not have any implementation.\n",
        "- Subclasses must override and provide an implementation for all abstract methods.\n",
        "\n",
        "##Can Have Concrete Methods:\n",
        "- Abstract classes can also have methods with full implementations.\n",
        "- Subclasses inherit these methods directly.\n",
        "\n",
        "##Defined Using abc.ABC:\n",
        "- The ABC class from the abc module is used to define an abstract class.\n",
        "\n",
        "#Use of @abstractmethod Decorator:\n",
        "- Methods are marked as abstract using the @abstractmethod decorator."
      ],
      "metadata": {
        "id": "FKx2NYX-4SXq"
      }
    },
    {
      "cell_type": "code",
      "source": [
        "#Example:\n",
        "from abc import ABC, abstractmethod\n",
        "\n",
        "# Define an abstract class\n",
        "class Animal(ABC):\n",
        "    @abstractmethod\n",
        "    def sound(self):\n",
        "        pass\n",
        "\n",
        "    def sleep(self):\n",
        "        print(\"Sleeping...\")\n",
        "\n",
        "# Define a subclass\n",
        "class Dog(Animal):\n",
        "    def sound(self):\n",
        "        return \"Woof!\"\n",
        "\n",
        "class Cat(Animal):\n",
        "    def sound(self):\n",
        "        return \"Meow!\"\n",
        "\n",
        "# Instantiate subclasses\n",
        "dog = Dog()\n",
        "cat = Cat()\n",
        "\n",
        "print(dog.sound())\n",
        "print(cat.sound())\n",
        "\n",
        "# Cannot instantiate abstract class\n",
        "# animal = Animal()  # This will raise an error"
      ],
      "metadata": {
        "colab": {
          "base_uri": "https://localhost:8080/"
        },
        "id": "V7vjB0Ei8B0F",
        "outputId": "051eca31-7550-4264-cfc6-1778d3f7921b"
      },
      "execution_count": 25,
      "outputs": [
        {
          "output_type": "stream",
          "name": "stdout",
          "text": [
            "Woof!\n",
            "Meow!\n"
          ]
        }
      ]
    },
    {
      "cell_type": "markdown",
      "source": [
        "#Q16. What are the advantages of OOP?\n",
        "###Object-Oriented Programming (OOP) offers several benefits, making it a preferred paradigm for designing and developing large and complex software systems.\n",
        "\n",
        "**1. Modular Structure**\n",
        "- OOP organizes code into classes and objects, making it easier to divide a project into smaller, manageable modules.\n",
        "- Each module can be developed, tested, and debugged independently.\n",
        "\n",
        "**2. Code Reusability**\n",
        "- Through inheritance, existing classes can be reused to create new ones.\n",
        "- This reduces redundancy and improves efficiency in coding.\n",
        "\n",
        "**3. Encapsulation**\n",
        "- By bundling data (attributes) and methods (functions) together into a class, OOP ensures that the internal state of an object is hidden.\n",
        "- Access to data is controlled using getter and setter methods, improving security and preventing unintended interference.\n",
        "\n",
        "**4. Abstraction**\n",
        "- OOP allows you to focus on what an object does rather than how it does it.\n",
        "- Abstract classes and interfaces define a standard blueprint for designing systems, making them easier to understand and extend.\n",
        "\n",
        "**5. Polymorphism**\n",
        "- Polymorphism enables a single interface to be used for multiple data types.\n",
        "- This allows objects of different classes to be treated as objects of a common parent class, improving flexibility and reducing code complexity.\n",
        "\n",
        "**6. Maintainability**\n",
        "- OOP encourages a clear structure and separation of concerns.\n",
        "- Since classes and objects have defined roles, changes in one part of the system are less likely to affect other parts.\n",
        "- This makes debugging and maintaining the codebase easier.\n",
        "\n",
        "**7. Extensibility**\n",
        "- The modular and reusable structure of OOP allows developers to easily add new functionality to an existing system.\n",
        "- New classes can be derived from existing ones without altering the original code.\n",
        "\n",
        "**8. Improved Productivity**\n",
        "- The principles of reusability, abstraction, and modularity reduce the time and effort required to develop software.\n",
        "- Developers can focus on implementing high-level features rather than rewriting boilerplate code.\n",
        "\n",
        "**9. Scalability**\n",
        "- OOP provides a robust framework for building scalable systems.\n",
        "- It allows for the gradual addition of new features or functionalities without disrupting existing ones.\n",
        "\n",
        "**10. Real-World Representation**\n",
        "- OOP models real-world entities and their relationships, making it intuitive to design and understand.\n",
        "- Concepts like inheritance and composition naturally mirror real-world hierarchies and interactions.\n"
      ],
      "metadata": {
        "id": "WAfLzgT18pPE"
      }
    },
    {
      "cell_type": "markdown",
      "source": [
        "#Q17. What is the difference between a class variable and an instance variable?\n",
        "##**Class Variable**\n",
        "###A variable that is shared among all instances of the class. It is defined directly in the class but outside any instance methods.\n",
        "- Scope: Shared by all objects (instances) of the class.\n",
        "- Access: Can be accessed using the class name or an instance.\n",
        "- Use Case: Used when a value needs to be shared across all instances of the class (e.g., a counter to track the total number of objects created).\n",
        "##**Instance Variable**\n",
        "###A variable that is unique to each instance of the class. It is defined within the constructor (_ __init__ _) or other instance methods.\n",
        "- Scope: Specific to the object in which it is created.\n",
        "- Access: Accessed and modified only through the specific instance of the class.\n",
        "- Use Case: Used to store data that is specific to an individual object (e.g., name or age of a person).\n"
      ],
      "metadata": {
        "id": "zFXKG_EmTwot"
      }
    },
    {
      "cell_type": "code",
      "source": [
        "#Example:\n",
        "class Example:\n",
        "    # Class variable\n",
        "    class_variable = \"Shared across all instances\"\n",
        "\n",
        "    def __init__(self, value):\n",
        "        # Instance variable\n",
        "        self.instance_variable = value\n",
        "\n",
        "# Creating instances\n",
        "obj1 = Example(\"Value for obj1\")\n",
        "obj2 = Example(\"Value for obj2\")\n",
        "\n",
        "# Accessing class variables\n",
        "print(obj1.class_variable)\n",
        "print(obj2.class_variable)\n",
        "\n",
        "# Accessing instance variables\n",
        "print(obj1.instance_variable)\n",
        "print(obj2.instance_variable)\n",
        "\n",
        "# Modifying class variable\n",
        "Example.class_variable = \"Modified value\"\n",
        "print(obj1.class_variable)\n",
        "print(obj2.class_variable)\n",
        "\n",
        "# Modifying instance variable\n",
        "obj1.instance_variable = \"Modified for obj1\"\n",
        "print(obj1.instance_variable)\n",
        "print(obj2.instance_variable)"
      ],
      "metadata": {
        "colab": {
          "base_uri": "https://localhost:8080/"
        },
        "id": "HiuxWVzjUx2x",
        "outputId": "574a37d2-77f4-40ec-bb8f-d85a6b472e46"
      },
      "execution_count": 26,
      "outputs": [
        {
          "output_type": "stream",
          "name": "stdout",
          "text": [
            "Shared across all instances\n",
            "Shared across all instances\n",
            "Value for obj1\n",
            "Value for obj2\n",
            "Modified value\n",
            "Modified value\n",
            "Modified for obj1\n",
            "Value for obj2\n"
          ]
        }
      ]
    },
    {
      "cell_type": "markdown",
      "source": [
        "#Q18. What is multiple inheritance in Python?\n",
        "##**Multiple inheritance** is a feature in object-oriented programming where a class can inherit attributes and methods from more than one parent class. This allows a class to inherit the behaviors and properties of multiple base classes, making the class more versatile and reusable.\n",
        "###**Key Features of Multiple Inheritance in Python:**\n",
        "- Inheriting from Multiple Classes: A child class can inherit methods and attributes from more than one class.\n",
        "- Method Resolution Order (MRO): Python uses an algorithm called C3 linearization to determine the order in which base classes are accessed. The method resolution order (MRO) defines the order in which classes are inherited.\n",
        "- Super Function: The super() function helps call methods from the parent classes, particularly in multiple inheritance scenarios.\n"
      ],
      "metadata": {
        "id": "AdiA3R9GVNCW"
      }
    },
    {
      "cell_type": "code",
      "source": [
        "#Example:\n",
        "class Parent1:\n",
        "    def method1(self):\n",
        "        print(\"Method from Parent1\")\n",
        "\n",
        "class Parent2:\n",
        "    def method2(self):\n",
        "        print(\"Method from Parent2\")\n",
        "\n",
        "# Child class inheriting from both Parent1 and Parent2\n",
        "class Child(Parent1, Parent2):\n",
        "    def method3(self):\n",
        "        print(\"Method from Child\")\n",
        "\n",
        "# Create an instance of Child\n",
        "child_obj = Child()\n",
        "\n",
        "# Accessing methods from Parent1, Parent2, and Child\n",
        "child_obj.method1()\n",
        "child_obj.method2()\n",
        "child_obj.method3()"
      ],
      "metadata": {
        "colab": {
          "base_uri": "https://localhost:8080/"
        },
        "id": "u586ujHWWpTQ",
        "outputId": "70c070e2-e8ba-4990-9aec-76eac2a86e4b"
      },
      "execution_count": 27,
      "outputs": [
        {
          "output_type": "stream",
          "name": "stdout",
          "text": [
            "Method from Parent1\n",
            "Method from Parent2\n",
            "Method from Child\n"
          ]
        }
      ]
    },
    {
      "cell_type": "markdown",
      "source": [
        "#Q19. Explain the purpose of ‘’_ ___str_____ _’ and ‘_ __repr_ _’ ‘ methods in Python?\n",
        "![Screenshot 2024-12-26 at 8.05.00 PM.png](data:image/png;base64,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)"
      ],
      "metadata": {
        "id": "FyIf8DwzW-GC"
      }
    },
    {
      "cell_type": "code",
      "source": [
        "#Example:\n",
        "class Person:\n",
        "    def __init__(self, name, age):\n",
        "        self.name = name\n",
        "        self.age = age\n",
        "\n",
        "    def __str__(self):\n",
        "        return f\"Person: {self.name}, Age: {self.age}\"\n",
        "\n",
        "    def __repr__(self):\n",
        "        return f\"Person('{self.name}', {self.age})\"\n",
        "\n",
        "person = Person(\"John\", 30)\n",
        "\n",
        "# Using print() which calls __str__\n",
        "print(person)\n",
        "\n",
        "# Using repr(), or in the shell, which calls __repr__\n",
        "print(repr(person))"
      ],
      "metadata": {
        "colab": {
          "base_uri": "https://localhost:8080/"
        },
        "id": "Uh9kHPe4ZgSw",
        "outputId": "cf6f2f93-06e8-4431-948a-1df1216032f2"
      },
      "execution_count": 28,
      "outputs": [
        {
          "output_type": "stream",
          "name": "stdout",
          "text": [
            "Person: John, Age: 30\n",
            "Person('John', 30)\n"
          ]
        }
      ]
    },
    {
      "cell_type": "markdown",
      "source": [
        "#Q20. What is the significance of the ‘super()’ function in Python?\n",
        "##The **super() function** in Python is used to call methods from a parent or superclass in a subclass. It plays a significant role in object-oriented programming (OOP) by enabling access to the superclass’s methods, making it easier to manage inheritance and method overriding.\n",
        "###**Benefits of Using super()**\n",
        "##**Avoids Direct Class References:**\n",
        "- It avoids explicitly referring to the parent class by name, making the code more maintainable and easier to refactor.\n",
        "\n",
        "##**Supports Method Resolution Order (MRO):**\n",
        "- super() helps Python determine the correct method to call when using multiple inheritance, ensuring that all classes in the method resolution order are appropriately considered.\n",
        "\n",
        "##**Encourages Code Reusability:**\n",
        "- By allowing subclasses to call parent class methods, super() promotes code reuse, which is a key principle of object-oriented design.\n",
        "\n",
        "##**Simplifies Initialization:**\n",
        "- When a subclass needs to initialize a parent class, super() simplifies calling the parent's __init__ method.\n"
      ],
      "metadata": {
        "id": "cusr1-wfkdF_"
      }
    },
    {
      "cell_type": "code",
      "source": [
        "#Example: Using super() in Multiple Inheritance\n",
        "class A:\n",
        "    def show(self):\n",
        "        print(\"Class A\")\n",
        "\n",
        "class B(A):\n",
        "    def show(self):\n",
        "        super().show()  # Calls the show method of class A\n",
        "        print(\"Class B\")\n",
        "\n",
        "class C(A):\n",
        "    def show(self):\n",
        "        super().show()  # Calls the show method of class A\n",
        "        print(\"Class C\")\n",
        "\n",
        "class D(B, C):\n",
        "    def show(self):\n",
        "        super().show()  # Calls the show method from class B, which calls C and then A\n",
        "        print(\"Class D\")\n",
        "\n",
        "d = D()\n",
        "d.show()"
      ],
      "metadata": {
        "colab": {
          "base_uri": "https://localhost:8080/"
        },
        "id": "5pNvSMHalxlP",
        "outputId": "17852e4e-7cd9-4038-cddb-971d1f7d7eea"
      },
      "execution_count": 29,
      "outputs": [
        {
          "output_type": "stream",
          "name": "stdout",
          "text": [
            "Class A\n",
            "Class C\n",
            "Class B\n",
            "Class D\n"
          ]
        }
      ]
    },
    {
      "cell_type": "markdown",
      "source": [
        "#Q21. What is the significance of the __ __del____ method in Python?\n",
        "##The __del_ __ method in Python is a special or \"dunder\" method (short for \"double underscore\") that is used for object destruction. It is called when an object is about to be destroyed or garbage collected. This method provides a way to perform cleanup activities, such as releasing resources, closing files, or other custom cleanup logic, before the object is deleted.\n",
        "###**Key Use Cases for __del__:**\n",
        "##Resource Management:\n",
        "- If your object manages external resources like file handles, network connections, or database connections, you can use __del__ to ensure that these resources are released properly when the object is destroyed.\n",
        "\n",
        "##Cleaning Up Temporary Files:\n",
        "- If your class creates temporary files, you might want to delete them when the object is no longer needed. The __del__ method can help ensure that these files are deleted when the object is garbage collected.\n",
        "\n",
        "##Debugging and Logging:\n",
        "- You can use __del__ for debugging or logging purposes to track when objects are destroyed or to confirm that cleanup has occurred."
      ],
      "metadata": {
        "id": "jbbCeYk-nvpF"
      }
    },
    {
      "cell_type": "code",
      "source": [
        "#Example:\n",
        "class FileHandler:\n",
        "    def __init__(self, filename):\n",
        "        self.filename = filename\n",
        "        self.file = open(filename, 'w')\n",
        "\n",
        "    def write_data(self, data):\n",
        "        self.file.write(data)\n",
        "\n",
        "    def __del__(self):\n",
        "        print(f\"Closing file: {self.filename}\")\n",
        "        self.file.close()\n",
        "\n",
        "# Creating an instance of FileHandler\n",
        "file_handler = FileHandler(\"example.txt\")\n",
        "file_handler.write_data(\"Hello, world!\")\n",
        "\n",
        "# Deleting the object\n",
        "del file_handler"
      ],
      "metadata": {
        "colab": {
          "base_uri": "https://localhost:8080/"
        },
        "id": "oNuvvQOVom0z",
        "outputId": "2023341e-8c49-494b-9dfe-90360d77f664"
      },
      "execution_count": 30,
      "outputs": [
        {
          "output_type": "stream",
          "name": "stdout",
          "text": [
            "Closing file: example.txt\n"
          ]
        }
      ]
    },
    {
      "cell_type": "markdown",
      "source": [
        "#Q22. What is the difference between @staticmethod and @classmethod in Python?\n",
        "##@staticmethod:\n",
        "- A **@staticmethod** is a method that belongs to the class, not the instance of the class. It does not take a reference to the class (cls) or the instance (self) as the first argument.\n",
        "- It behaves like a regular function but resides in the class's namespace, and it can be called using the class or an instance.\n",
        "###Use Case:\n",
        "- Use @staticmethod when you need a method that logically belongs to the class but does not require access to the class or instance attributes. It is used for utility functions that operate independently of the class state.\n",
        "\n",
        "##@classmethod:\n",
        "- A @classmethod is a method that takes a reference to the class (cls) as its first argument, which allows it to access class-level attributes and methods. - Unlike @staticmethod, it is meant to work with class-level data (shared across instances).\n",
        "###Use Case:\n",
        "- Use @classmethod when you need a method that needs access to the class itself, not just to instance data. It's often used for factory methods or methods that modify class-level state."
      ],
      "metadata": {
        "id": "d3rwiaxLo0ym"
      }
    },
    {
      "cell_type": "code",
      "source": [
        "#Example of @staticmethod vs @classmethod:\n",
        "class Animal:\n",
        "    species = \"Unknown\"\n",
        "\n",
        "    def __init__(self, name):\n",
        "        self.name = name\n",
        "\n",
        "    @staticmethod\n",
        "    def speak_sound():\n",
        "        print(\"Animals make sounds.\")\n",
        "\n",
        "    @classmethod\n",
        "    def change_species(cls, species_name):\n",
        "        cls.species = species_name\n",
        "        print(f\"Species changed to {cls.species}.\")\n",
        "\n",
        "# Static method call (does not depend on class or instance)\n",
        "Animal.speak_sound()\n",
        "\n",
        "# Class method call (modifies class-level data)\n",
        "Animal.change_species(\"Dog\")\n"
      ],
      "metadata": {
        "colab": {
          "base_uri": "https://localhost:8080/"
        },
        "id": "3sDKHZlOqfPj",
        "outputId": "eb3d8268-6958-4abe-a4b7-81e40d928e68"
      },
      "execution_count": 33,
      "outputs": [
        {
          "output_type": "stream",
          "name": "stdout",
          "text": [
            "Animals make sounds.\n",
            "Species changed to Dog.\n"
          ]
        }
      ]
    },
    {
      "cell_type": "markdown",
      "source": [
        "#Q23. How does polymorphism work in Python with inheritance?\n",
        "###Polymorphism in Python refers to the ability of different classes to provide a common interface, meaning that different objects can respond to the same method call in different ways. It allows the same method or function to behave differently depending on the object calling it.\n",
        "\n",
        "In the context of **inheritance**, polymorphism allows child classes to override methods of the parent class, providing their own behavior for the same method name. This enables a more flexible and reusable code structure, where different types of objects (instances of child classes) can be treated uniformly while still having different implementations.\n",
        "\n",
        "###**Key Concepts:**\n",
        "- Method Overriding: A child class can define a method with the same name as the one in the parent class. The child class method will \"override\" the parent class method.\n",
        "- Dynamic Dispatch: Python determines at runtime which method to call based on the object’s class (the method resolution order or MRO).\n"
      ],
      "metadata": {
        "id": "ocefbgigq0AE"
      }
    },
    {
      "cell_type": "code",
      "source": [
        "#Example of Polymorphism in Python with Inheritance\n",
        "class Animal:\n",
        "    def speak(self):\n",
        "        print(\"The animal speaks.\")\n",
        "\n",
        "class Dog(Animal):\n",
        "    def speak(self):\n",
        "        print(\"The dog barks.\")\n",
        "\n",
        "class Cat(Animal):\n",
        "    def speak(self):\n",
        "        print(\"The cat meows.\")\n",
        "\n",
        "class Cow(Animal):\n",
        "    def speak(self):\n",
        "        print(\"The cow moos.\")\n",
        "\n",
        "animals = [Dog(), Cat(), Cow()]\n",
        "\n",
        "for animal in animals:\n",
        "    animal.speak()"
      ],
      "metadata": {
        "colab": {
          "base_uri": "https://localhost:8080/"
        },
        "id": "nqFFBiYatDjr",
        "outputId": "40223408-8e91-46df-831e-2c36e2ccb2d6"
      },
      "execution_count": 34,
      "outputs": [
        {
          "output_type": "stream",
          "name": "stdout",
          "text": [
            "The dog barks.\n",
            "The cat meows.\n",
            "The cow moos.\n"
          ]
        }
      ]
    },
    {
      "cell_type": "markdown",
      "source": [
        "#Q24. What is method chaining in Python OOP?\n",
        "###Method chaining is a technique in Object-Oriented Programming (OOP) where multiple methods are called on the same object in a single line of code, one after the other. It allows you to call methods in a chain, making the code more concise and readable.\n",
        "\n",
        "- In Python, method chaining is typically achieved by making sure that each method in the chain returns the object itself (i.e., the self object). This allows you to apply multiple method calls to the same object in a sequential manner.\n"
      ],
      "metadata": {
        "id": "uM5iViN8tWTG"
      }
    },
    {
      "cell_type": "code",
      "source": [
        "#Example:\n",
        "class Car:\n",
        "    def __init__(self, brand, color):\n",
        "        self.brand = brand\n",
        "        self.color = color\n",
        "        self.speed = 0\n",
        "\n",
        "    def set_brand(self, brand):\n",
        "        self.brand = brand\n",
        "        return self  # Return the object itself for chaining\n",
        "\n",
        "    def set_color(self, color):\n",
        "        self.color = color\n",
        "        return self  # Return the object itself for chaining\n",
        "\n",
        "    def accelerate(self, speed_increase):\n",
        "        self.speed += speed_increase\n",
        "        return self  # Return the object itself for chaining\n",
        "\n",
        "    def stop(self):\n",
        "        self.speed = 0\n",
        "        return self  # Return the object itself for chaining\n",
        "\n",
        "    def display(self):\n",
        "        print(f\"Brand: {self.brand}, Color: {self.color}, Speed: {self.speed}\")\n",
        "        return self  # Return the object itself for chaining\n",
        "\n",
        "\n",
        "# Example of Method Chaining\n",
        "my_car = Car(\"Toyota\", \"Red\")\n",
        "\n",
        "# Chaining multiple methods\n",
        "my_car.set_brand(\"Honda\").set_color(\"Blue\").accelerate(50).display().stop().display()"
      ],
      "metadata": {
        "colab": {
          "base_uri": "https://localhost:8080/"
        },
        "id": "F2OOq0ObwSqQ",
        "outputId": "d8e8c70e-725f-4864-8ca7-e0c30f0920df"
      },
      "execution_count": 35,
      "outputs": [
        {
          "output_type": "stream",
          "name": "stdout",
          "text": [
            "Brand: Honda, Color: Blue, Speed: 50\n",
            "Brand: Honda, Color: Blue, Speed: 0\n"
          ]
        },
        {
          "output_type": "execute_result",
          "data": {
            "text/plain": [
              "<__main__.Car at 0x7a3a452df400>"
            ]
          },
          "metadata": {},
          "execution_count": 35
        }
      ]
    },
    {
      "cell_type": "markdown",
      "source": [
        "#Q25. What is the purpose of the ___call__ _ method in Python?\n",
        "##The **_ _call__** method in Python allows an instance of a class to be called like a function. It is a special method (also known as a \"dunder\" or \"magic\" method) that is defined using the __call__ keyword. When implemented, you can treat an object of the class as if it were a function.\n",
        "\n",
        "- This feature is particularly useful in scenarios like functional programming, callbacks, or when you want to encapsulate logic that behaves like a function but also maintains a state.\n",
        "\n",
        "## **Key Features of __call__:**\n",
        "- Allows Instances to Be Callable: When a class defines the __call__ method, its instances can be called using parentheses (), just like a regular function.\n",
        "- Encapsulation of Logic: The logic of the __call__ method can be customized to perform any operation, similar to how a function is defined.\n",
        "- State Retention: Unlike functions, objects can retain state, and the __call__ method can utilize this state for computations."
      ],
      "metadata": {
        "id": "IY2hCGihynSu"
      }
    },
    {
      "cell_type": "code",
      "source": [
        "#Example:\n",
        "class CallCounter:\n",
        "    def __init__(self):\n",
        "        self.count = 0\n",
        "\n",
        "    def __call__(self):\n",
        "        self.count += 1\n",
        "        print(f\"Called {self.count} times\")\n",
        "\n",
        "# Create an instance of CallCounter\n",
        "counter = CallCounter()\n",
        "\n",
        "# Call the instance multiple times\n",
        "counter()\n",
        "counter()\n",
        "counter()"
      ],
      "metadata": {
        "colab": {
          "base_uri": "https://localhost:8080/"
        },
        "id": "uevt_d95z-Bl",
        "outputId": "e9ac0f56-77a0-4ebf-c492-88e85008de94"
      },
      "execution_count": 36,
      "outputs": [
        {
          "output_type": "stream",
          "name": "stdout",
          "text": [
            "Called 1 times\n",
            "Called 2 times\n",
            "Called 3 times\n"
          ]
        }
      ]
    },
    {
      "cell_type": "markdown",
      "source": [
        "# **Practical Questions**"
      ],
      "metadata": {
        "id": "qZgVBdP20JXm"
      }
    },
    {
      "cell_type": "markdown",
      "source": [
        "#Q1. Create a parent class Animal with a method speak() that prints a generic message. Create a child class Dog that overrides the speak() method to print \"Bark!\".\n"
      ],
      "metadata": {
        "id": "BCP5XUNr0NlV"
      }
    },
    {
      "cell_type": "code",
      "source": [
        "class Animal:\n",
        "    def speak(self):\n",
        "        print(\"The animal makes a sound.\")\n",
        "\n",
        "class Dog(Animal):\n",
        "    def speak(self):\n",
        "        print(\"Bark!\")\n",
        "\n",
        "generic_animal = Animal()\n",
        "generic_animal.speak()\n",
        "\n",
        "dog = Dog()\n",
        "dog.speak()"
      ],
      "metadata": {
        "colab": {
          "base_uri": "https://localhost:8080/"
        },
        "id": "-4AOSdLM0LtY",
        "outputId": "d6c21c4b-bfe7-4e20-860e-41545f141871"
      },
      "execution_count": 37,
      "outputs": [
        {
          "output_type": "stream",
          "name": "stdout",
          "text": [
            "The animal makes a sound.\n",
            "Bark!\n"
          ]
        }
      ]
    },
    {
      "cell_type": "markdown",
      "source": [
        "#Q2. Write a program to create an abstract class Shape with a method area(). Derive classes Circle and Rectangle from it and implement the area() method in both.\n",
        "\n"
      ],
      "metadata": {
        "id": "80Quugxz3H4G"
      }
    },
    {
      "cell_type": "code",
      "source": [
        "from abc import ABC, abstractmethod\n",
        "\n",
        "# Abstract class\n",
        "class Shape(ABC):\n",
        "    @abstractmethod\n",
        "    def area(self):\n",
        "        pass\n",
        "\n",
        "# Derived class for Circle\n",
        "class Circle(Shape):\n",
        "    def __init__(self, radius):\n",
        "        self.radius = radius\n",
        "\n",
        "    def area(self):\n",
        "        return 3.14159 * self.radius * self.radius\n",
        "\n",
        "# Derived class for Rectangle\n",
        "class Rectangle(Shape):\n",
        "    def __init__(self, length, width):\n",
        "        self.length = length\n",
        "        self.width = width\n",
        "\n",
        "    def area(self):\n",
        "        return self.length * self.width\n",
        "\n",
        "circle = Circle(5)\n",
        "print(f\"Area of Circle: {circle.area()}\")\n",
        "\n",
        "rectangle = Rectangle(4, 7)\n",
        "print(f\"Area of Rectangle: {rectangle.area()}\")"
      ],
      "metadata": {
        "colab": {
          "base_uri": "https://localhost:8080/"
        },
        "id": "zdf4nM023P-u",
        "outputId": "0d446e4c-bdb4-4f2b-af43-239b38723602"
      },
      "execution_count": 38,
      "outputs": [
        {
          "output_type": "stream",
          "name": "stdout",
          "text": [
            "Area of Circle: 78.53975\n",
            "Area of Rectangle: 28\n"
          ]
        }
      ]
    },
    {
      "cell_type": "markdown",
      "source": [
        "#Q3. Implement a multi-level inheritance scenario where a class Vehicle has an attribute type. Derive a class Car and further derive a class ElectricCar that adds a battery attribute."
      ],
      "metadata": {
        "id": "w_RArcVe3l6S"
      }
    },
    {
      "cell_type": "code",
      "source": [
        "class Vehicle:\n",
        "    def __init__(self, vehicle_type):\n",
        "        self.vehicle_type = vehicle_type\n",
        "\n",
        "    def display_type(self):\n",
        "        print(f\"Vehicle type: {self.vehicle_type}\")\n",
        "\n",
        "class Car(Vehicle):\n",
        "    def __init__(self, vehicle_type, brand):\n",
        "        super().__init__(vehicle_type)\n",
        "        self.brand = brand\n",
        "\n",
        "    def display_brand(self):\n",
        "        print(f\"Car brand: {self.brand}\")\n",
        "\n",
        "class ElectricCar(Car):\n",
        "    def __init__(self, vehicle_type, brand, battery_capacity):\n",
        "        super().__init__(vehicle_type, brand)\n",
        "        self.battery_capacity = battery_capacity\n",
        "\n",
        "    def display_battery(self):\n",
        "        print(f\"Battery capacity: {self.battery_capacity} kWh\")\n",
        "\n",
        "vehicle = Vehicle(\"General\")\n",
        "vehicle.display_type()\n",
        "\n",
        "car = Car(\"Car\", \"Toyota\")\n",
        "car.display_type()\n",
        "car.display_brand()\n",
        "\n",
        "electric_car = ElectricCar(\"Electric Car\", \"Tesla\", 75)\n",
        "electric_car.display_type()\n",
        "electric_car.display_brand()\n",
        "electric_car.display_battery()"
      ],
      "metadata": {
        "colab": {
          "base_uri": "https://localhost:8080/"
        },
        "id": "tRjHdhmy3skC",
        "outputId": "5c664448-8000-40dd-b60c-4b8c16aae976"
      },
      "execution_count": 1,
      "outputs": [
        {
          "output_type": "stream",
          "name": "stdout",
          "text": [
            "Vehicle type: General\n",
            "Vehicle type: Car\n",
            "Car brand: Toyota\n",
            "Vehicle type: Electric Car\n",
            "Car brand: Tesla\n",
            "Battery capacity: 75 kWh\n"
          ]
        }
      ]
    },
    {
      "cell_type": "markdown",
      "source": [
        "#Q4.  Implement a multi-level inheritance scenario where a class Vehicle has an attribute type. Derive a class Car and further derive a class ElectricCar that adds a battery attribute."
      ],
      "metadata": {
        "id": "UDYgGK27DoDy"
      }
    },
    {
      "cell_type": "code",
      "source": [
        "class Vehicle:\n",
        "    def __init__(self, vehicle_type):\n",
        "        self.vehicle_type = vehicle_type\n",
        "\n",
        "    def display_type(self):\n",
        "        print(f\"Vehicle type: {self.vehicle_type}\")\n",
        "\n",
        "class Car(Vehicle):\n",
        "    def __init__(self, vehicle_type, brand):\n",
        "        super().__init__(vehicle_type)\n",
        "        self.brand = brand\n",
        "\n",
        "    def display_car_info(self):\n",
        "        print(f\"This is a {self.brand} car.\")\n",
        "\n",
        "class ElectricCar(Car):\n",
        "    def __init__(self, vehicle_type, brand, battery_capacity):\n",
        "        super().__init__(vehicle_type, brand)\n",
        "        self.battery_capacity = battery_capacity\n",
        "\n",
        "    def display_battery_info(self):\n",
        "        print(f\"Battery capacity: {self.battery_capacity} kWh\")\n",
        "\n",
        "vehicle = Vehicle(\"General\")\n",
        "vehicle.display_type()\n",
        "\n",
        "car = Car(\"Car\", \"Toyota\")\n",
        "car.display_type()\n",
        "car.display_car_info()\n",
        "\n",
        "electric_car = ElectricCar(\"Electric Car\", \"Tesla\", 100)\n",
        "electric_car.display_type()\n",
        "electric_car.display_car_info()\n",
        "electric_car.display_battery_info()"
      ],
      "metadata": {
        "colab": {
          "base_uri": "https://localhost:8080/"
        },
        "id": "TFVCEjAdDuSy",
        "outputId": "b39b1a53-4351-4b7e-a5db-a14a614019cd"
      },
      "execution_count": 2,
      "outputs": [
        {
          "output_type": "stream",
          "name": "stdout",
          "text": [
            "Vehicle type: General\n",
            "Vehicle type: Car\n",
            "This is a Toyota car.\n",
            "Vehicle type: Electric Car\n",
            "This is a Tesla car.\n",
            "Battery capacity: 100 kWh\n"
          ]
        }
      ]
    },
    {
      "cell_type": "markdown",
      "source": [
        "#Q5. Write a program to demonstrate encapsulation by creating a class BankAccount with private attributes balance and methods to deposit, withdraw, and check balance."
      ],
      "metadata": {
        "id": "ac9MSC_sEJMW"
      }
    },
    {
      "cell_type": "code",
      "source": [
        "class BankAccount:\n",
        "    def __init__(self, initial_balance=0):\n",
        "        # Private attribute\n",
        "        self.__balance = initial_balance\n",
        "\n",
        "    # Public method to deposit money\n",
        "    def deposit(self, amount):\n",
        "        if amount > 0:\n",
        "            self.__balance += amount\n",
        "            print(f\"Deposited: {amount}\")\n",
        "        else:\n",
        "            print(\"Invalid deposit amount.\")\n",
        "\n",
        "    # Public method to withdraw money\n",
        "    def withdraw(self, amount):\n",
        "        if 0 < amount <= self.__balance:\n",
        "            self.__balance -= amount\n",
        "            print(f\"Withdrew: {amount}\")\n",
        "        else:\n",
        "            print(\"Invalid or insufficient balance for withdrawal.\")\n",
        "\n",
        "    # Public method to check the balance\n",
        "    def check_balance(self):\n",
        "        print(f\"Current balance: {self.__balance}\")\n",
        "\n",
        "account = BankAccount(100)\n",
        "\n",
        "account.deposit(50)\n",
        "account.check_balance()\n",
        "\n",
        "account.withdraw(30)\n",
        "account.check_balance()\n",
        "\n",
        "account.withdraw(200)\n",
        "account.check_balance()"
      ],
      "metadata": {
        "colab": {
          "base_uri": "https://localhost:8080/"
        },
        "id": "ZADG4BLJEykS",
        "outputId": "db5b1cce-93d3-43d0-b5bd-931b09b0eb72"
      },
      "execution_count": 3,
      "outputs": [
        {
          "output_type": "stream",
          "name": "stdout",
          "text": [
            "Deposited: 50\n",
            "Current balance: 150\n",
            "Withdrew: 30\n",
            "Current balance: 120\n",
            "Invalid or insufficient balance for withdrawal.\n",
            "Current balance: 120\n"
          ]
        }
      ]
    },
    {
      "cell_type": "markdown",
      "source": [
        "#Q6. Demonstrate runtime polymorphism using a method play() in a base class Instrument. Derive classes Guitar and Piano that implement their own version of play()."
      ],
      "metadata": {
        "id": "KnHHxDMRUgNl"
      }
    },
    {
      "cell_type": "code",
      "source": [
        "class Instrument:\n",
        "    def play(self):\n",
        "        print(\"Playing an instrument.\")\n",
        "\n",
        "# Derived class: Guitar\n",
        "class Guitar(Instrument):\n",
        "    def play(self):\n",
        "        print(\"Playing the guitar. Strumming strings!\")\n",
        "\n",
        "# Derived class: Piano\n",
        "class Piano(Instrument):\n",
        "    def play(self):\n",
        "        print(\"Playing the piano. Pressing keys!\")\n",
        "\n",
        "# Function to demonstrate runtime polymorphism\n",
        "def perform_music(instrument):\n",
        "    instrument.play()\n",
        "\n",
        "guitar = Guitar()\n",
        "piano = Piano()\n",
        "\n",
        "# Runtime polymorphism in action\n",
        "perform_music(guitar)\n",
        "perform_music(piano)"
      ],
      "metadata": {
        "colab": {
          "base_uri": "https://localhost:8080/"
        },
        "id": "VX1LrKT4UvCy",
        "outputId": "79c92bed-10d4-4677-f285-05bf5c61e9e8"
      },
      "execution_count": 1,
      "outputs": [
        {
          "output_type": "stream",
          "name": "stdout",
          "text": [
            "Playing the guitar. Strumming strings!\n",
            "Playing the piano. Pressing keys!\n"
          ]
        }
      ]
    },
    {
      "cell_type": "markdown",
      "source": [
        "#Q7. Create a class MathOperations with a class method add_numbers() to add two numbers and a static method subtract_numbers() to subtract two numbers."
      ],
      "metadata": {
        "id": "h7PyHc8xWWR4"
      }
    },
    {
      "cell_type": "code",
      "source": [
        "class MathOperations:\n",
        "    # Class method to add two numbers\n",
        "    @classmethod\n",
        "    def add_numbers(cls, a, b):\n",
        "        return a + b\n",
        "\n",
        "    # Static method to subtract two numbers\n",
        "    @staticmethod\n",
        "    def subtract_numbers(a, b):\n",
        "        return a - b\n",
        "\n",
        "# Using class method\n",
        "result_add = MathOperations.add_numbers(10, 5)\n",
        "print(f\"Addition Result: {result_add}\")\n",
        "\n",
        "# Using static method\n",
        "result_subtract = MathOperations.subtract_numbers(10, 5)\n",
        "print(f\"Subtraction Result: {result_subtract}\")"
      ],
      "metadata": {
        "colab": {
          "base_uri": "https://localhost:8080/"
        },
        "id": "QhB1y17UWcTp",
        "outputId": "a67ee8a3-fb16-478c-a54b-0b8e8e92b62a"
      },
      "execution_count": 2,
      "outputs": [
        {
          "output_type": "stream",
          "name": "stdout",
          "text": [
            "Addition Result: 15\n",
            "Subtraction Result: 5\n"
          ]
        }
      ]
    },
    {
      "cell_type": "markdown",
      "source": [
        "#Q8.  Implement a class Person with a class method to count the total number of persons created."
      ],
      "metadata": {
        "id": "MHQhSe91Wyk5"
      }
    },
    {
      "cell_type": "code",
      "source": [
        "class Person:\n",
        "    person_count = 0\n",
        "\n",
        "    def __init__(self, name):\n",
        "        self.name = name\n",
        "        Person.person_count += 1\n",
        "\n",
        "    @classmethod\n",
        "    def get_person_count(cls):\n",
        "        return cls.person_count\n",
        "\n",
        "person1 = Person(\"Alice\")\n",
        "person2 = Person(\"Bob\")\n",
        "person3 = Person(\"Charlie\")\n",
        "\n",
        "print(f\"Total Persons Created: {Person.get_person_count()}\")"
      ],
      "metadata": {
        "colab": {
          "base_uri": "https://localhost:8080/"
        },
        "id": "iKz8zz6IXEVH",
        "outputId": "ce9c7bb3-ccf6-47be-a1bc-50bf08fb2742"
      },
      "execution_count": 3,
      "outputs": [
        {
          "output_type": "stream",
          "name": "stdout",
          "text": [
            "Total Persons Created: 3\n"
          ]
        }
      ]
    },
    {
      "cell_type": "markdown",
      "source": [
        "#Q9. Write a class Fraction with attributes numerator and denominator. Override the str method to display the fraction as \"numerator/denominator\"."
      ],
      "metadata": {
        "id": "_E-GW8ChXNaC"
      }
    },
    {
      "cell_type": "code",
      "source": [
        "class Fraction:\n",
        "    def __init__(self, numerator, denominator):\n",
        "        self.numerator = numerator\n",
        "        self.denominator = denominator\n",
        "\n",
        "    def __str__(self):\n",
        "        return f\"{self.numerator}/{self.denominator}\"\n",
        "\n",
        "fraction = Fraction(3, 4)\n",
        "print(fraction)"
      ],
      "metadata": {
        "colab": {
          "base_uri": "https://localhost:8080/"
        },
        "id": "ew0YB3AEXUxc",
        "outputId": "48d5ce49-93cd-4285-ad68-6a40ec301298"
      },
      "execution_count": 4,
      "outputs": [
        {
          "output_type": "stream",
          "name": "stdout",
          "text": [
            "3/4\n"
          ]
        }
      ]
    },
    {
      "cell_type": "markdown",
      "source": [
        "#Q10.Demonstrate operator overloading by creating a class Vector and overriding the add method to add two vectors."
      ],
      "metadata": {
        "id": "2rR8V6zNX1AN"
      }
    },
    {
      "cell_type": "code",
      "source": [
        "class Vector:\n",
        "    def __init__(self, x, y):\n",
        "        self.x = x\n",
        "        self.y = y\n",
        "\n",
        "    def __add__(self, other):\n",
        "        return Vector(self.x + other.x, self.y + other.y)\n",
        "\n",
        "    def __str__(self):\n",
        "        return f\"({self.x}, {self.y})\"\n",
        "\n",
        "vector1 = Vector(1, 2)\n",
        "vector2 = Vector(3, 4)\n",
        "\n",
        "result = vector1 + vector2\n",
        "\n",
        "print(result)"
      ],
      "metadata": {
        "colab": {
          "base_uri": "https://localhost:8080/"
        },
        "id": "B4qxHgJBYK9V",
        "outputId": "d107762c-1d84-4da8-ad7c-831682ce9c3b"
      },
      "execution_count": 5,
      "outputs": [
        {
          "output_type": "stream",
          "name": "stdout",
          "text": [
            "(4, 6)\n"
          ]
        }
      ]
    },
    {
      "cell_type": "markdown",
      "source": [
        "#Q11. Create a class Person with attributes name and age. Add a method greet() that prints \"Hello, my name is {name} and I am {age} years old.\""
      ],
      "metadata": {
        "id": "LlvL253oYoFn"
      }
    },
    {
      "cell_type": "code",
      "source": [
        "class Person:\n",
        "    def __init__(self, name, age):\n",
        "        self.name = name\n",
        "        self.age = age\n",
        "\n",
        "    def greet(self):\n",
        "        print(f\"Hello, my name is {self.name} and I am {self.age} years old.\")\n",
        "\n",
        "person = Person(\"Nitin\", 28)\n",
        "person.greet()"
      ],
      "metadata": {
        "colab": {
          "base_uri": "https://localhost:8080/"
        },
        "id": "nryEFegPYx1k",
        "outputId": "04fb93b9-eab1-459b-d587-426c01111000"
      },
      "execution_count": 8,
      "outputs": [
        {
          "output_type": "stream",
          "name": "stdout",
          "text": [
            "Hello, my name is Nitin and I am 28 years old.\n"
          ]
        }
      ]
    },
    {
      "cell_type": "markdown",
      "source": [
        "#Q12. Implement a class Student with attributes name and grades. Create a method average_grade() to compute the average of the grades."
      ],
      "metadata": {
        "id": "KCRX1vqwZcez"
      }
    },
    {
      "cell_type": "code",
      "source": [
        "class Student:\n",
        "    def __init__(self, name, grades):\n",
        "        self.name = name\n",
        "        self.grades = grades\n",
        "\n",
        "    def average_grade(self):\n",
        "        return sum(self.grades) / len(self.grades)\n",
        "\n",
        "student = Student(\"Nitin\", [85, 90, 88, 92, 87])\n",
        "print(f\"{student.name}'s average grade is: {student.average_grade():.2f}\")"
      ],
      "metadata": {
        "colab": {
          "base_uri": "https://localhost:8080/"
        },
        "id": "93GTfI9eZyTJ",
        "outputId": "dc187f0e-489d-4d3d-9785-490ad25c0357"
      },
      "execution_count": 9,
      "outputs": [
        {
          "output_type": "stream",
          "name": "stdout",
          "text": [
            "Nitin's average grade is: 88.40\n"
          ]
        }
      ]
    },
    {
      "cell_type": "markdown",
      "source": [
        "#Q13. Create a class Rectangle with methods set_dimensions() to set the dimensions and area() to calculate the area."
      ],
      "metadata": {
        "id": "lLiV3Hl9aXA5"
      }
    },
    {
      "cell_type": "code",
      "source": [
        "class Rectangle:\n",
        "    def __init__(self):\n",
        "        self.length = 0\n",
        "        self.width = 0\n",
        "\n",
        "    def set_dimensions(self, length, width):\n",
        "        self.length = length\n",
        "        self.width = width\n",
        "\n",
        "    def area(self):\n",
        "        return self.length * self.width\n",
        "\n",
        "rectangle = Rectangle()\n",
        "rectangle.set_dimensions(5, 3)\n",
        "print(f\"The area of the rectangle is: {rectangle.area()}\")"
      ],
      "metadata": {
        "colab": {
          "base_uri": "https://localhost:8080/"
        },
        "id": "dWc0lq5rae9-",
        "outputId": "6fffb4fc-2442-4163-cf73-357639b6a65f"
      },
      "execution_count": 10,
      "outputs": [
        {
          "output_type": "stream",
          "name": "stdout",
          "text": [
            "The area of the rectangle is: 15\n"
          ]
        }
      ]
    },
    {
      "cell_type": "markdown",
      "source": [
        "#Q14. Create a class Employee with a method calculate_salary() that computes the salary based on hours worked and hourly rate. Create a derived class Manager that adds a bonus to the salary."
      ],
      "metadata": {
        "id": "_9qYCosaaxAa"
      }
    },
    {
      "cell_type": "code",
      "source": [
        "class Employee:\n",
        "    def __init__(self, name, hours_worked, hourly_rate):\n",
        "        self.name = name\n",
        "        self.hours_worked = hours_worked\n",
        "        self.hourly_rate = hourly_rate\n",
        "\n",
        "    def calculate_salary(self):\n",
        "        return self.hours_worked * self.hourly_rate\n",
        "\n",
        "class Manager(Employee):\n",
        "    def __init__(self, name, hours_worked, hourly_rate, bonus):\n",
        "        super().__init__(name, hours_worked, hourly_rate)\n",
        "        self.bonus = bonus\n",
        "\n",
        "    def calculate_salary(self):\n",
        "        salary = super().calculate_salary()\n",
        "        return salary + self.bonus\n",
        "\n",
        "employee = Employee(\"John\", 40, 20)\n",
        "manager = Manager(\"Alice\", 40, 30, 500)\n",
        "\n",
        "print(f\"{employee.name}'s salary: {employee.calculate_salary()}\")\n",
        "print(f\"{manager.name}'s salary (with bonus): {manager.calculate_salary()}\")"
      ],
      "metadata": {
        "colab": {
          "base_uri": "https://localhost:8080/"
        },
        "id": "wXw_Cdy1bBJk",
        "outputId": "e23e558b-ee0b-44e7-d569-97a20c078fe1"
      },
      "execution_count": 11,
      "outputs": [
        {
          "output_type": "stream",
          "name": "stdout",
          "text": [
            "John's salary: 800\n",
            "Alice's salary (with bonus): 1700\n"
          ]
        }
      ]
    },
    {
      "cell_type": "markdown",
      "source": [
        "#Q15. Create a class Product with attributes name, price, and quantity. Implement a method total_price() that calculates the total price of the product."
      ],
      "metadata": {
        "id": "BJJBwzQnbJw5"
      }
    },
    {
      "cell_type": "code",
      "source": [
        "class Product:\n",
        "    def __init__(self, name, price, quantity):\n",
        "        self.name = name\n",
        "        self.price = price\n",
        "        self.quantity = quantity\n",
        "\n",
        "    def total_price(self):\n",
        "        return self.price * self.quantity\n",
        "\n",
        "product = Product(\"Laptop\", 1000, 3)\n",
        "print(f\"The total price of {product.name} is: {product.total_price()}\")"
      ],
      "metadata": {
        "colab": {
          "base_uri": "https://localhost:8080/"
        },
        "id": "hbIMHSXibUit",
        "outputId": "05affc94-842f-43f2-c8f4-265d2bb157cc"
      },
      "execution_count": 12,
      "outputs": [
        {
          "output_type": "stream",
          "name": "stdout",
          "text": [
            "The total price of Laptop is: 3000\n"
          ]
        }
      ]
    },
    {
      "cell_type": "markdown",
      "source": [
        "#Q16. Create a class Animal with an abstract method sound(). Create two derived classes Cow and Sheep that implement the sound() method."
      ],
      "metadata": {
        "id": "5HBv0jQAbtk-"
      }
    },
    {
      "cell_type": "code",
      "source": [
        "from abc import ABC, abstractmethod\n",
        "\n",
        "class Animal(ABC):\n",
        "    @abstractmethod\n",
        "    def sound(self):\n",
        "        pass\n",
        "\n",
        "class Cow(Animal):\n",
        "    def sound(self):\n",
        "        return \"Moo\"\n",
        "\n",
        "class Sheep(Animal):\n",
        "    def sound(self):\n",
        "        return \"Baa\"\n",
        "\n",
        "cow = Cow()\n",
        "sheep = Sheep()\n",
        "\n",
        "print(f\"Cow sound: {cow.sound()}\")\n",
        "print(f\"Sheep sound: {sheep.sound()}\")"
      ],
      "metadata": {
        "colab": {
          "base_uri": "https://localhost:8080/"
        },
        "id": "wUE2msQocI9x",
        "outputId": "d9f31c6d-d500-49ea-8f2d-addc6326bdc3"
      },
      "execution_count": 13,
      "outputs": [
        {
          "output_type": "stream",
          "name": "stdout",
          "text": [
            "Cow sound: Moo\n",
            "Sheep sound: Baa\n"
          ]
        }
      ]
    },
    {
      "cell_type": "markdown",
      "source": [
        "#Q17. Create a class Book with attributes title, author, and year_published. Add a method get_book_info() that returns a formatted string with the book's details.\n",
        "\n"
      ],
      "metadata": {
        "id": "OTlD0BE5ceIp"
      }
    },
    {
      "cell_type": "code",
      "source": [
        "class Book:\n",
        "    def __init__(self, title, author, year_published):\n",
        "        self.title = title\n",
        "        self.author = author\n",
        "        self.year_published = year_published\n",
        "\n",
        "    def get_book_info(self):\n",
        "        return f\"Title: {self.title}\\nAuthor: {self.author}\\nYear Published: {self.year_published}\"\n",
        "\n",
        "book = Book(\"1984\", \"George Orwell\", 1949)\n",
        "print(book.get_book_info())"
      ],
      "metadata": {
        "colab": {
          "base_uri": "https://localhost:8080/"
        },
        "id": "H8rxcXN6clF8",
        "outputId": "01b0e18b-34c0-48b5-918e-5e345438e2f1"
      },
      "execution_count": 14,
      "outputs": [
        {
          "output_type": "stream",
          "name": "stdout",
          "text": [
            "Title: 1984\n",
            "Author: George Orwell\n",
            "Year Published: 1949\n"
          ]
        }
      ]
    },
    {
      "cell_type": "markdown",
      "source": [
        "#Q18. Create a class House with attributes address and price. Create a derived class Mansion that adds an attribute number_of_rooms."
      ],
      "metadata": {
        "id": "Lv0H-mqYcxK9"
      }
    },
    {
      "cell_type": "code",
      "source": [
        "class House:\n",
        "    def __init__(self, address, price):\n",
        "        self.address = address\n",
        "        self.price = price\n",
        "\n",
        "    def get_info(self):\n",
        "        return f\"Address: {self.address}\\nPrice: ${self.price}\"\n",
        "\n",
        "class Mansion(House):\n",
        "    def __init__(self, address, price, number_of_rooms):\n",
        "        super().__init__(address, price)\n",
        "        self.number_of_rooms = number_of_rooms\n",
        "\n",
        "    def get_info(self):\n",
        "        base_info = super().get_info()\n",
        "        return f\"{base_info}\\nNumber of Rooms: {self.number_of_rooms}\"\n",
        "\n",
        "house = House(\"123 Main St\", 300000)\n",
        "mansion = Mansion(\"456 Luxury Rd\", 1500000, 10)\n",
        "\n",
        "print(\"House Info:\\n\", house.get_info())\n",
        "print(\"\\nMansion Info:\\n\", mansion.get_info())"
      ],
      "metadata": {
        "colab": {
          "base_uri": "https://localhost:8080/"
        },
        "id": "ahrU5MqLc4cr",
        "outputId": "0396015f-e970-4dc4-e97d-5aaadcf2fb64"
      },
      "execution_count": 15,
      "outputs": [
        {
          "output_type": "stream",
          "name": "stdout",
          "text": [
            "House Info:\n",
            " Address: 123 Main St\n",
            "Price: $300000\n",
            "\n",
            "Mansion Info:\n",
            " Address: 456 Luxury Rd\n",
            "Price: $1500000\n",
            "Number of Rooms: 10\n"
          ]
        }
      ]
    }
  ]
}