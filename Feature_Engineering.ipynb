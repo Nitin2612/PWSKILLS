{
  "nbformat": 4,
  "nbformat_minor": 0,
  "metadata": {
    "colab": {
      "provenance": []
    },
    "kernelspec": {
      "name": "python3",
      "display_name": "Python 3"
    },
    "language_info": {
      "name": "python"
    }
  },
  "cells": [
    {
      "cell_type": "markdown",
      "source": [
        "# **Assignment Questions**\n",
        "\n",
        "---\n",
        "\n"
      ],
      "metadata": {
        "id": "hY0O2a1PfXnx"
      }
    },
    {
      "cell_type": "markdown",
      "source": [
        "# Q1. What is a parameter?"
      ],
      "metadata": {
        "id": "TUDuZYOofmRO"
      }
    },
    {
      "cell_type": "markdown",
      "source": [
        "\n",
        "# A parameter is a variable used in mathematical models, functions, or algorithms that defines or limits a system or process.\n",
        "# It can be seen as an input value that influences the outcome of an equation or function.\n",
        "\n",
        "## Contexts where Parameters are Used\n",
        "\n",
        "- **Mathematics**:\n",
        "  - A parameter is a constant in an equation or function that can vary but remains fixed for a given scenario.\n",
        "  - Example: In the linear equation `y = mx + b`, `m` and `b` are parameters.\n",
        "\n",
        "- **Programming**:\n",
        "  - In functions or methods, a parameter is a variable that is passed into the function to provide input values. These can be used inside the function to perform operations.\n",
        "  - Example:\n",
        "    ```python\n",
        "    def greet(name):  # 'name' is a parameter\n",
        "        print(f\"Hello, {name}!\")\n",
        "    greet(\"Alice\")\n",
        "    ```\n",
        "\n",
        "- **Statistics**:\n",
        "  - In statistics, parameters are values that summarize data for an entire population, such as the mean or standard deviation of a population.\n",
        "  - Example: The population mean is a parameter, while the sample mean is a statistic.\n",
        "\n",
        "- **Engineering and Physics**:\n",
        "  - Parameters often refer to properties or conditions that affect a system's behavior, such as temperature, pressure, or resistance.\n"
      ],
      "metadata": {
        "id": "DtpgY5R6gu4N"
      }
    },
    {
      "cell_type": "markdown",
      "source": [
        "# Q2. What is correlation? What does negative correlation mean?"
      ],
      "metadata": {
        "id": "CIUiYyUNg64B"
      }
    },
    {
      "cell_type": "markdown",
      "source": [
        "# Correlation is a statistical measure that describes the strength and direction of a relationship between two or more variables.\n",
        "# It quantifies how changes in one variable are associated with changes in another.\n",
        "\n",
        "## Types of Correlation\n",
        "\n",
        "- **Positive Correlation**:\n",
        "  - Occurs when two variables move in the same direction. As one variable increases, the other also increases, or as one decreases, the other decreases.\n",
        "  - Example: Height and weight generally have a positive correlation — taller people tend to be heavier.\n",
        "\n",
        "- **Negative Correlation**:\n",
        "  - Occurs when two variables move in opposite directions. As one variable increases, the other decreases, and vice versa.\n",
        "  - Example: The number of hours spent watching TV and academic performance often have a negative correlation — more hours watching TV might correlate with lower grades.\n",
        "\n",
        "- **Zero or No Correlation**:\n",
        "  - Occurs when there is no discernible relationship between two variables. Changes in one variable do not affect the other.\n",
        "  - Example: There is likely no correlation between shoe size and intelligence.\n",
        "\n",
        "## Measuring Correlation\n",
        "\n",
        "- **Pearson’s Correlation Coefficient (r)**:\n",
        "  - Measures the linear relationship between two variables. It ranges from -1 to +1.\n",
        "  - `r = +1` indicates a perfect positive correlation, `r = -1` indicates a perfect negative correlation, and `r = 0` indicates no linear correlation.\n",
        "\n",
        "- **Spearman’s Rank Correlation**:\n",
        "  - Measures the strength and direction of the monotonic relationship between two variables, used when the relationship isn’t linear or the data is ordinal.\n",
        "\n",
        "# Negative correlation refers to a relationship between two variables where, as one variable increases, the other decreases, and vice versa.\n",
        "# It indicates an inverse relationship between the variables.\n",
        "\n",
        "## Key Characteristics of Negative Correlation\n",
        "\n",
        "- **Inverse Relationship**:\n",
        "  - When one variable goes up, the other tends to go down.\n",
        "  - For example, as the temperature increases, the amount of clothing worn may decrease.\n",
        "\n",
        "- **Pearson’s Correlation Coefficient**:\n",
        "  - The Pearson correlation coefficient for negative correlation ranges from 0 to -1.\n",
        "  - The closer the value is to -1, the stronger the negative correlation.\n",
        "  - Example: `r = -0.8` indicates a strong negative correlation.\n",
        "\n",
        "- **Example in Real Life**:\n",
        "  - **Price and Demand**: There is typically a negative correlation between the price of a product and its demand. As prices increase, demand tends to decrease, assuming other factors remain constant.\n",
        "  - **Speed and Travel Time**: As speed increases, the time taken to travel a fixed distance usually decreases.\n"
      ],
      "metadata": {
        "id": "iyvRHJ7qg_gz"
      }
    },
    {
      "cell_type": "markdown",
      "source": [
        "# Q3. Define Machine Learning. What are the main components in Machine Learning?"
      ],
      "metadata": {
        "id": "sxWf6djrhHKe"
      }
    },
    {
      "cell_type": "markdown",
      "source": [
        "# Machine Learning (ML) is a subset of artificial intelligence (AI) that involves the development of algorithms and statistical models\n",
        "# that allow computers to improve their performance on tasks through experience (data) without being explicitly programmed.\n",
        "# It enables systems to learn patterns and make predictions or decisions based on data.\n",
        "\n",
        "## Main Components in Machine Learning\n",
        "\n",
        "- **Data**:\n",
        "  - Data is the foundation of machine learning. The more relevant and high-quality data the algorithm has, the better it can learn and make predictions.\n",
        "  - Types of data: structured (e.g., spreadsheets, databases) and unstructured (e.g., text, images, audio).\n",
        "\n",
        "- **Algorithms**:\n",
        "  - Machine learning algorithms are mathematical models that learn from data. They can identify patterns and make predictions or decisions based on input data.\n",
        "  - Common algorithms include Linear Regression, Decision Trees, k-Nearest Neighbors (k-NN), and Neural Networks.\n",
        "\n",
        "- **Model**:\n",
        "  - A model is the result of applying a machine learning algorithm to data. It is the learned representation of the data that can make predictions or decisions based on new data.\n",
        "  - The model is trained using historical data and is later used for testing and prediction.\n",
        "\n",
        "- **Training**:\n",
        "  - The process of feeding data to an algorithm and allowing it to learn from the patterns in the data is called training.\n",
        "  - During training, the model adjusts its parameters to reduce error and improve prediction accuracy.\n",
        "\n",
        "- **Features**:\n",
        "  - Features are individual measurable properties or characteristics of the data being used. They are the inputs that the model uses to make predictions.\n",
        "  - For example, in predicting house prices, features could include the number of bedrooms, location, and square footage.\n",
        "\n",
        "- **Labels (for Supervised Learning)**:\n",
        "  - Labels are the output or target values that the model aims to predict. In supervised learning, the algorithm is trained with both input data (features) and output data (labels).\n",
        "  - For example, in a classification task, the label could be \"spam\" or \"not spam\" for emails.\n",
        "\n",
        "- **Loss Function**:\n",
        "  - A loss function is used to evaluate how well the model's predictions match the actual values. It helps guide the model during training to minimize errors.\n",
        "  - For example, Mean Squared Error (MSE) is often used for regression tasks.\n",
        "\n",
        "- **Evaluation Metrics**:\n",
        "  - After training the model, evaluation metrics are used to measure the model's performance, such as accuracy, precision, recall, and F1-score in classification tasks.\n",
        "  - In regression tasks, metrics like RMSE (Root Mean Squared Error) are used.\n",
        "\n",
        "- **Testing**:\n",
        "  - Testing involves evaluating the trained model on unseen data (test data) to assess its performance and generalization ability.\n"
      ],
      "metadata": {
        "id": "FXr_8dZVh-mq"
      }
    },
    {
      "cell_type": "markdown",
      "source": [
        "# Q4. How does loss value help in determining whether the model is good or not?"
      ],
      "metadata": {
        "id": "WjOenWouiDRy"
      }
    },
    {
      "cell_type": "markdown",
      "source": [
        "# The loss value, also known as the loss function, is a measure of how well or poorly a machine learning model's predictions match the actual values (ground truth).\n",
        "# It quantifies the difference between predicted values and actual values, and the goal is to minimize this difference during training.\n",
        "\n",
        "## Role of Loss in Model Evaluation\n",
        "\n",
        "- **Indicates Model Performance**:\n",
        "  - A lower loss value indicates that the model's predictions are closer to the actual values, meaning the model is performing well.\n",
        "  - A higher loss value suggests that the model's predictions are far from the actual values, indicating poor performance.\n",
        "\n",
        "- **Guides the Training Process**:\n",
        "  - During training, the loss value is used to adjust the model's parameters (weights) in the right direction, typically through optimization techniques like Gradient Descent.\n",
        "  - The optimizer aims to minimize the loss function by adjusting model parameters in each iteration.\n",
        "\n",
        "- **Helps in Model Comparison**:\n",
        "  - The loss value can be used to compare different models or configurations. The model with the lowest loss (or smallest error) is generally considered better.\n",
        "  - However, it is important to consider whether the model is underfitting or overfitting, which requires a balance between loss and other evaluation metrics.\n",
        "\n",
        "- **Prevents Overfitting/Underfitting**:\n",
        "  - **Overfitting**: If the loss on training data is very low but the loss on validation/test data is high, the model may be overfitting, meaning it has learned the training data too well but is not generalizing effectively.\n",
        "  - **Underfitting**: If the loss is high on both training and test data, the model may be underfitting, meaning it is too simple to capture the underlying patterns in the data.\n",
        "\n",
        "## Types of Loss Functions\n",
        "\n",
        "- **Mean Squared Error (MSE)**:\n",
        "  - Commonly used in regression tasks, it calculates the average squared difference between predicted and actual values.\n",
        "  \n",
        "- **Cross-Entropy Loss (Log Loss)**:\n",
        "  - Commonly used in classification tasks, it measures the performance of a classification model whose output is a probability value between 0 and 1.\n"
      ],
      "metadata": {
        "id": "eOyiPuDaiVCU"
      }
    },
    {
      "cell_type": "markdown",
      "source": [
        "# Q5. What are continuous and categorical variables?"
      ],
      "metadata": {
        "id": "PfsXQieaiaaf"
      }
    },
    {
      "cell_type": "markdown",
      "source": [
        "## Continuous Variables\n",
        "\n",
        "### Definition:\n",
        "- Continuous variables are numeric variables that can take any value within a given range. These values are measured and can have infinite possibilities within that range.\n",
        "- They represent quantities or measurements and can be broken down into finer increments.\n",
        "  \n",
        "### Characteristics:\n",
        "- **Infinite Possibilities**: Continuous variables can take any value within a specified range, including fractions and decimals.\n",
        "- **Measurement**: These variables are often associated with physical quantities like height, weight, temperature, or time.\n",
        "\n",
        "### Examples:\n",
        "- **Height**: A person’s height can be 170.5 cm, 170.55 cm, 170.555 cm, and so on.\n",
        "- **Temperature**: A temperature can be 20.3°C, 20.32°C, or even more precisely measured.\n",
        "- **Distance**: Distance traveled, e.g., 12.3 km, 12.34 km.\n",
        "\n",
        "### Types:\n",
        "- **Interval Variables**: A type of continuous variable where the differences between values are meaningful, but there is no true zero (e.g., temperature in Celsius).\n",
        "- **Ratio Variables**: These also have a true zero, where zero means none of the quantity is present (e.g., weight, height, time).\n",
        "\n",
        "## Categorical Variables\n",
        "\n",
        "### Definition:\n",
        "- Categorical variables, also known as qualitative variables, represent categories or groups. These variables take values that are labels or names, and each category represents a distinct group or class.\n",
        "\n",
        "### Characteristics:\n",
        "- **Distinct Groups**: The values are distinct categories, and there is no inherent order or ranking between them in some cases (nominal data).\n",
        "- **Non-numeric**: Categorical variables are typically non-numeric, though they can be encoded as numbers for processing purposes (e.g., 1 for \"Yes\", 0 for \"No\").\n",
        "\n",
        "### Types of Categorical Variables:\n",
        "- **Nominal Variables**: These represent categories with no intrinsic order. For example, colors, countries, or types of animals.\n",
        "  - Example: Color of cars (Red, Blue, Green)\n",
        "  \n",
        "- **Ordinal Variables**: These represent categories with an inherent order or ranking, but the differences between the categories are not measurable.\n",
        "  - Example: Education level (High School, Bachelor’s, Master’s, PhD)\n",
        "\n",
        "### Examples:\n",
        "- **Gender**: Male, Female, Other\n",
        "- **Marital Status**: Single, Married, Divorced, Widowed\n",
        "- **Color**: Red, Blue, Green\n"
      ],
      "metadata": {
        "id": "WRvzSEW6ifz0"
      }
    },
    {
      "cell_type": "markdown",
      "source": [
        "# Q6. How do we handle categorical variables in Machine Learning? What are the common Techniques?"
      ],
      "metadata": {
        "id": "ZOzwAX-Tipes"
      }
    },
    {
      "cell_type": "markdown",
      "source": [
        "- Machine learning algorithms typically work with numerical data, so categorical variables need to be converted into a numeric format to be processed by the model.\n",
        "- The goal is to represent categories in a way that preserves their meaning and ensures compatibility with the machine learning model.\n",
        "\n",
        "## Common Techniques for Handling Categorical Variables\n",
        "\n",
        "- **Label Encoding**:\n",
        "  - Label encoding assigns a unique integer value to each category. This method is useful when there is an inherent order in the categories (ordinal data).\n",
        "  - Example:\n",
        "    - Categories: ['Low', 'Medium', 'High']\n",
        "    - Encoded as: [0, 1, 2]\n",
        "  - However, for nominal categories (without an inherent order), this method may lead to incorrect assumptions of ranking.\n",
        "\n",
        "- **One-Hot Encoding**:\n",
        "  - One-hot encoding creates binary columns for each category and assigns a 1 or 0 to indicate the presence or absence of a category.\n",
        "  - This technique avoids any ordinal assumption and is particularly useful for nominal variables (without any ranking or order).\n",
        "  - Example:\n",
        "    - Categories: ['Red', 'Blue', 'Green']\n",
        "    - One-hot encoded columns:\n",
        "      - Red: [1, 0, 0]\n",
        "      - Blue: [0, 1, 0]\n",
        "      - Green: [0, 0, 1]\n",
        "  - This method increases the dimensionality of the data but is effective for representing categorical features.\n",
        "\n",
        "- **Binary Encoding**:\n",
        "  - Binary encoding is a compromise between label encoding and one-hot encoding. It converts categories into binary values, using fewer columns than one-hot encoding.\n",
        "  - Suitable when there are many categories and one-hot encoding would create a large number of columns.\n",
        "  - Example:\n",
        "    - Categories: ['A', 'B', 'C', 'D']\n",
        "    - Encoded as: [00, 01, 10, 11] (binary representation)\n",
        "\n",
        "- **Frequency or Count Encoding**:\n",
        "  - Frequency encoding assigns an integer based on the frequency of each category in the data. Categories that appear more frequently are assigned higher values.\n",
        "  - Example:\n",
        "    - Categories: ['Apple', 'Banana', 'Apple', 'Cherry']\n",
        "    - Frequency encoded values: Apple = 2, Banana = 1, Cherry = 1\n",
        "  - This method is useful when the number of unique categories is large, and some categories are rare.\n",
        "\n",
        "- **Target Encoding** (Mean Encoding):\n",
        "  - Target encoding assigns to each category the mean of the target variable for that category.\n",
        "  - Example: If the target variable is house price and the categorical variable is the neighborhood, the mean house price for each neighborhood is assigned to the category.\n",
        "  - This method can work well in some cases but needs to be handled carefully to avoid data leakage and overfitting.\n",
        "\n",
        "- **Hashing (Feature Hashing)**:\n",
        "  - Hashing involves applying a hash function to categorical data to convert it into a fixed-size numeric value.\n",
        "  - This method is useful when dealing with high-cardinality categorical variables, i.e., when there are many unique categories.\n",
        "  - It is a space-efficient technique but may cause hash collisions (two different categories being mapped to the same hash value).\n"
      ],
      "metadata": {
        "id": "QVm74hrei5_D"
      }
    },
    {
      "cell_type": "markdown",
      "source": [
        "# Q7. What do you mean by training and testing a dataset?"
      ],
      "metadata": {
        "id": "UM4M94bSjGfG"
      }
    },
    {
      "cell_type": "markdown",
      "source": [
        "## Training a Dataset\n",
        "\n",
        "### Definition:\n",
        "- Training a dataset refers to the process of using a portion of the dataset to teach the machine learning model how to make predictions or classifications.\n",
        "- During training, the model learns from the data by adjusting its internal parameters to minimize the difference between predicted values and actual values.\n",
        "\n",
        "### Purpose:\n",
        "- The model uses training data to learn patterns, relationships, and features in the dataset. This data includes both the input features (independent variables) and the target labels (dependent variables).\n",
        "\n",
        "### Process:\n",
        "- The training data is fed into the model, and the model makes predictions based on the input data.\n",
        "- The difference between the predicted and actual output is computed using a loss function (e.g., Mean Squared Error or Cross-Entropy Loss).\n",
        "- The model's parameters are adjusted using optimization algorithms (like Gradient Descent) to minimize the loss.\n",
        "\n",
        "### Example:\n",
        "- **Input data**: Features like age, height, weight, etc.\n",
        "- **Target labels**: Output labels like disease classification (e.g., \"Yes\" or \"No\").\n",
        "\n",
        "## Testing a Dataset\n",
        "\n",
        "### Definition:\n",
        "- Testing a dataset refers to evaluating the model's performance on a separate portion of the dataset that was not used during training.\n",
        "- This set of data helps assess how well the model generalizes to new, unseen data.\n",
        "\n",
        "### Purpose:\n",
        "- Testing helps verify the effectiveness of the trained model in making accurate predictions on data it has never encountered.\n",
        "- It gives insights into how well the model can perform in real-world scenarios, where it will face new data.\n",
        "\n",
        "### Process:\n",
        "- After the model is trained, it is applied to the testing dataset to predict outcomes.\n",
        "- The predicted values are compared with the actual target labels, and evaluation metrics like accuracy, precision, recall, F1-score, etc., are used to assess the model's performance.\n",
        "\n",
        "### Example:\n",
        "- **Testing data**: A set of unseen data points (e.g., data from different patients or test subjects).\n",
        "- **Predictions**: The model's output (e.g., predicted disease status).\n",
        "\n",
        "## Key Differences Between Training and Testing\n",
        "\n",
        "- **Training Data**:\n",
        "  - Used to fit and train the model.\n",
        "  - The model learns from this data.\n",
        "  - Typically consists of a larger portion of the dataset.\n",
        "  \n",
        "- **Testing Data**:\n",
        "  - Used to evaluate the model's performance.\n",
        "  - Provides an indication of how well the model generalizes.\n",
        "  - Typically consists of a smaller portion of the dataset that the model has never seen before.\n"
      ],
      "metadata": {
        "id": "NOHZNKZSjL6R"
      }
    },
    {
      "cell_type": "markdown",
      "source": [
        "# Q8. What is sklearn.preprocessing?"
      ],
      "metadata": {
        "id": "holG8NOgjVDF"
      }
    },
    {
      "cell_type": "markdown",
      "source": [
        "## Definition:\n",
        "- `sklearn.preprocessing` is a module in the **Scikit-learn** library that provides several functions and classes for preprocessing data in machine learning workflows.\n",
        "- It is used to scale, normalize, encode, and transform data to make it suitable for machine learning algorithms.\n",
        "\n",
        "## Main Functions and Classes in `sklearn.preprocessing`\n",
        "\n",
        "- **StandardScaler**:\n",
        "  - **Purpose**: Scales the data so that it has a mean of 0 and a standard deviation of 1.\n",
        "  - **Use case**: It is often used when the data has varying scales (e.g., one feature in the range of 1-1000, and another in the range of 0-1).\n",
        "  - **How it works**: The formula for standard scaling is:\n",
        "    - `X_scaled = (X - mean(X)) / std(X)`\n",
        "\n",
        "- **MinMaxScaler**:\n",
        "  - **Purpose**: Scales the data to a fixed range, usually [0, 1].\n",
        "  - **Use case**: Useful when you want to normalize features to a specific range for machine learning algorithms like neural networks.\n",
        "  - **How it works**: The formula for min-max scaling is:\n",
        "    - `X_scaled = (X - min(X)) / (max(X) - min(X))`\n",
        "\n",
        "- **Normalizer**:\n",
        "  - **Purpose**: Scales each individual sample (row) so that its norm (magnitude) is 1. This is often used when working with text data or sparse matrices.\n",
        "  - **Use case**: It normalizes data points individually rather than the entire dataset.\n",
        "  - **How it works**: The formula is:\n",
        "    - `X_normalized = X / ||X||`\n",
        "\n",
        "- **RobustScaler**:\n",
        "  - **Purpose**: Scales data using the median and interquartile range (IQR). It is less sensitive to outliers compared to StandardScaler.\n",
        "  - **Use case**: When your data contains outliers that could significantly affect the scaling.\n",
        "  - **How it works**: The formula is:\n",
        "    - `X_scaled = (X - median(X)) / IQR(X)`\n",
        "\n",
        "- **OneHotEncoder**:\n",
        "  - **Purpose**: Converts categorical variables into a binary matrix (one-hot encoding), which is useful for representing nominal data in a way that machine learning algorithms can process.\n",
        "  - **Use case**: For categorical variables that do not have a meaningful order (e.g., color, city).\n",
        "  - **How it works**: Each category is transformed into a new binary column, where `1` indicates the presence of the category and `0` indicates its absence.\n",
        "\n",
        "- **LabelEncoder**:\n",
        "  - **Purpose**: Encodes labels into numeric format, typically used for encoding target variables (dependent variable) with a categorical nature.\n",
        "  - **Use case**: When you need to convert the target labels into numeric values (e.g., 'cat' -> 0, 'dog' -> 1).\n",
        "  - **How it works**: It assigns an integer value to each unique category.\n",
        "\n",
        "- **Binarizer**:\n",
        "  - **Purpose**: Binarizes data by setting a threshold; values above the threshold are set to 1, and values below are set to 0.\n",
        "  - **Use case**: When you need to convert continuous variables into binary values (e.g., 0 or 1).\n",
        "  - **How it works**: The formula is:\n",
        "    - `X_binary = (X > threshold)`\n",
        "\n",
        "- **PolynomialFeatures**:\n",
        "  - **Purpose**: Generates polynomial and interaction features, which is useful when working with linear models and capturing non-linear relationships.\n",
        "  - **Use case**: To create new features by raising the original features to different powers or by creating interaction terms between them.\n",
        "  - **How it works**: It produces new features like `X1^2`, `X1*X2`, and so on.\n"
      ],
      "metadata": {
        "id": "HejNpGPPjdLp"
      }
    },
    {
      "cell_type": "markdown",
      "source": [
        "# Q9. What is a Test set?"
      ],
      "metadata": {
        "id": "2zskOGIPjkUR"
      }
    },
    {
      "cell_type": "markdown",
      "source": [
        "## Definition:\n",
        "- A **test set** is a portion of the dataset that is **separate** from the training data and is used to evaluate the performance of a machine learning model after it has been trained.\n",
        "- It serves as an independent dataset to assess how well the model generalizes to new, unseen data.\n",
        "\n",
        "## Purpose of a Test Set:\n",
        "- **Evaluate Model Performance**: The primary purpose of a test set is to evaluate the model's ability to make accurate predictions on data that it has never seen before. This helps ensure that the model is not just memorizing the training data but is capable of generalizing to new, unseen data.\n",
        "- **Prevent Overfitting**: By using a separate test set, you can assess if the model has overfitted to the training data (i.e., it performs well on training data but poorly on new data).\n",
        "\n",
        "## How It Works:\n",
        "1. **Split the Dataset**: The dataset is typically split into training, validation, and test sets. The test set is set aside and not used during the training process.\n",
        "   - **Training Set**: Used to train the model.\n",
        "   - **Validation Set**: Used to tune hyperparameters and evaluate model performance during training.\n",
        "   - **Test Set**: Used to evaluate the model's performance after the training process is complete.\n",
        "\n",
        "2. **Model Evaluation**: Once the model has been trained on the training set, it is tested on the test set by making predictions and comparing the predictions with the actual target values (labels). Evaluation metrics like accuracy, precision, recall, and F1-score are commonly used to assess model performance.\n",
        "\n",
        "## Size of the Test Set:\n",
        "- The size of the test set can vary, but typically around **20%-30%** of the total dataset is set aside for testing. This can depend on the total amount of data available.\n",
        "- In some cases, **cross-validation** techniques are used, where the dataset is split into multiple subsets (folds) for more robust testing.\n",
        "\n",
        "## Example:\n",
        "- **Dataset**: A dataset containing features such as age, gender, and income, and a target label like 'purchased' (whether a customer bought a product).\n",
        "- **Test Set**: A portion of this dataset that is not used during model training and is instead used to evaluate the model's performance on new, unseen data.\n"
      ],
      "metadata": {
        "id": "hERbl1NLjrbK"
      }
    },
    {
      "cell_type": "markdown",
      "source": [
        "# Q10. How do we split data for model fitting (training and testing) in Python?\n",
        "# How do you approach a Machine Learning problem?"
      ],
      "metadata": {
        "id": "x-LoMIgyj76o"
      }
    },
    {
      "cell_type": "markdown",
      "source": [
        "### Definition:\n",
        "- In Python, the **`train_test_split`** function from the `sklearn.model_selection` module is commonly used to split a dataset into training and testing sets.\n",
        "\n",
        "### Syntax:\n",
        "from sklearn.model_selection import train_test_split\n",
        "\n",
        "X_train, X_test, y_train, y_test = train_test_split(X, y, test_size=0.2, random_state=42)"
      ],
      "metadata": {
        "id": "QR05A8RQk2VP"
      }
    },
    {
      "cell_type": "code",
      "source": [
        "import pandas as pd\n",
        "from sklearn.model_selection import train_test_split\n",
        "\n",
        "from sklearn.datasets import load_iris\n",
        "data = load_iris()\n",
        "X = pd.DataFrame(data.data, columns=data.feature_names)\n",
        "y = pd.Series(data.target)\n",
        "\n",
        "X_train, X_test, y_train, y_test = train_test_split(\n",
        "    X,\n",
        "    y,\n",
        "    test_size=0.2,\n",
        "    random_state=42,\n",
        "    stratify=y\n",
        ")\n",
        "\n",
        "print(\"Training samples:\", X_train.shape[0])\n",
        "print(\"Testing samples:\", X_test.shape[0])"
      ],
      "metadata": {
        "colab": {
          "base_uri": "https://localhost:8080/"
        },
        "id": "nYiwRthple-T",
        "outputId": "470ef6cd-9ad9-4982-fe60-20aadda1855d"
      },
      "execution_count": null,
      "outputs": [
        {
          "output_type": "stream",
          "name": "stdout",
          "text": [
            "Training samples: 120\n",
            "Testing samples: 30\n"
          ]
        }
      ]
    },
    {
      "cell_type": "markdown",
      "source": [
        "# Approaching a Machine Learning Problem\n",
        "\n",
        "## Steps for Approaching a Machine Learning Problem:\n",
        "\n",
        "- **Define the Problem**:\n",
        "  - Understand the business problem or the task you are trying to solve (e.g., classification, regression, clustering).\n",
        "  - Clearly define the objective of the model (e.g., predicting customer churn, classifying images).\n",
        "\n",
        "- **Collect and Understand the Data**:\n",
        "  - Collect the necessary dataset(s).\n",
        "  - Perform **exploratory data analysis (EDA)** to understand the features, target variable, distribution, correlations, and any missing or outlier data.\n",
        "\n",
        "- **Preprocess the Data**:\n",
        "  - **Handle missing data**: Use imputation or removal methods to deal with missing values.\n",
        "  - **Feature engineering**: Create new features or modify existing ones to improve model performance.\n",
        "  - **Scaling and normalization**: Scale numerical features (e.g., using `StandardScaler`, `MinMaxScaler`).\n",
        "  - **Encoding categorical variables**: Apply one-hot encoding or label encoding for categorical features.\n",
        "  - **Split the data**: Use `train_test_split` to divide the data into training and testing sets.\n",
        "\n",
        "- **Choose the Right Model**:\n",
        "  - Select a machine learning algorithm based on the type of problem (e.g., Logistic Regression for classification, Linear Regression for regression, K-Means for clustering).\n",
        "  - Consider factors like the size of the data, feature types, and whether the problem is linear or non-linear.\n",
        "\n",
        "- **Train the Model**:\n",
        "  - Fit the chosen model to the training data and adjust model parameters (hyperparameters) as necessary.\n",
        "  - You can use techniques like **cross-validation** for hyperparameter tuning.\n",
        "\n",
        "- **Evaluate the Model**:\n",
        "  - Use the test set (or validation set) to evaluate the model's performance.\n",
        "  - Use appropriate evaluation metrics like accuracy, precision, recall, F1-score, or mean squared error (depending on the problem type).\n",
        "\n",
        "- **Improve the Model**:\n",
        "  - If the model's performance is unsatisfactory, consider improving it by:\n",
        "    - Trying different algorithms.\n",
        "    - Tuning hyperparameters (using grid search or random search).\n",
        "    - Adding or removing features (feature selection or engineering).\n",
        "    - Handling class imbalance (if any).\n",
        "    - Collecting more data (if applicable).\n",
        "\n",
        "- **Deploy the Model**:\n",
        "  - Once the model is performing well, deploy it into production for real-time predictions or decision-making.\n",
        "\n",
        "- **Monitor and Maintain the Model**:\n",
        "  - Continuously monitor the model's performance after deployment to ensure it remains effective.\n",
        "  - Update the model periodically as new data becomes available.\n"
      ],
      "metadata": {
        "id": "1ZGnqoFYlkz_"
      }
    },
    {
      "cell_type": "markdown",
      "source": [
        "# Q11. Why do we have to perform EDA before fitting a model to the data?"
      ],
      "metadata": {
        "id": "6rXhUathlptz"
      }
    },
    {
      "cell_type": "markdown",
      "source": [
        "## What is EDA?\n",
        "- **Exploratory Data Analysis (EDA)** is the process of analyzing and visualizing data to gain insights and understand the underlying structure before applying machine learning algorithms.\n",
        "- It helps in identifying patterns, trends, outliers, and potential issues with the data that could impact model performance.\n",
        "\n",
        "## Reasons for Performing EDA Before Fitting a Model:\n",
        "\n",
        "- **Understanding the Data**:\n",
        "  - EDA allows you to get a clear understanding of the data’s distribution, types of features (numerical, categorical), and their relationships with each other.\n",
        "  - It helps in determining which features are relevant to the target variable and should be included in the model.\n",
        "\n",
        "- **Handling Missing Values**:\n",
        "  - During EDA, you can identify any missing values in the dataset.\n",
        "  - You can then decide how to handle them, such as by using imputation techniques or removing rows/columns with missing data, ensuring that the model isn’t affected by incomplete information.\n",
        "\n",
        "- **Identifying Outliers**:\n",
        "  - Outliers can distort model performance by affecting algorithms that are sensitive to extreme values (e.g., linear regression, k-means clustering).\n",
        "  - EDA helps in identifying and deciding how to handle outliers—whether to remove, adjust, or retain them based on the problem context.\n",
        "\n",
        "- **Feature Distribution and Relationships**:\n",
        "  - By visualizing features, you can see if any feature transformations (like scaling or normalization) are needed for certain algorithms to perform optimally (e.g., decision trees don’t require scaling, but algorithms like k-NN or SVM do).\n",
        "  - EDA also reveals correlations and potential multicollinearity among features, which may need to be addressed before model fitting.\n",
        "\n",
        "- **Choosing the Right Model**:\n",
        "  - EDA helps you understand the structure of the data, such as whether the data is linear, non-linear, or categorical.\n",
        "  - This understanding helps in selecting the most appropriate machine learning model (e.g., logistic regression for a binary classification problem, or decision trees for handling non-linear relationships).\n",
        "\n",
        "- **Understanding Data Types**:\n",
        "  - It helps identify the types of features—whether they are numerical, categorical, or ordinal—and decide on suitable encoding methods for categorical variables (e.g., one-hot encoding, label encoding).\n",
        "  \n",
        "- **Improving Model Interpretability**:\n",
        "  - Visualizations and summaries from EDA can provide a better understanding of the model’s behavior after it is trained, leading to better insights into how the model makes predictions.\n",
        "\n",
        "- **Data Cleaning**:\n",
        "  - EDA helps to detect and correct errors or inconsistencies in the data, such as duplicates, wrong data types, or incorrectly formatted data.\n",
        "  - It is essential to ensure the quality of the data before feeding it into a model.\n",
        "\n",
        "## Example:\n",
        "- If your target variable is highly imbalanced (e.g., 90% negative and 10% positive cases), performing EDA will help you identify this and take steps like **resampling techniques** or using **weighted loss functions** in your model.\n"
      ],
      "metadata": {
        "id": "0-g0-_ewlwuu"
      }
    },
    {
      "cell_type": "markdown",
      "source": [
        "# Q12. What is correlation?"
      ],
      "metadata": {
        "id": "VapuQfeDl8B4"
      }
    },
    {
      "cell_type": "markdown",
      "source": [
        "## Definition:\n",
        "- **Correlation** is a statistical measure that describes the strength and direction of the relationship between two or more variables.\n",
        "- It helps in determining whether an increase or decrease in one variable leads to an increase or decrease in another variable.\n",
        "\n",
        "## Types of Correlation:\n",
        "- **Positive Correlation**:\n",
        "  - When two variables move in the same direction, i.e., as one variable increases, the other also increases.\n",
        "  - Example: The more time you spend studying, the higher your exam scores may be.\n",
        "  \n",
        "- **Negative Correlation**:\n",
        "  - When two variables move in opposite directions, i.e., as one variable increases, the other decreases.\n",
        "  - Example: The more hours spent watching TV, the lower your productivity could be.\n",
        "\n",
        "- **No Correlation**:\n",
        "  - When there is no relationship between the variables, meaning the change in one variable does not affect the other.\n",
        "  - Example: The color of your shirt and your height are typically unrelated.\n",
        "\n",
        "## Correlation Coefficient:\n",
        "- **Pearson Correlation Coefficient (r)**: This is the most commonly used method for measuring linear correlation between two continuous variables.\n",
        "  - **Value Range**: The value of the Pearson correlation coefficient ranges from **-1 to +1**.\n",
        "    - **+1**: Perfect positive correlation.\n",
        "    - **-1**: Perfect negative correlation.\n",
        "    - **0**: No linear correlation.\n",
        "  - Formula for Pearson Correlation:\n",
        "  ```python\n",
        "  r = Σ[(X - X̄)(Y - Ŷ)] / √[Σ(X - X̄)² * Σ(Y - Ŷ)²]"
      ],
      "metadata": {
        "id": "0qmtwbLqmD5z"
      }
    },
    {
      "cell_type": "code",
      "source": [
        "import numpy as np\n",
        "\n",
        "x = np.array([1, 2, 3, 4, 5])\n",
        "y = np.array([5, 4, 3, 2, 1])\n",
        "\n",
        "correlation_matrix = np.corrcoef(x, y)\n",
        "print(correlation_matrix)"
      ],
      "metadata": {
        "colab": {
          "base_uri": "https://localhost:8080/"
        },
        "id": "sd8Rn2XFmVUK",
        "outputId": "d899044b-e09c-4bed-92d6-a058e89c8ac1"
      },
      "execution_count": null,
      "outputs": [
        {
          "output_type": "stream",
          "name": "stdout",
          "text": [
            "[[ 1. -1.]\n",
            " [-1.  1.]]\n"
          ]
        }
      ]
    },
    {
      "cell_type": "code",
      "source": [
        "import seaborn as sns\n",
        "import matplotlib.pyplot as plt\n",
        "\n",
        "sns.heatmap(df.corr(), annot=True, cmap='coolwarm')\n",
        "plt.title(\"Correlation Matrix\")\n",
        "plt.show()"
      ],
      "metadata": {
        "colab": {
          "base_uri": "https://localhost:8080/",
          "height": 452
        },
        "id": "7zbt1PSNmsd9",
        "outputId": "f36dc1b3-070e-4c83-ebb3-79e5e1b7915c"
      },
      "execution_count": null,
      "outputs": [
        {
          "output_type": "display_data",
          "data": {
            "text/plain": [
              "<Figure size 640x480 with 2 Axes>"
            ],
            "image/png": "[encoded data removed]"
          },
          "metadata": {}
        }
      ]
    },
    {
      "cell_type": "markdown",
      "source": [
        "# Q13. What does negative correlation mean?"
      ],
      "metadata": {
        "id": "n5x5VBZ5mU2d"
      }
    },
    {
      "cell_type": "markdown",
      "source": [
        "## Definition:\n",
        "- **Negative correlation** occurs when two variables move in opposite directions. When one variable increases, the other tends to decrease, and vice versa.\n",
        "\n",
        "## Characteristics:\n",
        "- **Value Range**: A negative correlation value ranges from **-1 to 0**.\n",
        "  - **-1** indicates a perfect negative correlation, meaning the variables are completely inversely related.\n",
        "  - **0** indicates no correlation, meaning there is no predictable relationship between the variables.\n",
        "  \n",
        "- **Example**:\n",
        "  - **Temperature and Heating Costs**: As the temperature increases, the cost of heating tends to decrease. This is an example of a negative correlation because the two variables move in opposite directions.\n",
        "\n",
        "- **Interpreting the Relationship**:\n",
        "  - If two variables have a negative correlation, knowing the value of one variable can give you some information about the expected direction of the other variable, but in the opposite direction.\n",
        "\n",
        "## Visualizing Negative Correlation:\n",
        "- In a scatter plot, negative correlation is represented by a downward-sloping trend, where as one variable increases, the other decreases.\n",
        "\n",
        "### Example:\n",
        "- In the case of **education level** and **unemployment rate**, higher levels of education tend to be associated with lower unemployment rates. This would exhibit a negative correlation.\n",
        "\n",
        "## Mathematical Representation:\n",
        "- In terms of **Pearson’s correlation coefficient (r)**:\n",
        "  - If **r = -1**, there is a perfect negative linear relationship.\n",
        "  - If **r = -0.5**, there is a moderate negative relationship.\n",
        "  - If **r = 0**, there is no linear relationship.\n"
      ],
      "metadata": {
        "id": "VWZMFR9pnLa7"
      }
    },
    {
      "cell_type": "markdown",
      "source": [
        "# Q14. How can you find correlation between variables in Python?"
      ],
      "metadata": {
        "id": "T18AksJ_nTXL"
      }
    },
    {
      "cell_type": "code",
      "source": [
        "import pandas as pd\n",
        "import seaborn as sns\n",
        "import matplotlib.pyplot as plt\n",
        "from sklearn.datasets import fetch_california_housing\n",
        "from sklearn.model_selection import train_test_split\n",
        "\n",
        "data = fetch_california_housing()\n",
        "df = pd.DataFrame(data.data, columns=data.feature_names)\n",
        "df['TARGET'] = data.target\n",
        "\n",
        "corr_matrix = df.corr()\n",
        "\n",
        "plt.figure(figsize=(10, 6))\n",
        "sns.heatmap(corr_matrix, annot=True, cmap='coolwarm', fmt=\".2f\")\n",
        "plt.title(\"Feature Correlation Matrix\")\n",
        "plt.show()\n",
        "\n",
        "target_corr = corr_matrix['TARGET'].sort_values(ascending=False)\n",
        "print(\"Correlation with Target:\\n\", target_corr)\n",
        "\n",
        "high_corr_features = set()\n",
        "for i in range(len(corr_matrix.columns)):\n",
        "    for j in range(i):\n",
        "        if abs(corr_matrix.iloc[i, j]) > 0.7:\n",
        "            colname = corr_matrix.columns[i]\n",
        "            high_corr_features.add(colname)\n",
        "df_reduced = df.drop(columns=high_corr_features)\n",
        "\n",
        "X = df_reduced.drop(columns=['TARGET'])\n",
        "y = df_reduced['TARGET']\n",
        "X_train, X_test, y_train, y_test = train_test_split(X, y, test_size=0.2, random_state=42)\n",
        "\n",
        "print(\"\\nFinal features:\", X_train.columns.tolist())"
      ],
      "metadata": {
        "colab": {
          "base_uri": "https://localhost:8080/",
          "height": 841
        },
        "id": "dPuV4Ip1oa7O",
        "outputId": "50025298-843f-430c-d545-8f775b231df0"
      },
      "execution_count": null,
      "outputs": [
        {
          "output_type": "display_data",
          "data": {
            "text/plain": [
              "<Figure size 1000x600 with 2 Axes>"
            ],
            "image/png": "[encoded data removed]"
          },
          "metadata": {}
        },
        {
          "output_type": "stream",
          "name": "stdout",
          "text": [
            "Correlation with Target:\n",
            " TARGET        1.000000\n",
            "MedInc        0.688075\n",
            "AveRooms      0.151948\n",
            "HouseAge      0.105623\n",
            "AveOccup     -0.023737\n",
            "Population   -0.024650\n",
            "Longitude    -0.045967\n",
            "AveBedrms    -0.046701\n",
            "Latitude     -0.144160\n",
            "Name: TARGET, dtype: float64\n",
            "\n",
            "Final features: ['MedInc', 'HouseAge', 'AveRooms', 'Population', 'AveOccup', 'Latitude']\n"
          ]
        }
      ]
    },
    {
      "cell_type": "markdown",
      "source": [
        "# Q15. What is causation? Explain difference between correlation and causation with an example."
      ],
      "metadata": {
        "id": "Vne67OtqopdT"
      }
    },
    {
      "cell_type": "markdown",
      "source": [
        "## What is Causation?\n",
        "- **Causation** refers to a relationship between two variables where one directly causes the other to change. It means that a change in one variable leads to a change in another variable.\n",
        "\n",
        "- **Cause and Effect**: Causation implies a cause-and-effect relationship, where the cause directly produces an effect.\n",
        "\n",
        "- **Example of Causation**:\n",
        "  - **Smoking and Lung Cancer**: Smoking is a direct cause of lung cancer. If a person smokes, it increases the likelihood of developing lung cancer.\n",
        "\n",
        "## Difference Between Correlation and Causation\n",
        "\n",
        "### 1. **Nature of the Relationship**:\n",
        "- **Correlation**:\n",
        "  - Correlation simply measures the degree to which two variables are related to each other.\n",
        "  - It doesn’t imply a direct cause-and-effect relationship.\n",
        "  \n",
        "- **Causation**:\n",
        "  - Causation indicates that one variable directly influences or causes the other to change.\n",
        "  - It represents a cause-and-effect relationship.\n",
        "\n",
        "### 2. **Directionality**:\n",
        "- **Correlation**:\n",
        "  - In correlation, the relationship between the variables can be **bidirectional** (i.e., both variables can change simultaneously).\n",
        "  - Example: **Height and weight** have a correlation; however, it doesn’t necessarily mean one causes the other, even though they are often related.\n",
        "\n",
        "- **Causation**:\n",
        "  - In causation, the relationship is **unidirectional** (i.e., one variable leads to a change in the other).\n",
        "  - Example: **Exercise causes weight loss**. Regular exercise is the cause of weight loss.\n",
        "\n",
        "### 3. **Implication**:\n",
        "- **Correlation**:\n",
        "  - Correlation does not necessarily imply causality. Just because two variables are correlated does not mean that one causes the other.\n",
        "  \n",
        "- **Causation**:\n",
        "  - Causation provides clear evidence that one variable is responsible for the change in the other.\n",
        "\n",
        "### 4. **Example of Correlation vs Causation**:\n",
        "- **Example of Correlation**:\n",
        "  - **Ice Cream Sales and Drowning**: There is a positive correlation between ice cream sales and drowning incidents. However, this does not mean that eating ice cream causes drowning. The underlying factor is **summer**, which increases both ice cream consumption and swimming activities, leading to more drownings.\n",
        "  \n",
        "- **Example of Causation**:\n",
        "  - **Vaccination and Disease Prevention**: Vaccination directly prevents diseases, such as measles. The cause (vaccination) leads to the effect (immunity against the disease).\n"
      ],
      "metadata": {
        "id": "1V2RkXBQo0ep"
      }
    },
    {
      "cell_type": "markdown",
      "source": [
        "# Q16. What is an Optimizer? What are different types of optimizers? Explain each with an example."
      ],
      "metadata": {
        "id": "OPJjvb2Mo8EU"
      }
    },
    {
      "cell_type": "markdown",
      "source": [
        "## What is an Optimizer?\n",
        "- An **optimizer** in machine learning is an algorithm used to minimize (or maximize) a loss function during the training process.\n",
        "- The goal of an optimizer is to adjust the model's parameters (weights) so that the model's predictions become more accurate over time by reducing the error (loss).\n",
        "- Optimizers update the model's weights iteratively based on the gradients calculated during backpropagation.\n",
        "\n",
        "## Different Types of Optimizers:\n",
        "\n",
        "### 1. **Gradient Descent (GD)**\n",
        "- **Gradient Descent** is the most basic optimization technique. It iteratively adjusts the model's weights by moving in the direction opposite to the gradient of the loss function.\n",
        "- **How it works**:\n",
        "  - At each step, GD computes the gradient of the loss function with respect to each parameter and updates the parameters in the opposite direction of the gradient.\n",
        "  - The step size is controlled by the learning rate.\n",
        "  \n",
        "- **Formula**:\n",
        "  - `θ = θ - α * ∇L(θ)`\n",
        "    - `θ`: model parameters\n",
        "    - `α`: learning rate\n",
        "    - `∇L(θ)`: gradient of the loss function\n",
        "  \n",
        "- **Example**:\n",
        "  - In linear regression, gradient descent updates the weights of the model to minimize the mean squared error (MSE) between the predicted and actual values.\n",
        "\n",
        "### 2. **Stochastic Gradient Descent (SGD)**\n",
        "- **Stochastic Gradient Descent** is a variant of gradient descent where the update of the model's parameters happens for each training sample, rather than using the entire dataset.\n",
        "- **How it works**:\n",
        "  - Instead of computing the gradient over the entire dataset, SGD computes the gradient for each data point and updates the parameters immediately.\n",
        "  - This introduces noise but can result in faster convergence and helps in escaping local minima.\n",
        "  \n",
        "- **Example**:\n",
        "  - In image classification, SGD might update the weights after each image is processed, resulting in faster updates compared to full-batch gradient descent.\n",
        "\n",
        "### 3. **Mini-Batch Gradient Descent**\n",
        "- **Mini-Batch Gradient Descent** is a compromise between batch gradient descent and stochastic gradient descent. It uses small batches of data for each update.\n",
        "- **How it works**:\n",
        "  - The training data is divided into small batches, and the gradient is computed for each batch.\n",
        "  - This method combines the efficiency of batch processing with the faster convergence of SGD.\n",
        "\n",
        "- **Example**:\n",
        "  - In deep learning, mini-batch gradient descent is commonly used as it accelerates the convergence without requiring the full dataset to be used at each iteration.\n",
        "\n",
        "### 4. **Momentum**\n",
        "- **Momentum** is an extension of gradient descent that helps accelerate the convergence by adding a fraction of the previous update to the current update.\n",
        "- **How it works**:\n",
        "  - The optimizer maintains a velocity vector that accumulates the gradients of previous steps. This helps overcome local minima and speeds up convergence.\n",
        "  \n",
        "- **Formula**:\n",
        "  - `v(t) = β * v(t-1) + (1 - β) * ∇L(θ)`\n",
        "    - `v(t)`: velocity at time step `t`\n",
        "    - `β`: momentum term (usually close to 1)\n",
        "    - `∇L(θ)`: gradient at time step `t`\n",
        "  \n",
        "- **Example**:\n",
        "  - In training a neural network, momentum allows the model to make faster progress when it is moving in a consistent direction, like down a steep slope.\n",
        "\n",
        "### 5. **AdaGrad (Adaptive Gradient Algorithm)**\n",
        "- **AdaGrad** adapts the learning rate based on the frequency of parameters' updates. The more frequently a parameter is updated, the smaller the learning rate becomes.\n",
        "- **How it works**:\n",
        "  - AdaGrad uses the squared gradient to scale the learning rate, giving smaller updates to frequently updated parameters and larger updates to infrequent parameters.\n",
        "  \n",
        "- **Formula**:\n",
        "  - `θ = θ - α * ∇L(θ) / √(G + ε)`\n",
        "    - `G`: sum of squared gradients\n",
        "    - `ε`: small value to prevent division by zero\n",
        "\n",
        "- **Example**:\n",
        "  - AdaGrad is often used in sparse data applications, like text classification, where some features appear rarely.\n",
        "\n",
        "### 6. **RMSprop (Root Mean Square Propagation)**\n",
        "- **RMSprop** is an improvement over AdaGrad that helps stabilize the learning rate by using an exponentially decaying average of past gradients.\n",
        "- **How it works**:\n",
        "  - RMSprop divides the gradient by a moving average of its squared values, which allows for a more stable and adaptive learning rate.\n",
        "  \n",
        "- **Formula**:\n",
        "  - `θ = θ - α * ∇L(θ) / √(E[g²] + ε)`\n",
        "    - `E[g²]`: exponentially decaying average of squared gradients\n",
        "\n",
        "- **Example**:\n",
        "  - RMSprop is particularly effective in training recurrent neural networks (RNNs) and other models that involve long sequences.\n",
        "\n",
        "### 7. **Adam (Adaptive Moment Estimation)**\n",
        "- **Adam** is one of the most popular and effective optimizers. It combines the benefits of both momentum and AdaGrad by using both the first and second moments of the gradients (mean and variance).\n",
        "- **How it works**:\n",
        "  - Adam computes adaptive learning rates for each parameter by storing both the mean and the uncentered variance of the gradients.\n",
        "  - It includes bias-correction terms to address initialization bias at the start of training.\n",
        "\n",
        "- **Formula**:\n",
        "  - `m(t) = β1 * m(t-1) + (1 - β1) * ∇L(θ)`\n",
        "  - `v(t) = β2 * v(t-1) + (1 - β2) * (∇L(θ))²`\n",
        "  - `θ = θ - α * m(t) / (√(v(t) + ε))`\n",
        "\n",
        "- **Example**:\n",
        "  - Adam is widely used in training deep neural networks because of its adaptive learning rate and ability to handle noisy gradients and sparse data.\n"
      ],
      "metadata": {
        "id": "IN9FB6TzpX6Z"
      }
    },
    {
      "cell_type": "markdown",
      "source": [
        "# Q17. What is sklearn.linear_model ?"
      ],
      "metadata": {
        "id": "dQDwlJgrpf07"
      }
    },
    {
      "cell_type": "markdown",
      "source": [
        "# `sklearn.linear_model` Module in Scikit-Learn\n",
        "\n",
        "## Overview\n",
        "- A module in scikit-learn for **supervised learning** tasks (regression/classification).\n",
        "- Assumes **linear relationships** between features and target.\n",
        "- Advantages: **Interpretable**, fast, scalable, supports regularization.\n",
        "\n",
        "---\n",
        "\n",
        "## Key Classes\n",
        "\n",
        "### 1. `LinearRegression`\n",
        "- **Purpose**: Ordinary least squares regression.\n",
        "- **Regularization**: None.\n",
        "- **Use Case**: Baseline regression tasks (e.g., predicting house prices).\n",
        "\n",
        "### 2. `Ridge`\n",
        "- **Purpose**: Linear regression with **L2 regularization**.\n",
        "- **Regularization**: Shrinks coefficients using L2 penalty.\n",
        "- **Hyperparameter**: `alpha` (controls regularization strength).\n",
        "\n",
        "### 3. `Lasso`\n",
        "- **Purpose**: Linear regression with **L1 regularization**.\n",
        "- **Regularization**: Sparsity (selects features by zeroing coefficients).\n",
        "- **Use Case**: Feature selection in high-dimensional data.\n",
        "\n",
        "### 4. `ElasticNet`\n",
        "- **Purpose**: Hybrid of L1 and L2 regularization.\n",
        "- **Hyperparameter**: `l1_ratio` (mixes L1/L2 penalties).\n",
        "\n",
        "### 5. `LogisticRegression`\n",
        "- **Purpose**: Binary/multiclass classification (logistic function).\n",
        "- **Regularization**: Supports L1, L2, or none.\n",
        "- **Use Case**: Spam detection, medical diagnosis.\n",
        "\n",
        "### 6. `SGDRegressor`/`SGDClassifier`\n",
        "- **Purpose**: Regression/classification via **stochastic gradient descent**.\n",
        "- **Flexibility**: Supports custom loss functions (e.g., hinge, log loss).\n",
        "- **Scalability**: Efficient for large datasets.\n",
        "\n",
        "---\n",
        "\n",
        "## Example: Training a Linear Regression Model\n",
        "```python\n",
        "# Import modules\n",
        "from sklearn.linear_model import LinearRegression\n",
        "from sklearn.datasets import fetch_california_housing\n",
        "from sklearn.model_selection import train_test_split\n",
        "\n",
        "# Load data\n",
        "data = fetch_california_housing()\n",
        "X, y = data.data, data.target\n",
        "\n",
        "# Split data\n",
        "X_train, X_test, y_train, y_test = train_test_split(X, y, test_size=0.2, random_state=42)\n",
        "\n",
        "# Initialize and train model\n",
        "model = LinearRegression()\n",
        "model.fit(X_train, y_train)\n",
        "\n",
        "# Evaluate\n",
        "print(f\"Coefficients: {model.coef_}\")\n",
        "print(f\"Intercept: {model.intercept_}\")\n",
        "print(f\"R² Score: {model.score(X_test, y_test):.2f}\")"
      ],
      "metadata": {
        "id": "DzkOmYUjqDT9"
      }
    },
    {
      "cell_type": "code",
      "source": [
        "from sklearn.linear_model import LinearRegression\n",
        "from sklearn.datasets import fetch_california_housing\n",
        "from sklearn.model_selection import train_test_split\n",
        "\n",
        "data = fetch_california_housing()\n",
        "X, y = data.data, data.target\n",
        "\n",
        "X_train, X_test, y_train, y_test = train_test_split(X, y, test_size=0.2)\n",
        "\n",
        "model = LinearRegression()\n",
        "model.fit(X_train, y_train)\n",
        "\n",
        "print(f\"Coefficients: {model.coef_}\")\n",
        "print(f\"Intercept: {model.intercept_}\")\n",
        "print(f\"R² Score: {model.score(X_test, y_test):.2f}\")"
      ],
      "metadata": {
        "colab": {
          "base_uri": "https://localhost:8080/"
        },
        "id": "6xj1RuHYqLeq",
        "outputId": "0c9b6cf0-2fcf-4d15-be93-b524dfee1211"
      },
      "execution_count": null,
      "outputs": [
        {
          "output_type": "stream",
          "name": "stdout",
          "text": [
            "Coefficients: [ 4.42770354e-01  9.56930832e-03 -1.18772890e-01  6.55048066e-01\n",
            " -2.35634212e-06 -3.49570015e-03 -4.09118901e-01 -4.22681994e-01]\n",
            "Intercept: -35.94446864301093\n",
            "R² Score: 0.62\n"
          ]
        }
      ]
    },
    {
      "cell_type": "markdown",
      "source": [
        "# Q18. What does model.fit() do? What arguments must be given?"
      ],
      "metadata": {
        "id": "MM6MMl3DqYFl"
      }
    },
    {
      "cell_type": "markdown",
      "source": [
        "## What is `model.fit()`?\n",
        "\n",
        "- The **`fit()`** function in machine learning is used to train a model on a dataset. It is the method that actually \"fits\" the model to the training data by adjusting the model's parameters (weights) based on the provided data.\n",
        "\n",
        "- This function is typically used after creating a machine learning model (e.g., using a class like `LogisticRegression`, `LinearRegression`, etc.) and is called to train the model using the training data.\n",
        "\n",
        "## What Arguments Must be Given?\n",
        "\n",
        "### 1. **Features (X)**:\n",
        "   - **X** represents the input data (features) used to train the model. It can be a 2D array (or DataFrame) where each row corresponds to a sample, and each column corresponds to a feature or attribute of that sample.\n",
        "   - For example, in a dataset with multiple features like height, weight, age, etc., **X** will include all of these columns.\n",
        "\n",
        "   **Shape**: `(n_samples, n_features)` where:\n",
        "   - `n_samples`: The number of samples (data points).\n",
        "   - `n_features`: The number of features in each sample.\n",
        "\n",
        "### 2. **Target (y)**:\n",
        "   - **y** is the target variable (labels), the value the model tries to predict. It is a 1D array (or Series) corresponding to the labels of each sample in **X**.\n",
        "   - For example, in a classification problem (e.g., predicting whether an email is spam or not), **y** would be the labels (spam or not spam) for each email in the dataset.\n",
        "\n",
        "   **Shape**: `(n_samples,)` where:\n",
        "   - `n_samples`: The number of samples corresponding to each row in **X**.\n",
        "\n",
        "### Example:\n",
        "\n",
        "```python\n",
        "from sklearn.linear_model import LogisticRegression\n",
        "\n",
        "# Sample dataset: X (features), y (target)\n",
        "X = [[1, 2], [2, 3], [3, 4], [4, 5]]\n",
        "y = [0, 1, 0, 1]\n",
        "\n",
        "# Create a model\n",
        "model = LogisticRegression()\n",
        "\n",
        "# Train the model using fit()\n",
        "model.fit(X, y)"
      ],
      "metadata": {
        "id": "zHbwPJHXqlW3"
      }
    },
    {
      "cell_type": "markdown",
      "source": [
        "# Q19. What does model.predict() do? What arguments must be given?"
      ],
      "metadata": {
        "id": "mgxXlI-IqsUo"
      }
    },
    {
      "cell_type": "markdown",
      "source": [
        "## What Does `model.predict()` Do?\n",
        "- **Purpose**: Generates predictions using a trained machine learning model.\n",
        "- **Output**:\n",
        "  - For **regression tasks**: Returns continuous numerical values (e.g., house prices, sales forecasts).\n",
        "  - For **classification tasks**: Returns discrete class labels (e.g., \"spam\" or \"not spam\", digit classes 0-9).\n",
        "\n",
        "---\n",
        "\n",
        "## Required Arguments\n",
        "### `X` (Feature Matrix)\n",
        "- **Type**: A 2D array-like structure (NumPy array, pandas DataFrame, or sparse matrix).\n",
        "- **Shape**: `(n_samples, n_features)`:\n",
        "  - `n_samples`: Number of data points to predict.\n",
        "  - `n_features`: Must match the number of features used during model training.\n",
        "- **Example**:\n",
        "  ```python\n",
        "  # For a single sample prediction (reshape to 2D!)\n",
        "  sample = [[5.1, 3.5, 1.4, 0.2]]  # Shape: (1, 4)\n",
        "  prediction = model.predict(sample)"
      ],
      "metadata": {
        "id": "xMSBRif3q1Yj"
      }
    },
    {
      "cell_type": "code",
      "source": [
        "# Complete Machine Learning Workflow with model.predict()\n",
        "from sklearn.datasets import load_iris\n",
        "from sklearn.model_selection import train_test_split\n",
        "from sklearn.linear_model import LogisticRegression\n",
        "from sklearn.metrics import accuracy_score\n",
        "\n",
        "data = load_iris()\n",
        "X, y = data.data, data.target\n",
        "\n",
        "X_train, X_test, y_train, y_test = train_test_split(X, y, test_size=0.2, random_state=42)\n",
        "\n",
        "model = LogisticRegression(max_iter=200)\n",
        "model.fit(X_train, y_train)\n",
        "\n",
        "y_pred = model.predict(X_test)\n",
        "\n",
        "print(\"Sample predictions:\", y_pred[:5])\n",
        "print(\"True labels:\", y_test[:5])\n",
        "print(f\"Accuracy: {accuracy_score(y_test, y_pred):.2f}\")\n",
        "\n",
        "new_sample = [[5.1, 3.5, 1.4, 0.2]]\n",
        "print(\"New sample prediction:\", model.predict(new_sample))"
      ],
      "metadata": {
        "colab": {
          "base_uri": "https://localhost:8080/"
        },
        "id": "gSuXyWDErjtx",
        "outputId": "a17f8687-eab6-40ab-bb3e-f9fc7b2faa7e"
      },
      "execution_count": null,
      "outputs": [
        {
          "output_type": "stream",
          "name": "stdout",
          "text": [
            "Sample predictions: [1 0 2 1 1]\n",
            "True labels: [1 0 2 1 1]\n",
            "Accuracy: 1.00\n",
            "New sample prediction: [0]\n"
          ]
        }
      ]
    },
    {
      "cell_type": "markdown",
      "source": [
        "# Q20. What are continuous and categorical variables?"
      ],
      "metadata": {
        "id": "As2pbPMrsQd5"
      }
    },
    {
      "cell_type": "markdown",
      "source": [
        "## Continuous Variables\n",
        "\n",
        "- **Definition**:\n",
        "  - Continuous variables are numerical variables that can take any value within a given range.\n",
        "  - These variables are typically measured and can have an infinite number of possible values between any two points.\n",
        "  \n",
        "- **Examples**:\n",
        "  - Height (e.g., 5.6 feet, 5.65 feet, 5.667 feet)\n",
        "  - Weight (e.g., 70.2 kg, 70.5 kg)\n",
        "  - Temperature (e.g., 30.1°C, 30.2°C, 30.15°C)\n",
        "  \n",
        "- **Characteristics**:\n",
        "  - They can be discrete or have infinite possible values depending on the level of precision.\n",
        "  - Continuous variables are often represented by **floating-point numbers**.\n",
        "  \n",
        "- **Handling in Machine Learning**:\n",
        "  - Often scaled or normalized to make sure they fall within a standard range (e.g., using MinMaxScaler or StandardScaler).\n",
        "  - Can be used in regression tasks and other algorithms that handle numerical data.\n",
        "\n",
        "## Categorical Variables\n",
        "\n",
        "- **Definition**:\n",
        "  - Categorical variables represent distinct categories or groups. These variables can take on one of a limited, fixed number of possible values (categories).\n",
        "  - They are typically **non-numeric** and may represent labels or qualities.\n",
        "\n",
        "- **Types of Categorical Variables**:\n",
        "  - **Nominal**: Categories with no inherent order or ranking.\n",
        "    - **Examples**: Colors (Red, Blue, Green), Gender (Male, Female), Country of Origin.\n",
        "  - **Ordinal**: Categories with a meaningful order, but the intervals between categories are not defined.\n",
        "    - **Examples**: Education level (High School, Bachelor's, Master's, PhD), Rating (Poor, Fair, Good, Excellent).\n",
        "\n",
        "- **Handling in Machine Learning**:\n",
        "  - **One-Hot Encoding**: For nominal variables, creating binary columns for each category (e.g., Country: India -> [1,0,0], USA -> [0,1,0], UK -> [0,0,1]).\n",
        "  - **Label Encoding**: For ordinal variables, assigning integer values based on the order (e.g., Education Level: High School -> 0, Bachelor's -> 1, Master's -> 2, PhD -> 3).\n",
        "  - Categorical variables are often encoded before being input into machine learning algorithms.\n"
      ],
      "metadata": {
        "id": "COcBvwlosYyM"
      }
    },
    {
      "cell_type": "markdown",
      "source": [
        "# Q21.What is feature scaling? How does it help in Machine Learning?"
      ],
      "metadata": {
        "id": "I3GxlleirTOz"
      }
    },
    {
      "cell_type": "markdown",
      "source": [
        "## What is Feature Scaling?\n",
        "- Feature scaling is a technique used to **normalize or standardize** the range of independent variables (features) in a dataset.\n",
        "- It ensures that all features have a similar scale, which prevents certain features from dominating others due to their larger numerical range.\n",
        "\n",
        "## Why is Feature Scaling Important?\n",
        "- **Improves Model Convergence**:\n",
        "  - Many machine learning algorithms (like gradient descent-based models) work better when features are on a similar scale.\n",
        "  - Scaling helps in **faster and more stable convergence** during training.\n",
        "\n",
        "- **Prevents Bias from Large Values**:\n",
        "  - Algorithms like k-NN, K-Means clustering, and SVM use distance-based calculations.\n",
        "  - Without scaling, features with larger values may dominate those with smaller values.\n",
        "\n",
        "- **Enhances Model Performance**:\n",
        "  - Some models assume data is normally distributed (e.g., logistic regression, linear regression).\n",
        "  - Feature scaling helps in improving accuracy and reliability.\n",
        "\"\"\"\n",
        "\n",
        "## Common Feature Scaling Techniques\n",
        "\n",
        "\"\"\"\n",
        "### 1. Min-Max Scaling (Normalization)\n",
        "- Scales values between a fixed range, usually **[0,1]** or **[-1,1]**.\n",
        "- Formula:\n",
        "  X_scaled = (X - X_min) / (X_max - X_min)\n",
        "- **Best for**: Algorithms like k-NN, deep learning, and when feature distributions are **not Gaussian**.\n",
        "\"\"\"\n",
        "\n",
        "# Example in Python\n",
        "from sklearn.preprocessing import MinMaxScaler\n",
        "\n",
        "scaler = MinMaxScaler()\n",
        "X_scaled = scaler.fit_transform(X)\n",
        "\n",
        "\"\"\"\n",
        "### 2. Standardization (Z-Score Scaling)\n",
        "- Transforms data to have **zero mean** and **unit variance**.\n",
        "- Formula:\n",
        "  X_scaled = (X - mean) / standard deviation\n",
        "- **Best for**: Algorithms like linear regression, logistic regression, SVM, and PCA.\n",
        "\"\"\"\n",
        "\n",
        "# Example in Python\n",
        "from sklearn.preprocessing import StandardScaler\n",
        "\n",
        "scaler = StandardScaler()\n",
        "X_scaled = scaler.fit_transform(X)\n",
        "\n",
        "\"\"\"\n",
        "### 3. Robust Scaling\n",
        "- Uses the **median** and **interquartile range (IQR)** to scale features, making it robust to outliers.\n",
        "- Formula:\n",
        "  X_scaled = (X - median) / IQR\n",
        "- **Best for**: Datasets with outliers.\n",
        "\"\"\"\n",
        "\n",
        "# Example in Python\n",
        "from sklearn.preprocessing import RobustScaler\n",
        "\n",
        "scaler = RobustScaler()\n",
        "X_scaled = scaler.fit_transform(X)\n",
        "\n",
        "\"\"\"\n",
        "### 4. Log Transformation\n",
        "- Applies the **log function** to reduce the impact of extreme values.\n",
        "- Helps in making skewed distributions more normal.\n",
        "\"\"\"\n",
        "\n",
        "# Example in Python\n",
        "import numpy as np\n",
        "\n",
        "X_scaled = np.log1p(X)  # log(1 + X) to avoid log(0)\n",
        "\n",
        "\"\"\"\n",
        "## When is Feature Scaling Necessary?\n",
        "- **Required** for:\n",
        "  - Distance-based models (k-NN, K-Means, SVM with RBF kernel).\n",
        "  - Gradient-based models (Logistic Regression, Neural Networks).\n",
        "  - PCA (Principal Component Analysis) and clustering techniques.\n",
        "\n",
        "- **Not Needed** for:\n",
        "  - Tree-based models (Decision Trees, Random Forest, Gradient Boosting).\n",
        "  - These models **do not use distance calculations**, so feature scaling has little impact.\n",
        "\"\"\"\n"
      ],
      "metadata": {
        "id": "YVw5wCqUsdLE"
      }
    },
    {
      "cell_type": "code",
      "source": [
        "import numpy as np\n",
        "import pandas as pd\n",
        "import matplotlib.pyplot as plt\n",
        "from sklearn.preprocessing import MinMaxScaler, StandardScaler, RobustScaler\n",
        "\n",
        "data = pd.DataFrame({\n",
        "    'Age': [20, 25, 30, 35, 40, 45, 50, 55, 60],\n",
        "    'Salary': [30000, 35000, 40000, 45000, 50000, 55000, 60000, 65000, 70000]\n",
        "})\n",
        "\n",
        "print(\"Original Data:\\n\", data)\n",
        "\n",
        "# Apply different scaling techniques\n",
        "\n",
        "## 1. Min-Max Scaling\n",
        "min_max_scaler = MinMaxScaler()\n",
        "data_min_max = min_max_scaler.fit_transform(data)\n",
        "data_min_max = pd.DataFrame(data_min_max, columns=['Age', 'Salary'])\n",
        "print(\"\\nMin-Max Scaled Data:\\n\", data_min_max)\n",
        "\n",
        "## 2. Standardization (Z-score Scaling)\n",
        "standard_scaler = StandardScaler()\n",
        "data_standardized = standard_scaler.fit_transform(data)\n",
        "data_standardized = pd.DataFrame(data_standardized, columns=['Age', 'Salary'])\n",
        "print(\"\\nStandardized Data:\\n\", data_standardized)\n",
        "\n",
        "## 3. Robust Scaling (Handles Outliers)\n",
        "robust_scaler = RobustScaler()\n",
        "data_robust = robust_scaler.fit_transform(data)\n",
        "data_robust = pd.DataFrame(data_robust, columns=['Age', 'Salary'])\n",
        "print(\"\\nRobust Scaled Data:\\n\", data_robust)\n",
        "\n",
        "## 4. Log Transformation\n",
        "data_log = np.log1p(data)  # log(1 + X) to avoid log(0)\n",
        "print(\"\\nLog Transformed Data:\\n\", data_log)\n",
        "\n",
        "# Visualization of the scaled data\n",
        "fig, axes = plt.subplots(2, 2, figsize=(12, 8))\n",
        "\n",
        "axes[0, 0].plot(data_min_max, label=['Age', 'Salary'])\n",
        "axes[0, 0].set_title('Min-Max Scaling')\n",
        "axes[0, 0].legend()\n",
        "\n",
        "axes[0, 1].plot(data_standardized, label=['Age', 'Salary'])\n",
        "axes[0, 1].set_title('Standardization')\n",
        "axes[0, 1].legend()\n",
        "\n",
        "axes[1, 0].plot(data_robust, label=['Age', 'Salary'])\n",
        "axes[1, 0].set_title('Robust Scaling')\n",
        "axes[1, 0].legend()\n",
        "\n",
        "axes[1, 1].plot(data_log, label=['Age', 'Salary'])\n",
        "axes[1, 1].set_title('Log Transformation')\n",
        "axes[1, 1].legend()\n",
        "\n",
        "plt.tight_layout()\n",
        "plt.show()"
      ],
      "metadata": {
        "colab": {
          "base_uri": "https://localhost:8080/",
          "height": 1000
        },
        "id": "FJdUmYF1szWE",
        "outputId": "3b666467-1f8d-4248-bf4d-038c6495437f"
      },
      "execution_count": null,
      "outputs": [
        {
          "output_type": "stream",
          "name": "stdout",
          "text": [
            "Original Data:\n",
            "    Age  Salary\n",
            "0   20   30000\n",
            "1   25   35000\n",
            "2   30   40000\n",
            "3   35   45000\n",
            "4   40   50000\n",
            "5   45   55000\n",
            "6   50   60000\n",
            "7   55   65000\n",
            "8   60   70000\n",
            "\n",
            "Min-Max Scaled Data:\n",
            "      Age  Salary\n",
            "0  0.000   0.000\n",
            "1  0.125   0.125\n",
            "2  0.250   0.250\n",
            "3  0.375   0.375\n",
            "4  0.500   0.500\n",
            "5  0.625   0.625\n",
            "6  0.750   0.750\n",
            "7  0.875   0.875\n",
            "8  1.000   1.000\n",
            "\n",
            "Standardized Data:\n",
            "         Age    Salary\n",
            "0 -1.549193 -1.549193\n",
            "1 -1.161895 -1.161895\n",
            "2 -0.774597 -0.774597\n",
            "3 -0.387298 -0.387298\n",
            "4  0.000000  0.000000\n",
            "5  0.387298  0.387298\n",
            "6  0.774597  0.774597\n",
            "7  1.161895  1.161895\n",
            "8  1.549193  1.549193\n",
            "\n",
            "Robust Scaled Data:\n",
            "     Age  Salary\n",
            "0 -1.00   -1.00\n",
            "1 -0.75   -0.75\n",
            "2 -0.50   -0.50\n",
            "3 -0.25   -0.25\n",
            "4  0.00    0.00\n",
            "5  0.25    0.25\n",
            "6  0.50    0.50\n",
            "7  0.75    0.75\n",
            "8  1.00    1.00\n",
            "\n",
            "Log Transformed Data:\n",
            "         Age     Salary\n",
            "0  3.044522  10.308986\n",
            "1  3.258097  10.463132\n",
            "2  3.433987  10.596660\n",
            "3  3.583519  10.714440\n",
            "4  3.713572  10.819798\n",
            "5  3.828641  10.915107\n",
            "6  3.931826  11.002117\n",
            "7  4.025352  11.082158\n",
            "8  4.110874  11.156265\n"
          ]
        },
        {
          "output_type": "display_data",
          "data": {
            "text/plain": [
              "<Figure size 1200x800 with 4 Axes>"
            ],
            "image/png": "[encoded data removed]"
          },
          "metadata": {}
        }
      ]
    },
    {
      "cell_type": "markdown",
      "source": [
        "# Q22. How do we perform scaling in Python?"
      ],
      "metadata": {
        "id": "Yd_qJFYRvPqn"
      }
    },
    {
      "cell_type": "markdown",
      "source": [
        "Scaling ensures that numerical features have similar ranges, preventing large values from\n",
        "dominating smaller ones in machine learning models. It is crucial for distance-based models\n",
        "(e.g., k-NN, SVM, PCA) and gradient descent-based optimization.\n",
        "\n",
        "## Common Feature Scaling Techniques:\n",
        "1. **Min-Max Scaling (Normalization)**\n",
        "2. **Standardization (Z-score Scaling)**\n",
        "3. **Robust Scaling (Handles Outliers)**\n",
        "4. **Log Transformation**\n",
        "\"\"\"\n",
        "\n",
        "# Import necessary libraries\n",
        "import numpy as np\n",
        "import pandas as pd\n",
        "from sklearn.preprocessing import MinMaxScaler, StandardScaler, RobustScaler\n",
        "\n",
        "# Create a sample dataset\n",
        "data = pd.DataFrame({\n",
        "    'Age': [20, 25, 30, 35, 40, 45, 50, 55, 60],\n",
        "    'Salary': [30000, 35000, 40000, 45000, 50000, 55000, 60000, 65000, 70000]\n",
        "})\n",
        "\n",
        "print(\"Original Data:\\n\", data)\n",
        "\n",
        "\"\"\"\n",
        "## 1. Min-Max Scaling (Normalization)\n",
        "- Scales values between 0 and 1.\n",
        "- Formula: X_scaled = (X - X_min) / (X_max - X_min)\n",
        "- Best for: k-NN, deep learning models.\n",
        "\"\"\"\n",
        "min_max_scaler = MinMaxScaler()\n",
        "data_min_max = min_max_scaler.fit_transform(data)\n",
        "\n",
        "print(\"\\nMin-Max Scaled Data:\\n\", pd.DataFrame(data_min_max, columns=['Age', 'Salary']))\n",
        "\n",
        "\"\"\"\n",
        "## 2. Standardization (Z-score Scaling)\n",
        "- Transforms data to have zero mean and unit variance.\n",
        "- Formula: X_scaled = (X - mean) / std_dev\n",
        "- Best for: Linear Regression, Logistic Regression, SVM.\n",
        "\"\"\"\n",
        "standard_scaler = StandardScaler()\n",
        "data_standardized = standard_scaler.fit_transform(data)\n",
        "\n",
        "print(\"\\nStandardized Data:\\n\", pd.DataFrame(data_standardized, columns=['Age', 'Salary']))\n",
        "\n",
        "\"\"\"\n",
        "## 3. Robust Scaling (Handles Outliers)\n",
        "- Uses median and interquartile range (IQR) instead of mean and standard deviation.\n",
        "- Best for: Data with extreme outliers.\n",
        "\"\"\"\n",
        "robust_scaler = RobustScaler()\n",
        "data_robust = robust_scaler.fit_transform(data)\n",
        "\n",
        "print(\"\\nRobust Scaled Data:\\n\", pd.DataFrame(data_robust, columns=['Age', 'Salary']))\n",
        "\n",
        "\"\"\"\n",
        "## 4. Log Transformation\n",
        "- Reduces skewness and brings data closer to normal distribution.\n",
        "- Best for: Features with exponential growth (e.g., income, population).\n",
        "\"\"\"\n",
        "data_log = np.log1p(data)  # log(1 + X) to avoid log(0)\n",
        "\n",
        "print(\"\\nLog Transformed Data:\\n\", data_log)"
      ],
      "metadata": {
        "id": "DjkgKIBcwPzn"
      }
    },
    {
      "cell_type": "code",
      "source": [
        "import numpy as np\n",
        "import pandas as pd\n",
        "from sklearn.preprocessing import MinMaxScaler, StandardScaler, RobustScaler\n",
        "\n",
        "# Sample dataset\n",
        "data = pd.DataFrame({\n",
        "    'Height': [150, 160, 170, 180, 190],\n",
        "    'Weight': [50, 65, 75, 85, 95],\n",
        "    'Age': [25, 30, 35, 40, 45]\n",
        "})\n",
        "\n",
        "print(\"Original Data:\\n\", data)\n",
        "\n",
        "# Applying Min-Max Scaling\n",
        "min_max_scaler = MinMaxScaler()\n",
        "data_min_max = min_max_scaler.fit_transform(data)\n",
        "print(\"\\nMin-Max Scaled Data:\\n\", pd.DataFrame(data_min_max, columns=['Height', 'Weight', 'Age']))\n",
        "\n",
        "# Applying Standardization (Z-score)\n",
        "standard_scaler = StandardScaler()\n",
        "data_standardized = standard_scaler.fit_transform(data)\n",
        "print(\"\\nStandardized Data:\\n\", pd.DataFrame(data_standardized, columns=['Height', 'Weight', 'Age']))\n",
        "\n",
        "# Applying Robust Scaling (Handles Outliers)\n",
        "robust_scaler = RobustScaler()\n",
        "data_robust = robust_scaler.fit_transform(data)\n",
        "print(\"\\nRobust Scaled Data:\\n\", pd.DataFrame(data_robust, columns=['Height', 'Weight', 'Age']))"
      ],
      "metadata": {
        "colab": {
          "base_uri": "https://localhost:8080/"
        },
        "id": "qkD3E36YwZ2h",
        "outputId": "4e3395ae-1b64-4418-bca9-41010cfe3fcc"
      },
      "execution_count": null,
      "outputs": [
        {
          "output_type": "stream",
          "name": "stdout",
          "text": [
            "Original Data:\n",
            "    Height  Weight  Age\n",
            "0     150      50   25\n",
            "1     160      65   30\n",
            "2     170      75   35\n",
            "3     180      85   40\n",
            "4     190      95   45\n",
            "\n",
            "Min-Max Scaled Data:\n",
            "    Height    Weight   Age\n",
            "0    0.00  0.000000  0.00\n",
            "1    0.25  0.333333  0.25\n",
            "2    0.50  0.555556  0.50\n",
            "3    0.75  0.777778  0.75\n",
            "4    1.00  1.000000  1.00\n",
            "\n",
            "Standardized Data:\n",
            "      Height    Weight       Age\n",
            "0 -1.414214 -1.536443 -1.414214\n",
            "1 -0.707107 -0.576166 -0.707107\n",
            "2  0.000000  0.064018  0.000000\n",
            "3  0.707107  0.704203  0.707107\n",
            "4  1.414214  1.344387  1.414214\n",
            "\n",
            "Robust Scaled Data:\n",
            "    Height  Weight  Age\n",
            "0    -1.0   -1.25 -1.0\n",
            "1    -0.5   -0.50 -0.5\n",
            "2     0.0    0.00  0.0\n",
            "3     0.5    0.50  0.5\n",
            "4     1.0    1.00  1.0\n"
          ]
        }
      ]
    },
    {
      "cell_type": "markdown",
      "source": [
        "# Q23. What is sklearn.preprocessing?"
      ],
      "metadata": {
        "id": "Al16chUG1xZ0"
      }
    },
    {
      "cell_type": "markdown",
      "source": [
        "`sklearn.preprocessing` is a module in **scikit-learn** that provides functions to:\n",
        "- Transform and standardize features.\n",
        "- Improve the performance of machine learning models.\n",
        "- Ensure numerical consistency across different scales.\n",
        "\n",
        "## Common Functions in `sklearn.preprocessing`:\n",
        "1. **StandardScaler** - Standardizes features (zero mean, unit variance).\n",
        "2. **MinMaxScaler** - Normalizes data between a specified range (default 0 to 1).\n",
        "3. **RobustScaler** - Scales data using median and IQR, handling outliers.\n",
        "4. **LabelEncoder** - Converts categorical labels to numeric values.\n",
        "5. **OneHotEncoder** - Converts categorical variables into a one-hot encoded format.\n",
        "6. **Binarizer** - Converts numerical values into binary (0 or 1) based on a threshold."
      ],
      "metadata": {
        "id": "m1qEXfp02l2K"
      }
    },
    {
      "cell_type": "code",
      "source": [
        "from sklearn.preprocessing import StandardScaler, MinMaxScaler, RobustScaler, LabelEncoder, OneHotEncoder\n",
        "\n",
        "import pandas as pd\n",
        "import numpy as np\n",
        "\n",
        "data = pd.DataFrame({\n",
        "    'Height': [150, 160, 170, 180, 190],\n",
        "    'Weight': [50, 65, 75, 85, 95],\n",
        "    'Gender': ['Male', 'Female', 'Female', 'Male', 'Female']\n",
        "})\n",
        "\n",
        "print(\"Original Data:\\n\", data)\n",
        "\n",
        "# Applying Standard Scaling\n",
        "scaler = StandardScaler()\n",
        "data_scaled = scaler.fit_transform(data[['Height', 'Weight']])\n",
        "print(\"\\nStandard Scaled Data:\\n\", pd.DataFrame(data_scaled, columns=['Height', 'Weight']))\n",
        "\n",
        "# Encoding Categorical Data (Label Encoding)\n",
        "label_encoder = LabelEncoder()\n",
        "data['Gender_encoded'] = label_encoder.fit_transform(data['Gender'])\n",
        "print(\"\\nLabel Encoded Data:\\n\", data)\n",
        "\n",
        "# One-Hot Encoding\n",
        "one_hot_encoder = OneHotEncoder(sparse_output=False)\n",
        "encoded_categories = one_hot_encoder.fit_transform(data[['Gender']])\n",
        "print(\"\\nOne-Hot Encoded Data:\\n\", encoded_categories)"
      ],
      "metadata": {
        "colab": {
          "base_uri": "https://localhost:8080/"
        },
        "id": "MW5IFXew2b-i",
        "outputId": "c3f6cbb6-8f0c-4109-e91e-626c8a0efafc"
      },
      "execution_count": null,
      "outputs": [
        {
          "output_type": "stream",
          "name": "stdout",
          "text": [
            "Original Data:\n",
            "    Height  Weight  Gender\n",
            "0     150      50    Male\n",
            "1     160      65  Female\n",
            "2     170      75  Female\n",
            "3     180      85    Male\n",
            "4     190      95  Female\n",
            "\n",
            "Standard Scaled Data:\n",
            "      Height    Weight\n",
            "0 -1.414214 -1.536443\n",
            "1 -0.707107 -0.576166\n",
            "2  0.000000  0.064018\n",
            "3  0.707107  0.704203\n",
            "4  1.414214  1.344387\n",
            "\n",
            "Label Encoded Data:\n",
            "    Height  Weight  Gender  Gender_encoded\n",
            "0     150      50    Male               1\n",
            "1     160      65  Female               0\n",
            "2     170      75  Female               0\n",
            "3     180      85    Male               1\n",
            "4     190      95  Female               0\n",
            "\n",
            "One-Hot Encoded Data:\n",
            " [[0. 1.]\n",
            " [1. 0.]\n",
            " [1. 0.]\n",
            " [0. 1.]\n",
            " [1. 0.]]\n"
          ]
        }
      ]
    },
    {
      "cell_type": "markdown",
      "source": [
        "# Q24.How do we split data for model fitting (training and testing) in Python?"
      ],
      "metadata": {
        "id": "66A1UZPU2tW4"
      }
    },
    {
      "cell_type": "markdown",
      "source": [
        "Before training a machine learning model, we **split the dataset** into:\n",
        "- **Training Set** (Used to train the model)\n",
        "- **Test Set** (Used to evaluate performance on unseen data)\n",
        "- Optionally, a **Validation Set** (Used for hyperparameter tuning)\n",
        "\n",
        "## Why Split Data?\n",
        "- Prevents **overfitting** (ensuring the model generalizes well).\n",
        "- Helps in **evaluating model performance** before deployment.\n",
        "- Ensures that the model is trained on one set and tested on another.\n",
        "\n",
        "## Common Split Ratios:\n",
        "- **80% Train / 20% Test**\n",
        "- **70% Train / 30% Test**\n",
        "- **60% Train / 20% Validation / 20% Test**\n",
        "# Key Takeaways:\n",
        "- **train_test_split()** from `sklearn.model_selection` is used to split data.\n",
        "- `test_size=0.2` means **20% of the data** is allocated for testing.\n",
        "- Setting `random_state` ensures **reproducibility**."
      ],
      "metadata": {
        "id": "taiRk_sNldm2"
      }
    },
    {
      "cell_type": "code",
      "source": [
        "import pandas as pd\n",
        "import numpy as np\n",
        "from sklearn.model_selection import train_test_split\n",
        "\n",
        "data = pd.DataFrame({\n",
        "    'Feature1': np.random.randint(1, 100, 10),\n",
        "    'Feature2': np.random.randint(1, 100, 10),\n",
        "    'Target': np.random.randint(0, 2, 10)\n",
        "})\n",
        "\n",
        "print(\"Original Data:\\n\", data)\n",
        "\n",
        "# Splitting data into Train (80%) and Test (20%)\n",
        "X = data[['Feature1', 'Feature2']]\n",
        "y = data['Target']\n",
        "\n",
        "X_train, X_test, y_train, y_test = train_test_split(X, y, test_size=0.2, random_state=42)\n",
        "\n",
        "print(\"\\nTraining Set:\\n\", X_train)\n",
        "print(\"\\nTest Set:\\n\", X_test)"
      ],
      "metadata": {
        "colab": {
          "base_uri": "https://localhost:8080/"
        },
        "id": "FJqkCAKGlqLu",
        "outputId": "c87f98d7-e4f6-48d2-875f-6c18af62b80b"
      },
      "execution_count": 2,
      "outputs": [
        {
          "output_type": "stream",
          "name": "stdout",
          "text": [
            "Original Data:\n",
            "    Feature1  Feature2  Target\n",
            "0        68        32       1\n",
            "1        76        93       1\n",
            "2         2        18       1\n",
            "3        33        11       0\n",
            "4        66        76       0\n",
            "5        10        31       0\n",
            "6        92        55       1\n",
            "7        61        49       0\n",
            "8        71        10       1\n",
            "9        69        44       1\n",
            "\n",
            "Training Set:\n",
            "    Feature1  Feature2\n",
            "5        10        31\n",
            "0        68        32\n",
            "7        61        49\n",
            "2         2        18\n",
            "9        69        44\n",
            "4        66        76\n",
            "3        33        11\n",
            "6        92        55\n",
            "\n",
            "Test Set:\n",
            "    Feature1  Feature2\n",
            "8        71        10\n",
            "1        76        93\n"
          ]
        }
      ]
    },
    {
      "cell_type": "markdown",
      "source": [
        "# Q25. Explain data encoding?"
      ],
      "metadata": {
        "id": "SyIkxOvCkdbp"
      }
    },
    {
      "cell_type": "markdown",
      "source": [
        "Data encoding is the process of converting **categorical variables** into a numerical format\n",
        "so that machine learning models can understand and process them efficiently.\n",
        "\n",
        "## Types of Data Encoding:\n",
        "1. **Label Encoding** - Converts categorical labels into numeric values.\n",
        "2. **One-Hot Encoding** - Converts categories into binary vectors.\n",
        "3. **Ordinal Encoding** - Assigns numerical values based on category order.\n",
        "4. **Binary Encoding** - Converts categories into binary code representations.\n",
        "5. **Frequency Encoding** - Replaces categories with their frequency count.\n",
        "6. **Target Encoding** - Uses the mean of the target variable for each category."
      ],
      "metadata": {
        "id": "1oNk7ROOkuGS"
      }
    },
    {
      "cell_type": "code",
      "source": [
        "import pandas as pd\n",
        "import numpy as np\n",
        "from sklearn.preprocessing import LabelEncoder, OneHotEncoder\n",
        "\n",
        "data = pd.DataFrame({\n",
        "    'Color': ['Red', 'Blue', 'Green', 'Blue', 'Red']\n",
        "})\n",
        "\n",
        "print(\"Original Data:\\n\", data)\n",
        "\n",
        "##1. Label Encoding** (Assigning numeric labels)\n",
        "label_encoder = LabelEncoder()\n",
        "data['Color_Label_Encoded'] = label_encoder.fit_transform(data['Color'])\n",
        "print(\"\\nLabel Encoded Data:\\n\", data)\n",
        "\n",
        "##2. One-Hot Encoding** (Creating binary columns)\n",
        "one_hot_encoder = OneHotEncoder(sparse_output=False)\n",
        "encoded_categories = one_hot_encoder.fit_transform(data[['Color']])\n",
        "\n",
        "# Convert to DataFrame\n",
        "one_hot_df = pd.DataFrame(encoded_categories, columns=one_hot_encoder.get_feature_names_out(['Color']))\n",
        "data = pd.concat([data, one_hot_df], axis=1)\n",
        "\n",
        "print(\"\\nOne-Hot Encoded Data:\\n\", data)\n"
      ],
      "metadata": {
        "colab": {
          "base_uri": "https://localhost:8080/"
        },
        "id": "lzkc73HpkvL5",
        "outputId": "7fe85576-4d10-4b27-d22b-ea1cacb2a2dd"
      },
      "execution_count": 1,
      "outputs": [
        {
          "output_type": "stream",
          "name": "stdout",
          "text": [
            "Original Data:\n",
            "    Color\n",
            "0    Red\n",
            "1   Blue\n",
            "2  Green\n",
            "3   Blue\n",
            "4    Red\n",
            "\n",
            "Label Encoded Data:\n",
            "    Color  Color_Label_Encoded\n",
            "0    Red                    2\n",
            "1   Blue                    0\n",
            "2  Green                    1\n",
            "3   Blue                    0\n",
            "4    Red                    2\n",
            "\n",
            "One-Hot Encoded Data:\n",
            "    Color  Color_Label_Encoded  Color_Blue  Color_Green  Color_Red\n",
            "0    Red                    2         0.0          0.0        1.0\n",
            "1   Blue                    0         1.0          0.0        0.0\n",
            "2  Green                    1         0.0          1.0        0.0\n",
            "3   Blue                    0         1.0          0.0        0.0\n",
            "4    Red                    2         0.0          0.0        1.0\n"
          ]
        }
      ]
    }
  ]
}