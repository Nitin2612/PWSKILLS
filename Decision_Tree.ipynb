{
  "nbformat": 4,
  "nbformat_minor": 0,
  "metadata": {
    "colab": {
      "provenance": []
    },
    "kernelspec": {
      "name": "python3",
      "display_name": "Python 3"
    },
    "language_info": {
      "name": "python"
    }
  },
  "cells": [
    {
      "cell_type": "markdown",
      "source": [
        "# Theoretical\n",
        "\n",
        "---\n",
        "\n"
      ],
      "metadata": {
        "id": "KVFu16j7uRD1"
      }
    },
    {
      "cell_type": "markdown",
      "source": [
        "# Q1. What is a Decision Tree, and how does it work?"
      ],
      "metadata": {
        "id": "iHhgsawduaHf"
      }
    },
    {
      "cell_type": "markdown",
      "source": [
        "# 🌳 Decision Tree - Explained\n",
        "\n",
        "A **Decision Tree** is a supervised machine learning algorithm used for both **classification** and **regression** tasks. It works by learning decision rules inferred from data features.\n",
        "\n",
        "---\n",
        "\n",
        "## 📌 Key Concepts\n",
        "\n",
        "- **Root Node**: The topmost node representing the entire dataset, which gets split.\n",
        "- **Decision Nodes**: Nodes where the dataset is split based on a feature.\n",
        "- **Leaf Nodes (Terminal Nodes)**: Nodes that contain the final output class or value.\n",
        "- **Branches**: Arrows connecting nodes, showing the flow of decision logic.\n",
        "\n",
        "---\n",
        "\n",
        "## 🧠 How Does It Work?\n",
        "\n",
        "1. **Start at the root node**.\n",
        "2. **Select the best feature** to split the data using a criterion (like Gini Index or Information Gain).\n",
        "3. **Split the dataset** into subsets based on that feature.\n",
        "4. **Repeat the process** recursively for each subset until:\n",
        "   - All data points belong to the same class, or\n",
        "   - Maximum depth is reached, or\n",
        "   - No more features are available.\n",
        "\n",
        "---\n",
        "\n",
        "## ⚙️ Common Splitting Criteria\n",
        "\n",
        "- **Gini Impurity**: Measures the probability of misclassification.\n",
        "- **Entropy / Information Gain**: Measures the information gained from a split.\n",
        "\n",
        "---\n",
        "\n",
        "## 📈 Example (Classification)\n",
        "\n",
        "```python\n",
        "from sklearn.datasets import load_iris\n",
        "from sklearn.tree import DecisionTreeClassifier\n",
        "from sklearn import tree\n",
        "import matplotlib.pyplot as plt\n",
        "\n",
        "# Load dataset\n",
        "iris = load_iris()\n",
        "X, y = iris.data, iris.target\n",
        "\n",
        "# Create model\n",
        "clf = DecisionTreeClassifier()\n",
        "clf = clf.fit(X, y)\n",
        "\n",
        "# Plot the tree\n",
        "plt.figure(figsize=(12,8))\n",
        "tree.plot_tree(clf, filled=True, feature_names=iris.feature_names, class_names=iris.target_names)\n",
        "plt.show()\n"
      ],
      "metadata": {
        "id": "WO95SXB3uiIh"
      }
    },
    {
      "cell_type": "markdown",
      "source": [
        "# Q2. What are impurity measures in Decision Trees?"
      ],
      "metadata": {
        "id": "WTZb2mY9u29V"
      }
    },
    {
      "cell_type": "markdown",
      "source": [
        "# 🧮 Impurity Measures in Decision Trees\n",
        "\n",
        "In Decision Trees, **impurity measures** are used to determine how \"mixed\" the classes are in a node. The goal of a split is to reduce impurity — i.e., make child nodes more \"pure\" (containing mostly one class).\n",
        "\n",
        "---\n",
        "\n",
        "## 🎯 Why Use Impurity Measures?\n",
        "\n",
        "When building a tree, the algorithm evaluates potential splits using impurity measures to choose the feature and threshold that **best separates the data**.\n",
        "\n",
        "---\n",
        "\n",
        "## 📊 Common Impurity Measures\n",
        "\n",
        "### 1. **Gini Impurity**\n",
        "\n",
        "- Measures the likelihood of an incorrect classification of a randomly chosen element.\n",
        "- Formula:\n",
        "  \\[\n",
        "  Gini = 1 - \\sum_{i=1}^{C} p_i^2\n",
        "  \\]\n",
        "  Where \\( p_i \\) is the probability of class \\( i \\) in a node.\n",
        "\n",
        "- **Range**: 0 (pure) to ~0.5 (impure for binary classification)\n",
        "\n",
        "---\n",
        "\n",
        "### 2. **Entropy (Information Gain)**\n",
        "\n",
        "- Measures the level of disorder or unpredictability.\n",
        "- Formula:\n",
        "  \\[\n",
        "  Entropy = -\\sum_{i=1}^{C} p_i \\log_2(p_i)\n",
        "  \\]\n",
        "\n",
        "- A node with only one class has entropy = 0.\n",
        "- **Information Gain** = Entropy(Parent) - Weighted Average(Entropy of Children)\n",
        "\n",
        "---\n",
        "\n",
        "### 3. **Classification Error (Less Common)**\n",
        "\n",
        "- Simpler but less sensitive to changes in class distribution.\n",
        "- Formula:\n",
        "  \\[\n",
        "  Error = 1 - \\max(p_i)\n",
        "  \\]\n",
        "\n",
        "---\n",
        "\n",
        "## 📌 Comparison\n",
        "\n",
        "| Criterion             | Formula                        | Best for             | Range       |\n",
        "|----------------------|--------------------------------|----------------------|-------------|\n",
        "| Gini Impurity         | \\(1 - \\sum p_i^2\\)             | CART (default in `sklearn`) | 0 to 0.5    |\n",
        "| Entropy               | \\(-\\sum p_i \\log_2(p_i)\\)      | ID3 Algorithm        | 0 to 1      |\n",
        "| Classification Error  | \\(1 - \\max(p_i)\\)              | Rarely used          | 0 to 1      |\n",
        "\n",
        "---\n",
        "\n",
        "## 💡 Example in Code\n",
        "\n",
        "```python\n",
        "from sklearn.tree import DecisionTreeClassifier\n",
        "\n",
        "# Gini (default)\n",
        "clf_gini = DecisionTreeClassifier(criterion='gini')\n",
        "\n",
        "# Entropy\n",
        "clf_entropy = DecisionTreeClassifier(criterion='entropy')\n"
      ],
      "metadata": {
        "id": "XWHe9ZtIvBy5"
      }
    },
    {
      "cell_type": "markdown",
      "source": [
        "# Q3. What is the mathematical formula for Gini Impurity?"
      ],
      "metadata": {
        "id": "cDGkG0CavIAO"
      }
    },
    {
      "cell_type": "markdown",
      "source": [
        "# 🧮 Gini Impurity - Mathematical Formula\n",
        "\n",
        "Gini Impurity is a measure of how often a randomly chosen element would be incorrectly classified if it was randomly labeled according to the distribution of labels in the node.\n",
        "\n",
        "---\n",
        "\n",
        "## 📌 Formula\n",
        "\n",
        "\\[\n",
        "Gini(p) = 1 - \\sum_{i=1}^{C} p_i^2\n",
        "\\]\n",
        "\n",
        "Where:\n",
        "- \\( C \\) = Number of classes\n",
        "- \\( p_i \\) = Proportion of samples belonging to class \\( i \\) at a given node\n",
        "\n",
        "---\n",
        "\n",
        "## 📘 Example\n",
        "\n",
        "If a node contains:\n",
        "- 4 samples of Class A\n",
        "- 6 samples of Class B\n",
        "\n",
        "Then:\n",
        "- \\( p_A = \\frac{4}{10} = 0.4 \\)\n",
        "- \\( p_B = \\frac{6}{10} = 0.6 \\)\n",
        "\n",
        "\\[\n",
        "Gini = 1 - (0.4^2 + 0.6^2) = 1 - (0.16 + 0.36) = 1 - 0.52 = 0.48\n",
        "\\]\n",
        "\n",
        "---\n",
        "\n",
        "## 🎯 Interpretation\n",
        "\n",
        "- **Gini = 0** → Perfectly pure (all elements belong to one class)\n",
        "- **Higher Gini** → More mixed classes\n",
        "\n",
        "---\n",
        "\n",
        "> 📝 **Note**: Gini is used by default in CART (Classification and Regression Tree) algorithms, such as `sklearn.tree.DecisionTreeClassifier`.\n"
      ],
      "metadata": {
        "id": "75cWPHlvvQ7m"
      }
    },
    {
      "cell_type": "markdown",
      "source": [
        "# Q4. What is the mathematical formula for Entropy?"
      ],
      "metadata": {
        "id": "U6CWcjJ7vWFh"
      }
    },
    {
      "cell_type": "markdown",
      "source": [
        "# 🔢 Entropy - Mathematical Formula\n",
        "\n",
        "**Entropy** is a measure of impurity or disorder in a set. In decision trees, it quantifies the uncertainty in the data at a node.\n",
        "\n",
        "---\n",
        "\n",
        "## 📌 Formula\n",
        "\n",
        "\\[\n",
        "Entropy(p) = - \\sum_{i=1}^{C} p_i \\log_2(p_i)\n",
        "\\]\n",
        "\n",
        "Where:\n",
        "- \\( C \\) = Number of classes\n",
        "- \\( p_i \\) = Proportion of instances belonging to class \\( i \\)\n",
        "- The base of the logarithm is **2** because we measure entropy in **bits**\n",
        "\n",
        "---\n",
        "\n",
        "## 📘 Example\n",
        "\n",
        "If a node contains:\n",
        "- 5 samples of Class A\n",
        "- 5 samples of Class B\n",
        "\n",
        "Then:\n",
        "- \\( p_A = 0.5 \\), \\( p_B = 0.5 \\)\n",
        "\n",
        "\\[\n",
        "Entropy = - (0.5 \\log_2(0.5) + 0.5 \\log_2(0.5)) \\\\\n",
        "= - (0.5 \\times -1 + 0.5 \\times -1) = 1.0\n",
        "\\]\n",
        "\n",
        "👉 This is **maximum entropy** (maximum disorder)\n",
        "\n",
        "---\n",
        "\n",
        "## 🧠 Interpretation\n",
        "\n",
        "- **Entropy = 0** → Pure node (all samples belong to one class)\n",
        "- **Higher Entropy** → More mixed or uncertain distribution\n",
        "\n",
        "---\n",
        "\n",
        "> 📝 **Note**: Entropy is used in the ID3 algorithm and is often compared with **Gini Impurity**. Both aim to find the best feature split by reducing impurity.\n"
      ],
      "metadata": {
        "id": "PbgiA3sHvdzo"
      }
    },
    {
      "cell_type": "markdown",
      "source": [
        "# Q5.  What is Information Gain, and how is it used in Decision Trees?"
      ],
      "metadata": {
        "id": "YA96Z63zvqRu"
      }
    },
    {
      "cell_type": "markdown",
      "source": [
        "# 💡 Information Gain in Decision Trees\n",
        "\n",
        "**Information Gain (IG)** is a key concept used to decide **which feature to split on** at each step in building a decision tree. It measures the **reduction in entropy** after a dataset is split on an attribute.\n",
        "\n",
        "---\n",
        "\n",
        "## 📌 Definition\n",
        "\n",
        "Information Gain is the **difference between the entropy of the parent node** and the **weighted average entropy of child nodes**.\n",
        "\n",
        "---\n",
        "\n",
        "## 🧮 Formula\n",
        "\n",
        "\\[\n",
        "IG(D, A) = Entropy(D) - \\sum_{v \\in Values(A)} \\frac{|D_v|}{|D|} \\cdot Entropy(D_v)\n",
        "\\]\n",
        "\n",
        "Where:\n",
        "- \\( D \\) = Dataset\n",
        "- \\( A \\) = Feature/attribute\n",
        "- \\( Values(A) \\) = Unique values of feature \\( A \\)\n",
        "- \\( D_v \\) = Subset of \\( D \\) where feature \\( A \\) has value \\( v \\)\n",
        "- \\( |D| \\) = Total number of instances in the dataset\n",
        "- \\( |D_v| \\) = Number of instances in subset \\( D_v \\)\n",
        "\n",
        "---\n",
        "\n",
        "## 🧠 How It's Used in Decision Trees\n",
        "\n",
        "1. At each node, calculate the **Information Gain** for all features.\n",
        "2. Select the feature that gives the **highest Information Gain**.\n",
        "3. Split the node using that feature.\n",
        "4. Repeat recursively for the child nodes.\n",
        "\n",
        "---\n",
        "\n",
        "## 📘 Example\n",
        "\n",
        "Imagine you have a dataset \\( D \\) with two features: \"Weather\" and \"Play Tennis\".\n",
        "\n",
        "- Total Entropy (before split): 0.94\n",
        "- After splitting on \"Weather\":\n",
        "  - Subset 1 (Sunny): Entropy = 0.97, size = 5\n",
        "  - Subset 2 (Rainy): Entropy = 0.86, size = 9\n",
        "\n",
        "\\[\n",
        "IG(Weather) = 0.94 - \\left( \\frac{5}{14} \\cdot 0.97 + \\frac{9}{14} \\cdot 0.86 \\right) \\\\\n",
        "= 0.94 - (0.346 + 0.553) = 0.94 - 0.899 = 0.041\n",
        "\\]\n",
        "\n",
        "---\n",
        "\n",
        "## ✅ Interpretation\n",
        "\n",
        "- **High IG**: Feature provides good separation between classes → useful for splitting\n",
        "- **Low IG**: Feature does not reduce uncertainty → not useful\n",
        "\n",
        "---\n",
        "\n",
        "## 📌 Note\n",
        "\n",
        "- Information Gain is used in **ID3 algorithm**.\n",
        "- For continuous features, a threshold is selected that gives the maximum IG.\n",
        "\n",
        "---\n",
        "\n",
        "> 🚀 **Tip**: While Information Gain uses entropy, **Gini Impurity** is often preferred in practice for its computational efficiency (used in CART).\n"
      ],
      "metadata": {
        "id": "8xZs7TU1vy7X"
      }
    },
    {
      "cell_type": "markdown",
      "source": [
        "# Q6. What is the difference between Gini Impurity and Entropy?"
      ],
      "metadata": {
        "id": "pyrCWh-cv6sf"
      }
    },
    {
      "cell_type": "markdown",
      "source": [
        "# ⚖️ Gini Impurity vs Entropy in Decision Trees\n",
        "\n",
        "Both **Gini Impurity** and **Entropy** are impurity measures used to build decision trees. They help determine the best feature to split the dataset at each step by measuring how \"pure\" or \"impure\" a node is.\n",
        "\n",
        "---\n",
        "\n",
        "## 📌 Key Differences\n",
        "\n",
        "| Feature               | Gini Impurity                                      | Entropy (Information Gain)                       |\n",
        "|----------------------|----------------------------------------------------|--------------------------------------------------|\n",
        "| **Definition**        | Measures the probability of incorrect classification | Measures the amount of information (disorder)     |\n",
        "| **Formula**           | \\( Gini = 1 - \\sum p_i^2 \\)                        | \\( Entropy = - \\sum p_i \\log_2(p_i) \\)           |\n",
        "| **Used in**           | CART Algorithm (Classification And Regression Trees) | ID3 Algorithm                                    |\n",
        "| **Range**             | 0 (pure) to 0.5 (for binary classification)        | 0 (pure) to 1 (maximum disorder in binary)       |\n",
        "| **Computational Cost**| Faster (no logarithms)                            | Slightly slower (uses log base 2)                |\n",
        "| **Behavior**          | Tends to isolate the most frequent class          | Tends to produce more balanced splits            |\n",
        "\n",
        "---\n",
        "\n",
        "## 🧠 Intuition\n",
        "\n",
        "- **Gini** focuses more on classifying the most frequent class.\n",
        "- **Entropy** is more sensitive to class distribution and focuses on overall uncertainty.\n",
        "\n",
        "---\n",
        "\n",
        "## 📘 Example Comparison\n",
        "\n",
        "For a binary node with:\n",
        "- Class A: 4 instances\n",
        "- Class B: 6 instances\n",
        "\n",
        "### Gini:\n",
        "\\[\n",
        "Gini = 1 - (0.4^2 + 0.6^2) = 0.48\n",
        "\\]\n",
        "\n",
        "### Entropy:\n",
        "\\[\n",
        "Entropy = - (0.4 \\log_2(0.4) + 0.6 \\log_2(0.6)) \\approx 0.971\n",
        "\\]\n",
        "\n",
        "---\n",
        "\n",
        "## 📝 Which One Should You Use?\n",
        "\n",
        "- **Gini** is faster and is the **default in `scikit-learn`**.\n",
        "- **Entropy** is more informative for understanding uncertainty.\n",
        "- In practice, **both often lead to similar trees**.\n",
        "\n",
        "---\n",
        "\n",
        "> ✅ **Tip**: Try both for your specific dataset and compare results — performance differences are usually small but can vary depending on data characteristics.\n"
      ],
      "metadata": {
        "id": "sdk5m2UnwQSQ"
      }
    },
    {
      "cell_type": "markdown",
      "source": [
        "# Q7. What is the mathematical explanation behind Decision Trees?"
      ],
      "metadata": {
        "id": "Xw6XGOwcwUw1"
      }
    },
    {
      "cell_type": "markdown",
      "source": [
        "# 📐 Mathematical Explanation of Decision Trees\n",
        "\n",
        "A **Decision Tree** is a supervised learning algorithm that builds a **tree-like model** of decisions using **recursive partitioning** of the feature space based on **impurity measures** like Gini or Entropy.\n",
        "\n",
        "---\n",
        "\n",
        "## 🧠 Objective\n",
        "\n",
        "At each node, the algorithm chooses the **best feature and threshold** that results in the **greatest reduction in impurity**.\n",
        "\n",
        "---\n",
        "\n",
        "## 🧮 Step-by-Step Mathematical Flow\n",
        "\n",
        "### 1. **Calculate Node Impurity**\n",
        "\n",
        "#### For Gini Impurity:\n",
        "\\[\n",
        "Gini(D) = 1 - \\sum_{i=1}^{C} p_i^2\n",
        "\\]\n",
        "\n",
        "#### For Entropy:\n",
        "\\[\n",
        "Entropy(D) = -\\sum_{i=1}^{C} p_i \\log_2(p_i)\n",
        "\\]\n",
        "\n",
        "Where:\n",
        "- \\( D \\) = Current dataset at a node\n",
        "- \\( C \\) = Number of classes\n",
        "- \\( p_i \\) = Proportion of class \\( i \\) in \\( D \\)\n",
        "\n",
        "---\n",
        "\n",
        "### 2. **Split the Data on Each Feature**\n",
        "\n",
        "For each feature \\( A \\), try all possible thresholds \\( t \\), and partition the dataset into:\n",
        "\n",
        "- \\( D_{left} = \\{x \\in D \\mid x[A] \\leq t\\} \\)\n",
        "- \\( D_{right} = \\{x \\in D \\mid x[A] > t\\} \\)\n",
        "\n",
        "---\n",
        "\n",
        "### 3. **Calculate Weighted Impurity After Split**\n",
        "\n",
        "Let:\n",
        "- \\( N \\) = Total samples in \\( D \\)\n",
        "- \\( N_{left} = |D_{left}| \\)\n",
        "- \\( N_{right} = |D_{right}| \\)\n",
        "\n",
        "Then:\n",
        "\n",
        "#### For Gini:\n",
        "\\[\n",
        "Gini_{split}(A, t) = \\frac{N_{left}}{N} \\cdot Gini(D_{left}) + \\frac{N_{right}}{N} \\cdot Gini(D_{right})\n",
        "\\]\n",
        "\n",
        "#### For Entropy:\n",
        "\\[\n",
        "Entropy_{split}(A, t) = \\frac{N_{left}}{N} \\cdot Entropy(D_{left}) + \\frac{N_{right}}{N} \\cdot Entropy(D_{right})\n",
        "\\]\n",
        "\n",
        "---\n",
        "\n",
        "### 4. **Calculate Information Gain (If Using Entropy)**\n",
        "\n",
        "\\[\n",
        "Information\\ Gain = Entropy(D) - Entropy_{split}(A, t)\n",
        "\\]\n",
        "\n",
        "---\n",
        "\n",
        "### 5. **Choose the Best Split**\n",
        "\n",
        "- For Gini: Choose \\( (A, t) \\) that **minimizes** \\( Gini_{split} \\)\n",
        "- For Entropy: Choose \\( (A, t) \\) that **maximizes** Information Gain\n",
        "\n",
        "---\n",
        "\n",
        "### 6. **Recursively Repeat** the Process\n",
        "\n",
        "- Stop when:\n",
        "  - All samples belong to the same class (pure node)\n",
        "  - No more features left\n",
        "  - A stopping criterion is met (like max depth or min samples)\n",
        "\n",
        "---\n",
        "\n",
        "## 📌 Final Prediction\n",
        "\n",
        "- Classification: Most frequent class in the leaf node\n",
        "- Regression: Mean or median of the target values in the leaf node\n",
        "\n",
        "---\n",
        "\n",
        "## 📘 Summary\n",
        "\n",
        "| Component         | Math Used                                 |\n",
        "|------------------|--------------------------------------------|\n",
        "| Splitting         | Impurity measures (Gini, Entropy)         |\n",
        "| Evaluation        | Weighted impurity / Information Gain       |\n",
        "| Decision Making   | Optimal feature and threshold selection    |\n",
        "| Recursion         | Tree building through divide and conquer  |\n",
        "\n",
        "---\n",
        "\n",
        "> 💡 **Tip**: Decision Trees are prone to overfitting. Use **pruning**, **max depth**, or ensemble methods like **Random Forests** to improve generalization.\n"
      ],
      "metadata": {
        "id": "2aB3cNhbwb6A"
      }
    },
    {
      "cell_type": "markdown",
      "source": [
        "# Q8. What is Pre-Pruning in Decision Trees?"
      ],
      "metadata": {
        "id": "aLJcNsh2wjzd"
      }
    },
    {
      "cell_type": "markdown",
      "source": [
        "# ✂️ Pre-Pruning in Decision Trees\n",
        "\n",
        "**Pre-Pruning** (also called **Early Stopping**) is a technique used to prevent **overfitting** in decision trees by **halting the tree-building process early**—before the tree becomes too complex.\n",
        "\n",
        "---\n",
        "\n",
        "## 🎯 Objective\n",
        "\n",
        "To **control the growth** of the decision tree by applying stopping criteria **before** the tree fully classifies the training data, thus improving **generalization performance**.\n",
        "\n",
        "---\n",
        "\n",
        "## 🧮 Common Pre-Pruning Techniques\n",
        "\n",
        "1. **Maximum Depth (`max_depth`)**\n",
        "   - Limits how deep the tree can grow.\n",
        "   - Prevents overfitting to noise in deep branches.\n",
        "\n",
        "2. **Minimum Samples per Split (`min_samples_split`)**\n",
        "   - A node must have at least this many samples to be split.\n",
        "   - Stops splitting on small, potentially noisy subsets.\n",
        "\n",
        "3. **Minimum Samples per Leaf (`min_samples_leaf`)**\n",
        "   - Each leaf node must contain at least this many samples.\n",
        "   - Prevents creation of small leaf nodes with overfitting risk.\n",
        "\n",
        "4. **Maximum Number of Leaves (`max_leaf_nodes`)**\n",
        "   - Limits the total number of leaf nodes in the tree.\n",
        "   - Ensures a simpler and more interpretable tree.\n",
        "\n",
        "5. **Minimum Impurity Decrease**\n",
        "   - Splitting continues only if the impurity (e.g., Gini or Entropy) decreases by a minimum amount.\n",
        "\n",
        "---\n",
        "\n",
        "## 🧠 Example in Scikit-learn\n",
        "\n",
        "```python\n",
        "from sklearn.tree import DecisionTreeClassifier\n",
        "\n",
        "# Apply pre-pruning\n",
        "clf = DecisionTreeClassifier(\n",
        "    max_depth=5,\n",
        "    min_samples_split=10,\n",
        "    min_samples_leaf=5,\n",
        "    random_state=42\n",
        ")\n",
        "clf.fit(X_train, y_train)\n"
      ],
      "metadata": {
        "id": "cyeFaJlIwqiu"
      }
    },
    {
      "cell_type": "markdown",
      "source": [
        "# Q9. What is Post-Pruning in Decision Trees?"
      ],
      "metadata": {
        "id": "3sRDGZ3Ew7aa"
      }
    },
    {
      "cell_type": "markdown",
      "source": [
        "# 🌳✂️ Post-Pruning in Decision Trees\n",
        "\n",
        "**Post-Pruning** (also called **Cost Complexity Pruning**) is a technique used to **simplify a fully grown decision tree** by **removing branches that do not provide significant predictive power**.\n",
        "\n",
        "---\n",
        "\n",
        "## 🎯 Objective\n",
        "\n",
        "To reduce **overfitting** and improve **generalization** by trimming parts of the tree that are too specific to the training data.\n",
        "\n",
        "---\n",
        "\n",
        "## 🔄 How Post-Pruning Works\n",
        "\n",
        "1. Grow the tree **fully** (until pure leaf nodes or stopping criteria).\n",
        "2. Evaluate subtrees or branches using **cross-validation** or **validation data**.\n",
        "3. **Remove branches** that do not improve the model's accuracy significantly.\n",
        "4. Replace those branches with **leaf nodes**.\n",
        "\n",
        "---\n",
        "\n",
        "## 🧮 Common Post-Pruning Technique\n",
        "\n",
        "### Cost Complexity Pruning (used in `scikit-learn`)\n",
        "\n",
        "- Introduces a **penalty term** \\( \\alpha \\) for the complexity (number of leaf nodes):\n",
        "\n",
        "\\[\n",
        "R_\\alpha(T) = R(T) + \\alpha \\cdot |T|\n",
        "\\]\n",
        "\n",
        "Where:\n",
        "- \\( R(T) \\) = Training error of the tree \\( T \\)\n",
        "- \\( |T| \\) = Number of terminal nodes (leaves)\n",
        "- \\( \\alpha \\) = Complexity parameter (higher → simpler tree)\n",
        "\n",
        "---\n",
        "\n",
        "## 📘 Example in Scikit-learn\n",
        "\n",
        "```python\n",
        "from sklearn.tree import DecisionTreeClassifier\n",
        "\n",
        "# First, train a full tree\n",
        "clf = DecisionTreeClassifier(random_state=0)\n",
        "clf.fit(X_train, y_train)\n",
        "\n",
        "# Use cost complexity pruning path\n",
        "path = clf.cost_complexity_pruning_path(X_train, y_train)\n",
        "ccp_alphas = path.ccp_alphas\n",
        "\n",
        "# Train multiple trees with different alpha values\n",
        "clfs = []\n",
        "for ccp_alpha in ccp_alphas:\n",
        "    clf = DecisionTreeClassifier(random_state=0, ccp_alpha=ccp_alpha)\n",
        "    clf.fit(X_train, y_train)\n",
        "    clfs.append(clf)\n"
      ],
      "metadata": {
        "id": "M3Ki-NQVxDDV"
      }
    },
    {
      "cell_type": "markdown",
      "source": [
        "# Q10. What is the difference between Pre-Pruning and Post-Pruning\t?"
      ],
      "metadata": {
        "id": "Pdxw9ZOcxKwS"
      }
    },
    {
      "cell_type": "markdown",
      "source": [
        "# ✂️ Pre-Pruning vs Post-Pruning in Decision Trees\n",
        "\n",
        "Pruning helps prevent **overfitting** in decision trees by controlling tree complexity. There are two main strategies:\n",
        "\n",
        "---\n",
        "\n",
        "## 📌 Key Differences\n",
        "\n",
        "| Feature              | 🟢 Pre-Pruning                         | 🔵 Post-Pruning                          |\n",
        "|----------------------|----------------------------------------|------------------------------------------|\n",
        "| **When Applied**      | During tree construction               | After full tree has been built           |\n",
        "| **Also Known As**     | Early Stopping                         | Cost Complexity Pruning (CART)           |\n",
        "| **Working Mechanism** | Stops growth based on pre-defined limits | Grows the full tree, then prunes unnecessary branches |\n",
        "| **Control Parameters**| `max_depth`, `min_samples_split`, etc. | `ccp_alpha` (complexity parameter)       |\n",
        "| **Risk**              | May underfit if too aggressive         | May overfit before pruning, but generally safer |\n",
        "| **Computation Cost**  | Lower (tree is smaller)                | Higher (full tree must be built first)   |\n",
        "| **Flexibility**       | Less flexible — relies on heuristics  | More flexible — uses validation or cost-based metrics |\n",
        "| **Used In**           | ID3, CART (with parameters)            | CART (`cost_complexity_pruning_path`)    |\n",
        "\n",
        "---\n",
        "\n",
        "## 🧠 Intuition\n",
        "\n",
        "- **Pre-Pruning** prevents the tree from growing too deep by applying constraints early.\n",
        "- **Post-Pruning** trims back parts of the fully-grown tree that are not statistically significant or add complexity with little gain.\n",
        "\n",
        "---\n",
        "\n",
        "## 🧪 Example Use in `scikit-learn`\n",
        "\n",
        "```python\n",
        "# Pre-Pruning\n",
        "DecisionTreeClassifier(max_depth=5, min_samples_split=10)\n",
        "\n",
        "# Post-Pruning\n",
        "DecisionTreeClassifier(ccp_alpha=0.01)\n"
      ],
      "metadata": {
        "id": "IuqvKSDTxQ8E"
      }
    },
    {
      "cell_type": "markdown",
      "source": [
        "# Q11.  What is a Decision Tree Regressor\t?"
      ],
      "metadata": {
        "id": "WZIVyoUVxdbT"
      }
    },
    {
      "cell_type": "markdown",
      "source": [
        "# 🌳📈 Decision Tree Regressor\n",
        "\n",
        "A **Decision Tree Regressor** is a type of decision tree used for **regression tasks**—predicting **continuous numerical values** rather than discrete class labels.\n",
        "\n",
        "---\n",
        "\n",
        "## 🎯 Objective\n",
        "\n",
        "To partition the feature space into regions and assign a **predicted value** (usually the **mean** of the target values in that region) for each leaf node.\n",
        "\n",
        "---\n",
        "\n",
        "## 🧮 How It Works\n",
        "\n",
        "1. The dataset is recursively split based on features that minimize **variance** (instead of classification impurity like Gini/Entropy).\n",
        "2. At each node, the algorithm chooses the **best split** that minimizes the **Mean Squared Error (MSE)** or **Mean Absolute Error (MAE)**.\n",
        "3. The final prediction at a leaf is the **average** of the target values in that leaf.\n",
        "\n",
        "---\n",
        "\n",
        "## 🧠 Mathematical Criterion (MSE)\n",
        "\n",
        "At each node, the algorithm tries to minimize:\n",
        "\n",
        "\\[\n",
        "MSE = \\frac{1}{n} \\sum_{i=1}^{n} (y_i - \\bar{y})^2\n",
        "\\]\n",
        "\n",
        "Where:\n",
        "- \\( y_i \\) = Actual values\n",
        "- \\( \\bar{y} \\) = Mean of values in the node\n",
        "- \\( n \\) = Number of samples in the node\n",
        "\n",
        "---\n",
        "\n",
        "## 📘 Example in Scikit-learn\n",
        "\n",
        "```python\n",
        "from sklearn.tree import DecisionTreeRegressor\n",
        "from sklearn.datasets import make_regression\n",
        "import matplotlib.pyplot as plt\n",
        "import numpy as np\n",
        "\n",
        "# Generate regression data\n",
        "X, y = make_regression(n_samples=100, n_features=1, noise=15, random_state=0)\n",
        "\n",
        "# Train model\n",
        "regressor = DecisionTreeRegressor(max_depth=4)\n",
        "regressor.fit(X, y)\n",
        "\n",
        "# Predict and plot\n",
        "X_test = np.linspace(min(X), max(X), 100).reshape(-1, 1)\n",
        "y_pred = regressor.predict(X_test)\n",
        "\n",
        "plt.scatter(X, y, color='blue', label='Data')\n",
        "plt.plot(X_test, y_pred, color='red', label='Prediction')\n",
        "plt.title(\"Decision Tree Regression\")\n",
        "plt.legend()\n",
        "plt.show()\n"
      ],
      "metadata": {
        "id": "vNUW3bB-xjpv"
      }
    },
    {
      "cell_type": "markdown",
      "source": [
        "# Q12.  What are the advantages and disadvantages of Decision Trees?"
      ],
      "metadata": {
        "id": "JS--1BY7xtCC"
      }
    },
    {
      "cell_type": "markdown",
      "source": [
        "# ✅📉 Advantages and Disadvantages of Decision Trees\n",
        "\n",
        "Decision Trees are popular in machine learning due to their simplicity and interpretability. However, they come with both strengths and limitations.\n",
        "\n",
        "---\n",
        "\n",
        "## ✅ Advantages\n",
        "\n",
        "1. **Easy to Understand and Interpret**\n",
        "   - Mimics human decision-making with clear rules.\n",
        "\n",
        "2. **No Need for Feature Scaling**\n",
        "   - No normalization or standardization required.\n",
        "\n",
        "3. **Handles Both Numerical and Categorical Data**\n",
        "   - Can work with mixed types of input features.\n",
        "\n",
        "4. **Requires Little Data Preprocessing**\n",
        "   - Handles missing values and irrelevant features reasonably well.\n",
        "\n",
        "5. **Non-Linear Relationships Captured**\n",
        "   - Naturally models complex decision boundaries.\n",
        "\n",
        "6. **Feature Importance**\n",
        "   - Can measure the relative importance of each feature.\n",
        "\n",
        "7. **Works with Multi-output Tasks**\n",
        "   - Can be adapted to predict multiple outputs.\n",
        "\n",
        "---\n",
        "\n",
        "## ❌ Disadvantages\n",
        "\n",
        "1. **Prone to Overfitting**\n",
        "   - Especially with deep trees or noisy data.\n",
        "\n",
        "2. **Unstable**\n",
        "   - Small changes in data can result in a completely different tree.\n",
        "\n",
        "3. **Biased with Imbalanced Data**\n",
        "   - Tends to favor classes with more examples.\n",
        "\n",
        "4. **Greedy Algorithm**\n",
        "   - Makes locally optimal decisions; may not find the global best tree.\n",
        "\n",
        "5. **Not Good at Smooth Predictions**\n",
        "   - Step-like predictions for regression tasks.\n",
        "\n",
        "6. **Can Be Computationally Expensive**\n",
        "   - Very large trees take longer to train and may require pruning.\n",
        "\n",
        "---\n",
        "\n",
        "## 📌 Tip\n",
        "\n",
        "> 🎯 Combine Decision Trees with ensemble methods like **Random Forests** or **Gradient Boosting** to mitigate many of these limitations.\n",
        "\n"
      ],
      "metadata": {
        "id": "xSNL9Ebfxylk"
      }
    },
    {
      "cell_type": "markdown",
      "source": [
        "# Q13.  How does a Decision Tree handle missing values?"
      ],
      "metadata": {
        "id": "mGXrWf0dyGVD"
      }
    },
    {
      "cell_type": "markdown",
      "source": [
        "# ❓🌳 How Do Decision Trees Handle Missing Values?\n",
        "\n",
        "Handling missing data is a common challenge in real-world datasets. **Decision Trees** can manage missing values more flexibly than many other machine learning algorithms.\n",
        "\n",
        "---\n",
        "\n",
        "## 🧠 Strategies to Handle Missing Values in Decision Trees\n",
        "\n",
        "### 1. **Ignore Instances with Missing Values**\n",
        "- Simplest strategy (used when missing values are few).\n",
        "- Removes rows with missing data during training.\n",
        "- ⚠️ Risk of losing useful information.\n",
        "\n",
        "### 2. **Imputation Before Training**\n",
        "- Replace missing values with:\n",
        "  - Mean/Median (for numerical)\n",
        "  - Mode (for categorical)\n",
        "- This is done **before fitting the model**, often with `SimpleImputer` in scikit-learn.\n",
        "\n",
        "```python\n",
        "from sklearn.impute import SimpleImputer\n",
        "imputer = SimpleImputer(strategy='mean')  # or 'median', 'most_frequent'\n",
        "X_imputed = imputer.fit_transform(X)\n"
      ],
      "metadata": {
        "id": "M7wMAYBHyLrk"
      }
    },
    {
      "cell_type": "markdown",
      "source": [
        "# Q14. How does a Decision Tree handle categorical features?"
      ],
      "metadata": {
        "id": "GMEUKQzJPHEs"
      }
    },
    {
      "cell_type": "markdown",
      "source": [
        "# 🔤🌳 How Do Decision Trees Handle Categorical Features?\n",
        "\n",
        "**Decision Trees** are naturally capable of handling both **numerical** and **categorical** features. However, how they do this depends on the implementation (like `scikit-learn`, `XGBoost`, etc.).\n",
        "\n",
        "---\n",
        "\n",
        "## 📌 What Are Categorical Features?\n",
        "\n",
        "- Features with **discrete** values (e.g., \"Red\", \"Green\", \"Blue\")\n",
        "- Typically **non-numeric**\n",
        "- Can be **nominal** (no order) or **ordinal** (ordered categories)\n",
        "\n",
        "---\n",
        "\n",
        "## 🧠 How Decision Trees Handle Categorical Features\n",
        "\n",
        "### 1. **Binary Splits (One-vs-Rest)**\n",
        "- Tree checks if the feature equals a particular category.\n",
        "- Example:\n",
        "  - Feature = \"Color\", Values = {Red, Green, Blue}\n",
        "  - Split: `Color == Red` → True branch, else → False branch\n",
        "\n",
        "### 2. **Multiway Splits (Non-binary trees)**\n",
        "- Each unique category gets its own branch.\n",
        "- More common in some libraries like `CART`, `C4.5`, or `rpart`.\n",
        "\n",
        "---\n",
        "\n",
        "## ⚙️ Handling Categorical Features in Scikit-learn\n",
        "\n",
        "### ❌ Native Limitation\n",
        "- `sklearn.tree.DecisionTreeClassifier` **does not support non-numeric categorical features** directly.\n",
        "- Must convert them using **encoding**:\n",
        "\n",
        "---\n",
        "\n",
        "### ✅ Solution: Encode Before Training\n",
        "\n",
        "### **Label Encoding** (if ordinal)\n",
        "\n",
        "```python\n",
        "from sklearn.preprocessing import LabelEncoder\n",
        "le = LabelEncoder()\n",
        "X['category'] = le.fit_transform(X['category'])\n"
      ],
      "metadata": {
        "id": "jYVYPYMfPTU9"
      }
    },
    {
      "cell_type": "markdown",
      "source": [
        "# Q15. What are some real-world applications of Decision Trees?"
      ],
      "metadata": {
        "id": "IwfZ12_kPdsi"
      }
    },
    {
      "cell_type": "markdown",
      "source": [
        "# 🌍 Real-World Applications of Decision Trees\n",
        "\n",
        "Decision Trees are widely used in various domains due to their **interpretability**, **low preprocessing**, and ability to handle **both categorical and numerical data**.\n",
        "\n",
        "---\n",
        "\n",
        "## 🏦 1. **Finance**\n",
        "\n",
        "- **Credit Scoring**: Classify applicants as low or high risk.\n",
        "- **Loan Approval**: Determine eligibility based on income, credit history, etc.\n",
        "- **Fraud Detection**: Identify suspicious transactions using rule-based splits.\n",
        "\n",
        "---\n",
        "\n",
        "## 🏥 2. **Healthcare**\n",
        "\n",
        "- **Medical Diagnosis**: Classify diseases based on symptoms and patient history.\n",
        "- **Risk Assessment**: Predict patient readmission or complication risk.\n",
        "- **Treatment Recommendation**: Suggest treatments based on decision paths.\n",
        "\n",
        "---\n",
        "\n",
        "## 🛒 3. **Retail & E-commerce**\n",
        "\n",
        "- **Customer Segmentation**: Group customers based on purchasing behavior.\n",
        "- **Churn Prediction**: Identify customers likely to leave the platform.\n",
        "- **Recommendation Engines**: Suggest products using behavioral patterns.\n",
        "\n",
        "---\n",
        "\n",
        "## 🎓 4. **Education**\n",
        "\n",
        "- **Student Performance Prediction**: Based on attendance, grades, and participation.\n",
        "- **Dropout Risk Analysis**: Identify students likely to drop out.\n",
        "- **Adaptive Learning Systems**: Customize content based on student progress.\n",
        "\n",
        "---\n",
        "\n",
        "## 🚗 5. **Transportation**\n",
        "\n",
        "- **Traffic Prediction**: Predict congestion levels based on time, location, and weather.\n",
        "- **Route Optimization**: Select shortest/safest routes based on traffic patterns.\n",
        "- **Vehicle Failure Detection**: Classify vehicle component failures.\n",
        "\n",
        "---\n",
        "\n",
        "## 🌾 6. **Agriculture**\n",
        "\n",
        "- **Crop Disease Diagnosis**: Predict plant diseases from images and environmental data.\n",
        "- **Yield Prediction**: Estimate productivity based on soil, weather, and crop features.\n",
        "- **Irrigation Management**: Optimize water use using decision models.\n",
        "\n",
        "---\n",
        "\n",
        "## 🕵️ 7. **Cybersecurity**\n",
        "\n",
        "- **Intrusion Detection Systems (IDS)**: Classify network traffic as normal or malicious.\n",
        "- **Spam Filtering**: Detect spam based on message features.\n",
        "- **Phishing Detection**: Classify URLs or emails as phishing or safe.\n",
        "\n",
        "---\n",
        "\n",
        "## 🗳️ 8. **Government & Public Policy**\n",
        "\n",
        "- **Policy Impact Analysis**: Predict effects of policy interventions on target groups.\n",
        "- **Resource Allocation**: Optimize the distribution of welfare schemes.\n",
        "- **Crime Prediction**: Analyze crime data to predict high-risk areas.\n",
        "\n",
        "---\n",
        "\n",
        "> 💡 **Tip**: Decision Trees are easy to interpret, making them ideal for fields where transparency and explainability are critical (e.g., healthcare, finance, law).\n"
      ],
      "metadata": {
        "id": "IXdfcvpUPikh"
      }
    },
    {
      "cell_type": "markdown",
      "source": [
        "# Practical\n",
        "\n",
        "---\n",
        "\n"
      ],
      "metadata": {
        "id": "JszboBtAPsIQ"
      }
    },
    {
      "cell_type": "markdown",
      "source": [
        "# Q16. Write a Python program to train a Decision Tree Classifier on the Iris dataset and print the model accuracy?"
      ],
      "metadata": {
        "id": "2WmCzHPPPwx5"
      }
    },
    {
      "cell_type": "code",
      "source": [
        "from sklearn.datasets import load_iris\n",
        "from sklearn.model_selection import train_test_split\n",
        "from sklearn.tree import DecisionTreeClassifier\n",
        "from sklearn.metrics import accuracy_score\n",
        "\n",
        "iris = load_iris()\n",
        "X, y = iris.data, iris.target\n",
        "X_train, X_test, y_train, y_test = train_test_split(X, y, test_size=0.3, random_state=42)\n",
        "clf = DecisionTreeClassifier(random_state=42)\n",
        "clf.fit(X_train, y_train)\n",
        "y_pred = clf.predict(X_test)\n",
        "accuracy = accuracy_score(y_test, y_pred)\n",
        "print(\"Model accuracy:\", accuracy)\n"
      ],
      "metadata": {
        "colab": {
          "base_uri": "https://localhost:8080/"
        },
        "id": "F37UIC0NP8Ce",
        "outputId": "0d15f25a-d866-41d5-ba61-e7bd3ca7d5c4"
      },
      "execution_count": null,
      "outputs": [
        {
          "output_type": "stream",
          "name": "stdout",
          "text": [
            "Model accuracy: 1.0\n"
          ]
        }
      ]
    },
    {
      "cell_type": "markdown",
      "source": [
        "# Q17. Write a Python program to train a Decision Tree Classifier using Gini Impurity as the criterion and print the feature importances?"
      ],
      "metadata": {
        "id": "wNhXBZevQNko"
      }
    },
    {
      "cell_type": "code",
      "source": [
        "from sklearn.datasets import load_iris\n",
        "from sklearn.tree import DecisionTreeClassifier\n",
        "\n",
        "iris = load_iris()\n",
        "X, y = iris.data, iris.target\n",
        "clf = DecisionTreeClassifier(criterion='gini', random_state=42)\n",
        "clf.fit(X, y)\n",
        "print(\"Feature importances:\", clf.feature_importances_)\n"
      ],
      "metadata": {
        "colab": {
          "base_uri": "https://localhost:8080/"
        },
        "id": "jue-7v1uQZCp",
        "outputId": "137f2255-3ae7-41b8-a107-1710c31ebb71"
      },
      "execution_count": null,
      "outputs": [
        {
          "output_type": "stream",
          "name": "stdout",
          "text": [
            "Feature importances: [0.01333333 0.         0.56405596 0.42261071]\n"
          ]
        }
      ]
    },
    {
      "cell_type": "markdown",
      "source": [
        "# Q18. Write a Python program to train a Decision Tree Classifier using Entropy as the splitting criterion and print the model accuracy?"
      ],
      "metadata": {
        "id": "SlXoCZmUQb93"
      }
    },
    {
      "cell_type": "code",
      "source": [
        "from sklearn.datasets import load_iris\n",
        "from sklearn.model_selection import train_test_split\n",
        "from sklearn.tree import DecisionTreeClassifier\n",
        "from sklearn.metrics import accuracy_score\n",
        "\n",
        "iris = load_iris()\n",
        "X, y = iris.data, iris.target\n",
        "X_train, X_test, y_train, y_test = train_test_split(X, y, test_size=0.3, random_state=42)\n",
        "clf = DecisionTreeClassifier(criterion='entropy', random_state=42)\n",
        "clf.fit(X_train, y_train)\n",
        "y_pred = clf.predict(X_test)\n",
        "accuracy = accuracy_score(y_test, y_pred)\n",
        "print(\"Model accuracy:\", accuracy)\n"
      ],
      "metadata": {
        "id": "9vyTH6qiTAEo",
        "colab": {
          "base_uri": "https://localhost:8080/"
        },
        "outputId": "e8bea69e-24ca-428d-b7cc-be818b8a0fd5"
      },
      "execution_count": 4,
      "outputs": [
        {
          "output_type": "stream",
          "name": "stdout",
          "text": [
            "Model accuracy: 0.9777777777777777\n"
          ]
        }
      ]
    },
    {
      "cell_type": "markdown",
      "source": [
        "# Q19. Write a Python program to train a Decision Tree Regressor on a housing dataset and evaluate using Mean Squared Error (MSE)?"
      ],
      "metadata": {
        "id": "lZKUH8exUZ5g"
      }
    },
    {
      "cell_type": "code",
      "source": [
        "from sklearn.datasets import fetch_california_housing\n",
        "from sklearn.tree import DecisionTreeRegressor\n",
        "from sklearn.model_selection import train_test_split\n",
        "from sklearn.metrics import mean_squared_error\n",
        "\n",
        "data = fetch_california_housing()\n",
        "X, y = data.data, data.target\n",
        "X_train, X_test, y_train, y_test = train_test_split(X, y, test_size=0.3, random_state=42)\n",
        "\n",
        "regressor = DecisionTreeRegressor(random_state=42)\n",
        "regressor.fit(X_train, y_train)\n",
        "y_pred = regressor.predict(X_test)\n",
        "mse = mean_squared_error(y_test, y_pred)\n",
        "print(\"Mean Squared Error:\", mse)\n"
      ],
      "metadata": {
        "id": "KLnH0mlwUelm",
        "colab": {
          "base_uri": "https://localhost:8080/"
        },
        "outputId": "0db2ff43-aa54-440a-80f9-19d8ec63ad6f"
      },
      "execution_count": 3,
      "outputs": [
        {
          "output_type": "stream",
          "name": "stdout",
          "text": [
            "Mean Squared Error: 0.5280096503174904\n"
          ]
        }
      ]
    },
    {
      "cell_type": "markdown",
      "source": [
        "# Q20. Write a Python program to train a Decision Tree Classifier and visualize the tree using graphviz?"
      ],
      "metadata": {
        "id": "FnMYVPiGU1iR"
      }
    },
    {
      "cell_type": "code",
      "source": [
        "from sklearn.datasets import load_iris\n",
        "from sklearn.tree import DecisionTreeClassifier, export_graphviz\n",
        "import graphviz\n",
        "\n",
        "iris = load_iris()\n",
        "clf = DecisionTreeClassifier(random_state=42)\n",
        "clf.fit(iris.data, iris.target)\n",
        "\n",
        "dot_data = export_graphviz(clf,\n",
        "                           out_file=None,\n",
        "                           feature_names=iris.feature_names,\n",
        "                           class_names=iris.target_names,\n",
        "                           filled=True,\n",
        "                           rounded=True,\n",
        "                           special_characters=True)\n",
        "graph = graphviz.Source(dot_data)\n",
        "graph.render(\"iris_decision_tree\")\n",
        "graph.view()\n"
      ],
      "metadata": {
        "colab": {
          "base_uri": "https://localhost:8080/",
          "height": 35
        },
        "id": "Gbws16gZU9mE",
        "outputId": "538784bb-eeb2-4398-dc22-36cfe72dfd82"
      },
      "execution_count": 5,
      "outputs": [
        {
          "output_type": "execute_result",
          "data": {
            "text/plain": [
              "'iris_decision_tree.pdf'"
            ],
            "application/vnd.google.colaboratory.intrinsic+json": {
              "type": "string"
            }
          },
          "metadata": {},
          "execution_count": 5
        }
      ]
    },
    {
      "cell_type": "markdown",
      "source": [
        "# Q21. Write a Python program to train a Decision Tree Classifier with a maximum depth of 3 and compare its accuracy with a fully grown tree?"
      ],
      "metadata": {
        "id": "sj6-RRmAVGad"
      }
    },
    {
      "cell_type": "code",
      "source": [
        "from sklearn.datasets import load_iris\n",
        "from sklearn.tree import DecisionTreeClassifier\n",
        "from sklearn.model_selection import train_test_split\n",
        "from sklearn.metrics import accuracy_score\n",
        "\n",
        "iris = load_iris()\n",
        "X, y = iris.data, iris.target\n",
        "X_train, X_test, y_train, y_test = train_test_split(X, y, test_size=0.3, random_state=42)\n",
        "\n",
        "clf_max_depth = DecisionTreeClassifier(max_depth=3, random_state=42)\n",
        "clf_full = DecisionTreeClassifier(random_state=42)\n",
        "\n",
        "clf_max_depth.fit(X_train, y_train)\n",
        "clf_full.fit(X_train, y_train)\n",
        "\n",
        "acc_max_depth = accuracy_score(y_test, clf_max_depth.predict(X_test))\n",
        "acc_full = accuracy_score(y_test, clf_full.predict(X_test))\n",
        "\n",
        "print(\"Accuracy with max_depth=3:\", acc_max_depth)\n",
        "print(\"Accuracy with fully grown tree:\", acc_full)\n"
      ],
      "metadata": {
        "colab": {
          "base_uri": "https://localhost:8080/"
        },
        "id": "8T2WrwKhVQkF",
        "outputId": "61b95f71-4ef5-4ea4-a0f0-d45a3c761a17"
      },
      "execution_count": 6,
      "outputs": [
        {
          "output_type": "stream",
          "name": "stdout",
          "text": [
            "Accuracy with max_depth=3: 1.0\n",
            "Accuracy with fully grown tree: 1.0\n"
          ]
        }
      ]
    },
    {
      "cell_type": "markdown",
      "source": [
        "# Q22. Write a Python program to train a Decision Tree Classifier using min_samples_split=5 and compare its accuracy with a default tree?"
      ],
      "metadata": {
        "id": "n2yL3nQCVZyf"
      }
    },
    {
      "cell_type": "code",
      "source": [
        "from sklearn.datasets import load_iris\n",
        "from sklearn.model_selection import train_test_split\n",
        "from sklearn.tree import DecisionTreeClassifier\n",
        "from sklearn.metrics import accuracy_score\n",
        "\n",
        "iris = load_iris()\n",
        "X, y = iris.data, iris.target\n",
        "X_train, X_test, y_train, y_test = train_test_split(X, y, test_size=0.3, random_state=42)\n",
        "\n",
        "clf_default = DecisionTreeClassifier(random_state=42)\n",
        "clf_min_split = DecisionTreeClassifier(min_samples_split=5, random_state=42)\n",
        "\n",
        "clf_default.fit(X_train, y_train)\n",
        "clf_min_split.fit(X_train, y_train)\n",
        "\n",
        "acc_default = accuracy_score(y_test, clf_default.predict(X_test))\n",
        "acc_min_split = accuracy_score(y_test, clf_min_split.predict(X_test))\n",
        "\n",
        "print(\"Default Tree Accuracy:\", acc_default)\n",
        "print(\"Tree with min_samples_split=5 Accuracy:\", acc_min_split)\n"
      ],
      "metadata": {
        "colab": {
          "base_uri": "https://localhost:8080/"
        },
        "id": "dXSda3WvVnhg",
        "outputId": "756db856-98f1-481f-871f-99d46c626764"
      },
      "execution_count": 7,
      "outputs": [
        {
          "output_type": "stream",
          "name": "stdout",
          "text": [
            "Default Tree Accuracy: 1.0\n",
            "Tree with min_samples_split=5 Accuracy: 1.0\n"
          ]
        }
      ]
    },
    {
      "cell_type": "markdown",
      "source": [
        "# Q23. Write a Python program to apply feature scaling before training a Decision Tree Classifier and compare its accuracy with unscaled data?"
      ],
      "metadata": {
        "id": "riBEr99WVvpY"
      }
    },
    {
      "cell_type": "code",
      "source": [
        "from sklearn.datasets import load_iris\n",
        "from sklearn.model_selection import train_test_split\n",
        "from sklearn.tree import DecisionTreeClassifier\n",
        "from sklearn.metrics import accuracy_score\n",
        "from sklearn.preprocessing import StandardScaler\n",
        "\n",
        "iris = load_iris()\n",
        "X, y = iris.data, iris.target\n",
        "X_train, X_test, y_train, y_test = train_test_split(X, y, test_size=0.3, random_state=42)\n",
        "\n",
        "clf_unscaled = DecisionTreeClassifier(random_state=42)\n",
        "clf_unscaled.fit(X_train, y_train)\n",
        "pred_unscaled = clf_unscaled.predict(X_test)\n",
        "acc_unscaled = accuracy_score(y_test, pred_unscaled)\n",
        "\n",
        "scaler = StandardScaler()\n",
        "X_train_scaled = scaler.fit_transform(X_train)\n",
        "X_test_scaled = scaler.transform(X_test)\n",
        "\n",
        "clf_scaled = DecisionTreeClassifier(random_state=42)\n",
        "clf_scaled.fit(X_train_scaled, y_train)\n",
        "pred_scaled = clf_scaled.predict(X_test_scaled)\n",
        "acc_scaled = accuracy_score(y_test, pred_scaled)\n",
        "\n",
        "print(\"Accuracy with unscaled data:\", acc_unscaled)\n",
        "print(\"Accuracy with scaled data:\", acc_scaled)\n"
      ],
      "metadata": {
        "colab": {
          "base_uri": "https://localhost:8080/"
        },
        "id": "sU4MaZtBWAZx",
        "outputId": "f9865e52-129a-43b7-e65c-9591eb8c4111"
      },
      "execution_count": 8,
      "outputs": [
        {
          "output_type": "stream",
          "name": "stdout",
          "text": [
            "Accuracy with unscaled data: 1.0\n",
            "Accuracy with scaled data: 1.0\n"
          ]
        }
      ]
    },
    {
      "cell_type": "markdown",
      "source": [
        "# Q24. Write a Python program to train a Decision Tree Classifier using One-vs-Rest (OvR) strategy for multiclass classification?"
      ],
      "metadata": {
        "id": "7tVk6AJZWHv2"
      }
    },
    {
      "cell_type": "code",
      "source": [
        "from sklearn.datasets import load_iris\n",
        "from sklearn.model_selection import train_test_split\n",
        "from sklearn.multiclass import OneVsRestClassifier\n",
        "from sklearn.tree import DecisionTreeClassifier\n",
        "from sklearn.metrics import accuracy_score\n",
        "\n",
        "iris = load_iris()\n",
        "X, y = iris.data, iris.target\n",
        "X_train, X_test, y_train, y_test = train_test_split(X, y, test_size=0.3, random_state=42)\n",
        "\n",
        "ovr_clf = OneVsRestClassifier(DecisionTreeClassifier(random_state=42))\n",
        "ovr_clf.fit(X_train, y_train)\n",
        "y_pred = ovr_clf.predict(X_test)\n",
        "accuracy = accuracy_score(y_test, y_pred)\n",
        "print(\"Accuracy:\", accuracy)\n"
      ],
      "metadata": {
        "colab": {
          "base_uri": "https://localhost:8080/"
        },
        "id": "oZow_qu9WQcn",
        "outputId": "008825bc-f56e-4d3a-b8d7-c06ee651690a"
      },
      "execution_count": 9,
      "outputs": [
        {
          "output_type": "stream",
          "name": "stdout",
          "text": [
            "Accuracy: 1.0\n"
          ]
        }
      ]
    },
    {
      "cell_type": "markdown",
      "source": [
        "# Q25. Write a Python program to train a Decision Tree Classifier and display the feature importance scores?"
      ],
      "metadata": {
        "id": "B8xcPcRkWVMi"
      }
    },
    {
      "cell_type": "code",
      "source": [
        "from sklearn.datasets import load_iris\n",
        "from sklearn.tree import DecisionTreeClassifier\n",
        "\n",
        "iris = load_iris()\n",
        "X, y = iris.data, iris.target\n",
        "clf = DecisionTreeClassifier(random_state=42)\n",
        "clf.fit(X, y)\n",
        "importances = clf.feature_importances_\n",
        "print(\"Feature importance scores:\")\n",
        "for feature, importance in zip(iris.feature_names, importances):\n",
        "    print(f\"{feature}: {importance}\")\n"
      ],
      "metadata": {
        "colab": {
          "base_uri": "https://localhost:8080/"
        },
        "id": "1ElXLvX4WlUl",
        "outputId": "748df443-bc02-475b-ee94-6089c9f057ec"
      },
      "execution_count": 10,
      "outputs": [
        {
          "output_type": "stream",
          "name": "stdout",
          "text": [
            "Feature importance scores:\n",
            "sepal length (cm): 0.013333333333333329\n",
            "sepal width (cm): 0.0\n",
            "petal length (cm): 0.5640559581320451\n",
            "petal width (cm): 0.4226107085346215\n"
          ]
        }
      ]
    },
    {
      "cell_type": "markdown",
      "source": [
        "# Q26. Write a Python program to train a Decision Tree Regressor with max_depth=5 and compare its performance with an unrestricted tree?"
      ],
      "metadata": {
        "id": "xW-Jj8DcWmob"
      }
    },
    {
      "cell_type": "code",
      "source": [
        "from sklearn.datasets import fetch_california_housing\n",
        "from sklearn.tree import DecisionTreeRegressor\n",
        "from sklearn.model_selection import train_test_split\n",
        "from sklearn.metrics import mean_squared_error\n",
        "\n",
        "data = fetch_california_housing()\n",
        "X, y = data.data, data.target\n",
        "X_train, X_test, y_train, y_test = train_test_split(X, y, test_size=0.3, random_state=42)\n",
        "\n",
        "tree_depth5 = DecisionTreeRegressor(max_depth=5, random_state=42)\n",
        "tree_depth5.fit(X_train, y_train)\n",
        "y_pred_depth5 = tree_depth5.predict(X_test)\n",
        "mse_depth5 = mean_squared_error(y_test, y_pred_depth5)\n",
        "\n",
        "tree_full = DecisionTreeRegressor(random_state=42)\n",
        "tree_full.fit(X_train, y_train)\n",
        "y_pred_full = tree_full.predict(X_test)\n",
        "mse_full = mean_squared_error(y_test, y_pred_full)\n",
        "\n",
        "print(\"MSE with max_depth=5:\", mse_depth5)\n",
        "print(\"MSE with unrestricted tree:\", mse_full)\n"
      ],
      "metadata": {
        "colab": {
          "base_uri": "https://localhost:8080/"
        },
        "id": "0308bXgzW3eD",
        "outputId": "17dba622-17d1-4b17-fb4e-5278b7a60270"
      },
      "execution_count": 11,
      "outputs": [
        {
          "output_type": "stream",
          "name": "stdout",
          "text": [
            "MSE with max_depth=5: 0.5210801561811793\n",
            "MSE with unrestricted tree: 0.5280096503174904\n"
          ]
        }
      ]
    },
    {
      "cell_type": "markdown",
      "source": [
        "# Q27. Write a Python program to train a Decision Tree Classifier, apply Cost Complexity Pruning (CCP), and visualize its effect on accuracy?"
      ],
      "metadata": {
        "id": "2q3sokLVW78f"
      }
    },
    {
      "cell_type": "code",
      "source": [
        "from sklearn.datasets import load_iris\n",
        "from sklearn.tree import DecisionTreeClassifier\n",
        "from sklearn.model_selection import train_test_split\n",
        "from sklearn.metrics import accuracy_score\n",
        "import matplotlib.pyplot as plt\n",
        "\n",
        "data = load_iris()\n",
        "X, y = data.data, data.target\n",
        "X_train, X_test, y_train, y_test = train_test_split(X, y, test_size=0.3, random_state=42)\n",
        "\n",
        "clf = DecisionTreeClassifier(random_state=42)\n",
        "path = clf.cost_complexity_pruning_path(X_train, y_train)\n",
        "ccp_alphas = path.ccp_alphas\n",
        "\n",
        "clfs = []\n",
        "train_scores = []\n",
        "test_scores = []\n",
        "\n",
        "for alpha in ccp_alphas:\n",
        "    clf = DecisionTreeClassifier(random_state=42, ccp_alpha=alpha)\n",
        "    clf.fit(X_train, y_train)\n",
        "    train_scores.append(accuracy_score(y_train, clf.predict(X_train)))\n",
        "    test_scores.append(accuracy_score(y_test, clf.predict(X_test)))\n",
        "    clfs.append(clf)\n",
        "\n",
        "plt.figure(figsize=(10, 6))\n",
        "plt.plot(ccp_alphas, train_scores, marker='o', label=\"Train Accuracy\", drawstyle=\"steps-post\")\n",
        "plt.plot(ccp_alphas, test_scores, marker='o', label=\"Test Accuracy\", drawstyle=\"steps-post\")\n",
        "plt.xlabel(\"CCP Alpha\")\n",
        "plt.ylabel(\"Accuracy\")\n",
        "plt.title(\"Effect of Cost Complexity Pruning on Accuracy\")\n",
        "plt.legend()\n",
        "plt.show()\n"
      ],
      "metadata": {
        "colab": {
          "base_uri": "https://localhost:8080/",
          "height": 564
        },
        "id": "wKnGGf6ZXCPX",
        "outputId": "caf6ca71-6324-4b82-8ba0-d964171be733"
      },
      "execution_count": 12,
      "outputs": [
        {
          "output_type": "display_data",
          "data": {
            "text/plain": [
              "<Figure size 1000x600 with 1 Axes>"
            ],
            "image/png": "[encoded data removed]"
          },
          "metadata": {}
        }
      ]
    },
    {
      "cell_type": "markdown",
      "source": [
        "# Q28. Write a Python program to train a Decision Tree Classifier and evaluate its performance using Precision, Recall, and F1-Score?"
      ],
      "metadata": {
        "id": "rZDpuFR_XQsJ"
      }
    },
    {
      "cell_type": "code",
      "source": [
        "from sklearn.datasets import load_iris\n",
        "from sklearn.tree import DecisionTreeClassifier\n",
        "from sklearn.model_selection import train_test_split\n",
        "from sklearn.metrics import precision_score, recall_score, f1_score, classification_report\n",
        "\n",
        "iris = load_iris()\n",
        "X, y = iris.data, iris.target\n",
        "X_train, X_test, y_train, y_test = train_test_split(X, y, test_size=0.3, random_state=42)\n",
        "\n",
        "clf = DecisionTreeClassifier(random_state=42)\n",
        "clf.fit(X_train, y_train)\n",
        "\n",
        "y_pred = clf.predict(X_test)\n",
        "\n",
        "print(classification_report(y_test, y_pred))\n"
      ],
      "metadata": {
        "colab": {
          "base_uri": "https://localhost:8080/"
        },
        "id": "31O1UcNPXb63",
        "outputId": "9950128d-0529-45ea-e401-9a932ca02e4f"
      },
      "execution_count": 13,
      "outputs": [
        {
          "output_type": "stream",
          "name": "stdout",
          "text": [
            "              precision    recall  f1-score   support\n",
            "\n",
            "           0       1.00      1.00      1.00        19\n",
            "           1       1.00      1.00      1.00        13\n",
            "           2       1.00      1.00      1.00        13\n",
            "\n",
            "    accuracy                           1.00        45\n",
            "   macro avg       1.00      1.00      1.00        45\n",
            "weighted avg       1.00      1.00      1.00        45\n",
            "\n"
          ]
        }
      ]
    },
    {
      "cell_type": "markdown",
      "source": [
        "# Q29. Write a Python program to train a Decision Tree Classifier and visualize the confusion matrix using seaborn?"
      ],
      "metadata": {
        "id": "7EA7adelXgJb"
      }
    },
    {
      "cell_type": "code",
      "source": [
        "import seaborn as sns\n",
        "import matplotlib.pyplot as plt\n",
        "from sklearn.datasets import load_iris\n",
        "from sklearn.model_selection import train_test_split\n",
        "from sklearn.tree import DecisionTreeClassifier\n",
        "from sklearn.metrics import confusion_matrix\n",
        "\n",
        "iris = load_iris()\n",
        "X, y = iris.data, iris.target\n",
        "X_train, X_test, y_train, y_test = train_test_split(X, y, test_size=0.3, random_state=42)\n",
        "\n",
        "clf = DecisionTreeClassifier(random_state=42)\n",
        "clf.fit(X_train, y_train)\n",
        "y_pred = clf.predict(X_test)\n",
        "\n",
        "cm = confusion_matrix(y_test, y_pred)\n",
        "plt.figure(figsize=(8, 6))\n",
        "sns.heatmap(cm, annot=True, fmt='d', cmap='Blues', xticklabels=iris.target_names, yticklabels=iris.target_names)\n",
        "plt.xlabel(\"Predicted\")\n",
        "plt.ylabel(\"Actual\")\n",
        "plt.title(\"Confusion Matrix\")\n",
        "plt.show()\n"
      ],
      "metadata": {
        "colab": {
          "base_uri": "https://localhost:8080/",
          "height": 564
        },
        "id": "A9HNKIQVXma2",
        "outputId": "ce3a65cb-4b5b-478a-e399-b2b15e41e8b8"
      },
      "execution_count": 14,
      "outputs": [
        {
          "output_type": "display_data",
          "data": {
            "text/plain": [
              "<Figure size 800x600 with 2 Axes>"
            ],
            "image/png": "[encoded data removed]"
          },
          "metadata": {}
        }
      ]
    },
    {
      "cell_type": "markdown",
      "source": [
        "# Q30. Write a Python program to train a Decision Tree Classifier and use GridSearchCV to find the optimal values for max_depth and min_samples_split."
      ],
      "metadata": {
        "id": "th0CmoU-YLhe"
      }
    },
    {
      "cell_type": "code",
      "source": [
        "from sklearn.datasets import load_iris\n",
        "from sklearn.model_selection import train_test_split, GridSearchCV\n",
        "from sklearn.tree import DecisionTreeClassifier\n",
        "\n",
        "iris = load_iris()\n",
        "X, y = iris.data, iris.target\n",
        "X_train, X_test, y_train, y_test = train_test_split(X, y, test_size=0.3, random_state=42)\n",
        "\n",
        "param_grid = {\n",
        "    'max_depth': [None, 2, 3, 4, 5, 6],\n",
        "    'min_samples_split': [2, 3, 4, 5, 6]\n",
        "}\n",
        "\n",
        "grid_search = GridSearchCV(DecisionTreeClassifier(random_state=42), param_grid, cv=5, scoring='accuracy')\n",
        "grid_search.fit(X_train, y_train)\n",
        "\n",
        "print(\"Best parameters:\", grid_search.best_params_)\n",
        "print(\"Best cross-validation score:\", grid_search.best_score_)\n",
        "print(\"Test set score:\", grid_search.score(X_test, y_test))\n"
      ],
      "metadata": {
        "colab": {
          "base_uri": "https://localhost:8080/"
        },
        "id": "RHFDOPuTYSUG",
        "outputId": "f5e0ec5e-73fe-4108-f469-a37753289398"
      },
      "execution_count": 15,
      "outputs": [
        {
          "output_type": "stream",
          "name": "stdout",
          "text": [
            "Best parameters: {'max_depth': None, 'min_samples_split': 6}\n",
            "Best cross-validation score: 0.9428571428571428\n",
            "Test set score: 1.0\n"
          ]
        }
      ]
    }
  ]
}