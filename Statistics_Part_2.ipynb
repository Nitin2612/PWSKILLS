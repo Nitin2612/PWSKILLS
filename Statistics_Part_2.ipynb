{
  "nbformat": 4,
  "nbformat_minor": 0,
  "metadata": {
    "colab": {
      "provenance": []
    },
    "kernelspec": {
      "name": "python3",
      "display_name": "Python 3"
    },
    "language_info": {
      "name": "python"
    }
  },
  "cells": [
    {
      "cell_type": "markdown",
      "source": [
        "# Q1. What is hypothesis testing in statistics?"
      ],
      "metadata": {
        "id": "678Wc97HAmR-"
      }
    },
    {
      "cell_type": "markdown",
      "source": [
        "Hypothesis Testing in Statistics\n",
        "---------------------------------\n",
        "Hypothesis testing is a fundamental statistical method used to make inferences or decisions about a population based on sample data. It involves formulating assumptions (hypotheses) and using statistical evidence to accept or reject these assumptions.\n",
        "\n",
        "1. **Definition**:\n",
        "   - Hypothesis testing is a **formal procedure** used to determine whether a **claim** about a population parameter is supported by sample data.\n",
        "   - It helps in **decision-making** by testing an assumption using statistical techniques.\n",
        "\n",
        "2. **Key Components**:\n",
        "   - **Null Hypothesis (H₀)**:\n",
        "     - The statement of no effect or no difference.\n",
        "     - Assumes that any observed difference is due to random chance.\n",
        "     - Example: \"The new drug has no effect on blood pressure.\"\n",
        "   - **Alternative Hypothesis (H₁ or Ha)**:\n",
        "     - The statement that contradicts the null hypothesis.\n",
        "     - Suggests that there is an effect or difference.\n",
        "     - Example: \"The new drug reduces blood pressure.\"\n",
        "   - **Test Statistic**:\n",
        "     - A numerical value calculated from the sample data used to decide whether to reject H₀.\n",
        "     - Examples: Z-score, t-score, chi-square statistic, F-statistic.\n",
        "   - **Significance Level (α)**:\n",
        "     - The probability of rejecting H₀ when it is actually true.\n",
        "     - Common values: 0.05 (5%) or 0.01 (1%).\n",
        "     - Lower values indicate stricter tests.\n",
        "   - **P-value**:\n",
        "     - The probability of obtaining a result as extreme as the observed result, assuming H₀ is true.\n",
        "     - If **p-value < α**, reject H₀ (strong evidence against H₀).\n",
        "     - If **p-value ≥ α**, fail to reject H₀ (not enough evidence against H₀).\n",
        "\n",
        "3. **Types of Hypothesis Tests**:\n",
        "   - **One-tailed test**:\n",
        "     - Tests for an effect in one direction (greater than or less than).\n",
        "     - Example: Testing if a new fertilizer **increases** crop yield.\n",
        "   - **Two-tailed test**:\n",
        "     - Tests for an effect in both directions (different from).\n",
        "     - Example: Testing if a new fertilizer **changes** crop yield (increase or decrease).\n",
        "\n",
        "4. **Steps in Hypothesis Testing**:\n",
        "   1. **State the Hypotheses (H₀ and H₁)**.\n",
        "   2. **Choose the Significance Level (α)**.\n",
        "   3. **Select an Appropriate Test (Z-test, t-test, etc.)**.\n",
        "   4. **Compute the Test Statistic**.\n",
        "   5. **Find the P-value or Critical Value**.\n",
        "   6. **Make a Decision (Reject or Fail to Reject H₀)**.\n",
        "\n",
        "5. **Common Statistical Tests**:\n",
        "   - **Z-test**: Used for large sample sizes (n ≥ 30) when population variance is known.\n",
        "   - **t-test**: Used for small samples (n < 30) or when population variance is unknown.\n",
        "   - **Chi-square test**: Used for categorical data and independence tests.\n",
        "   - **ANOVA (Analysis of Variance)**: Used to compare means across multiple groups.\n",
        "   - **F-test**: Used to compare variances of two populations.\n",
        "\n",
        "6. **Example**:\n",
        "   Suppose a company claims that its new battery lasts **more than** 500 hours.\n",
        "   - H₀: The battery lasts **500 hours or less** (μ ≤ 500).\n",
        "   - H₁: The battery lasts **more than 500 hours** (μ > 500).\n",
        "   - Conduct a **one-tailed t-test**.\n",
        "   - If the p-value is **less than 0.05**, reject H₀ and conclude the battery lasts longer.\n",
        "\n",
        "7. **Conclusion**:\n",
        "   - Hypothesis testing provides a structured approach to making **data-driven decisions**.\n",
        "   - It helps differentiate between real effects and random variations.\n",
        "   - The choice of test depends on sample size, data type, and distribution.\n"
      ],
      "metadata": {
        "id": "p1BZN5Z8Av3K"
      }
    },
    {
      "cell_type": "markdown",
      "source": [
        "# Q2. What is the null hypothesis, and how does it differ from the alternative hypothesis?"
      ],
      "metadata": {
        "id": "kotmGvndBh5P"
      }
    },
    {
      "cell_type": "markdown",
      "source": [
        "Null Hypothesis (H₀) vs. Alternative Hypothesis (H₁)\n",
        "-----------------------------------------------------\n",
        "In hypothesis testing, the null and alternative hypotheses are fundamental concepts used to test claims about a population. They represent two opposing statements, and statistical tests help determine which one is more likely to be true based on sample data.\n",
        "\n",
        "1. **Null Hypothesis (H₀)**:\n",
        "   - The **default assumption** that there is **no effect**, **no difference**, or **no relationship** in the population.\n",
        "   - It assumes that any observed differences are due to **random chance**.\n",
        "   - **Example**: A pharmaceutical company claims that a new drug has no effect on blood pressure.\n",
        "     - H₀: \"The drug does not affect blood pressure.\"\n",
        "\n",
        "2. **Alternative Hypothesis (H₁ or Ha)**:\n",
        "   - The **opposite** of the null hypothesis.\n",
        "   - It suggests that there is a **significant effect, difference, or relationship** in the population.\n",
        "   - It is what researchers aim to **prove** using statistical analysis.\n",
        "   - **Example**: The same pharmaceutical company wants to prove that the drug lowers blood pressure.\n",
        "     - H₁: \"The drug reduces blood pressure.\"\n",
        "\n",
        "3. **Key Differences**:\n",
        "| Feature           | Null Hypothesis (H₀) | Alternative Hypothesis (H₁) |\n",
        "|------------------|--------------------|--------------------|\n",
        "| Meaning         | No effect or difference | Presence of effect or difference |\n",
        "| Assumption      | Assumes observed results are due to chance | Assumes observed results are real |\n",
        "| Goal of Testing | Attempt to **reject** (not prove) | Attempt to **support** |\n",
        "| Example (Drug Test) | \"The drug has no effect on BP\" | \"The drug lowers BP\" |\n",
        "| Example (Exam Scores) | \"New teaching method does not improve scores\" | \"New teaching method improves scores\" |\n",
        "\n",
        "4. **Types of Hypothesis Tests**:\n",
        "   - **One-Tailed Test**: Tests for an effect in only **one direction** (e.g., greater or less than).\n",
        "     - Example: \"The new fertilizer **increases** crop yield.\"\n",
        "   - **Two-Tailed Test**: Tests for an effect in **both directions** (e.g., different from).\n",
        "     - Example: \"The new fertilizer **changes** crop yield (increase or decrease).\"\n",
        "\n",
        "5. **Decision Criteria**:\n",
        "   - If **p-value < significance level (α)**, **reject H₀** (supporting H₁).\n",
        "   - If **p-value ≥ α**, **fail to reject H₀** (not enough evidence for H₁).\n",
        "\n",
        "6. **Example**:\n",
        "   - Suppose a company claims their **battery lasts 500 hours**.\n",
        "   - A researcher tests this with a sample.\n",
        "   - **Hypotheses**:\n",
        "     - H₀: \"The battery lasts **500 hours or less**\" (μ ≤ 500).\n",
        "     - H₁: \"The battery lasts **more than 500 hours**\" (μ > 500).\n",
        "   - If the test result gives a **p-value < 0.05**, reject H₀ and conclude that the battery lasts longer.\n"
      ],
      "metadata": {
        "id": "01gozSL0BwKh"
      }
    },
    {
      "cell_type": "markdown",
      "source": [
        "# Q3. What is the significance level in hypothesis testing, and why is it important?"
      ],
      "metadata": {
        "id": "iGFZD9etB6p2"
      }
    },
    {
      "cell_type": "markdown",
      "source": [
        "Significance Level (α) in Hypothesis Testing\n",
        "--------------------------------------------\n",
        "The **significance level (α)** is a threshold that determines how much evidence is required to reject the null hypothesis (H₀) in hypothesis testing. It represents the **probability of making a Type I error**, which is rejecting H₀ when it is actually true.\n",
        "\n",
        "1. **Definition**:\n",
        "   - The probability of **rejecting a true null hypothesis** (Type I error).\n",
        "   - Denoted as **α** (alpha), usually set at **0.05 (5%)**, **0.01 (1%)**, or **0.10 (10%)**.\n",
        "   - A smaller α means stricter criteria for rejecting H₀, reducing the chance of a false positive.\n",
        "\n",
        "2. **Why is it Important?**:\n",
        "   - It controls the **confidence level** of a test.\n",
        "   - Helps balance between **false positives (Type I error)** and **false negatives (Type II error)**.\n",
        "   - Determines the **critical region** where H₀ is rejected.\n",
        "\n",
        "3. **Common Significance Levels**:\n",
        "| α (Significance Level) | Confidence Level | Risk of Type I Error |\n",
        "|----------------------|----------------|------------------|\n",
        "| 0.10 (10%)         | 90%            | Higher chance of rejecting true H₀ |\n",
        "| 0.05 (5%)          | 95%            | Standard in most research |\n",
        "| 0.01 (1%)          | 99%            | Very strict, used in medical studies |\n",
        "\n",
        "4. **How it Works**:\n",
        "   - If **p-value ≤ α**, reject H₀ (statistically significant result).\n",
        "   - If **p-value > α**, fail to reject H₀ (not enough evidence).\n",
        "\n",
        "5. **Example**:\n",
        "   - A company claims its **medicine reduces fever in 1 hour**.\n",
        "   - Research hypothesis test:\n",
        "     - **H₀**: The medicine does not reduce fever in 1 hour.\n",
        "     - **H₁**: The medicine reduces fever in 1 hour.\n",
        "   - **α = 0.05** (5% risk of Type I error).\n",
        "   - If p-value = **0.03**, then **0.03 < 0.05**, so we reject H₀ and conclude the medicine is effective.\n",
        "\n",
        "6. **Choosing the Right α**:\n",
        "   - **Higher α (0.10)**: Used in exploratory studies where missing a real effect is worse than a false positive.\n",
        "   - **Lower α (0.01)**: Used in critical applications like **medical trials, space missions**, where false positives can be disastrous.\n",
        "   - **Standard α (0.05)**: Commonly used in **social sciences, business, and engineering research**.\n"
      ],
      "metadata": {
        "id": "ovs8oZXeCC8E"
      }
    },
    {
      "cell_type": "markdown",
      "source": [
        "# Q4. What does a P-value represent in hypothesis testing?"
      ],
      "metadata": {
        "id": "YXLuyp5oCUEL"
      }
    },
    {
      "cell_type": "markdown",
      "source": [
        "P-value in Hypothesis Testing\n",
        "-----------------------------\n",
        "The **p-value** is a key concept in hypothesis testing that measures the **probability of obtaining a test statistic as extreme as the observed one**, assuming the null hypothesis (H₀) is true.\n",
        "\n",
        "1. **Definition**:\n",
        "   - The **probability of observing the sample data (or more extreme) under H₀**.\n",
        "   - Represents **how much evidence** exists against H₀.\n",
        "   - A **smaller p-value** suggests stronger evidence against H₀.\n",
        "\n",
        "2. **Interpreting P-values**:\n",
        "   - **Low p-value (≤ α)** → Reject H₀ (Strong evidence against H₀).\n",
        "   - **High p-value (> α)** → Fail to reject H₀ (Not enough evidence to discard H₀).\n",
        "\n",
        "3. **Common Thresholds**:\n",
        "| P-value Range | Interpretation |\n",
        "|--------------|---------------|\n",
        "| p ≤ 0.01 | Strong evidence against H₀ (Highly significant) |\n",
        "| 0.01 < p ≤ 0.05 | Moderate evidence against H₀ (Statistically significant) |\n",
        "| 0.05 < p ≤ 0.10 | Weak evidence against H₀ (Marginal significance) |\n",
        "| p > 0.10 | No evidence against H₀ (Not significant) |\n",
        "\n",
        "4. **How It Works**:\n",
        "   - Choose a significance level **α** (usually **0.05** or **5%**).\n",
        "   - Compute the **p-value** based on sample data.\n",
        "   - Compare **p-value** with **α**:\n",
        "     - If **p ≤ α**, reject H₀.\n",
        "     - If **p > α**, fail to reject H₀.\n",
        "\n",
        "5. **Example**:\n",
        "   - A company claims that a **new drug lowers blood pressure**.\n",
        "   - Hypotheses:\n",
        "     - **H₀**: The drug has no effect.\n",
        "     - **H₁**: The drug lowers blood pressure.\n",
        "   - Statistical test gives **p = 0.02**.\n",
        "   - If **α = 0.05**, then **0.02 < 0.05**, so we **reject H₀** and conclude the drug is effective.\n",
        "\n",
        "6. **Key Points**:\n",
        "   - A **p-value does NOT measure** the probability that H₀ is true.\n",
        "   - It does NOT confirm **practical significance**, only **statistical significance**.\n",
        "   - **Smaller p-values** indicate **stronger evidence** but do not guarantee causation.\n"
      ],
      "metadata": {
        "id": "4aFbrm0uCb3o"
      }
    },
    {
      "cell_type": "markdown",
      "source": [
        "# Q5.  How do you interpret the P-value in hypothesis testing?"
      ],
      "metadata": {
        "id": "kvgTxwkUCmC9"
      }
    },
    {
      "cell_type": "markdown",
      "source": [
        "Interpreting the P-value in Hypothesis Testing\n",
        "---------------------------------------------\n",
        "The **p-value** helps determine whether the observed data provides enough evidence to reject the **null hypothesis (H₀)**.\n",
        "\n",
        "1. **Definition**:\n",
        "   - The **p-value** represents the **probability of obtaining results as extreme as the observed data, assuming H₀ is true**.\n",
        "   - It quantifies the **strength of evidence** against H₀.\n",
        "\n",
        "2. **Decision Rule**:\n",
        "   - Compare the **p-value** to the **significance level (α)**.\n",
        "   - **Typical α values**: **0.05 (5%)**, **0.01 (1%)**, **0.10 (10%)**.\n",
        "\n",
        "| P-value Range | Interpretation |\n",
        "|--------------|---------------|\n",
        "| **p ≤ 0.01** | Very strong evidence against H₀ (Highly significant) |\n",
        "| **0.01 < p ≤ 0.05** | Moderate evidence against H₀ (Statistically significant) |\n",
        "| **0.05 < p ≤ 0.10** | Weak evidence against H₀ (Marginal significance) |\n",
        "| **p > 0.10** | No significant evidence against H₀ |\n",
        "\n",
        "3. **Interpreting Results**:\n",
        "   - **If p ≤ α** (e.g., p ≤ 0.05), **Reject H₀** → **The results are statistically significant**.\n",
        "   - **If p > α**, **Fail to reject H₀** → **The results are not statistically significant**.\n",
        "\n",
        "4. **Example**:\n",
        "   - A company claims a **new fertilizer increases crop yield**.\n",
        "   - Hypotheses:\n",
        "     - **H₀**: The fertilizer has no effect.\n",
        "     - **H₁**: The fertilizer increases crop yield.\n",
        "   - Statistical test gives **p = 0.03**.\n",
        "   - If **α = 0.05**, then **0.03 < 0.05**, so we **reject H₀** and conclude that the fertilizer is effective.\n",
        "\n",
        "5. **Common Misconceptions**:\n",
        "   - **A p-value does NOT** tell you the probability that H₀ is true.\n",
        "   - **A p-value does NOT** indicate the size of the effect (practical significance).\n",
        "   - A **small p-value** suggests strong evidence against H₀ but does NOT confirm a causal relationship.\n"
      ],
      "metadata": {
        "id": "LUNX5jnzCrRm"
      }
    },
    {
      "cell_type": "markdown",
      "source": [
        "# Q6. What are Type 1 and Type 2 errors in hypothesis testing?"
      ],
      "metadata": {
        "id": "pFKPgkGvC3uv"
      }
    },
    {
      "cell_type": "markdown",
      "source": [
        "Type 1 and Type 2 Errors in Hypothesis Testing\n",
        "---------------------------------------------\n",
        "In hypothesis testing, there are two possible types of errors that can occur:\n",
        "\n",
        "1. **Type 1 Error (False Positive)**:\n",
        "   - **Definition**: Occurs when the null hypothesis (H₀) is **true**, but we **reject** it.\n",
        "   - **Risk**: It is the error of concluding that there is an effect or difference when, in reality, there isn't.\n",
        "   - **Probability**: The probability of a Type 1 error is denoted by **α** (alpha), also known as the **significance level** of the test.\n",
        "   \n",
        "   **Example**:\n",
        "   - A drug trial suggests the new drug is effective when it actually isn't.\n",
        "   - **Decision**: Reject H₀ (drug has no effect) when the drug has no effect in reality.\n",
        "   - **Type 1 error** occurs.\n",
        "\n",
        "2. **Type 2 Error (False Negative)**:\n",
        "   - **Definition**: Occurs when the null hypothesis (H₀) is **false**, but we **fail to reject** it.\n",
        "   - **Risk**: It is the error of failing to detect an effect or difference that actually exists.\n",
        "   - **Probability**: The probability of a Type 2 error is denoted by **β** (beta), and its complement, **1 - β**, represents the **power** of the test (the probability of correctly rejecting H₀ when it is false).\n",
        "\n",
        "   **Example**:\n",
        "   - A drug trial suggests the drug is ineffective when it actually does work.\n",
        "   - **Decision**: Fail to reject H₀ (drug has no effect) when the drug is actually effective.\n",
        "   - **Type 2 error** occurs.\n",
        "\n",
        "3. **Relationship Between Type 1 and Type 2 Errors**:\n",
        "   - **Trade-off**: Reducing the probability of a Type 1 error (by lowering α) increases the probability of a Type 2 error (increasing β), and vice versa.\n",
        "   - **Balancing Errors**: To minimize both errors, it’s important to choose an appropriate significance level (α) and have a sufficient sample size.\n",
        "\n",
        "4. **Visualizing Errors**:\n",
        "   - A **Type 1 error** happens when the rejection region (where we reject H₀) includes the true value of the population parameter.\n",
        "   - A **Type 2 error** happens when we fail to reject H₀ even though the true value of the population parameter lies outside the acceptance region.\n",
        "\n",
        "5. **Impact of Errors**:\n",
        "   - **Type 1 error**: Can lead to unnecessary changes or interventions based on a false belief of an effect.\n",
        "   - **Type 2 error**: Can result in missing a real effect or improvement, potentially leading to lost opportunities.\n",
        "\n",
        "6. **Example**:\n",
        "   - A new vaccine is tested for its effectiveness.\n",
        "     - **H₀**: The vaccine has no effect.\n",
        "     - **H₁**: The vaccine has an effect.\n",
        "   - If the vaccine has no effect, but the test incorrectly concludes that it does, a **Type 1 error** occurs.\n",
        "   - If the vaccine has an effect, but the test fails to detect it, a **Type 2 error** occurs.\n"
      ],
      "metadata": {
        "id": "uUrVFNswC-Zk"
      }
    },
    {
      "cell_type": "markdown",
      "source": [
        "# Q7. What is the difference between a one-tailed and a two-tailed test in hypothesis testing?"
      ],
      "metadata": {
        "id": "NOhY_1oWDV_e"
      }
    },
    {
      "cell_type": "markdown",
      "source": [
        "Difference Between One-Tailed and Two-Tailed Tests in Hypothesis Testing\n",
        "------------------------------------------------------------------------\n",
        "In hypothesis testing, the distinction between **one-tailed** and **two-tailed** tests refers to the directionality of the test and the nature of the alternative hypothesis (H₁).\n",
        "\n",
        "1. **Two-Tailed Test**:\n",
        "   - **Definition**: A **two-tailed test** tests for the possibility of an effect in **both directions** (either greater than or less than a certain value).\n",
        "   - **Alternative Hypothesis (H₁)**: It states that the parameter is **not equal** to a specific value.\n",
        "     - H₁: μ ≠ μ₀\n",
        "   - **Use Case**: Used when we are interested in deviations in **both directions**, i.e., the parameter could be either **larger or smaller** than the hypothesized value.\n",
        "   - **Critical Regions**: The **rejection regions** (areas where we would reject the null hypothesis) are located in **both tails** of the probability distribution.\n",
        "   - **Example**: Testing if a new drug has a **different** effect on blood pressure compared to a known standard (could be either an increase or decrease).\n",
        "\n",
        "   **Decision Rule**:\n",
        "   - Reject H₀ if the test statistic falls **outside** the acceptance region in **both tails**.\n",
        "\n",
        "2. **One-Tailed Test**:\n",
        "   - **Definition**: A **one-tailed test** tests for the possibility of an effect in **only one direction** (either greater than or less than a certain value).\n",
        "   - **Alternative Hypothesis (H₁)**: It states that the parameter is either **greater than or less than** a specific value.\n",
        "     - H₁: μ > μ₀ (Right-tailed) or H₁: μ < μ₀ (Left-tailed)\n",
        "   - **Use Case**: Used when we are only interested in one specific direction of the effect (either an increase or a decrease).\n",
        "   - **Critical Region**: The **rejection region** is located in **one tail** of the distribution (either the **right** or **left**).\n",
        "   - **Example**: Testing if a new drug **increases** blood pressure compared to a known standard (right-tailed test).\n",
        "\n",
        "   **Decision Rule**:\n",
        "   - Reject H₀ if the test statistic falls **in the rejection region** (one tail).\n",
        "\n",
        "3. **Example of One-Tailed Test**:\n",
        "   - A company claims that their new manufacturing process increases production.\n",
        "   - Hypotheses:\n",
        "     - **H₀**: μ = μ₀ (No increase in production)\n",
        "     - **H₁**: μ > μ₀ (Increase in production)\n",
        "   - Use a **right-tailed test** to test if the production rate has increased.\n",
        "\n",
        "4. **Example of Two-Tailed Test**:\n",
        "   - A researcher tests whether a new treatment has a different effect on blood pressure compared to the existing treatment.\n",
        "   - Hypotheses:\n",
        "     - **H₀**: μ = μ₀ (No difference)\n",
        "     - **H₁**: μ ≠ μ₀ (A difference in either direction)\n",
        "   - Use a **two-tailed test** to check if the new treatment is either better or worse than the existing one.\n",
        "\n",
        "5. **Key Considerations**:\n",
        "   - **One-Tailed Test**: More powerful if we expect a specific direction of the effect but not appropriate if the effect could be in either direction.\n",
        "   - **Two-Tailed Test**: More conservative, as it accounts for the possibility of the effect in **both directions**."
      ],
      "metadata": {
        "id": "-rzGEPB7DfuU"
      }
    },
    {
      "cell_type": "markdown",
      "source": [
        "# Q8. What is the Z-test, and when is it used in hypothesis testing?"
      ],
      "metadata": {
        "id": "hsh5TEyjDkqk"
      }
    },
    {
      "cell_type": "markdown",
      "source": [
        "Z-Test in Hypothesis Testing\n",
        "-----------------------------\n",
        "A **Z-test** is a type of statistical test that is used to determine if there is a significant difference between the sample mean and the population mean (or between two sample means), based on the assumption that the sampling distribution follows a normal distribution.\n",
        "\n",
        "### 1. **What is a Z-test?**\n",
        "   - A **Z-test** is used to test hypotheses about population parameters (e.g., population mean or proportion) when the **sample size is large** (typically n > 30) or when the population standard deviation is known.\n",
        "   - It relies on the **Z-distribution**, which is a standard normal distribution with a mean of 0 and a standard deviation of 1.\n",
        "   \n",
        "   **Formula for Z-test**:\n",
        "   \\[\n",
        "   Z = \\frac{\\bar{X} - \\mu_0}{\\frac{\\sigma}{\\sqrt{n}}}\n",
        "   \\]\n",
        "   Where:\n",
        "   - \\( \\bar{X} \\) = Sample mean\n",
        "   - \\( \\mu_0 \\) = Population mean under the null hypothesis\n",
        "   - \\( \\sigma \\) = Population standard deviation (or sample standard deviation if population standard deviation is unknown)\n",
        "   - \\( n \\) = Sample size\n",
        "\n",
        "### 2. **When to Use a Z-test?**\n",
        "   A **Z-test** is appropriate under the following conditions:\n",
        "   - **Known Population Standard Deviation**: When the population standard deviation (\\(\\sigma\\)) is known or can be reasonably approximated.\n",
        "   - **Large Sample Size**: Typically, a Z-test is used when the sample size is **greater than 30** (n > 30). For small samples, a **t-test** is typically more appropriate.\n",
        "   - **Normal Distribution**: When the data is normally distributed, or the sample size is large enough for the Central Limit Theorem to apply, ensuring the sample mean follows a normal distribution.\n",
        "\n",
        "   **Use cases**:\n",
        "   - Testing whether a sample mean significantly differs from a known population mean.\n",
        "   - Testing the difference between two sample means when the population standard deviations are known.\n",
        "\n",
        "### 3. **Types of Z-tests**:\n",
        "   1. **One-Sample Z-test**:\n",
        "      - Used to compare the sample mean to a known population mean.\n",
        "      - **Null Hypothesis (H₀)**: The sample mean is equal to the population mean.\n",
        "      - **Alternative Hypothesis (H₁)**: The sample mean is not equal to the population mean.\n",
        "\n",
        "   2. **Two-Sample Z-test**:\n",
        "      - Used to compare the means of two independent samples when the population variances are known.\n",
        "      - **Null Hypothesis (H₀)**: The means of the two populations are equal.\n",
        "      - **Alternative Hypothesis (H₁)**: The means of the two populations are not equal.\n",
        "      \n",
        "   3. **Z-test for Proportions**:\n",
        "      - Used to test if a sample proportion is different from a population proportion.\n",
        "      - **Null Hypothesis (H₀)**: The sample proportion equals the population proportion.\n",
        "      - **Alternative Hypothesis (H₁)**: The sample proportion differs from the population proportion.\n",
        "\n",
        "### 4. **Steps to Perform a Z-test**:\n",
        "   1. **State the Hypotheses**: Define the null and alternative hypotheses.\n",
        "      - **H₀**: μ = μ₀ (No difference)\n",
        "      - **H₁**: μ ≠ μ₀ (Difference exists)\n",
        "   \n",
        "   2. **Choose the Significance Level (α)**: Common choices are 0.05, 0.01, or 0.10.\n",
        "   \n",
        "   3. **Compute the Z-score** using the formula provided.\n",
        "   \n",
        "   4. **Determine the Critical Value**: Using a Z-table or software, find the critical value(s) corresponding to the chosen significance level (α). For a two-tailed test, find the critical values for both tails.\n",
        "   \n",
        "   5. **Make a Decision**:\n",
        "      - If the computed Z-score falls **outside** the critical value range, reject the null hypothesis.\n",
        "      - If the computed Z-score falls **within** the critical value range, fail to reject the null hypothesis.\n",
        "\n",
        "### 5. **Interpretation of Z-test Results**:\n",
        "   - **Reject H₀** if the Z-score is greater than the critical value (or smaller than the negative critical value for two-tailed tests).\n",
        "   - **Fail to reject H₀** if the Z-score lies within the acceptance region (within the critical values).\n",
        "\n",
        "### 6. **Example of a Z-test**:\n",
        "   **Scenario**: A company claims that their machine produces parts with a mean weight of 500 grams. You take a sample of 50 parts and find that the sample mean is 510 grams with a population standard deviation of 15 grams. Perform a Z-test to see if there is a significant difference from the claimed mean weight.\n",
        "   \n",
        "   - **H₀**: μ = 500 (The machine produces parts with a mean weight of 500 grams)\n",
        "   - **H₁**: μ ≠ 500 (The machine does not produce parts with a mean weight of 500 grams)\n",
        "   \n",
        "   - Sample Mean (\\(\\bar{X}\\)) = 510 grams\n",
        "   - Population Mean (\\(\\mu_0\\)) = 500 grams\n",
        "   - Population Standard Deviation (\\(\\sigma\\)) = 15 grams\n",
        "   - Sample Size (\\(n\\)) = 50\n",
        "   \n",
        "   **Z Calculation**:\n",
        "   \\[\n",
        "   Z = \\frac{510 - 500}{\\frac{15}{\\sqrt{50}}} = \\frac{10}{\\frac{15}{7.07}} = \\frac{10}{2.12} = 4.72\n",
        "   \\]\n",
        "\n",
        "   With a significance level of 0.05, the critical value for a two-tailed test is approximately ±1.96. Since 4.72 > 1.96, we **reject the null hypothesis** and conclude that the machine does not produce parts with a mean weight of 500 grams.\n"
      ],
      "metadata": {
        "id": "-QdACGDFEqZf"
      }
    },
    {
      "cell_type": "code",
      "source": [
        "import numpy as np\n",
        "from scipy import stats\n",
        "\n",
        "population_mean = 1200\n",
        "population_std = 100\n",
        "\n",
        "sample_mean = 1230\n",
        "sample_size = 50\n",
        "\n",
        "z_score = (sample_mean - population_mean) / (population_std / np.sqrt(sample_size))\n",
        "print(f\"Z-score: {z_score:.2f}\")\n",
        "\n",
        "alpha = 0.05\n",
        "critical_z = stats.norm.ppf(1 - alpha/2)\n",
        "print(f\"Critical Z-value (α=0.05): ±{critical_z:.2f}\")\n",
        "\n",
        "if abs(z_score) > critical_z:\n",
        "    print(\"Reject the null hypothesis (H₀).\")\n",
        "else:\n",
        "    print(\"Fail to reject H₀.\")"
      ],
      "metadata": {
        "colab": {
          "base_uri": "https://localhost:8080/"
        },
        "id": "MiG7rGPhSzUx",
        "outputId": "81e28aa6-d78b-401b-fc8f-79b1120396ea"
      },
      "execution_count": 1,
      "outputs": [
        {
          "output_type": "stream",
          "name": "stdout",
          "text": [
            "Z-score: 2.12\n",
            "Critical Z-value (α=0.05): ±1.96\n",
            "Reject the null hypothesis (H₀).\n"
          ]
        }
      ]
    },
    {
      "cell_type": "markdown",
      "source": [
        "# Q9. How do you calculate the Z-score, and what does it represent in hypothesis testing?"
      ],
      "metadata": {
        "id": "t-UOoU-tE7mc"
      }
    },
    {
      "cell_type": "markdown",
      "source": [
        "# Z-Score Calculation and Interpretation in Hypothesis Testing\n",
        "------------------------------------------------------------\n",
        "\n",
        "### 1. **What is a Z-score?**\n",
        "   The **Z-score** is a statistical measure that quantifies the number of standard deviations a data point is from the mean of a distribution. In hypothesis testing, the Z-score is used to determine how far the sample mean is from the population mean, relative to the standard error of the sample mean.\n",
        "\n",
        "### 2. **Formula to Calculate Z-score**:\n",
        "   The formula for calculating the Z-score in hypothesis testing is:\n",
        "\n",
        "   \\[\n",
        "   Z = \\frac{\\bar{X} - \\mu_0}{\\frac{\\sigma}{\\sqrt{n}}}\n",
        "   \\]\n",
        "\n",
        "   Where:\n",
        "   - \\( \\bar{X} \\) = Sample mean\n",
        "   - \\( \\mu_0 \\) = Population mean under the null hypothesis\n",
        "   - \\( \\sigma \\) = Population standard deviation (or sample standard deviation if population standard deviation is unknown)\n",
        "   - \\( n \\) = Sample size\n",
        "\n",
        "### 3. **Interpretation of the Z-score**:\n",
        "   - The Z-score tells you how many standard deviations the sample mean is from the population mean.\n",
        "   - **Positive Z-score**: The sample mean is above the population mean.\n",
        "   - **Negative Z-score**: The sample mean is below the population mean.\n",
        "   - **Z-score of 0**: The sample mean is exactly equal to the population mean.\n",
        "\n",
        "### 4. **Steps to Calculate the Z-score**:\n",
        "   1. **Identify the Sample Mean**: This is the mean value obtained from your sample data.\n",
        "   2. **Determine the Population Mean**: This is the population mean value under the null hypothesis.\n",
        "   3. **Find the Population Standard Deviation**: Use the population standard deviation if known. If not, you can use the sample standard deviation.\n",
        "   4. **Find the Sample Size**: The number of observations in your sample.\n",
        "   5. **Apply the Z-score Formula**: Substitute the values into the formula and calculate the Z-score.\n",
        "\n",
        "### 5. **Example of Z-score Calculation**:\n",
        "\n",
        "   **Scenario**: A company claims that the average time to assemble a product is 30 minutes. A sample of 40 products is taken, and the sample mean assembly time is found to be 32 minutes, with a population standard deviation of 4 minutes. Perform a Z-test to determine whether the sample mean is significantly different from the claimed population mean.\n",
        "\n",
        "   - **H₀**: μ = 30 (The mean assembly time is 30 minutes)\n",
        "   - **H₁**: μ ≠ 30 (The mean assembly time is not 30 minutes)\n",
        "\n",
        "   - Sample Mean (\\(\\bar{X}\\)) = 32 minutes\n",
        "   - Population Mean (\\(\\mu_0\\)) = 30 minutes\n",
        "   - Population Standard Deviation (\\(\\sigma\\)) = 4 minutes\n",
        "   - Sample Size (\\(n\\)) = 40\n",
        "\n",
        "   **Z Calculation**:\n",
        "   \\[\n",
        "   Z = \\frac{32 - 30}{\\frac{4}{\\sqrt{40}}} = \\frac{2}{\\frac{4}{6.32}} = \\frac{2}{0.632} = 3.16\n",
        "   \\]\n",
        "\n",
        "   Now, compare the calculated Z-score with the critical value:\n",
        "   - For a significance level of 0.05 (two-tailed), the critical value is approximately ±1.96.\n",
        "   - Since 3.16 > 1.96, we **reject the null hypothesis** and conclude that the mean assembly time is significantly different from 30 minutes.\n",
        "\n",
        "### 6. **What Does the Z-score Represent in Hypothesis Testing?**\n",
        "   - The Z-score is used to measure the **distance** (in terms of standard deviations) between the sample mean and the population mean under the null hypothesis.\n",
        "   - It helps determine whether the observed sample mean is consistent with the hypothesized population mean or if the difference is statistically significant.\n",
        "   - By comparing the Z-score with a critical value from the Z-distribution, you can make a decision about rejecting or failing to reject the null hypothesis.\n"
      ],
      "metadata": {
        "id": "go4c1e3NSvjU"
      }
    },
    {
      "cell_type": "markdown",
      "source": [
        "# Q10. What is the T-distribution, and when should it be used instead of the normal distribution?"
      ],
      "metadata": {
        "id": "u8mDwmMETV8b"
      }
    },
    {
      "cell_type": "markdown",
      "source": [
        "# T-Distribution and its Application in Hypothesis Testing\n",
        "------------------------------------------------------------\n",
        "\n",
        "### 1. **What is the T-distribution?**\n",
        "   The **T-distribution**, also known as Student's t-distribution, is a probability distribution used in statistics for hypothesis testing and confidence interval estimation, especially when dealing with small sample sizes or when the population standard deviation is unknown.\n",
        "\n",
        "### 2. **Key Characteristics of the T-distribution**:\n",
        "   - **Shape**: The T-distribution is symmetric and bell-shaped like the normal distribution, but it has **fatter tails**.\n",
        "   - **Dependence on Degrees of Freedom**: The shape of the T-distribution depends on the **degrees of freedom (df)**, which are related to the sample size. The **degrees of freedom** are calculated as \\( df = n - 1 \\), where \\( n \\) is the sample size.\n",
        "   - **Variance**: The T-distribution has slightly higher variance than the normal distribution, especially for small sample sizes.\n",
        "   - **Convergence to Normal Distribution**: As the sample size increases, the T-distribution approaches the normal distribution. For large sample sizes (typically \\( n > 30 \\)), the T-distribution is approximately equal to the standard normal distribution.\n",
        "\n",
        "### 3. **When to Use the T-distribution**:\n",
        "   The T-distribution is used primarily when the following conditions exist:\n",
        "   1. **Sample Size is Small**: The sample size is less than 30 (typically \\( n < 30 \\)).\n",
        "   2. **Population Standard Deviation is Unknown**: When the population standard deviation is not known, and the sample standard deviation is used as an estimate.\n",
        "   3. **Normality Assumption**: The data should follow (or approximate) a normal distribution. If the sample size is small, you may need to check for normality using tests like the Shapiro-Wilk test.\n",
        "\n",
        "### 4. **T-distribution vs. Normal Distribution**:\n",
        "   - **Normal Distribution**:\n",
        "     - Used when the population standard deviation is known or the sample size is large.\n",
        "     - Has a fixed shape regardless of the sample size.\n",
        "     - Generally used for large samples where the Central Limit Theorem ensures that the sampling distribution of the sample mean will be approximately normal.\n",
        "   \n",
        "   - **T-distribution**:\n",
        "     - Used when the population standard deviation is unknown and the sample size is small.\n",
        "     - Has thicker tails to account for the increased uncertainty in estimating the population parameters from smaller samples.\n",
        "\n",
        "### 5. **T-test Example**:\n",
        "   **Scenario**: A company claims that the average time spent by its employees on a task is 15 minutes. You collect a sample of 10 employees, and the sample mean is 17 minutes, with a sample standard deviation of 3 minutes. Test whether the mean time spent is significantly different from 15 minutes at a 0.05 significance level.\n",
        "\n",
        "   - **Null Hypothesis (H₀)**: \\( \\mu = 15 \\)\n",
        "   - **Alternative Hypothesis (H₁)**: \\( \\mu \\neq 15 \\)\n",
        "   \n",
        "   - Sample Mean (\\( \\bar{X} \\)) = 17 minutes\n",
        "   - Population Mean (\\( \\mu_0 \\)) = 15 minutes\n",
        "   - Sample Standard Deviation (\\( s \\)) = 3 minutes\n",
        "   - Sample Size (\\( n \\)) = 10\n",
        "   - Degrees of Freedom (\\( df \\)) = \\( n - 1 = 9 \\)\n",
        "   \n",
        "   **Formula for T-statistic**:\n",
        "   \\[\n",
        "   T = \\frac{\\bar{X} - \\mu_0}{\\frac{s}{\\sqrt{n}}}\n",
        "   \\]\n",
        "   \\[\n",
        "   T = \\frac{17 - 15}{\\frac{3}{\\sqrt{10}}} = \\frac{2}{0.9487} = 2.11\n",
        "   \\]\n",
        "\n",
        "   Using a **T-distribution table** for \\( df = 9 \\) and a significance level of 0.05 (two-tailed), the critical value is approximately 2.262.\n",
        "\n",
        "   - Since the calculated T-statistic (2.11) is **less** than the critical value (2.262), we **fail to reject** the null hypothesis. This means that the sample data does not provide enough evidence to conclude that the average time spent is significantly different from 15 minutes.\n"
      ],
      "metadata": {
        "id": "vLzH2Yd9TuVC"
      }
    },
    {
      "cell_type": "markdown",
      "source": [
        "# Q11. What is the difference between a Z-test and a T-test?"
      ],
      "metadata": {
        "id": "iPND8FywUCEn"
      }
    },
    {
      "cell_type": "markdown",
      "source": [
        "# Z-test vs. T-test: Key Differences and Applications\n",
        "------------------------------------------------------\n",
        "\n",
        "### 1. **Definition of Z-test and T-test**\n",
        "   - **Z-test**: A statistical test used to determine whether there is a significant difference between the population mean and the sample mean when the population variance or standard deviation is known, or when the sample size is large (typically \\( n > 30 \\)).\n",
        "   - **T-test**: A statistical test used to determine whether there is a significant difference between the population mean and the sample mean when the population standard deviation is unknown and the sample size is small (typically \\( n < 30 \\)).\n",
        "\n",
        "### 2. **When to Use Each Test**\n",
        "   - **Z-test**:\n",
        "     - Used when the population variance or standard deviation is known.\n",
        "     - Used for large sample sizes (\\( n > 30 \\)), where the sample size is large enough for the Central Limit Theorem to apply.\n",
        "     - Example: Testing the mean salary of employees in a large organization where the population standard deviation is known.\n",
        "   \n",
        "   - **T-test**:\n",
        "     - Used when the population standard deviation is unknown.\n",
        "     - Typically used for small sample sizes (\\( n < 30 \\)).\n",
        "     - Example: Testing the mean difference in test scores of two small student groups where the population standard deviation is not available.\n",
        "\n",
        "### 3. **Key Differences Between Z-test and T-test**\n",
        "\n",
        "| **Aspect**            | **Z-test**                                           | **T-test**                                            |\n",
        "|-----------------------|------------------------------------------------------|-------------------------------------------------------|\n",
        "| **Population SD**      | Population standard deviation (\\( \\sigma \\)) is known | Population standard deviation (\\( \\sigma \\)) is unknown |\n",
        "| **Sample Size**        | Typically used for large sample sizes (\\( n > 30 \\)) | Typically used for small sample sizes (\\( n < 30 \\))   |\n",
        "| **Test Statistic**     | Z-statistic (based on normal distribution)           | T-statistic (based on t-distribution)                 |\n",
        "| **Distribution**       | Follows a normal distribution                        | Follows a t-distribution                             |\n",
        "| **Critical Values**    | Z-values from the standard normal table              | T-values from the t-distribution table               |\n",
        "| **Application**        | Used for large samples and known population variance | Used for small samples and unknown population variance|\n",
        "\n",
        "### 4. **Formula for Z-test**\n",
        "   The Z-test formula is:\n",
        "   \\[\n",
        "   Z = \\frac{\\bar{X} - \\mu}{\\frac{\\sigma}{\\sqrt{n}}}\n",
        "   \\]\n",
        "   Where:\n",
        "   - \\( \\bar{X} \\) = sample mean\n",
        "   - \\( \\mu \\) = population mean\n",
        "   - \\( \\sigma \\) = population standard deviation\n",
        "   - \\( n \\) = sample size\n",
        "\n",
        "### 5. **Formula for T-test**\n",
        "   The T-test formula is:\n",
        "   \\[\n",
        "   T = \\frac{\\bar{X} - \\mu}{\\frac{s}{\\sqrt{n}}}\n",
        "   \\]\n",
        "   Where:\n",
        "   - \\( \\bar{X} \\) = sample mean\n",
        "   - \\( \\mu \\) = population mean\n",
        "   - \\( s \\) = sample standard deviation (used as an estimate for the population standard deviation)\n",
        "   - \\( n \\) = sample size\n",
        "\n",
        "### 6. **Assumptions**\n",
        "   - **Z-test**:\n",
        "     - Data is approximately normally distributed, especially for smaller sample sizes.\n",
        "     - Population standard deviation is known or can be reasonably estimated.\n",
        "   \n",
        "   - **T-test**:\n",
        "     - Data is approximately normally distributed (especially critical for small sample sizes).\n",
        "     - The sample standard deviation is used as an estimate for the population standard deviation.\n",
        "\n",
        "### 7. **Example**:\n",
        "   **Scenario**: A researcher wants to test if the average height of a sample of 20 individuals is different from the known population average of 170 cm. The population standard deviation is unknown, and the sample standard deviation is 6 cm.\n",
        "   \n",
        "   - Since the sample size is small (\\( n = 20 \\)) and the population standard deviation is unknown, a **T-test** should be used.\n",
        "   \n",
        "   - **Hypothesis**:\n",
        "     - Null Hypothesis (H₀): \\( \\mu = 170 \\)\n",
        "     - Alternative Hypothesis (H₁): \\( \\mu \\neq 170 \\)\n",
        "   \n",
        "   - **Calculation**:\n",
        "     - Sample Mean (\\( \\bar{X} \\)) = 172 cm\n",
        "     - Sample Standard Deviation (\\( s \\)) = 6 cm\n",
        "     - Sample Size (\\( n \\)) = 20\n",
        "     - Degrees of Freedom (\\( df \\)) = 19 (since \\( df = n - 1 \\))\n",
        "     - **T-statistic formula**:\n",
        "       \\[\n",
        "       T = \\frac{\\bar{X} - \\mu}{\\frac{s}{\\sqrt{n}}}\n",
        "       \\]\n",
        "       Substituting the values:\n",
        "       \\[\n",
        "       T = \\frac{172 - 170}{\\frac{6}{\\sqrt{20}}} = \\frac{2}{1.342} = 1.49\n",
        "       \\]\n",
        "\n",
        "   - Based on the T-distribution table and the significance level, you can determine if this T-statistic is significant.\n"
      ],
      "metadata": {
        "id": "fIxhi59JUSe1"
      }
    },
    {
      "cell_type": "markdown",
      "source": [
        "# Q12. What is the T-test, and how is it used in hypothesis testing?"
      ],
      "metadata": {
        "id": "27f2FbziUbvy"
      }
    },
    {
      "cell_type": "markdown",
      "source": [
        "# T-test in Hypothesis Testing\n",
        "------------------------------------------------------\n",
        "\n",
        "### 1. **What is a T-test?**\n",
        "   - A **T-test** is a statistical test used to compare the means of two groups or a sample mean to a population mean, especially when the sample size is small (typically \\( n < 30 \\)) and the population standard deviation is unknown.\n",
        "   - It is used to determine if there is a statistically significant difference between the means of two datasets or between a sample and the population.\n",
        "\n",
        "### 2. **Types of T-tests**\n",
        "   There are three main types of T-tests, each used in different situations:\n",
        "   - **One-Sample T-test**: Used to compare the sample mean to a known population mean.\n",
        "     - **Example**: Testing if the average height of a sample of students is different from the population average height.\n",
        "   \n",
        "   - **Independent Two-Sample T-test**: Used to compare the means of two independent groups.\n",
        "     - **Example**: Comparing the test scores of two different classes of students to see if their performance differs.\n",
        "   \n",
        "   - **Paired T-test**: Used to compare the means of the same group at two different times or under two different conditions.\n",
        "     - **Example**: Measuring the weight loss of individuals before and after a diet plan.\n",
        "\n",
        "### 3. **When to Use a T-test**\n",
        "   - When the **population standard deviation** is **unknown**.\n",
        "   - When the **sample size** is **small** (typically \\( n < 30 \\)).\n",
        "   - When the data is approximately **normally distributed**.\n",
        "   - Commonly used in scientific research, clinical trials, and business analytics when comparing means.\n",
        "\n",
        "### 4. **T-test Formula**\n",
        "   The formula for the T-test depends on the type of test being conducted.\n",
        "\n",
        "   **One-Sample T-test Formula**:\n",
        "   \\[\n",
        "   T = \\frac{\\bar{X} - \\mu}{\\frac{s}{\\sqrt{n}}}\n",
        "   \\]\n",
        "   Where:\n",
        "   - \\( \\bar{X} \\) = sample mean\n",
        "   - \\( \\mu \\) = population mean\n",
        "   - \\( s \\) = sample standard deviation\n",
        "   - \\( n \\) = sample size\n",
        "\n",
        "   **Two-Sample T-test Formula**:\n",
        "   \\[\n",
        "   T = \\frac{\\bar{X_1} - \\bar{X_2}}{\\sqrt{\\frac{s_1^2}{n_1} + \\frac{s_2^2}{n_2}}}\n",
        "   \\]\n",
        "   Where:\n",
        "   - \\( \\bar{X_1} \\) and \\( \\bar{X_2} \\) = sample means of two groups\n",
        "   - \\( s_1^2 \\) and \\( s_2^2 \\) = sample variances of the two groups\n",
        "   - \\( n_1 \\) and \\( n_2 \\) = sample sizes of the two groups\n",
        "\n",
        "   **Paired T-test Formula**:\n",
        "   \\[\n",
        "   T = \\frac{\\bar{D}}{\\frac{s_D}{\\sqrt{n}}}\n",
        "   \\]\n",
        "   Where:\n",
        "   - \\( \\bar{D} \\) = mean of the differences between paired observations\n",
        "   - \\( s_D \\) = standard deviation of the differences\n",
        "   - \\( n \\) = number of paired observations\n",
        "\n",
        "### 5. **Hypothesis Testing with T-test**\n",
        "   - **Null Hypothesis (H₀)**: There is no significant difference between the means.\n",
        "     - Example: \\( \\mu_1 = \\mu_2 \\) (For two groups: means are equal)\n",
        "   - **Alternative Hypothesis (H₁)**: There is a significant difference between the means.\n",
        "     - Example: \\( \\mu_1 \\neq \\mu_2 \\) (For two groups: means are not equal)\n",
        "\n",
        "   **Steps** in hypothesis testing:\n",
        "   1. **Set up the hypotheses**: Define the null and alternative hypotheses.\n",
        "   2. **Select the significance level (\\( \\alpha \\))**: Commonly \\( \\alpha = 0.05 \\).\n",
        "   3. **Calculate the T-statistic** using the appropriate formula.\n",
        "   4. **Find the critical value** from the T-distribution table based on the degrees of freedom and significance level.\n",
        "   5. **Compare the T-statistic with the critical value**:\n",
        "      - If the absolute value of the T-statistic is greater than the critical value, reject the null hypothesis.\n",
        "      - Otherwise, fail to reject the null hypothesis.\n",
        "\n",
        "### 6. **Degrees of Freedom (df)**\n",
        "   The degrees of freedom depend on the type of T-test being used:\n",
        "   - **One-Sample T-test**: \\( df = n - 1 \\)\n",
        "   - **Two-Sample T-test**: \\( df = n_1 + n_2 - 2 \\)\n",
        "   - **Paired T-test**: \\( df = n - 1 \\)\n",
        "\n",
        "### 7. **Example: One-Sample T-test**\n",
        "   A researcher wants to test if the average weight of a sample of 15 individuals is significantly different from the population mean of 70 kg. The sample mean weight is 72 kg, and the sample standard deviation is 4 kg.\n",
        "   \n",
        "   - **Null Hypothesis (H₀)**: \\( \\mu = 70 \\)\n",
        "   - **Alternative Hypothesis (H₁)**: \\( \\mu \\neq 70 \\)\n",
        "   \n",
        "   **Calculation**:\n",
        "   - \\( \\bar{X} = 72 \\), \\( \\mu = 70 \\), \\( s = 4 \\), \\( n = 15 \\)\n",
        "   - \\( T = \\frac{72 - 70}{\\frac{4}{\\sqrt{15}}} = \\frac{2}{1.032} = 1.937 \\)\n",
        "   \n",
        "   **Degrees of Freedom**:\n",
        "   - \\( df = 15 - 1 = 14 \\)\n",
        "   \n",
        "   **Critical Value** (for \\( \\alpha = 0.05 \\) and \\( df = 14 \\)): 2.145\n",
        "   \n",
        "   Since the calculated T-value (1.937) is less than the critical value (2.145), we **fail to reject the null hypothesis**. There is no significant difference between the sample mean and the population mean.\n"
      ],
      "metadata": {
        "id": "3tjX0_x0UkqW"
      }
    },
    {
      "cell_type": "markdown",
      "source": [
        "# Q13. What is the relationship between Z-test and T-test in hypothesis testing?"
      ],
      "metadata": {
        "id": "_G1iVni5U2hW"
      }
    },
    {
      "cell_type": "markdown",
      "source": [
        "# Z-test vs T-test: Relationship in Hypothesis Testing\n",
        "------------------------------------------------------\n",
        "\n",
        "### 1. **What is the Z-test?**\n",
        "   - A **Z-test** is a statistical test used to determine whether there is a significant difference between the means of two groups or between a sample mean and a population mean, particularly when the sample size is large (\\( n > 30 \\)) or the population variance is known.\n",
        "   - It uses the **Z-distribution**, which assumes that the data is normally distributed, and is appropriate when the sample size is sufficiently large or the population standard deviation is known.\n",
        "\n",
        "### 2. **What is the T-test?**\n",
        "   - A **T-test** is a statistical test used to compare the means of two groups or a sample mean to a population mean, particularly when the sample size is small (\\( n < 30 \\)) and the population standard deviation is **unknown**.\n",
        "   - It uses the **T-distribution**, which is similar to the normal distribution but has heavier tails. The T-distribution becomes closer to the normal distribution as the sample size increases.\n",
        "\n",
        "### 3. **Key Differences Between Z-test and T-test**\n",
        "   \n",
        "| **Aspect**               | **Z-test**                                       | **T-test**                                         |\n",
        "|--------------------------|-------------------------------------------------|---------------------------------------------------|\n",
        "| **Sample Size**           | Large sample size (\\( n > 30 \\)) or known population variance | Small sample size (\\( n < 30 \\)) and unknown population variance |\n",
        "| **Population Standard Deviation** | Known                                             | Unknown                                           |\n",
        "| **Distribution Used**     | Z-distribution (Normal Distribution)            | T-distribution (Student’s t-distribution)         |\n",
        "| **Application**           | Testing hypotheses about means with known population variance | Testing hypotheses about means with unknown population variance |\n",
        "| **Formula**               | \\( Z = \\frac{\\bar{X} - \\mu}{\\frac{\\sigma}{\\sqrt{n}}} \\) | \\( T = \\frac{\\bar{X} - \\mu}{\\frac{s}{\\sqrt{n}}} \\) |\n",
        "\n",
        "### 4. **Relationship Between Z-test and T-test**\n",
        "   - The **Z-test** and **T-test** are related in that they both test hypotheses about the means of groups or populations, but they differ primarily in the **sample size** and the **knowledge of the population standard deviation**.\n",
        "   - **As the sample size increases**, the T-distribution approaches the normal distribution, and the **T-test becomes equivalent to the Z-test**. Therefore, when the sample size is sufficiently large, the two tests yield similar results, even if the population variance is unknown.\n",
        "   - **When to Use Each Test**:\n",
        "     - Use the **Z-test** when the sample size is large (\\( n > 30 \\)) or when the population variance is known.\n",
        "     - Use the **T-test** when the sample size is small (\\( n < 30 \\)) and the population variance is unknown, as the T-distribution accounts for the increased variability when estimating the population standard deviation from a small sample.\n",
        "\n",
        "### 5. **Mathematical Relationship**:\n",
        "   - When the sample size is large, the **T-statistic** becomes approximately equal to the **Z-statistic** because the **T-distribution** approximates the **normal distribution** as the degrees of freedom increase.\n",
        "   - For large samples, the T-test formula:\n",
        "     \\[\n",
        "     T = \\frac{\\bar{X} - \\mu}{\\frac{s}{\\sqrt{n}}}\n",
        "     \\]\n",
        "     becomes very similar to the Z-test formula:\n",
        "     \\[\n",
        "     Z = \\frac{\\bar{X} - \\mu}{\\frac{\\sigma}{\\sqrt{n}}}\n",
        "     \\]\n",
        "     In this case, \\( s \\) (the sample standard deviation) approximates \\( \\sigma \\) (the population standard deviation), leading to similar test results.\n",
        "\n",
        "### 6. **Practical Implications**\n",
        "   - For **small sample sizes**, the **T-test** is preferred because the sample standard deviation is used in place of the population standard deviation, which could lead to more variability and uncertainty in smaller samples.\n",
        "   - For **large sample sizes**, the **Z-test** is often used because the larger sample size makes the population standard deviation easier to estimate and the sample distribution more closely resembles a normal distribution.\n"
      ],
      "metadata": {
        "id": "oWXqeuthVJYd"
      }
    },
    {
      "cell_type": "markdown",
      "source": [
        "# Q14. What is a confidence interval, and how is it used to interpret statistical results?"
      ],
      "metadata": {
        "id": "81Wo67czVVOL"
      }
    },
    {
      "cell_type": "markdown",
      "source": [
        "# Confidence Interval: Concept and Interpretation in Statistics\n",
        "--------------------------------------------------------------------\n",
        "\n",
        "### 1. **What is a Confidence Interval?**\n",
        "   - A **Confidence Interval (CI)** is a range of values, derived from a sample statistic, that is used to estimate the true population parameter (e.g., population mean, population proportion) with a specified level of confidence.\n",
        "   - The CI provides an interval within which we expect the true population parameter to lie, based on the sample data, with a certain degree of confidence (e.g., 95%, 99%).\n",
        "\n",
        "### 2. **Components of a Confidence Interval**\n",
        "   - **Point Estimate**: The sample statistic (e.g., sample mean) that serves as the best estimate of the population parameter.\n",
        "   - **Margin of Error**: The amount added and subtracted from the point estimate to create the interval. It reflects the uncertainty in the estimate and is influenced by factors such as sample size and variability.\n",
        "   - **Confidence Level**: The probability that the interval contains the true population parameter. Common confidence levels include 90%, 95%, and 99%.\n",
        "\n",
        "   **Formula for Confidence Interval (for population mean)**:\n",
        "   \\[\n",
        "   \\text{CI} = \\bar{X} \\pm Z \\times \\frac{\\sigma}{\\sqrt{n}}\n",
        "   \\]\n",
        "   Where:\n",
        "   - \\( \\bar{X} \\) is the sample mean,\n",
        "   - \\( Z \\) is the Z-value corresponding to the confidence level (e.g., 1.96 for 95% confidence),\n",
        "   - \\( \\sigma \\) is the population standard deviation (or sample standard deviation if population standard deviation is unknown),\n",
        "   - \\( n \\) is the sample size.\n",
        "\n",
        "### 3. **How to Interpret a Confidence Interval**\n",
        "   - A **95% confidence interval** means that if we were to take 100 different samples and compute a confidence interval from each sample, approximately 95 of those intervals would contain the true population parameter.\n",
        "   - A **wider interval** indicates more uncertainty about the population parameter, often due to a smaller sample size or greater variability in the data.\n",
        "   - A **narrower interval** indicates more precision in the estimate, often due to a larger sample size or less variability in the data.\n",
        "\n",
        "### 4. **Example: Confidence Interval for a Sample Mean**\n",
        "   Suppose you conduct a survey of 100 people to estimate the average income in a city. You calculate a sample mean income of \\$50,000, with a standard deviation of \\$10,000. Using a 95% confidence level, the margin of error is calculated as:\n",
        "   \\[\n",
        "   \\text{Margin of Error} = Z \\times \\frac{\\sigma}{\\sqrt{n}} = 1.96 \\times \\frac{10000}{\\sqrt{100}} = 1.96 \\times 1000 = 1960\n",
        "   \\]\n",
        "   Therefore, the confidence interval for the average income in the city is:\n",
        "   \\[\n",
        "   50,000 \\pm 1,960 = [48,040, 51,960]\n",
        "   \\]\n",
        "   This means you are 95% confident that the true average income in the city lies between \\$48,040 and \\$51,960.\n",
        "\n",
        "### 5. **Importance of Confidence Intervals**\n",
        "   - **Estimating Population Parameters**: Confidence intervals allow statisticians and researchers to estimate population parameters (such as means or proportions) without needing to survey the entire population.\n",
        "   - **Precision and Uncertainty**: By providing a range of possible values, confidence intervals convey both the estimate of the parameter and the uncertainty associated with that estimate. A wider interval indicates more uncertainty, while a narrower interval indicates more precision.\n",
        "   - **Decision Making**: In business, economics, healthcare, and other fields, decision-makers can use confidence intervals to assess risks, make predictions, and plan strategies based on the level of confidence they have in their estimates.\n",
        "\n",
        "### 6. **Types of Confidence Intervals**\n",
        "   - **For Means**: Used when estimating the population mean based on sample data.\n",
        "   - **For Proportions**: Used when estimating the population proportion or percentage.\n",
        "   - **For Differences Between Means**: Used to compare the means of two groups.\n",
        "   - **For Regression Parameters**: Used to estimate the coefficients in regression models.\n",
        "\n",
        "### 7. **Limitations of Confidence Intervals**\n",
        "   - **Dependence on Sample Size**: A larger sample size results in a more precise estimate (narrower confidence interval), while a smaller sample size leads to more uncertainty (wider confidence interval).\n",
        "   - **Assumption of Normality**: Confidence intervals assume that the sample data is normally distributed, especially when the sample size is small.\n",
        "   - **Confidence Level Interpretation**: The confidence level does not mean that there is a 95% chance the true parameter lies within the interval. It means that 95% of the intervals constructed from repeated sampling would contain the true parameter.\n"
      ],
      "metadata": {
        "id": "yV_EnhSuVcAS"
      }
    },
    {
      "cell_type": "markdown",
      "source": [
        "# Q15. What is the margin of error, and how does it affect the confidence interval?"
      ],
      "metadata": {
        "id": "GRI5fnTgWAT8"
      }
    },
    {
      "cell_type": "markdown",
      "source": [
        "# Margin of Error: Concept and Impact on Confidence Interval\n",
        "-------------------------------------------------------------\n",
        "\n",
        "### 1. **What is the Margin of Error?**\n",
        "   - The **Margin of Error (MoE)** is the amount added or subtracted from a sample estimate (such as a sample mean or proportion) to create a **Confidence Interval (CI)**. It represents the uncertainty or variability in the estimate and indicates how much the sample statistic might differ from the true population parameter.\n",
        "   - It provides an interval around the sample statistic within which the true population parameter is likely to lie, given a certain level of confidence.\n",
        "\n",
        "### 2. **Formula for Margin of Error**\n",
        "   - The margin of error depends on the **confidence level**, **sample size**, and **variability (standard deviation or standard error)** of the sample data.\n",
        "   \n",
        "   **Formula for Margin of Error (for population mean):**\n",
        "   \\[\n",
        "   \\text{Margin of Error} = Z \\times \\frac{\\sigma}{\\sqrt{n}}\n",
        "   \\]\n",
        "   Where:\n",
        "   - \\( Z \\) is the Z-value corresponding to the desired confidence level (e.g., 1.96 for a 95% confidence level),\n",
        "   - \\( \\sigma \\) is the population standard deviation (or sample standard deviation if the population standard deviation is unknown),\n",
        "   - \\( n \\) is the sample size.\n",
        "\n",
        "### 3. **How Does the Margin of Error Affect the Confidence Interval?**\n",
        "   - The **Margin of Error** directly determines the width of the **Confidence Interval**. A larger margin of error results in a wider confidence interval, indicating more uncertainty about the population parameter. A smaller margin of error leads to a narrower confidence interval, indicating more precision.\n",
        "   - **Increasing the Sample Size**: As the sample size (\\(n\\)) increases, the margin of error decreases, resulting in a narrower confidence interval, which offers more precise estimates.\n",
        "   - **Increasing the Confidence Level**: Higher confidence levels (e.g., 99% compared to 95%) lead to a larger margin of error because you are ensuring a higher probability that the interval contains the true population parameter.\n",
        "\n",
        "### 4. **Example of Margin of Error Impact**\n",
        "   Suppose you are estimating the average income of a population using a sample.\n",
        "   - The sample mean (\\(\\bar{X}\\)) is \\$50,000, the population standard deviation (\\(\\sigma\\)) is \\$10,000, and the sample size (\\(n\\)) is 100.\n",
        "   - For a 95% confidence level, the Z-value is 1.96.\n",
        "   \n",
        "   **Margin of Error Calculation:**\n",
        "   \\[\n",
        "   \\text{Margin of Error} = 1.96 \\times \\frac{10,000}{\\sqrt{100}} = 1.96 \\times 1,000 = 1,960\n",
        "   \\]\n",
        "\n",
        "   Therefore, the confidence interval for the population mean income is:\n",
        "   \\[\n",
        "   50,000 \\pm 1,960 = [48,040, 51,960]\n",
        "   \\]\n",
        "   The margin of error is 1,960, meaning we are 95% confident that the true mean income lies within the range of \\$48,040 to \\$51,960.\n",
        "\n",
        "### 5. **Factors Influencing the Margin of Error**\n",
        "   - **Confidence Level**: A higher confidence level (e.g., 99%) increases the margin of error because you are requesting a wider range to ensure the true parameter is within the interval.\n",
        "   - **Sample Size**: A larger sample size reduces the margin of error, making the estimate more precise. Conversely, a smaller sample size increases the margin of error.\n",
        "   - **Population Variability**: Higher variability (larger standard deviation) in the population data leads to a larger margin of error, as the estimate becomes less precise.\n",
        "\n",
        "### 6. **Impact on Decision Making**\n",
        "   - A smaller margin of error results in more precise estimates, making the conclusions drawn from the data more reliable.\n",
        "   - A larger margin of error indicates more uncertainty, which might require additional data collection or a reconsideration of the decision-making process.\n",
        "   - In practical applications such as polling, market research, or quality control, the margin of error helps stakeholders understand the range of uncertainty around estimates and supports informed decision-making.\n"
      ],
      "metadata": {
        "id": "XaNzLWMbWVjd"
      }
    },
    {
      "cell_type": "markdown",
      "source": [
        "# Q16.  How is Bayes' Theorem used in statistics, and what is its significance?"
      ],
      "metadata": {
        "id": "jw98pXB1WhyX"
      }
    },
    {
      "cell_type": "markdown",
      "source": [
        "# Bayes' Theorem: Concept, Application, and Significance in Statistics\n",
        "-----------------------------------------------------------\n",
        "\n",
        "### 1. **What is Bayes' Theorem?**\n",
        "   - **Bayes' Theorem** is a fundamental concept in probability theory and statistics that describes how to update the probability of a hypothesis (event) based on new evidence or data. It provides a way to revise existing beliefs in light of new information.\n",
        "   - It is named after **Thomas Bayes**, an 18th-century statistician, and is widely used in statistical inference, machine learning, and decision-making processes.\n",
        "   \n",
        "   **Formula for Bayes' Theorem:**\n",
        "   \\[\n",
        "   P(A|B) = \\frac{P(B|A) \\cdot P(A)}{P(B)}\n",
        "   \\]\n",
        "   Where:\n",
        "   - \\( P(A|B) \\) is the **posterior probability**: the probability of event \\( A \\) occurring given that event \\( B \\) has occurred.\n",
        "   - \\( P(B|A) \\) is the **likelihood**: the probability of observing event \\( B \\) given that event \\( A \\) has occurred.\n",
        "   - \\( P(A) \\) is the **prior probability**: the initial probability of event \\( A \\) before considering the new evidence.\n",
        "   - \\( P(B) \\) is the **marginal likelihood** or **evidence**: the total probability of event \\( B \\) occurring, across all possible scenarios.\n",
        "\n",
        "### 2. **How Does Bayes' Theorem Work?**\n",
        "   - **Prior Probability** (\\( P(A) \\)): It represents the initial belief or the probability of an event before any new evidence is considered.\n",
        "   - **Likelihood** (\\( P(B|A) \\)): It quantifies how likely the observed data (evidence) is, given the hypothesis or event.\n",
        "   - **Posterior Probability** (\\( P(A|B) \\)): After considering the new evidence, this is the updated probability of the hypothesis being true.\n",
        "   - **Marginal Likelihood** (\\( P(B) \\)): It accounts for the overall probability of the evidence occurring, regardless of the hypothesis.\n",
        "\n",
        "   By using Bayes' Theorem, you adjust your prior beliefs based on the new data (likelihood) and calculate the posterior probability, which represents the updated belief.\n",
        "\n",
        "### 3. **Example of Bayes' Theorem in Action**\n",
        "   - **Problem**: Suppose a medical test is used to detect a disease, and we want to determine the probability that a person has the disease given a positive test result.\n",
        "   - **Given Data**:\n",
        "     - \\( P(Disease) = 0.01 \\) (1% of people have the disease).\n",
        "     - \\( P(Pos|Disease) = 0.95 \\) (95% of people with the disease test positive).\n",
        "     - \\( P(Pos) = 0.05 \\) (5% of people test positive overall).\n",
        "   \n",
        "   - **Using Bayes' Theorem**:\n",
        "   \\[\n",
        "   P(Disease|Pos) = \\frac{P(Pos|Disease) \\cdot P(Disease)}{P(Pos)}\n",
        "   \\]\n",
        "   Substituting the values:\n",
        "   \\[\n",
        "   P(Disease|Pos) = \\frac{0.95 \\cdot 0.01}{0.05} = 0.19\n",
        "   \\]\n",
        "\n",
        "   - The probability that a person has the disease given a positive test result is **0.19**, or 19%. Despite the high accuracy of the test (95%), because the disease is rare (1%), the probability of having the disease is still relatively low after a positive test.\n",
        "\n",
        "### 4. **Applications of Bayes' Theorem**\n",
        "   - **Medical Diagnosis**: Bayes' Theorem is commonly used in medical statistics to update the probability of a disease or condition given new test results.\n",
        "   - **Machine Learning**: In machine learning, Bayes' Theorem is the foundation for **Naive Bayes classifiers**, which are used for classification tasks, especially in text classification and spam filtering.\n",
        "   - **Risk Assessment**: Bayes' Theorem is used in various fields like finance, engineering, and insurance to revise risk predictions based on new data or events.\n",
        "   - **Predictive Analytics**: It is used for modeling and forecasting, where previous data is used to predict the probability of future events.\n",
        "   \n",
        "### 5. **Significance of Bayes' Theorem in Statistics**\n",
        "   - **Dynamic Learning**: Bayes' Theorem enables dynamic learning by allowing probabilities to be updated as new evidence becomes available. This makes it particularly useful in situations where data evolves over time.\n",
        "   - **Incorporating Prior Knowledge**: One of the most powerful aspects of Bayes' Theorem is its ability to incorporate **prior knowledge** (prior probability) into the analysis. This is especially useful when there is limited data or when previous knowledge is important for decision-making.\n",
        "   - **Subjectivity**: Unlike frequentist approaches, Bayes' Theorem allows for subjectivity in assigning prior probabilities, which can be based on expert judgment or historical data. This flexibility is advantageous in situations with limited or uncertain data.\n",
        "   - **Decision Making**: Bayes' Theorem aids in **decision theory**, where decisions are made based on probabilistic reasoning, and where new information leads to better decision outcomes.\n",
        "\n",
        "### 6. **Limitations of Bayes' Theorem**\n",
        "   - **Choice of Prior**: The result can be sensitive to the choice of prior, and selecting an inappropriate prior can lead to misleading conclusions.\n",
        "   - **Computational Complexity**: For complex problems with many variables or large datasets, calculating posterior probabilities can become computationally expensive and require specialized algorithms (such as Markov Chain Monte Carlo methods).\n"
      ],
      "metadata": {
        "id": "78xxsGNJWqxz"
      }
    },
    {
      "cell_type": "markdown",
      "source": [
        "# Q17. What is the Chi-square distribution, and when is it used?"
      ],
      "metadata": {
        "id": "icpMCLs5W5bV"
      }
    },
    {
      "cell_type": "markdown",
      "source": [
        "# Chi-Square Distribution: Concept, Applications, and Usage in Statistics\n",
        "------------------------------------------------------------\n",
        "\n",
        "### 1. **What is the Chi-Square Distribution?**\n",
        "   - The **Chi-square distribution** is a continuous probability distribution that is commonly used in statistical inference. It is a special case of the **Gamma distribution** and is defined by a single parameter: the degrees of freedom (df).\n",
        "   - The Chi-square distribution is positively skewed, meaning it is not symmetric, and it is typically used in hypothesis testing and confidence intervals.\n",
        "\n",
        "   **Chi-Square Distribution Formula:**\n",
        "   \\[\n",
        "   X^2 = \\sum_{i=1}^{k} \\left( \\frac{(O_i - E_i)^2}{E_i} \\right)\n",
        "   \\]\n",
        "   Where:\n",
        "   - \\( X^2 \\) is the Chi-square statistic.\n",
        "   - \\( O_i \\) is the observed frequency.\n",
        "   - \\( E_i \\) is the expected frequency.\n",
        "   - \\( k \\) is the number of categories.\n",
        "\n",
        "### 2. **Key Properties of the Chi-Square Distribution:**\n",
        "   - **Degrees of Freedom (df)**: The shape of the Chi-square distribution depends on the degrees of freedom, which is often related to the sample size or the number of categories.\n",
        "   - **Positively Skewed**: For low degrees of freedom, the distribution is highly skewed, but as the degrees of freedom increase, it becomes more symmetric and approaches a normal distribution.\n",
        "   - **Non-negative Values**: Since the Chi-square statistic is a sum of squared values, it can only take on positive values or zero.\n",
        "   - **Mean and Variance**:\n",
        "     - Mean: \\( df \\)\n",
        "     - Variance: \\( 2 \\times df \\)\n",
        "     \n",
        "### 3. **When is the Chi-Square Distribution Used?**\n",
        "   The Chi-square distribution is primarily used in the following situations:\n",
        "   \n",
        "   **a. Goodness-of-Fit Tests:**\n",
        "   - Used to determine if an observed distribution of data fits an expected distribution. For example, testing if a die is fair by comparing observed outcomes to the expected distribution of outcomes (1/6 for each number on a fair die).\n",
        "   \n",
        "   **b. Test for Independence (Chi-Square Test of Independence):**\n",
        "   - Used to determine if there is a significant association between two categorical variables. For instance, testing if there is an association between gender and voting preference.\n",
        "   - The null hypothesis typically assumes that the two variables are independent, and the alternative hypothesis assumes a dependence between them.\n",
        "   \n",
        "   **c. Test for Homogeneity:**\n",
        "   - Used to compare the distribution of categorical variables across different groups to see if they are homogeneous (similar). This test is often used to compare proportions between different populations or groups.\n",
        "   \n",
        "### 4. **Example of Chi-Square Test of Independence:**\n",
        "   - **Problem**: Suppose we want to test if there is an association between smoking status (smoker or non-smoker) and gender (male or female) in a population.\n",
        "   - **Observed Data (Contingency Table)**:\n",
        "   \n",
        "     |           | Smoker | Non-Smoker | Total |\n",
        "     |-----------|--------|------------|-------|\n",
        "     | Male      |   30   |     70     |  100  |\n",
        "     | Female    |   50   |     50     |  100  |\n",
        "     | **Total** |   80   |    120     |  200  |\n",
        "   \n",
        "   - **Step 1**: Calculate the expected frequencies under the assumption that smoking status and gender are independent. The expected frequency for each cell is calculated as:\n",
        "   \\[\n",
        "   E_{ij} = \\frac{(Row Total) \\times (Column Total)}{Grand Total}\n",
        "   \\]\n",
        "   \n",
        "   - **Step 2**: Calculate the Chi-square statistic:\n",
        "   \\[\n",
        "   X^2 = \\sum \\frac{(O_i - E_i)^2}{E_i}\n",
        "   \\]\n",
        "   Where \\( O_i \\) are the observed frequencies, and \\( E_i \\) are the expected frequencies.\n",
        "   \n",
        "   - **Step 3**: Compare the Chi-square statistic to the critical value from the Chi-square distribution table (based on the desired significance level and degrees of freedom) to determine if there is a significant relationship between smoking and gender.\n",
        "\n",
        "### 5. **Chi-Square Test Formula for Goodness of Fit:**\n",
        "   - The formula used in goodness-of-fit tests is similar:\n",
        "   \\[\n",
        "   X^2 = \\sum \\frac{(O_i - E_i)^2}{E_i}\n",
        "   \\]\n",
        "   Where:\n",
        "   - \\( O_i \\) is the observed frequency for each category.\n",
        "   - \\( E_i \\) is the expected frequency based on the assumed distribution.\n",
        "   - The test compares the observed and expected frequencies to assess how well the data fit the assumed distribution.\n",
        "\n",
        "### 6. **Applications of the Chi-Square Distribution:**\n",
        "   - **Testing Goodness of Fit**: Used in various applications like testing fairness of dice, checking whether a sample of genetic traits fits a predicted distribution, or assessing whether customer preference across different product categories is uniformly distributed.\n",
        "   - **Testing for Independence**: Commonly used in surveys, marketing studies, or clinical trials to investigate if two categorical variables are related.\n",
        "   - **Medical and Social Sciences**: Often used in epidemiology to test the association between diseases and risk factors, or in sociology to explore relationships between categorical social variables.\n",
        "\n",
        "### 7. **Limitations of the Chi-Square Test:**\n",
        "   - **Expected Frequencies**: The Chi-square test assumes that the expected frequencies in each category should generally be 5 or more. If the expected frequencies are too low, the test may not be valid.\n",
        "   - **Independence**: The data should consist of independent observations. The Chi-square test is not appropriate for dependent or paired data.\n"
      ],
      "metadata": {
        "id": "A8aHJeJkXIn8"
      }
    },
    {
      "cell_type": "markdown",
      "source": [
        "# Q18. What is the Chi-square goodness of fit test, and how is it applied?"
      ],
      "metadata": {
        "id": "Fw6D0qfgXdtj"
      }
    },
    {
      "cell_type": "markdown",
      "source": [
        "# Chi-Square Goodness of Fit Test: Concept, Application, and Steps\n",
        "---------------------------------------------------------------\n",
        "\n",
        "### 1. **What is the Chi-Square Goodness of Fit Test?**\n",
        "   - The **Chi-square goodness of fit test** is a statistical test used to determine if a sample data matches an expected distribution. It is used to assess whether the observed frequencies of a categorical variable match the expected frequencies under a specific hypothesis.\n",
        "   - This test compares the observed values to the expected values to see if there are significant differences between the observed and expected distributions.\n",
        "\n",
        "   **Formula for Chi-Square Goodness of Fit Test:**\n",
        "   \\[\n",
        "   X^2 = \\sum \\frac{(O_i - E_i)^2}{E_i}\n",
        "   \\]\n",
        "   Where:\n",
        "   - \\( X^2 \\) is the Chi-square statistic.\n",
        "   - \\( O_i \\) is the observed frequency for each category.\n",
        "   - \\( E_i \\) is the expected frequency for each category.\n",
        "\n",
        "### 2. **Key Steps in Applying the Chi-Square Goodness of Fit Test:**\n",
        "   \n",
        "   **a. Set up the hypotheses:**\n",
        "   - **Null Hypothesis (H₀)**: The observed frequencies follow the expected distribution.\n",
        "   - **Alternative Hypothesis (H₁)**: The observed frequencies do not follow the expected distribution.\n",
        "   \n",
        "   **b. Calculate the expected frequencies:**\n",
        "   - The expected frequency for each category is calculated based on the assumption of a specific distribution (e.g., uniform distribution, normal distribution, etc.).\n",
        "\n",
        "   **c. Calculate the Chi-square statistic:**\n",
        "   - Use the formula to compute the Chi-square statistic \\( X^2 \\), comparing the observed and expected frequencies.\n",
        "\n",
        "   **d. Determine the degrees of freedom (df):**\n",
        "   - The degrees of freedom for the test is calculated as:\n",
        "   \\[\n",
        "   df = k - 1\n",
        "   \\]\n",
        "   Where \\( k \\) is the number of categories or possible outcomes.\n",
        "\n",
        "   **e. Find the critical value or p-value:**\n",
        "   - Compare the Chi-square statistic to the critical value from the Chi-square distribution table, using the desired significance level (usually \\( \\alpha = 0.05 \\)) and degrees of freedom.\n",
        "   - Alternatively, calculate the p-value using the Chi-square statistic and compare it with the significance level.\n",
        "\n",
        "   **f. Make the decision:**\n",
        "   - **Reject the null hypothesis** if the Chi-square statistic is greater than the critical value (or if the p-value is less than the significance level).\n",
        "   - **Fail to reject the null hypothesis** if the Chi-square statistic is less than the critical value (or if the p-value is greater than the significance level).\n",
        "\n",
        "### 3. **Example of Chi-Square Goodness of Fit Test:**\n",
        "   - **Problem**: Suppose we roll a fair die 60 times and record the outcomes. We want to test if the die is fair (i.e., each number has an equal probability of occurring).\n",
        "   \n",
        "     **Observed Frequencies (O):**\n",
        "     | Outcome | 1 | 2 | 3 | 4 | 5 | 6 |\n",
        "     |---------|---|---|---|---|---|---|\n",
        "     | Frequency | 10 | 12 | 9 | 8 | 11 | 10 |\n",
        "     \n",
        "     **Expected Frequencies (E):**\n",
        "     Since the die is fair, the expected frequency for each outcome is:\n",
        "     \\[\n",
        "     E_i = \\frac{60}{6} = 10\n",
        "     \\]\n",
        "     Therefore, the expected frequency for each number is 10.\n",
        "\n",
        "     **Step 1**: Calculate the Chi-square statistic using the formula:\n",
        "     \\[\n",
        "     X^2 = \\sum \\frac{(O_i - E_i)^2}{E_i}\n",
        "     \\]\n",
        "     Substituting the values:\n",
        "     \\[\n",
        "     X^2 = \\frac{(10 - 10)^2}{10} + \\frac{(12 - 10)^2}{10} + \\frac{(9 - 10)^2}{10} + \\frac{(8 - 10)^2}{10} + \\frac{(11 - 10)^2}{10} + \\frac{(10 - 10)^2}{10}\n",
        "     \\]\n",
        "     \\[\n",
        "     X^2 = 0 + \\frac{2^2}{10} + \\frac{1^2}{10} + \\frac{2^2}{10} + \\frac{1^2}{10} + 0\n",
        "     \\]\n",
        "     \\[\n",
        "     X^2 = \\frac{4}{10} + \\frac{1}{10} + \\frac{4}{10} + \\frac{1}{10}\n",
        "     \\]\n",
        "     \\[\n",
        "     X^2 = \\frac{10}{10} = 1\n",
        "     \\]\n",
        "\n",
        "     **Step 2**: Determine the degrees of freedom:\n",
        "     \\[\n",
        "     df = k - 1 = 6 - 1 = 5\n",
        "     \\]\n",
        "\n",
        "     **Step 3**: Find the critical value from the Chi-square distribution table at \\( \\alpha = 0.05 \\) and \\( df = 5 \\). The critical value is 11.0705.\n",
        "\n",
        "     **Step 4**: Compare the Chi-square statistic (1) with the critical value (11.0705). Since 1 is less than 11.0705, we **fail to reject the null hypothesis**.\n",
        "\n",
        "   **Conclusion**: There is no significant evidence to suggest that the die is unfair. The observed frequencies fit the expected distribution.\n",
        "\n",
        "### 4. **Applications of Chi-Square Goodness of Fit Test:**\n",
        "   - **Testing Fairness**: For example, testing whether a die is fair, or if a coin is biased.\n",
        "   - **Genetics**: Testing whether observed genetic traits in a population fit expected Mendelian inheritance ratios.\n",
        "   - **Market Research**: Testing whether the distribution of preferences for products in a market survey fits a known or expected distribution.\n",
        "   - **Polls and Surveys**: Checking whether the distribution of responses follows a predicted distribution, such as voter preferences.\n",
        "\n",
        "### 5. **Assumptions and Limitations:**\n",
        "   - **Independence**: Observations must be independent.\n",
        "   - **Sample Size**: Each expected frequency should be 5 or more for the Chi-square test to be valid. Small expected frequencies may lead to inaccurate results.\n",
        "   - **Categorical Data**: The Chi-square test is only applicable to categorical data.\n"
      ],
      "metadata": {
        "id": "N-t7-YJuXmnf"
      }
    },
    {
      "cell_type": "markdown",
      "source": [
        "# Q19. What is the F-distribution, and when is it used in hypothesis testing?"
      ],
      "metadata": {
        "id": "gijZUbRaX0EJ"
      }
    },
    {
      "cell_type": "markdown",
      "source": [
        "# F-distribution: Concept, Use in Hypothesis Testing, and Example\n",
        "-------------------------------------------------------------\n",
        "\n",
        "### 1. **What is the F-distribution?**\n",
        "   - The **F-distribution** is a probability distribution that arises from the ratio of two independent chi-square distributed random variables. It is used primarily in the analysis of variance (ANOVA) and regression analysis.\n",
        "   - The **F-distribution** is a continuous probability distribution, and it is positively skewed, with values always greater than or equal to zero. It is characterized by two parameters, called degrees of freedom: one for the numerator (df1) and one for the denominator (df2).\n",
        "\n",
        "   **Formula for the F-statistic:**\n",
        "   \\[\n",
        "   F = \\frac{(\\frac{S_1^2}{\\sigma_1^2})}{(\\frac{S_2^2}{\\sigma_2^2})}\n",
        "   \\]\n",
        "   Where:\n",
        "   - \\( S_1^2 \\) and \\( S_2^2 \\) are the sample variances.\n",
        "   - \\( \\sigma_1^2 \\) and \\( \\sigma_2^2 \\) are the population variances.\n",
        "   - \\( df_1 \\) and \\( df_2 \\) are the degrees of freedom for the numerator and denominator, respectively.\n",
        "\n",
        "### 2. **When is the F-distribution used in hypothesis testing?**\n",
        "   - The **F-distribution** is primarily used in the following contexts in hypothesis testing:\n",
        "     - **ANOVA (Analysis of Variance)**: To compare the variances of two or more populations to determine if they are significantly different.\n",
        "     - **Testing for equality of variances**: Used to test the hypothesis that two populations have the same variance.\n",
        "     - **Regression analysis**: To test the overall significance of a regression model, i.e., whether the model provides a better fit than the intercept-only model.\n",
        "\n",
        "### 3. **Key Characteristics of the F-distribution:**\n",
        "   - The **F-distribution** is skewed to the right, and the shape of the distribution depends on the degrees of freedom.\n",
        "   - The distribution becomes more symmetric as the degrees of freedom increase.\n",
        "   - The **F-distribution** is used to model the ratio of variances, which helps in testing hypotheses about variances.\n",
        "   - The **degrees of freedom (df1, df2)** determine the shape and the critical values of the F-distribution. As both degrees of freedom increase, the F-distribution approaches a normal distribution.\n",
        "\n",
        "### 4. **F-test:**\n",
        "   The **F-test** is a statistical test that uses the F-distribution to determine whether there is a significant difference between the variances of two or more populations.\n",
        "\n",
        "   **Null Hypothesis (H₀):**\n",
        "   - The variances are equal across the groups or populations being tested.\n",
        "   \n",
        "   **Alternative Hypothesis (H₁):**\n",
        "   - The variances are not equal across the groups.\n",
        "\n",
        "### 5. **Steps in Applying the F-test:**\n",
        "   **a. Set up the hypotheses:**\n",
        "   - **Null Hypothesis (H₀)**: The variances of the groups are equal.\n",
        "   - **Alternative Hypothesis (H₁)**: The variances of the groups are not equal.\n",
        "\n",
        "   **b. Calculate the F-statistic:**\n",
        "   - The F-statistic is calculated by taking the ratio of two sample variances, \\( F = \\frac{S_1^2}{S_2^2} \\), where \\( S_1^2 \\) and \\( S_2^2 \\) are the variances of the two groups.\n",
        "\n",
        "   **c. Determine the degrees of freedom:**\n",
        "   - The degrees of freedom for the numerator \\( df_1 \\) and the denominator \\( df_2 \\) are based on the sample sizes of the groups:\n",
        "     - \\( df_1 = n_1 - 1 \\), where \\( n_1 \\) is the sample size of the first group.\n",
        "     - \\( df_2 = n_2 - 1 \\), where \\( n_2 \\) is the sample size of the second group.\n",
        "\n",
        "   **d. Find the critical value or p-value:**\n",
        "   - Compare the calculated F-statistic with the critical value from the F-distribution table using the degrees of freedom and significance level \\( \\alpha \\).\n",
        "   - Alternatively, calculate the p-value corresponding to the F-statistic and compare it with the significance level.\n",
        "\n",
        "   **e. Make the decision:**\n",
        "   - If the calculated F-statistic is greater than the critical value (or if the p-value is less than the significance level), reject the null hypothesis.\n",
        "\n",
        "### 6. **Example of F-test:**\n",
        "   Suppose we have two groups of students, and we want to compare their exam score variances. The sample variances are as follows:\n",
        "   \n",
        "   - Group 1 (Math students): \\( S_1^2 = 25 \\), sample size \\( n_1 = 30 \\)\n",
        "   - Group 2 (Science students): \\( S_2^2 = 16 \\), sample size \\( n_2 = 35 \\)\n",
        "   \n",
        "   **Step 1**: Set up hypotheses:\n",
        "   - **H₀**: \\( \\sigma_1^2 = \\sigma_2^2 \\) (the variances are equal).\n",
        "   - **H₁**: \\( \\sigma_1^2 \\neq \\sigma_2^2 \\) (the variances are not equal).\n",
        "   \n",
        "   **Step 2**: Calculate the F-statistic:\n",
        "   \\[\n",
        "   F = \\frac{S_1^2}{S_2^2} = \\frac{25}{16} = 1.5625\n",
        "   \\]\n",
        "   \n",
        "   **Step 3**: Determine the degrees of freedom:\n",
        "   - \\( df_1 = n_1 - 1 = 30 - 1 = 29 \\)\n",
        "   - \\( df_2 = n_2 - 1 = 35 - 1 = 34 \\)\n",
        "   \n",
        "   **Step 4**: Find the critical value or p-value:\n",
        "   - Using the F-distribution table for \\( df_1 = 29 \\) and \\( df_2 = 34 \\) at \\( \\alpha = 0.05 \\), the critical value is approximately 1.95.\n",
        "   \n",
        "   **Step 5**: Make the decision:\n",
        "   - Since \\( F = 1.5625 \\) is less than the critical value (1.95), we **fail to reject the null hypothesis**.\n",
        "   \n",
        "   **Conclusion**: There is no significant difference in the variances of the two groups.\n",
        "\n",
        "### 7. **Applications of F-distribution and F-test:**\n",
        "   - **ANOVA (Analysis of Variance)**: To test if there are significant differences between the means of more than two groups.\n",
        "   - **Regression Analysis**: To test the significance of the regression model as a whole.\n",
        "   - **Comparing Two Population Variances**: To test whether two populations have equal variances.\n",
        "\n",
        "### 8. **Assumptions and Limitations:**\n",
        "   - **Independence**: The observations should be independent within and across groups.\n",
        "   - **Normality**: The populations from which the samples are drawn should be approximately normally distributed.\n",
        "   - **Homogeneity of variances**: The F-test assumes that the variances of the populations being compared are equal.\n"
      ],
      "metadata": {
        "id": "e_zk0hGJX7Gb"
      }
    },
    {
      "cell_type": "markdown",
      "source": [
        "# Q20. What is an ANOVA test, and what are its assumptions?"
      ],
      "metadata": {
        "id": "B_gyOIzMYGAw"
      }
    },
    {
      "cell_type": "markdown",
      "source": [
        "# ANOVA (Analysis of Variance) Test: Concept, Assumptions, and Application\n",
        "---------------------------------------------------------------------\n",
        "\n",
        "### 1. **What is an ANOVA Test?**\n",
        "   - **ANOVA (Analysis of Variance)** is a statistical test used to compare the means of three or more groups to determine if there are any statistically significant differences between them.\n",
        "   - The main goal of ANOVA is to test the null hypothesis that the means of all groups are equal. If the test result shows a significant difference, it suggests that at least one group mean differs from the others.\n",
        "   \n",
        "   **Formula for the F-statistic in ANOVA:**\n",
        "   \\[\n",
        "   F = \\frac{\\text{Between-group variance}}{\\text{Within-group variance}} = \\frac{\\text{MSB}}{\\text{MSW}}\n",
        "   \\]\n",
        "   Where:\n",
        "   - **MSB** is the Mean Square Between (variance between groups).\n",
        "   - **MSW** is the Mean Square Within (variance within groups).\n",
        "\n",
        "### 2. **When is ANOVA Used?**\n",
        "   - ANOVA is used when you want to compare the means of three or more independent groups to see if they differ significantly.\n",
        "   - It is widely used in experimental studies, clinical trials, and market research where there are multiple treatment groups or categories to compare.\n",
        "\n",
        "   **Examples of ANOVA application:**\n",
        "   - Comparing exam scores of students from three different teaching methods.\n",
        "   - Comparing the effectiveness of three different drugs on a medical condition.\n",
        "   - Comparing sales performance across three different regions.\n",
        "\n",
        "### 3. **Types of ANOVA:**\n",
        "   - **One-Way ANOVA**: Used to compare the means of three or more groups based on one independent variable.\n",
        "     - Example: Comparing the average height of plants grown under three different light conditions.\n",
        "   - **Two-Way ANOVA**: Used when there are two independent variables. It can also examine the interaction between the two variables.\n",
        "     - Example: Comparing the effect of both temperature and humidity on plant growth.\n",
        "   - **Multivariate ANOVA (MANOVA)**: Used when there are multiple dependent variables.\n",
        "     - Example: Studying the impact of different diets on both weight and cholesterol levels.\n",
        "\n",
        "### 4. **Assumptions of the ANOVA Test:**\n",
        "   To ensure the validity of the ANOVA results, the following assumptions must be met:\n",
        "   \n",
        "   **a. Independence of Observations:**\n",
        "   - The data points in each group should be independent of each other. This means that the measurement of one observation should not influence another observation.\n",
        "   \n",
        "   **b. Normality:**\n",
        "   - The data in each group should follow a **normal distribution**. If the sample size is large, ANOVA is fairly robust to deviations from normality.\n",
        "   \n",
        "   **c. Homogeneity of Variances (Homoscedasticity):**\n",
        "   - The variances within each of the groups being compared should be approximately equal. This assumption can be tested using Levene’s Test or Bartlett's Test.\n",
        "   \n",
        "   **d. Random Sampling:**\n",
        "   - The data should be randomly sampled from the population to avoid bias and to generalize the results.\n",
        "\n",
        "### 5. **Null and Alternative Hypotheses in ANOVA:**\n",
        "   - **Null Hypothesis (H₀)**: All group means are equal.\n",
        "     - \\( H_0: \\mu_1 = \\mu_2 = \\mu_3 = \\dots = \\mu_k \\)\n",
        "   - **Alternative Hypothesis (H₁)**: At least one group mean is different from the others.\n",
        "     - \\( H_1: \\text{At least one } \\mu_i \\neq \\mu_j \\)\n",
        "\n",
        "### 6. **Steps in Conducting an ANOVA Test:**\n",
        "   **a. Set up the hypotheses:**\n",
        "   - **H₀**: The means of all groups are equal.\n",
        "   - **H₁**: At least one of the means is different.\n",
        "   \n",
        "   **b. Choose the significance level (α):**\n",
        "   - The significance level (often \\( \\alpha = 0.05 \\)) determines the threshold for rejecting the null hypothesis.\n",
        "   \n",
        "   **c. Compute the F-statistic:**\n",
        "   - The F-statistic is calculated by dividing the between-group variance (MSB) by the within-group variance (MSW).\n",
        "   \n",
        "   **d. Find the critical value or p-value:**\n",
        "   - Compare the computed F-statistic with the critical value from the F-distribution table using the degrees of freedom and significance level.\n",
        "   - Alternatively, calculate the p-value and compare it with the significance level \\( \\alpha \\).\n",
        "   \n",
        "   **e. Make the decision:**\n",
        "   - If the p-value is less than \\( \\alpha \\), reject the null hypothesis. Otherwise, fail to reject the null hypothesis.\n",
        "\n",
        "### 7. **Example of ANOVA Test:**\n",
        "   Suppose we have three groups of students from different teaching methods, and we want to compare their average test scores:\n",
        "   \n",
        "   - Group 1 (Traditional Method): \\( [60, 70, 80, 90] \\)\n",
        "   - Group 2 (Online Method): \\( [55, 65, 75, 85] \\)\n",
        "   - Group 3 (Hybrid Method): \\( [70, 80, 90, 100] \\)\n",
        "   \n",
        "   **Step 1**: Set up hypotheses:\n",
        "   - **H₀**: The means of all three groups are equal.\n",
        "   - **H₁**: At least one group mean is different.\n",
        "   \n",
        "   **Step 2**: Calculate the F-statistic:\n",
        "   - Calculate the variance between the groups (MSB) and within the groups (MSW).\n",
        "   - Compute the F-statistic as \\( F = \\frac{MSB}{MSW} \\).\n",
        "   \n",
        "   **Step 3**: Determine the degrees of freedom:\n",
        "   - \\( df_1 = k - 1 = 3 - 1 = 2 \\) (for the numerator).\n",
        "   - \\( df_2 = N - k = 12 - 3 = 9 \\) (for the denominator), where \\( N \\) is the total sample size.\n",
        "   \n",
        "   **Step 4**: Find the critical F-value or p-value using an F-distribution table or statistical software.\n",
        "   \n",
        "   **Step 5**: Make the decision:\n",
        "   - If the calculated F-statistic exceeds the critical value (or if the p-value is less than \\( \\alpha \\)), reject the null hypothesis.\n",
        "\n",
        "   **Conclusion**: Based on the F-statistic and p-value, determine whether the means of the groups differ significantly.\n",
        "\n",
        "### 8. **Limitations of ANOVA:**\n",
        "   - ANOVA can only tell us whether there is a significant difference, but it does not indicate which specific groups are different. Post-hoc tests (like Tukey's HSD) are required to identify which groups differ.\n",
        "   - ANOVA assumes that all groups have the same type of measurement scale and that the data are independent and normally distributed, which may not always be the case.\n"
      ],
      "metadata": {
        "id": "C6gdCMfgYOJ9"
      }
    },
    {
      "cell_type": "markdown",
      "source": [
        "# Q21. What are the different types of ANOVA tests?"
      ],
      "metadata": {
        "id": "jV0R73-hYZtW"
      }
    },
    {
      "cell_type": "markdown",
      "source": [
        "# Types of ANOVA Tests\n",
        "-------------------------------------------\n",
        "\n",
        "### 1. **One-Way ANOVA (Single-Factor ANOVA)**\n",
        "   - **Purpose**: One-Way ANOVA is used to compare the means of three or more independent groups based on one single factor (independent variable).\n",
        "   - **Application**: This test is used when you have one factor or variable and want to see if different levels of that factor have an impact on the dependent variable.\n",
        "   \n",
        "   **Example**:\n",
        "   - Comparing the average test scores of students taught using different teaching methods (e.g., traditional, online, and hybrid).\n",
        "   \n",
        "   **Null Hypothesis (H₀)**: All group means are equal (no difference between groups).\n",
        "   - \\( H_0: \\mu_1 = \\mu_2 = \\mu_3 = \\dots = \\mu_k \\)\n",
        "   \n",
        "   **Alternative Hypothesis (H₁)**: At least one group mean is different.\n",
        "\n",
        "### 2. **Two-Way ANOVA (Two-Factor ANOVA)**\n",
        "   - **Purpose**: Two-Way ANOVA is used to analyze the effect of two independent variables (factors) on a dependent variable. It also examines the interaction effect between these two factors.\n",
        "   - **Application**: This test is used when there are two factors to be studied and their individual as well as combined effects on the dependent variable are of interest.\n",
        "   \n",
        "   **Example**:\n",
        "   - Studying the impact of both temperature and humidity on the growth of plants.\n",
        "   \n",
        "   **Null Hypothesis (H₀)**:\n",
        "   - The mean of the dependent variable is the same across the levels of both factors (no main effects).\n",
        "   - No interaction effect between the two factors.\n",
        "   \n",
        "   **Alternative Hypothesis (H₁)**:\n",
        "   - At least one main effect is significant (i.e., one factor influences the dependent variable).\n",
        "   - There is a significant interaction between the two factors.\n",
        "\n",
        "### 3. **Repeated Measures ANOVA**\n",
        "   - **Purpose**: This type of ANOVA is used when the same subjects are used for each treatment (i.e., measurements are repeated on the same subjects across different conditions or time points).\n",
        "   - **Application**: Repeated Measures ANOVA is useful when analyzing longitudinal data or when the data is not independent (e.g., measuring the weight of individuals over time).\n",
        "   \n",
        "   **Example**:\n",
        "   - Measuring the blood pressure of patients at different time points after taking a medication.\n",
        "   \n",
        "   **Null Hypothesis (H₀)**: The population means are equal across all repeated measurements.\n",
        "   \n",
        "   **Alternative Hypothesis (H₁)**: At least one group mean is different across repeated measurements.\n",
        "\n",
        "### 4. **Multivariate Analysis of Variance (MANOVA)**\n",
        "   - **Purpose**: MANOVA extends ANOVA by analyzing the effect of independent variables on two or more dependent variables simultaneously.\n",
        "   - **Application**: MANOVA is used when you have multiple dependent variables that might be correlated, and you want to test their means across different groups.\n",
        "   \n",
        "   **Example**:\n",
        "   - Studying the effect of different diets on both weight and cholesterol levels in a group of individuals.\n",
        "   \n",
        "   **Null Hypothesis (H₀)**: The means of the dependent variables are the same across all groups.\n",
        "   \n",
        "   **Alternative Hypothesis (H₁)**: At least one group differs in the means of the dependent variables.\n",
        "\n",
        "### 5. **Analysis of Covariance (ANCOVA)**\n",
        "   - **Purpose**: ANCOVA is used when you want to compare one or more groups while controlling for the effects of continuous covariates (variables that might affect the dependent variable).\n",
        "   - **Application**: ANCOVA is useful when you want to control for certain variables (covariates) that could influence the dependent variable and might confound the results of an ANOVA.\n",
        "   \n",
        "   **Example**:\n",
        "   - Comparing the effectiveness of three teaching methods while controlling for students' prior knowledge or test scores.\n",
        "   \n",
        "   **Null Hypothesis (H₀)**: The means of the groups are equal, after accounting for the covariates.\n",
        "   \n",
        "   **Alternative Hypothesis (H₁)**: The means of the groups are not equal, even after accounting for the covariates.\n",
        "\n",
        "### 6. **Mixed-Design ANOVA**\n",
        "   - **Purpose**: A Mixed-Design ANOVA is used when there is a combination of repeated measures (within-subjects) and independent groups (between-subjects).\n",
        "   - **Application**: This test is suitable when you want to compare two factors, one being a repeated measure and the other being a between-subjects factor.\n",
        "   \n",
        "   **Example**:\n",
        "   - Analyzing the impact of two types of treatments (between-subjects) on patients' health over multiple time periods (within-subjects).\n",
        "   \n",
        "   **Null Hypothesis (H₀)**: There is no significant difference between the group means across time.\n",
        "   \n",
        "   **Alternative Hypothesis (H₁)**: There is a significant difference between the group means across time.\n",
        "\n",
        "### 7. **Post-hoc Tests**\n",
        "   - **Purpose**: Post-hoc tests are used after an ANOVA to identify which specific groups are different from each other, if the null hypothesis is rejected.\n",
        "   - **Application**: These tests are required when the ANOVA indicates that there are significant differences among groups, but we do not know which groups specifically differ.\n",
        "   \n",
        "   **Example**:\n",
        "   - After performing a One-Way ANOVA, using the Tukey’s Honest Significant Difference (HSD) test to identify which teaching methods have significantly different test scores.\n"
      ],
      "metadata": {
        "id": "o5D2jk6yYqd8"
      }
    },
    {
      "cell_type": "markdown",
      "source": [
        "# Q22.  What is the F-test, and how does it relate to hypothesis testing?"
      ],
      "metadata": {
        "id": "1G4nan9hZSyF"
      }
    },
    {
      "cell_type": "markdown",
      "source": [
        "# F-test and its relation to hypothesis testing\n",
        "--------------------------------------------------\n",
        "\n",
        "### 1. **What is the F-test?**\n",
        "   - **Purpose**: The F-test is a statistical test used to compare two variances and assess if they are significantly different. It is often used in the context of ANOVA or regression analysis to test whether the variances of two populations are equal or to evaluate the overall fit of a model.\n",
        "   \n",
        "   - **Application**:\n",
        "     - **In ANOVA**: The F-test compares the variance between groups to the variance within groups, determining if there are significant differences between group means.\n",
        "     - **In Regression**: The F-test tests the overall significance of the regression model, specifically whether the model explains a significant amount of variability in the dependent variable.\n",
        "\n",
        "### 2. **Formula for the F-statistic**\n",
        "   - The F-statistic is calculated as the ratio of two variances:\n",
        "   \n",
        "   \\[\n",
        "   F = \\frac{\\text{Variance Between Groups}}{\\text{Variance Within Groups}}\n",
        "   \\]\n",
        "   - In **ANOVA**, the variance between groups reflects how much group means differ from the overall mean, while the variance within groups reflects the individual variations within each group.\n",
        "\n",
        "### 3. **Hypothesis in the F-test**\n",
        "   - **Null Hypothesis (H₀)**: The variances are equal (no significant difference between the groups or models).\n",
        "     - For ANOVA, H₀: \\( \\mu_1 = \\mu_2 = \\dots = \\mu_k \\) (no difference in group means).\n",
        "     - For regression, H₀: The model does not explain significant variance in the dependent variable.\n",
        "   - **Alternative Hypothesis (H₁)**: The variances are different (there is a significant difference between the groups or models).\n",
        "     - For ANOVA, H₁: At least one group mean is different.\n",
        "     - For regression, H₁: The model explains a significant amount of variability.\n",
        "\n",
        "### 4. **Interpretation of the F-statistic**\n",
        "   - **Large F-value**: A large F-value suggests that the between-group variance is much greater than the within-group variance, indicating that there is a significant difference between the groups or that the regression model explains a significant amount of variability.\n",
        "   - **Small F-value**: A small F-value suggests that the between-group variance is similar to the within-group variance, meaning there is no significant difference between the groups or that the regression model does not explain much variability.\n",
        "\n",
        "### 5. **Relation to Hypothesis Testing**\n",
        "   - **F-test in ANOVA**:\n",
        "     - The F-test is used to test the null hypothesis that all group means are equal. If the F-value is large and the p-value is small (typically < 0.05), we reject the null hypothesis and conclude that at least one group mean is different.\n",
        "   - **F-test in Regression**:\n",
        "     - The F-test is used to evaluate the overall significance of the regression model. If the F-statistic is large and the p-value is small, it suggests that the independent variables together explain a significant amount of variability in the dependent variable.\n",
        "  \n",
        "### 6. **Example of F-test in ANOVA**:\n",
        "   - Suppose we have three different diet plans (A, B, and C), and we want to compare their effectiveness based on weight loss. After collecting data, we calculate the F-statistic to test if the average weight loss is significantly different across the three groups.\n",
        "   \n",
        "   **Null Hypothesis (H₀)**: The mean weight loss is the same for all three diet plans.\n",
        "   **Alternative Hypothesis (H₁)**: At least one diet plan leads to a different mean weight loss.\n"
      ],
      "metadata": {
        "id": "97tswcP7vmnh"
      }
    },
    {
      "cell_type": "markdown",
      "source": [
        "# *Practical*\n",
        "\n",
        "---\n",
        "\n"
      ],
      "metadata": {
        "id": "K5gXqV2IwQzd"
      }
    },
    {
      "cell_type": "markdown",
      "source": [
        "# Q1. Write a Python program to perform a Z-test for comparing a sample mean to a known population mean and interpret the results ?"
      ],
      "metadata": {
        "id": "628mdqrfwUkE"
      }
    },
    {
      "cell_type": "code",
      "source": [
        "import math\n",
        "from scipy.stats import norm\n",
        "\n",
        "pop_mean = float(input(\"Enter the population mean: \"))\n",
        "pop_std = float(input(\"Enter the population standard deviation: \"))\n",
        "sample_mean = float(input(\"Enter the sample mean: \"))\n",
        "sample_size = int(input(\"Enter the sample size: \"))\n",
        "alpha = float(input(\"Enter the significance level (e.g., 0.05): \"))\n",
        "alternative = input(\"Enter the alternative hypothesis ('two-tailed', 'greater', 'less'): \").strip().lower()\n",
        "\n",
        "std_error = pop_std / math.sqrt(sample_size)\n",
        "z_score = (sample_mean - pop_mean) / std_error\n",
        "\n",
        "if alternative == 'two-tailed':\n",
        "    p_value = 2 * (1 - norm.cdf(abs(z_score)))\n",
        "elif alternative == 'greater':\n",
        "    p_value = 1 - norm.cdf(z_score)\n",
        "elif alternative == 'less':\n",
        "    p_value = norm.cdf(z_score)\n",
        "else:\n",
        "    print(\"Invalid alternative hypothesis. Please choose 'two-tailed', 'greater', or 'less'.\")\n",
        "    exit()\n",
        "\n",
        "reject_null = p_value < alpha\n",
        "\n",
        "print(\"\\nResults of the Z-test:\")\n",
        "print(f\"Z-Score: {z_score:.4f}\")\n",
        "print(f\"P-Value: {p_value:.4f}\")\n",
        "print(f\"Significance Level: {alpha}\")\n",
        "\n",
        "if reject_null:\n",
        "    print(\"Decision: Reject the null hypothesis.\")\n",
        "    if alternative == 'two-tailed':\n",
        "        print(\"Conclusion: The sample mean is significantly different from the population mean.\")\n",
        "    elif alternative == 'greater':\n",
        "        print(\"Conclusion: The sample mean is significantly greater than the population mean.\")\n",
        "    else:\n",
        "        print(\"Conclusion: The sample mean is significantly less than the population mean.\")\n",
        "else:\n",
        "    print(\"Decision: Fail to reject the null hypothesis.\")\n",
        "    print(\"Conclusion: There is no significant difference between the sample mean and the population mean.\")"
      ],
      "metadata": {
        "colab": {
          "base_uri": "https://localhost:8080/"
        },
        "id": "ClFEejQazqfP",
        "outputId": "8645b147-7a9b-4213-d222-8acbe719e4e1"
      },
      "execution_count": 3,
      "outputs": [
        {
          "output_type": "stream",
          "name": "stdout",
          "text": [
            "Enter the population mean: 100\n",
            "Enter the population standard deviation: 15\n",
            "Enter the sample mean: 105\n",
            "Enter the sample size: 50\n",
            "Enter the significance level (e.g., 0.05): 0.05\n",
            "Enter the alternative hypothesis ('two-tailed', 'greater', 'less'): two-tailed\n",
            "\n",
            "Results of the Z-test:\n",
            "Z-Score: 2.3570\n",
            "P-Value: 0.0184\n",
            "Significance Level: 0.05\n",
            "Decision: Reject the null hypothesis.\n",
            "Conclusion: The sample mean is significantly different from the population mean.\n"
          ]
        }
      ]
    },
    {
      "cell_type": "markdown",
      "source": [
        "# Q2. Simulate random data to perform hypothesis testing and calculate the corresponding P-value using Python?"
      ],
      "metadata": {
        "id": "KYhnfJuOywnt"
      }
    },
    {
      "cell_type": "code",
      "source": [
        "import numpy as np\n",
        "from scipy.stats import norm\n",
        "import matplotlib.pyplot as plt\n",
        "\n",
        "population_mean = 100\n",
        "population_std = 15\n",
        "sample_size = 30\n",
        "alpha = 0.05\n",
        "\n",
        "np.random.seed(42)\n",
        "sample_data = np.random.normal(loc=population_mean, scale=population_std, size=sample_size)\n",
        "\n",
        "sample_mean = np.mean(sample_data)\n",
        "print(f\"Sample Mean: {sample_mean:.2f}\")\n",
        "print(f\"Population Mean: {population_mean}\")\n",
        "\n",
        "standard_error = population_std / np.sqrt(sample_size)\n",
        "\n",
        "z_score = (sample_mean - population_mean) / standard_error\n",
        "\n",
        "p_value = 2 * (1 - norm.cdf(abs(z_score)))\n",
        "\n",
        "print(\"\\nHypothesis Test Results:\")\n",
        "print(f\"Z-score: {z_score:.4f}\")\n",
        "print(f\"P-value: {p_value:.4f}\")\n",
        "print(f\"Significance level: {alpha}\")\n",
        "\n",
        "if p_value < alpha:\n",
        "    print(\"\\nConclusion: Reject null hypothesis (significant difference)\")\n",
        "else:\n",
        "    print(\"\\nConclusion: Fail to reject null hypothesis (no significant difference)\")\n",
        "\n",
        "plt.figure(figsize=(10, 6))\n",
        "plt.hist(sample_data, bins=10, alpha=0.7, edgecolor='black', label='Sample Data')\n",
        "plt.axvline(population_mean, color='red', linestyle='dashed', linewidth=2, label='Population Mean')\n",
        "plt.axvline(sample_mean, color='green', linestyle='dashed', linewidth=2, label='Sample Mean')\n",
        "plt.xlabel('Values')\n",
        "plt.ylabel('Frequency')\n",
        "plt.title('Sample Data vs Population Mean')\n",
        "plt.legend()\n",
        "plt.show()"
      ],
      "metadata": {
        "colab": {
          "base_uri": "https://localhost:8080/",
          "height": 725
        },
        "id": "gnZg3naV1TX5",
        "outputId": "4b6b4c1a-2e20-4f14-da09-1d7e36ad869c"
      },
      "execution_count": 4,
      "outputs": [
        {
          "output_type": "stream",
          "name": "stdout",
          "text": [
            "Sample Mean: 97.18\n",
            "Population Mean: 100\n",
            "\n",
            "Hypothesis Test Results:\n",
            "Z-score: -1.0305\n",
            "P-value: 0.3028\n",
            "Significance level: 0.05\n",
            "\n",
            "Conclusion: Fail to reject null hypothesis (no significant difference)\n"
          ]
        },
        {
          "output_type": "display_data",
          "data": {
            "text/plain": [
              "<Figure size 1000x600 with 1 Axes>"
            ],
            "image/png": "[encoded data removed]"
          },
          "metadata": {}
        }
      ]
    },
    {
      "cell_type": "markdown",
      "source": [
        "# Q3.Implement a one-sample Z-test using Python to compare the sample mean with the population mean?"
      ],
      "metadata": {
        "id": "h6Yr_O_u1scv"
      }
    },
    {
      "cell_type": "code",
      "source": [
        "import numpy as np\n",
        "from scipy import stats\n",
        "\n",
        "sample = [25, 30, 28, 35, 32, 31, 27, 29, 34, 33]\n",
        "population_mean = 30\n",
        "population_std = 4\n",
        "n = len(sample)\n",
        "\n",
        "sample_mean = np.mean(sample)\n",
        "\n",
        "z_score = (sample_mean - population_mean) / (population_std / np.sqrt(n))\n",
        "\n",
        "p_value = 2 * (1 - stats.norm.cdf(abs(z_score)))\n",
        "\n",
        "print(f\"Sample Mean: {sample_mean}\")\n",
        "print(f\"Z-score: {z_score}\")\n",
        "print(f\"P-value: {p_value}\")\n",
        "\n",
        "alpha = 0.05\n",
        "if p_value < alpha:\n",
        "    print(\"Reject the null hypothesis (H0): The sample mean is significantly different from the population mean.\")\n",
        "else:\n",
        "    print(\"Fail to reject the null hypothesis (H0): No significant difference between the sample and population mean.\")\n"
      ],
      "metadata": {
        "colab": {
          "base_uri": "https://localhost:8080/"
        },
        "id": "JqUZa7RA-pjJ",
        "outputId": "fc1b23f7-9d5d-4b17-9a37-8dea2dbf2207"
      },
      "execution_count": 13,
      "outputs": [
        {
          "output_type": "stream",
          "name": "stdout",
          "text": [
            "Sample Mean: 30.4\n",
            "Z-score: 0.3162277660168368\n",
            "P-value: 0.7518296340458501\n",
            "Fail to reject the null hypothesis (H0): No significant difference between the sample and population mean.\n"
          ]
        }
      ]
    },
    {
      "cell_type": "markdown",
      "source": [
        "# Q4. Perform a two-tailed Z-test using Python and visualize the decision region on a plot?"
      ],
      "metadata": {
        "id": "m_NeEGuZ_Kty"
      }
    },
    {
      "cell_type": "code",
      "source": [
        "import numpy as np\n",
        "import scipy.stats as stats\n",
        "import matplotlib.pyplot as plt\n",
        "\n",
        "sample = [25, 30, 28, 35, 32, 31, 27, 29, 34, 33]\n",
        "population_mean = 30\n",
        "population_std = 4\n",
        "alpha = 0.05\n",
        "n = len(sample)\n",
        "\n",
        "sample_mean = np.mean(sample)\n",
        "\n",
        "z_score = (sample_mean - population_mean) / (population_std / np.sqrt(n))\n",
        "\n",
        "critical_value = stats.norm.ppf(1 - alpha / 2)\n",
        "\n",
        "p_value = 2 * (1 - stats.norm.cdf(abs(z_score)))\n",
        "\n",
        "x = np.linspace(-4, 4, 1000)\n",
        "y = stats.norm.pdf(x)\n",
        "\n",
        "plt.figure(figsize=(10, 5))\n",
        "plt.plot(x, y, label=\"Standard Normal Distribution\", color='blue')\n",
        "\n",
        "plt.axvline(-critical_value, color='red', linestyle='dashed', label=f'Critical Value (-{critical_value:.2f})')\n",
        "plt.axvline(critical_value, color='red', linestyle='dashed', label=f'Critical Value (+{critical_value:.2f})')\n",
        "plt.axvline(z_score, color='green', linestyle='solid', label=f'Z-score ({z_score:.2f})')\n",
        "\n",
        "plt.fill_between(x, y, where=(x < -critical_value) | (x > critical_value), color='red', alpha=0.3)\n",
        "\n",
        "plt.xlabel(\"Z-score\")\n",
        "plt.ylabel(\"Probability Density\")\n",
        "plt.title(\"Two-Tailed Z-Test Decision Region\")\n",
        "plt.legend()\n",
        "plt.show()\n",
        "\n",
        "print(f\"Sample Mean: {sample_mean}\")\n",
        "print(f\"Z-score: {z_score}\")\n",
        "print(f\"P-value: {p_value}\")\n",
        "\n",
        "if abs(z_score) > critical_value:\n",
        "    print(\"Reject the null hypothesis (H0): The sample mean is significantly different from the population mean.\")\n",
        "else:\n",
        "    print(\"Fail to reject the null hypothesis (H0): No significant difference between the sample and population mean.\")\n"
      ],
      "metadata": {
        "colab": {
          "base_uri": "https://localhost:8080/",
          "height": 558
        },
        "id": "NiSeEboa_NsJ",
        "outputId": "cc65e5e4-84aa-4ff4-ec35-c9b67aefcf03"
      },
      "execution_count": 14,
      "outputs": [
        {
          "output_type": "display_data",
          "data": {
            "text/plain": [
              "<Figure size 1000x500 with 1 Axes>"
            ],
            "image/png": "[encoded data removed]"
          },
          "metadata": {}
        },
        {
          "output_type": "stream",
          "name": "stdout",
          "text": [
            "Sample Mean: 30.4\n",
            "Z-score: 0.3162277660168368\n",
            "P-value: 0.7518296340458501\n",
            "Fail to reject the null hypothesis (H0): No significant difference between the sample and population mean.\n"
          ]
        }
      ]
    },
    {
      "cell_type": "markdown",
      "source": [
        "# Q5. Create a Python function that calculates and visualizes Type 1 and Type 2 errors during hypothesis testing?"
      ],
      "metadata": {
        "id": "ObSSZSRO_-KC"
      }
    },
    {
      "cell_type": "code",
      "source": [
        "import numpy as np\n",
        "import matplotlib.pyplot as plt\n",
        "from scipy.stats import norm\n",
        "\n",
        "def calculate_and_visualize_errors(mu_0, mu_a, sigma, n, alpha=0.05):\n",
        "    se = sigma / np.sqrt(n)\n",
        "    z_critical = norm.ppf(1 - alpha / 2)\n",
        "    lower_bound = mu_0 - z_critical * se\n",
        "    upper_bound = mu_0 + z_critical * se\n",
        "    type_1_error = alpha\n",
        "    z_lower = (lower_bound - mu_a) / se\n",
        "    z_upper = (upper_bound - mu_a) / se\n",
        "    type_2_error = norm.cdf(z_upper) - norm.cdf(z_lower)\n",
        "    power = 1 - type_2_error\n",
        "\n",
        "    x = np.linspace(mu_0 - 4 * se, mu_a + 4 * se, 1000)\n",
        "    null_dist = norm.pdf(x, loc=mu_0, scale=se)\n",
        "    alt_dist = norm.pdf(x, loc=mu_a, scale=se)\n",
        "\n",
        "    plt.figure(figsize=(10, 6))\n",
        "    plt.plot(x, null_dist, label=f\"Null Distribution ($\\mu_0={mu_0}$)\", color=\"blue\")\n",
        "    plt.plot(x, alt_dist, label=f\"Alternative Distribution ($\\mu_a={mu_a}$)\", color=\"orange\")\n",
        "    plt.fill_between(x, null_dist, where=(x <= lower_bound) | (x >= upper_bound), color=\"red\", alpha=0.3, label=\"Type 1 Error\")\n",
        "    plt.fill_between(x, alt_dist, where=(x >= lower_bound) & (x <= upper_bound), color=\"green\", alpha=0.3, label=\"Type 2 Error\")\n",
        "    plt.axvline(lower_bound, color=\"black\", linestyle=\"--\", label=f\"Critical Value (Lower)\")\n",
        "    plt.axvline(upper_bound, color=\"black\", linestyle=\"--\", label=f\"Critical Value (Upper)\")\n",
        "    plt.title(\"Type 1 and Type 2 Errors in Hypothesis Testing\")\n",
        "    plt.xlabel(\"Sample Mean\")\n",
        "    plt.ylabel(\"Probability Density\")\n",
        "    plt.legend()\n",
        "    plt.grid(True)\n",
        "    plt.show()\n",
        "\n",
        "    print(f\"Type 1 Error (α): {type_1_error:.4f}\")\n",
        "    print(f\"Type 2 Error (β): {type_2_error:.4f}\")\n",
        "    print(f\"Power of the Test (1 - β): {power:.4f}\")\n",
        "\n",
        "if __name__ == \"__main__\":\n",
        "    mu_0 = 50\n",
        "    mu_a = 52\n",
        "    sigma = 10\n",
        "    n = 100\n",
        "    alpha = 0.05\n",
        "    calculate_and_visualize_errors(mu_0, mu_a, sigma, n, alpha)"
      ],
      "metadata": {
        "colab": {
          "base_uri": "https://localhost:8080/",
          "height": 618
        },
        "id": "EoSMN8F_AsSQ",
        "outputId": "6fa83af8-8ff3-4f95-bc4d-371f8865b708"
      },
      "execution_count": 16,
      "outputs": [
        {
          "output_type": "display_data",
          "data": {
            "text/plain": [
              "<Figure size 1000x600 with 1 Axes>"
            ],
            "image/png": "[encoded data removed]"
          },
          "metadata": {}
        },
        {
          "output_type": "stream",
          "name": "stdout",
          "text": [
            "Type 1 Error (α): 0.0500\n",
            "Type 2 Error (β): 0.4840\n",
            "Power of the Test (1 - β): 0.5160\n"
          ]
        }
      ]
    },
    {
      "cell_type": "markdown",
      "source": [
        "# Q6. Write a Python program to perform an independent T-test and interpret the results?"
      ],
      "metadata": {
        "id": "8PTuG3O0AyMX"
      }
    },
    {
      "cell_type": "code",
      "source": [
        "from scipy.stats import ttest_ind\n",
        "\n",
        "def independent_t_test(group1, group2, alpha=0.05):\n",
        "    t_stat, p_value = ttest_ind(group1, group2)\n",
        "    if p_value < alpha:\n",
        "        result = \"Reject the null hypothesis: There is a significant difference between the two groups.\"\n",
        "    else:\n",
        "        result = \"Fail to reject the null hypothesis: No significant difference between the two groups.\"\n",
        "    return t_stat, p_value, result\n",
        "\n",
        "if __name__ == \"__main__\":\n",
        "    group1 = [23, 25, 28, 30, 32, 35, 36, 38, 40, 42]\n",
        "    group2 = [18, 20, 22, 24, 26, 28, 30, 32, 34, 36]\n",
        "    t_stat, p_value, result = independent_t_test(group1, group2, alpha=0.05)\n",
        "    print(f\"T-statistic: {t_stat:.4f}\")\n",
        "    print(f\"P-value: {p_value:.4f}\")\n",
        "    print(result)"
      ],
      "metadata": {
        "colab": {
          "base_uri": "https://localhost:8080/"
        },
        "id": "Qv0u8iqyB7HL",
        "outputId": "f600ff7b-81ec-478d-b1bf-f6499e8804dd"
      },
      "execution_count": 17,
      "outputs": [
        {
          "output_type": "stream",
          "name": "stdout",
          "text": [
            "T-statistic: 2.1203\n",
            "P-value: 0.0481\n",
            "Reject the null hypothesis: There is a significant difference between the two groups.\n"
          ]
        }
      ]
    },
    {
      "cell_type": "markdown",
      "source": [
        "# Q7. Perform a paired sample T-test using Python and visualize the comparison results?"
      ],
      "metadata": {
        "id": "Bk77m-tQCGkH"
      }
    },
    {
      "cell_type": "code",
      "source": [
        "import numpy as np\n",
        "import scipy.stats as stats\n",
        "import matplotlib.pyplot as plt\n",
        "import seaborn as sns\n",
        "\n",
        "before = [55, 60, 65, 62, 70, 68, 72, 74, 58, 66]\n",
        "after = [58, 63, 67, 65, 75, 72, 76, 78, 61, 70]\n",
        "\n",
        "t_stat, p_value = stats.ttest_rel(before, after)\n",
        "\n",
        "print(f\"T-statistic: {t_stat:.3f}\")\n",
        "print(f\"P-value: {p_value:.5f}\")\n",
        "\n",
        "alpha = 0.05\n",
        "if p_value < alpha:\n",
        "    print(\"Reject the null hypothesis: Significant difference between the two samples.\")\n",
        "else:\n",
        "    print(\"Fail to reject the null hypothesis: No significant difference between the two samples.\")\n",
        "\n",
        "plt.figure(figsize=(10, 5))\n",
        "\n",
        "plt.subplot(1, 2, 1)\n",
        "sns.boxplot(data=[before, after], palette=['blue', 'green'])\n",
        "plt.xticks([0, 1], ['Before', 'After'])\n",
        "plt.title(\"Before vs After Comparison\")\n",
        "\n",
        "differences = np.array(after) - np.array(before)\n",
        "plt.subplot(1, 2, 2)\n",
        "sns.histplot(differences, bins=6, kde=True, color='purple', alpha=0.6)\n",
        "plt.axvline(np.mean(differences), color='red', linestyle='dashed', label=\"Mean Difference\")\n",
        "plt.legend()\n",
        "plt.title(\"Distribution of Paired Differences\")\n",
        "\n",
        "plt.tight_layout()\n",
        "plt.show()\n"
      ],
      "metadata": {
        "colab": {
          "base_uri": "https://localhost:8080/",
          "height": 561
        },
        "id": "341n4R1YDSCT",
        "outputId": "f38d66c4-e04f-4989-f5b9-e280bede47f2"
      },
      "execution_count": 19,
      "outputs": [
        {
          "output_type": "stream",
          "name": "stdout",
          "text": [
            "T-statistic: -13.024\n",
            "P-value: 0.00000\n",
            "Reject the null hypothesis: Significant difference between the two samples.\n"
          ]
        },
        {
          "output_type": "display_data",
          "data": {
            "text/plain": [
              "<Figure size 1000x500 with 2 Axes>"
            ],
            "image/png": "[encoded data removed]"
          },
          "metadata": {}
        }
      ]
    },
    {
      "cell_type": "markdown",
      "source": [
        "# Q8.  Simulate data and perform both Z-test and T-test, then compare the results using Python?"
      ],
      "metadata": {
        "id": "-8Yw4_MBDai4"
      }
    },
    {
      "cell_type": "code",
      "source": [
        "import numpy as np\n",
        "import scipy.stats as stats\n",
        "import matplotlib.pyplot as plt\n",
        "import seaborn as sns\n",
        "\n",
        "np.random.seed(42)\n",
        "n = 30\n",
        "mu, sigma = 100, 15\n",
        "sample = np.random.normal(mu, sigma, n)\n",
        "\n",
        "pop_mean = 105\n",
        "pop_std = 15\n",
        "\n",
        "z_stat = (np.mean(sample) - pop_mean) / (pop_std / np.sqrt(n))\n",
        "p_value_z = 2 * (1 - stats.norm.cdf(abs(z_stat)))\n",
        "\n",
        "t_stat, p_value_t = stats.ttest_1samp(sample, pop_mean)\n",
        "\n",
        "print(f\"Z-test: Z-statistic = {z_stat:.3f}, P-value = {p_value_z:.5f}\")\n",
        "print(f\"T-test: T-statistic = {t_stat:.3f}, P-value = {p_value_t:.5f}\")\n",
        "\n",
        "alpha = 0.05\n",
        "z_result = \"Reject H0\" if p_value_z < alpha else \"Fail to reject H0\"\n",
        "t_result = \"Reject H0\" if p_value_t < alpha else \"Fail to reject H0\"\n",
        "print(f\"Z-test Decision: {z_result}\")\n",
        "print(f\"T-test Decision: {t_result}\")\n",
        "\n",
        "plt.figure(figsize=(10, 5))\n",
        "sns.histplot(sample, bins=10, kde=True, color='blue', alpha=0.6)\n",
        "plt.axvline(np.mean(sample), color='red', linestyle='dashed', label=\"Sample Mean\")\n",
        "plt.axvline(pop_mean, color='green', linestyle='dashed', label=\"Population Mean\")\n",
        "plt.legend()\n",
        "plt.title(\"Sample Distribution with Population Mean\")\n",
        "plt.show()\n"
      ],
      "metadata": {
        "colab": {
          "base_uri": "https://localhost:8080/",
          "height": 539
        },
        "id": "zOmpPszKDgSx",
        "outputId": "a2e32719-1223-40ab-a403-9636cf73264e"
      },
      "execution_count": 20,
      "outputs": [
        {
          "output_type": "stream",
          "name": "stdout",
          "text": [
            "Z-test: Z-statistic = -2.856, P-value = 0.00429\n",
            "T-test: T-statistic = -3.174, P-value = 0.00355\n",
            "Z-test Decision: Reject H0\n",
            "T-test Decision: Reject H0\n"
          ]
        },
        {
          "output_type": "display_data",
          "data": {
            "text/plain": [
              "<Figure size 1000x500 with 1 Axes>"
            ],
            "image/png": "[encoded data removed]"
          },
          "metadata": {}
        }
      ]
    },
    {
      "cell_type": "markdown",
      "source": [
        "# Q9. Write a Python function to calculate the confidence interval for a sample mean and explain its significance."
      ],
      "metadata": {
        "id": "_XS410t5Dtkq"
      }
    },
    {
      "cell_type": "code",
      "source": [
        "import numpy as np\n",
        "import scipy.stats as stats\n",
        "\n",
        "def confidence_interval(sample, confidence=0.95):\n",
        "    n = len(sample)\n",
        "    mean = np.mean(sample)\n",
        "    std_err = stats.sem(sample)\n",
        "    margin_of_error = stats.t.ppf((1 + confidence) / 2, df=n-1) * std_err\n",
        "    lower_bound = mean - margin_of_error\n",
        "    upper_bound = mean + margin_of_error\n",
        "    return lower_bound, upper_bound\n",
        "\n",
        "sample_data = np.random.normal(100, 15, 30)\n",
        "ci = confidence_interval(sample_data)\n",
        "\n",
        "print(f\"95% Confidence Interval: ({ci[0]:.2f}, {ci[1]:.2f})\")\n"
      ],
      "metadata": {
        "colab": {
          "base_uri": "https://localhost:8080/"
        },
        "id": "U7MHdDVMD0cm",
        "outputId": "4a728b07-47c0-461e-b6cd-61d9aa592828"
      },
      "execution_count": 21,
      "outputs": [
        {
          "output_type": "stream",
          "name": "stdout",
          "text": [
            "95% Confidence Interval: (92.97, 103.40)\n"
          ]
        }
      ]
    },
    {
      "cell_type": "markdown",
      "source": [
        "# Q1O. Write a Python program to calculate the margin of error for a given confidence level using sample data?"
      ],
      "metadata": {
        "id": "Xm7ogyQrEcL4"
      }
    },
    {
      "cell_type": "code",
      "source": [
        "import numpy as np\n",
        "from scipy.stats import t\n",
        "\n",
        "def calculate_margin_of_error(data, confidence_level=0.95):\n",
        "    sample_mean = np.mean(data)\n",
        "    sample_std = np.std(data, ddof=1)\n",
        "    n = len(data)\n",
        "    degrees_of_freedom = n - 1\n",
        "    t_critical = t.ppf((1 + confidence_level) / 2, degrees_of_freedom)\n",
        "    margin_of_error = t_critical * (sample_std / np.sqrt(n))\n",
        "    return margin_of_error\n",
        "\n",
        "if __name__ == \"__main__\":\n",
        "    data = [23, 25, 28, 30, 32, 35, 36, 38, 40, 42]\n",
        "    confidence_level = 0.95\n",
        "    margin = calculate_margin_of_error(data, confidence_level)\n",
        "    print(f\"Margin of Error ({confidence_level*100}% confidence level): {margin:.4f}\")"
      ],
      "metadata": {
        "colab": {
          "base_uri": "https://localhost:8080/"
        },
        "id": "mvo3wyqbEif_",
        "outputId": "93317f97-eb05-4634-88ee-db2ac8e437bd"
      },
      "execution_count": 23,
      "outputs": [
        {
          "output_type": "stream",
          "name": "stdout",
          "text": [
            "Margin of Error (95.0% confidence level): 4.5675\n"
          ]
        }
      ]
    },
    {
      "cell_type": "markdown",
      "source": [
        "# Q11. Implement a Bayesian inference method using Bayes' Theorem in Python and explain the process?"
      ],
      "metadata": {
        "id": "koWrRJ7RE-av"
      }
    },
    {
      "cell_type": "code",
      "source": [
        "def bayes_theorem(prior, likelihood, false_positive):\n",
        "    \"\"\"\n",
        "    Calculate posterior probability using Bayes' Theorem.\n",
        "\n",
        "    Formula: P(A|B) = [P(B|A) * P(A)] / P(B)\n",
        "    Where P(B) = P(B|A)*P(A) + P(B|¬A)*P(¬A)\n",
        "\n",
        "    Parameters:\n",
        "    prior (float):       Prior probability P(A) - initial belief\n",
        "    likelihood (float):  Likelihood P(B|A) - probability of evidence given hypothesis\n",
        "    false_positive (float): Probability P(B|¬A) - false positive rate\n",
        "\n",
        "    Returns:\n",
        "    float: Posterior probability P(A|B) - updated probability after evidence\n",
        "    \"\"\"\n",
        "    # Calculate total probability of evidence P(B)\n",
        "    # P(B) = P(B|A)*P(A) + P(B|¬A)*P(¬A)\n",
        "    p_evidence = (likelihood * prior) + (false_positive * (1 - prior))\n",
        "\n",
        "    # Calculate posterior probability P(A|B) using Bayes' formula\n",
        "    posterior = (likelihood * prior) / p_evidence\n",
        "\n",
        "    return posterior\n",
        "\n",
        "# --------------------------\n",
        "# Example: Medical Test Scenario\n",
        "# Calculate probability of having a disease (D) after positive test (T+)\n",
        "# --------------------------\n",
        "\n",
        "# Prior probability: P(D) - disease prevalence in population\n",
        "prior = 0.01  # 1% base rate\n",
        "\n",
        "# Sensitivity: P(T+|D) - probability of positive test when disease is present\n",
        "sensitivity = 0.95  # 95% accurate for true positives\n",
        "\n",
        "# False positive rate: P(T+|¬D) - probability of positive test without disease\n",
        "false_positive = 0.05  # 5% false positive rate\n",
        "\n",
        "# Calculate posterior probability P(D|T+)\n",
        "posterior_prob = bayes_theorem(prior, sensitivity, false_positive)\n",
        "\n",
        "# Print results with interpretation\n",
        "print(f\"[Prior] P(D): {prior:.4f} ({prior*100:.1f}%)\")\n",
        "print(f\"[Evidence] P(T+|D): {sensitivity:.2f}, P(T+|¬D): {false_positive:.2f}\")\n",
        "print(f\"[Marginal] P(T+): {(sensitivity * prior) + (false_positive * (1 - prior)):.3f}\")\n",
        "print(f\"\\nPosterior Probability P(D|T+): {posterior_prob:.4f} ({posterior_prob*100:.2f}%)\")\n",
        "print(\"\\nInterpretation: Even with a 95% accurate test,\")\n",
        "print(\"the low prior probability (1% prevalence) results\")\n",
        "print(\"in only ~16% probability of actually having the disease\")\n",
        "print(\"after a positive test result - demonstrating the\")\n",
        "print(\"importance of considering base rates in diagnostics.\")"
      ],
      "metadata": {
        "colab": {
          "base_uri": "https://localhost:8080/"
        },
        "id": "fd8rRTKAGjpZ",
        "outputId": "0b6c58b9-9da5-49cc-facd-372a01c88488"
      },
      "execution_count": 26,
      "outputs": [
        {
          "output_type": "stream",
          "name": "stdout",
          "text": [
            "[Prior] P(D): 0.0100 (1.0%)\n",
            "[Evidence] P(T+|D): 0.95, P(T+|¬D): 0.05\n",
            "[Marginal] P(T+): 0.059\n",
            "\n",
            "Posterior Probability P(D|T+): 0.1610 (16.10%)\n",
            "\n",
            "Interpretation: Even with a 95% accurate test,\n",
            "the low prior probability (1% prevalence) results\n",
            "in only ~16% probability of actually having the disease\n",
            "after a positive test result - demonstrating the\n",
            "importance of considering base rates in diagnostics.\n"
          ]
        }
      ]
    },
    {
      "cell_type": "markdown",
      "source": [
        "# Q12. Perform a Chi-square test for independence between two categorical variables in Python?"
      ],
      "metadata": {
        "id": "sEPI7oBqGrV6"
      }
    },
    {
      "cell_type": "code",
      "source": [
        "from scipy.stats import chi2_contingency\n",
        "import numpy as np\n",
        "\n",
        "def chi_square_test(contingency_table, alpha=0.05):\n",
        "    chi2_stat, p_value, dof, expected = chi2_contingency(contingency_table)\n",
        "    if p_value < alpha:\n",
        "        result = \"Reject the null hypothesis: There is a significant association between the variables.\"\n",
        "    else:\n",
        "        result = \"Fail to reject the null hypothesis: No significant association between the variables.\"\n",
        "    return chi2_stat, p_value, dof, expected, result\n",
        "\n",
        "if __name__ == \"__main__\":\n",
        "    contingency_table = np.array([[10, 20], [30, 40]])\n",
        "    chi2_stat, p_value, dof, expected, result = chi_square_test(contingency_table, alpha=0.05)\n",
        "    print(f\"Chi-square Statistic: {chi2_stat:.4f}\")\n",
        "    print(f\"P-value: {p_value:.4f}\")\n",
        "    print(f\"Degrees of Freedom: {dof}\")\n",
        "    print(\"Expected Frequencies:\")\n",
        "    print(expected)\n",
        "    print(result)"
      ],
      "metadata": {
        "colab": {
          "base_uri": "https://localhost:8080/"
        },
        "id": "GFr1KxnGHNB9",
        "outputId": "15870982-5977-4294-9e63-a1076f782812"
      },
      "execution_count": 28,
      "outputs": [
        {
          "output_type": "stream",
          "name": "stdout",
          "text": [
            "Chi-square Statistic: 0.4464\n",
            "P-value: 0.5040\n",
            "Degrees of Freedom: 1\n",
            "Expected Frequencies:\n",
            "[[12. 18.]\n",
            " [28. 42.]]\n",
            "Fail to reject the null hypothesis: No significant association between the variables.\n"
          ]
        }
      ]
    },
    {
      "cell_type": "markdown",
      "source": [
        "# Q13. Write a Python program to calculate the expected frequencies for a Chi-square test based on observed data?"
      ],
      "metadata": {
        "id": "BcZhDhMWHR0O"
      }
    },
    {
      "cell_type": "code",
      "source": [
        "from scipy.stats import chi2_contingency\n",
        "import numpy as np\n",
        "\n",
        "def chi_square_test(contingency_table, alpha=0.05):\n",
        "    chi2_stat, p_value, dof, expected = chi2_contingency(contingency_table)\n",
        "    if p_value < alpha:\n",
        "        result = \"Reject the null hypothesis: There is a significant association between the variables.\"\n",
        "    else:\n",
        "        result = \"Fail to reject the null hypothesis: No significant association between the variables.\"\n",
        "    return chi2_stat, p_value, dof, expected, result\n",
        "\n",
        "if __name__ == \"__main__\":\n",
        "    contingency_table = np.array([[10, 20], [30, 40]])\n",
        "    chi2_stat, p_value, dof, expected, result = chi_square_test(contingency_table, alpha=0.05)\n",
        "    print(f\"Chi-square Statistic: {chi2_stat:.4f}\")\n",
        "    print(f\"P-value: {p_value:.4f}\")\n",
        "    print(f\"Degrees of Freedom: {dof}\")\n",
        "    print(\"Expected Frequencies:\")\n",
        "    print(expected)\n",
        "    print(result)"
      ],
      "metadata": {
        "colab": {
          "base_uri": "https://localhost:8080/"
        },
        "id": "Y6CckmNWHYwN",
        "outputId": "7594472e-fe84-4869-a571-5e17e935e3a7"
      },
      "execution_count": 29,
      "outputs": [
        {
          "output_type": "stream",
          "name": "stdout",
          "text": [
            "Chi-square Statistic: 0.4464\n",
            "P-value: 0.5040\n",
            "Degrees of Freedom: 1\n",
            "Expected Frequencies:\n",
            "[[12. 18.]\n",
            " [28. 42.]]\n",
            "Fail to reject the null hypothesis: No significant association between the variables.\n"
          ]
        }
      ]
    },
    {
      "cell_type": "markdown",
      "source": [
        "# Q14. Perform a goodness-of-fit test using Python to compare the observed data to an expected distribution."
      ],
      "metadata": {
        "id": "zYiV-0o7HqA6"
      }
    },
    {
      "cell_type": "code",
      "source": [
        "import numpy as np\n",
        "import scipy.stats as stats\n",
        "\n",
        "observed_data = np.array([30, 10, 20, 40])\n",
        "expected_data = np.array([25, 15, 25, 35])\n",
        "\n",
        "chi2_stat, p_value = stats.chisquare(observed_data, expected_data)\n",
        "\n",
        "print(f\"Chi2 Statistic: {chi2_stat:.3f}\")\n",
        "print(f\"P-value: {p_value:.3f}\")\n",
        "\n",
        "alpha = 0.05\n",
        "if p_value < alpha:\n",
        "    print(\"Reject the null hypothesis: The observed data does not fit the expected distribution.\")\n",
        "else:\n",
        "    print(\"Fail to reject the null hypothesis: The observed data fits the expected distribution.\")\n"
      ],
      "metadata": {
        "colab": {
          "base_uri": "https://localhost:8080/"
        },
        "id": "9XeBge6MIO-P",
        "outputId": "fd660699-7805-4cbc-f907-67dd48df9f96"
      },
      "execution_count": 31,
      "outputs": [
        {
          "output_type": "stream",
          "name": "stdout",
          "text": [
            "Chi2 Statistic: 4.381\n",
            "P-value: 0.223\n",
            "Fail to reject the null hypothesis: The observed data fits the expected distribution.\n"
          ]
        }
      ]
    },
    {
      "cell_type": "markdown",
      "source": [
        "# Q15. Create a Python script to simulate and visualize the Chi-square distribution and discuss its characteristics."
      ],
      "metadata": {
        "id": "9rwpmLpMIrIv"
      }
    },
    {
      "cell_type": "code",
      "source": [
        "import numpy as np\n",
        "import matplotlib.pyplot as plt\n",
        "from scipy.stats import chi2\n",
        "\n",
        "def simulate_chi_square_distribution(df, size=10000):\n",
        "    samples = chi2.rvs(df, size=size)\n",
        "    return samples\n",
        "\n",
        "def plot_chi_square_distribution(samples, df):\n",
        "    x = np.linspace(0, max(samples), 1000)\n",
        "    pdf = chi2.pdf(x, df)\n",
        "\n",
        "    plt.figure(figsize=(10, 6))\n",
        "    plt.hist(samples, bins=50, density=True, alpha=0.6, color=\"skyblue\", label=\"Simulated Samples\")\n",
        "    plt.plot(x, pdf, color=\"red\", lw=2, label=f\"Chi-square PDF (df={df})\")\n",
        "    plt.title(\"Chi-square Distribution Simulation\")\n",
        "    plt.xlabel(\"Value\")\n",
        "    plt.ylabel(\"Density\")\n",
        "    plt.legend()\n",
        "    plt.grid(True)\n",
        "    plt.show()\n",
        "\n",
        "if __name__ == \"__main__\":\n",
        "    degrees_of_freedom = 5\n",
        "    sample_size = 10000\n",
        "    samples = simulate_chi_square_distribution(degrees_of_freedom, sample_size)\n",
        "    plot_chi_square_distribution(samples, degrees_of_freedom)"
      ],
      "metadata": {
        "colab": {
          "base_uri": "https://localhost:8080/",
          "height": 564
        },
        "id": "WsflYaMxJnlw",
        "outputId": "318d55fc-5844-4b33-bc98-2cab9e759007"
      },
      "execution_count": 34,
      "outputs": [
        {
          "output_type": "display_data",
          "data": {
            "text/plain": [
              "<Figure size 1000x600 with 1 Axes>"
            ],
            "image/png": "[encoded data removed]"
          },
          "metadata": {}
        }
      ]
    },
    {
      "cell_type": "markdown",
      "source": [
        "# Q16. Implement an F-test using Python to compare the variances of two random samples."
      ],
      "metadata": {
        "id": "IOFU8SNCJsUz"
      }
    },
    {
      "cell_type": "code",
      "source": [
        "from scipy.stats import f_oneway\n",
        "\n",
        "def f_test(sample1, sample2, alpha=0.05):\n",
        "    f_stat, p_value = f_oneway(sample1, sample2)\n",
        "    if p_value < alpha:\n",
        "        result = \"Reject the null hypothesis: The variances are significantly different.\"\n",
        "    else:\n",
        "        result = \"Fail to reject the null hypothesis: The variances are not significantly different.\"\n",
        "    return f_stat, p_value, result\n",
        "\n",
        "if __name__ == \"__main__\":\n",
        "    sample1 = [23, 25, 28, 30, 32, 35, 36, 38, 40, 42]\n",
        "    sample2 = [18, 20, 22, 24, 26, 28, 30, 32, 34, 36]\n",
        "    f_stat, p_value, result = f_test(sample1, sample2, alpha=0.05)\n",
        "    print(f\"F-statistic: {f_stat:.4f}\")\n",
        "    print(f\"P-value: {p_value:.4f}\")\n",
        "    print(result)"
      ],
      "metadata": {
        "colab": {
          "base_uri": "https://localhost:8080/"
        },
        "id": "odsjZ2ENJxvu",
        "outputId": "9b8c3fda-1c55-49e9-88fd-943ecbd0dc92"
      },
      "execution_count": 35,
      "outputs": [
        {
          "output_type": "stream",
          "name": "stdout",
          "text": [
            "F-statistic: 4.4955\n",
            "P-value: 0.0481\n",
            "Reject the null hypothesis: The variances are significantly different.\n"
          ]
        }
      ]
    },
    {
      "cell_type": "markdown",
      "source": [
        "# Q17. Write a Python program to perform an ANOVA test to compare means between multiple groups and interpret the results."
      ],
      "metadata": {
        "id": "4IT-UX9JKCKy"
      }
    },
    {
      "cell_type": "code",
      "source": [
        " import numpy as np\n",
        "import scipy.stats as stats\n",
        "\n",
        "group1 = np.random.normal(10, 2, 30)\n",
        "group2 = np.random.normal(12, 2, 30)\n",
        "group3 = np.random.normal(14, 2, 30)\n",
        "\n",
        "f_stat, p_value = stats.f_oneway(group1, group2, group3)\n",
        "\n",
        "print(f\"F-statistic: {f_stat:.3f}\")\n",
        "print(f\"P-value: {p_value:.3f}\")\n",
        "\n",
        "alpha = 0.05\n",
        "if p_value < alpha:\n",
        "    print(\"Reject the null hypothesis: There are significant differences between the group means.\")\n",
        "else:\n",
        "    print(\"Fail to reject the null hypothesis: There are no significant differences between the group means.\")\n"
      ],
      "metadata": {
        "colab": {
          "base_uri": "https://localhost:8080/"
        },
        "id": "1oj_hTYXKIfP",
        "outputId": "2c8f5a1d-c5b2-4737-d286-9fcf9432d8de"
      },
      "execution_count": 36,
      "outputs": [
        {
          "output_type": "stream",
          "name": "stdout",
          "text": [
            "F-statistic: 16.087\n",
            "P-value: 0.000\n",
            "Reject the null hypothesis: There are significant differences between the group means.\n"
          ]
        }
      ]
    },
    {
      "cell_type": "markdown",
      "source": [
        "# Q18. Perform a one-way ANOVA test using Python to compare the means of different groups and plot the results?"
      ],
      "metadata": {
        "id": "_-EBSuSqKdVB"
      }
    },
    {
      "cell_type": "code",
      "source": [
        "from scipy.stats import f_oneway\n",
        "import matplotlib.pyplot as plt\n",
        "import numpy as np\n",
        "\n",
        "def one_way_anova(*groups, alpha=0.05):\n",
        "    f_stat, p_value = f_oneway(*groups)\n",
        "    if p_value < alpha:\n",
        "        result = \"Reject the null hypothesis: At least one group mean is significantly different.\"\n",
        "    else:\n",
        "        result = \"Fail to reject the null hypothesis: No significant difference between group means.\"\n",
        "    return f_stat, p_value, result\n",
        "\n",
        "def plot_group_data(groups, group_labels):\n",
        "    plt.figure(figsize=(10, 6))\n",
        "    for i, group in enumerate(groups):\n",
        "        plt.scatter(np.full(len(group), i), group, label=f\"Group {group_labels[i]}\", alpha=0.7)\n",
        "    plt.boxplot(groups, labels=group_labels, patch_artist=True, boxprops=dict(facecolor=\"lightblue\"))\n",
        "    plt.title(\"Comparison of Group Means\")\n",
        "    plt.xlabel(\"Groups\")\n",
        "    plt.ylabel(\"Values\")\n",
        "    plt.legend()\n",
        "    plt.grid(True)\n",
        "    plt.show()\n",
        "\n",
        "if __name__ == \"__main__\":\n",
        "    group1 = [23, 25, 28, 30, 32]\n",
        "    group2 = [35, 36, 38, 40, 42]\n",
        "    group3 = [18, 20, 22, 24, 26]\n",
        "\n",
        "    groups = [group1, group2, group3]\n",
        "    group_labels = [\"Group 1\", \"Group 2\", \"Group 3\"]\n",
        "\n",
        "    f_stat, p_value, result = one_way_anova(*groups, alpha=0.05)\n",
        "    print(f\"F-statistic: {f_stat:.4f}\")\n",
        "    print(f\"P-value: {p_value:.4f}\")\n",
        "    print(result)\n",
        "\n",
        "    plot_group_data(groups, group_labels)"
      ],
      "metadata": {
        "colab": {
          "base_uri": "https://localhost:8080/",
          "height": 673
        },
        "id": "2owpSTOHKn09",
        "outputId": "426c17fa-2a57-445f-f6f3-f3cdabc79f0f"
      },
      "execution_count": 38,
      "outputs": [
        {
          "output_type": "stream",
          "name": "stdout",
          "text": [
            "F-statistic: 32.2349\n",
            "P-value: 0.0000\n",
            "Reject the null hypothesis: At least one group mean is significantly different.\n"
          ]
        },
        {
          "output_type": "stream",
          "name": "stderr",
          "text": [
            "<ipython-input-38-e8d0312d853d>:17: MatplotlibDeprecationWarning: The 'labels' parameter of boxplot() has been renamed 'tick_labels' since Matplotlib 3.9; support for the old name will be dropped in 3.11.\n",
            "  plt.boxplot(groups, labels=group_labels, patch_artist=True, boxprops=dict(facecolor=\"lightblue\"))\n"
          ]
        },
        {
          "output_type": "display_data",
          "data": {
            "text/plain": [
              "<Figure size 1000x600 with 1 Axes>"
            ],
            "image/png": "[encoded data removed]"
          },
          "metadata": {}
        }
      ]
    },
    {
      "cell_type": "markdown",
      "source": [
        "# Q19. Write a Python function to check the assumptions (normality, independence, and equal variance) for ANOVA."
      ],
      "metadata": {
        "id": "5KL05e7xLInz"
      }
    },
    {
      "cell_type": "code",
      "source": [
        "import numpy as np\n",
        "import scipy.stats as stats\n",
        "\n",
        "def check_anova_assumptions(groups):\n",
        "    print(\"Normality Test (Shapiro-Wilk):\")\n",
        "    for i, group in enumerate(groups, 1):\n",
        "        stat, p_value = stats.shapiro(group)\n",
        "        print(f\"Group {i} - Statistic: {stat:.3f}, P-value: {p_value:.3f}\")\n",
        "        if p_value < 0.05:\n",
        "            print(\"  Reject null hypothesis: The data is not normally distributed.\")\n",
        "        else:\n",
        "            print(\"  Fail to reject null hypothesis: The data is normally distributed.\")\n",
        "\n",
        "    print(\"\\nHomogeneity of Variance Test (Levene's Test):\")\n",
        "    stat, p_value = stats.levene(*groups)\n",
        "    print(f\"Statistic: {stat:.3f}, P-value: {p_value:.3f}\")\n",
        "    if p_value < 0.05:\n",
        "        print(\"  Reject null hypothesis: The variances are not equal.\")\n",
        "    else:\n",
        "        print(\"  Fail to reject null hypothesis: The variances are equal.\")\n",
        "\n",
        "    print(\"\\nCheck for Independence: Assumed to be satisfied if data is collected independently.\")\n",
        "    print(\"  Visual inspection: Ensure no clear structure or patterns in data collection.\")\n",
        "\n",
        "group1 = np.random.normal(10, 2, 30)\n",
        "group2 = np.random.normal(12, 2, 30)\n",
        "group3 = np.random.normal(14, 2, 30)\n",
        "\n",
        "check_anova_assumptions([group1, group2, group3])\n"
      ],
      "metadata": {
        "colab": {
          "base_uri": "https://localhost:8080/"
        },
        "id": "E2KnQnqGLOH-",
        "outputId": "52cbd09f-14e5-4bc4-c2f9-dd2ff2778311"
      },
      "execution_count": 40,
      "outputs": [
        {
          "output_type": "stream",
          "name": "stdout",
          "text": [
            "Normality Test (Shapiro-Wilk):\n",
            "Group 1 - Statistic: 0.981, P-value: 0.857\n",
            "  Fail to reject null hypothesis: The data is normally distributed.\n",
            "Group 2 - Statistic: 0.973, P-value: 0.625\n",
            "  Fail to reject null hypothesis: The data is normally distributed.\n",
            "Group 3 - Statistic: 0.956, P-value: 0.237\n",
            "  Fail to reject null hypothesis: The data is normally distributed.\n",
            "\n",
            "Homogeneity of Variance Test (Levene's Test):\n",
            "Statistic: 0.596, P-value: 0.553\n",
            "  Fail to reject null hypothesis: The variances are equal.\n",
            "\n",
            "Check for Independence: Assumed to be satisfied if data is collected independently.\n",
            "  Visual inspection: Ensure no clear structure or patterns in data collection.\n"
          ]
        }
      ]
    },
    {
      "cell_type": "markdown",
      "source": [
        "# Q20. Perform a two-way ANOVA test using Python to study the interaction between two factors and visualize the results."
      ],
      "metadata": {
        "id": "-tcr-FvNLww_"
      }
    },
    {
      "cell_type": "code",
      "source": [
        "import pandas as pd\n",
        "import statsmodels.api as sm\n",
        "from statsmodels.formula.api import ols\n",
        "import matplotlib.pyplot as plt\n",
        "import seaborn as sns\n",
        "from statsmodels.graphics.factorplots import interaction_plot\n",
        "\n",
        "def two_way_anova(data, formula):\n",
        "    model = ols(formula, data=data).fit()\n",
        "    anova_table = sm.stats.anova_lm(model, typ=2)\n",
        "    return anova_table\n",
        "\n",
        "def plot_interaction(data, factor1, factor2, response):\n",
        "    fig = interaction_plot(\n",
        "        data[factor1],\n",
        "        data[factor2],\n",
        "        data[response],\n",
        "        colors=['red', 'blue'],\n",
        "        markers=['D', '^'],\n",
        "        ms=10\n",
        "    )\n",
        "    plt.title(\"Interaction Plot\")\n",
        "    plt.xlabel(factor1)\n",
        "    plt.ylabel(response)\n",
        "    plt.grid(True)\n",
        "    plt.show()\n",
        "\n",
        "if __name__ == \"__main__\":\n",
        "\n",
        "    data = pd.DataFrame({\n",
        "        'Factor1': ['A', 'A', 'B', 'B'] * 5,\n",
        "        'Factor2': ['X', 'Y', 'X', 'Y'] * 5,\n",
        "        'Response': [10, 15, 20, 25, 12, 16, 22, 27, 14, 18, 24, 30, 11, 17, 23, 29, 13, 19, 25, 31]\n",
        "    })\n",
        "\n",
        "    formula = 'Response ~ C(Factor1) + C(Factor2) + C(Factor1):C(Factor2)'\n",
        "    anova_results = two_way_anova(data, formula)\n",
        "    print(anova_results)\n",
        "\n",
        "    plot_interaction(data, 'Factor1', 'Factor2', 'Response')"
      ],
      "metadata": {
        "colab": {
          "base_uri": "https://localhost:8080/",
          "height": 561
        },
        "id": "yFZwFJ8vL5I0",
        "outputId": "b38fc1e7-843c-49d3-ff6d-ca8e122bf17c"
      },
      "execution_count": 42,
      "outputs": [
        {
          "output_type": "stream",
          "name": "stdout",
          "text": [
            "                       sum_sq    df           F        PR(>F)\n",
            "C(Factor1)             616.05   1.0  169.944828  6.141547e-10\n",
            "C(Factor2)             140.45   1.0   38.744828  1.215842e-05\n",
            "C(Factor1):C(Factor2)    0.45   1.0    0.124138  7.291873e-01\n",
            "Residual                58.00  16.0         NaN           NaN\n"
          ]
        },
        {
          "output_type": "display_data",
          "data": {
            "text/plain": [
              "<Figure size 640x480 with 1 Axes>"
            ],
            "image/png": "[encoded data removed]"
          },
          "metadata": {}
        }
      ]
    },
    {
      "cell_type": "markdown",
      "source": [
        "# Q21. Write a Python program to visualize the F-distribution and discuss its use in hypothesis testing?"
      ],
      "metadata": {
        "id": "2dxr4DdnMVVH"
      }
    },
    {
      "cell_type": "code",
      "source": [
        "import numpy as np\n",
        "import scipy.stats as stats\n",
        "import matplotlib.pyplot as plt\n",
        "\n",
        "x = np.linspace(0, 5, 1000)\n",
        "\n",
        "degrees_of_freedom = [(1, 10), (10, 1), (5, 5), (10, 50)]\n",
        "\n",
        "plt.figure(figsize=(10, 6))\n",
        "for d1, d2 in degrees_of_freedom:\n",
        "    pdf = stats.f.pdf(x, d1, d2)\n",
        "    plt.plot(x, pdf, label=f'd1={d1}, d2={d2}')\n",
        "\n",
        "plt.title('F-Distribution with Varying Degrees of Freedom')\n",
        "plt.xlabel('x')\n",
        "plt.ylabel('Probability Density')\n",
        "plt.legend()\n",
        "plt.grid(True)\n",
        "plt.show()"
      ],
      "metadata": {
        "colab": {
          "base_uri": "https://localhost:8080/",
          "height": 564
        },
        "id": "9dQiTpQzM5sO",
        "outputId": "2abed87c-6ae3-4a34-da44-85a52d37c1d4"
      },
      "execution_count": 46,
      "outputs": [
        {
          "output_type": "display_data",
          "data": {
            "text/plain": [
              "<Figure size 1000x600 with 1 Axes>"
            ],
            "image/png": "[encoded data removed]"
          },
          "metadata": {}
        }
      ]
    },
    {
      "cell_type": "markdown",
      "source": [
        "# Q22. Perform a one-way ANOVA test in Python and visualize the results with boxplots to compare group means?"
      ],
      "metadata": {
        "id": "rRM5XuxbNZ6P"
      }
    },
    {
      "cell_type": "code",
      "source": [
        "import numpy as np\n",
        "import pandas as pd\n",
        "import matplotlib.pyplot as plt\n",
        "import seaborn as sns\n",
        "from scipy.stats import f_oneway\n",
        "\n",
        "def one_way_anova(*groups, alpha=0.05):\n",
        "    f_stat, p_value = f_oneway(*groups)\n",
        "    if p_value < alpha:\n",
        "        result = \"Reject the null hypothesis: At least one group mean is significantly different.\"\n",
        "    else:\n",
        "        result = \"Fail to reject the null hypothesis: No significant difference between group means.\"\n",
        "    return f_stat, p_value, result\n",
        "\n",
        "def plot_boxplots(data, group_labels):\n",
        "    df = pd.DataFrame({label: group for label, group in zip(group_labels, data)})\n",
        "    df_melted = pd.melt(df, var_name=\"Groups\", value_name=\"Values\")\n",
        "\n",
        "    plt.figure(figsize=(10, 6))\n",
        "    sns.boxplot(x=\"Groups\", y=\"Values\", data=df_melted, palette=\"pastel\")\n",
        "    sns.stripplot(x=\"Groups\", y=\"Values\", data=df_melted, color=\"black\", size=4, jitter=True)\n",
        "    plt.title(\"Boxplot of Group Means\")\n",
        "    plt.xlabel(\"Groups\")\n",
        "    plt.ylabel(\"Values\")\n",
        "    plt.grid(True)\n",
        "    plt.show()\n",
        "\n",
        "if __name__ == \"__main__\":\n",
        "\n",
        "    group1 = [23, 25, 28, 30, 32]\n",
        "    group2 = [35, 36, 38, 40, 42]\n",
        "    group3 = [18, 20, 22, 24, 26]\n",
        "\n",
        "    f_stat, p_value, result = one_way_anova(group1, group2, group3, alpha=0.05)\n",
        "    print(f\"F-statistic: {f_stat:.4f}\")\n",
        "    print(f\"P-value: {p_value:.4f}\")\n",
        "    print(result)\n",
        "\n",
        "    group_labels = [\"Group 1\", \"Group 2\", \"Group 3\"]\n",
        "    plot_boxplots([group1, group2, group3], group_labels)"
      ],
      "metadata": {
        "colab": {
          "base_uri": "https://localhost:8080/",
          "height": 727
        },
        "id": "7v3iu5w9NtJj",
        "outputId": "d5ad20f0-43a2-472b-cc6a-ada58e0909e5"
      },
      "execution_count": 47,
      "outputs": [
        {
          "output_type": "stream",
          "name": "stdout",
          "text": [
            "F-statistic: 32.2349\n",
            "P-value: 0.0000\n",
            "Reject the null hypothesis: At least one group mean is significantly different.\n"
          ]
        },
        {
          "output_type": "stream",
          "name": "stderr",
          "text": [
            "<ipython-input-47-839bce9264ad>:22: FutureWarning: \n",
            "\n",
            "Passing `palette` without assigning `hue` is deprecated and will be removed in v0.14.0. Assign the `x` variable to `hue` and set `legend=False` for the same effect.\n",
            "\n",
            "  sns.boxplot(x=\"Groups\", y=\"Values\", data=df_melted, palette=\"pastel\")\n"
          ]
        },
        {
          "output_type": "display_data",
          "data": {
            "text/plain": [
              "<Figure size 1000x600 with 1 Axes>"
            ],
            "image/png": "[encoded data removed]"
          },
          "metadata": {}
        }
      ]
    },
    {
      "cell_type": "markdown",
      "source": [
        "# Q23. Simulate random data from a normal distribution, then perform hypothesis testing to evaluate the means."
      ],
      "metadata": {
        "id": "c5Kd6pabN3qp"
      }
    },
    {
      "cell_type": "code",
      "source": [
        "import numpy as np\n",
        "import matplotlib.pyplot as plt\n",
        "from scipy.stats import ttest_ind\n",
        "\n",
        "def simulate_data(mean1, std1, mean2, std2, size):\n",
        "    group1 = np.random.normal(mean1, std1, size)\n",
        "    group2 = np.random.normal(mean2, std2, size)\n",
        "    return group1, group2\n",
        "\n",
        "def hypothesis_testing(group1, group2, alpha=0.05):\n",
        "    t_stat, p_value = ttest_ind(group1, group2)\n",
        "    if p_value < alpha:\n",
        "        result = \"Reject the null hypothesis: The means are significantly different.\"\n",
        "    else:\n",
        "        result = \"Fail to reject the null hypothesis: No significant difference between the means.\"\n",
        "    return t_stat, p_value, result\n",
        "\n",
        "def plot_histograms(group1, group2, label1=\"Group 1\", label2=\"Group 2\"):\n",
        "    plt.figure(figsize=(10, 6))\n",
        "    plt.hist(group1, bins=20, alpha=0.6, label=label1, color=\"blue\", density=True)\n",
        "    plt.hist(group2, bins=20, alpha=0.6, label=label2, color=\"orange\", density=True)\n",
        "    plt.title(\"Histogram of Simulated Data\")\n",
        "    plt.xlabel(\"Values\")\n",
        "    plt.ylabel(\"Density\")\n",
        "    plt.legend()\n",
        "    plt.grid(True)\n",
        "    plt.show()\n",
        "\n",
        "if __name__ == \"__main__\":\n",
        "\n",
        "    mean1, std1 = 50, 10\n",
        "    mean2, std2 = 55, 10\n",
        "    sample_size = 100\n",
        "\n",
        "    group1, group2 = simulate_data(mean1, std1, mean2, std2, sample_size)\n",
        "\n",
        "    t_stat, p_value, result = hypothesis_testing(group1, group2, alpha=0.05)\n",
        "    print(f\"T-statistic: {t_stat:.4f}\")\n",
        "    print(f\"P-value: {p_value:.4f}\")\n",
        "    print(result)\n",
        "\n",
        "    plot_histograms(group1, group2, label1=\"Group 1 (Mean=50)\", label2=\"Group 2 (Mean=55)\")"
      ],
      "metadata": {
        "colab": {
          "base_uri": "https://localhost:8080/",
          "height": 618
        },
        "id": "EUkmIJPXOUPA",
        "outputId": "f68ef214-5c7d-4f85-a73b-dceca3ba1721"
      },
      "execution_count": 48,
      "outputs": [
        {
          "output_type": "stream",
          "name": "stdout",
          "text": [
            "T-statistic: -5.1528\n",
            "P-value: 0.0000\n",
            "Reject the null hypothesis: The means are significantly different.\n"
          ]
        },
        {
          "output_type": "display_data",
          "data": {
            "text/plain": [
              "<Figure size 1000x600 with 1 Axes>"
            ],
            "image/png": "[encoded data removed]"
          },
          "metadata": {}
        }
      ]
    },
    {
      "cell_type": "markdown",
      "source": [
        "# Q24.  Perform a hypothesis test for population variance using a Chi-square distribution and interpret the results?"
      ],
      "metadata": {
        "id": "GpNxS9cgPOlt"
      }
    },
    {
      "cell_type": "code",
      "source": [
        "import numpy as np\n",
        "from scipy.stats import chi2\n",
        "\n",
        "def variance_test(sample_variance, sample_size, hypothesized_variance, alpha=0.05, alternative=\"two-sided\"):\n",
        "    degrees_of_freedom = sample_size - 1\n",
        "    chi2_stat = degrees_of_freedom * sample_variance / hypothesized_variance\n",
        "\n",
        "    if alternative == \"two-sided\":\n",
        "        lower_critical = chi2.ppf(alpha / 2, degrees_of_freedom)\n",
        "        upper_critical = chi2.ppf(1 - alpha / 2, degrees_of_freedom)\n",
        "        p_value = 2 * min(chi2.cdf(chi2_stat, degrees_of_freedom), 1 - chi2.cdf(chi2_stat, degrees_of_freedom))\n",
        "    elif alternative == \"less\":\n",
        "        lower_critical = chi2.ppf(alpha, degrees_of_freedom)\n",
        "        upper_critical = None\n",
        "        p_value = chi2.cdf(chi2_stat, degrees_of_freedom)\n",
        "    elif alternative == \"greater\":\n",
        "        lower_critical = None\n",
        "        upper_critical = chi2.ppf(1 - alpha, degrees_of_freedom)\n",
        "        p_value = 1 - chi2.cdf(chi2_stat, degrees_of_freedom)\n",
        "    else:\n",
        "        raise ValueError(\"Invalid alternative hypothesis. Choose 'two-sided', 'less', or 'greater'.\")\n",
        "\n",
        "    if alternative == \"two-sided\":\n",
        "        if chi2_stat < lower_critical or chi2_stat > upper_critical:\n",
        "            result = \"Reject the null hypothesis: The population variance is significantly different.\"\n",
        "        else:\n",
        "            result = \"Fail to reject the null hypothesis: No significant difference in population variance.\"\n",
        "    elif alternative == \"less\":\n",
        "        if chi2_stat < lower_critical:\n",
        "            result = \"Reject the null hypothesis: The population variance is significantly less.\"\n",
        "        else:\n",
        "            result = \"Fail to reject the null hypothesis: No significant evidence of smaller variance.\"\n",
        "    elif alternative == \"greater\":\n",
        "        if chi2_stat > upper_critical:\n",
        "            result = \"Reject the null hypothesis: The population variance is significantly greater.\"\n",
        "        else:\n",
        "            result = \"Fail to reject the null hypothesis: No significant evidence of larger variance.\"\n",
        "\n",
        "    return chi2_stat, p_value, result\n",
        "\n",
        "if __name__ == \"__main__\":\n",
        "    sample_variance = 12.5\n",
        "    sample_size = 20\n",
        "    hypothesized_variance = 10\n",
        "    alpha = 0.05\n",
        "    alternative = \"two-sided\"\n",
        "\n",
        "    chi2_stat, p_value, result = variance_test(sample_variance, sample_size, hypothesized_variance, alpha, alternative)\n",
        "\n",
        "    print(f\"Chi-square Statistic: {chi2_stat:.4f}\")\n",
        "    print(f\"P-value: {p_value:.4f}\")\n",
        "    print(result)"
      ],
      "metadata": {
        "colab": {
          "base_uri": "https://localhost:8080/"
        },
        "id": "PegG2ZxBPawc",
        "outputId": "2cc963db-99a2-49e2-95ac-a191e2003022"
      },
      "execution_count": 50,
      "outputs": [
        {
          "output_type": "stream",
          "name": "stdout",
          "text": [
            "Chi-square Statistic: 23.7500\n",
            "P-value: 0.4118\n",
            "Fail to reject the null hypothesis: No significant difference in population variance.\n"
          ]
        }
      ]
    },
    {
      "cell_type": "markdown",
      "source": [
        "# Q25. Write a Python script to perform a Z-test for comparing proportions between two datasets or groups."
      ],
      "metadata": {
        "id": "OVb7ht_wQEMk"
      }
    },
    {
      "cell_type": "code",
      "source": [
        "from statsmodels.stats.proportion import proportions_ztest\n",
        "\n",
        "def z_test_proportions(count1, nobs1, count2, nobs2, alpha=0.05):\n",
        "    success_counts = [count1, count2]\n",
        "    total_counts = [nobs1, nobs2]\n",
        "    z_stat, p_value = proportions_ztest(success_counts, total_counts)\n",
        "    if p_value < alpha:\n",
        "        result = \"Reject the null hypothesis: The proportions are significantly different.\"\n",
        "    else:\n",
        "        result = \"Fail to reject the null hypothesis: No significant difference between the proportions.\"\n",
        "    return z_stat, p_value, result\n",
        "\n",
        "if __name__ == \"__main__\":\n",
        "    count1, nobs1 = 45, 100\n",
        "    count2, nobs2 = 55, 100\n",
        "    alpha = 0.05\n",
        "\n",
        "    z_stat, p_value, result = z_test_proportions(count1, nobs1, count2, nobs2, alpha)\n",
        "    print(f\"Z-statistic: {z_stat:.4f}\")\n",
        "    print(f\"P-value: {p_value:.4f}\")\n",
        "    print(result)"
      ],
      "metadata": {
        "colab": {
          "base_uri": "https://localhost:8080/"
        },
        "id": "CegJXllnQKw6",
        "outputId": "87fc2d6e-ee14-476c-bbed-4356a74814c2"
      },
      "execution_count": 52,
      "outputs": [
        {
          "output_type": "stream",
          "name": "stdout",
          "text": [
            "Z-statistic: -1.4142\n",
            "P-value: 0.1573\n",
            "Fail to reject the null hypothesis: No significant difference between the proportions.\n"
          ]
        }
      ]
    },
    {
      "cell_type": "markdown",
      "source": [
        "# Q26. Implement an F-test for comparing the variances of two datasets, then interpret and visualize the results"
      ],
      "metadata": {
        "id": "twLqpXdYSRjW"
      }
    },
    {
      "cell_type": "code",
      "source": [
        "import numpy as np\n",
        "import matplotlib.pyplot as plt\n",
        "from scipy.stats import f\n",
        "\n",
        "def f_test_variance(data1, data2, alpha=0.05):\n",
        "    var1, var2 = np.var(data1, ddof=1), np.var(data2, ddof=1)\n",
        "    df1, df2 = len(data1) - 1, len(data2) - 1\n",
        "    f_stat = var1 / var2 if var1 > var2 else var2 / var1\n",
        "    p_value = 2 * min(f.cdf(f_stat, df1, df2), 1 - f.cdf(f_stat, df1, df2))\n",
        "    if p_value < alpha:\n",
        "        result = \"Reject the null hypothesis: The variances are significantly different.\"\n",
        "    else:\n",
        "        result = \"Fail to reject the null hypothesis: No significant difference between the variances.\"\n",
        "    return f_stat, p_value, result\n",
        "\n",
        "def plot_variances(data1, data2, label1=\"Group 1\", label2=\"Group 2\"):\n",
        "    plt.figure(figsize=(8, 6))\n",
        "    plt.boxplot([data1, data2], labels=[label1, label2], patch_artist=True, boxprops=dict(facecolor=\"lightblue\"))\n",
        "    plt.title(\"Comparison of Variances\")\n",
        "    plt.ylabel(\"Values\")\n",
        "    plt.grid(True)\n",
        "    plt.show()\n",
        "\n",
        "if __name__ == \"__main__\":\n",
        "    # Example datasets\n",
        "    np.random.seed(42)\n",
        "    data1 = np.random.normal(loc=50, scale=10, size=100)\n",
        "    data2 = np.random.normal(loc=50, scale=15, size=100)\n",
        "\n",
        "    # Perform F-test\n",
        "    f_stat, p_value, result = f_test_variance(data1, data2, alpha=0.05)\n",
        "    print(f\"F-statistic: {f_stat:.4f}\")\n",
        "    print(f\"P-value: {p_value:.4f}\")\n",
        "    print(result)\n",
        "\n",
        "    # Visualize the data\n",
        "    plot_variances(data1, data2, label1=\"Group 1\", label2=\"Group 2\")"
      ],
      "metadata": {
        "colab": {
          "base_uri": "https://localhost:8080/",
          "height": 654
        },
        "id": "2bmq2a5QSeUI",
        "outputId": "1a36ffd7-af4f-48e0-d3ed-29a1c8f11861"
      },
      "execution_count": 56,
      "outputs": [
        {
          "output_type": "stream",
          "name": "stdout",
          "text": [
            "F-statistic: 2.4811\n",
            "P-value: 0.0000\n",
            "Reject the null hypothesis: The variances are significantly different.\n"
          ]
        },
        {
          "output_type": "stream",
          "name": "stderr",
          "text": [
            "<ipython-input-56-5ce2cad75d0b>:18: MatplotlibDeprecationWarning: The 'labels' parameter of boxplot() has been renamed 'tick_labels' since Matplotlib 3.9; support for the old name will be dropped in 3.11.\n",
            "  plt.boxplot([data1, data2], labels=[label1, label2], patch_artist=True, boxprops=dict(facecolor=\"lightblue\"))\n"
          ]
        },
        {
          "output_type": "display_data",
          "data": {
            "text/plain": [
              "<Figure size 800x600 with 1 Axes>"
            ],
            "image/png": "[encoded data removed]"
          },
          "metadata": {}
        }
      ]
    },
    {
      "cell_type": "markdown",
      "source": [
        "# Q27.Perform a Chi-square test for goodness of fit with simulated data and analyze the results."
      ],
      "metadata": {
        "id": "CFeDGj42TJNf"
      }
    },
    {
      "cell_type": "code",
      "source": [
        "import numpy as np\n",
        "from scipy.stats import chisquare\n",
        "\n",
        "def simulate_data(expected_probs, sample_size):\n",
        "    return np.random.multinomial(sample_size, expected_probs)\n",
        "\n",
        "def chi_square_goodness_of_fit(observed, expected_probs, alpha=0.05):\n",
        "    expected = np.array(expected_probs) * sum(observed)\n",
        "    chi2_stat, p_value = chisquare(observed, f_exp=expected)\n",
        "    if p_value < alpha:\n",
        "        result = \"Reject the null hypothesis: The observed data does not fit the expected distribution.\"\n",
        "    else:\n",
        "        result = \"Fail to reject the null hypothesis: The observed data fits the expected distribution.\"\n",
        "    return chi2_stat, p_value, result\n",
        "\n",
        "if __name__ == \"__main__\":\n",
        "\n",
        "    expected_probs = [0.25, 0.25, 0.25, 0.25]\n",
        "    sample_size = 100\n",
        "    observed = simulate_data(expected_probs, sample_size)\n",
        "\n",
        "    chi2_stat, p_value, result = chi_square_goodness_of_fit(observed, expected_probs, alpha=0.05)\n",
        "    print(f\"Observed Frequencies: {observed}\")\n",
        "    print(f\"Expected Frequencies: {[round(x * sample_size, 2) for x in expected_probs]}\")\n",
        "    print(f\"Chi-square Statistic: {chi2_stat:.4f}\")\n",
        "    print(f\"P-value: {p_value:.4f}\")\n",
        "    print(result)"
      ],
      "metadata": {
        "colab": {
          "base_uri": "https://localhost:8080/"
        },
        "id": "an8IcETYTt-0",
        "outputId": "6b77ce1d-e8e3-4c4d-fdd9-e3a0141ad2bb"
      },
      "execution_count": 59,
      "outputs": [
        {
          "output_type": "stream",
          "name": "stdout",
          "text": [
            "Observed Frequencies: [22 22 31 25]\n",
            "Expected Frequencies: [25.0, 25.0, 25.0, 25.0]\n",
            "Chi-square Statistic: 2.1600\n",
            "P-value: 0.5399\n",
            "Fail to reject the null hypothesis: The observed data fits the expected distribution.\n"
          ]
        }
      ]
    }
  ]
}