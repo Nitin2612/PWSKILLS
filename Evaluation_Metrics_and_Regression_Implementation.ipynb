{
  "nbformat": 4,
  "nbformat_minor": 0,
  "metadata": {
    "colab": {
      "provenance": []
    },
    "kernelspec": {
      "name": "python3",
      "display_name": "Python 3"
    },
    "language_info": {
      "name": "python"
    }
  },
  "cells": [
    {
      "cell_type": "markdown",
      "source": [
        "# *Evaluation Metrics and Regression Implementation*\n",
        "\n",
        "---"
      ],
      "metadata": {
        "id": "qs0cRRcNT4c-"
      }
    },
    {
      "cell_type": "markdown",
      "source": [
        "# Theoretical\n",
        "\n",
        "---\n",
        "\n"
      ],
      "metadata": {
        "id": "aigwce7ZUKTc"
      }
    },
    {
      "cell_type": "markdown",
      "source": [
        "# Q1. What does R-squared represent in a regression model?"
      ],
      "metadata": {
        "id": "HouTC9YzUSqC"
      }
    },
    {
      "cell_type": "markdown",
      "source": [
        "# Understanding R-Squared in a Regression Model\n",
        "\n",
        "## What is R-Squared?\n",
        "- R-squared (R²) is a statistical measure that represents the proportion of the variance in the dependent variable that is explained by the independent variables in a regression model.\n",
        "- It indicates the goodness of fit, helping to assess how well the model explains the data.\n",
        "\n",
        "## Key Characteristics of R-Squared\n",
        "- **Value Range:** R² ranges from **0** to **1**.\n",
        "  - **R² = 0**: The model explains none of the variability in the target variable.\n",
        "  - **R² = 1**: The model explains all of the variability in the target variable.\n",
        "- Higher R² values generally indicate a better fit, but this is not always ideal if the model is overfitting.\n",
        "\n",
        "## Formula for R-Squared\n",
        "\\[\n",
        "R^2 = 1 - \\frac{SS_{res}}{SS_{tot}}\n",
        "\\]\n",
        "\n",
        "Where:\n",
        "- **\\(SS_{res}\\)** = Sum of Squares of Residuals (Unexplained variance)\n",
        "- **\\(SS_{tot}\\)** = Total Sum of Squares (Total variance)\n",
        "\n",
        "## Interpreting R-Squared\n",
        "- **R² close to 1:** Indicates a strong correlation between independent and dependent variables.\n",
        "- **R² close to 0:** Suggests the model does not explain much of the variability in the data.\n",
        "- **Negative R²:** Possible in models without an intercept, indicating the model fits worse than a horizontal line.\n",
        "\n",
        "## Example\n",
        "```python\n",
        "import numpy as np\n",
        "from sklearn.linear_model import LinearRegression\n",
        "from sklearn.metrics import r2_score\n",
        "\n",
        "# Sample data\n",
        "X = np.array([[1], [2], [3], [4], [5]])\n",
        "y = np.array([2, 4, 5, 4, 5])\n",
        "\n",
        "# Model creation\n",
        "model = LinearRegression()\n",
        "model.fit(X, y)\n",
        "\n",
        "# Predictions\n",
        "y_pred = model.predict(X)\n",
        "\n",
        "# Calculate R-squared\n",
        "r2 = r2_score(y, y_pred)\n",
        "\n",
        "print(f\"R-squared value: {r2:.2f}\")\n"
      ],
      "metadata": {
        "id": "1JG-LfV2VlEM"
      }
    },
    {
      "cell_type": "markdown",
      "source": [
        "# Q2. What are the assumptions of linear regression?"
      ],
      "metadata": {
        "id": "rnQOpqUkWJiz"
      }
    },
    {
      "cell_type": "markdown",
      "source": [
        "# Assumptions of Linear Regression\n",
        "\n",
        "Linear regression relies on several key assumptions to ensure accurate and reliable results. Violating these assumptions can lead to biased or misleading outcomes.\n",
        "\n",
        "## 1. **Linearity**\n",
        "- The relationship between the independent variables (X) and the dependent variable (Y) must be linear.\n",
        "- This can be checked using scatter plots or residual plots.\n",
        "\n",
        "## 2. **Independence (No Autocorrelation)**\n",
        "- Observations should be independent of each other.\n",
        "- In time-series data, autocorrelation may violate this assumption, which can be checked using the **Durbin-Watson test**.\n",
        "\n",
        "## 3. **Homoscedasticity**\n",
        "- The variance of errors (residuals) should be constant across all levels of the independent variable(s).\n",
        "- Heteroscedasticity can be identified through residual plots and corrected using log transformations or weighted regression.\n",
        "\n",
        "## 4. **Normality of Residuals**\n",
        "- The residuals should follow a normal distribution.\n",
        "- This can be checked using:\n",
        "  - **Q-Q plots**\n",
        "  - **Histogram of residuals**\n",
        "  - **Shapiro-Wilk test**, **Kolmogorov-Smirnov test**, etc.\n",
        "\n",
        "## 5. **No Multicollinearity**\n",
        "- Independent variables should not be highly correlated with each other.\n",
        "- Multicollinearity can be detected using:\n",
        "  - **Variance Inflation Factor (VIF)** (Values above 10 indicate severe multicollinearity).\n",
        "  - **Correlation matrix**.\n",
        "\n",
        "## 6. **No Endogeneity**\n",
        "- Independent variables should not be correlated with the error terms.\n",
        "- Endogeneity can lead to biased estimates, often addressed using **instrumental variables**.\n",
        "\n",
        "## 7. **Correct Model Specification**\n",
        "- The model should include all relevant variables and avoid unnecessary complexity.\n",
        "- Mis-specification may result in omitted variable bias or overfitting.\n",
        "\n",
        "### Conclusion\n",
        "- Ensuring these assumptions are met is crucial for deriving valid insights from a linear regression model.\n",
        "- Diagnostic tests and visualizations are essential to identify and address any violations.\n"
      ],
      "metadata": {
        "id": "baSqr8DdWOcn"
      }
    },
    {
      "cell_type": "markdown",
      "source": [
        "# Q3. What is the difference between R-squared and Adjusted R-squared?"
      ],
      "metadata": {
        "id": "tZ58c6wNWYqj"
      }
    },
    {
      "cell_type": "markdown",
      "source": [
        "# Difference Between R-Squared and Adjusted R-Squared\n",
        "\n",
        "## 1. **R-Squared (R²)**\n",
        "- **Definition:** R² measures the proportion of variance in the dependent variable explained by the independent variables.\n",
        "- **Value Range:** R² lies between **0** and **1**.\n",
        "- **Limitation:** Adding more independent variables **always increases** R², even if the new variables have no real predictive power. This can lead to overfitting.\n",
        "\n",
        "### Formula for R²\n",
        "\\[\n",
        "R^2 = 1 - \\frac{SS_{res}}{SS_{tot}}\n",
        "\\]\n",
        "\n",
        "---\n",
        "\n",
        "## 2. **Adjusted R-Squared**\n",
        "- **Definition:** Adjusted R² modifies R² by accounting for the number of predictors in the model. It penalizes excessive predictors, making it a more reliable indicator of model performance.\n",
        "- **Value Range:** Adjusted R² is **always less than or equal to R²**.\n",
        "- **Advantage:** Unlike R², adjusted R² **increases only if the new variable improves the model's explanatory power**.\n",
        "\n",
        "### Formula for Adjusted R²\n",
        "\\[\n",
        "\\text{Adjusted } R^2 = 1 - \\left( \\frac{(1 - R^2) \\times (n - 1)}{n - k - 1} \\right)\n",
        "\\]\n",
        "\n",
        "Where:\n",
        "- **\\(n\\)** = Number of observations  \n",
        "- **\\(k\\)** = Number of independent variables  \n",
        "- **\\(R^2\\)** = R-squared value  \n",
        "\n",
        "---\n",
        "\n",
        "## 3. **Key Differences**\n",
        "\n",
        "| Aspect               | R-Squared (R²) | Adjusted R-Squared |\n",
        "|----------------------|-----------------|---------------------|\n",
        "| **Purpose**            | Measures how well the model fits the data. | Adjusts R² to account for the number of predictors. |\n",
        "| **Effect of Adding Variables** | Always increases or stays the same. | Increases only if the new variable improves the model. |\n",
        "| **Risk of Overfitting**  | Higher risk as irrelevant variables can inflate R². | Lower risk due to penalty for unnecessary predictors. |\n",
        "| **Best Use Case**        | Useful for basic model evaluation. | Preferred when comparing models with different numbers of predictors. |\n",
        "\n",
        "---\n",
        "\n",
        "## 4. **Example**\n",
        "```python\n",
        "import numpy as np\n",
        "import statsmodels.api as sm\n",
        "\n",
        "# Sample data\n",
        "X = np.random.rand(100, 3)  # 3 predictors\n",
        "y = 3*X[:, 0] + 2*X[:, 1] + np.random.rand(100)  # Target with some noise\n",
        "\n",
        "# Add constant for intercept\n",
        "X = sm.add_constant(X)\n",
        "\n",
        "# Model creation\n",
        "model = sm.OLS(y, X).fit()\n",
        "\n",
        "# R-squared and Adjusted R-squared\n",
        "print(f\"R-squared: {model.rsquared:.4f}\")\n",
        "print(f\"Adjusted R-squared: {model.rsquared_adj:.4f}\")\n"
      ],
      "metadata": {
        "id": "iMuHe2XXWePA"
      }
    },
    {
      "cell_type": "markdown",
      "source": [
        "# Q4. Why do we use Mean Squared Error (MSE):"
      ],
      "metadata": {
        "id": "GnpcVPzTWo_F"
      }
    },
    {
      "cell_type": "markdown",
      "source": [
        "## What is Mean Squared Error (MSE)?\n",
        "- **MSE** is a common loss function used in regression models to measure the average squared difference between the actual and predicted values.\n",
        "- It is calculated as:\n",
        "\n",
        "\\[\n",
        "MSE = \\frac{1}{n} \\sum_{i=1}^{n} (y_i - \\hat{y}_i)^2\n",
        "\\]\n",
        "\n",
        "Where:\n",
        "- **\\(y_i\\)** = Actual value  \n",
        "- **\\(\\hat{y}_i\\)** = Predicted value  \n",
        "- **n** = Number of observations  \n",
        "\n",
        "---\n",
        "\n",
        "## Why Do We Use MSE?\n",
        "\n",
        "### 1. **Penalizes Large Errors Heavily**\n",
        "- MSE squares the differences between actual and predicted values, giving **greater weight** to large errors.\n",
        "- This property makes it highly sensitive to significant deviations, ensuring the model minimizes substantial prediction mistakes.\n",
        "\n",
        "### 2. **Differentiable Function**\n",
        "- The squared term makes MSE smooth and differentiable, which is crucial for gradient-based optimization algorithms like **Gradient Descent** to efficiently minimize the error.\n",
        "\n",
        "### 3. **Mathematical Simplicity**\n",
        "- MSE has a simple mathematical structure that aligns well with statistical and machine learning models.\n",
        "\n",
        "### 4. **Focus on Variance**\n",
        "- Since MSE computes the average of squared differences, it inherently measures the variance of prediction errors, providing a clear indicator of model performance.\n",
        "\n",
        "### 5. **Widely Used in Regression**\n",
        "- MSE is the standard evaluation metric for regression models, making it easier to compare models and interpret results.\n",
        "\n",
        "---\n",
        "\n",
        "## Limitations of MSE\n",
        "- **Sensitive to Outliers:** Large errors are squared, which can disproportionately impact MSE.\n",
        "- **Doesn’t Indicate Error Direction:** MSE only considers magnitude, not whether predictions are over or under the actual values.\n",
        "\n",
        "---\n",
        "\n",
        "## When to Use MSE\n",
        "- Ideal when **large errors need to be penalized** more heavily.\n",
        "- Commonly used in **linear regression**, **neural networks**, and **forecasting models**.\n",
        "\n",
        "---\n",
        "\n",
        "### Conclusion\n",
        "- MSE is a powerful and effective metric for assessing model performance, particularly when minimizing large prediction errors is a priority. However, in the presence of outliers, alternative metrics like **Mean Absolute Error (MAE)** or **Huber Loss** may offer better robustness.\n"
      ],
      "metadata": {
        "id": "19B1HPqtW5AU"
      }
    },
    {
      "cell_type": "markdown",
      "source": [
        "# Q5. What does an Adjusted R-squared value of 0.85 indicate?"
      ],
      "metadata": {
        "id": "6eC9DtakXQtA"
      }
    },
    {
      "cell_type": "markdown",
      "source": [
        "# Interpretation of Adjusted R-Squared Value of 0.85\n",
        "\n",
        "## What is Adjusted R-Squared?\n",
        "- **Adjusted R-squared** is a modified version of **R-squared** that adjusts for the number of predictors in the model.\n",
        "- Unlike R², it **penalizes the addition of irrelevant variables**, making it a better measure of model performance for multiple regression.\n",
        "\n",
        "\\[\n",
        "\\text{Adjusted } R^2 = 1 - \\left(\\frac{(1 - R^2) \\times (n - 1)}{n - k - 1} \\right)\n",
        "\\]\n",
        "\n",
        "Where:\n",
        "- **R²** = Original R-squared value  \n",
        "- **n** = Number of data points  \n",
        "- **k** = Number of independent variables  \n",
        "\n",
        "---\n",
        "\n",
        "## What Does an Adjusted R-Squared of 0.85 Mean?\n",
        "An **Adjusted R² = 0.85** indicates that:\n",
        "\n",
        "- **85% of the variation** in the dependent variable is explained by the independent variables in the model.\n",
        "- The remaining **15% of the variation** is unexplained, likely due to factors not included in the model.\n",
        "- Since Adjusted R² penalizes unnecessary variables, this high value suggests that the model is likely well-fitted without excessive complexity.\n",
        "\n",
        "---\n",
        "\n",
        "## Key Insights\n",
        "- **High Adjusted R² (close to 1):** Strong model fit with significant explanatory power.\n",
        "- **Moderate Adjusted R² (0.5 - 0.7):** Acceptable fit but may require improvements.\n",
        "- **Low Adjusted R² (close to 0):** Poor model fit, indicating weak predictive power.\n",
        "\n",
        "---\n",
        "\n",
        "## Example Scenario\n",
        "Suppose you're building a regression model to predict **house prices** based on features like:\n",
        "- Square footage\n",
        "- Number of bedrooms\n",
        "- Age of the property\n",
        "- Location index\n",
        "\n",
        "An Adjusted R² of **0.85** suggests that these factors collectively explain **85%** of the variability in house prices, making it a strong predictive model.\n",
        "\n",
        "---\n",
        "\n",
        "### Conclusion\n",
        "An **Adjusted R² of 0.85** reflects a well-fitted model with high explanatory power. However, it’s essential to combine this insight with **residual analysis** and **domain knowledge** to confirm model reliability.\n"
      ],
      "metadata": {
        "id": "1uBHx9ZhXWoV"
      }
    },
    {
      "cell_type": "markdown",
      "source": [
        "# Q6. How do we check for normality of residuals in linear regression?"
      ],
      "metadata": {
        "id": "vgYIw3KMXhO8"
      }
    },
    {
      "cell_type": "markdown",
      "source": [
        "## Why Check for Normality?\n",
        "- Ensures valid statistical inferences.  \n",
        "- Essential for accurate hypothesis testing and p-value interpretation.  \n",
        "- Violations can lead to biased regression results.  \n",
        "\n",
        "---\n",
        "\n",
        "## Methods to Check for Normality\n",
        "\n",
        "### 1. Histogram of Residuals\n",
        "- Visualizes the distribution of residuals.  \n",
        "- A **bell-shaped curve** suggests normality.  \n",
        "- Easy to interpret but may miss subtle deviations.  \n",
        "\n",
        "**Code Example:**\n",
        "```python\n",
        "import numpy as np\n",
        "import matplotlib.pyplot as plt\n",
        "import seaborn as sns\n",
        "from sklearn.linear_model import LinearRegression\n",
        "\n",
        "# Sample data\n",
        "X = np.array([[1], [2], [3], [4], [5]])\n",
        "y = np.array([2, 4, 5, 4, 5])\n",
        "\n",
        "# Fit regression model\n",
        "model = LinearRegression().fit(X, y)\n",
        "residuals = y - model.predict(X)\n",
        "\n",
        "# Histogram plot\n",
        "plt.figure(figsize=(6, 4))\n",
        "sns.histplot(residuals, kde=True)\n",
        "plt.title('Histogram of Residuals')\n",
        "plt.show()\n",
        "\n"
      ],
      "metadata": {
        "id": "-CDrBRgbXoBc"
      }
    },
    {
      "cell_type": "markdown",
      "source": [
        "## 2. Q-Q (Quantile-Quantile) Plot\n",
        "- Plots residual quantiles against expected quantiles of a normal distribution.  \n",
        "- Points should align closely along the **diagonal line** for normality.  \n",
        "- Ideal for detecting deviations in the data's tails.  \n",
        "\n",
        "**Code Example:**  \n",
        "```python\n",
        "import scipy.stats as stats\n",
        "import matplotlib.pyplot as plt  \n",
        "\n",
        "# Q-Q Plot\n",
        "plt.figure(figsize=(6, 4))\n",
        "stats.probplot(residuals, dist=\"norm\", plot=plt)\n",
        "plt.title('Q-Q Plot')\n",
        "plt.show()\n"
      ],
      "metadata": {
        "id": "76Te7hXWZRil"
      }
    },
    {
      "cell_type": "markdown",
      "source": [
        "## 3. Shapiro-Wilk Test  \n",
        "- Formal test for normality.  \n",
        "- **p-value > 0.05** → Residuals are likely normal.  \n",
        "- **p-value < 0.05** → Residuals deviate significantly from normality.  \n",
        "\n",
        "**Code Example:**  \n",
        "```python\n",
        "from scipy.stats import shapiro    \n",
        "stat, p_value = shapiro(residuals)  \n",
        "print(f\"Shapiro-Wilk Test: p-value = {p_value:.3f}\")  \n"
      ],
      "metadata": {
        "id": "8I-g0dfFZS-R"
      }
    },
    {
      "cell_type": "markdown",
      "source": [
        "## 4. Kolmogorov-Smirnov Test  \n",
        "- Compares residual distribution with a normal distribution.  \n",
        "- **p-value > 0.05** → Residuals are likely normal.  \n",
        "- **p-value < 0.05** → Residuals deviate from normality.  \n",
        "\n",
        "**Code Example:**  \n",
        "```python\n",
        "from scipy.stats import kstest    \n",
        "\n",
        "stat, p_value = kstest(residuals, 'norm')   \n",
        "print(f\"Kolmogorov-Smirnov Test: p-value = {p_value:.3f}\")  \n",
        "\n"
      ],
      "metadata": {
        "id": "9N5gOGtGZZG9"
      }
    },
    {
      "cell_type": "markdown",
      "source": [
        "## 5. Anderson-Darling Test  \n",
        "- Tests if residuals follow a normal distribution.  \n",
        "- Provides critical values for various significance levels.  \n",
        "- Highly sensitive to deviations in the tails.  \n",
        "\n",
        "**Code Example:**  \n",
        "```python\n",
        "from scipy.stats import anderson    \n",
        "\n",
        "result = anderson(residuals, dist='norm')   \n",
        "print(\"Anderson-Darling Test Results:\")   \n",
        "print(f\"Statistic: {result.statistic}\")   \n",
        "print(f\"Critical Values: {result.critical_values}\")   \n"
      ],
      "metadata": {
        "id": "QzMb4ZHKZirR"
      }
    },
    {
      "cell_type": "markdown",
      "source": [
        "# Q7. What is multicollinearity, and how does it impact regression?"
      ],
      "metadata": {
        "id": "r8dK_MNY0l_t"
      }
    },
    {
      "cell_type": "markdown",
      "source": [
        "# Multicollinearity in Regression  \n",
        "\n",
        "## What is Multicollinearity?  \n",
        "- Multicollinearity occurs when two or more independent variables in a regression model are **highly correlated** with each other.  \n",
        "- This correlation makes it difficult to isolate the effect of each independent variable on the dependent variable.  \n",
        "\n",
        "---\n",
        "\n",
        "## Types of Multicollinearity  \n",
        "- **Perfect Multicollinearity:** When one independent variable is an exact linear combination of another.  \n",
        "- **Imperfect Multicollinearity:** When two or more independent variables are highly, but not perfectly, correlated.  \n",
        "\n",
        "---\n",
        "\n",
        "## Impact of Multicollinearity on Regression  \n",
        "- **Unstable Coefficients:** Regression coefficients may change drastically with minor data changes.  \n",
        "- **Inflated Standard Errors:** Larger standard errors reduce the precision of coefficient estimates.  \n",
        "- **Misleading p-values:** Important variables may appear insignificant despite having a true impact.  \n",
        "- **Reduced Model Interpretability:** It becomes difficult to identify which variable is truly influencing the outcome.  \n",
        "\n",
        "---\n",
        "\n",
        "## Detecting Multicollinearity  \n",
        "- **Variance Inflation Factor (VIF):**  \n",
        "  - VIF > 10 → High multicollinearity  \n",
        "  - VIF between 5-10 → Moderate multicollinearity  \n",
        "  - VIF < 5 → Low multicollinearity  \n",
        "- **Correlation Matrix:** Identifies highly correlated predictor variables.  \n",
        "- **Condition Number:** Large condition numbers (above 30) suggest multicollinearity.  \n",
        "\n",
        "---\n",
        "\n",
        "## Example Code: Detecting Multicollinearity Using VIF  \n",
        "```python\n",
        "import pandas as pd\n",
        "import numpy as np\n",
        "from statsmodels.stats.outliers_influence import variance_inflation_factor\n",
        "from statsmodels.api import add_constant\n",
        "\n",
        "# Sample Data\n",
        "data = pd.DataFrame({\n",
        "    'X1': [1, 2, 3, 4, 5],\n",
        "    'X2': [2, 4, 6, 8, 10],  # Perfectly correlated with X1\n",
        "    'X3': [5, 3, 6, 2, 8]   # Random variable\n",
        "})\n",
        "\n",
        "# Adding constant for VIF calculation\n",
        "X = add_constant(data)\n",
        "\n",
        "# Calculating VIF\n",
        "vif_data = pd.DataFrame()\n",
        "vif_data['Variable'] = X.columns\n",
        "vif_data['VIF'] = [variance_inflation_factor(X.values, i) for i in range(X.shape[1])]\n",
        "\n",
        "print(vif_data)\n"
      ],
      "metadata": {
        "id": "48LqDtfs0wTF"
      }
    },
    {
      "cell_type": "markdown",
      "source": [
        "# Q8. What is Mean Absolute Error (MAE)?"
      ],
      "metadata": {
        "id": "AY_ViUqS1B23"
      }
    },
    {
      "cell_type": "markdown",
      "source": [
        "# Mean Absolute Error (MAE)  \n",
        "\n",
        "## What is MAE?  \n",
        "- **Mean Absolute Error (MAE)** is a metric used to measure the average magnitude of errors in a regression model.  \n",
        "- It calculates the average absolute difference between the predicted values and the actual values.  \n",
        "- MAE gives an intuitive sense of model accuracy by expressing errors in the same unit as the target variable.  \n",
        "\n",
        "---\n",
        "\n",
        "## MAE Formula  \n",
        "\\[\n",
        "MAE = \\frac{1}{n} \\sum_{i=1}^{n} |y_i - \\hat{y}_i|\n",
        "\\]  \n",
        "Where:  \n",
        "- \\(n\\) = Total number of observations  \n",
        "- \\(y_i\\) = Actual value  \n",
        "- \\(\\hat{y}_i\\) = Predicted value  \n",
        "\n",
        "---\n",
        "\n",
        "## Key Characteristics of MAE  \n",
        "- **Range:** MAE is always positive. A lower MAE indicates better model performance.  \n",
        "- **Scale-Dependent:** MAE is sensitive to the scale of data (values with larger magnitudes may lead to larger MAE).  \n",
        "- **No Squaring of Errors:** Unlike Mean Squared Error (MSE), MAE does not amplify large errors, making it **robust to outliers**.  \n",
        "\n",
        "---\n",
        "\n",
        "## Example Code: Calculating MAE in Python  \n",
        "```python\n",
        "from sklearn.metrics import mean_absolute_error\n",
        "\n",
        "# Actual vs Predicted values\n",
        "y_true = [3, -0.5, 2, 7]\n",
        "y_pred = [2.5, 0.0, 2, 8]\n",
        "\n",
        "# Calculate MAE\n",
        "mae = mean_absolute_error(y_true, y_pred)\n",
        "print(f\"Mean Absolute Error (MAE): {mae:.2f}\")\n"
      ],
      "metadata": {
        "id": "8WwUQM4H1J0s"
      }
    },
    {
      "cell_type": "markdown",
      "source": [
        "# Q9. What are the benefits of using an ML pipeline?"
      ],
      "metadata": {
        "id": "zBTRyeCd1UnT"
      }
    },
    {
      "cell_type": "markdown",
      "source": [
        "# Benefits of Using an ML Pipeline  \n",
        "\n",
        "## What is an ML Pipeline?  \n",
        "- An **ML pipeline** is a structured sequence of data preprocessing, feature engineering, model training, and evaluation steps that are automated and connected in a workflow.  \n",
        "- It helps streamline the entire machine learning process, from raw data to model deployment.  \n",
        "\n",
        "---\n",
        "\n",
        "## Key Benefits of Using an ML Pipeline  \n",
        "\n",
        "### 1. **Automation and Efficiency**  \n",
        "- Automates repetitive tasks like data cleaning, feature scaling, and model evaluation.  \n",
        "- Reduces manual intervention, allowing data scientists to focus on model improvement.  \n",
        "\n",
        "### 2. **Reproducibility**  \n",
        "- Ensures consistent results by following the same steps for each experiment.  \n",
        "- Facilitates collaboration across teams by standardizing processes.  \n",
        "\n",
        "### 3. **Improved Model Performance**  \n",
        "- Enables systematic tuning of hyperparameters, feature selection, and cross-validation.  \n",
        "- Helps identify the best-performing model efficiently.  \n",
        "\n",
        "### 4. **Modularity and Flexibility**  \n",
        "- Each step in the pipeline (e.g., data cleaning, model training) is modular.  \n",
        "- Individual components can be modified or improved without rebuilding the entire pipeline.  \n",
        "\n",
        "### 5. **Scalability**  \n",
        "- Pipelines allow easy scaling to handle large datasets using distributed computing frameworks like **Spark** or **Dask**.  \n",
        "\n",
        "### 6. **Error Tracking and Debugging**  \n",
        "- Pipelines make it easier to isolate errors in specific steps, improving debugging efficiency.  \n",
        "\n",
        "### 7. **Deployment Ready**  \n",
        "- Pipelines streamline the transition from model development to deployment, ensuring minimal code changes for production.  \n",
        "\n",
        "---\n",
        "\n",
        "## Example Code: Creating a Simple ML Pipeline in Python  \n",
        "```python\n",
        "from sklearn.pipeline import Pipeline\n",
        "from sklearn.preprocessing import StandardScaler\n",
        "from sklearn.linear_model import LinearRegression\n",
        "from sklearn.impute import SimpleImputer\n",
        "from sklearn.model_selection import train_test_split\n",
        "from sklearn.datasets import fetch_california_housing\n",
        "\n",
        "# Load data\n",
        "data = fetch_california_housing()\n",
        "X_train, X_test, y_train, y_test = train_test_split(\n",
        "    data.data, data.target, test_size=0.2, random_state=42\n",
        ")\n",
        "\n",
        "# Define the ML pipeline\n",
        "pipeline = Pipeline([\n",
        "    ('imputer', SimpleImputer(strategy='mean')),   # Handles missing values\n",
        "    ('scaler', StandardScaler()),                 # Scales data\n",
        "    ('model', LinearRegression())                 # Trains the model\n",
        "])\n",
        "\n",
        "# Train the pipeline\n",
        "pipeline.fit(X_train, y_train)\n",
        "\n",
        "# Evaluate the model\n",
        "score = pipeline.score(X_test, y_test)\n",
        "print(f'Model R-squared Score: {score:.2f}')\n"
      ],
      "metadata": {
        "id": "gQFf2xrr1cJA"
      }
    },
    {
      "cell_type": "markdown",
      "source": [
        "# Q10. Why is RMSE considered more interpretable than MSE?"
      ],
      "metadata": {
        "id": "SvTay-ag1ozQ"
      }
    },
    {
      "cell_type": "markdown",
      "source": [
        "## 1. **Definition of RMSE and MSE**\n",
        "- **Mean Squared Error (MSE):** Measures the average squared difference between actual and predicted values.  \n",
        "- **Root Mean Squared Error (RMSE):** The square root of MSE, which returns the error in the same unit as the target variable.  \n",
        "\n",
        "### Formulas  \n",
        "- **MSE Formula:**  \n",
        "\\[\n",
        "MSE = \\frac{1}{n} \\sum_{i=1}^{n} (y_i - \\hat{y}_i)^2\n",
        "\\]  \n",
        "\n",
        "- **RMSE Formula:**  \n",
        "\\[\n",
        "RMSE = \\sqrt{\\frac{1}{n} \\sum_{i=1}^{n} (y_i - \\hat{y}_i)^2}\n",
        "\\]  \n",
        "\n",
        "---\n",
        "\n",
        "## 2. **Key Reason for RMSE's Better Interpretability**\n",
        "- **Same Unit as Target Variable:**  \n",
        "  - RMSE has the **same unit** as the target variable, making it easier to understand and relate to the actual data.  \n",
        "  - For example, if the target variable represents **house prices in ₹**, RMSE will also be in ₹, while MSE will be in ₹² (which lacks direct interpretability).  \n",
        "\n",
        "---\n",
        "\n",
        "## 3. **Sensitivity to Large Errors**\n",
        "- Both RMSE and MSE give **higher weight** to large errors, but RMSE's output is easier to interpret since the error is measured in the original data scale.  \n",
        "\n",
        "---\n",
        "\n",
        "## 4. **Practical Example:**\n",
        "Suppose the actual house prices are in **lakhs** and RMSE = **1.5**. This means the model’s average prediction error is **₹1.5 lakh**, which is intuitive.  \n",
        "\n",
        "On the other hand, if MSE = **2.25**, interpreting this value directly is less meaningful without taking the square root.  \n",
        "\n",
        "---\n",
        "\n",
        "## 5. **Summary:**\n",
        "| Aspect            | **MSE**            | **RMSE**             |\n",
        "|:------------------|:-------------------|:---------------------|\n",
        "| **Unit**            | Square of original unit (e.g., ₹²) | Same as the original unit (e.g., ₹) |\n",
        "| **Interpretability** | Less intuitive due to squared errors | More intuitive as it represents actual prediction error |\n",
        "| **Emphasis on Outliers** | Stronger emphasis on large errors | Similar but easier to interpret |\n",
        "\n",
        "---\n",
        "\n",
        "## Conclusion\n",
        "✅ **RMSE** is preferred for interpretability because it provides a direct measure of average prediction error in the **same unit** as the target variable, making it easier to communicate model performance to stakeholders.  \n"
      ],
      "metadata": {
        "id": "iW8lh2zp1uIY"
      }
    },
    {
      "cell_type": "markdown",
      "source": [
        "# **Q11. What is pickling in Python, and how is it useful in ML?**"
      ],
      "metadata": {
        "id": "IGdoUu6a19T9"
      }
    },
    {
      "cell_type": "markdown",
      "source": [
        "# Pickling in Python and Its Importance in ML  \n",
        "\n",
        "## 1. **What is Pickling?**  \n",
        "- **Pickling** is the process of **serializing** (converting) Python objects into a byte stream to save them to a file.  \n",
        "- This serialized data can later be **unpickled** (deserialized) to retrieve the original object.  \n",
        "\n",
        "---\n",
        "\n",
        "## 2. **Why is Pickling Useful in ML?**  \n",
        "Pickling is particularly useful in machine learning for the following reasons:  \n",
        "\n",
        "### ✅ **Model Persistence**  \n",
        "- Trained ML models can be serialized using pickle and reloaded later without retraining.  \n",
        "- Useful when deploying models in production environments.  \n",
        "\n",
        "### ✅ **Faster Experimentation**  \n",
        "- Intermediate results like feature engineering steps, preprocessed data, or fitted encoders can be stored and reused.  \n",
        "\n",
        "### ✅ **Data Sharing**  \n",
        "- Pickled objects can be easily transferred between systems or shared with team members.  \n",
        "\n",
        "---\n",
        "\n",
        "## 3. **How to Use Pickle in Python**  \n",
        "\n",
        "### **Saving (Pickling) an Object**\n",
        "```python\n",
        "import pickle\n",
        "\n",
        "# Sample ML model (using scikit-learn)\n",
        "from sklearn.linear_model import LinearRegression\n",
        "model = LinearRegression()\n",
        "\n",
        "# Training data\n",
        "X = [[1], [2], [3]]\n",
        "y = [2, 4, 6]\n",
        "model.fit(X, y)\n",
        "\n",
        "# Save the model to a file\n",
        "with open('linear_regression_model.pkl', 'wb') as file:\n",
        "    pickle.dump(model, file)\n",
        "print(\"Model successfully saved!\")\n"
      ],
      "metadata": {
        "id": "uoa7iN4d2KPU"
      }
    },
    {
      "cell_type": "markdown",
      "source": [
        "# Q12. What does a high R-squared value mean?"
      ],
      "metadata": {
        "id": "l6KAxtrI2mgU"
      }
    },
    {
      "cell_type": "markdown",
      "source": [
        "## 1. **Definition of R-squared (R²)**\n",
        "- **R-squared (R²)**, also known as the **coefficient of determination**, measures the proportion of the variance in the dependent variable that is explained by the independent variables in a regression model.  \n",
        "- R² ranges between **0** and **1** (or **0%** to **100%** when expressed as a percentage).  \n",
        "\n",
        "### **R² Formula**  \n",
        "\\[\n",
        "R^2 = 1 - \\frac{SS_{res}}{SS_{tot}}\n",
        "\\]\n",
        "\n",
        "Where:  \n",
        "- \\(SS_{res}\\) = Sum of squared residuals (unexplained variance)  \n",
        "- \\(SS_{tot}\\) = Total sum of squares (total variance)  \n",
        "\n",
        "---\n",
        "\n",
        "## 2. **Interpretation of a High R-squared Value**  \n",
        "A **high R² value** (closer to **1** or **100%**) indicates:  \n",
        "\n",
        "✅ **Good Model Fit:** The model explains a large proportion of the variance in the target variable.  \n",
        "\n",
        "✅ **Stronger Relationship:** The independent variables have a significant influence on the dependent variable.  \n",
        "\n",
        "✅ **Higher Predictive Power:** The model's predictions closely align with the actual data points.  \n",
        "\n",
        "---\n",
        "\n",
        "## 3. **Important Considerations**\n",
        "While a high R² may seem ideal, it can sometimes be **misleading**:\n",
        "\n",
        "### ⚠️ **Overfitting Risk**\n",
        "- A model with an extremely high R² might be **too complex** and may have memorized noise rather than learning meaningful patterns.  \n",
        "- This is common when the model includes **too many features** or **irrelevant variables**.\n",
        "\n",
        "### ⚠️ **Context Matters**\n",
        "- In some fields (e.g., **finance** or **economics**), R² values between **0.3 – 0.5** can still indicate a meaningful relationship.  \n",
        "- In others (e.g., **engineering** or **physical sciences**), R² values above **0.9** are often expected.\n",
        "\n",
        "---\n",
        "\n",
        "## 4. **Example Code: Checking R² Value in Python**\n",
        "```python\n",
        "from sklearn.linear_model import LinearRegression\n",
        "from sklearn.metrics import r2_score\n",
        "\n",
        "# Sample data\n",
        "X = [[1], [2], [3], [4], [5]]\n",
        "y = [1.2, 2.1, 2.9, 4.1, 5.2]\n",
        "\n",
        "# Model training\n",
        "model = LinearRegression()\n",
        "model.fit(X, y)\n",
        "\n",
        "# Predicted values\n",
        "y_pred = model.predict(X)\n",
        "\n",
        "# R-squared calculation\n",
        "r2 = r2_score(y, y_pred)\n",
        "print(f\"R-squared Value: {r2:.2f}\")\n"
      ],
      "metadata": {
        "id": "iNWGzqUa2vOb"
      }
    },
    {
      "cell_type": "markdown",
      "source": [
        "# Q13. What happens if linear regression assumptions are violated?"
      ],
      "metadata": {
        "id": "qFp1g4jd3S1X"
      }
    },
    {
      "cell_type": "markdown",
      "source": [
        "Linear regression relies on certain key assumptions to ensure accurate and reliable results. When these assumptions are violated, it can lead to **biased estimates**, **inefficient predictions**, and **misleading conclusions**.  \n",
        "\n",
        "---\n",
        "\n",
        "## 1. **Linearity Violation**  \n",
        "### 🔍 **Description:**  \n",
        "- The relationship between the independent and dependent variables is **non-linear**.  \n",
        "\n",
        "### ❗ **Impact:**  \n",
        "- Model predictions become inaccurate as linear regression struggles to capture complex patterns.  \n",
        "- The coefficient estimates may no longer reflect the true relationship.  \n",
        "\n",
        "### ✅ **Solution:**  \n",
        "- Apply **non-linear transformations** (e.g., logarithm, square root).  \n",
        "- Consider using non-linear models such as **Polynomial Regression** or **Decision Trees**.  \n",
        "\n",
        "---\n",
        "\n",
        "## 2. **Independence of Errors Violation**  \n",
        "### 🔍 **Description:**  \n",
        "- Residuals (errors) are **correlated**, often seen in **time series** or **panel data**.  \n",
        "\n",
        "### ❗ **Impact:**  \n",
        "- Leads to **inefficient estimates** and inflated Type I error rates (false positives).  \n",
        "\n",
        "### ✅ **Solution:**  \n",
        "- Use **time series models** like **ARIMA** for sequential data.  \n",
        "- Apply the **Durbin-Watson test** to detect autocorrelation.  \n",
        "\n",
        "---\n",
        "\n",
        "## 3. **Homoscedasticity Violation (Constant Variance)**  \n",
        "### 🔍 **Description:**  \n",
        "- Residuals exhibit **unequal variance** across the dataset.  \n",
        "\n",
        "### ❗ **Impact:**  \n",
        "- Affects the reliability of **confidence intervals** and **hypothesis tests**.  \n",
        "- May lead to underestimation or overestimation of model precision.  \n",
        "\n",
        "### ✅ **Solution:**  \n",
        "- Use **weighted least squares regression**.  \n",
        "- Perform **log transformation** or **Box-Cox transformation** on the target variable.  \n",
        "\n",
        "---\n",
        "\n",
        "## 4. **Normality of Residuals Violation**  \n",
        "### 🔍 **Description:**  \n",
        "- Residuals are **non-normally distributed**, impacting significance tests.  \n",
        "\n",
        "### ❗ **Impact:**  \n",
        "- Affects the accuracy of **confidence intervals** and **p-values**.  \n",
        "- May lead to unreliable hypothesis testing results.  \n",
        "\n",
        "### ✅ **Solution:**  \n",
        "- Use **robust regression methods** or **bootstrapping**.  \n",
        "- Apply **log**, **square root**, or **power transformations** to normalize residuals.  \n",
        "\n",
        "---\n",
        "\n",
        "## 5. **Multicollinearity Violation**  \n",
        "### 🔍 **Description:**  \n",
        "- Independent variables are **highly correlated** with each other.  \n",
        "\n",
        "### ❗ **Impact:**  \n",
        "- Coefficient estimates become **unstable** and difficult to interpret.  \n",
        "- Reduces the model's predictive power.  \n",
        "\n",
        "### ✅ **Solution:**  \n",
        "- Use **Variance Inflation Factor (VIF)** to detect multicollinearity.  \n",
        "- Remove or combine correlated features using **PCA** or **regularization methods** like **Ridge Regression**.  \n",
        "\n",
        "---\n",
        "\n",
        "## 6. **Outliers and Influential Points**  \n",
        "### 🔍 **Description:**  \n",
        "- Presence of extreme data points that distort the regression model.  \n",
        "\n",
        "### ❗ **Impact:**  \n",
        "- Outliers can drastically impact the slope, intercept, and overall model accuracy.  \n",
        "\n",
        "### ✅ **Solution:**  \n",
        "- Identify outliers using **box plots**, **IQR**, or **Z-scores**.  \n",
        "- Consider using **robust regression models** like **Huber Regression**.  \n",
        "\n",
        "---\n",
        "\n",
        "## 7. **Omitted Variable Bias**  \n",
        "### 🔍 **Description:**  \n",
        "- Important predictor variables are **left out** of the model.  \n",
        "\n",
        "### ❗ **Impact:**  \n",
        "- The model may falsely attribute the effect of omitted variables to included variables, leading to **biased estimates**.  \n",
        "\n",
        "### ✅ **Solution:**  \n",
        "- Perform **feature selection** methods like **Forward Selection**, **Backward Elimination**, or **Recursive Feature Elimination (RFE)**.  \n",
        "\n",
        "---\n",
        "\n",
        "## 8. **Conclusion**  \n",
        "✅ Violating linear regression assumptions can lead to **biased**, **inefficient**, and **unreliable** models.  \n",
        "✅ Identifying assumption violations early and applying appropriate corrections ensures improved model performance and interpretation.  \n",
        "✅ In complex scenarios, alternative models like **Random Forest**, **XGBoost**, or **Neural Networks** may outperform traditional linear regression.  \n"
      ],
      "metadata": {
        "id": "Dw-n974U3ZQE"
      }
    },
    {
      "cell_type": "markdown",
      "source": [
        "# Q14. How can we address multicollinearity in regression?"
      ],
      "metadata": {
        "id": "2E4DaVQS3ne0"
      }
    },
    {
      "cell_type": "markdown",
      "source": [
        "**Multicollinearity** occurs when two or more independent variables in a regression model are highly correlated. This makes it difficult to determine the individual effect of each variable on the target variable.  \n",
        "\n",
        "---\n",
        "\n",
        "## 1. **Identify Multicollinearity**  \n",
        "Before addressing multicollinearity, it's important to detect it.  \n",
        "\n",
        "### 🔍 **Detection Methods:**  \n",
        "- **Variance Inflation Factor (VIF):**  \n",
        "  - VIF > **10** indicates severe multicollinearity.  \n",
        "  - VIF between **5-10** suggests moderate multicollinearity.  \n",
        "\n",
        "**Example Code (VIF Calculation):**  \n",
        "```python\n",
        "import pandas as pd\n",
        "from statsmodels.stats.outliers_influence import variance_inflation_factor\n",
        "from statsmodels.tools.tools import add_constant\n",
        "\n",
        "# Sample data\n",
        "data = pd.DataFrame({\n",
        "    'X1': [1, 2, 3, 4, 5],\n",
        "    'X2': [2, 4, 6, 8, 10],  # Highly correlated with X1\n",
        "    'X3': [5, 3, 4, 7, 9]\n",
        "})\n",
        "\n",
        "# Calculate VIF\n",
        "X = add_constant(data)  # Add constant for intercept\n",
        "vif = pd.DataFrame({\n",
        "    'Variable': X.columns,\n",
        "    'VIF': [variance_inflation_factor(X.values, i) for i in range(X.shape[1])]\n",
        "})\n",
        "print(vif)\n"
      ],
      "metadata": {
        "id": "N253FzMb3r1H"
      }
    },
    {
      "cell_type": "markdown",
      "source": [
        "## 2. Techniques to Address Multicollinearity  \n",
        "\n",
        "✅ **a. Remove Highly Correlated Variables**  \n",
        "- Identify and remove one of the correlated variables.  \n",
        "- This is effective if the removed variable adds minimal value to the model.  \n",
        "- **Example:** If `X1` and `X2` have a correlation of **0.95**, consider dropping one.  \n",
        "\n",
        "---\n",
        "\n",
        "✅ **b. Combine Correlated Variables**  \n",
        "- Combine similar features using **feature engineering** or **averaging**.  \n",
        "- **Example:** Combining `Height` and `Weight` into **BMI**.  \n",
        "\n",
        "---\n",
        "\n",
        "✅ **c. Principal Component Analysis (PCA)**  \n",
        "- PCA reduces dimensionality by transforming correlated features into **uncorrelated components**.  \n",
        "- Useful when multicollinearity is unavoidable.  \n",
        "\n",
        "**Example Code (PCA Implementation):**  \n",
        "```python\n",
        "from sklearn.decomposition import PCA\n",
        "from sklearn.preprocessing import StandardScaler  \n",
        "\n",
        "# Standardize data\n",
        "scaler = StandardScaler()\n",
        "X_scaled = scaler.fit_transform(data)  \n",
        "\n",
        "# Apply PCA\n",
        "pca = PCA(n_components=2)\n",
        "X_pca = pca.fit_transform(X_scaled)  \n",
        "\n",
        "print(f'Explained Variance Ratio: {pca.explained_variance_ratio_}')\n"
      ],
      "metadata": {
        "id": "mr6GeRnm378-"
      }
    },
    {
      "cell_type": "markdown",
      "source": [
        "# Q15. How can feature selection improve model performance in regression analysis?"
      ],
      "metadata": {
        "id": "8p2yAr6E4OSg"
      }
    },
    {
      "cell_type": "markdown",
      "source": [
        "## 1. **What is Feature Selection?**  \n",
        "Feature selection is the process of identifying and selecting the most relevant features (variables) for a regression model. It helps improve model performance by reducing noise, enhancing interpretability, and increasing computational efficiency.  \n",
        "\n",
        "---\n",
        "\n",
        "## 2. **Benefits of Feature Selection in Regression Analysis**  \n",
        "\n",
        "✅ **Improved Model Accuracy**  \n",
        "- Removing irrelevant or redundant features reduces model complexity, leading to improved prediction accuracy.  \n",
        "\n",
        "✅ **Reduced Overfitting**  \n",
        "- By eliminating noisy or unnecessary features, the model generalizes better to unseen data.  \n",
        "\n",
        "✅ **Enhanced Interpretability**  \n",
        "- A simpler model with fewer features is easier to understand and explain.  \n",
        "\n",
        "✅ **Faster Training Time**  \n",
        "- Reducing the number of features speeds up model training and evaluation.  \n",
        "\n",
        "✅ **Better Resource Management**  \n",
        "- Fewer features require less memory and computational power, improving efficiency in production environments.  \n",
        "\n",
        "---\n",
        "\n",
        "## 3. **Feature Selection Techniques**  \n",
        "\n",
        "### ✅ **a. Filter Methods**  \n",
        "- Select features based on statistical properties like correlation or variance.  \n",
        "- Examples:  \n",
        "  - **Correlation Matrix**: Remove features highly correlated with each other.  \n",
        "  - **Chi-square Test**: Evaluates the independence between features and the target variable.  \n",
        "\n",
        "**Example Code (Correlation Matrix):**  \n",
        "```python\n",
        "import pandas as pd\n",
        "import seaborn as sns\n",
        "import matplotlib.pyplot as plt\n",
        "\n",
        "# Correlation Matrix\n",
        "correlation_matrix = data.corr()\n",
        "sns.heatmap(correlation_matrix, annot=True, cmap='coolwarm')\n",
        "plt.title('Correlation Matrix')\n",
        "plt.show()\n"
      ],
      "metadata": {
        "id": "V212Gdla4UyB"
      }
    },
    {
      "cell_type": "markdown",
      "source": [
        "✅ **b. Wrapper Methods**  \n",
        "- Iteratively add or remove features based on model performance.  \n",
        "- **Examples:**  \n",
        "  - **Forward Selection:** Starts with no features and adds the most significant one step-by-step.  \n",
        "  - **Backward Elimination:** Starts with all features and removes the least significant one.  \n",
        "\n",
        "**Example Code (Backward Elimination):**  \n",
        "```python\n",
        "import statsmodels.api as sm  \n",
        "\n",
        "X = data.drop('target', axis=1)  \n",
        "y = data['target']  \n",
        "\n",
        "# Add constant for intercept\n",
        "X = sm.add_constant(X)  \n",
        "\n",
        "# Fit model and eliminate non-significant features\n",
        "model = sm.OLS(y, X).fit()\n",
        "print(model.summary())\n"
      ],
      "metadata": {
        "id": "G3Piz2V841Uk"
      }
    },
    {
      "cell_type": "markdown",
      "source": [
        "✅ **c. Embedded Methods**  \n",
        "- Feature selection is integrated into the model training process.  \n",
        "- **Examples:**  \n",
        "  - **Lasso Regression:** Shrinks some coefficients to zero, effectively performing feature selection.  \n",
        "  - **Ridge Regression:** Reduces coefficient magnitudes, minimizing the effect of less relevant features.  \n",
        "\n",
        "**Example Code (Lasso Regression):**  \n",
        "```python\n",
        "from sklearn.linear_model import Lasso  \n",
        "\n",
        "# Lasso Model with alpha=0.1\n",
        "lasso_model = Lasso(alpha=0.1)  \n",
        "lasso_model.fit(X, y)  \n",
        "\n",
        "# Display selected features\n",
        "selected_features = X.columns[lasso_model.coef_ != 0]  \n",
        "print(f'Selected Features: {selected_features}')  \n"
      ],
      "metadata": {
        "id": "Yj6nZtlrBM6r"
      }
    },
    {
      "cell_type": "markdown",
      "source": [
        "# Q16. How is Adjusted R-squared calculated?"
      ],
      "metadata": {
        "id": "rNC3iETCBVb_"
      }
    },
    {
      "cell_type": "markdown",
      "source": [
        "# How is Adjusted R-squared Calculated?\n",
        "\n",
        "## 1. **What is Adjusted R-squared?**\n",
        "- Adjusted R-squared is a modified version of **R-squared** that accounts for the number of predictors in the model.\n",
        "- Unlike R-squared, which can increase even with irrelevant features, **Adjusted R-squared** only increases if the added variable improves the model's performance.\n",
        "\n",
        "---\n",
        "\n",
        "## 2. **Formula for Adjusted R-squared**\n",
        "\\[\n",
        "\\text{Adjusted R}^2 = 1 - \\left( \\frac{(1 - R^2) \\times (n - 1)}{n - k - 1} \\right)\n",
        "\\]\n",
        "\n",
        "### Where:\n",
        "- **\\( R^2 \\)** = R-squared value  \n",
        "- **\\( n \\)** = Total number of observations (sample size)  \n",
        "- **\\( k \\)** = Number of predictors (independent variables)  \n",
        "\n",
        "---\n",
        "\n",
        "## 3. **Key Insights**\n",
        "✅ Adjusted R-squared will **always be less than or equal to R-squared**.  \n",
        "✅ Adding irrelevant predictors will **decrease Adjusted R-squared**.  \n",
        "✅ Adding useful predictors may **increase Adjusted R-squared**.  \n",
        "✅ When comparing models with different numbers of predictors, Adjusted R-squared is a **better indicator of model quality** than R-squared.  \n",
        "\n",
        "---\n",
        "\n",
        "## 4. **Example**\n",
        "```python\n",
        "import statsmodels.api as sm\n",
        "import pandas as pd\n",
        "\n",
        "# Sample Data\n",
        "data = pd.DataFrame({\n",
        "    'X1': [1, 2, 3, 4, 5],\n",
        "    'X2': [2, 3, 5, 7, 11],\n",
        "    'Y': [10, 20, 30, 40, 50]\n",
        "})\n",
        "\n",
        "# Independent and dependent variables\n",
        "X = data[['X1', 'X2']]\n",
        "y = data['Y']\n",
        "\n",
        "# Add constant for intercept\n",
        "X = sm.add_constant(X)\n",
        "\n",
        "# Fit regression model\n",
        "model = sm.OLS(y, X).fit()\n",
        "\n",
        "# Display Adjusted R-squared\n",
        "print(f\"Adjusted R-squared: {model.rsquared_adj:.3f}\")\n"
      ],
      "metadata": {
        "id": "-3LodwH2CF_w"
      }
    },
    {
      "cell_type": "markdown",
      "source": [
        "# Q17. Why is MSE sensitive to outliers?"
      ],
      "metadata": {
        "id": "dP0MgLngCXbp"
      }
    },
    {
      "cell_type": "markdown",
      "source": [
        "## 1. **Understanding MSE**\n",
        "- **Mean Squared Error (MSE)** calculates the average of the squared differences between actual and predicted values.  \n",
        "- **Formula:**  \n",
        "\\[\n",
        "\\text{MSE} = \\frac{1}{n} \\sum_{i=1}^n (y_i - \\hat{y_i})^2\n",
        "\\]\n",
        "\n",
        "### Where:\n",
        "- **\\(y_i\\)** = Actual value  \n",
        "- **\\(\\hat{y_i}\\)** = Predicted value  \n",
        "- **\\(n\\)** = Number of observations  \n",
        "\n",
        "---\n",
        "\n",
        "## 2. **Why is MSE Sensitive to Outliers?**\n",
        "✅ **Squaring the Errors:**  \n",
        "- MSE squares each error term, giving **more weight** to larger errors.  \n",
        "- This means even a **single large error** (outlier) can disproportionately increase the overall MSE.  \n",
        "\n",
        "✅ **Example:**\n",
        "| Actual Value | Predicted Value | Error | Squared Error |\n",
        "|:--------------|:----------------|:-------|:---------------|\n",
        "| 50             | 52               | 2      | 4               |\n",
        "| 60             | 58               | 2      | 4               |\n",
        "| **1000**       | **800**          | **200**| **40000**        |\n",
        "\n",
        "- Notice how the squared error for the outlier (40000) dominates the total MSE.  \n",
        "\n",
        "---\n",
        "\n",
        "## 3. **Impact of Outliers on MSE**\n",
        "- **Increased Error Value:** Outliers lead to an inflated MSE value, even if the majority of predictions are accurate.  \n",
        "- **Misleading Model Performance:** MSE may incorrectly suggest that a model is poor due to a few extreme values.  \n",
        "\n",
        "---\n",
        "\n",
        "## 4. **How to Mitigate Outlier Impact**\n",
        "✅ **Use Robust Metrics:**  \n",
        "- Consider using **Mean Absolute Error (MAE)** or **Huber Loss**, which are less sensitive to extreme values.  \n",
        "\n",
        "✅ **Data Transformation:**  \n",
        "- Techniques like **log transformation** or **winsorization** can reduce the influence of outliers.  \n",
        "\n",
        "✅ **Outlier Detection and Removal:**  \n",
        "- Identify and handle extreme values using methods like **IQR (Interquartile Range)** or **Z-score analysis**.  \n",
        "\n",
        "---\n",
        "\n",
        "## 5. **Conclusion**\n",
        "✅ MSE’s sensitivity to outliers arises from its squaring mechanism, which amplifies large errors.  \n",
        "✅ While MSE is useful for capturing model accuracy, always consider complementing it with robust metrics like **MAE** or **R-squared** for a comprehensive evaluation.  \n"
      ],
      "metadata": {
        "id": "ca_7o4ySCcc0"
      }
    },
    {
      "cell_type": "markdown",
      "source": [
        "# Q18. What is the role of homoscedasticity in linear regression?"
      ],
      "metadata": {
        "id": "SCvci7R0Cmx7"
      }
    },
    {
      "cell_type": "markdown",
      "source": [
        "## 1. **What is Homoscedasticity?**\n",
        "- **Homoscedasticity** refers to the condition where the **variance of the residuals (errors)** remains **constant** across all levels of the independent variable(s).  \n",
        "- In simpler terms, the spread of residuals should be **uniform** across the entire range of predicted values.  \n",
        "\n",
        "---\n",
        "\n",
        "## 2. **Importance of Homoscedasticity in Linear Regression**\n",
        "✅ **Key Assumption in Linear Regression:**  \n",
        "- Homoscedasticity is a core assumption for **Ordinary Least Squares (OLS)** regression models.  \n",
        "- Violating this assumption can lead to **biased standard errors**, affecting confidence intervals and hypothesis tests.  \n",
        "\n",
        "✅ **Accurate Predictions:**  \n",
        "- When residuals have constant variance, the model is more likely to provide **reliable predictions** across all data points.  \n",
        "\n",
        "✅ **Valid Hypothesis Testing:**  \n",
        "- Homoscedasticity ensures that p-values and test statistics are correctly calculated, enhancing the reliability of significance tests.  \n",
        "\n",
        "---\n",
        "\n",
        "## 3. **How to Detect Homoscedasticity?**\n",
        "\n",
        "### ✅ **Residual Plot**\n",
        "- Plot the residuals against the predicted values.  \n",
        "- **Homoscedasticity:** Residuals show a random scatter without a clear pattern.  \n",
        "- **Heteroscedasticity (Violation):** Residuals fan out (increasing or decreasing spread) or form distinct patterns.  \n",
        "\n",
        "**Example Code (Residual Plot):**  \n",
        "```python\n",
        "import matplotlib.pyplot as plt\n",
        "import numpy as np\n",
        "\n",
        "# Example Residuals\n",
        "y_pred = [10, 20, 30, 40, 50]\n",
        "residuals = [1, -2, 3, -4, 2]\n",
        "\n",
        "# Residual Plot\n",
        "plt.scatter(y_pred, residuals)\n",
        "plt.axhline(y=0, color='red', linestyle='--')\n",
        "plt.title('Residual Plot')\n",
        "plt.xlabel('Predicted Values')\n",
        "plt.ylabel('Residuals')\n",
        "plt.show()\n"
      ],
      "metadata": {
        "id": "tEu5yl0_CvF8"
      }
    },
    {
      "cell_type": "markdown",
      "source": [
        "# Q19.  What is Root Mean Squared Error (RMSE)?"
      ],
      "metadata": {
        "id": "pQUzv5J9DFn7"
      }
    },
    {
      "cell_type": "markdown",
      "source": [
        "## 1. **Definition**\n",
        "- **Root Mean Squared Error (RMSE)** is a commonly used metric that measures the average magnitude of the **errors** (residuals) between predicted and actual values in a regression model.  \n",
        "- It represents the **standard deviation** of the model's prediction errors.  \n",
        "\n",
        "---\n",
        "\n",
        "## 2. **Formula**\n",
        "\\[\n",
        "\\text{RMSE} = \\sqrt{\\frac{1}{n} \\sum_{i=1}^n (y_i - \\hat{y_i})^2}\n",
        "\\]\n",
        "\n",
        "### Where:\n",
        "- **\\(y_i\\)** = Actual value  \n",
        "- **\\(\\hat{y_i}\\)** = Predicted value  \n",
        "- **\\(n\\)** = Number of observations  \n",
        "\n",
        "---\n",
        "\n",
        "## 3. **Why Use RMSE?**\n",
        "✅ **Penalizes Large Errors:** Since RMSE squares the errors before averaging, larger errors are weighted more heavily.  \n",
        "✅ **Interpretable Units:** RMSE is expressed in the **same units** as the dependent variable, making it intuitive to understand.  \n",
        "✅ **Popular in Regression Models:** RMSE is widely used for evaluating model accuracy in machine learning and forecasting.  \n",
        "\n",
        "---\n",
        "\n",
        "## 4. **Key Characteristics**\n",
        "✅ **Higher RMSE** → Indicates **poor model performance** with large prediction errors.  \n",
        "✅ **Lower RMSE** → Indicates a **better fit** with smaller errors.  \n",
        "✅ RMSE is **sensitive to outliers** due to its squaring effect.  \n",
        "\n",
        "---\n",
        "\n",
        "## 5. **Example Code (RMSE Calculation in Python)**\n",
        "```python\n",
        "from sklearn.metrics import mean_squared_error\n",
        "import numpy as np\n",
        "\n",
        "# Actual vs Predicted Values\n",
        "y_actual = np.array([100, 200, 300, 400, 500])\n",
        "y_pred = np.array([110, 190, 310, 380, 490])\n",
        "\n",
        "# Calculate RMSE\n",
        "rmse = np.sqrt(mean_squared_error(y_actual, y_pred))\n",
        "print(f\"RMSE: {rmse:.2f}\")\n"
      ],
      "metadata": {
        "id": "ojQw_wWdDM3q"
      }
    },
    {
      "cell_type": "markdown",
      "source": [
        "# Q20. Why is pickling considered risky?"
      ],
      "metadata": {
        "id": "ymQD-rtzDXyK"
      }
    },
    {
      "cell_type": "markdown",
      "source": [
        "## 1. **What is Pickling in Python?**\n",
        "- **Pickling** is a process used to **serialize** (convert) Python objects into a byte stream, allowing them to be saved to a file or transmitted over a network.  \n",
        "- **Unpickling** is the reverse process, where the byte stream is converted back into a Python object.  \n",
        "\n",
        "---\n",
        "\n",
        "## 2. **Why is Pickling Risky?**\n",
        "Pickling is considered risky primarily because of **security vulnerabilities**. Key risks include:\n",
        "\n",
        "✅ **Code Execution Risk:**  \n",
        "- Pickle files can execute **arbitrary code** during the unpickling process.  \n",
        "- Malicious actors can craft pickle files containing harmful code that runs when unpickled.  \n",
        "\n",
        "✅ **Lack of Encryption:**  \n",
        "- Pickled data is not encrypted by default, making it vulnerable to **data breaches** if intercepted.  \n",
        "\n",
        "✅ **Untrusted Sources:**  \n",
        "- Loading pickle files from **untrusted or unknown sources** poses a serious risk, as the data could be manipulated.  \n",
        "\n",
        "✅ **Version Compatibility Issues:**  \n",
        "- Pickled objects are Python-specific and may fail to unpickle correctly in **different Python versions** or environments.  \n",
        "\n",
        "---\n",
        "\n",
        "## 3. **Example of Malicious Pickle Attack**\n",
        "**Malicious Code in Pickle File:**\n",
        "```python\n",
        "import pickle\n",
        "import os\n",
        "\n",
        "# Malicious payload that runs system commands\n",
        "class Malicious:\n",
        "    def __reduce__(self):\n",
        "        return (os.system, ('echo \"Hacked!\"',))\n",
        "\n",
        "# Save malicious object as a pickle file\n",
        "with open('malicious.pkl', 'wb') as file:\n",
        "    pickle.dump(Malicious(), file)\n",
        "\n",
        "# Loading this pickle file will execute the command\n",
        "with open('malicious.pkl', 'rb') as file:\n",
        "    pickle.load(file)  # This runs the malicious code\n"
      ],
      "metadata": {
        "id": "-Y4hIjHHDmMf"
      }
    },
    {
      "cell_type": "markdown",
      "source": [
        "# Q21. What alternatives exist to pickling for saving ML models?"
      ],
      "metadata": {
        "id": "HWMohTDBDu6S"
      }
    },
    {
      "cell_type": "markdown",
      "source": [
        "# Alternatives to Pickling for Saving ML Models\n",
        "\n",
        "## 1. **Joblib**\n",
        "✅ **Efficient for Large Data and NumPy Arrays**  \n",
        "- Designed for **scikit-learn** models and data-heavy objects.  \n",
        "- Faster than Pickle for saving and loading **large NumPy arrays**.  \n",
        "\n",
        "**Example Code (Saving and Loading with Joblib):**  \n",
        "```python\n",
        "from sklearn.linear_model import LinearRegression\n",
        "from joblib import dump, load\n",
        "\n",
        "# Example Model\n",
        "model = LinearRegression()\n",
        "model.fit([[1], [2], [3]], [2, 4, 6])\n",
        "\n",
        "# Save Model\n",
        "dump(model, 'model.joblib')\n",
        "\n",
        "# Load Model\n",
        "loaded_model = load('model.joblib')\n",
        "print(loaded_model.predict([[4]]))  # Output: [8.]\n"
      ],
      "metadata": {
        "id": "54cQPpOTD2Gq"
      }
    },
    {
      "cell_type": "markdown",
      "source": [
        "## 2. JSON (JavaScript Object Notation)\n",
        "\n",
        "✅ **Lightweight and Human-Readable**  \n",
        "- Ideal for saving **model parameters**, **hyperparameters**, and **configurations**.  \n",
        "- Not suitable for saving entire models but effective for structured data.  \n",
        "\n",
        "### Example Code (Saving Model Parameters as JSON):\n",
        "```python\n",
        "import json  \n",
        "\n",
        "# Model Parameters\n",
        "params = {\"learning_rate\": 0.01, \"n_estimators\": 100}  \n",
        "\n",
        "# Save Parameters\n",
        "with open('params.json', 'w') as file:\n",
        "    json.dump(params, file)  \n",
        "\n",
        "# Load Parameters\n",
        "with open('params.json', 'r') as file:\n",
        "    loaded_params = json.load(file)  \n",
        "\n",
        "print(loaded_params)\n"
      ],
      "metadata": {
        "id": "wasuj1D8D7sB"
      }
    },
    {
      "cell_type": "markdown",
      "source": [
        "## 3. HDF5 (Hierarchical Data Format)\n",
        "\n",
        "✅ **Best for Large Datasets and Deep Learning Models**  \n",
        "- Used extensively with **Keras** and **TensorFlow**.  \n",
        "- Efficient for handling **complex data hierarchies** and **large matrix data**.  \n",
        "\n",
        "### Example Code (Saving a Keras Model in HDF5 Format):\n",
        "```python\n",
        "from tensorflow import keras  \n",
        "\n",
        "# Example Keras Model\n",
        "model = keras.models.Sequential([\n",
        "    keras.layers.Dense(1, input_shape=(1,))\n",
        "])\n",
        "model.compile(optimizer='adam', loss='mse')  \n",
        "\n",
        "# Save Model\n",
        "model.save('model.h5')  \n",
        "\n",
        "# Load Model\n",
        "loaded_model = keras.models.load_model('model.h5')"
      ],
      "metadata": {
        "id": "ylYBeLBDELuS"
      }
    },
    {
      "cell_type": "markdown",
      "source": [
        "# Q22. What is heteroscedasticity, and why is it a problem?"
      ],
      "metadata": {
        "id": "7LntYpirEPpR"
      }
    },
    {
      "cell_type": "markdown",
      "source": [
        "# Heteroscedasticity in Regression Analysis\n",
        "\n",
        "## 1. **What is Heteroscedasticity?**\n",
        "- **Heteroscedasticity** occurs when the **variance** of the residuals (errors) is **not constant** across all levels of the independent variable(s).  \n",
        "- In a properly fitted regression model, residuals should ideally show a **random pattern** with **equal spread**.  \n",
        "- When the spread of residuals increases or decreases as the predicted values change, it indicates **heteroscedasticity**.\n",
        "\n",
        "### Example Visualization\n",
        "- **Homoscedasticity:** Residuals show consistent variance (desired).  \n",
        "- **Heteroscedasticity:** Residuals fan out or converge (undesired).  \n",
        "\n",
        "---\n",
        "\n",
        "## 2. **Why is Heteroscedasticity a Problem?**\n",
        "✅ **Inaccurate Coefficient Estimates:**  \n",
        "- Standard errors become unreliable, leading to **incorrect hypothesis tests** and **confidence intervals**.\n",
        "\n",
        "✅ **Inefficient Model Predictions:**  \n",
        "- Ordinary Least Squares (OLS) assumes constant variance; heteroscedasticity can reduce its efficiency.\n",
        "\n",
        "✅ **Bias in Inference:**  \n",
        "- Increases the risk of **Type I errors** (false positives) or **Type II errors** (false negatives).\n",
        "\n",
        "---\n",
        "\n",
        "## 3. **Common Causes of Heteroscedasticity**\n",
        "- Presence of **outliers** or **extreme values**.  \n",
        "- Omitted variables that influence variance.  \n",
        "- **Income**, **population size**, or **expenditure data** often exhibit this pattern.  \n",
        "- **Time series data** can show changing variance over time.\n",
        "\n",
        "---\n",
        "\n",
        "## 4. **Detecting Heteroscedasticity**\n",
        "✅ **Visual Inspection:**  \n",
        "- **Residual Plot:** Plot residuals vs. fitted values — a funnel-shaped pattern may indicate heteroscedasticity.  \n",
        "\n",
        "✅ **Statistical Tests:**  \n",
        "- **Breusch-Pagan Test**  \n",
        "- **Goldfeld-Quandt Test**  \n",
        "- **White’s Test**  \n",
        "\n",
        "---\n",
        "\n",
        "## 5. **Addressing Heteroscedasticity**\n",
        "✅ **Data Transformation:**  \n",
        "- Apply transformations like **log**, **square root**, or **Box-Cox** to stabilize variance.  \n",
        "\n",
        "✅ **Weighted Regression (WLS):**  \n",
        "- Assign weights to observations with higher variance to reduce their influence.  \n",
        "\n",
        "✅ **Robust Standard Errors:**  \n",
        "- Use **HC3 estimators** to adjust standard errors for heteroscedasticity.  \n",
        "\n",
        "✅ **Add Missing Variables:**  \n",
        "- Identify and include omitted variables that may explain the variance pattern.\n",
        "\n",
        "---\n",
        "\n",
        "## 6. **Conclusion**\n",
        "✅ Detecting and correcting heteroscedasticity is crucial for ensuring **reliable regression results**.  \n",
        "✅ Visual inspection combined with statistical tests provides an effective detection strategy.  \n",
        "✅ Applying appropriate techniques like **transformation**, **weighted regression**, or **robust standard errors** can significantly improve model performance.  \n"
      ],
      "metadata": {
        "id": "wdshYZA7ETzH"
      }
    },
    {
      "cell_type": "markdown",
      "source": [
        "# Q23. How can interaction terms enhance a regression model's predictive power?"
      ],
      "metadata": {
        "id": "_o_M-GgBEhRM"
      }
    },
    {
      "cell_type": "markdown",
      "source": [
        "# Interaction Terms in Regression Models\n",
        "\n",
        "## 1. **What Are Interaction Terms?**\n",
        "- **Interaction terms** represent the combined effect of **two or more variables** on the dependent variable.  \n",
        "- They help capture relationships where the effect of one variable **depends on the value of another**.\n",
        "\n",
        "### Example\n",
        "Suppose we're analyzing **sales** based on **advertising** and **season**.  \n",
        "- Without interaction: Advertising impacts sales equally in all seasons.  \n",
        "- With interaction: Advertising may be **more effective** in the festive season than in others.\n",
        "\n",
        "---\n",
        "\n",
        "## 2. **How Do Interaction Terms Enhance Predictive Power?**\n",
        "✅ **Capturing Non-Linear Relationships:**  \n",
        "- Some relationships are complex, and simple linear terms may miss these effects.  \n",
        "\n",
        "✅ **Improved Model Accuracy:**  \n",
        "- By including interactions, the model better reflects real-world dependencies.  \n",
        "\n",
        "✅ **Enhanced Interpretability:**  \n",
        "- Helps identify how two variables jointly influence the outcome.  \n",
        "\n",
        "---\n",
        "\n",
        "## 3. **Example of Interaction Term in Regression**\n",
        "### Equation Without Interaction\n",
        "\\[\n",
        "y = \\beta_0 + \\beta_1 X_1 + \\beta_2 X_2 + \\epsilon\n",
        "\\]\n",
        "\n",
        "### Equation With Interaction Term\n",
        "\\[\n",
        "y = \\beta_0 + \\beta_1 X_1 + \\beta_2 X_2 + \\beta_3 (X_1 \\times X_2) + \\epsilon\n",
        "\\]\n",
        "\n",
        "- The interaction term \\((X_1 \\times X_2)\\) captures the combined effect.  \n",
        "\n",
        "---\n",
        "\n",
        "## 4. **Implementation in Python (Using `statsmodels`)**\n",
        "```python\n",
        "import pandas as pd\n",
        "import statsmodels.api as sm\n",
        "\n",
        "# Sample Data\n",
        "data = pd.DataFrame({\n",
        "    'Advertising': [100, 200, 300, 400, 500],\n",
        "    'Season': [0, 1, 0, 1, 0],  # 0 = Off-season, 1 = Festive season\n",
        "    'Sales': [500, 1200, 800, 1600, 1000]\n",
        "})\n",
        "\n",
        "# Creating Interaction Term\n",
        "data['Ad_Season_Interaction'] = data['Advertising'] * data['Season']\n",
        "\n",
        "# Regression Model\n",
        "X = sm.add_constant(data[['Advertising', 'Season', 'Ad_Season_Interaction']])\n",
        "y = data['Sales']\n",
        "\n",
        "model = sm.OLS(y, X).fit()\n",
        "print(model.summary())\n"
      ],
      "metadata": {
        "id": "Qcxx4oaqEln2"
      }
    },
    {
      "cell_type": "markdown",
      "source": [
        "# **Practical:**\n",
        "\n",
        "---\n",
        "\n"
      ],
      "metadata": {
        "id": "ioxjfCJXFZhO"
      }
    },
    {
      "cell_type": "markdown",
      "source": [
        "# Q1. Write a Python script to visualize the distribution of errors (residuals) for a multiple linear regression model using Seaborn's \"diamonds\" dataset."
      ],
      "metadata": {
        "id": "SD4_NTidF2o-"
      }
    },
    {
      "cell_type": "code",
      "source": [
        "import seaborn as sns\n",
        "import matplotlib.pyplot as plt\n",
        "import pandas as pd\n",
        "import numpy as np\n",
        "from sklearn.model_selection import train_test_split\n",
        "from sklearn.linear_model import LinearRegression\n",
        "from sklearn.metrics import mean_squared_error\n",
        "import scipy.stats as stats\n",
        "\n",
        "diamonds = sns.load_dataset('diamonds')\n",
        "data = diamonds[['carat', 'depth', 'table', 'x', 'y', 'z', 'price']].dropna()\n",
        "\n",
        "X = data[['carat', 'depth', 'table', 'x', 'y', 'z']]\n",
        "y = data['price']\n",
        "\n",
        "X_train, X_test, y_train, y_test = train_test_split(X, y, test_size=0.3, random_state=42)\n",
        "\n",
        "model = LinearRegression()\n",
        "model.fit(X_train, y_train)\n",
        "\n",
        "y_pred = model.predict(X_test)\n",
        "\n",
        "residuals = y_test - y_pred\n",
        "\n",
        "plt.figure(figsize=(8, 5))\n",
        "sns.histplot(residuals, kde=True, bins=30, color='skyblue')\n",
        "plt.title('Distribution of Residuals')\n",
        "plt.xlabel('Residuals (Actual - Predicted)')\n",
        "plt.ylabel('Frequency')\n",
        "plt.axvline(x=0, color='red', linestyle='--', label='Zero Error Line')\n",
        "plt.legend()\n",
        "plt.show()\n",
        "\n",
        "plt.figure(figsize=(6, 4))\n",
        "stats.probplot(residuals, dist=\"norm\", plot=plt)\n",
        "plt.title('Q-Q Plot for Residuals')\n",
        "plt.show()\n"
      ],
      "metadata": {
        "colab": {
          "base_uri": "https://localhost:8080/",
          "height": 880
        },
        "id": "9dau2AiIF8R8",
        "outputId": "624da012-651c-4184-c016-42c91901e952"
      },
      "execution_count": null,
      "outputs": [
        {
          "output_type": "display_data",
          "data": {
            "text/plain": [
              "<Figure size 800x500 with 1 Axes>"
            ],
            "image/png": "[encoded data removed]"
          },
          "metadata": {}
        },
        {
          "output_type": "display_data",
          "data": {
            "text/plain": [
              "<Figure size 600x400 with 1 Axes>"
            ],
            "image/png": "[encoded data removed]"
          },
          "metadata": {}
        }
      ]
    },
    {
      "cell_type": "markdown",
      "source": [
        "# Q2. Write a Python script to calculate and print Mean Squared Error (MSE), Mean Absolute Error (MAE), and Root Mean Squared Error (RMSE) for a linear regression model."
      ],
      "metadata": {
        "id": "oEvXDybtGQS6"
      }
    },
    {
      "cell_type": "code",
      "source": [
        "import pandas as pd\n",
        "import numpy as np\n",
        "from sklearn.model_selection import train_test_split\n",
        "from sklearn.linear_model import LinearRegression\n",
        "from sklearn.metrics import mean_squared_error, mean_absolute_error\n",
        "\n",
        "data = pd.DataFrame({\n",
        "    'X1': [1, 2, 3, 4, 5, 6, 7, 8, 9],\n",
        "    'X2': [9, 8, 7, 6, 5, 4, 3, 2, 1],\n",
        "    'y': [10, 20, 30, 40, 50, 60, 70, 80, 90]\n",
        "})\n",
        "\n",
        "X = data[['X1', 'X2']]\n",
        "y = data['y']\n",
        "\n",
        "X_train, X_test, y_train, y_test = train_test_split(X, y, test_size=0.3, random_state=42)\n",
        "\n",
        "model = LinearRegression()\n",
        "model.fit(X_train, y_train)\n",
        "\n",
        "y_pred = model.predict(X_test)\n",
        "\n",
        "mse = mean_squared_error(y_test, y_pred)\n",
        "mae = mean_absolute_error(y_test, y_pred)\n",
        "rmse = np.sqrt(mse)\n",
        "\n",
        "print(f'Mean Squared Error (MSE): {mse:.3f}')\n",
        "print(f'Mean Absolute Error (MAE): {mae:.3f}')\n",
        "print(f'Root Mean Squared Error (RMSE): {rmse:.3f}')\n"
      ],
      "metadata": {
        "colab": {
          "base_uri": "https://localhost:8080/"
        },
        "id": "VZ_8Avo9GXT3",
        "outputId": "459ec31c-d902-4c2d-b7ef-3aff278e9348"
      },
      "execution_count": null,
      "outputs": [
        {
          "output_type": "stream",
          "name": "stdout",
          "text": [
            "Mean Squared Error (MSE): 0.000\n",
            "Mean Absolute Error (MAE): 0.000\n",
            "Root Mean Squared Error (RMSE): 0.000\n"
          ]
        }
      ]
    },
    {
      "cell_type": "markdown",
      "source": [
        "# Q3. Write a Python script to check if the assumptions of linear regression are met. Use a scatter plot to check linearity, residuals plot for homoscedasticity, and correlation matrix for multicollinearity"
      ],
      "metadata": {
        "id": "Gb-dmGZsG56N"
      }
    },
    {
      "cell_type": "code",
      "source": [
        "import pandas as pd\n",
        "import numpy as np\n",
        "import seaborn as sns\n",
        "import matplotlib.pyplot as plt\n",
        "from sklearn.model_selection import train_test_split\n",
        "from sklearn.linear_model import LinearRegression\n",
        "from sklearn.metrics import mean_squared_error\n",
        "\n",
        "data = pd.DataFrame({\n",
        "    'X1': [1, 2, 3, 4, 5, 6, 7, 8, 9],\n",
        "    'X2': [9, 8, 7, 6, 5, 4, 3, 2, 1],\n",
        "    'y': [10, 20, 30, 40, 50, 60, 70, 80, 90]\n",
        "})\n",
        "\n",
        "X = data[['X1', 'X2']]\n",
        "y = data['y']\n",
        "\n",
        "X_train, X_test, y_train, y_test = train_test_split(X, y, test_size=0.3, random_state=42)\n",
        "\n",
        "model = LinearRegression()\n",
        "model.fit(X_train, y_train)\n",
        "\n",
        "y_pred = model.predict(X_test)\n",
        "residuals = y_test - y_pred\n",
        "\n",
        "plt.figure(figsize=(6, 4))\n",
        "plt.scatter(y_pred, residuals, color='blue')\n",
        "plt.axhline(y=0, color='red', linestyle='--')\n",
        "plt.title('Residuals vs Predicted (Homoscedasticity Check)')\n",
        "plt.xlabel('Predicted Values')\n",
        "plt.ylabel('Residuals')\n",
        "plt.show()\n",
        "\n",
        "plt.figure(figsize=(6, 4))\n",
        "plt.scatter(X_train['X1'], y_train, color='blue', label='X1')\n",
        "plt.scatter(X_train['X2'], y_train, color='green', label='X2')\n",
        "plt.title('Linearity Check')\n",
        "plt.xlabel('Independent Variables')\n",
        "plt.ylabel('Target Variable')\n",
        "plt.legend()\n",
        "plt.show()\n",
        "\n",
        "correlation_matrix = data.corr()\n",
        "plt.figure(figsize=(6, 4))\n",
        "sns.heatmap(correlation_matrix, annot=True, cmap='coolwarm')\n",
        "plt.title('Correlation Matrix (Multicollinearity Check)')\n",
        "plt.show()\n"
      ],
      "metadata": {
        "colab": {
          "base_uri": "https://localhost:8080/",
          "height": 1000
        },
        "id": "fnGKX6-9HBTp",
        "outputId": "76eb2468-dca4-41c8-cc6c-86bf56d417ce"
      },
      "execution_count": null,
      "outputs": [
        {
          "output_type": "display_data",
          "data": {
            "text/plain": [
              "<Figure size 600x400 with 1 Axes>"
            ],
            "image/png": "[encoded data removed]"
          },
          "metadata": {}
        },
        {
          "output_type": "display_data",
          "data": {
            "text/plain": [
              "<Figure size 600x400 with 1 Axes>"
            ],
            "image/png": "[encoded data removed]"
          },
          "metadata": {}
        },
        {
          "output_type": "display_data",
          "data": {
            "text/plain": [
              "<Figure size 600x400 with 2 Axes>"
            ],
            "image/png": "[encoded data removed]"
          },
          "metadata": {}
        }
      ]
    },
    {
      "cell_type": "markdown",
      "source": [
        "# Q4. Write a Python script that creates a machine learning pipeline with feature scaling and evaluates the performance of different regression models"
      ],
      "metadata": {
        "id": "j6ps7G9-HLKV"
      }
    },
    {
      "cell_type": "code",
      "source": [
        "import pandas as pd\n",
        "import numpy as np\n",
        "from sklearn.model_selection import train_test_split, GridSearchCV\n",
        "from sklearn.pipeline import Pipeline\n",
        "from sklearn.preprocessing import StandardScaler\n",
        "from sklearn.linear_model import LinearRegression, Ridge, Lasso\n",
        "from sklearn.ensemble import RandomForestRegressor\n",
        "from sklearn.metrics import mean_squared_error, r2_score\n",
        "\n",
        "data = pd.DataFrame({\n",
        "    'X1': [1, 2, 3, 4, 5, 6, 7, 8, 9],\n",
        "    'X2': [9, 8, 7, 6, 5, 4, 3, 2, 1],\n",
        "    'y': [10, 20, 30, 40, 50, 60, 70, 80, 90]\n",
        "})\n",
        "\n",
        "X = data[['X1', 'X2']]\n",
        "y = data['y']\n",
        "\n",
        "X_train, X_test, y_train, y_test = train_test_split(X, y, test_size=0.3, random_state=42)\n",
        "\n",
        "models = {\n",
        "    'Linear Regression': LinearRegression(),\n",
        "    'Ridge Regression': Ridge(alpha=1.0),\n",
        "    'Lasso Regression': Lasso(alpha=0.1),\n",
        "    'Random Forest': RandomForestRegressor(n_estimators=100, random_state=42)\n",
        "}\n",
        "\n",
        "for name, model in models.items():\n",
        "    pipeline = Pipeline([\n",
        "        ('scaler', StandardScaler()),\n",
        "        ('regressor', model)\n",
        "    ])\n",
        "\n",
        "    pipeline.fit(X_train, y_train)\n",
        "    y_pred = pipeline.predict(X_test)\n",
        "\n",
        "    mse = mean_squared_error(y_test, y_pred)\n",
        "    r2 = r2_score(y_test, y_pred)\n",
        "\n",
        "    print(f'{name}:')\n",
        "    print(f'  Mean Squared Error (MSE): {mse:.3f}')\n",
        "    print(f'  R-squared (R²): {r2:.3f}\\n')\n"
      ],
      "metadata": {
        "colab": {
          "base_uri": "https://localhost:8080/"
        },
        "id": "qxI6ZaGLHQM_",
        "outputId": "021b72d7-2a4a-4070-e10c-fc4a17d0894b"
      },
      "execution_count": null,
      "outputs": [
        {
          "output_type": "stream",
          "name": "stdout",
          "text": [
            "Linear Regression:\n",
            "  Mean Squared Error (MSE): 0.000\n",
            "  R-squared (R²): 1.000\n",
            "\n",
            "Ridge Regression:\n",
            "  Mean Squared Error (MSE): 3.830\n",
            "  R-squared (R²): 0.994\n",
            "\n",
            "Lasso Regression:\n",
            "  Mean Squared Error (MSE): 0.010\n",
            "  R-squared (R²): 1.000\n",
            "\n",
            "Random Forest:\n",
            "  Mean Squared Error (MSE): 3.167\n",
            "  R-squared (R²): 0.995\n",
            "\n"
          ]
        }
      ]
    },
    {
      "cell_type": "markdown",
      "source": [
        "# Q5.  Implement a simple linear regression model on a dataset and print the model's coefficients, intercept, and R-squared score."
      ],
      "metadata": {
        "id": "U8mboW-oHXON"
      }
    },
    {
      "cell_type": "code",
      "source": [
        "import pandas as pd\n",
        "import numpy as np\n",
        "from sklearn.model_selection import train_test_split\n",
        "from sklearn.linear_model import LinearRegression\n",
        "from sklearn.metrics import r2_score\n",
        "\n",
        "data = pd.DataFrame({\n",
        "    'X': [1, 2, 3, 4, 5, 6, 7, 8, 9],\n",
        "    'y': [2, 4, 5, 4, 5, 6, 8, 9, 10]\n",
        "})\n",
        "\n",
        "X = data[['X']]\n",
        "y = data['y']\n",
        "\n",
        "X_train, X_test, y_train, y_test = train_test_split(X, y, test_size=0.3, random_state=42)\n",
        "\n",
        "model = LinearRegression()\n",
        "model.fit(X_train, y_train)\n",
        "\n",
        "y_pred = model.predict(X_test)\n",
        "\n",
        "print(f'Coefficient: {model.coef_[0]:.3f}')\n",
        "print(f'Intercept: {model.intercept_:.3f}')\n",
        "print(f'R-squared (R²) Score: {r2_score(y_test, y_pred):.3f}')\n"
      ],
      "metadata": {
        "colab": {
          "base_uri": "https://localhost:8080/"
        },
        "id": "TvtbuOseHclM",
        "outputId": "dd3610c7-76eb-4581-dda5-61b390b2c3a4"
      },
      "execution_count": null,
      "outputs": [
        {
          "output_type": "stream",
          "name": "stdout",
          "text": [
            "Coefficient: 0.971\n",
            "Intercept: 0.971\n",
            "R-squared (R²) Score: 0.851\n"
          ]
        }
      ]
    },
    {
      "cell_type": "markdown",
      "source": [
        "# Q6. Write a Python script that analyzes the relationship between total bill and tip in the 'tips' dataset using simple linear regression and visualizes the results."
      ],
      "metadata": {
        "id": "PE9z7_DLHuho"
      }
    },
    {
      "cell_type": "code",
      "source": [
        "import seaborn as sns\n",
        "import matplotlib.pyplot as plt\n",
        "import pandas as pd\n",
        "from sklearn.linear_model import LinearRegression\n",
        "from sklearn.model_selection import train_test_split\n",
        "from sklearn.metrics import r2_score\n",
        "\n",
        "data = sns.load_dataset('tips')\n",
        "\n",
        "X = data[['total_bill']]\n",
        "y = data['tip']\n",
        "\n",
        "X_train, X_test, y_train, y_test = train_test_split(X, y, test_size=0.3, random_state=42)\n",
        "\n",
        "model = LinearRegression()\n",
        "model.fit(X_train, y_train)\n",
        "\n",
        "y_pred = model.predict(X_test)\n",
        "\n",
        "plt.figure(figsize=(8, 5))\n",
        "plt.scatter(X_test, y_test, color='blue', label='Actual Data')\n",
        "plt.plot(X_test, y_pred, color='red', linewidth=2, label='Regression Line')\n",
        "plt.title('Total Bill vs Tip (Simple Linear Regression)')\n",
        "plt.xlabel('Total Bill')\n",
        "plt.ylabel('Tip')\n",
        "plt.legend()\n",
        "plt.show()\n",
        "\n",
        "print(f'Coefficient: {model.coef_[0]:.3f}')\n",
        "print(f'Intercept: {model.intercept_:.3f}')\n",
        "print(f'R-squared (R²) Score: {r2_score(y_test, y_pred):.3f}')\n"
      ],
      "metadata": {
        "colab": {
          "base_uri": "https://localhost:8080/",
          "height": 541
        },
        "id": "eL9jsd4bH1R4",
        "outputId": "1ff6d4a8-c2f6-4241-a54b-4583c0e985b1"
      },
      "execution_count": null,
      "outputs": [
        {
          "output_type": "display_data",
          "data": {
            "text/plain": [
              "<Figure size 800x500 with 1 Axes>"
            ],
            "image/png": "[encoded data removed]"
          },
          "metadata": {}
        },
        {
          "output_type": "stream",
          "name": "stdout",
          "text": [
            "Coefficient: 0.109\n",
            "Intercept: 0.877\n",
            "R-squared (R²) Score: 0.429\n"
          ]
        }
      ]
    },
    {
      "cell_type": "markdown",
      "source": [
        "# Q7.  Write a Python script that fits a linear regression model to a synthetic dataset with one feature. Use the model to predict new values and plot the data points along with the regression line."
      ],
      "metadata": {
        "id": "WlJ0iR5pH674"
      }
    },
    {
      "cell_type": "code",
      "source": [
        "import numpy as np\n",
        "import matplotlib.pyplot as plt\n",
        "from sklearn.linear_model import LinearRegression\n",
        "from sklearn.model_selection import train_test_split\n",
        "\n",
        "np.random.seed(42)\n",
        "X = np.random.rand(100, 1) * 10\n",
        "y = 2.5 * X + np.random.randn(100, 1) * 2\n",
        "\n",
        "X_train, X_test, y_train, y_test = train_test_split(X, y, test_size=0.3, random_state=42)\n",
        "\n",
        "model = LinearRegression()\n",
        "model.fit(X_train, y_train)\n",
        "\n",
        "y_pred = model.predict(X_test)\n",
        "\n",
        "plt.figure(figsize=(8, 5))\n",
        "plt.scatter(X, y, color='blue', label='Data Points')\n",
        "plt.plot(X_test, y_pred, color='red', linewidth=2, label='Regression Line')\n",
        "plt.title('Synthetic Data - Linear Regression')\n",
        "plt.xlabel('Feature (X)')\n",
        "plt.ylabel('Target (y)')\n",
        "plt.legend()\n",
        "plt.show()\n",
        "\n",
        "print(f'Coefficient: {model.coef_[0][0]:.3f}')\n",
        "print(f'Intercept: {model.intercept_[0]:.3f}')\n"
      ],
      "metadata": {
        "colab": {
          "base_uri": "https://localhost:8080/",
          "height": 523
        },
        "id": "fBAi_kk9H_xk",
        "outputId": "644de3c6-cd25-4871-e541-ed743625b187"
      },
      "execution_count": null,
      "outputs": [
        {
          "output_type": "display_data",
          "data": {
            "text/plain": [
              "<Figure size 800x500 with 1 Axes>"
            ],
            "image/png": "[encoded data removed]"
          },
          "metadata": {}
        },
        {
          "output_type": "stream",
          "name": "stdout",
          "text": [
            "Coefficient: 2.407\n",
            "Intercept: 0.236\n"
          ]
        }
      ]
    },
    {
      "cell_type": "markdown",
      "source": [
        "# Q8. Write a Python script that pickles a trained linear regression model and saves it to a file?"
      ],
      "metadata": {
        "id": "L2WUUBD-IHEL"
      }
    },
    {
      "cell_type": "code",
      "source": [
        "import pickle\n",
        "import numpy as np\n",
        "from sklearn.linear_model import LinearRegression\n",
        "from sklearn.model_selection import train_test_split\n",
        "\n",
        "np.random.seed(42)\n",
        "X = np.random.rand(100, 1) * 10\n",
        "y = 3.5 * X + np.random.randn(100, 1) * 2\n",
        "\n",
        "X_train, X_test, y_train, y_test = train_test_split(X, y, test_size=0.3, random_state=42)\n",
        "\n",
        "model = LinearRegression()\n",
        "model.fit(X_train, y_train)\n",
        "\n",
        "with open('linear_regression_model.pkl', 'wb') as file:\n",
        "    pickle.dump(model, file)\n",
        "\n",
        "print(\"Model has been pickled and saved as 'linear_regression_model.pkl'.\")\n"
      ],
      "metadata": {
        "colab": {
          "base_uri": "https://localhost:8080/"
        },
        "id": "zOnnWEFHINkm",
        "outputId": "f073ea71-12ba-429d-b31e-bde7623179de"
      },
      "execution_count": null,
      "outputs": [
        {
          "output_type": "stream",
          "name": "stdout",
          "text": [
            "Model has been pickled and saved as 'linear_regression_model.pkl'.\n"
          ]
        }
      ]
    },
    {
      "cell_type": "markdown",
      "source": [
        "# Q9.  Write a Python script that fits a polynomial regression model (degree 2) to a dataset and plots the regression curve."
      ],
      "metadata": {
        "id": "fU2Jmw1rIST_"
      }
    },
    {
      "cell_type": "code",
      "source": [
        "import numpy as np\n",
        "import matplotlib.pyplot as plt\n",
        "from sklearn.linear_model import LinearRegression\n",
        "from sklearn.preprocessing import PolynomialFeatures\n",
        "from sklearn.pipeline import make_pipeline\n",
        "\n",
        "np.random.seed(42)\n",
        "X = np.random.rand(100, 1) * 10\n",
        "y = 2 + 1.5 * X + 0.5 * X**2 + np.random.randn(100, 1) * 4\n",
        "\n",
        "poly_model = make_pipeline(PolynomialFeatures(degree=2), LinearRegression())\n",
        "poly_model.fit(X, y)\n",
        "\n",
        "X_sorted = np.sort(X, axis=0)\n",
        "y_pred = poly_model.predict(X_sorted)\n",
        "\n",
        "plt.figure(figsize=(8, 5))\n",
        "plt.scatter(X, y, color='blue', label='Data Points')\n",
        "plt.plot(X_sorted, y_pred, color='red', linewidth=2, label='Polynomial Regression Curve')\n",
        "plt.title('Polynomial Regression (Degree 2)')\n",
        "plt.xlabel('Feature (X)')\n",
        "plt.ylabel('Target (y)')\n",
        "plt.legend()\n",
        "plt.show()\n"
      ],
      "metadata": {
        "colab": {
          "base_uri": "https://localhost:8080/",
          "height": 487
        },
        "id": "EONzx0ouIdr4",
        "outputId": "f65416f9-a53a-4699-9cde-4f39a47ba502"
      },
      "execution_count": null,
      "outputs": [
        {
          "output_type": "display_data",
          "data": {
            "text/plain": [
              "<Figure size 800x500 with 1 Axes>"
            ],
            "image/png": "[encoded data removed]"
          },
          "metadata": {}
        }
      ]
    },
    {
      "cell_type": "markdown",
      "source": [
        "# Q10.  Generate synthetic data for simple linear regression (use random values for X and y) and fit a linear regression model to the data. Print the model's coefficient and intercept."
      ],
      "metadata": {
        "id": "5AsAXjK-IfeM"
      }
    },
    {
      "cell_type": "code",
      "source": [
        "import numpy as np\n",
        "from sklearn.linear_model import LinearRegression\n",
        "\n",
        "np.random.seed(42)\n",
        "X = np.random.rand(100, 1) * 10\n",
        "y = 4 + 3 * X + np.random.randn(100, 1) * 2\n",
        "\n",
        "model = LinearRegression()\n",
        "model.fit(X, y)\n",
        "\n",
        "print(f'Coefficient: {model.coef_[0][0]:.3f}')\n",
        "print(f'Intercept: {model.intercept_[0]:.3f}')\n"
      ],
      "metadata": {
        "colab": {
          "base_uri": "https://localhost:8080/"
        },
        "id": "5G0533hrIqHS",
        "outputId": "5d1ba6a5-f6f4-4d99-ae16-210360b377b3"
      },
      "execution_count": null,
      "outputs": [
        {
          "output_type": "stream",
          "name": "stdout",
          "text": [
            "Coefficient: 2.908\n",
            "Intercept: 4.430\n"
          ]
        }
      ]
    },
    {
      "cell_type": "markdown",
      "source": [
        "# Q11.  Write a Python script that fits polynomial regression models of different degrees to a synthetic dataset and compares their performance."
      ],
      "metadata": {
        "id": "TmIZo9cmJfLk"
      }
    },
    {
      "cell_type": "code",
      "source": [
        "import numpy as np\n",
        "import matplotlib.pyplot as plt\n",
        "from sklearn.linear_model import LinearRegression\n",
        "from sklearn.preprocessing import PolynomialFeatures\n",
        "from sklearn.metrics import mean_squared_error, r2_score\n",
        "from sklearn.pipeline import make_pipeline\n",
        "\n",
        "np.random.seed(42)\n",
        "X = np.random.rand(100, 1) * 10\n",
        "y = 5 + 2 * X + 0.5 * X**2 + np.random.randn(100, 1) * 4\n",
        "\n",
        "degrees = [1, 2, 3, 4]\n",
        "plt.figure(figsize=(10, 6))\n",
        "\n",
        "for degree in degrees:\n",
        "    model = make_pipeline(PolynomialFeatures(degree), LinearRegression())\n",
        "    model.fit(X, y)\n",
        "\n",
        "    X_sorted = np.sort(X, axis=0)\n",
        "    y_pred = model.predict(X_sorted)\n",
        "\n",
        "    mse = mean_squared_error(y, model.predict(X))\n",
        "    r2 = r2_score(y, model.predict(X))\n",
        "\n",
        "    plt.plot(X_sorted, y_pred, label=f'Degree {degree} (R² = {r2:.3f})')\n",
        "\n",
        "plt.scatter(X, y, color='blue', label='Data Points')\n",
        "plt.title('Polynomial Regression Models Comparison')\n",
        "plt.xlabel('Feature (X)')\n",
        "plt.ylabel('Target (y)')\n",
        "plt.legend()\n",
        "plt.show()\n"
      ],
      "metadata": {
        "colab": {
          "base_uri": "https://localhost:8080/",
          "height": 564
        },
        "id": "Ocgf7sAnJkGZ",
        "outputId": "295cd008-67f4-4afb-895d-4d651d550cbb"
      },
      "execution_count": null,
      "outputs": [
        {
          "output_type": "display_data",
          "data": {
            "text/plain": [
              "<Figure size 1000x600 with 1 Axes>"
            ],
            "image/png": "[encoded data removed]"
          },
          "metadata": {}
        }
      ]
    },
    {
      "cell_type": "markdown",
      "source": [
        "# Q12. Write a Python script that fits a simple linear regression model with two features and prints the model's coefficients, intercept, and R-squared score."
      ],
      "metadata": {
        "id": "cKuLfG51JqpM"
      }
    },
    {
      "cell_type": "code",
      "source": [
        "import numpy as np\n",
        "import pandas as pd\n",
        "from sklearn.linear_model import LinearRegression\n",
        "from sklearn.model_selection import train_test_split\n",
        "from sklearn.metrics import r2_score\n",
        "\n",
        "np.random.seed(42)\n",
        "X = np.random.rand(100, 2) * 10\n",
        "y = 3 + 2 * X[:, 0] + 1.5 * X[:, 1] + np.random.randn(100) * 2\n",
        "\n",
        "X_train, X_test, y_train, y_test = train_test_split(X, y, test_size=0.3, random_state=42)\n",
        "\n",
        "model = LinearRegression()\n",
        "model.fit(X_train, y_train)\n",
        "\n",
        "y_pred = model.predict(X_test)\n",
        "\n",
        "print(f'Coefficients: {model.coef_}')\n",
        "print(f'Intercept: {model.intercept_:.3f}')\n",
        "print(f'R-squared (R²) Score: {r2_score(y_test, y_pred):.3f}')\n"
      ],
      "metadata": {
        "id": "KSddmuhXJvvi",
        "colab": {
          "base_uri": "https://localhost:8080/"
        },
        "outputId": "cd5fc92e-3e28-4787-b34f-04eefaadd43e"
      },
      "execution_count": 16,
      "outputs": [
        {
          "output_type": "stream",
          "name": "stdout",
          "text": [
            "Coefficients: [2.03927416 1.66128267]\n",
            "Intercept: 2.122\n",
            "R-squared (R²) Score: 0.920\n"
          ]
        }
      ]
    },
    {
      "cell_type": "markdown",
      "source": [
        "# Q13. Write a Python script that generates synthetic data, fits a linear regression model, and visualizes the regression line along with the data points."
      ],
      "metadata": {
        "id": "5L3OATYQKGDx"
      }
    },
    {
      "cell_type": "code",
      "source": [
        "import numpy as np\n",
        "import matplotlib.pyplot as plt\n",
        "from sklearn.linear_model import LinearRegression\n",
        "\n",
        "np.random.seed(42)\n",
        "X = np.random.rand(100, 1) * 10\n",
        "y = 4 + 3 * X + np.random.randn(100, 1) * 2\n",
        "\n",
        "model = LinearRegression()\n",
        "model.fit(X, y)\n",
        "\n",
        "y_pred = model.predict(X)\n",
        "\n",
        "plt.figure(figsize=(8, 5))\n",
        "plt.scatter(X, y, color='blue', label='Data Points')\n",
        "plt.plot(X, y_pred, color='red', linewidth=2, label='Regression Line')\n",
        "plt.title('Synthetic Data - Linear Regression')\n",
        "plt.xlabel('Feature (X)')\n",
        "plt.ylabel('Target (y)')\n",
        "plt.legend()\n",
        "plt.show()\n",
        "\n",
        "print(f'Coefficient: {model.coef_[0][0]:.3f}')\n",
        "print(f'Intercept: {model.intercept_[0]:.3f}')\n"
      ],
      "metadata": {
        "colab": {
          "base_uri": "https://localhost:8080/",
          "height": 523
        },
        "id": "U1QpLt0eKN40",
        "outputId": "67d0225b-0347-4a3f-ffc8-65083e096891"
      },
      "execution_count": 17,
      "outputs": [
        {
          "output_type": "display_data",
          "data": {
            "text/plain": [
              "<Figure size 800x500 with 1 Axes>"
            ],
            "image/png": "[encoded data removed]"
          },
          "metadata": {}
        },
        {
          "output_type": "stream",
          "name": "stdout",
          "text": [
            "Coefficient: 2.908\n",
            "Intercept: 4.430\n"
          ]
        }
      ]
    },
    {
      "cell_type": "markdown",
      "source": [
        "# Q14. Write a Python script that uses the Variance Inflation Factor (VIF) to check for multicollinearity in a dataset with multiple features."
      ],
      "metadata": {
        "id": "H4LzX5M2KRrA"
      }
    },
    {
      "cell_type": "code",
      "source": [
        "import numpy as np\n",
        "import pandas as pd\n",
        "from statsmodels.stats.outliers_influence import variance_inflation_factor\n",
        "\n",
        "def calculate_vif(dataframe):\n",
        "    \"\"\"\n",
        "    Calculate VIF for each feature in the dataframe\n",
        "    Returns a dataframe with features and their VIF values\n",
        "    \"\"\"\n",
        "\n",
        "    vif_data = pd.DataFrame()\n",
        "    vif_data[\"Feature\"] = dataframe.columns\n",
        "    vif_data[\"VIF\"] = [variance_inflation_factor(dataframe.values, i)\n",
        "                      for i in range(dataframe.shape[1])]\n",
        "    return vif_data\n",
        "\n",
        "def main():\n",
        "\n",
        "    np.random.seed(42)\n",
        "\n",
        "\n",
        "    n_samples = 100\n",
        "\n",
        "    # Feature 1: Random values\n",
        "    x1 = np.random.normal(0, 1, n_samples)\n",
        "\n",
        "    # Feature 2: Highly correlated with x1\n",
        "    x2 = x1 * 2 + np.random.normal(0, 0.1, n_samples)\n",
        "\n",
        "    # Feature 3: Moderately correlated with x1\n",
        "    x3 = x1 * 0.5 + np.random.normal(0, 0.5, n_samples)\n",
        "\n",
        "    # Feature 4: Mostly independent\n",
        "    x4 = np.random.normal(0, 1, n_samples)\n",
        "\n",
        "\n",
        "    df = pd.DataFrame({\n",
        "        'Feature1': x1,\n",
        "        'Feature2': x2,\n",
        "        'Feature3': x3,\n",
        "        'Feature4': x4\n",
        "    })\n",
        "\n",
        "\n",
        "    vif_results = calculate_vif(df)\n",
        "\n",
        "\n",
        "    print(\"Variance Inflation Factors:\")\n",
        "    print(vif_results)\n",
        "\n",
        "\n",
        "    print(\"\\nInterpretation:\")\n",
        "    print(\"VIF < 5: No significant multicollinearity\")\n",
        "    print(\"5 ≤ VIF < 10: Moderate multicollinearity\")\n",
        "    print(\"VIF ≥ 10: High multicollinearity\")\n",
        "\n",
        "\n",
        "    for index, row in vif_results.iterrows():\n",
        "        if row['VIF'] >= 10:\n",
        "            print(f\"WARNING: {row['Feature']} has high multicollinearity (VIF = {row['VIF']:.2f})\")\n",
        "        elif row['VIF'] >= 5:\n",
        "            print(f\"Note: {row['Feature']} has moderate multicollinearity (VIF = {row['VIF']:.2f})\")\n",
        "\n",
        "if __name__ == \"__main__\":\n",
        "    main()"
      ],
      "metadata": {
        "colab": {
          "base_uri": "https://localhost:8080/"
        },
        "id": "A7a1a7xmKotP",
        "outputId": "d72ccd88-7284-44ec-bd89-976b8df70aaa"
      },
      "execution_count": 19,
      "outputs": [
        {
          "output_type": "stream",
          "name": "stdout",
          "text": [
            "Variance Inflation Factors:\n",
            "    Feature         VIF\n",
            "0  Feature1  371.932809\n",
            "1  Feature2  370.743588\n",
            "2  Feature3    2.088325\n",
            "3  Feature4    1.037599\n",
            "\n",
            "Interpretation:\n",
            "VIF < 5: No significant multicollinearity\n",
            "5 ≤ VIF < 10: Moderate multicollinearity\n",
            "VIF ≥ 10: High multicollinearity\n",
            "WARNING: Feature1 has high multicollinearity (VIF = 371.93)\n",
            "WARNING: Feature2 has high multicollinearity (VIF = 370.74)\n"
          ]
        }
      ]
    },
    {
      "cell_type": "markdown",
      "source": [
        "# Q15. Write a Python script that generates synthetic data for a polynomial relationship (degree 4), fits a polynomial regression model, and plots the regression curve."
      ],
      "metadata": {
        "id": "tmOLrTLhK2ce"
      }
    },
    {
      "cell_type": "code",
      "source": [
        "import numpy as np\n",
        "import matplotlib.pyplot as plt\n",
        "from sklearn.preprocessing import PolynomialFeatures\n",
        "from sklearn.linear_model import LinearRegression\n",
        "from sklearn.pipeline import make_pipeline\n",
        "\n",
        "def generate_synthetic_data(n_samples=100):\n",
        "    np.random.seed(42)\n",
        "    X = np.random.uniform(-2, 2, n_samples)\n",
        "    true_coeffs = [1.0, -0.5, 2.0, 0.5, 1.0]\n",
        "    y = (true_coeffs[0] * X**4 +\n",
        "         true_coeffs[1] * X**3 +\n",
        "         true_coeffs[2] * X**2 +\n",
        "         true_coeffs[3] * X +\n",
        "         true_coeffs[4] +\n",
        "         np.random.normal(0, 0.5, n_samples))\n",
        "    return X.reshape(-1, 1), y\n",
        "\n",
        "def fit_polynomial_regression(X, y, degree=4):\n",
        "    model = make_pipeline(\n",
        "        PolynomialFeatures(degree),\n",
        "        LinearRegression()\n",
        "    )\n",
        "    model.fit(X, y)\n",
        "    return model\n",
        "\n",
        "def plot_regression(X, y, model):\n",
        "    X_smooth = np.linspace(X.min(), X.max(), 300).reshape(-1, 1)\n",
        "    y_smooth = model.predict(X_smooth)\n",
        "    plt.figure(figsize=(10, 6))\n",
        "    plt.scatter(X, y, color='blue', alpha=0.5, label='Data points')\n",
        "    plt.plot(X_smooth, y_smooth, color='red', label='Polynomial fit (degree 4)')\n",
        "    plt.xlabel('X')\n",
        "    plt.ylabel('y')\n",
        "    plt.title('4th Degree Polynomial Regression')\n",
        "    plt.legend()\n",
        "    plt.grid(True, alpha=0.3)\n",
        "    plt.show()\n",
        "\n",
        "def main():\n",
        "    X, y = generate_synthetic_data()\n",
        "    model = fit_polynomial_regression(X, y)\n",
        "    plot_regression(X, y, model)\n",
        "\n",
        "if __name__ == \"__main__\":\n",
        "    main()"
      ],
      "metadata": {
        "colab": {
          "base_uri": "https://localhost:8080/",
          "height": 564
        },
        "id": "PD2Me0g-LI3z",
        "outputId": "6cc11ed6-7a31-4237-9577-c9bc65c9e827"
      },
      "execution_count": 21,
      "outputs": [
        {
          "output_type": "display_data",
          "data": {
            "text/plain": [
              "<Figure size 1000x600 with 1 Axes>"
            ],
            "image/png": "[encoded data removed]"
          },
          "metadata": {}
        }
      ]
    },
    {
      "cell_type": "markdown",
      "source": [
        "# Q16. Write a Python script that creates a machine learning pipeline with data standardization and a multiple linear regression model, and prints the R-squared score."
      ],
      "metadata": {
        "id": "RL_09WgBLNnT"
      }
    },
    {
      "cell_type": "code",
      "source": [
        "import numpy as np\n",
        "from sklearn.datasets import make_regression\n",
        "from sklearn.model_selection import train_test_split\n",
        "from sklearn.preprocessing import StandardScaler\n",
        "from sklearn.linear_model import LinearRegression\n",
        "from sklearn.pipeline import Pipeline\n",
        "from sklearn.metrics import r2_score\n",
        "\n",
        "def generate_synthetic_data():\n",
        "    X, y = make_regression(n_samples=1000, n_features=5, noise=0.1, random_state=42)\n",
        "    return X, y\n",
        "\n",
        "def create_pipeline():\n",
        "    pipeline = Pipeline([\n",
        "        ('scaler', StandardScaler()),\n",
        "        ('regression', LinearRegression())\n",
        "    ])\n",
        "    return pipeline\n",
        "\n",
        "def main():\n",
        "    X, y = generate_synthetic_data()\n",
        "    X_train, X_test, y_train, y_test = train_test_split(X, y, test_size=0.2, random_state=42)\n",
        "\n",
        "    pipeline = create_pipeline()\n",
        "    pipeline.fit(X_train, y_train)\n",
        "\n",
        "    y_pred = pipeline.predict(X_test)\n",
        "    r2 = r2_score(y_test, y_pred)\n",
        "\n",
        "    print(f\"R-squared score: {r2:.4f}\")\n",
        "\n",
        "if __name__ == \"__main__\":\n",
        "    main()"
      ],
      "metadata": {
        "colab": {
          "base_uri": "https://localhost:8080/"
        },
        "id": "IeUyWIh0LTcr",
        "outputId": "13ba71ad-d942-4715-b8eb-d4910e26edb3"
      },
      "execution_count": 22,
      "outputs": [
        {
          "output_type": "stream",
          "name": "stdout",
          "text": [
            "R-squared score: 1.0000\n"
          ]
        }
      ]
    },
    {
      "cell_type": "markdown",
      "source": [
        "# Q17.  Write a Python script that performs polynomial regression (degree 3) on a synthetic dataset and plots the regression curve."
      ],
      "metadata": {
        "id": "f2laRl7OLexJ"
      }
    },
    {
      "cell_type": "code",
      "source": [
        "import numpy as np\n",
        "import matplotlib.pyplot as plt\n",
        "from sklearn.preprocessing import PolynomialFeatures\n",
        "from sklearn.linear_model import LinearRegression\n",
        "from sklearn.pipeline import make_pipeline\n",
        "\n",
        "def generate_synthetic_data(n_samples=100):\n",
        "    np.random.seed(42)\n",
        "    X = np.random.uniform(-3, 3, n_samples)\n",
        "    y = 2 * X**3 - 3 * X**2 + X + 1 + np.random.normal(0, 2, n_samples)\n",
        "    return X.reshape(-1, 1), y\n",
        "\n",
        "def fit_polynomial_regression(X, y):\n",
        "    model = make_pipeline(\n",
        "        PolynomialFeatures(degree=3),\n",
        "        LinearRegression()\n",
        "    )\n",
        "    model.fit(X, y)\n",
        "    return model\n",
        "\n",
        "def plot_regression(X, y, model):\n",
        "    X_smooth = np.linspace(X.min(), X.max(), 300).reshape(-1, 1)\n",
        "    y_smooth = model.predict(X_smooth)\n",
        "\n",
        "    plt.figure(figsize=(10, 6))\n",
        "    plt.scatter(X, y, color='blue', alpha=0.5, label='Data points')\n",
        "    plt.plot(X_smooth, y_smooth, color='red', label='Polynomial fit (degree 3)')\n",
        "    plt.xlabel('X')\n",
        "    plt.ylabel('y')\n",
        "    plt.title('3rd Degree Polynomial Regression')\n",
        "    plt.legend()\n",
        "    plt.grid(True, alpha=0.3)\n",
        "    plt.show()\n",
        "\n",
        "def main():\n",
        "    X, y = generate_synthetic_data()\n",
        "    model = fit_polynomial_regression(X, y)\n",
        "    plot_regression(X, y, model)\n",
        "\n",
        "if __name__ == \"__main__\":\n",
        "    main()"
      ],
      "metadata": {
        "colab": {
          "base_uri": "https://localhost:8080/",
          "height": 564
        },
        "id": "78gAdoJdLsGE",
        "outputId": "1b066bf8-016e-4e98-bcff-d584c09f6a1a"
      },
      "execution_count": 24,
      "outputs": [
        {
          "output_type": "display_data",
          "data": {
            "text/plain": [
              "<Figure size 1000x600 with 1 Axes>"
            ],
            "image/png": "[encoded data removed]"
          },
          "metadata": {}
        }
      ]
    },
    {
      "cell_type": "markdown",
      "source": [
        "# Q18. Write a Python script that performs multiple linear regression on a synthetic dataset with 5 features. Print the R-squared score and model coefficients."
      ],
      "metadata": {
        "id": "uGQLZrqYLzTt"
      }
    },
    {
      "cell_type": "code",
      "source": [
        "import numpy as np\n",
        "import pandas as pd\n",
        "from sklearn.linear_model import LinearRegression\n",
        "from sklearn.model_selection import train_test_split\n",
        "from sklearn.metrics import r2_score\n",
        "\n",
        "np.random.seed(42)\n",
        "X = np.random.rand(100, 5) * 10\n",
        "y = 3 + 2 * X[:, 0] + 1.5 * X[:, 1] + 0.8 * X[:, 2] + 2.5 * X[:, 3] + 1.2 * X[:, 4] + np.random.randn(100) * 3\n",
        "\n",
        "X_train, X_test, y_train, y_test = train_test_split(X, y, test_size=0.3, random_state=42)\n",
        "\n",
        "model = LinearRegression()\n",
        "model.fit(X_train, y_train)\n",
        "\n",
        "y_pred = model.predict(X_test)\n",
        "\n",
        "print(f'R-squared (R²) Score: {r2_score(y_test, y_pred):.3f}')\n",
        "print(f'Coefficients: {model.coef_}')\n",
        "print(f'Intercept: {model.intercept_:.3f}')\n"
      ],
      "metadata": {
        "colab": {
          "base_uri": "https://localhost:8080/"
        },
        "id": "5xF0YiTUL5UT",
        "outputId": "f20bd55b-c85f-4b06-b3c2-b7cdfceceb42"
      },
      "execution_count": 25,
      "outputs": [
        {
          "output_type": "stream",
          "name": "stdout",
          "text": [
            "R-squared (R²) Score: 0.889\n",
            "Coefficients: [1.92821795 1.36888058 0.95910929 2.56750602 1.05356146]\n",
            "Intercept: 3.780\n"
          ]
        }
      ]
    },
    {
      "cell_type": "markdown",
      "source": [
        "# Q19. Write a Python script that generates synthetic data for linear regression, fits a model, and visualizes the data points along with the regression line."
      ],
      "metadata": {
        "id": "HXu1E8DmL-ov"
      }
    },
    {
      "cell_type": "code",
      "source": [
        "import numpy as np\n",
        "import matplotlib.pyplot as plt\n",
        "from sklearn.linear_model import LinearRegression\n",
        "\n",
        "np.random.seed(42)\n",
        "X = np.random.rand(100, 1) * 10\n",
        "y = 4 + 3 * X + np.random.randn(100, 1) * 2\n",
        "\n",
        "model = LinearRegression()\n",
        "model.fit(X, y)\n",
        "\n",
        "y_pred = model.predict(X)\n",
        "\n",
        "plt.figure(figsize=(8, 5))\n",
        "plt.scatter(X, y, color='blue', label='Data Points')\n",
        "plt.plot(X, y_pred, color='red', linewidth=2, label='Regression Line')\n",
        "plt.title('Linear Regression on Synthetic Data')\n",
        "plt.xlabel('Feature (X)')\n",
        "plt.ylabel('Target (y)')\n",
        "plt.legend()\n",
        "plt.show()\n",
        "\n",
        "print(f'Coefficient: {model.coef_[0][0]:.3f}')\n",
        "print(f'Intercept: {model.intercept_[0]:.3f}')\n"
      ],
      "metadata": {
        "colab": {
          "base_uri": "https://localhost:8080/",
          "height": 523
        },
        "id": "H2KvHV0XMFvn",
        "outputId": "8ccb63b7-8f32-4dfc-fdeb-f792ef6b7b0b"
      },
      "execution_count": 26,
      "outputs": [
        {
          "output_type": "display_data",
          "data": {
            "text/plain": [
              "<Figure size 800x500 with 1 Axes>"
            ],
            "image/png": "[encoded data removed]"
          },
          "metadata": {}
        },
        {
          "output_type": "stream",
          "name": "stdout",
          "text": [
            "Coefficient: 2.908\n",
            "Intercept: 4.430\n"
          ]
        }
      ]
    },
    {
      "cell_type": "markdown",
      "source": [
        "# Q20.  Create a synthetic dataset with 3 features and perform multiple linear regression. Print the model's Rsquared score and coefficients."
      ],
      "metadata": {
        "id": "Ne5gTOX0MNVB"
      }
    },
    {
      "cell_type": "code",
      "source": [
        "import numpy as np\n",
        "import pandas as pd\n",
        "from sklearn.linear_model import LinearRegression\n",
        "from sklearn.model_selection import train_test_split\n",
        "from sklearn.metrics import r2_score\n",
        "\n",
        "np.random.seed(42)\n",
        "X = np.random.rand(100, 3) * 10\n",
        "y = 5 + 2 * X[:, 0] + 3 * X[:, 1] + 1.5 * X[:, 2] + np.random.randn(100) * 2\n",
        "\n",
        "X_train, X_test, y_train, y_test = train_test_split(X, y, test_size=0.3, random_state=42)\n",
        "\n",
        "model = LinearRegression()\n",
        "model.fit(X_train, y_train)\n",
        "\n",
        "y_pred = model.predict(X_test)\n",
        "\n",
        "print(f'R-squared (R²) Score: {r2_score(y_test, y_pred):.3f}')\n",
        "print(f'Coefficients: {model.coef_}')\n",
        "print(f'Intercept: {model.intercept_:.3f}')\n"
      ],
      "metadata": {
        "colab": {
          "base_uri": "https://localhost:8080/"
        },
        "id": "A5vh8FAOMRqY",
        "outputId": "a2f179c6-e8e2-4cce-cecc-993aee49fc0a"
      },
      "execution_count": 27,
      "outputs": [
        {
          "output_type": "stream",
          "name": "stdout",
          "text": [
            "R-squared (R²) Score: 0.959\n",
            "Coefficients: [2.03411947 2.97309186 1.64219465]\n",
            "Intercept: 4.841\n"
          ]
        }
      ]
    },
    {
      "cell_type": "markdown",
      "source": [
        "# Q21. Write a Python script that demonstrates how to serialize and deserialize machine learning models using joblib instead of pickling."
      ],
      "metadata": {
        "id": "OmJxqUzvMXoZ"
      }
    },
    {
      "cell_type": "code",
      "source": [
        "import numpy as np\n",
        "from sklearn.linear_model import LinearRegression\n",
        "from sklearn.datasets import make_regression\n",
        "from sklearn.model_selection import train_test_split\n",
        "import joblib\n",
        "\n",
        "def generate_data():\n",
        "    X, y = make_regression(n_samples=1000, n_features=3, noise=0.1, random_state=42)\n",
        "    X_train, X_test, y_train, y_test = train_test_split(X, y, test_size=0.2, random_state=42)\n",
        "    return X_train, X_test, y_train, y_test\n",
        "\n",
        "def train_model(X_train, y_train):\n",
        "    model = LinearRegression()\n",
        "    model.fit(X_train, y_train)\n",
        "    return model\n",
        "\n",
        "def save_model(model, filename='model.joblib'):\n",
        "    joblib.dump(model, filename)\n",
        "    print(f\"Model saved to {filename}\")\n",
        "\n",
        "def load_model(filename='model.joblib'):\n",
        "    loaded_model = joblib.load(filename)\n",
        "    print(f\"Model loaded from {filename}\")\n",
        "    return loaded_model\n",
        "\n",
        "def evaluate_model(model, X_test, y_test):\n",
        "    score = model.score(X_test, y_test)\n",
        "    print(f\"R-squared score: {score:.4f}\")\n",
        "\n",
        "def main():\n",
        "\n",
        "    X_train, X_test, y_train, y_test = generate_data()\n",
        "\n",
        "\n",
        "    original_model = train_model(X_train, y_train)\n",
        "\n",
        "\n",
        "    print(\"Original model performance:\")\n",
        "    evaluate_model(original_model, X_test, y_test)\n",
        "\n",
        "\n",
        "    save_model(original_model)\n",
        "\n",
        "\n",
        "    loaded_model = load_model()\n",
        "\n",
        "\n",
        "    print(\"Loaded model performance:\")\n",
        "    evaluate_model(loaded_model, X_test, y_test)\n",
        "\n",
        "\n",
        "    original_preds = original_model.predict(X_test[:5])\n",
        "    loaded_preds = loaded_model.predict(X_test[:5])\n",
        "    print(\"\\nFirst 5 predictions comparison:\")\n",
        "    print(\"Original model:\", original_preds)\n",
        "    print(\"Loaded model:\", loaded_preds)\n",
        "\n",
        "if __name__ == \"__main__\":\n",
        "    main()"
      ],
      "metadata": {
        "colab": {
          "base_uri": "https://localhost:8080/"
        },
        "id": "uk12maIaMrXt",
        "outputId": "912103ba-4554-468d-bb99-0538acaf5e55"
      },
      "execution_count": 29,
      "outputs": [
        {
          "output_type": "stream",
          "name": "stdout",
          "text": [
            "Original model performance:\n",
            "R-squared score: 1.0000\n",
            "Model saved to model.joblib\n",
            "Model loaded from model.joblib\n",
            "Loaded model performance:\n",
            "R-squared score: 1.0000\n",
            "\n",
            "First 5 predictions comparison:\n",
            "Original model: [-76.43710119 111.40029066  49.20963214 179.2301135  -24.27352368]\n",
            "Loaded model: [-76.43710119 111.40029066  49.20963214 179.2301135  -24.27352368]\n"
          ]
        }
      ]
    },
    {
      "cell_type": "markdown",
      "source": [
        "# Q22. Write a Python script to perform linear regression with categorical features using one-hot encoding. Use the Seaborn 'tips' dataset."
      ],
      "metadata": {
        "id": "1R0sH4DqM1Mo"
      }
    },
    {
      "cell_type": "code",
      "source": [
        "import seaborn as sns\n",
        "import pandas as pd\n",
        "import numpy as np\n",
        "from sklearn.model_selection import train_test_split\n",
        "from sklearn.preprocessing import OneHotEncoder\n",
        "from sklearn.compose import ColumnTransformer\n",
        "from sklearn.linear_model import LinearRegression\n",
        "from sklearn.pipeline import Pipeline\n",
        "from sklearn.metrics import r2_score, mean_squared_error\n",
        "\n",
        "def load_and_prepare_data():\n",
        "    tips = sns.load_dataset('tips')\n",
        "    X = tips.drop('tip', axis=1)\n",
        "    y = tips['tip']\n",
        "    return X, y\n",
        "\n",
        "def create_preprocessor(categorical_cols):\n",
        "    preprocessor = ColumnTransformer(\n",
        "        transformers=[\n",
        "            ('cat', OneHotEncoder(drop='first', sparse_output=False), categorical_cols)\n",
        "        ],\n",
        "        remainder='passthrough'\n",
        "    )\n",
        "    return preprocessor\n",
        "\n",
        "def create_pipeline(preprocessor):\n",
        "    pipeline = Pipeline([\n",
        "        ('preprocessor', preprocessor),\n",
        "        ('regressor', LinearRegression())\n",
        "    ])\n",
        "    return pipeline\n",
        "\n",
        "def main():\n",
        "    X, y = load_and_prepare_data()\n",
        "    categorical_cols = ['sex', 'smoker', 'day', 'time']\n",
        "    X_train, X_test, y_train, y_test = train_test_split(X, y, test_size=0.2, random_state=42)\n",
        "    preprocessor = create_preprocessor(categorical_cols)\n",
        "    pipeline = create_pipeline(preprocessor)\n",
        "    pipeline.fit(X_train, y_train)\n",
        "    y_pred = pipeline.predict(X_test)\n",
        "    r2 = r2_score(y_test, y_pred)\n",
        "    rmse = np.sqrt(mean_squared_error(y_test, y_pred))\n",
        "    print(f\"R-squared score: {r2:.4f}\")\n",
        "    print(f\"Root Mean Squared Error: {rmse:.4f}\")\n",
        "    feature_names = preprocessor.named_transformers_['cat'].get_feature_names_out(categorical_cols)\n",
        "    remainder_cols = [col for col in X.columns if col not in categorical_cols]\n",
        "    all_feature_names = np.concatenate([feature_names, remainder_cols])\n",
        "    coefficients = pipeline.named_steps['regressor'].coef_\n",
        "    print(\"\\nFeature Coefficients:\")\n",
        "    for name, coef in zip(all_feature_names, coefficients):\n",
        "        print(f\"{name}: {coef:.4f}\")\n",
        "    intercept = pipeline.named_steps['regressor'].intercept_\n",
        "    print(f\"\\nIntercept: {intercept:.4f}\")\n",
        "\n",
        "if __name__ == \"__main__\":\n",
        "    main()"
      ],
      "metadata": {
        "colab": {
          "base_uri": "https://localhost:8080/"
        },
        "id": "RYUVWiFxM6vC",
        "outputId": "5fbf56d3-d902-4826-e02f-7251a62f49fc"
      },
      "execution_count": 30,
      "outputs": [
        {
          "output_type": "stream",
          "name": "stdout",
          "text": [
            "R-squared score: 0.4373\n",
            "Root Mean Squared Error: 0.8387\n",
            "\n",
            "Feature Coefficients:\n",
            "sex_Male: 0.0288\n",
            "smoker_Yes: -0.1924\n",
            "day_Sat: -0.1858\n",
            "day_Sun: -0.0508\n",
            "day_Thur: -0.1797\n",
            "time_Lunch: 0.0950\n",
            "total_bill: 0.0947\n",
            "size: 0.2335\n",
            "\n",
            "Intercept: 0.7274\n"
          ]
        }
      ]
    },
    {
      "cell_type": "markdown",
      "source": [
        "# Q23. Compare Ridge Regression with Linear Regression on a synthetic dataset and print the coefficients and Rsquared score."
      ],
      "metadata": {
        "id": "FXaFK1egNHPj"
      }
    },
    {
      "cell_type": "code",
      "source": [
        "import numpy as np\n",
        "from sklearn.datasets import make_regression\n",
        "from sklearn.model_selection import train_test_split\n",
        "from sklearn.linear_model import LinearRegression, Ridge\n",
        "from sklearn.metrics import r2_score\n",
        "\n",
        "def generate_data():\n",
        "    X, y = make_regression(n_samples=1000, n_features=4, noise=10, random_state=42)\n",
        "    X_train, X_test, y_train, y_test = train_test_split(X, y, test_size=0.2, random_state=42)\n",
        "    return X_train, X_test, y_train, y_test\n",
        "\n",
        "def train_linear_regression(X_train, y_train):\n",
        "    model = LinearRegression()\n",
        "    model.fit(X_train, y_train)\n",
        "    return model\n",
        "\n",
        "def train_ridge_regression(X_train, y_train, alpha=1.0):\n",
        "    model = Ridge(alpha=alpha)\n",
        "    model.fit(X_train, y_train)\n",
        "    return model\n",
        "\n",
        "def evaluate_model(model, X_test, y_test):\n",
        "    y_pred = model.predict(X_test)\n",
        "    r2 = r2_score(y_test, y_pred)\n",
        "    return r2\n",
        "\n",
        "def print_results(model, model_name, r2, feature_names):\n",
        "    print(f\"\\n{model_name} Results:\")\n",
        "    print(f\"R-squared score: {r2:.4f}\")\n",
        "    print(\"Coefficients:\")\n",
        "    for name, coef in zip(feature_names, model.coef_):\n",
        "        print(f\"{name}: {coef:.4f}\")\n",
        "    print(f\"Intercept: {model.intercept_:.4f}\")\n",
        "\n",
        "def main():\n",
        "    X_train, X_test, y_train, y_test = generate_data()\n",
        "    feature_names = [f\"Feature_{i+1}\" for i in range(X_train.shape[1])]\n",
        "\n",
        "    linear_model = train_linear_regression(X_train, y_train)\n",
        "    linear_r2 = evaluate_model(linear_model, X_test, y_test)\n",
        "\n",
        "    ridge_model = train_ridge_regression(X_train, y_train)\n",
        "    ridge_r2 = evaluate_model(ridge_model, X_test, y_test)\n",
        "\n",
        "    print_results(linear_model, \"Linear Regression\", linear_r2, feature_names)\n",
        "    print_results(ridge_model, \"Ridge Regression\", ridge_r2, feature_names)\n",
        "\n",
        "if __name__ == \"__main__\":\n",
        "    main()"
      ],
      "metadata": {
        "colab": {
          "base_uri": "https://localhost:8080/"
        },
        "id": "HlNFjRigNcFz",
        "outputId": "e8487e2b-eb2d-45d7-b602-a3732eac1424"
      },
      "execution_count": 32,
      "outputs": [
        {
          "output_type": "stream",
          "name": "stdout",
          "text": [
            "\n",
            "Linear Regression Results:\n",
            "R-squared score: 0.9915\n",
            "Coefficients:\n",
            "Feature_1: 51.6116\n",
            "Feature_2: 8.4482\n",
            "Feature_3: 97.2916\n",
            "Feature_4: 48.3483\n",
            "Intercept: -0.6907\n",
            "\n",
            "Ridge Regression Results:\n",
            "R-squared score: 0.9915\n",
            "Coefficients:\n",
            "Feature_1: 51.5529\n",
            "Feature_2: 8.4368\n",
            "Feature_3: 97.1745\n",
            "Feature_4: 48.2777\n",
            "Intercept: -0.6860\n"
          ]
        }
      ]
    },
    {
      "cell_type": "markdown",
      "source": [
        "# Q24. Write a Python script that uses cross-validation to evaluate a Linear Regression model on a synthetic dataset."
      ],
      "metadata": {
        "id": "DeYdx68eNVW8"
      }
    },
    {
      "cell_type": "code",
      "source": [
        "import numpy as np\n",
        "from sklearn.datasets import make_regression\n",
        "from sklearn.linear_model import LinearRegression\n",
        "from sklearn.model_selection import cross_val_score, KFold\n",
        "\n",
        "def generate_data():\n",
        "    X, y = make_regression(n_samples=1000, n_features=5, noise=15, random_state=42)\n",
        "    return X, y\n",
        "\n",
        "def perform_cross_validation(X, y, n_folds=5):\n",
        "    model = LinearRegression()\n",
        "    kf = KFold(n_splits=n_folds, shuffle=True, random_state=42)\n",
        "    scores = cross_val_score(model, X, y, cv=kf, scoring='r2')\n",
        "    return scores\n",
        "\n",
        "def main():\n",
        "    X, y = generate_data()\n",
        "    cv_scores = perform_cross_validation(X, y)\n",
        "\n",
        "    print(f\"Cross-Validation Results ({len(cv_scores)}-fold):\")\n",
        "    print(f\"Individual R² scores: {cv_scores}\")\n",
        "    print(f\"Mean R² score: {np.mean(cv_scores):.4f}\")\n",
        "    print(f\"Standard deviation: {np.std(cv_scores):.4f}\")\n",
        "    print(f\"95% Confidence Interval: {np.mean(cv_scores) - 1.96 * np.std(cv_scores):.4f} to \"\n",
        "          f\"{np.mean(cv_scores) + 1.96 * np.std(cv_scores):.4f}\")\n",
        "\n",
        "if __name__ == \"__main__\":\n",
        "    main()"
      ],
      "metadata": {
        "colab": {
          "base_uri": "https://localhost:8080/"
        },
        "id": "kGShW2CCOxbR",
        "outputId": "512a0a75-08ee-4313-e1db-305368649cd6"
      },
      "execution_count": 33,
      "outputs": [
        {
          "output_type": "stream",
          "name": "stdout",
          "text": [
            "Cross-Validation Results (5-fold):\n",
            "Individual R² scores: [0.93737232 0.94451228 0.9453228  0.94662937 0.94710768]\n",
            "Mean R² score: 0.9442\n",
            "Standard deviation: 0.0035\n",
            "95% Confidence Interval: 0.9373 to 0.9511\n"
          ]
        }
      ]
    },
    {
      "cell_type": "markdown",
      "source": [
        "# Q25.  Write a Python script that compares polynomial regression models of different degrees and prints the Rsquared score for each."
      ],
      "metadata": {
        "id": "0cEGceOjO5if"
      }
    },
    {
      "cell_type": "code",
      "source": [
        "import numpy as np\n",
        "from sklearn.datasets import make_regression\n",
        "from sklearn.model_selection import train_test_split\n",
        "from sklearn.preprocessing import PolynomialFeatures\n",
        "from sklearn.linear_model import LinearRegression\n",
        "from sklearn.pipeline import make_pipeline\n",
        "from sklearn.metrics import r2_score\n",
        "\n",
        "def generate_data():\n",
        "    np.random.seed(42)\n",
        "    X = np.random.uniform(-3, 3, 100).reshape(-1, 1)\n",
        "    y = 2 * X**3 - X**2 + 0.5 * X + 1 + np.random.normal(0, 2, (100, 1))\n",
        "    X_train, X_test, y_train, y_test = train_test_split(X, y, test_size=0.2, random_state=42)\n",
        "    return X_train, X_test, y_train.ravel(), y_test.ravel()\n",
        "\n",
        "def train_polynomial_model(X_train, y_train, degree):\n",
        "    model = make_pipeline(\n",
        "        PolynomialFeatures(degree),\n",
        "        LinearRegression()\n",
        "    )\n",
        "    model.fit(X_train, y_train)\n",
        "    return model\n",
        "\n",
        "def evaluate_model(model, X_test, y_test):\n",
        "    y_pred = model.predict(X_test)\n",
        "    return r2_score(y_test, y_pred)\n",
        "\n",
        "def main():\n",
        "    X_train, X_test, y_train, y_test = generate_data()\n",
        "    degrees = [1, 2, 3, 4, 5]\n",
        "\n",
        "    print(\"R-squared scores for different polynomial degrees:\")\n",
        "    for degree in degrees:\n",
        "        model = train_polynomial_model(X_train, y_train, degree)\n",
        "        r2 = evaluate_model(model, X_test, y_test)\n",
        "        print(f\"Degree {degree}: {r2:.4f}\")\n",
        "\n",
        "if __name__ == \"__main__\":\n",
        "    main()"
      ],
      "metadata": {
        "colab": {
          "base_uri": "https://localhost:8080/"
        },
        "id": "2O8U-nVsO9mV",
        "outputId": "8d9d9bac-0510-4021-a4c4-72830b58f098"
      },
      "execution_count": 34,
      "outputs": [
        {
          "output_type": "stream",
          "name": "stdout",
          "text": [
            "R-squared scores for different polynomial degrees:\n",
            "Degree 1: 0.8495\n",
            "Degree 2: 0.8797\n",
            "Degree 3: 0.9949\n",
            "Degree 4: 0.9945\n",
            "Degree 5: 0.9945\n"
          ]
        }
      ]
    }
  ]
}