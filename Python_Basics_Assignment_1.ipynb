{
  "nbformat": 4,
  "nbformat_minor": 0,
  "metadata": {
    "colab": {
      "provenance": []
    },
    "kernelspec": {
      "name": "python3",
      "display_name": "Python 3"
    },
    "language_info": {
      "name": "python"
    }
  },
  "cells": [
    {
      "cell_type": "markdown",
      "source": [
        "#Python Basics Questions\n",
        "\n",
        "---\n",
        "\n"
      ],
      "metadata": {
        "id": "IoaK6AhW0c8t"
      }
    },
    {
      "cell_type": "markdown",
      "source": [
        "## Q.1: What is Python, and why is it popular?\n",
        "### Ans. Python is a high-level, interpreted programming language that emphasizes readability and simplicity. Developed by Guido van Rossum and first released in 1991, Python has evolved into one of the most widely used programming languages globally. Its design philosophy prioritizes code clarity, allowing developers to express concepts in fewer lines of code compared to languages like C++ or Java.\n",
        "\n",
        "###Its popularity stems from several key features:\n",
        "- Beginner-Friendly: Python's clear syntax resembles English, making it accessible for newcomers.\n",
        "-Versatility: It supports various applications, including web development, data science, and automation.\n",
        "-Rapid Development: Python allows for quick prototyping and debugging due to its interpreted nature, which speeds up the edit-test-debug cycle.\n",
        "-Cross-Platform Compatibility: It runs on multiple operating systems, enhancing its usability.\n",
        "-Rich Libraries: Python has extensive libraries and frameworks that facilitate diverse programming tasks."
      ],
      "metadata": {
        "id": "twMsz9ih0oX7"
      }
    },
    {
      "cell_type": "markdown",
      "source": [
        "# Q2. What is an interpreter in Python?\n",
        "### Ans. A Python interpreter is a crucial component of the Python programming environment that executes Python code by converting it into machine-readable instructions. Unlike compilers, which translate the entire source code into machine code before execution, interpreters process the code line by line, allowing for immediate execution and feedback."
      ],
      "metadata": {
        "id": "s0gQSbqAMPJe"
      }
    },
    {
      "cell_type": "markdown",
      "source": [
        "# Q3. What are pre-defined keywords in Python?\n",
        "## Ans. In Python, pre-defined keywords are reserved words that have specific meanings and functions within the language. These keywords cannot be used as identifiers, such as variable names or function names, because they are integral to the syntax and structure of Python programming.\n",
        "### List of Python Keywords\n",
        "As of Python 3.11, there are 35 keywords in total. Here’s a list of these keywords:\n",
        "- Boolean Values: False, None, True\n",
        "- Control Flow: if, elif, else, for, while, break, continue, return\n",
        "- Functions and Classes: def, class, lambda\n",
        "- Exception Handling: try, except, finally, raise, assert\n",
        "- Importing Modules: import, from, as\n",
        "- Logical Operators: and, or, not, in, is\n",
        "- Variable Scope: global, nonlocal\n",
        "- Context Management: with\n",
        "- Coroutines: async, await\n",
        "- Miscellaneous: pass, del, yield"
      ],
      "metadata": {
        "id": "drLjer_YMuYP"
      }
    },
    {
      "cell_type": "markdown",
      "source": [
        "#Q4. Can keywords be used as variable names?\n",
        "## Ans. In Python, keywords cannot be used as variable names. Keywords are reserved words that have specific meanings and functions within the language, and they are integral to Python's syntax. Attempting to use a keyword as a variable name will result in a syntax error.\n"
      ],
      "metadata": {
        "id": "ox289nbgNZ2d"
      }
    },
    {
      "cell_type": "markdown",
      "source": [
        "#Q5. What is mutability in Python?\n",
        "## Ans. Mutability in Python refers to the ability of an object to be changed after it has been created. This concept is fundamental in Python, as it influences how data types behave and how they can be manipulated throughout a program."
      ],
      "metadata": {
        "id": "ELDu_fMdN-Dq"
      }
    },
    {
      "cell_type": "markdown",
      "source": [
        "# Q6. Why are lists mutable, but tuples are immutable?\n",
        "## Ans. Lists\n",
        "### Definition: Lists are collections that can be modified after their creation. This means you can change, add, or remove elements at any time.\n",
        "- Use Cases: Lists are ideal for scenarios where data needs to change frequently, such as maintaining a dynamic collection of items.\n",
        "\n",
        "## Tuples\n",
        "### Definition: Tuples are fixed collections that cannot be altered once created. This means you cannot change their contents or size after they are defined.\n",
        "- Use Cases: Tuples are suitable for situations where data integrity is crucial and should remain constant throughout the program."
      ],
      "metadata": {
        "id": "YTslPX9YOVqZ"
      }
    },
    {
      "cell_type": "markdown",
      "source": [
        "#Q7. What is the difference between “==” and “is” operators in Python?\n",
        "## Ans. == Operator (Equality Operator)\n",
        "- Purpose: The == operator checks for value equality. It evaluates to True if the values of the two objects are the same, regardless of whether they are the same object in memory.\n",
        "- Usage: This operator is typically used when you want to compare the contents or values of two objects.\n",
        "## is Operator (Identity Operator)\n",
        "- Purpose: The is operator checks for identity. It evaluates to True if both variables point to the exact same object in memory.\n",
        "- Usage: This operator is used when you need to determine if two references point to the same object, not just equal values."
      ],
      "metadata": {
        "id": "Te4L9nWnPceE"
      }
    },
    {
      "cell_type": "markdown",
      "source": [
        "#Q8: What are logical operators in Python?\n",
        "## Ans. In Python, logical operators are fundamental for evaluating boolean expressions and controlling the flow of a program based on multiple conditions. There are three primary logical operators: AND, OR, and NOT.\n",
        "### Logical Operators\n",
        "#### AND Operator (and)\n",
        "-The and operator returns True only if both operands are True. If either operand is False, it returns False.\n",
        "\n",
        "#### OR Operator (or)\n",
        "- The or operator returns True if at least one of the operands is True. It only returns False if both operands are False.\n",
        "\n",
        "#### NOT Operator (not)\n",
        "- The not operator inverts the boolean value of its operand. If the operand is True, it returns False, and vice versa."
      ],
      "metadata": {
        "id": "csE2Po0kQK0T"
      }
    },
    {
      "cell_type": "markdown",
      "source": [
        "#Q9.  What is type casting in Python?\n",
        "## Ans. Type casting in Python refers to the process of converting a variable from one data type to another. This is essential when you need to perform operations that require specific data types, such as arithmetic operations or string manipulations. Python supports two main types of type casting: implicit and explicit."
      ],
      "metadata": {
        "id": "3X35s08sRl2p"
      }
    },
    {
      "cell_type": "markdown",
      "source": [
        "#Q10. What is the difference between implicit and explicit type casting?\n",
        "##Ans.\n",
        "###Implicit Type Casting: Implicit type casting, also known as coercion, occurs when Python automatically converts one data type into another without explicit instruction from the programmer. This typically happens in expressions involving mixed data types.\n",
        "###Explicit Type Casting: Explicit type casting requires the programmer to specify the conversion using built-in functions. This is done when you want to convert a data type intentionally."
      ],
      "metadata": {
        "id": "c5GWH9H8SPzz"
      }
    },
    {
      "cell_type": "markdown",
      "source": [
        "#Q11. What is the purpose of conditional statements in Python?\n",
        "## Ans. Conditional statements in Python are crucial programming constructs that enable decision-making within a program. They allow the execution of specific blocks of code based on whether certain conditions evaluate to true or false. The primary purpose of these statements is to control the flow of execution, enabling more dynamic and responsive applications."
      ],
      "metadata": {
        "id": "WxNa_EYsSuPr"
      }
    },
    {
      "cell_type": "markdown",
      "source": [
        "#Q12. How does the elif statement work?\n",
        "## Ans. The elif statement in Python is a key component of conditional statements that allows for multiple conditions to be evaluated in a structured manner. It stands for \"else if\" and is used to check additional conditions after an initial if statement.\n",
        "### How elif Works\n",
        "Basic Structure: The elif statement follows an if statement and can be followed by an else statement. The syntax is as follows:\n",
        "\n",
        "if condition1:\n",
        "    # Execute this block if condition1 is true\n",
        "elif condition2:\n",
        "    # Execute this block if condition2 is true\n",
        "elif condition3:\n",
        "    # Execute this block if condition3 is true\n",
        "else:\n",
        "    # Execute this block if all previous conditions are false"
      ],
      "metadata": {
        "id": "KW6ZSPUfTHtn"
      }
    },
    {
      "cell_type": "markdown",
      "source": [
        "#Q13. What is the difference between for and while loops?\n",
        "## Ans. For Loop:\n",
        "A for loop is specifically designed to iterate over a sequence (like a list, tuple, string, or range). It executes a block of code for each item in the sequence.\n",
        "- Example:\n",
        "for i in range(5):\n",
        "\n",
        "    print(i)\n",
        "\n",
        "This loop will print numbers from 0 to 4.\n",
        "## While Loop:\n",
        "A while loop repeatedly executes a block of code as long as a specified condition is true. It is used when the number of iterations is not known beforehand.\n",
        "- Example:\n",
        "\n",
        "count = 0\n",
        "\n",
        "while count < 5:\n",
        "\n",
        "    print(count)\n",
        "    count += 1\n",
        "\n",
        "This loop will also print numbers from 0 to 4, but it continues until the condition count < 5 becomes false."
      ],
      "metadata": {
        "id": "RBUI8qNMThB-"
      }
    },
    {
      "cell_type": "markdown",
      "source": [
        "#Q14.  Describe a scenario where a while loop is more suitable than a for loop?\n",
        "## Ans. When prompting a user for input, a while loop is ideal because the number of attempts cannot be predetermined. For example, if you want to ask a user to enter a valid number between 1 and 10, you can use a while loop to keep asking until they provide an acceptable input:\n",
        "\n",
        "\n",
        "value = int(input(\"Enter a number between 1 and 10: \"))\n",
        "\n",
        "while value < 1 or value > 10:\n",
        "\n",
        "    print(\"Invalid input. Please try again.\")\n",
        "    value = int(input(\"Enter a number between 1 and 10: \"))\n",
        "\n",
        "- In this case, the loop continues until the user enters a valid number, which could take an unknown number of attempts"
      ],
      "metadata": {
        "id": "V1BrzX0EUpxb"
      }
    },
    {
      "cell_type": "markdown",
      "source": [
        "#Practical Questions\n",
        "\n",
        "---\n",
        "\n"
      ],
      "metadata": {
        "id": "wzmptqtr0P3q"
      }
    },
    {
      "cell_type": "markdown",
      "source": [
        "# Q.1: Write a Python program to print \"Hello, World!."
      ],
      "metadata": {
        "id": "OJrRPVh2HG_b"
      }
    },
    {
      "cell_type": "code",
      "source": [
        "print(\"Hello, World!\")"
      ],
      "metadata": {
        "colab": {
          "base_uri": "https://localhost:8080/"
        },
        "id": "8nmqz6nGHM_i",
        "outputId": "b6cb9d1d-e918-4b79-ed01-d37473ab5673"
      },
      "execution_count": 4,
      "outputs": [
        {
          "output_type": "stream",
          "name": "stdout",
          "text": [
            "Hello, World!\n"
          ]
        }
      ]
    },
    {
      "cell_type": "markdown",
      "source": [
        "# Q.2: Write a Python program that displays your name and age."
      ],
      "metadata": {
        "id": "70Dy8OEDIGQZ"
      }
    },
    {
      "cell_type": "code",
      "source": [
        "name = \"Nitin Kumar Singh\"\n",
        "age = 28\n",
        "print(\"Name:\", name)\n",
        "print(\"Age:\", age)"
      ],
      "metadata": {
        "colab": {
          "base_uri": "https://localhost:8080/"
        },
        "id": "NERGnaCUIXE6",
        "outputId": "255328d4-a34b-4285-ce16-ea193497d63f"
      },
      "execution_count": 3,
      "outputs": [
        {
          "output_type": "stream",
          "name": "stdout",
          "text": [
            "Name: Nitin Kumar Singh\n",
            "Age: 28\n"
          ]
        }
      ]
    },
    {
      "cell_type": "markdown",
      "source": [
        "# Q.3: Write code to print all the pre-defined keywords in Python using the keyword library."
      ],
      "metadata": {
        "id": "7KmqDAO7Ip9n"
      }
    },
    {
      "cell_type": "code",
      "source": [
        "import keyword\n",
        "\n",
        "print(\"List of Python keywords:\")\n",
        "for kw in keyword.kwlist:\n",
        "    print(kw)"
      ],
      "metadata": {
        "colab": {
          "base_uri": "https://localhost:8080/"
        },
        "id": "-e6QDMIcIztu",
        "outputId": "21d04597-4e95-46ba-c6af-95bbd0c04264"
      },
      "execution_count": 5,
      "outputs": [
        {
          "output_type": "stream",
          "name": "stdout",
          "text": [
            "List of Python keywords:\n",
            "False\n",
            "None\n",
            "True\n",
            "and\n",
            "as\n",
            "assert\n",
            "async\n",
            "await\n",
            "break\n",
            "class\n",
            "continue\n",
            "def\n",
            "del\n",
            "elif\n",
            "else\n",
            "except\n",
            "finally\n",
            "for\n",
            "from\n",
            "global\n",
            "if\n",
            "import\n",
            "in\n",
            "is\n",
            "lambda\n",
            "nonlocal\n",
            "not\n",
            "or\n",
            "pass\n",
            "raise\n",
            "return\n",
            "try\n",
            "while\n",
            "with\n",
            "yield\n"
          ]
        }
      ]
    },
    {
      "cell_type": "markdown",
      "source": [
        "# Q.4:  Write a program that checks if a given word is a Python keyword."
      ],
      "metadata": {
        "id": "i86wAbaIJSjT"
      }
    },
    {
      "cell_type": "code",
      "source": [
        "import keyword\n",
        "word = input(\"Enter a word to check if it is a Python keyword: \")\n",
        "if keyword.iskeyword(word):\n",
        "    print(f\"'{word}' is a Python keyword.\")\n",
        "else:\n",
        "    print(f\"'{word}' is not a Python keyword.\")"
      ],
      "metadata": {
        "colab": {
          "base_uri": "https://localhost:8080/"
        },
        "id": "RbgsTiKHJuju",
        "outputId": "0f98690d-5d1e-4e01-f243-022ffc6a7f7d"
      },
      "execution_count": 8,
      "outputs": [
        {
          "output_type": "stream",
          "name": "stdout",
          "text": [
            "Enter a word to check if it is a Python keyword: class\n",
            "'class' is a Python keyword.\n"
          ]
        }
      ]
    },
    {
      "cell_type": "markdown",
      "source": [
        "# Q.5: Create a list and tuple in Python, and demonstrate how attempting to change an element works differently for each."
      ],
      "metadata": {
        "id": "IUfgGh2MKRii"
      }
    },
    {
      "cell_type": "code",
      "source": [
        "my_list = [\"apple\", \"banana\", \"cherry\"]\n",
        "my_tuple = (\"orange\", \"mango\", \"grape\")\n",
        "print(\"Original list:\", my_list)\n",
        "my_list[1] = \"kiwi\"\n",
        "print(\"Modified list:\", my_list)\n",
        "print(\"Original tuple:\", my_tuple)\n",
        "try:\n",
        "    my_tuple[1] = \"pineapple\"\n",
        "except TypeError as e:\n",
        "    print(\"Error:\", e)"
      ],
      "metadata": {
        "colab": {
          "base_uri": "https://localhost:8080/"
        },
        "id": "PGR7nuI2LRHJ",
        "outputId": "38465032-b59a-4d2e-b1f3-cec03047a866"
      },
      "execution_count": 9,
      "outputs": [
        {
          "output_type": "stream",
          "name": "stdout",
          "text": [
            "Original list: ['apple', 'banana', 'cherry']\n",
            "Modified list: ['apple', 'kiwi', 'cherry']\n",
            "Original tuple: ('orange', 'mango', 'grape')\n",
            "Error: 'tuple' object does not support item assignment\n"
          ]
        }
      ]
    },
    {
      "cell_type": "markdown",
      "source": [
        "# Q.6: Write a function to demonstrate the behavior of mutable and immutable arguments."
      ],
      "metadata": {
        "id": "DLB5s4soLjje"
      }
    },
    {
      "cell_type": "code",
      "source": [
        "# List are mutable\n",
        "\n",
        "l= [2,4,6,\"Nitin\",4+6j]\n",
        "l[1]= 100000\n",
        "l"
      ],
      "metadata": {
        "colab": {
          "base_uri": "https://localhost:8080/"
        },
        "id": "NhFZz4koNjxw",
        "outputId": "95b68d5d-b338-4be8-abf5-7d0300930499"
      },
      "execution_count": 16,
      "outputs": [
        {
          "output_type": "execute_result",
          "data": {
            "text/plain": [
              "[2, 100000, 6, 'Nitin', (4+6j)]"
            ]
          },
          "metadata": {},
          "execution_count": 16
        }
      ]
    },
    {
      "cell_type": "code",
      "source": [
        "# strings are immutable\n",
        "message = \"Welcome to PWskills\"\n",
        "message[0] = 'p'\n",
        "print(message)"
      ],
      "metadata": {
        "colab": {
          "base_uri": "https://localhost:8080/",
          "height": 198
        },
        "id": "cq9n_hpTQUni",
        "outputId": "7d5a5dc4-67f0-4526-be90-a97ba47c45d5"
      },
      "execution_count": 17,
      "outputs": [
        {
          "output_type": "error",
          "ename": "TypeError",
          "evalue": "'str' object does not support item assignment",
          "traceback": [
            "\u001b[0;31m---------------------------------------------------------------------------\u001b[0m",
            "\u001b[0;31mTypeError\u001b[0m                                 Traceback (most recent call last)",
            "\u001b[0;32m<ipython-input-17-be86aa427750>\u001b[0m in \u001b[0;36m<cell line: 3>\u001b[0;34m()\u001b[0m\n\u001b[1;32m      1\u001b[0m \u001b[0;31m# strings are immutable\u001b[0m\u001b[0;34m\u001b[0m\u001b[0;34m\u001b[0m\u001b[0m\n\u001b[1;32m      2\u001b[0m \u001b[0mmessage\u001b[0m \u001b[0;34m=\u001b[0m \u001b[0;34m\"Welcome to PWskills\"\u001b[0m\u001b[0;34m\u001b[0m\u001b[0;34m\u001b[0m\u001b[0m\n\u001b[0;32m----> 3\u001b[0;31m \u001b[0mmessage\u001b[0m\u001b[0;34m[\u001b[0m\u001b[0;36m0\u001b[0m\u001b[0;34m]\u001b[0m \u001b[0;34m=\u001b[0m \u001b[0;34m'p'\u001b[0m\u001b[0;34m\u001b[0m\u001b[0;34m\u001b[0m\u001b[0m\n\u001b[0m\u001b[1;32m      4\u001b[0m \u001b[0mprint\u001b[0m\u001b[0;34m(\u001b[0m\u001b[0mmessage\u001b[0m\u001b[0;34m)\u001b[0m\u001b[0;34m\u001b[0m\u001b[0;34m\u001b[0m\u001b[0m\n",
            "\u001b[0;31mTypeError\u001b[0m: 'str' object does not support item assignment"
          ]
        }
      ]
    },
    {
      "cell_type": "markdown",
      "source": [
        "# Q7. Write a function to demonstrate the behavior of mutable and immutable arguments."
      ],
      "metadata": {
        "id": "BGlPALnvQpuO"
      }
    },
    {
      "cell_type": "code",
      "source": [
        "#List is a mutable data type\n",
        "list = ['Python', 'Nitin', 23, True, 5.3]\n",
        "print(\"The original list: \", list)\n",
        "list[2]='changed'\n",
        "print(\"The modified list: \", list)"
      ],
      "metadata": {
        "colab": {
          "base_uri": "https://localhost:8080/"
        },
        "id": "ai46Ar-XVQSX",
        "outputId": "98edd3a5-b2e9-434b-aef6-fa8e9efb31b8"
      },
      "execution_count": 19,
      "outputs": [
        {
          "output_type": "stream",
          "name": "stdout",
          "text": [
            "The original list:  ['Python', 'Nitin', 23, True, 5.3]\n",
            "The modified list:  ['Python', 'Nitin', 'changed', True, 5.3]\n"
          ]
        }
      ]
    },
    {
      "cell_type": "code",
      "source": [
        "# String is an immutable data type\n",
        "string = 'hello world'\n",
        "string[0] = 'N'\n",
        "print(string)"
      ],
      "metadata": {
        "colab": {
          "base_uri": "https://localhost:8080/",
          "height": 198
        },
        "id": "aw5vgv14Vs_X",
        "outputId": "8efc4158-eae0-4125-9616-e74c97b00738"
      },
      "execution_count": 20,
      "outputs": [
        {
          "output_type": "error",
          "ename": "TypeError",
          "evalue": "'str' object does not support item assignment",
          "traceback": [
            "\u001b[0;31m---------------------------------------------------------------------------\u001b[0m",
            "\u001b[0;31mTypeError\u001b[0m                                 Traceback (most recent call last)",
            "\u001b[0;32m<ipython-input-20-93ac5ad08e98>\u001b[0m in \u001b[0;36m<cell line: 3>\u001b[0;34m()\u001b[0m\n\u001b[1;32m      1\u001b[0m \u001b[0;31m# String is an immutable data type\u001b[0m\u001b[0;34m\u001b[0m\u001b[0;34m\u001b[0m\u001b[0m\n\u001b[1;32m      2\u001b[0m \u001b[0mstring\u001b[0m \u001b[0;34m=\u001b[0m \u001b[0;34m'hello world'\u001b[0m\u001b[0;34m\u001b[0m\u001b[0;34m\u001b[0m\u001b[0m\n\u001b[0;32m----> 3\u001b[0;31m \u001b[0mstring\u001b[0m\u001b[0;34m[\u001b[0m\u001b[0;36m0\u001b[0m\u001b[0;34m]\u001b[0m \u001b[0;34m=\u001b[0m \u001b[0;34m'N'\u001b[0m\u001b[0;34m\u001b[0m\u001b[0;34m\u001b[0m\u001b[0m\n\u001b[0m\u001b[1;32m      4\u001b[0m \u001b[0mprint\u001b[0m\u001b[0;34m(\u001b[0m\u001b[0mstring\u001b[0m\u001b[0;34m)\u001b[0m\u001b[0;34m\u001b[0m\u001b[0;34m\u001b[0m\u001b[0m\n",
            "\u001b[0;31mTypeError\u001b[0m: 'str' object does not support item assignment"
          ]
        }
      ]
    },
    {
      "cell_type": "markdown",
      "source": [
        "#Q8. Write a program to demonstrate the use of logical operators."
      ],
      "metadata": {
        "id": "j70gi-9TWCVa"
      }
    },
    {
      "cell_type": "code",
      "source": [
        "x = 10\n",
        "y = 5\n",
        "if x > 5 and y < 10:\n",
        "    print(\"Both conditions are true\")\n",
        "if x > 15 or y < 10:\n",
        "    print(\"At least one condition is true\")\n",
        "if not x == y:\n",
        "    print(\"x is not equal to y\")"
      ],
      "metadata": {
        "colab": {
          "base_uri": "https://localhost:8080/"
        },
        "id": "oKnuK5eGWcW9",
        "outputId": "b078ac50-c745-45c3-8769-a9dd5664136a"
      },
      "execution_count": 21,
      "outputs": [
        {
          "output_type": "stream",
          "name": "stdout",
          "text": [
            "Both conditions are true\n",
            "At least one condition is true\n",
            "x is not equal to y\n"
          ]
        }
      ]
    },
    {
      "cell_type": "markdown",
      "source": [
        "# Q.9: Write a Python program to convert user input from string to integer, float, and boolean types."
      ],
      "metadata": {
        "id": "Q5vRypHsWzBl"
      }
    },
    {
      "cell_type": "code",
      "source": [
        "user_input = input(\"Enter a value: \")\n",
        "if user_input.isdigit():\n",
        "    int_value = int(user_input)\n",
        "    print(\"Integer conversion:\", int_value)\n",
        "else:\n",
        "    print(\"Cannot convert to an integer.\")\n",
        "try:\n",
        "    float_value = float(user_input)\n",
        "    print(\"Float conversion:\", float_value)\n",
        "except ValueError:\n",
        "    print(\"Cannot convert to a float.\")\n",
        "bool_value = bool(user_input.strip())\n",
        "print(\"Boolean conversion:\", bool_value)"
      ],
      "metadata": {
        "colab": {
          "base_uri": "https://localhost:8080/"
        },
        "id": "zPELryG2XJva",
        "outputId": "b9784399-189d-46e5-f3de-007bc75e2add"
      },
      "execution_count": 27,
      "outputs": [
        {
          "output_type": "stream",
          "name": "stdout",
          "text": [
            "Enter a value: 1\n",
            "Integer conversion: 1\n",
            "Float conversion: 1.0\n",
            "Boolean conversion: True\n"
          ]
        }
      ]
    },
    {
      "cell_type": "markdown",
      "source": [
        "# Q.10. Write code to demonstrate type casting with list elements."
      ],
      "metadata": {
        "id": "0O2UqMU2a0mr"
      }
    },
    {
      "cell_type": "code",
      "source": [
        "# Type Casting\n",
        "a = 5\n",
        "\n",
        "# typecast to float\n",
        "n = float(a)\n",
        "\n",
        "print(n)\n",
        "print(type(n))\n",
        "\n",
        "a = 5.9\n",
        "\n",
        "# Typecast to int\n",
        "n = int(a)\n",
        "\n",
        "print(n)\n",
        "print(type(n))\n",
        "\n",
        "a = 5\n",
        "\n",
        "# typecast to str\n",
        "n = str(a)\n",
        "\n",
        "print(n)\n",
        "print(type(n))\n",
        "\n"
      ],
      "metadata": {
        "colab": {
          "base_uri": "https://localhost:8080/"
        },
        "id": "VRwpKhXJa_Iq",
        "outputId": "1aefdbd4-961b-4c58-c48b-dbfb5d5ae583"
      },
      "execution_count": 29,
      "outputs": [
        {
          "output_type": "stream",
          "name": "stdout",
          "text": [
            "5.0\n",
            "<class 'float'>\n",
            "5\n",
            "<class 'int'>\n",
            "5\n",
            "<class 'str'>\n"
          ]
        }
      ]
    },
    {
      "cell_type": "markdown",
      "source": [
        "# Q.11. Write a program that checks if a number is positive, negative, or zero."
      ],
      "metadata": {
        "id": "eLjnOtVwrnHP"
      }
    },
    {
      "cell_type": "code",
      "source": [
        "number = int(input(\"Enter a number: \"))\n",
        "if number > 0:\n",
        "    print(\"The number is positive.\")\n",
        "elif number < 0:\n",
        "    print(\"The number is negative.\")\n",
        "else:\n",
        "    print(\"The number is zero.\")"
      ],
      "metadata": {
        "colab": {
          "base_uri": "https://localhost:8080/"
        },
        "id": "ssnZgFgWr4Y_",
        "outputId": "8ee6a12a-2d3a-4e02-b73b-0427f91c08c2"
      },
      "execution_count": 33,
      "outputs": [
        {
          "output_type": "stream",
          "name": "stdout",
          "text": [
            "Enter a number: 5\n",
            "The number is positive.\n"
          ]
        }
      ]
    },
    {
      "cell_type": "markdown",
      "source": [
        "# Q.12: Write a for loop to print numbers from 1 to 10."
      ],
      "metadata": {
        "id": "rBoB3JkFscuw"
      }
    },
    {
      "cell_type": "code",
      "source": [
        "for i in range(1, 11):\n",
        "    print(i)"
      ],
      "metadata": {
        "colab": {
          "base_uri": "https://localhost:8080/"
        },
        "id": "--jRXCIWsptO",
        "outputId": "3a942b98-60b6-41cd-da37-37a3b6c6f6dc"
      },
      "execution_count": 1,
      "outputs": [
        {
          "output_type": "stream",
          "name": "stdout",
          "text": [
            "1\n",
            "2\n",
            "3\n",
            "4\n",
            "5\n",
            "6\n",
            "7\n",
            "8\n",
            "9\n",
            "10\n"
          ]
        }
      ]
    },
    {
      "cell_type": "markdown",
      "source": [
        "# Q.13: Write a Python program to find the sum of all even numbers between 1 and 50."
      ],
      "metadata": {
        "id": "Hrj06WuKs4Lm"
      }
    },
    {
      "cell_type": "code",
      "source": [
        "sum = 0\n",
        "for num in range(1, 51):\n",
        "    if num % 2 == 0:\n",
        "        sum += num\n",
        "print(\"The sum of even numbers between 1 and 50 is:\", sum)"
      ],
      "metadata": {
        "colab": {
          "base_uri": "https://localhost:8080/"
        },
        "id": "lQ2ewfuvtDV2",
        "outputId": "fe725a07-ca8b-4441-f646-cbd271e78f12"
      },
      "execution_count": 35,
      "outputs": [
        {
          "output_type": "stream",
          "name": "stdout",
          "text": [
            "The sum of even numbers between 1 and 50 is: 650\n"
          ]
        }
      ]
    },
    {
      "cell_type": "markdown",
      "source": [
        "# Q.14. Write a program to reverse a string using a while loop."
      ],
      "metadata": {
        "id": "TyVow0qktnCQ"
      }
    },
    {
      "cell_type": "code",
      "source": [
        "count = 5\n",
        "while count > 0:\n",
        "    print(count)\n",
        "    count = count - 1"
      ],
      "metadata": {
        "colab": {
          "base_uri": "https://localhost:8080/"
        },
        "id": "rUyE8hRGvZPX",
        "outputId": "2d7169a7-4ec2-4512-9c0a-5405d127d9a8"
      },
      "execution_count": 44,
      "outputs": [
        {
          "output_type": "stream",
          "name": "stdout",
          "text": [
            "5\n",
            "4\n",
            "3\n",
            "2\n",
            "1\n"
          ]
        }
      ]
    },
    {
      "cell_type": "markdown",
      "source": [
        "# Q.15. Write a Python program to calculate the factorial of a number provided by the user using a while loop."
      ],
      "metadata": {
        "id": "UBh5MYltyLO5"
      }
    },
    {
      "cell_type": "code",
      "source": [
        "num = int(input(\"Enter a number: \"))\n",
        "factorial = 1\n",
        "i = 1\n",
        "while i <= num:\n",
        "    factorial *= i\n",
        "    i += 1\n",
        "print(\"The factorial of\", num, \"is\", factorial)"
      ],
      "metadata": {
        "colab": {
          "base_uri": "https://localhost:8080/"
        },
        "id": "NGBoYewVyX0W",
        "outputId": "e5bf8325-9956-4e63-8188-19a0623ae707"
      },
      "execution_count": 46,
      "outputs": [
        {
          "output_type": "stream",
          "name": "stdout",
          "text": [
            "Enter a number: 3\n",
            "The factorial of 3 is 6\n"
          ]
        }
      ]
    }
  ]
}